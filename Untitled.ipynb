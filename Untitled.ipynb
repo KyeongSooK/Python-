{
 "cells": [
  {
   "cell_type": "code",
   "execution_count": 4,
   "id": "f7f5e37b",
   "metadata": {},
   "outputs": [],
   "source": [
    "from selenium import webdriver\n",
    "from selenium.webdriver.common.by import By\n",
    "import pandas as pd\n",
    "\n",
    "driver = webdriver.Chrome()\n",
    "url = 'https://teacher.i-scream.co.kr/help/afterword/list.do?searchPrgrTimeArr=&searchCrsLCodeList=&searchPrgrTimeArr=&searchCrsLCodeList=&searchPrgrTimeArr=&searchCrsLCodeList=&searchPrgrTimeArr=&searchCrsLCodeList=&searchPrgrTimeArr=&searchCrsLCodeList=&searchPrgrTimeArr=&searchCrsLCodeList=&searchPrgrTimeArr=&searchCrsLCodeList=&searchPrgrTimeArr=&searchCrsLCodeList=&searchPrgrTimeArr=&searchCrsLCodeList=&searchPrgrTimeArr=&searchCrsLCodeList=&pageIndex=1&sso=ok'\n",
    "driver.get(url)"
   ]
  },
  {
   "cell_type": "code",
   "execution_count": 6,
   "id": "bd922a3c",
   "metadata": {},
   "outputs": [
    {
     "data": {
      "text/plain": [
       "'[30차시/학습지도] 직업탐구 - 별일입니다\\n임** 선생님 2024-06-13\\n여러 가지 유망 직업에 대해 알았습니다.\\n미래를 대비할 수 있는 직업에 대해 학생들에게 많은 도움을 줄 수 있을 것 같습니다.'"
      ]
     },
     "execution_count": 6,
     "metadata": {},
     "output_type": "execute_result"
    }
   ],
   "source": [
    "x = driver.find_element(\n",
    "            By.XPATH,\n",
    "            f'//*[@id=\"content_list\"]/div[3]/ul/li[1]'\n",
    "        ).text\n",
    "x"
   ]
  },
  {
   "cell_type": "code",
   "execution_count": null,
   "id": "ed91e096",
   "metadata": {},
   "outputs": [],
   "source": []
  }
 ],
 "metadata": {
  "kernelspec": {
   "display_name": "Python 3 (ipykernel)",
   "language": "python",
   "name": "python3"
  },
  "language_info": {
   "codemirror_mode": {
    "name": "ipython",
    "version": 3
   },
   "file_extension": ".py",
   "mimetype": "text/x-python",
   "name": "python",
   "nbconvert_exporter": "python",
   "pygments_lexer": "ipython3",
   "version": "3.11.7"
  }
 },
 "nbformat": 4,
 "nbformat_minor": 5
}
