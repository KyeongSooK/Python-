{
 "cells": [
  {
   "cell_type": "markdown",
   "id": "f8be093b",
   "metadata": {},
   "source": [
    "# 파이썬 셀레니움을 이용한 네이버 지도 크롤링 프로그램 만들기 "
   ]
  },
  {
   "cell_type": "code",
   "execution_count": 95,
   "id": "89454c15",
   "metadata": {},
   "outputs": [],
   "source": [
    "from selenium import webdriver\n",
    "from selenium.webdriver.common.by import By"
   ]
  },
  {
   "cell_type": "code",
   "execution_count": 96,
   "id": "6f610551",
   "metadata": {},
   "outputs": [],
   "source": [
    "driver = webdriver.Chrome()"
   ]
  },
  {
   "cell_type": "code",
   "execution_count": 97,
   "id": "f8249625",
   "metadata": {},
   "outputs": [],
   "source": [
    "url = 'https://www.aladin.co.kr/shop/common/wbest.aspx?BranchType=1'"
   ]
  },
  {
   "cell_type": "code",
   "execution_count": 98,
   "id": "37b9825c",
   "metadata": {
    "scrolled": true
   },
   "outputs": [],
   "source": [
    "driver.get(url)"
   ]
  },
  {
   "cell_type": "code",
   "execution_count": null,
   "id": "28035a6e",
   "metadata": {},
   "outputs": [],
   "source": []
  },
  {
   "cell_type": "code",
   "execution_count": 27,
   "id": "6a602fbf",
   "metadata": {},
   "outputs": [
    {
     "ename": "NoSuchElementException",
     "evalue": "Message: no such element: Unable to locate element: {\"method\":\"xpath\",\"selector\":\"//*[@id=\"Myform\"]/div[3]/table/tbody/tr/td[3]/table/tbody/tr[1]/td[1]/div[1]/ul/li[1]/a[1]/b\"}\n  (Session info: chrome=125.0.6422.141); For documentation on this error, please visit: https://www.selenium.dev/documentation/webdriver/troubleshooting/errors#no-such-element-exception\nStacktrace:\n\tGetHandleVerifier [0x00007FF76BE61F52+60322]\n\t(No symbol) [0x00007FF76BDDCEC9]\n\t(No symbol) [0x00007FF76BC97EBA]\n\t(No symbol) [0x00007FF76BCE7676]\n\t(No symbol) [0x00007FF76BCE773C]\n\t(No symbol) [0x00007FF76BD2E967]\n\t(No symbol) [0x00007FF76BD0C25F]\n\t(No symbol) [0x00007FF76BD2BC80]\n\t(No symbol) [0x00007FF76BD0BFC3]\n\t(No symbol) [0x00007FF76BCD9617]\n\t(No symbol) [0x00007FF76BCDA211]\n\tGetHandleVerifier [0x00007FF76C1794AD+3301629]\n\tGetHandleVerifier [0x00007FF76C1C36D3+3605283]\n\tGetHandleVerifier [0x00007FF76C1B9450+3563680]\n\tGetHandleVerifier [0x00007FF76BF14326+790390]\n\t(No symbol) [0x00007FF76BDE750F]\n\t(No symbol) [0x00007FF76BDE3404]\n\t(No symbol) [0x00007FF76BDE3592]\n\t(No symbol) [0x00007FF76BDD2F9F]\n\tBaseThreadInitThunk [0x00007FF834A7257D+29]\n\tRtlUserThreadStart [0x00007FF8358CAA48+40]\n",
     "output_type": "error",
     "traceback": [
      "\u001b[1;31m---------------------------------------------------------------------------\u001b[0m",
      "\u001b[1;31mNoSuchElementException\u001b[0m                    Traceback (most recent call last)",
      "Cell \u001b[1;32mIn[27], line 2\u001b[0m\n\u001b[0;32m      1\u001b[0m \u001b[38;5;66;03m# 셀레니움을 통하여 text 를 찾는 방법 - 잘쓰이지 않는다.\u001b[39;00m\n\u001b[1;32m----> 2\u001b[0m driver\u001b[38;5;241m.\u001b[39mfind_element(\n\u001b[0;32m      3\u001b[0m     By\u001b[38;5;241m.\u001b[39mXPATH,\n\u001b[0;32m      4\u001b[0m     \u001b[38;5;124m'\u001b[39m\u001b[38;5;124m//*[@id=\u001b[39m\u001b[38;5;124m\"\u001b[39m\u001b[38;5;124mMyform\u001b[39m\u001b[38;5;124m\"\u001b[39m\u001b[38;5;124m]/div[3]/table/tbody/tr/td[3]/table/tbody/tr[1]/td[1]/div[1]/ul/li[1]/a[1]/b\u001b[39m\u001b[38;5;124m'\u001b[39m\n\u001b[0;32m      5\u001b[0m )\u001b[38;5;241m.\u001b[39mtext\n",
      "File \u001b[1;32m~\\AppData\\Roaming\\Python\\Python311\\site-packages\\selenium\\webdriver\\remote\\webdriver.py:741\u001b[0m, in \u001b[0;36mWebDriver.find_element\u001b[1;34m(self, by, value)\u001b[0m\n\u001b[0;32m    738\u001b[0m     by \u001b[38;5;241m=\u001b[39m By\u001b[38;5;241m.\u001b[39mCSS_SELECTOR\n\u001b[0;32m    739\u001b[0m     value \u001b[38;5;241m=\u001b[39m \u001b[38;5;124mf\u001b[39m\u001b[38;5;124m'\u001b[39m\u001b[38;5;124m[name=\u001b[39m\u001b[38;5;124m\"\u001b[39m\u001b[38;5;132;01m{\u001b[39;00mvalue\u001b[38;5;132;01m}\u001b[39;00m\u001b[38;5;124m\"\u001b[39m\u001b[38;5;124m]\u001b[39m\u001b[38;5;124m'\u001b[39m\n\u001b[1;32m--> 741\u001b[0m \u001b[38;5;28;01mreturn\u001b[39;00m \u001b[38;5;28mself\u001b[39m\u001b[38;5;241m.\u001b[39mexecute(Command\u001b[38;5;241m.\u001b[39mFIND_ELEMENT, {\u001b[38;5;124m\"\u001b[39m\u001b[38;5;124musing\u001b[39m\u001b[38;5;124m\"\u001b[39m: by, \u001b[38;5;124m\"\u001b[39m\u001b[38;5;124mvalue\u001b[39m\u001b[38;5;124m\"\u001b[39m: value})[\u001b[38;5;124m\"\u001b[39m\u001b[38;5;124mvalue\u001b[39m\u001b[38;5;124m\"\u001b[39m]\n",
      "File \u001b[1;32m~\\AppData\\Roaming\\Python\\Python311\\site-packages\\selenium\\webdriver\\remote\\webdriver.py:347\u001b[0m, in \u001b[0;36mWebDriver.execute\u001b[1;34m(self, driver_command, params)\u001b[0m\n\u001b[0;32m    345\u001b[0m response \u001b[38;5;241m=\u001b[39m \u001b[38;5;28mself\u001b[39m\u001b[38;5;241m.\u001b[39mcommand_executor\u001b[38;5;241m.\u001b[39mexecute(driver_command, params)\n\u001b[0;32m    346\u001b[0m \u001b[38;5;28;01mif\u001b[39;00m response:\n\u001b[1;32m--> 347\u001b[0m     \u001b[38;5;28mself\u001b[39m\u001b[38;5;241m.\u001b[39merror_handler\u001b[38;5;241m.\u001b[39mcheck_response(response)\n\u001b[0;32m    348\u001b[0m     response[\u001b[38;5;124m\"\u001b[39m\u001b[38;5;124mvalue\u001b[39m\u001b[38;5;124m\"\u001b[39m] \u001b[38;5;241m=\u001b[39m \u001b[38;5;28mself\u001b[39m\u001b[38;5;241m.\u001b[39m_unwrap_value(response\u001b[38;5;241m.\u001b[39mget(\u001b[38;5;124m\"\u001b[39m\u001b[38;5;124mvalue\u001b[39m\u001b[38;5;124m\"\u001b[39m, \u001b[38;5;28;01mNone\u001b[39;00m))\n\u001b[0;32m    349\u001b[0m     \u001b[38;5;28;01mreturn\u001b[39;00m response\n",
      "File \u001b[1;32m~\\AppData\\Roaming\\Python\\Python311\\site-packages\\selenium\\webdriver\\remote\\errorhandler.py:229\u001b[0m, in \u001b[0;36mErrorHandler.check_response\u001b[1;34m(self, response)\u001b[0m\n\u001b[0;32m    227\u001b[0m         alert_text \u001b[38;5;241m=\u001b[39m value[\u001b[38;5;124m\"\u001b[39m\u001b[38;5;124malert\u001b[39m\u001b[38;5;124m\"\u001b[39m]\u001b[38;5;241m.\u001b[39mget(\u001b[38;5;124m\"\u001b[39m\u001b[38;5;124mtext\u001b[39m\u001b[38;5;124m\"\u001b[39m)\n\u001b[0;32m    228\u001b[0m     \u001b[38;5;28;01mraise\u001b[39;00m exception_class(message, screen, stacktrace, alert_text)  \u001b[38;5;66;03m# type: ignore[call-arg]  # mypy is not smart enough here\u001b[39;00m\n\u001b[1;32m--> 229\u001b[0m \u001b[38;5;28;01mraise\u001b[39;00m exception_class(message, screen, stacktrace)\n",
      "\u001b[1;31mNoSuchElementException\u001b[0m: Message: no such element: Unable to locate element: {\"method\":\"xpath\",\"selector\":\"//*[@id=\"Myform\"]/div[3]/table/tbody/tr/td[3]/table/tbody/tr[1]/td[1]/div[1]/ul/li[1]/a[1]/b\"}\n  (Session info: chrome=125.0.6422.141); For documentation on this error, please visit: https://www.selenium.dev/documentation/webdriver/troubleshooting/errors#no-such-element-exception\nStacktrace:\n\tGetHandleVerifier [0x00007FF76BE61F52+60322]\n\t(No symbol) [0x00007FF76BDDCEC9]\n\t(No symbol) [0x00007FF76BC97EBA]\n\t(No symbol) [0x00007FF76BCE7676]\n\t(No symbol) [0x00007FF76BCE773C]\n\t(No symbol) [0x00007FF76BD2E967]\n\t(No symbol) [0x00007FF76BD0C25F]\n\t(No symbol) [0x00007FF76BD2BC80]\n\t(No symbol) [0x00007FF76BD0BFC3]\n\t(No symbol) [0x00007FF76BCD9617]\n\t(No symbol) [0x00007FF76BCDA211]\n\tGetHandleVerifier [0x00007FF76C1794AD+3301629]\n\tGetHandleVerifier [0x00007FF76C1C36D3+3605283]\n\tGetHandleVerifier [0x00007FF76C1B9450+3563680]\n\tGetHandleVerifier [0x00007FF76BF14326+790390]\n\t(No symbol) [0x00007FF76BDE750F]\n\t(No symbol) [0x00007FF76BDE3404]\n\t(No symbol) [0x00007FF76BDE3592]\n\t(No symbol) [0x00007FF76BDD2F9F]\n\tBaseThreadInitThunk [0x00007FF834A7257D+29]\n\tRtlUserThreadStart [0x00007FF8358CAA48+40]\n"
     ]
    }
   ],
   "source": [
    "# 셀레니움을 통하여 text 를 찾는 방법 - 잘쓰이지 않는다.\n",
    "driver.find_element(\n",
    "    By.XPATH,\n",
    "    '//*[@id=\"Myform\"]/div[3]/table/tbody/tr/td[3]/table/tbody/tr[1]/td[1]/div[1]/ul/li[1]/a[1]/b'\n",
    ").text"
   ]
  },
  {
   "cell_type": "code",
   "execution_count": 6,
   "id": "3eb160bf",
   "metadata": {},
   "outputs": [
    {
     "ename": "NoSuchWindowException",
     "evalue": "Message: no such window: target window already closed\nfrom unknown error: web view not found\n  (Session info: chrome=125.0.6422.141)\nStacktrace:\n\tGetHandleVerifier [0x00007FF76BE61F52+60322]\n\t(No symbol) [0x00007FF76BDDCEC9]\n\t(No symbol) [0x00007FF76BC97EBA]\n\t(No symbol) [0x00007FF76BC6D5A5]\n\t(No symbol) [0x00007FF76BD136B7]\n\t(No symbol) [0x00007FF76BD2B331]\n\t(No symbol) [0x00007FF76BD0BFC3]\n\t(No symbol) [0x00007FF76BCD9617]\n\t(No symbol) [0x00007FF76BCDA211]\n\tGetHandleVerifier [0x00007FF76C1794AD+3301629]\n\tGetHandleVerifier [0x00007FF76C1C36D3+3605283]\n\tGetHandleVerifier [0x00007FF76C1B9450+3563680]\n\tGetHandleVerifier [0x00007FF76BF14326+790390]\n\t(No symbol) [0x00007FF76BDE750F]\n\t(No symbol) [0x00007FF76BDE3404]\n\t(No symbol) [0x00007FF76BDE3592]\n\t(No symbol) [0x00007FF76BDD2F9F]\n\tBaseThreadInitThunk [0x00007FF834A7257D+29]\n\tRtlUserThreadStart [0x00007FF8358CAA48+40]\n",
     "output_type": "error",
     "traceback": [
      "\u001b[1;31m---------------------------------------------------------------------------\u001b[0m",
      "\u001b[1;31mNoSuchWindowException\u001b[0m                     Traceback (most recent call last)",
      "Cell \u001b[1;32mIn[6], line 2\u001b[0m\n\u001b[0;32m      1\u001b[0m \u001b[38;5;66;03m# 셀레니움을 통하여 text 를 찾는 방법 - 잘쓰이지 않는다.\u001b[39;00m\n\u001b[1;32m----> 2\u001b[0m driver\u001b[38;5;241m.\u001b[39mfind_element(\n\u001b[0;32m      3\u001b[0m     By\u001b[38;5;241m.\u001b[39mXPATH, \n\u001b[0;32m      4\u001b[0m     \u001b[38;5;124m'\u001b[39m\u001b[38;5;124m//*[@id=\u001b[39m\u001b[38;5;124m\"\u001b[39m\u001b[38;5;124mMyform\u001b[39m\u001b[38;5;124m\"\u001b[39m\u001b[38;5;124m]/div[4]/table/tbody/tr/td[3]/table/tbody/tr[1]/td[1]/div[1]/ul/li[1]/a[1]/b\u001b[39m\u001b[38;5;124m'\u001b[39m\n\u001b[0;32m      5\u001b[0m )\u001b[38;5;241m.\u001b[39mtext\n",
      "File \u001b[1;32m~\\AppData\\Roaming\\Python\\Python311\\site-packages\\selenium\\webdriver\\remote\\webdriver.py:741\u001b[0m, in \u001b[0;36mWebDriver.find_element\u001b[1;34m(self, by, value)\u001b[0m\n\u001b[0;32m    738\u001b[0m     by \u001b[38;5;241m=\u001b[39m By\u001b[38;5;241m.\u001b[39mCSS_SELECTOR\n\u001b[0;32m    739\u001b[0m     value \u001b[38;5;241m=\u001b[39m \u001b[38;5;124mf\u001b[39m\u001b[38;5;124m'\u001b[39m\u001b[38;5;124m[name=\u001b[39m\u001b[38;5;124m\"\u001b[39m\u001b[38;5;132;01m{\u001b[39;00mvalue\u001b[38;5;132;01m}\u001b[39;00m\u001b[38;5;124m\"\u001b[39m\u001b[38;5;124m]\u001b[39m\u001b[38;5;124m'\u001b[39m\n\u001b[1;32m--> 741\u001b[0m \u001b[38;5;28;01mreturn\u001b[39;00m \u001b[38;5;28mself\u001b[39m\u001b[38;5;241m.\u001b[39mexecute(Command\u001b[38;5;241m.\u001b[39mFIND_ELEMENT, {\u001b[38;5;124m\"\u001b[39m\u001b[38;5;124musing\u001b[39m\u001b[38;5;124m\"\u001b[39m: by, \u001b[38;5;124m\"\u001b[39m\u001b[38;5;124mvalue\u001b[39m\u001b[38;5;124m\"\u001b[39m: value})[\u001b[38;5;124m\"\u001b[39m\u001b[38;5;124mvalue\u001b[39m\u001b[38;5;124m\"\u001b[39m]\n",
      "File \u001b[1;32m~\\AppData\\Roaming\\Python\\Python311\\site-packages\\selenium\\webdriver\\remote\\webdriver.py:347\u001b[0m, in \u001b[0;36mWebDriver.execute\u001b[1;34m(self, driver_command, params)\u001b[0m\n\u001b[0;32m    345\u001b[0m response \u001b[38;5;241m=\u001b[39m \u001b[38;5;28mself\u001b[39m\u001b[38;5;241m.\u001b[39mcommand_executor\u001b[38;5;241m.\u001b[39mexecute(driver_command, params)\n\u001b[0;32m    346\u001b[0m \u001b[38;5;28;01mif\u001b[39;00m response:\n\u001b[1;32m--> 347\u001b[0m     \u001b[38;5;28mself\u001b[39m\u001b[38;5;241m.\u001b[39merror_handler\u001b[38;5;241m.\u001b[39mcheck_response(response)\n\u001b[0;32m    348\u001b[0m     response[\u001b[38;5;124m\"\u001b[39m\u001b[38;5;124mvalue\u001b[39m\u001b[38;5;124m\"\u001b[39m] \u001b[38;5;241m=\u001b[39m \u001b[38;5;28mself\u001b[39m\u001b[38;5;241m.\u001b[39m_unwrap_value(response\u001b[38;5;241m.\u001b[39mget(\u001b[38;5;124m\"\u001b[39m\u001b[38;5;124mvalue\u001b[39m\u001b[38;5;124m\"\u001b[39m, \u001b[38;5;28;01mNone\u001b[39;00m))\n\u001b[0;32m    349\u001b[0m     \u001b[38;5;28;01mreturn\u001b[39;00m response\n",
      "File \u001b[1;32m~\\AppData\\Roaming\\Python\\Python311\\site-packages\\selenium\\webdriver\\remote\\errorhandler.py:229\u001b[0m, in \u001b[0;36mErrorHandler.check_response\u001b[1;34m(self, response)\u001b[0m\n\u001b[0;32m    227\u001b[0m         alert_text \u001b[38;5;241m=\u001b[39m value[\u001b[38;5;124m\"\u001b[39m\u001b[38;5;124malert\u001b[39m\u001b[38;5;124m\"\u001b[39m]\u001b[38;5;241m.\u001b[39mget(\u001b[38;5;124m\"\u001b[39m\u001b[38;5;124mtext\u001b[39m\u001b[38;5;124m\"\u001b[39m)\n\u001b[0;32m    228\u001b[0m     \u001b[38;5;28;01mraise\u001b[39;00m exception_class(message, screen, stacktrace, alert_text)  \u001b[38;5;66;03m# type: ignore[call-arg]  # mypy is not smart enough here\u001b[39;00m\n\u001b[1;32m--> 229\u001b[0m \u001b[38;5;28;01mraise\u001b[39;00m exception_class(message, screen, stacktrace)\n",
      "\u001b[1;31mNoSuchWindowException\u001b[0m: Message: no such window: target window already closed\nfrom unknown error: web view not found\n  (Session info: chrome=125.0.6422.141)\nStacktrace:\n\tGetHandleVerifier [0x00007FF76BE61F52+60322]\n\t(No symbol) [0x00007FF76BDDCEC9]\n\t(No symbol) [0x00007FF76BC97EBA]\n\t(No symbol) [0x00007FF76BC6D5A5]\n\t(No symbol) [0x00007FF76BD136B7]\n\t(No symbol) [0x00007FF76BD2B331]\n\t(No symbol) [0x00007FF76BD0BFC3]\n\t(No symbol) [0x00007FF76BCD9617]\n\t(No symbol) [0x00007FF76BCDA211]\n\tGetHandleVerifier [0x00007FF76C1794AD+3301629]\n\tGetHandleVerifier [0x00007FF76C1C36D3+3605283]\n\tGetHandleVerifier [0x00007FF76C1B9450+3563680]\n\tGetHandleVerifier [0x00007FF76BF14326+790390]\n\t(No symbol) [0x00007FF76BDE750F]\n\t(No symbol) [0x00007FF76BDE3404]\n\t(No symbol) [0x00007FF76BDE3592]\n\t(No symbol) [0x00007FF76BDD2F9F]\n\tBaseThreadInitThunk [0x00007FF834A7257D+29]\n\tRtlUserThreadStart [0x00007FF8358CAA48+40]\n"
     ]
    }
   ],
   "source": [
    "# 셀레니움을 통하여 text 를 찾는 방법 - 잘쓰이지 않는다.\n",
    "driver.find_element(\n",
    "    By.XPATH, \n",
    "    '//*[@id=\"Myform\"]/div[4]/table/tbody/tr/td[3]/table/tbody/tr[1]/td[1]/div[1]/ul/li[1]/a[1]/b'\n",
    ").text"
   ]
  },
  {
   "cell_type": "code",
   "execution_count": 9,
   "id": "638e48c7",
   "metadata": {},
   "outputs": [
    {
     "ename": "NoSuchWindowException",
     "evalue": "Message: no such window: target window already closed\nfrom unknown error: web view not found\n  (Session info: chrome=125.0.6422.141)\nStacktrace:\n\tGetHandleVerifier [0x00007FF76BE61F52+60322]\n\t(No symbol) [0x00007FF76BDDCEC9]\n\t(No symbol) [0x00007FF76BC97EBA]\n\t(No symbol) [0x00007FF76BC6D5A5]\n\t(No symbol) [0x00007FF76BD136B7]\n\t(No symbol) [0x00007FF76BD2B331]\n\t(No symbol) [0x00007FF76BD0BFC3]\n\t(No symbol) [0x00007FF76BCD9617]\n\t(No symbol) [0x00007FF76BCDA211]\n\tGetHandleVerifier [0x00007FF76C1794AD+3301629]\n\tGetHandleVerifier [0x00007FF76C1C36D3+3605283]\n\tGetHandleVerifier [0x00007FF76C1B9450+3563680]\n\tGetHandleVerifier [0x00007FF76BF14326+790390]\n\t(No symbol) [0x00007FF76BDE750F]\n\t(No symbol) [0x00007FF76BDE3404]\n\t(No symbol) [0x00007FF76BDE3592]\n\t(No symbol) [0x00007FF76BDD2F9F]\n\tBaseThreadInitThunk [0x00007FF834A7257D+29]\n\tRtlUserThreadStart [0x00007FF8358CAA48+40]\n",
     "output_type": "error",
     "traceback": [
      "\u001b[1;31m---------------------------------------------------------------------------\u001b[0m",
      "\u001b[1;31mNoSuchWindowException\u001b[0m                     Traceback (most recent call last)",
      "Cell \u001b[1;32mIn[9], line 2\u001b[0m\n\u001b[0;32m      1\u001b[0m \u001b[38;5;66;03m# 셀레니움을 통하여 text 를 찾는 방법 - 잘쓰이지 않는다.\u001b[39;00m\n\u001b[1;32m----> 2\u001b[0m driver\u001b[38;5;241m.\u001b[39mfind_element(\n\u001b[0;32m      3\u001b[0m     By\u001b[38;5;241m.\u001b[39mXPATH, \n\u001b[0;32m      4\u001b[0m     \u001b[38;5;124m'\u001b[39m\u001b[38;5;124m//*[@id=\u001b[39m\u001b[38;5;124m\"\u001b[39m\u001b[38;5;124mMyform\u001b[39m\u001b[38;5;124m\"\u001b[39m\u001b[38;5;124m]/div[5]/table/tbody/tr/td[3]/table/tbody/tr[1]/td[1]/div[1]/ul/li[2]/a[1]/b\u001b[39m\u001b[38;5;124m'\u001b[39m\n\u001b[0;32m      5\u001b[0m )\u001b[38;5;241m.\u001b[39mtext\n",
      "File \u001b[1;32m~\\AppData\\Roaming\\Python\\Python311\\site-packages\\selenium\\webdriver\\remote\\webdriver.py:741\u001b[0m, in \u001b[0;36mWebDriver.find_element\u001b[1;34m(self, by, value)\u001b[0m\n\u001b[0;32m    738\u001b[0m     by \u001b[38;5;241m=\u001b[39m By\u001b[38;5;241m.\u001b[39mCSS_SELECTOR\n\u001b[0;32m    739\u001b[0m     value \u001b[38;5;241m=\u001b[39m \u001b[38;5;124mf\u001b[39m\u001b[38;5;124m'\u001b[39m\u001b[38;5;124m[name=\u001b[39m\u001b[38;5;124m\"\u001b[39m\u001b[38;5;132;01m{\u001b[39;00mvalue\u001b[38;5;132;01m}\u001b[39;00m\u001b[38;5;124m\"\u001b[39m\u001b[38;5;124m]\u001b[39m\u001b[38;5;124m'\u001b[39m\n\u001b[1;32m--> 741\u001b[0m \u001b[38;5;28;01mreturn\u001b[39;00m \u001b[38;5;28mself\u001b[39m\u001b[38;5;241m.\u001b[39mexecute(Command\u001b[38;5;241m.\u001b[39mFIND_ELEMENT, {\u001b[38;5;124m\"\u001b[39m\u001b[38;5;124musing\u001b[39m\u001b[38;5;124m\"\u001b[39m: by, \u001b[38;5;124m\"\u001b[39m\u001b[38;5;124mvalue\u001b[39m\u001b[38;5;124m\"\u001b[39m: value})[\u001b[38;5;124m\"\u001b[39m\u001b[38;5;124mvalue\u001b[39m\u001b[38;5;124m\"\u001b[39m]\n",
      "File \u001b[1;32m~\\AppData\\Roaming\\Python\\Python311\\site-packages\\selenium\\webdriver\\remote\\webdriver.py:347\u001b[0m, in \u001b[0;36mWebDriver.execute\u001b[1;34m(self, driver_command, params)\u001b[0m\n\u001b[0;32m    345\u001b[0m response \u001b[38;5;241m=\u001b[39m \u001b[38;5;28mself\u001b[39m\u001b[38;5;241m.\u001b[39mcommand_executor\u001b[38;5;241m.\u001b[39mexecute(driver_command, params)\n\u001b[0;32m    346\u001b[0m \u001b[38;5;28;01mif\u001b[39;00m response:\n\u001b[1;32m--> 347\u001b[0m     \u001b[38;5;28mself\u001b[39m\u001b[38;5;241m.\u001b[39merror_handler\u001b[38;5;241m.\u001b[39mcheck_response(response)\n\u001b[0;32m    348\u001b[0m     response[\u001b[38;5;124m\"\u001b[39m\u001b[38;5;124mvalue\u001b[39m\u001b[38;5;124m\"\u001b[39m] \u001b[38;5;241m=\u001b[39m \u001b[38;5;28mself\u001b[39m\u001b[38;5;241m.\u001b[39m_unwrap_value(response\u001b[38;5;241m.\u001b[39mget(\u001b[38;5;124m\"\u001b[39m\u001b[38;5;124mvalue\u001b[39m\u001b[38;5;124m\"\u001b[39m, \u001b[38;5;28;01mNone\u001b[39;00m))\n\u001b[0;32m    349\u001b[0m     \u001b[38;5;28;01mreturn\u001b[39;00m response\n",
      "File \u001b[1;32m~\\AppData\\Roaming\\Python\\Python311\\site-packages\\selenium\\webdriver\\remote\\errorhandler.py:229\u001b[0m, in \u001b[0;36mErrorHandler.check_response\u001b[1;34m(self, response)\u001b[0m\n\u001b[0;32m    227\u001b[0m         alert_text \u001b[38;5;241m=\u001b[39m value[\u001b[38;5;124m\"\u001b[39m\u001b[38;5;124malert\u001b[39m\u001b[38;5;124m\"\u001b[39m]\u001b[38;5;241m.\u001b[39mget(\u001b[38;5;124m\"\u001b[39m\u001b[38;5;124mtext\u001b[39m\u001b[38;5;124m\"\u001b[39m)\n\u001b[0;32m    228\u001b[0m     \u001b[38;5;28;01mraise\u001b[39;00m exception_class(message, screen, stacktrace, alert_text)  \u001b[38;5;66;03m# type: ignore[call-arg]  # mypy is not smart enough here\u001b[39;00m\n\u001b[1;32m--> 229\u001b[0m \u001b[38;5;28;01mraise\u001b[39;00m exception_class(message, screen, stacktrace)\n",
      "\u001b[1;31mNoSuchWindowException\u001b[0m: Message: no such window: target window already closed\nfrom unknown error: web view not found\n  (Session info: chrome=125.0.6422.141)\nStacktrace:\n\tGetHandleVerifier [0x00007FF76BE61F52+60322]\n\t(No symbol) [0x00007FF76BDDCEC9]\n\t(No symbol) [0x00007FF76BC97EBA]\n\t(No symbol) [0x00007FF76BC6D5A5]\n\t(No symbol) [0x00007FF76BD136B7]\n\t(No symbol) [0x00007FF76BD2B331]\n\t(No symbol) [0x00007FF76BD0BFC3]\n\t(No symbol) [0x00007FF76BCD9617]\n\t(No symbol) [0x00007FF76BCDA211]\n\tGetHandleVerifier [0x00007FF76C1794AD+3301629]\n\tGetHandleVerifier [0x00007FF76C1C36D3+3605283]\n\tGetHandleVerifier [0x00007FF76C1B9450+3563680]\n\tGetHandleVerifier [0x00007FF76BF14326+790390]\n\t(No symbol) [0x00007FF76BDE750F]\n\t(No symbol) [0x00007FF76BDE3404]\n\t(No symbol) [0x00007FF76BDE3592]\n\t(No symbol) [0x00007FF76BDD2F9F]\n\tBaseThreadInitThunk [0x00007FF834A7257D+29]\n\tRtlUserThreadStart [0x00007FF8358CAA48+40]\n"
     ]
    }
   ],
   "source": [
    "# 셀레니움을 통하여 text 를 찾는 방법 - 잘쓰이지 않는다.\n",
    "driver.find_element(\n",
    "    By.XPATH, \n",
    "    '//*[@id=\"Myform\"]/div[5]/table/tbody/tr/td[3]/table/tbody/tr[1]/td[1]/div[1]/ul/li[2]/a[1]/b'\n",
    ").text"
   ]
  },
  {
   "cell_type": "code",
   "execution_count": 10,
   "id": "2b147eb6",
   "metadata": {},
   "outputs": [
    {
     "ename": "NoSuchWindowException",
     "evalue": "Message: no such window: target window already closed\nfrom unknown error: web view not found\n  (Session info: chrome=125.0.6422.141)\nStacktrace:\n\tGetHandleVerifier [0x00007FF76BE61F52+60322]\n\t(No symbol) [0x00007FF76BDDCEC9]\n\t(No symbol) [0x00007FF76BC97EBA]\n\t(No symbol) [0x00007FF76BC6D5A5]\n\t(No symbol) [0x00007FF76BD136B7]\n\t(No symbol) [0x00007FF76BD2B331]\n\t(No symbol) [0x00007FF76BD0BFC3]\n\t(No symbol) [0x00007FF76BCD9617]\n\t(No symbol) [0x00007FF76BCDA211]\n\tGetHandleVerifier [0x00007FF76C1794AD+3301629]\n\tGetHandleVerifier [0x00007FF76C1C36D3+3605283]\n\tGetHandleVerifier [0x00007FF76C1B9450+3563680]\n\tGetHandleVerifier [0x00007FF76BF14326+790390]\n\t(No symbol) [0x00007FF76BDE750F]\n\t(No symbol) [0x00007FF76BDE3404]\n\t(No symbol) [0x00007FF76BDE3592]\n\t(No symbol) [0x00007FF76BDD2F9F]\n\tBaseThreadInitThunk [0x00007FF834A7257D+29]\n\tRtlUserThreadStart [0x00007FF8358CAA48+40]\n",
     "output_type": "error",
     "traceback": [
      "\u001b[1;31m---------------------------------------------------------------------------\u001b[0m",
      "\u001b[1;31mNoSuchWindowException\u001b[0m                     Traceback (most recent call last)",
      "Cell \u001b[1;32mIn[10], line 3\u001b[0m\n\u001b[0;32m      2\u001b[0m \u001b[38;5;28;01mtry\u001b[39;00m:\n\u001b[1;32m----> 3\u001b[0m     x \u001b[38;5;241m=\u001b[39m driver\u001b[38;5;241m.\u001b[39mfind_element(\n\u001b[0;32m      4\u001b[0m         By\u001b[38;5;241m.\u001b[39mXPATH, \n\u001b[0;32m      5\u001b[0m         \u001b[38;5;124mf\u001b[39m\u001b[38;5;124m'\u001b[39m\u001b[38;5;124m//*[@id=\u001b[39m\u001b[38;5;124m\"\u001b[39m\u001b[38;5;124mMyform\u001b[39m\u001b[38;5;124m\"\u001b[39m\u001b[38;5;124m]/div[4]/table/tbody/tr/td[3]/table/tbody/tr[1]/td[1]/div[1]/ul/li[1]/a[1]/\u001b[39m\u001b[38;5;124m'\u001b[39m\n\u001b[0;32m      6\u001b[0m     )\u001b[38;5;241m.\u001b[39mtext\n\u001b[0;32m      7\u001b[0m \u001b[38;5;28;01mexcept\u001b[39;00m:\n",
      "File \u001b[1;32m~\\AppData\\Roaming\\Python\\Python311\\site-packages\\selenium\\webdriver\\remote\\webdriver.py:741\u001b[0m, in \u001b[0;36mWebDriver.find_element\u001b[1;34m(self, by, value)\u001b[0m\n\u001b[0;32m    739\u001b[0m     value \u001b[38;5;241m=\u001b[39m \u001b[38;5;124mf\u001b[39m\u001b[38;5;124m'\u001b[39m\u001b[38;5;124m[name=\u001b[39m\u001b[38;5;124m\"\u001b[39m\u001b[38;5;132;01m{\u001b[39;00mvalue\u001b[38;5;132;01m}\u001b[39;00m\u001b[38;5;124m\"\u001b[39m\u001b[38;5;124m]\u001b[39m\u001b[38;5;124m'\u001b[39m\n\u001b[1;32m--> 741\u001b[0m \u001b[38;5;28;01mreturn\u001b[39;00m \u001b[38;5;28mself\u001b[39m\u001b[38;5;241m.\u001b[39mexecute(Command\u001b[38;5;241m.\u001b[39mFIND_ELEMENT, {\u001b[38;5;124m\"\u001b[39m\u001b[38;5;124musing\u001b[39m\u001b[38;5;124m\"\u001b[39m: by, \u001b[38;5;124m\"\u001b[39m\u001b[38;5;124mvalue\u001b[39m\u001b[38;5;124m\"\u001b[39m: value})[\u001b[38;5;124m\"\u001b[39m\u001b[38;5;124mvalue\u001b[39m\u001b[38;5;124m\"\u001b[39m]\n",
      "File \u001b[1;32m~\\AppData\\Roaming\\Python\\Python311\\site-packages\\selenium\\webdriver\\remote\\webdriver.py:347\u001b[0m, in \u001b[0;36mWebDriver.execute\u001b[1;34m(self, driver_command, params)\u001b[0m\n\u001b[0;32m    346\u001b[0m \u001b[38;5;28;01mif\u001b[39;00m response:\n\u001b[1;32m--> 347\u001b[0m     \u001b[38;5;28mself\u001b[39m\u001b[38;5;241m.\u001b[39merror_handler\u001b[38;5;241m.\u001b[39mcheck_response(response)\n\u001b[0;32m    348\u001b[0m     response[\u001b[38;5;124m\"\u001b[39m\u001b[38;5;124mvalue\u001b[39m\u001b[38;5;124m\"\u001b[39m] \u001b[38;5;241m=\u001b[39m \u001b[38;5;28mself\u001b[39m\u001b[38;5;241m.\u001b[39m_unwrap_value(response\u001b[38;5;241m.\u001b[39mget(\u001b[38;5;124m\"\u001b[39m\u001b[38;5;124mvalue\u001b[39m\u001b[38;5;124m\"\u001b[39m, \u001b[38;5;28;01mNone\u001b[39;00m))\n",
      "File \u001b[1;32m~\\AppData\\Roaming\\Python\\Python311\\site-packages\\selenium\\webdriver\\remote\\errorhandler.py:229\u001b[0m, in \u001b[0;36mErrorHandler.check_response\u001b[1;34m(self, response)\u001b[0m\n\u001b[0;32m    228\u001b[0m     \u001b[38;5;28;01mraise\u001b[39;00m exception_class(message, screen, stacktrace, alert_text)  \u001b[38;5;66;03m# type: ignore[call-arg]  # mypy is not smart enough here\u001b[39;00m\n\u001b[1;32m--> 229\u001b[0m \u001b[38;5;28;01mraise\u001b[39;00m exception_class(message, screen, stacktrace)\n",
      "\u001b[1;31mNoSuchWindowException\u001b[0m: Message: no such window: target window already closed\nfrom unknown error: web view not found\n  (Session info: chrome=125.0.6422.141)\nStacktrace:\n\tGetHandleVerifier [0x00007FF76BE61F52+60322]\n\t(No symbol) [0x00007FF76BDDCEC9]\n\t(No symbol) [0x00007FF76BC97EBA]\n\t(No symbol) [0x00007FF76BC6D5A5]\n\t(No symbol) [0x00007FF76BD136B7]\n\t(No symbol) [0x00007FF76BD2B331]\n\t(No symbol) [0x00007FF76BD0BFC3]\n\t(No symbol) [0x00007FF76BCD9617]\n\t(No symbol) [0x00007FF76BCDA211]\n\tGetHandleVerifier [0x00007FF76C1794AD+3301629]\n\tGetHandleVerifier [0x00007FF76C1C36D3+3605283]\n\tGetHandleVerifier [0x00007FF76C1B9450+3563680]\n\tGetHandleVerifier [0x00007FF76BF14326+790390]\n\t(No symbol) [0x00007FF76BDE750F]\n\t(No symbol) [0x00007FF76BDE3404]\n\t(No symbol) [0x00007FF76BDE3592]\n\t(No symbol) [0x00007FF76BDD2F9F]\n\tBaseThreadInitThunk [0x00007FF834A7257D+29]\n\tRtlUserThreadStart [0x00007FF8358CAA48+40]\n",
      "\nDuring handling of the above exception, another exception occurred:\n",
      "\u001b[1;31mNoSuchWindowException\u001b[0m                     Traceback (most recent call last)",
      "Cell \u001b[1;32mIn[10], line 8\u001b[0m\n\u001b[0;32m      3\u001b[0m     x \u001b[38;5;241m=\u001b[39m driver\u001b[38;5;241m.\u001b[39mfind_element(\n\u001b[0;32m      4\u001b[0m         By\u001b[38;5;241m.\u001b[39mXPATH, \n\u001b[0;32m      5\u001b[0m         \u001b[38;5;124mf\u001b[39m\u001b[38;5;124m'\u001b[39m\u001b[38;5;124m//*[@id=\u001b[39m\u001b[38;5;124m\"\u001b[39m\u001b[38;5;124mMyform\u001b[39m\u001b[38;5;124m\"\u001b[39m\u001b[38;5;124m]/div[4]/table/tbody/tr/td[3]/table/tbody/tr[1]/td[1]/div[1]/ul/li[1]/a[1]/\u001b[39m\u001b[38;5;124m'\u001b[39m\n\u001b[0;32m      6\u001b[0m     )\u001b[38;5;241m.\u001b[39mtext\n\u001b[0;32m      7\u001b[0m \u001b[38;5;28;01mexcept\u001b[39;00m:\n\u001b[1;32m----> 8\u001b[0m     x \u001b[38;5;241m=\u001b[39m driver\u001b[38;5;241m.\u001b[39mfind_element(\n\u001b[0;32m      9\u001b[0m         By\u001b[38;5;241m.\u001b[39mXPATH, \n\u001b[0;32m     10\u001b[0m         \u001b[38;5;124mf\u001b[39m\u001b[38;5;124m'\u001b[39m\u001b[38;5;124m//*[@id=\u001b[39m\u001b[38;5;124m\"\u001b[39m\u001b[38;5;124mMyform\u001b[39m\u001b[38;5;124m\"\u001b[39m\u001b[38;5;124m]/div[6]/table/tbody/tr/td[3]/table/tbody/tr[1]/td[1]/div[1]/ul/li[1]/a[1]/b\u001b[39m\u001b[38;5;124m'\u001b[39m\n\u001b[0;32m     11\u001b[0m     )\u001b[38;5;241m.\u001b[39mtext\n\u001b[0;32m     12\u001b[0m x\n",
      "File \u001b[1;32m~\\AppData\\Roaming\\Python\\Python311\\site-packages\\selenium\\webdriver\\remote\\webdriver.py:741\u001b[0m, in \u001b[0;36mWebDriver.find_element\u001b[1;34m(self, by, value)\u001b[0m\n\u001b[0;32m    738\u001b[0m     by \u001b[38;5;241m=\u001b[39m By\u001b[38;5;241m.\u001b[39mCSS_SELECTOR\n\u001b[0;32m    739\u001b[0m     value \u001b[38;5;241m=\u001b[39m \u001b[38;5;124mf\u001b[39m\u001b[38;5;124m'\u001b[39m\u001b[38;5;124m[name=\u001b[39m\u001b[38;5;124m\"\u001b[39m\u001b[38;5;132;01m{\u001b[39;00mvalue\u001b[38;5;132;01m}\u001b[39;00m\u001b[38;5;124m\"\u001b[39m\u001b[38;5;124m]\u001b[39m\u001b[38;5;124m'\u001b[39m\n\u001b[1;32m--> 741\u001b[0m \u001b[38;5;28;01mreturn\u001b[39;00m \u001b[38;5;28mself\u001b[39m\u001b[38;5;241m.\u001b[39mexecute(Command\u001b[38;5;241m.\u001b[39mFIND_ELEMENT, {\u001b[38;5;124m\"\u001b[39m\u001b[38;5;124musing\u001b[39m\u001b[38;5;124m\"\u001b[39m: by, \u001b[38;5;124m\"\u001b[39m\u001b[38;5;124mvalue\u001b[39m\u001b[38;5;124m\"\u001b[39m: value})[\u001b[38;5;124m\"\u001b[39m\u001b[38;5;124mvalue\u001b[39m\u001b[38;5;124m\"\u001b[39m]\n",
      "File \u001b[1;32m~\\AppData\\Roaming\\Python\\Python311\\site-packages\\selenium\\webdriver\\remote\\webdriver.py:347\u001b[0m, in \u001b[0;36mWebDriver.execute\u001b[1;34m(self, driver_command, params)\u001b[0m\n\u001b[0;32m    345\u001b[0m response \u001b[38;5;241m=\u001b[39m \u001b[38;5;28mself\u001b[39m\u001b[38;5;241m.\u001b[39mcommand_executor\u001b[38;5;241m.\u001b[39mexecute(driver_command, params)\n\u001b[0;32m    346\u001b[0m \u001b[38;5;28;01mif\u001b[39;00m response:\n\u001b[1;32m--> 347\u001b[0m     \u001b[38;5;28mself\u001b[39m\u001b[38;5;241m.\u001b[39merror_handler\u001b[38;5;241m.\u001b[39mcheck_response(response)\n\u001b[0;32m    348\u001b[0m     response[\u001b[38;5;124m\"\u001b[39m\u001b[38;5;124mvalue\u001b[39m\u001b[38;5;124m\"\u001b[39m] \u001b[38;5;241m=\u001b[39m \u001b[38;5;28mself\u001b[39m\u001b[38;5;241m.\u001b[39m_unwrap_value(response\u001b[38;5;241m.\u001b[39mget(\u001b[38;5;124m\"\u001b[39m\u001b[38;5;124mvalue\u001b[39m\u001b[38;5;124m\"\u001b[39m, \u001b[38;5;28;01mNone\u001b[39;00m))\n\u001b[0;32m    349\u001b[0m     \u001b[38;5;28;01mreturn\u001b[39;00m response\n",
      "File \u001b[1;32m~\\AppData\\Roaming\\Python\\Python311\\site-packages\\selenium\\webdriver\\remote\\errorhandler.py:229\u001b[0m, in \u001b[0;36mErrorHandler.check_response\u001b[1;34m(self, response)\u001b[0m\n\u001b[0;32m    227\u001b[0m         alert_text \u001b[38;5;241m=\u001b[39m value[\u001b[38;5;124m\"\u001b[39m\u001b[38;5;124malert\u001b[39m\u001b[38;5;124m\"\u001b[39m]\u001b[38;5;241m.\u001b[39mget(\u001b[38;5;124m\"\u001b[39m\u001b[38;5;124mtext\u001b[39m\u001b[38;5;124m\"\u001b[39m)\n\u001b[0;32m    228\u001b[0m     \u001b[38;5;28;01mraise\u001b[39;00m exception_class(message, screen, stacktrace, alert_text)  \u001b[38;5;66;03m# type: ignore[call-arg]  # mypy is not smart enough here\u001b[39;00m\n\u001b[1;32m--> 229\u001b[0m \u001b[38;5;28;01mraise\u001b[39;00m exception_class(message, screen, stacktrace)\n",
      "\u001b[1;31mNoSuchWindowException\u001b[0m: Message: no such window: target window already closed\nfrom unknown error: web view not found\n  (Session info: chrome=125.0.6422.141)\nStacktrace:\n\tGetHandleVerifier [0x00007FF76BE61F52+60322]\n\t(No symbol) [0x00007FF76BDDCEC9]\n\t(No symbol) [0x00007FF76BC97EBA]\n\t(No symbol) [0x00007FF76BC6D5A5]\n\t(No symbol) [0x00007FF76BD136B7]\n\t(No symbol) [0x00007FF76BD2B331]\n\t(No symbol) [0x00007FF76BD0BFC3]\n\t(No symbol) [0x00007FF76BCD9617]\n\t(No symbol) [0x00007FF76BCDA211]\n\tGetHandleVerifier [0x00007FF76C1794AD+3301629]\n\tGetHandleVerifier [0x00007FF76C1C36D3+3605283]\n\tGetHandleVerifier [0x00007FF76C1B9450+3563680]\n\tGetHandleVerifier [0x00007FF76BF14326+790390]\n\t(No symbol) [0x00007FF76BDE750F]\n\t(No symbol) [0x00007FF76BDE3404]\n\t(No symbol) [0x00007FF76BDE3592]\n\t(No symbol) [0x00007FF76BDD2F9F]\n\tBaseThreadInitThunk [0x00007FF834A7257D+29]\n\tRtlUserThreadStart [0x00007FF8358CAA48+40]\n"
     ]
    }
   ],
   "source": [
    "# NO SEEACH ERROR 일 경우 try~except code 사용.\n",
    "try:\n",
    "    x = driver.find_element(\n",
    "        By.XPATH, \n",
    "        f'//*[@id=\"Myform\"]/div[4]/table/tbody/tr/td[3]/table/tbody/tr[1]/td[1]/div[1]/ul/li[1]/a[1]/'\n",
    "    ).text\n",
    "except:\n",
    "    x = driver.find_element(\n",
    "        By.XPATH, \n",
    "        f'//*[@id=\"Myform\"]/div[6]/table/tbody/tr/td[3]/table/tbody/tr[1]/td[1]/div[1]/ul/li[1]/a[1]/b'\n",
    "    ).text\n",
    "x"
   ]
  },
  {
   "cell_type": "code",
   "execution_count": 11,
   "id": "18364362",
   "metadata": {},
   "outputs": [],
   "source": [
    "# displayed 함수 확인 해봐야됨\n",
    "\n",
    "# driver.find_element(\n",
    "#     By.XPATH, \n",
    "#     '//*[@id=\"Myform\"]/div[6]/table/tbody/tr/td[3]/table/tbody/tr[1]/td[1]/div[1]/ul/li[1]/a[1]/b'\n",
    "# ).text.displayed()"
   ]
  },
  {
   "cell_type": "code",
   "execution_count": 12,
   "id": "b9d16777",
   "metadata": {},
   "outputs": [
    {
     "ename": "NoSuchWindowException",
     "evalue": "Message: no such window: target window already closed\nfrom unknown error: web view not found\n  (Session info: chrome=125.0.6422.141)\nStacktrace:\n\tGetHandleVerifier [0x00007FF76BE61F52+60322]\n\t(No symbol) [0x00007FF76BDDCEC9]\n\t(No symbol) [0x00007FF76BC97EBA]\n\t(No symbol) [0x00007FF76BC6D5A5]\n\t(No symbol) [0x00007FF76BD136B7]\n\t(No symbol) [0x00007FF76BD2B331]\n\t(No symbol) [0x00007FF76BD0BFC3]\n\t(No symbol) [0x00007FF76BCD9617]\n\t(No symbol) [0x00007FF76BCDA211]\n\tGetHandleVerifier [0x00007FF76C1794AD+3301629]\n\tGetHandleVerifier [0x00007FF76C1C36D3+3605283]\n\tGetHandleVerifier [0x00007FF76C1B9450+3563680]\n\tGetHandleVerifier [0x00007FF76BF14326+790390]\n\t(No symbol) [0x00007FF76BDE750F]\n\t(No symbol) [0x00007FF76BDE3404]\n\t(No symbol) [0x00007FF76BDE3592]\n\t(No symbol) [0x00007FF76BDD2F9F]\n\tBaseThreadInitThunk [0x00007FF834A7257D+29]\n\tRtlUserThreadStart [0x00007FF8358CAA48+40]\n",
     "output_type": "error",
     "traceback": [
      "\u001b[1;31m---------------------------------------------------------------------------\u001b[0m",
      "\u001b[1;31mNoSuchWindowException\u001b[0m                     Traceback (most recent call last)",
      "Cell \u001b[1;32mIn[12], line 8\u001b[0m\n\u001b[0;32m      7\u001b[0m \u001b[38;5;28;01mtry\u001b[39;00m:\n\u001b[1;32m----> 8\u001b[0m     x \u001b[38;5;241m=\u001b[39m driver\u001b[38;5;241m.\u001b[39mfind_element(\n\u001b[0;32m      9\u001b[0m         By\u001b[38;5;241m.\u001b[39mXPATH, \n\u001b[0;32m     10\u001b[0m         \u001b[38;5;124mf\u001b[39m\u001b[38;5;124m'\u001b[39m\u001b[38;5;124m//*[@id=\u001b[39m\u001b[38;5;124m\"\u001b[39m\u001b[38;5;124mMyform\u001b[39m\u001b[38;5;124m\"\u001b[39m\u001b[38;5;124m]/div[\u001b[39m\u001b[38;5;132;01m{\u001b[39;00mbook_num\u001b[38;5;132;01m}\u001b[39;00m\u001b[38;5;124m]/table/tbody/tr/td[3]/table/tbody/tr[1]/td[1]/div[1]/ul/li[1]/a[1]/b\u001b[39m\u001b[38;5;124m'\u001b[39m\n\u001b[0;32m     11\u001b[0m     )\u001b[38;5;241m.\u001b[39mtext\n\u001b[0;32m     12\u001b[0m \u001b[38;5;28;01mexcept\u001b[39;00m:\n",
      "File \u001b[1;32m~\\AppData\\Roaming\\Python\\Python311\\site-packages\\selenium\\webdriver\\remote\\webdriver.py:741\u001b[0m, in \u001b[0;36mWebDriver.find_element\u001b[1;34m(self, by, value)\u001b[0m\n\u001b[0;32m    739\u001b[0m     value \u001b[38;5;241m=\u001b[39m \u001b[38;5;124mf\u001b[39m\u001b[38;5;124m'\u001b[39m\u001b[38;5;124m[name=\u001b[39m\u001b[38;5;124m\"\u001b[39m\u001b[38;5;132;01m{\u001b[39;00mvalue\u001b[38;5;132;01m}\u001b[39;00m\u001b[38;5;124m\"\u001b[39m\u001b[38;5;124m]\u001b[39m\u001b[38;5;124m'\u001b[39m\n\u001b[1;32m--> 741\u001b[0m \u001b[38;5;28;01mreturn\u001b[39;00m \u001b[38;5;28mself\u001b[39m\u001b[38;5;241m.\u001b[39mexecute(Command\u001b[38;5;241m.\u001b[39mFIND_ELEMENT, {\u001b[38;5;124m\"\u001b[39m\u001b[38;5;124musing\u001b[39m\u001b[38;5;124m\"\u001b[39m: by, \u001b[38;5;124m\"\u001b[39m\u001b[38;5;124mvalue\u001b[39m\u001b[38;5;124m\"\u001b[39m: value})[\u001b[38;5;124m\"\u001b[39m\u001b[38;5;124mvalue\u001b[39m\u001b[38;5;124m\"\u001b[39m]\n",
      "File \u001b[1;32m~\\AppData\\Roaming\\Python\\Python311\\site-packages\\selenium\\webdriver\\remote\\webdriver.py:347\u001b[0m, in \u001b[0;36mWebDriver.execute\u001b[1;34m(self, driver_command, params)\u001b[0m\n\u001b[0;32m    346\u001b[0m \u001b[38;5;28;01mif\u001b[39;00m response:\n\u001b[1;32m--> 347\u001b[0m     \u001b[38;5;28mself\u001b[39m\u001b[38;5;241m.\u001b[39merror_handler\u001b[38;5;241m.\u001b[39mcheck_response(response)\n\u001b[0;32m    348\u001b[0m     response[\u001b[38;5;124m\"\u001b[39m\u001b[38;5;124mvalue\u001b[39m\u001b[38;5;124m\"\u001b[39m] \u001b[38;5;241m=\u001b[39m \u001b[38;5;28mself\u001b[39m\u001b[38;5;241m.\u001b[39m_unwrap_value(response\u001b[38;5;241m.\u001b[39mget(\u001b[38;5;124m\"\u001b[39m\u001b[38;5;124mvalue\u001b[39m\u001b[38;5;124m\"\u001b[39m, \u001b[38;5;28;01mNone\u001b[39;00m))\n",
      "File \u001b[1;32m~\\AppData\\Roaming\\Python\\Python311\\site-packages\\selenium\\webdriver\\remote\\errorhandler.py:229\u001b[0m, in \u001b[0;36mErrorHandler.check_response\u001b[1;34m(self, response)\u001b[0m\n\u001b[0;32m    228\u001b[0m     \u001b[38;5;28;01mraise\u001b[39;00m exception_class(message, screen, stacktrace, alert_text)  \u001b[38;5;66;03m# type: ignore[call-arg]  # mypy is not smart enough here\u001b[39;00m\n\u001b[1;32m--> 229\u001b[0m \u001b[38;5;28;01mraise\u001b[39;00m exception_class(message, screen, stacktrace)\n",
      "\u001b[1;31mNoSuchWindowException\u001b[0m: Message: no such window: target window already closed\nfrom unknown error: web view not found\n  (Session info: chrome=125.0.6422.141)\nStacktrace:\n\tGetHandleVerifier [0x00007FF76BE61F52+60322]\n\t(No symbol) [0x00007FF76BDDCEC9]\n\t(No symbol) [0x00007FF76BC97EBA]\n\t(No symbol) [0x00007FF76BC6D5A5]\n\t(No symbol) [0x00007FF76BD136B7]\n\t(No symbol) [0x00007FF76BD2B331]\n\t(No symbol) [0x00007FF76BD0BFC3]\n\t(No symbol) [0x00007FF76BCD9617]\n\t(No symbol) [0x00007FF76BCDA211]\n\tGetHandleVerifier [0x00007FF76C1794AD+3301629]\n\tGetHandleVerifier [0x00007FF76C1C36D3+3605283]\n\tGetHandleVerifier [0x00007FF76C1B9450+3563680]\n\tGetHandleVerifier [0x00007FF76BF14326+790390]\n\t(No symbol) [0x00007FF76BDE750F]\n\t(No symbol) [0x00007FF76BDE3404]\n\t(No symbol) [0x00007FF76BDE3592]\n\t(No symbol) [0x00007FF76BDD2F9F]\n\tBaseThreadInitThunk [0x00007FF834A7257D+29]\n\tRtlUserThreadStart [0x00007FF8358CAA48+40]\n",
      "\nDuring handling of the above exception, another exception occurred:\n",
      "\u001b[1;31mNoSuchWindowException\u001b[0m                     Traceback (most recent call last)",
      "Cell \u001b[1;32mIn[12], line 13\u001b[0m\n\u001b[0;32m      8\u001b[0m     x \u001b[38;5;241m=\u001b[39m driver\u001b[38;5;241m.\u001b[39mfind_element(\n\u001b[0;32m      9\u001b[0m         By\u001b[38;5;241m.\u001b[39mXPATH, \n\u001b[0;32m     10\u001b[0m         \u001b[38;5;124mf\u001b[39m\u001b[38;5;124m'\u001b[39m\u001b[38;5;124m//*[@id=\u001b[39m\u001b[38;5;124m\"\u001b[39m\u001b[38;5;124mMyform\u001b[39m\u001b[38;5;124m\"\u001b[39m\u001b[38;5;124m]/div[\u001b[39m\u001b[38;5;132;01m{\u001b[39;00mbook_num\u001b[38;5;132;01m}\u001b[39;00m\u001b[38;5;124m]/table/tbody/tr/td[3]/table/tbody/tr[1]/td[1]/div[1]/ul/li[1]/a[1]/b\u001b[39m\u001b[38;5;124m'\u001b[39m\n\u001b[0;32m     11\u001b[0m     )\u001b[38;5;241m.\u001b[39mtext\n\u001b[0;32m     12\u001b[0m \u001b[38;5;28;01mexcept\u001b[39;00m:\n\u001b[1;32m---> 13\u001b[0m     x \u001b[38;5;241m=\u001b[39m driver\u001b[38;5;241m.\u001b[39mfind_element(\n\u001b[0;32m     14\u001b[0m         By\u001b[38;5;241m.\u001b[39mXPATH, \n\u001b[0;32m     15\u001b[0m         \u001b[38;5;124mf\u001b[39m\u001b[38;5;124m'\u001b[39m\u001b[38;5;124m//*[@id=\u001b[39m\u001b[38;5;124m\"\u001b[39m\u001b[38;5;124mMyform\u001b[39m\u001b[38;5;124m\"\u001b[39m\u001b[38;5;124m]/div[\u001b[39m\u001b[38;5;132;01m{\u001b[39;00mbook_num\u001b[38;5;132;01m}\u001b[39;00m\u001b[38;5;124m]/table/tbody/tr/td[3]/table/tbody/tr[1]/td[1]/div[1]/ul/li[2]/a[1]/b\u001b[39m\u001b[38;5;124m'\u001b[39m\n\u001b[0;32m     16\u001b[0m     )\u001b[38;5;241m.\u001b[39mtext\n\u001b[0;32m     18\u001b[0m book_name\u001b[38;5;241m.\u001b[39mappend(x)\n",
      "File \u001b[1;32m~\\AppData\\Roaming\\Python\\Python311\\site-packages\\selenium\\webdriver\\remote\\webdriver.py:741\u001b[0m, in \u001b[0;36mWebDriver.find_element\u001b[1;34m(self, by, value)\u001b[0m\n\u001b[0;32m    738\u001b[0m     by \u001b[38;5;241m=\u001b[39m By\u001b[38;5;241m.\u001b[39mCSS_SELECTOR\n\u001b[0;32m    739\u001b[0m     value \u001b[38;5;241m=\u001b[39m \u001b[38;5;124mf\u001b[39m\u001b[38;5;124m'\u001b[39m\u001b[38;5;124m[name=\u001b[39m\u001b[38;5;124m\"\u001b[39m\u001b[38;5;132;01m{\u001b[39;00mvalue\u001b[38;5;132;01m}\u001b[39;00m\u001b[38;5;124m\"\u001b[39m\u001b[38;5;124m]\u001b[39m\u001b[38;5;124m'\u001b[39m\n\u001b[1;32m--> 741\u001b[0m \u001b[38;5;28;01mreturn\u001b[39;00m \u001b[38;5;28mself\u001b[39m\u001b[38;5;241m.\u001b[39mexecute(Command\u001b[38;5;241m.\u001b[39mFIND_ELEMENT, {\u001b[38;5;124m\"\u001b[39m\u001b[38;5;124musing\u001b[39m\u001b[38;5;124m\"\u001b[39m: by, \u001b[38;5;124m\"\u001b[39m\u001b[38;5;124mvalue\u001b[39m\u001b[38;5;124m\"\u001b[39m: value})[\u001b[38;5;124m\"\u001b[39m\u001b[38;5;124mvalue\u001b[39m\u001b[38;5;124m\"\u001b[39m]\n",
      "File \u001b[1;32m~\\AppData\\Roaming\\Python\\Python311\\site-packages\\selenium\\webdriver\\remote\\webdriver.py:347\u001b[0m, in \u001b[0;36mWebDriver.execute\u001b[1;34m(self, driver_command, params)\u001b[0m\n\u001b[0;32m    345\u001b[0m response \u001b[38;5;241m=\u001b[39m \u001b[38;5;28mself\u001b[39m\u001b[38;5;241m.\u001b[39mcommand_executor\u001b[38;5;241m.\u001b[39mexecute(driver_command, params)\n\u001b[0;32m    346\u001b[0m \u001b[38;5;28;01mif\u001b[39;00m response:\n\u001b[1;32m--> 347\u001b[0m     \u001b[38;5;28mself\u001b[39m\u001b[38;5;241m.\u001b[39merror_handler\u001b[38;5;241m.\u001b[39mcheck_response(response)\n\u001b[0;32m    348\u001b[0m     response[\u001b[38;5;124m\"\u001b[39m\u001b[38;5;124mvalue\u001b[39m\u001b[38;5;124m\"\u001b[39m] \u001b[38;5;241m=\u001b[39m \u001b[38;5;28mself\u001b[39m\u001b[38;5;241m.\u001b[39m_unwrap_value(response\u001b[38;5;241m.\u001b[39mget(\u001b[38;5;124m\"\u001b[39m\u001b[38;5;124mvalue\u001b[39m\u001b[38;5;124m\"\u001b[39m, \u001b[38;5;28;01mNone\u001b[39;00m))\n\u001b[0;32m    349\u001b[0m     \u001b[38;5;28;01mreturn\u001b[39;00m response\n",
      "File \u001b[1;32m~\\AppData\\Roaming\\Python\\Python311\\site-packages\\selenium\\webdriver\\remote\\errorhandler.py:229\u001b[0m, in \u001b[0;36mErrorHandler.check_response\u001b[1;34m(self, response)\u001b[0m\n\u001b[0;32m    227\u001b[0m         alert_text \u001b[38;5;241m=\u001b[39m value[\u001b[38;5;124m\"\u001b[39m\u001b[38;5;124malert\u001b[39m\u001b[38;5;124m\"\u001b[39m]\u001b[38;5;241m.\u001b[39mget(\u001b[38;5;124m\"\u001b[39m\u001b[38;5;124mtext\u001b[39m\u001b[38;5;124m\"\u001b[39m)\n\u001b[0;32m    228\u001b[0m     \u001b[38;5;28;01mraise\u001b[39;00m exception_class(message, screen, stacktrace, alert_text)  \u001b[38;5;66;03m# type: ignore[call-arg]  # mypy is not smart enough here\u001b[39;00m\n\u001b[1;32m--> 229\u001b[0m \u001b[38;5;28;01mraise\u001b[39;00m exception_class(message, screen, stacktrace)\n",
      "\u001b[1;31mNoSuchWindowException\u001b[0m: Message: no such window: target window already closed\nfrom unknown error: web view not found\n  (Session info: chrome=125.0.6422.141)\nStacktrace:\n\tGetHandleVerifier [0x00007FF76BE61F52+60322]\n\t(No symbol) [0x00007FF76BDDCEC9]\n\t(No symbol) [0x00007FF76BC97EBA]\n\t(No symbol) [0x00007FF76BC6D5A5]\n\t(No symbol) [0x00007FF76BD136B7]\n\t(No symbol) [0x00007FF76BD2B331]\n\t(No symbol) [0x00007FF76BD0BFC3]\n\t(No symbol) [0x00007FF76BCD9617]\n\t(No symbol) [0x00007FF76BCDA211]\n\tGetHandleVerifier [0x00007FF76C1794AD+3301629]\n\tGetHandleVerifier [0x00007FF76C1C36D3+3605283]\n\tGetHandleVerifier [0x00007FF76C1B9450+3563680]\n\tGetHandleVerifier [0x00007FF76BF14326+790390]\n\t(No symbol) [0x00007FF76BDE750F]\n\t(No symbol) [0x00007FF76BDE3404]\n\t(No symbol) [0x00007FF76BDE3592]\n\t(No symbol) [0x00007FF76BDD2F9F]\n\tBaseThreadInitThunk [0x00007FF834A7257D+29]\n\tRtlUserThreadStart [0x00007FF8358CAA48+40]\n"
     ]
    }
   ],
   "source": [
    "# 3~5 try ~ except \n",
    "# 예외처리 2가지 방법인 경우만 가능하다.\n",
    "\n",
    "book_name = []\n",
    "\n",
    "for book_num in range(3,53):\n",
    "    try:\n",
    "        x = driver.find_element(\n",
    "            By.XPATH, \n",
    "            f'//*[@id=\"Myform\"]/div[{book_num}]/table/tbody/tr/td[3]/table/tbody/tr[1]/td[1]/div[1]/ul/li[1]/a[1]/b'\n",
    "        ).text\n",
    "    except:\n",
    "        x = driver.find_element(\n",
    "            By.XPATH, \n",
    "            f'//*[@id=\"Myform\"]/div[{book_num}]/table/tbody/tr/td[3]/table/tbody/tr[1]/td[1]/div[1]/ul/li[2]/a[1]/b'\n",
    "        ).text\n",
    "        \n",
    "    book_name.append(x)"
   ]
  },
  {
   "cell_type": "code",
   "execution_count": 19,
   "id": "de4d13de",
   "metadata": {},
   "outputs": [
    {
     "data": {
      "text/plain": [
       "0"
      ]
     },
     "execution_count": 19,
     "metadata": {},
     "output_type": "execute_result"
    }
   ],
   "source": [
    "len(book_name)"
   ]
  },
  {
   "cell_type": "code",
   "execution_count": 20,
   "id": "68034b03",
   "metadata": {},
   "outputs": [
    {
     "ename": "NoSuchWindowException",
     "evalue": "Message: no such window: target window already closed\nfrom unknown error: web view not found\n  (Session info: chrome=125.0.6422.141)\nStacktrace:\n\tGetHandleVerifier [0x00007FF76BE61F52+60322]\n\t(No symbol) [0x00007FF76BDDCEC9]\n\t(No symbol) [0x00007FF76BC97EBA]\n\t(No symbol) [0x00007FF76BC6D5A5]\n\t(No symbol) [0x00007FF76BD136B7]\n\t(No symbol) [0x00007FF76BD2B331]\n\t(No symbol) [0x00007FF76BD0BFC3]\n\t(No symbol) [0x00007FF76BCD9617]\n\t(No symbol) [0x00007FF76BCDA211]\n\tGetHandleVerifier [0x00007FF76C1794AD+3301629]\n\tGetHandleVerifier [0x00007FF76C1C36D3+3605283]\n\tGetHandleVerifier [0x00007FF76C1B9450+3563680]\n\tGetHandleVerifier [0x00007FF76BF14326+790390]\n\t(No symbol) [0x00007FF76BDE750F]\n\t(No symbol) [0x00007FF76BDE3404]\n\t(No symbol) [0x00007FF76BDE3592]\n\t(No symbol) [0x00007FF76BDD2F9F]\n\tBaseThreadInitThunk [0x00007FF834A7257D+29]\n\tRtlUserThreadStart [0x00007FF8358CAA48+40]\n",
     "output_type": "error",
     "traceback": [
      "\u001b[1;31m---------------------------------------------------------------------------\u001b[0m",
      "\u001b[1;31mNoSuchWindowException\u001b[0m                     Traceback (most recent call last)",
      "Cell \u001b[1;32mIn[20], line 2\u001b[0m\n\u001b[0;32m      1\u001b[0m \u001b[38;5;66;03m# 가격\u001b[39;00m\n\u001b[1;32m----> 2\u001b[0m driver\u001b[38;5;241m.\u001b[39mfind_element(\n\u001b[0;32m      3\u001b[0m     By\u001b[38;5;241m.\u001b[39mXPATH, \n\u001b[0;32m      4\u001b[0m     \u001b[38;5;124mf\u001b[39m\u001b[38;5;124m'\u001b[39m\u001b[38;5;124m//*[@id=\u001b[39m\u001b[38;5;124m\"\u001b[39m\u001b[38;5;124mMyform\u001b[39m\u001b[38;5;124m\"\u001b[39m\u001b[38;5;124m]/div[4]/table/tbody/tr/td[3]/table/tbody/tr[1]/td[1]/div[1]/ul/li[3]/span[1]\u001b[39m\u001b[38;5;124m'\u001b[39m\n\u001b[0;32m      5\u001b[0m )\u001b[38;5;241m.\u001b[39mtext\n",
      "File \u001b[1;32m~\\AppData\\Roaming\\Python\\Python311\\site-packages\\selenium\\webdriver\\remote\\webdriver.py:741\u001b[0m, in \u001b[0;36mWebDriver.find_element\u001b[1;34m(self, by, value)\u001b[0m\n\u001b[0;32m    738\u001b[0m     by \u001b[38;5;241m=\u001b[39m By\u001b[38;5;241m.\u001b[39mCSS_SELECTOR\n\u001b[0;32m    739\u001b[0m     value \u001b[38;5;241m=\u001b[39m \u001b[38;5;124mf\u001b[39m\u001b[38;5;124m'\u001b[39m\u001b[38;5;124m[name=\u001b[39m\u001b[38;5;124m\"\u001b[39m\u001b[38;5;132;01m{\u001b[39;00mvalue\u001b[38;5;132;01m}\u001b[39;00m\u001b[38;5;124m\"\u001b[39m\u001b[38;5;124m]\u001b[39m\u001b[38;5;124m'\u001b[39m\n\u001b[1;32m--> 741\u001b[0m \u001b[38;5;28;01mreturn\u001b[39;00m \u001b[38;5;28mself\u001b[39m\u001b[38;5;241m.\u001b[39mexecute(Command\u001b[38;5;241m.\u001b[39mFIND_ELEMENT, {\u001b[38;5;124m\"\u001b[39m\u001b[38;5;124musing\u001b[39m\u001b[38;5;124m\"\u001b[39m: by, \u001b[38;5;124m\"\u001b[39m\u001b[38;5;124mvalue\u001b[39m\u001b[38;5;124m\"\u001b[39m: value})[\u001b[38;5;124m\"\u001b[39m\u001b[38;5;124mvalue\u001b[39m\u001b[38;5;124m\"\u001b[39m]\n",
      "File \u001b[1;32m~\\AppData\\Roaming\\Python\\Python311\\site-packages\\selenium\\webdriver\\remote\\webdriver.py:347\u001b[0m, in \u001b[0;36mWebDriver.execute\u001b[1;34m(self, driver_command, params)\u001b[0m\n\u001b[0;32m    345\u001b[0m response \u001b[38;5;241m=\u001b[39m \u001b[38;5;28mself\u001b[39m\u001b[38;5;241m.\u001b[39mcommand_executor\u001b[38;5;241m.\u001b[39mexecute(driver_command, params)\n\u001b[0;32m    346\u001b[0m \u001b[38;5;28;01mif\u001b[39;00m response:\n\u001b[1;32m--> 347\u001b[0m     \u001b[38;5;28mself\u001b[39m\u001b[38;5;241m.\u001b[39merror_handler\u001b[38;5;241m.\u001b[39mcheck_response(response)\n\u001b[0;32m    348\u001b[0m     response[\u001b[38;5;124m\"\u001b[39m\u001b[38;5;124mvalue\u001b[39m\u001b[38;5;124m\"\u001b[39m] \u001b[38;5;241m=\u001b[39m \u001b[38;5;28mself\u001b[39m\u001b[38;5;241m.\u001b[39m_unwrap_value(response\u001b[38;5;241m.\u001b[39mget(\u001b[38;5;124m\"\u001b[39m\u001b[38;5;124mvalue\u001b[39m\u001b[38;5;124m\"\u001b[39m, \u001b[38;5;28;01mNone\u001b[39;00m))\n\u001b[0;32m    349\u001b[0m     \u001b[38;5;28;01mreturn\u001b[39;00m response\n",
      "File \u001b[1;32m~\\AppData\\Roaming\\Python\\Python311\\site-packages\\selenium\\webdriver\\remote\\errorhandler.py:229\u001b[0m, in \u001b[0;36mErrorHandler.check_response\u001b[1;34m(self, response)\u001b[0m\n\u001b[0;32m    227\u001b[0m         alert_text \u001b[38;5;241m=\u001b[39m value[\u001b[38;5;124m\"\u001b[39m\u001b[38;5;124malert\u001b[39m\u001b[38;5;124m\"\u001b[39m]\u001b[38;5;241m.\u001b[39mget(\u001b[38;5;124m\"\u001b[39m\u001b[38;5;124mtext\u001b[39m\u001b[38;5;124m\"\u001b[39m)\n\u001b[0;32m    228\u001b[0m     \u001b[38;5;28;01mraise\u001b[39;00m exception_class(message, screen, stacktrace, alert_text)  \u001b[38;5;66;03m# type: ignore[call-arg]  # mypy is not smart enough here\u001b[39;00m\n\u001b[1;32m--> 229\u001b[0m \u001b[38;5;28;01mraise\u001b[39;00m exception_class(message, screen, stacktrace)\n",
      "\u001b[1;31mNoSuchWindowException\u001b[0m: Message: no such window: target window already closed\nfrom unknown error: web view not found\n  (Session info: chrome=125.0.6422.141)\nStacktrace:\n\tGetHandleVerifier [0x00007FF76BE61F52+60322]\n\t(No symbol) [0x00007FF76BDDCEC9]\n\t(No symbol) [0x00007FF76BC97EBA]\n\t(No symbol) [0x00007FF76BC6D5A5]\n\t(No symbol) [0x00007FF76BD136B7]\n\t(No symbol) [0x00007FF76BD2B331]\n\t(No symbol) [0x00007FF76BD0BFC3]\n\t(No symbol) [0x00007FF76BCD9617]\n\t(No symbol) [0x00007FF76BCDA211]\n\tGetHandleVerifier [0x00007FF76C1794AD+3301629]\n\tGetHandleVerifier [0x00007FF76C1C36D3+3605283]\n\tGetHandleVerifier [0x00007FF76C1B9450+3563680]\n\tGetHandleVerifier [0x00007FF76BF14326+790390]\n\t(No symbol) [0x00007FF76BDE750F]\n\t(No symbol) [0x00007FF76BDE3404]\n\t(No symbol) [0x00007FF76BDE3592]\n\t(No symbol) [0x00007FF76BDD2F9F]\n\tBaseThreadInitThunk [0x00007FF834A7257D+29]\n\tRtlUserThreadStart [0x00007FF8358CAA48+40]\n"
     ]
    }
   ],
   "source": [
    "# 가격\n",
    "driver.find_element(\n",
    "    By.XPATH, \n",
    "    f'//*[@id=\"Myform\"]/div[4]/table/tbody/tr/td[3]/table/tbody/tr[1]/td[1]/div[1]/ul/li[3]/span[1]'\n",
    ").text"
   ]
  },
  {
   "cell_type": "code",
   "execution_count": null,
   "id": "05ad788d",
   "metadata": {},
   "outputs": [],
   "source": [
    "book_price = []\n",
    "\n",
    "for book_num in range(3,53):\n",
    "    try:\n",
    "        x = driver.find_element(\n",
    "            By.XPATH, \n",
    "            f'//*[@id=\"Myform\"]/div[{book_num}]/table/tbody/tr/td[3]/table/tbody/tr[1]/td[1]/div[1]/ul/li[4]/span[1]'\n",
    "        ).text\n",
    "    except:\n",
    "        x = driver.find_element(\n",
    "            By.XPATH, \n",
    "            f'//*[@id=\"Myform\"]/div[{book_num}]/table/tbody/tr/td[3]/table/tbody/tr[1]/td[1]/div[1]/ul/li[3]/span[1]'\n",
    "        ).text\n",
    "        \n",
    "    book_price.append(x)"
   ]
  },
  {
   "cell_type": "code",
   "execution_count": null,
   "id": "7cee2efc",
   "metadata": {},
   "outputs": [],
   "source": [
    "len(book_price)"
   ]
  },
  {
   "cell_type": "code",
   "execution_count": null,
   "id": "4bf56953",
   "metadata": {},
   "outputs": [],
   "source": [
    "# 할인가\n",
    "driver.find_element(\n",
    "    By.XPATH, \n",
    "    f'//*[@id=\"Myform\"]/div[4]/table/tbody/tr/td[3]/table/tbody/tr[1]/td[1]/div[1]/ul/li[3]/span[2]/b/span'\n",
    ").text"
   ]
  },
  {
   "cell_type": "code",
   "execution_count": null,
   "id": "966317f2",
   "metadata": {},
   "outputs": [],
   "source": [
    "book_sale = []\n",
    "\n",
    "for book_num in range(3,53):\n",
    "    try:\n",
    "        x = driver.find_element(\n",
    "            By.XPATH, \n",
    "            f'//*[@id=\"Myform\"]/div[{book_num}]/table/tbody/tr/td[3]/table/tbody/tr[1]/td[1]/div[1]/ul/li[4]/span[2]/b/span'\n",
    "        ).text\n",
    "    except:\n",
    "        x = driver.find_element(\n",
    "            By.XPATH, \n",
    "            f'//*[@id=\"Myform\"]/div[{book_num}]/table/tbody/tr/td[3]/table/tbody/tr[1]/td[1]/div[1]/ul/li[3]/span[2]/b/span'\n",
    "        ).text\n",
    "        \n",
    "    book_sale.append(x)"
   ]
  },
  {
   "cell_type": "code",
   "execution_count": null,
   "id": "0382404f",
   "metadata": {},
   "outputs": [],
   "source": [
    "len(book_sale)"
   ]
  },
  {
   "cell_type": "markdown",
   "id": "37f54e36",
   "metadata": {},
   "source": [
    "***\n",
    "### 강사님 소스"
   ]
  },
  {
   "cell_type": "code",
   "execution_count": 34,
   "id": "fced47f8",
   "metadata": {},
   "outputs": [
    {
     "data": {
      "text/plain": [
       "<selenium.webdriver.remote.webelement.WebElement (session=\"89f91af7ed0389f6cb99678ceb73573a\", element=\"f.90B88A2D76F72640AF3C35C602DB6A9A.d.BCF2893A46145FC3E262C102DC7E37C4.e.265\")>"
      ]
     },
     "execution_count": 34,
     "metadata": {},
     "output_type": "execute_result"
    }
   ],
   "source": [
    "driver.find_element(\n",
    "    By.XPATH,\n",
    "    f'//*[@id=\"Myform\"]/div[3]/table/tbody/tr/td[3]/table/tbody/tr[1]/td[1]/div[1]/ul/li[4]/span[1]'\n",
    ")"
   ]
  },
  {
   "cell_type": "code",
   "execution_count": 44,
   "id": "b9a3c2cc",
   "metadata": {},
   "outputs": [],
   "source": [
    "# 별점이 없는 경우 함수만들기\n",
    "def star_check(book_num, promo):\n",
    "    try:\n",
    "        x = driver.find_element(\n",
    "            By.XPATH,\n",
    "            f'//*[@id=\"Myform\"]/div[{book_num}]/table/tbody/tr/td[3]/table/tbody/tr[1]/td[1]/div[1]/ul/li[{promo}]/span'\n",
    "        ).text\n",
    "        \n",
    "        return x\n",
    "    \n",
    "    except:\n",
    "        return float('nan')"
   ]
  },
  {
   "cell_type": "code",
   "execution_count": 36,
   "id": "dc97f932",
   "metadata": {},
   "outputs": [],
   "source": [
    "#try:\n",
    "#    1 / 0\n",
    "#    print(1)\n",
    "#except:??\n",
    "    "
   ]
  },
  {
   "cell_type": "code",
   "execution_count": 45,
   "id": "41e4cab1",
   "metadata": {},
   "outputs": [],
   "source": [
    "# 3~5 try ~ except \n",
    "# 예외처리 2가지 방법인 경우만 가능하다.\n",
    "\n",
    "book_name = []\n",
    "book_price = []\n",
    "book_sale = []\n",
    "star_rate = []\n",
    "urls = []\n",
    "\n",
    "for book_num in range(3,53):\n",
    "    try:                       # 행사 정보가 있는 경우\n",
    "        x = driver.find_element(         # 책 제목 부분\n",
    "            By.XPATH, \n",
    "            f'//*[@id=\"Myform\"]/div[{book_num}]/table/tbody/tr/td[3]/table/tbody/tr[1]/td[1]/div[1]/ul/li[2]/a[1]/b'\n",
    "        ).text\n",
    "        \n",
    "        u = driver.find_element(         # url 부분 파싱 부분 확인\n",
    "            By.XPATH, \n",
    "            f'//*[@id=\"Myform\"]/div[{book_num}]/table/tbody/tr/td[3]/table/tbody/tr[1]/td[1]/div[1]/ul/li[2]/a[1]'\n",
    "        ).get_attribute('href')\n",
    "        \n",
    "        p = driver.find_element(\n",
    "            By.XPATH, \n",
    "            f'//*[@id=\"Myform\"]/div[{book_num}]/table/tbody/tr/td[3]/table/tbody/tr[1]/td[1]/div[1]/ul/li[4]/span[1]'\n",
    "        ).text\n",
    "        \n",
    "        s = driver.find_element(\n",
    "            By.XPATH, \n",
    "            f'//*[@id=\"Myform\"]/div[{book_num}]/table/tbody/tr/td[3]/table/tbody/tr[1]/td[1]/div[1]/ul/li[4]/span[2]/b/span'\n",
    "        ).text\n",
    "        \n",
    "        t = star_check(book_num, 5)\n",
    "        #t = driver.find_element(\n",
    "        #    By.XPATH,\n",
    "        #    f'//*[@id=\"Myform\"]/div[{book_num}]/table/tbody/tr/td[3]/table/tbody/tr[1]/td[1]/div[1]/ul/li[5]/span'\n",
    "        #).text\n",
    "    except:                    # 행사 정보가 없는 경우\n",
    "        x = driver.find_element(\n",
    "            By.XPATH, \n",
    "            f'//*[@id=\"Myform\"]/div[{book_num}]/table/tbody/tr/td[3]/table/tbody/tr[1]/td[1]/div[1]/ul/li[1]/a[1]/b'\n",
    "        ).text\n",
    "        \n",
    "        u = driver.find_element(         # url 부분\n",
    "            By.XPATH, \n",
    "            f'//*[@id=\"Myform\"]/div[{book_num}]/table/tbody/tr/td[3]/table/tbody/tr[1]/td[1]/div[1]/ul/li[1]/a[1]'\n",
    "        ).get_attribute('href')\n",
    "        \n",
    "        p = driver.find_element(\n",
    "            By.XPATH, \n",
    "            f'//*[@id=\"Myform\"]/div[{book_num}]/table/tbody/tr/td[3]/table/tbody/tr[1]/td[1]/div[1]/ul/li[3]/span[1]'\n",
    "        ).text\n",
    "        \n",
    "        s = driver.find_element(\n",
    "            By.XPATH, \n",
    "            f'//*[@id=\"Myform\"]/div[{book_num}]/table/tbody/tr/td[3]/table/tbody/tr[1]/td[1]/div[1]/ul/li[3]/span[2]/b/span'\n",
    "        ).text\n",
    "        \n",
    "        t = star_check(book_num, 4)\n",
    "        #t = driver.find_element(\n",
    "        #    By.XPATH,\n",
    "        #    f'//*[@id=\"Myform\"]/div[{book_num}]/table/tbody/tr/td[3]/table/tbody/tr[1]/td[1]/div[1]/ul/li[4]/span'\n",
    "        #).text\n",
    "    book_name.append(x)\n",
    "    book_price.append(p)\n",
    "    book_sale.append(s)\n",
    "    star_rate.append(t)\n",
    "    urls.append(u)"
   ]
  },
  {
   "cell_type": "code",
   "execution_count": 46,
   "id": "ac13a056",
   "metadata": {},
   "outputs": [
    {
     "data": {
      "text/plain": [
       "50"
      ]
     },
     "execution_count": 46,
     "metadata": {},
     "output_type": "execute_result"
    }
   ],
   "source": [
    "len(urls)"
   ]
  },
  {
   "cell_type": "code",
   "execution_count": 39,
   "id": "f201e946",
   "metadata": {},
   "outputs": [],
   "source": [
    "#print(join(book_name) + \"|\" + join(book_price) + \"|\" + join(book_sale))"
   ]
  },
  {
   "cell_type": "code",
   "execution_count": 40,
   "id": "2c0ce55f",
   "metadata": {},
   "outputs": [
    {
     "data": {
      "text/plain": [
       "(['선재 업고 튀어 1~2 세트 - 전2권',\n",
       "  '쿠이 료코 낙서집 데이드림 아워',\n",
       "  '룬의 아이들 - 블러디드 7',\n",
       "  '리틀 라이프 1',\n",
       "  '리틀 라이프 2',\n",
       "  '나를 소모하지 않는 현명한 태도에 관하여',\n",
       "  '괴수 8호 12 (트리플 특장판)',\n",
       "  '원피스 108',\n",
       "  '나의 히어로 아카데미아 40 (트리플 특장판)',\n",
       "  '두 사람의 인터내셔널',\n",
       "  'THE MONEY BOOK 더 머니북',\n",
       "  '나는 다정한 관찰자가 되기로 했다',\n",
       "  '빨모쌤의 라이브 영어회화',\n",
       "  '키노 씨네필',\n",
       "  '하루 한 장 나의 어휘력을 위한 필사 노트',\n",
       "  '전지적 독자 시점 아트북에디션 2 세트 (하드커버 단행본 3권 + 굿즈키트)',\n",
       "  '꼬마셰프와 시작하는 첫 요리',\n",
       "  '말하지 않으면 인생은 바뀌지 않는다',\n",
       "  '불변의 법칙',\n",
       "  '신화의 숲',\n",
       "  '녹나무의 여신',\n",
       "  '흔한남매 과학 탐험대 10 : 생태계',\n",
       "  '세이노의 가르침 (화이트 에디션)',\n",
       "  '아주 작은 대화의 기술',\n",
       "  '별의 커비 푸푸푸 히어로 4',\n",
       "  '환영합니다 성령님',\n",
       "  'ETS 토익 정기시험 기출문제집 1000 Vol. 4 Reading (리딩)',\n",
       "  '일류의 조건',\n",
       "  '국어 잘하는 아이가 이깁니다',\n",
       "  '설민석의 한국사 대모험 29',\n",
       "  '돈의 심리학 (30만 부 기념 스페셜 에디션)',\n",
       "  '감정의 이해',\n",
       "  '나의 돈키호테',\n",
       "  'ETS 토익 정기시험 기출문제집 1000 Vol. 4 Listening (리스닝)',\n",
       "  '내일의 으뜸',\n",
       "  '어떻게 살 것인가',\n",
       "  '리버보이',\n",
       "  '내 몸 혁명',\n",
       "  '홀썸의 집밥 예찬',\n",
       "  '하이큐!! 매거진 2024 MAY',\n",
       "  '방과 후 소년 하나코 군 2 (더블특장판)',\n",
       "  '마흔에 읽는 쇼펜하우어',\n",
       "  '나는 읽고 쓰고 버린다',\n",
       "  '이처럼 사소한 것들',\n",
       "  '나는 나의 스무 살을 가장 존중한다',\n",
       "  '평범하여 찬란한 삶을 향한 찬사',\n",
       "  '백앤아 6 : 저주 걸린 장난감 가게',\n",
       "  '강인함의 힘',\n",
       "  '슬픔에 이름 붙이기',\n",
       "  '모순'],\n",
       " ['50,000',\n",
       "  '20,000',\n",
       "  '17,000',\n",
       "  '14,800',\n",
       "  '14,800',\n",
       "  '17,800',\n",
       "  '6,000',\n",
       "  '5,500',\n",
       "  '6,000',\n",
       "  '16,800',\n",
       "  '22,000',\n",
       "  '17,800',\n",
       "  '22,000',\n",
       "  '35,000',\n",
       "  '23,800',\n",
       "  '178,500',\n",
       "  '18,500',\n",
       "  '20,000',\n",
       "  '25,000',\n",
       "  '18,000',\n",
       "  '18,800',\n",
       "  '14,800',\n",
       "  '7,200',\n",
       "  '19,900',\n",
       "  '11,000',\n",
       "  '25,000',\n",
       "  '19,800',\n",
       "  '19,800',\n",
       "  '17,500',\n",
       "  '13,000',\n",
       "  '19,800',\n",
       "  '16,800',\n",
       "  '18,000',\n",
       "  '19,800',\n",
       "  '13,000',\n",
       "  '17,000',\n",
       "  '15,000',\n",
       "  '19,500',\n",
       "  '25,000',\n",
       "  '20,000',\n",
       "  '6,000',\n",
       "  '17,000',\n",
       "  '17,000',\n",
       "  '13,800',\n",
       "  '18,000',\n",
       "  '18,800',\n",
       "  '16,800',\n",
       "  '22,000',\n",
       "  '18,800',\n",
       "  '13,000'],\n",
       " ['45,000',\n",
       "  '18,000',\n",
       "  '15,300',\n",
       "  '13,320',\n",
       "  '13,320',\n",
       "  '16,020',\n",
       "  '5,400',\n",
       "  '4,950',\n",
       "  '5,400',\n",
       "  '15,120',\n",
       "  '19,800',\n",
       "  '16,020',\n",
       "  '19,800',\n",
       "  '35,000',\n",
       "  '21,420',\n",
       "  '160,650',\n",
       "  '16,650',\n",
       "  '18,000',\n",
       "  '22,500',\n",
       "  '16,200',\n",
       "  '16,920',\n",
       "  '13,320',\n",
       "  '6,480',\n",
       "  '17,910',\n",
       "  '9,900',\n",
       "  '22,500',\n",
       "  '17,820',\n",
       "  '17,820',\n",
       "  '15,750',\n",
       "  '11,700',\n",
       "  '17,820',\n",
       "  '15,120',\n",
       "  '16,200',\n",
       "  '17,820',\n",
       "  '11,700',\n",
       "  '15,300',\n",
       "  '13,500',\n",
       "  '17,550',\n",
       "  '22,500',\n",
       "  '18,000',\n",
       "  '5,400',\n",
       "  '15,300',\n",
       "  '15,300',\n",
       "  '12,420',\n",
       "  '16,200',\n",
       "  '16,920',\n",
       "  '15,120',\n",
       "  '19,800',\n",
       "  '16,920',\n",
       "  '11,700'])"
      ]
     },
     "execution_count": 40,
     "metadata": {},
     "output_type": "execute_result"
    }
   ],
   "source": [
    "book_name, book_price, book_sale"
   ]
  },
  {
   "cell_type": "code",
   "execution_count": 41,
   "id": "b83e2b9e",
   "metadata": {},
   "outputs": [
    {
     "data": {
      "text/plain": [
       "50"
      ]
     },
     "execution_count": 41,
     "metadata": {},
     "output_type": "execute_result"
    }
   ],
   "source": [
    "len(star_rate)"
   ]
  },
  {
   "cell_type": "code",
   "execution_count": 42,
   "id": "f20d0a25",
   "metadata": {},
   "outputs": [],
   "source": [
    "book_name = []\n",
    "\n",
    "for book_num in range(3,53):\n",
    "    try:                     # 행사 없음\n",
    "        driver.find_element(\n",
    "            By.XPATH, \n",
    "            f'//*[@id=\"Myform\"]/div[{book_num}]/table/tbody/tr/td[3]/table/tbody/tr[1]/td[1]/div[1]/ul/li[1]/a[1]/b'\n",
    "        )\n",
    "        promo = 0\n",
    "    except:                 # 행사(핑크색글자) 있는경우\n",
    "        promo = 1\n",
    "        \n",
    "        name = driver.find_element(\n",
    "            By.XPATH, \n",
    "            f'//*[@id=\"Myform\"]/div[{book_num}]/table/tbody/tr/td[3]/table/tbody/tr[1]/td[1]/div[1]/ul/li[{1+promo}]/a[1]/b'\n",
    "        ).text    # .text 텍스트가 나오고 안치면 그 객체=외계어 가 나온다.\n",
    "        \n",
    "        book_name.append(name)"
   ]
  },
  {
   "cell_type": "code",
   "execution_count": 43,
   "id": "4eec33a4",
   "metadata": {},
   "outputs": [
    {
     "data": {
      "text/plain": [
       "['선재 업고 튀어 1~2 세트 - 전2권',\n",
       " '룬의 아이들 - 블러디드 7',\n",
       " '나를 소모하지 않는 현명한 태도에 관하여',\n",
       " '괴수 8호 12 (트리플 특장판)',\n",
       " '원피스 108',\n",
       " '두 사람의 인터내셔널',\n",
       " '나는 다정한 관찰자가 되기로 했다',\n",
       " '빨모쌤의 라이브 영어회화',\n",
       " '전지적 독자 시점 아트북에디션 2 세트 (하드커버 단행본 3권 + 굿즈키트)',\n",
       " '꼬마셰프와 시작하는 첫 요리',\n",
       " '말하지 않으면 인생은 바뀌지 않는다',\n",
       " '불변의 법칙',\n",
       " '신화의 숲',\n",
       " '녹나무의 여신',\n",
       " '흔한남매 과학 탐험대 10 : 생태계',\n",
       " '세이노의 가르침 (화이트 에디션)',\n",
       " '아주 작은 대화의 기술',\n",
       " '별의 커비 푸푸푸 히어로 4',\n",
       " 'ETS 토익 정기시험 기출문제집 1000 Vol. 4 Reading (리딩)',\n",
       " '일류의 조건',\n",
       " '설민석의 한국사 대모험 29',\n",
       " '돈의 심리학 (30만 부 기념 스페셜 에디션)',\n",
       " '나의 돈키호테',\n",
       " 'ETS 토익 정기시험 기출문제집 1000 Vol. 4 Listening (리스닝)',\n",
       " '내일의 으뜸',\n",
       " '어떻게 살 것인가',\n",
       " '리버보이',\n",
       " '홀썸의 집밥 예찬',\n",
       " '방과 후 소년 하나코 군 2 (더블특장판)',\n",
       " '마흔에 읽는 쇼펜하우어',\n",
       " '나는 읽고 쓰고 버린다',\n",
       " '이처럼 사소한 것들',\n",
       " '나는 나의 스무 살을 가장 존중한다',\n",
       " '평범하여 찬란한 삶을 향한 찬사',\n",
       " '백앤아 6 : 저주 걸린 장난감 가게',\n",
       " '슬픔에 이름 붙이기',\n",
       " '모순']"
      ]
     },
     "execution_count": 43,
     "metadata": {},
     "output_type": "execute_result"
    }
   ],
   "source": [
    "book_name"
   ]
  },
  {
   "cell_type": "code",
   "execution_count": 46,
   "id": "bf8e2135",
   "metadata": {},
   "outputs": [],
   "source": [
    "ab = driver.find_element(By.XPATH, f'//*[@id=\"Myform\"]/div[3]/table/tbody/tr/td[3]/table/tbody/tr[1]/td[1]/div[1]/ul/li[2]/a')"
   ]
  },
  {
   "cell_type": "code",
   "execution_count": 47,
   "id": "75d985c3",
   "metadata": {},
   "outputs": [
    {
     "data": {
      "text/plain": [
       "'https://www.aladin.co.kr/shop/wproduct.aspx?ItemId=340152805'"
      ]
     },
     "execution_count": 47,
     "metadata": {},
     "output_type": "execute_result"
    }
   ],
   "source": [
    "ab.get_attribute('href')"
   ]
  },
  {
   "cell_type": "code",
   "execution_count": null,
   "id": "d27e2828",
   "metadata": {},
   "outputs": [],
   "source": []
  },
  {
   "cell_type": "code",
   "execution_count": null,
   "id": "535adae8",
   "metadata": {
    "scrolled": true
   },
   "outputs": [],
   "source": [
    "#urls 첫번째 부터 순차적으로"
   ]
  },
  {
   "cell_type": "code",
   "execution_count": 48,
   "id": "4b2467e4",
   "metadata": {},
   "outputs": [],
   "source": [
    "driver.find_element(\n",
    "    By.XPATH,\n",
    "    f'//*[@id=\"Myform\"]/div[3]/table/tbody/tr/td[3]/table/tbody/tr[1]/td[1]/div[1]/ul/li[2]/a'\n",
    ").click()"
   ]
  },
  {
   "cell_type": "code",
   "execution_count": 51,
   "id": "ffad88d4",
   "metadata": {},
   "outputs": [
    {
     "ename": "TypeError",
     "evalue": "'str' object is not callable",
     "output_type": "error",
     "traceback": [
      "\u001b[1;31m---------------------------------------------------------------------------\u001b[0m",
      "\u001b[1;31mTypeError\u001b[0m                                 Traceback (most recent call last)",
      "Cell \u001b[1;32mIn[51], line 4\u001b[0m\n\u001b[0;32m      1\u001b[0m driver\u001b[38;5;241m.\u001b[39mfind_element(\n\u001b[0;32m      2\u001b[0m     By\u001b[38;5;241m.\u001b[39mXPATH,\n\u001b[0;32m      3\u001b[0m     \u001b[38;5;124mf\u001b[39m\u001b[38;5;124m'\u001b[39m\u001b[38;5;124m//*[@id=\u001b[39m\u001b[38;5;124m\"\u001b[39m\u001b[38;5;124mulCategory\u001b[39m\u001b[38;5;124m\"\u001b[39m\u001b[38;5;124m]\u001b[39m\u001b[38;5;124m'\u001b[39m\n\u001b[1;32m----> 4\u001b[0m )\u001b[38;5;241m.\u001b[39mtext()\n",
      "\u001b[1;31mTypeError\u001b[0m: 'str' object is not callable"
     ]
    }
   ],
   "source": [
    "driver.find_element(\n",
    "    By.XPATH,\n",
    "    '//*[@id=\"ulCategory\"]'\n",
    ").text()"
   ]
  },
  {
   "cell_type": "code",
   "execution_count": 47,
   "id": "f674d595",
   "metadata": {},
   "outputs": [],
   "source": [
    "# 다른 방법 = 자바스크립트 으로 활용  새탭 열기\n",
    "driver.execute_script(\n",
    "    f'''window.open(\"{urls[0]}\",\"_blank\")'''\n",
    ")"
   ]
  },
  {
   "cell_type": "code",
   "execution_count": 10,
   "id": "7abda87c",
   "metadata": {},
   "outputs": [
    {
     "data": {
      "text/plain": [
       "['5DB867D7176AE15E0CB0112117484E71', '42A2E2A3750BD1339A147AB24E1A35DA']"
      ]
     },
     "execution_count": 10,
     "metadata": {},
     "output_type": "execute_result"
    }
   ],
   "source": [
    "#driver.window_handles\n",
    "driver.window_handles # ['1페이지', '2페이지'] 확인"
   ]
  },
  {
   "cell_type": "code",
   "execution_count": 11,
   "id": "8e8e87f8",
   "metadata": {
    "scrolled": true
   },
   "outputs": [],
   "source": [
    "# 맨 마지막 열린 탭(TAP) 으로 이동   // 맨마지막에 열린 tab으로 간다 b탭\n",
    "driver.switch_to.window(driver.window_handles[-1])"
   ]
  },
  {
   "cell_type": "code",
   "execution_count": 12,
   "id": "13b27a62",
   "metadata": {
    "scrolled": true
   },
   "outputs": [
    {
     "data": {
      "text/plain": [
       "'국내도서 > 예술/대중문화 > 영화/드라마 > 시나리오/시나리오작법'"
      ]
     },
     "execution_count": 12,
     "metadata": {},
     "output_type": "execute_result"
    }
   ],
   "source": [
    "driver.find_element(\n",
    "    By.XPATH,\n",
    "    '//*[@id=\"ulCategory\"]'\n",
    ").text"
   ]
  },
  {
   "cell_type": "code",
   "execution_count": 13,
   "id": "d1913ac5",
   "metadata": {},
   "outputs": [],
   "source": [
    "driver.get(urls[1]) # urls[1] 두번째 제목 url로 간다."
   ]
  },
  {
   "cell_type": "code",
   "execution_count": 14,
   "id": "0ce11273",
   "metadata": {},
   "outputs": [
    {
     "data": {
      "text/plain": [
       "['5DB867D7176AE15E0CB0112117484E71', '42A2E2A3750BD1339A147AB24E1A35DA']"
      ]
     },
     "execution_count": 14,
     "metadata": {},
     "output_type": "execute_result"
    }
   ],
   "source": [
    "driver.window_handles # "
   ]
  },
  {
   "cell_type": "code",
   "execution_count": 15,
   "id": "70565c31",
   "metadata": {},
   "outputs": [
    {
     "data": {
      "text/plain": [
       "'국내도서 > 만화 > 만화그리기와 읽기 > 만화작법/일러스트'"
      ]
     },
     "execution_count": 15,
     "metadata": {},
     "output_type": "execute_result"
    }
   ],
   "source": [
    "driver.find_element(\n",
    "    By.XPATH,\n",
    "    '//*[@id=\"ulCategory\"]'\n",
    ").text"
   ]
  },
  {
   "cell_type": "code",
   "execution_count": 16,
   "id": "7c883c57",
   "metadata": {},
   "outputs": [],
   "source": [
    "driver.get(urls[2])"
   ]
  },
  {
   "cell_type": "code",
   "execution_count": 17,
   "id": "90df437d",
   "metadata": {},
   "outputs": [
    {
     "data": {
      "text/plain": [
       "'국내도서 > 소설/시/희곡 > 판타지/환상문학 > 한국판타지/환상소설\\n국내도서 > 소설/시/희곡 > 한국소설 > 2000년대 이후 한국소설'"
      ]
     },
     "execution_count": 17,
     "metadata": {},
     "output_type": "execute_result"
    }
   ],
   "source": [
    "driver.find_element(\n",
    "    By.XPATH,\n",
    "    '//*[@id=\"ulCategory\"]'\n",
    ").text"
   ]
  },
  {
   "cell_type": "code",
   "execution_count": 58,
   "id": "1f84e3c3",
   "metadata": {},
   "outputs": [
    {
     "ename": "NoSuchWindowException",
     "evalue": "Message: no such window: target window already closed\nfrom unknown error: web view not found\n  (Session info: chrome=125.0.6422.141)\nStacktrace:\n\tGetHandleVerifier [0x00007FF76BE61F52+60322]\n\t(No symbol) [0x00007FF76BDDCEC9]\n\t(No symbol) [0x00007FF76BC97EBA]\n\t(No symbol) [0x00007FF76BC6D5A5]\n\t(No symbol) [0x00007FF76BD136B7]\n\t(No symbol) [0x00007FF76BD1A812]\n\t(No symbol) [0x00007FF76BD0C1E0]\n\t(No symbol) [0x00007FF76BCD9617]\n\t(No symbol) [0x00007FF76BCDA211]\n\tGetHandleVerifier [0x00007FF76C1794AD+3301629]\n\tGetHandleVerifier [0x00007FF76C1C36D3+3605283]\n\tGetHandleVerifier [0x00007FF76C1B9450+3563680]\n\tGetHandleVerifier [0x00007FF76BF14326+790390]\n\t(No symbol) [0x00007FF76BDE750F]\n\t(No symbol) [0x00007FF76BDE3404]\n\t(No symbol) [0x00007FF76BDE3592]\n\t(No symbol) [0x00007FF76BDD2F9F]\n\tBaseThreadInitThunk [0x00007FF834A7257D+29]\n\tRtlUserThreadStart [0x00007FF8358CAA48+40]\n",
     "output_type": "error",
     "traceback": [
      "\u001b[1;31m---------------------------------------------------------------------------\u001b[0m",
      "\u001b[1;31mNoSuchWindowException\u001b[0m                     Traceback (most recent call last)",
      "Cell \u001b[1;32mIn[58], line 1\u001b[0m\n\u001b[1;32m----> 1\u001b[0m driver\u001b[38;5;241m.\u001b[39mclose()\n",
      "File \u001b[1;32m~\\AppData\\Roaming\\Python\\Python311\\site-packages\\selenium\\webdriver\\remote\\webdriver.py:458\u001b[0m, in \u001b[0;36mWebDriver.close\u001b[1;34m(self)\u001b[0m\n\u001b[0;32m    450\u001b[0m \u001b[38;5;28;01mdef\u001b[39;00m \u001b[38;5;21mclose\u001b[39m(\u001b[38;5;28mself\u001b[39m) \u001b[38;5;241m-\u001b[39m\u001b[38;5;241m>\u001b[39m \u001b[38;5;28;01mNone\u001b[39;00m:\n\u001b[0;32m    451\u001b[0m \u001b[38;5;250m    \u001b[39m\u001b[38;5;124;03m\"\"\"Closes the current window.\u001b[39;00m\n\u001b[0;32m    452\u001b[0m \n\u001b[0;32m    453\u001b[0m \u001b[38;5;124;03m    :Usage:\u001b[39;00m\n\u001b[1;32m   (...)\u001b[0m\n\u001b[0;32m    456\u001b[0m \u001b[38;5;124;03m            driver.close()\u001b[39;00m\n\u001b[0;32m    457\u001b[0m \u001b[38;5;124;03m    \"\"\"\u001b[39;00m\n\u001b[1;32m--> 458\u001b[0m     \u001b[38;5;28mself\u001b[39m\u001b[38;5;241m.\u001b[39mexecute(Command\u001b[38;5;241m.\u001b[39mCLOSE)\n",
      "File \u001b[1;32m~\\AppData\\Roaming\\Python\\Python311\\site-packages\\selenium\\webdriver\\remote\\webdriver.py:347\u001b[0m, in \u001b[0;36mWebDriver.execute\u001b[1;34m(self, driver_command, params)\u001b[0m\n\u001b[0;32m    345\u001b[0m response \u001b[38;5;241m=\u001b[39m \u001b[38;5;28mself\u001b[39m\u001b[38;5;241m.\u001b[39mcommand_executor\u001b[38;5;241m.\u001b[39mexecute(driver_command, params)\n\u001b[0;32m    346\u001b[0m \u001b[38;5;28;01mif\u001b[39;00m response:\n\u001b[1;32m--> 347\u001b[0m     \u001b[38;5;28mself\u001b[39m\u001b[38;5;241m.\u001b[39merror_handler\u001b[38;5;241m.\u001b[39mcheck_response(response)\n\u001b[0;32m    348\u001b[0m     response[\u001b[38;5;124m\"\u001b[39m\u001b[38;5;124mvalue\u001b[39m\u001b[38;5;124m\"\u001b[39m] \u001b[38;5;241m=\u001b[39m \u001b[38;5;28mself\u001b[39m\u001b[38;5;241m.\u001b[39m_unwrap_value(response\u001b[38;5;241m.\u001b[39mget(\u001b[38;5;124m\"\u001b[39m\u001b[38;5;124mvalue\u001b[39m\u001b[38;5;124m\"\u001b[39m, \u001b[38;5;28;01mNone\u001b[39;00m))\n\u001b[0;32m    349\u001b[0m     \u001b[38;5;28;01mreturn\u001b[39;00m response\n",
      "File \u001b[1;32m~\\AppData\\Roaming\\Python\\Python311\\site-packages\\selenium\\webdriver\\remote\\errorhandler.py:229\u001b[0m, in \u001b[0;36mErrorHandler.check_response\u001b[1;34m(self, response)\u001b[0m\n\u001b[0;32m    227\u001b[0m         alert_text \u001b[38;5;241m=\u001b[39m value[\u001b[38;5;124m\"\u001b[39m\u001b[38;5;124malert\u001b[39m\u001b[38;5;124m\"\u001b[39m]\u001b[38;5;241m.\u001b[39mget(\u001b[38;5;124m\"\u001b[39m\u001b[38;5;124mtext\u001b[39m\u001b[38;5;124m\"\u001b[39m)\n\u001b[0;32m    228\u001b[0m     \u001b[38;5;28;01mraise\u001b[39;00m exception_class(message, screen, stacktrace, alert_text)  \u001b[38;5;66;03m# type: ignore[call-arg]  # mypy is not smart enough here\u001b[39;00m\n\u001b[1;32m--> 229\u001b[0m \u001b[38;5;28;01mraise\u001b[39;00m exception_class(message, screen, stacktrace)\n",
      "\u001b[1;31mNoSuchWindowException\u001b[0m: Message: no such window: target window already closed\nfrom unknown error: web view not found\n  (Session info: chrome=125.0.6422.141)\nStacktrace:\n\tGetHandleVerifier [0x00007FF76BE61F52+60322]\n\t(No symbol) [0x00007FF76BDDCEC9]\n\t(No symbol) [0x00007FF76BC97EBA]\n\t(No symbol) [0x00007FF76BC6D5A5]\n\t(No symbol) [0x00007FF76BD136B7]\n\t(No symbol) [0x00007FF76BD1A812]\n\t(No symbol) [0x00007FF76BD0C1E0]\n\t(No symbol) [0x00007FF76BCD9617]\n\t(No symbol) [0x00007FF76BCDA211]\n\tGetHandleVerifier [0x00007FF76C1794AD+3301629]\n\tGetHandleVerifier [0x00007FF76C1C36D3+3605283]\n\tGetHandleVerifier [0x00007FF76C1B9450+3563680]\n\tGetHandleVerifier [0x00007FF76BF14326+790390]\n\t(No symbol) [0x00007FF76BDE750F]\n\t(No symbol) [0x00007FF76BDE3404]\n\t(No symbol) [0x00007FF76BDE3592]\n\t(No symbol) [0x00007FF76BDD2F9F]\n\tBaseThreadInitThunk [0x00007FF834A7257D+29]\n\tRtlUserThreadStart [0x00007FF8358CAA48+40]\n"
     ]
    }
   ],
   "source": [
    "driver.close()         # quit 모드 닫기"
   ]
  },
  {
   "cell_type": "code",
   "execution_count": 59,
   "id": "512ec3cd",
   "metadata": {},
   "outputs": [],
   "source": [
    "driver.switch_to.window(driver.window_handles[-1])"
   ]
  },
  {
   "cell_type": "code",
   "execution_count": null,
   "id": "7e12152a",
   "metadata": {},
   "outputs": [],
   "source": []
  },
  {
   "cell_type": "code",
   "execution_count": null,
   "id": "3661eaf6",
   "metadata": {},
   "outputs": [],
   "source": []
  },
  {
   "cell_type": "code",
   "execution_count": null,
   "id": "75341f72",
   "metadata": {},
   "outputs": [],
   "source": [
    "# 첫번째 책부터 마지막 책까지"
   ]
  },
  {
   "cell_type": "code",
   "execution_count": 37,
   "id": "3649adaa",
   "metadata": {},
   "outputs": [],
   "source": []
  },
  {
   "cell_type": "code",
   "execution_count": 60,
   "id": "e2c16288",
   "metadata": {},
   "outputs": [
    {
     "ename": "TypeError",
     "evalue": "can only concatenate str (not \"int\") to str",
     "output_type": "error",
     "traceback": [
      "\u001b[1;31m---------------------------------------------------------------------------\u001b[0m",
      "\u001b[1;31mTypeError\u001b[0m                                 Traceback (most recent call last)",
      "Cell \u001b[1;32mIn[60], line 17\u001b[0m\n\u001b[0;32m     10\u001b[0m     driver\u001b[38;5;241m.\u001b[39mswitch_to\u001b[38;5;241m.\u001b[39mwindow(driver\u001b[38;5;241m.\u001b[39mwindow_handles[\u001b[38;5;241m-\u001b[39m\u001b[38;5;241m1\u001b[39m])\n\u001b[0;32m     12\u001b[0m     driver\u001b[38;5;241m.\u001b[39mfind_element(\n\u001b[0;32m     13\u001b[0m         By\u001b[38;5;241m.\u001b[39mXPATH,\n\u001b[0;32m     14\u001b[0m         \u001b[38;5;124m'\u001b[39m\u001b[38;5;124m//*[@id=\u001b[39m\u001b[38;5;124m\"\u001b[39m\u001b[38;5;124mulCategory\u001b[39m\u001b[38;5;124m\"\u001b[39m\u001b[38;5;124m]\u001b[39m\u001b[38;5;124m'\u001b[39m\n\u001b[0;32m     15\u001b[0m     )\u001b[38;5;241m.\u001b[39mtext\n\u001b[1;32m---> 17\u001b[0m driver\u001b[38;5;241m.\u001b[39mget(urls[x]\u001b[38;5;241m+\u001b[39m\u001b[38;5;241m1\u001b[39m)\n",
      "\u001b[1;31mTypeError\u001b[0m: can only concatenate str (not \"int\") to str"
     ]
    }
   ],
   "source": [
    "x = 0\n",
    "\n",
    "for x in range(1,50):\n",
    "    driver.execute_script(\n",
    "    f'''window.open(\"{urls[x]}\",\"_blank\")'''\n",
    "    )\n",
    "    \n",
    "    #driver.window_handles # ['1페이지', '2페이지'] 확인\n",
    "\n",
    "    driver.switch_to.window(driver.window_handles[-1])\n",
    "    \n",
    "    driver.find_element(\n",
    "        By.XPATH,\n",
    "        '//*[@id=\"ulCategory\"]'\n",
    "    ).text\n",
    "\n",
    "driver.get(urls[x+1]) # 안되는 이유는 +1 가 안맞아서"
   ]
  },
  {
   "cell_type": "code",
   "execution_count": 94,
   "id": "5044fc12",
   "metadata": {},
   "outputs": [
    {
     "ename": "NoSuchWindowException",
     "evalue": "Message: no such window: target window already closed\nfrom unknown error: web view not found\n  (Session info: chrome=125.0.6422.141)\nStacktrace:\n\tGetHandleVerifier [0x00007FF76BE61F52+60322]\n\t(No symbol) [0x00007FF76BDDCEC9]\n\t(No symbol) [0x00007FF76BC97EBA]\n\t(No symbol) [0x00007FF76BC6D5A5]\n\t(No symbol) [0x00007FF76BD136B7]\n\t(No symbol) [0x00007FF76BD2B331]\n\t(No symbol) [0x00007FF76BD0BFC3]\n\t(No symbol) [0x00007FF76BCD9617]\n\t(No symbol) [0x00007FF76BCDA211]\n\tGetHandleVerifier [0x00007FF76C1794AD+3301629]\n\tGetHandleVerifier [0x00007FF76C1C36D3+3605283]\n\tGetHandleVerifier [0x00007FF76C1B9450+3563680]\n\tGetHandleVerifier [0x00007FF76BF14326+790390]\n\t(No symbol) [0x00007FF76BDE750F]\n\t(No symbol) [0x00007FF76BDE3404]\n\t(No symbol) [0x00007FF76BDE3592]\n\t(No symbol) [0x00007FF76BDD2F9F]\n\tBaseThreadInitThunk [0x00007FF834A7257D+29]\n\tRtlUserThreadStart [0x00007FF8358CAA48+40]\n",
     "output_type": "error",
     "traceback": [
      "\u001b[1;31m---------------------------------------------------------------------------\u001b[0m",
      "\u001b[1;31mNoSuchWindowException\u001b[0m                     Traceback (most recent call last)",
      "Cell \u001b[1;32mIn[94], line 2\u001b[0m\n\u001b[0;32m      1\u001b[0m \u001b[38;5;66;03m# 다른 방법 = 자바스크립트 으로 활용  새탭 열기\u001b[39;00m\n\u001b[1;32m----> 2\u001b[0m driver\u001b[38;5;241m.\u001b[39mexecute_script(\n\u001b[0;32m      3\u001b[0m     \u001b[38;5;124mf\u001b[39m\u001b[38;5;124m'''\u001b[39m\u001b[38;5;124mwindow.open(\u001b[39m\u001b[38;5;124m\"\u001b[39m\u001b[38;5;132;01m{\u001b[39;00murls[\u001b[38;5;241m0\u001b[39m]\u001b[38;5;132;01m}\u001b[39;00m\u001b[38;5;124m\"\u001b[39m\u001b[38;5;124m,\u001b[39m\u001b[38;5;124m\"\u001b[39m\u001b[38;5;124m_blank\u001b[39m\u001b[38;5;124m\"\u001b[39m\u001b[38;5;124m)\u001b[39m\u001b[38;5;124m'''\u001b[39m\n\u001b[0;32m      4\u001b[0m )\n",
      "File \u001b[1;32m~\\AppData\\Roaming\\Python\\Python311\\site-packages\\selenium\\webdriver\\remote\\webdriver.py:407\u001b[0m, in \u001b[0;36mWebDriver.execute_script\u001b[1;34m(self, script, *args)\u001b[0m\n\u001b[0;32m    404\u001b[0m converted_args \u001b[38;5;241m=\u001b[39m \u001b[38;5;28mlist\u001b[39m(args)\n\u001b[0;32m    405\u001b[0m command \u001b[38;5;241m=\u001b[39m Command\u001b[38;5;241m.\u001b[39mW3C_EXECUTE_SCRIPT\n\u001b[1;32m--> 407\u001b[0m \u001b[38;5;28;01mreturn\u001b[39;00m \u001b[38;5;28mself\u001b[39m\u001b[38;5;241m.\u001b[39mexecute(command, {\u001b[38;5;124m\"\u001b[39m\u001b[38;5;124mscript\u001b[39m\u001b[38;5;124m\"\u001b[39m: script, \u001b[38;5;124m\"\u001b[39m\u001b[38;5;124margs\u001b[39m\u001b[38;5;124m\"\u001b[39m: converted_args})[\u001b[38;5;124m\"\u001b[39m\u001b[38;5;124mvalue\u001b[39m\u001b[38;5;124m\"\u001b[39m]\n",
      "File \u001b[1;32m~\\AppData\\Roaming\\Python\\Python311\\site-packages\\selenium\\webdriver\\remote\\webdriver.py:347\u001b[0m, in \u001b[0;36mWebDriver.execute\u001b[1;34m(self, driver_command, params)\u001b[0m\n\u001b[0;32m    345\u001b[0m response \u001b[38;5;241m=\u001b[39m \u001b[38;5;28mself\u001b[39m\u001b[38;5;241m.\u001b[39mcommand_executor\u001b[38;5;241m.\u001b[39mexecute(driver_command, params)\n\u001b[0;32m    346\u001b[0m \u001b[38;5;28;01mif\u001b[39;00m response:\n\u001b[1;32m--> 347\u001b[0m     \u001b[38;5;28mself\u001b[39m\u001b[38;5;241m.\u001b[39merror_handler\u001b[38;5;241m.\u001b[39mcheck_response(response)\n\u001b[0;32m    348\u001b[0m     response[\u001b[38;5;124m\"\u001b[39m\u001b[38;5;124mvalue\u001b[39m\u001b[38;5;124m\"\u001b[39m] \u001b[38;5;241m=\u001b[39m \u001b[38;5;28mself\u001b[39m\u001b[38;5;241m.\u001b[39m_unwrap_value(response\u001b[38;5;241m.\u001b[39mget(\u001b[38;5;124m\"\u001b[39m\u001b[38;5;124mvalue\u001b[39m\u001b[38;5;124m\"\u001b[39m, \u001b[38;5;28;01mNone\u001b[39;00m))\n\u001b[0;32m    349\u001b[0m     \u001b[38;5;28;01mreturn\u001b[39;00m response\n",
      "File \u001b[1;32m~\\AppData\\Roaming\\Python\\Python311\\site-packages\\selenium\\webdriver\\remote\\errorhandler.py:229\u001b[0m, in \u001b[0;36mErrorHandler.check_response\u001b[1;34m(self, response)\u001b[0m\n\u001b[0;32m    227\u001b[0m         alert_text \u001b[38;5;241m=\u001b[39m value[\u001b[38;5;124m\"\u001b[39m\u001b[38;5;124malert\u001b[39m\u001b[38;5;124m\"\u001b[39m]\u001b[38;5;241m.\u001b[39mget(\u001b[38;5;124m\"\u001b[39m\u001b[38;5;124mtext\u001b[39m\u001b[38;5;124m\"\u001b[39m)\n\u001b[0;32m    228\u001b[0m     \u001b[38;5;28;01mraise\u001b[39;00m exception_class(message, screen, stacktrace, alert_text)  \u001b[38;5;66;03m# type: ignore[call-arg]  # mypy is not smart enough here\u001b[39;00m\n\u001b[1;32m--> 229\u001b[0m \u001b[38;5;28;01mraise\u001b[39;00m exception_class(message, screen, stacktrace)\n",
      "\u001b[1;31mNoSuchWindowException\u001b[0m: Message: no such window: target window already closed\nfrom unknown error: web view not found\n  (Session info: chrome=125.0.6422.141)\nStacktrace:\n\tGetHandleVerifier [0x00007FF76BE61F52+60322]\n\t(No symbol) [0x00007FF76BDDCEC9]\n\t(No symbol) [0x00007FF76BC97EBA]\n\t(No symbol) [0x00007FF76BC6D5A5]\n\t(No symbol) [0x00007FF76BD136B7]\n\t(No symbol) [0x00007FF76BD2B331]\n\t(No symbol) [0x00007FF76BD0BFC3]\n\t(No symbol) [0x00007FF76BCD9617]\n\t(No symbol) [0x00007FF76BCDA211]\n\tGetHandleVerifier [0x00007FF76C1794AD+3301629]\n\tGetHandleVerifier [0x00007FF76C1C36D3+3605283]\n\tGetHandleVerifier [0x00007FF76C1B9450+3563680]\n\tGetHandleVerifier [0x00007FF76BF14326+790390]\n\t(No symbol) [0x00007FF76BDE750F]\n\t(No symbol) [0x00007FF76BDE3404]\n\t(No symbol) [0x00007FF76BDE3592]\n\t(No symbol) [0x00007FF76BDD2F9F]\n\tBaseThreadInitThunk [0x00007FF834A7257D+29]\n\tRtlUserThreadStart [0x00007FF8358CAA48+40]\n"
     ]
    }
   ],
   "source": [
    "# 다른 방법 = 자바스크립트 으로 활용  새탭 열기\n",
    "driver.execute_script(\n",
    "    f'''window.open(\"{urls[0]}\",\"_blank\")'''\n",
    ")"
   ]
  },
  {
   "cell_type": "code",
   "execution_count": 75,
   "id": "b1182a38",
   "metadata": {},
   "outputs": [],
   "source": [
    "urls_list = []\n",
    "\n",
    "for x in range(0,50):\n",
    "    \n",
    "    driver.get(urls[x])\n",
    "    \n",
    "    urls1 = driver.find_element(\n",
    "            By.XPATH,\n",
    "            '//*[@id=\"ulCategory\"]'\n",
    "        ).text\n",
    "    \n",
    "    urls_list.append(urls1) # 저장한다."
   ]
  },
  {
   "cell_type": "code",
   "execution_count": 78,
   "id": "083150fc",
   "metadata": {},
   "outputs": [
    {
     "data": {
      "text/plain": [
       "49"
      ]
     },
     "execution_count": 78,
     "metadata": {},
     "output_type": "execute_result"
    }
   ],
   "source": [
    "len(urls_list) # 위에를 49개를 돌려서."
   ]
  },
  {
   "cell_type": "code",
   "execution_count": null,
   "id": "db1fd23a",
   "metadata": {},
   "outputs": [],
   "source": [
    "# 강사님 소스 코드\n",
    "\n",
    "genre = []\n",
    "\n",
    "for u in urls:\n",
    "    # 스크립트 u 가 0번부터 urls 50개 까지 화면에 보여준다.\n",
    "    driver.execute_script(                 \n",
    "    f'''window.open(\"{u}\",\"_blank\")'''\n",
    "    )\n",
    "        \n",
    "    # 맨 마지막 열린 탭(TAP) 으로 이동   // 맨마지막에 열린 tab으로 간다 b탭\n",
    "    driver.switch_to.window(driver.window_handles[-1])\n",
    "    g = driver.find_element(\n",
    "        By.XPATH,\n",
    "        '//*[@id=\"ulCategory\"]'\n",
    "    ).text\n",
    "    genre.append(g)\n",
    "        \n",
    "    driver.close()\n",
    "        \n",
    "    # 맨 마지막 열린 탭(TAP) 으로 이동   // 맨마지막에 열린 tab으로 간다 b탭\n",
    "    driver.switch_to.window(driver.window_handles[-1])\n"
   ]
  },
  {
   "cell_type": "code",
   "execution_count": null,
   "id": "53e3d346",
   "metadata": {},
   "outputs": [],
   "source": [
    "# 위에 다시 한번 확인하기"
   ]
  },
  {
   "cell_type": "code",
   "execution_count": null,
   "id": "25baf9c2",
   "metadata": {},
   "outputs": [],
   "source": []
  },
  {
   "cell_type": "code",
   "execution_count": null,
   "id": "7ba49b4c",
   "metadata": {},
   "outputs": [],
   "source": []
  },
  {
   "cell_type": "code",
   "execution_count": null,
   "id": "c91b6ebe",
   "metadata": {},
   "outputs": [],
   "source": []
  },
  {
   "cell_type": "markdown",
   "id": "4bb32929",
   "metadata": {},
   "source": [
    "### 다음쪽 넘어가는 방법  \n",
    "1. 다음쪽 다음쪽 클릭으로 넘어가기"
   ]
  },
  {
   "cell_type": "code",
   "execution_count": 103,
   "id": "e070c6da",
   "metadata": {},
   "outputs": [],
   "source": [
    "# 뒤쪽으로 넘어가는 요소들\n",
    "# 51페이지 로 ~ 1\n",
    "disp = driver.find_element(\n",
    "    By.XPATH,\n",
    "    '//*[@id=\"newbg_body\"]/div[3]/ul/li[3]'\n",
    ").is_displayed()\n",
    "\n",
    "if disp:\n",
    "    driver.find_element(\n",
    "        By.XPATH,\n",
    "        '//*[@id=\"newbg_body\"]/div[3]/ul/li[3]'\n",
    "    ).click()\n",
    "else:\n",
    "    print('not displayed!')"
   ]
  },
  {
   "cell_type": "code",
   "execution_count": 86,
   "id": "d3638b73",
   "metadata": {
    "collapsed": true
   },
   "outputs": [
    {
     "ename": "ElementNotInteractableException",
     "evalue": "Message: element not interactable\n  (Session info: chrome=125.0.6422.141)\nStacktrace:\n\tGetHandleVerifier [0x00007FF76BE61F52+60322]\n\t(No symbol) [0x00007FF76BDDCEC9]\n\t(No symbol) [0x00007FF76BC97CE9]\n\t(No symbol) [0x00007FF76BCE89C2]\n\t(No symbol) [0x00007FF76BCDB491]\n\t(No symbol) [0x00007FF76BD0C21A]\n\t(No symbol) [0x00007FF76BCDADB6]\n\t(No symbol) [0x00007FF76BD0C430]\n\t(No symbol) [0x00007FF76BD2BC80]\n\t(No symbol) [0x00007FF76BD0BFC3]\n\t(No symbol) [0x00007FF76BCD9617]\n\t(No symbol) [0x00007FF76BCDA211]\n\tGetHandleVerifier [0x00007FF76C1794AD+3301629]\n\tGetHandleVerifier [0x00007FF76C1C36D3+3605283]\n\tGetHandleVerifier [0x00007FF76C1B9450+3563680]\n\tGetHandleVerifier [0x00007FF76BF14326+790390]\n\t(No symbol) [0x00007FF76BDE750F]\n\t(No symbol) [0x00007FF76BDE3404]\n\t(No symbol) [0x00007FF76BDE3592]\n\t(No symbol) [0x00007FF76BDD2F9F]\n\tBaseThreadInitThunk [0x00007FF834A7257D+29]\n\tRtlUserThreadStart [0x00007FF8358CAA48+40]\n",
     "output_type": "error",
     "traceback": [
      "\u001b[1;31m---------------------------------------------------------------------------\u001b[0m",
      "\u001b[1;31mElementNotInteractableException\u001b[0m           Traceback (most recent call last)",
      "Cell \u001b[1;32mIn[86], line 9\u001b[0m\n\u001b[0;32m      3\u001b[0m disp \u001b[38;5;241m=\u001b[39m driver\u001b[38;5;241m.\u001b[39mfind_element(\n\u001b[0;32m      4\u001b[0m     By\u001b[38;5;241m.\u001b[39mXPATH,\n\u001b[0;32m      5\u001b[0m     \u001b[38;5;124m'\u001b[39m\u001b[38;5;124m//*[@id=\u001b[39m\u001b[38;5;124m\"\u001b[39m\u001b[38;5;124mnewbg_body\u001b[39m\u001b[38;5;124m\"\u001b[39m\u001b[38;5;124m]/div[3]/ul/li[3]\u001b[39m\u001b[38;5;124m'\u001b[39m\n\u001b[0;32m      6\u001b[0m )\n\u001b[0;32m      8\u001b[0m \u001b[38;5;28;01mif\u001b[39;00m disp:\n\u001b[1;32m----> 9\u001b[0m     disp\u001b[38;5;241m.\u001b[39mclick()\n\u001b[0;32m     10\u001b[0m \u001b[38;5;28;01melse\u001b[39;00m:\n\u001b[0;32m     11\u001b[0m     \u001b[38;5;28mprint\u001b[39m(\u001b[38;5;124m'\u001b[39m\u001b[38;5;124mnot displayed!\u001b[39m\u001b[38;5;124m'\u001b[39m)\n",
      "File \u001b[1;32m~\\AppData\\Roaming\\Python\\Python311\\site-packages\\selenium\\webdriver\\remote\\webelement.py:94\u001b[0m, in \u001b[0;36mWebElement.click\u001b[1;34m(self)\u001b[0m\n\u001b[0;32m     92\u001b[0m \u001b[38;5;28;01mdef\u001b[39;00m \u001b[38;5;21mclick\u001b[39m(\u001b[38;5;28mself\u001b[39m) \u001b[38;5;241m-\u001b[39m\u001b[38;5;241m>\u001b[39m \u001b[38;5;28;01mNone\u001b[39;00m:\n\u001b[0;32m     93\u001b[0m \u001b[38;5;250m    \u001b[39m\u001b[38;5;124;03m\"\"\"Clicks the element.\"\"\"\u001b[39;00m\n\u001b[1;32m---> 94\u001b[0m     \u001b[38;5;28mself\u001b[39m\u001b[38;5;241m.\u001b[39m_execute(Command\u001b[38;5;241m.\u001b[39mCLICK_ELEMENT)\n",
      "File \u001b[1;32m~\\AppData\\Roaming\\Python\\Python311\\site-packages\\selenium\\webdriver\\remote\\webelement.py:395\u001b[0m, in \u001b[0;36mWebElement._execute\u001b[1;34m(self, command, params)\u001b[0m\n\u001b[0;32m    393\u001b[0m     params \u001b[38;5;241m=\u001b[39m {}\n\u001b[0;32m    394\u001b[0m params[\u001b[38;5;124m\"\u001b[39m\u001b[38;5;124mid\u001b[39m\u001b[38;5;124m\"\u001b[39m] \u001b[38;5;241m=\u001b[39m \u001b[38;5;28mself\u001b[39m\u001b[38;5;241m.\u001b[39m_id\n\u001b[1;32m--> 395\u001b[0m \u001b[38;5;28;01mreturn\u001b[39;00m \u001b[38;5;28mself\u001b[39m\u001b[38;5;241m.\u001b[39m_parent\u001b[38;5;241m.\u001b[39mexecute(command, params)\n",
      "File \u001b[1;32m~\\AppData\\Roaming\\Python\\Python311\\site-packages\\selenium\\webdriver\\remote\\webdriver.py:347\u001b[0m, in \u001b[0;36mWebDriver.execute\u001b[1;34m(self, driver_command, params)\u001b[0m\n\u001b[0;32m    345\u001b[0m response \u001b[38;5;241m=\u001b[39m \u001b[38;5;28mself\u001b[39m\u001b[38;5;241m.\u001b[39mcommand_executor\u001b[38;5;241m.\u001b[39mexecute(driver_command, params)\n\u001b[0;32m    346\u001b[0m \u001b[38;5;28;01mif\u001b[39;00m response:\n\u001b[1;32m--> 347\u001b[0m     \u001b[38;5;28mself\u001b[39m\u001b[38;5;241m.\u001b[39merror_handler\u001b[38;5;241m.\u001b[39mcheck_response(response)\n\u001b[0;32m    348\u001b[0m     response[\u001b[38;5;124m\"\u001b[39m\u001b[38;5;124mvalue\u001b[39m\u001b[38;5;124m\"\u001b[39m] \u001b[38;5;241m=\u001b[39m \u001b[38;5;28mself\u001b[39m\u001b[38;5;241m.\u001b[39m_unwrap_value(response\u001b[38;5;241m.\u001b[39mget(\u001b[38;5;124m\"\u001b[39m\u001b[38;5;124mvalue\u001b[39m\u001b[38;5;124m\"\u001b[39m, \u001b[38;5;28;01mNone\u001b[39;00m))\n\u001b[0;32m    349\u001b[0m     \u001b[38;5;28;01mreturn\u001b[39;00m response\n",
      "File \u001b[1;32m~\\AppData\\Roaming\\Python\\Python311\\site-packages\\selenium\\webdriver\\remote\\errorhandler.py:229\u001b[0m, in \u001b[0;36mErrorHandler.check_response\u001b[1;34m(self, response)\u001b[0m\n\u001b[0;32m    227\u001b[0m         alert_text \u001b[38;5;241m=\u001b[39m value[\u001b[38;5;124m\"\u001b[39m\u001b[38;5;124malert\u001b[39m\u001b[38;5;124m\"\u001b[39m]\u001b[38;5;241m.\u001b[39mget(\u001b[38;5;124m\"\u001b[39m\u001b[38;5;124mtext\u001b[39m\u001b[38;5;124m\"\u001b[39m)\n\u001b[0;32m    228\u001b[0m     \u001b[38;5;28;01mraise\u001b[39;00m exception_class(message, screen, stacktrace, alert_text)  \u001b[38;5;66;03m# type: ignore[call-arg]  # mypy is not smart enough here\u001b[39;00m\n\u001b[1;32m--> 229\u001b[0m \u001b[38;5;28;01mraise\u001b[39;00m exception_class(message, screen, stacktrace)\n",
      "\u001b[1;31mElementNotInteractableException\u001b[0m: Message: element not interactable\n  (Session info: chrome=125.0.6422.141)\nStacktrace:\n\tGetHandleVerifier [0x00007FF76BE61F52+60322]\n\t(No symbol) [0x00007FF76BDDCEC9]\n\t(No symbol) [0x00007FF76BC97CE9]\n\t(No symbol) [0x00007FF76BCE89C2]\n\t(No symbol) [0x00007FF76BCDB491]\n\t(No symbol) [0x00007FF76BD0C21A]\n\t(No symbol) [0x00007FF76BCDADB6]\n\t(No symbol) [0x00007FF76BD0C430]\n\t(No symbol) [0x00007FF76BD2BC80]\n\t(No symbol) [0x00007FF76BD0BFC3]\n\t(No symbol) [0x00007FF76BCD9617]\n\t(No symbol) [0x00007FF76BCDA211]\n\tGetHandleVerifier [0x00007FF76C1794AD+3301629]\n\tGetHandleVerifier [0x00007FF76C1C36D3+3605283]\n\tGetHandleVerifier [0x00007FF76C1B9450+3563680]\n\tGetHandleVerifier [0x00007FF76BF14326+790390]\n\t(No symbol) [0x00007FF76BDE750F]\n\t(No symbol) [0x00007FF76BDE3404]\n\t(No symbol) [0x00007FF76BDE3592]\n\t(No symbol) [0x00007FF76BDD2F9F]\n\tBaseThreadInitThunk [0x00007FF834A7257D+29]\n\tRtlUserThreadStart [0x00007FF8358CAA48+40]\n"
     ]
    }
   ],
   "source": [
    "# 뒤쪽으로 넘어가는 요소들\n",
    "# 51페이지 로 ~ 2\n",
    "disp = driver.find_element(\n",
    "    By.XPATH,\n",
    "    '//*[@id=\"newbg_body\"]/div[3]/ul/li[3]'\n",
    ")\n",
    "\n",
    "if disp:\n",
    "    disp.click()\n",
    "else:\n",
    "    print('not displayed!')"
   ]
  },
  {
   "cell_type": "code",
   "execution_count": null,
   "id": "2c6ed7a5",
   "metadata": {},
   "outputs": [],
   "source": [
    "# ul 부분을 전부 찾기"
   ]
  },
  {
   "cell_type": "code",
   "execution_count": 112,
   "id": "ba3cde6c",
   "metadata": {},
   "outputs": [],
   "source": [
    "rank = driver.find_element(\n",
    "    By.XPATH,'//*[@id=\"newbg_body\"]/div[3]/ul/li'\n",
    ") # list가 다 나온다."
   ]
  },
  {
   "cell_type": "code",
   "execution_count": 113,
   "id": "7960bb3c",
   "metadata": {},
   "outputs": [
    {
     "data": {
      "text/plain": [
       "<selenium.webdriver.remote.webelement.WebElement (session=\"132d28221070da1314ab52a497604efa\", element=\"f.54CE2225DA9C87B1ADF6F04BD2D64BBD.d.63E7F3800FABF4B7F8E909B9C2BE28A3.e.328\")>"
      ]
     },
     "execution_count": 113,
     "metadata": {},
     "output_type": "execute_result"
    }
   ],
   "source": [
    "rank"
   ]
  },
  {
   "cell_type": "code",
   "execution_count": 115,
   "id": "54182f8f",
   "metadata": {
    "scrolled": true
   },
   "outputs": [
    {
     "ename": "TypeError",
     "evalue": "'WebElement' object is not subscriptable",
     "output_type": "error",
     "traceback": [
      "\u001b[1;31m---------------------------------------------------------------------------\u001b[0m",
      "\u001b[1;31mTypeError\u001b[0m                                 Traceback (most recent call last)",
      "Cell \u001b[1;32mIn[115], line 1\u001b[0m\n\u001b[1;32m----> 1\u001b[0m rank \u001b[38;5;241m=\u001b[39m driver\u001b[38;5;241m.\u001b[39mfind_element(\n\u001b[0;32m      2\u001b[0m     By\u001b[38;5;241m.\u001b[39mXPATH, \u001b[38;5;124m'\u001b[39m\u001b[38;5;124m//*[@id=\u001b[39m\u001b[38;5;124m\"\u001b[39m\u001b[38;5;124mnewbg_body\u001b[39m\u001b[38;5;124m\"\u001b[39m\u001b[38;5;124m]/div[3]/ul/li\u001b[39m\u001b[38;5;124m'\u001b[39m\n\u001b[0;32m      3\u001b[0m )[\u001b[38;5;241m1\u001b[39m:\u001b[38;5;241m-\u001b[39m\u001b[38;5;241m1\u001b[39m]\n",
      "\u001b[1;31mTypeError\u001b[0m: 'WebElement' object is not subscriptable"
     ]
    }
   ],
   "source": [
    "rank = driver.find_element(\n",
    "    By.XPATH, '//*[@id=\"newbg_body\"]/div[3]/ul/li'\n",
    ")[1:-1]"
   ]
  },
  {
   "cell_type": "code",
   "execution_count": 114,
   "id": "8395ed0d",
   "metadata": {},
   "outputs": [],
   "source": [
    "next_button = driver.find_element(\n",
    "    By.XPATH, '//*[@id=\"newbg_body\"]/div[3]/ul/li[22]'\n",
    ")"
   ]
  },
  {
   "cell_type": "code",
   "execution_count": null,
   "id": "6973b2ec",
   "metadata": {},
   "outputs": [],
   "source": [
    "# 페이지 클릭 후 코드을 실행시키지말기"
   ]
  },
  {
   "cell_type": "code",
   "execution_count": 107,
   "id": "222c64b9",
   "metadata": {},
   "outputs": [],
   "source": [
    "import time"
   ]
  },
  {
   "cell_type": "code",
   "execution_count": 111,
   "id": "6001d9a5",
   "metadata": {},
   "outputs": [
    {
     "ename": "TypeError",
     "evalue": "'WebElement' object is not iterable",
     "output_type": "error",
     "traceback": [
      "\u001b[1;31m---------------------------------------------------------------------------\u001b[0m",
      "\u001b[1;31mTypeError\u001b[0m                                 Traceback (most recent call last)",
      "Cell \u001b[1;32mIn[111], line 1\u001b[0m\n\u001b[1;32m----> 1\u001b[0m \u001b[38;5;28;01mfor\u001b[39;00m page \u001b[38;5;129;01min\u001b[39;00m rank:\n\u001b[0;32m      2\u001b[0m     page\u001b[38;5;241m.\u001b[39mclick()\n\u001b[0;32m      3\u001b[0m     \u001b[38;5;28mprint\u001b[39m(page\u001b[38;5;241m.\u001b[39mtext)   \u001b[38;5;66;03m# 진행상황 파악하기\u001b[39;00m\n",
      "\u001b[1;31mTypeError\u001b[0m: 'WebElement' object is not iterable"
     ]
    }
   ],
   "source": [
    "for page in rank:\n",
    "    page.click()\n",
    "    print(page.text)   # 진행상황 파악하기\n",
    "    time.sleep(2)"
   ]
  },
  {
   "cell_type": "code",
   "execution_count": null,
   "id": "67b5c23b",
   "metadata": {},
   "outputs": [],
   "source": [
    "for p in range(2,22):\n",
    "    rank = driver.find_element(\n",
    "    By.XPATH, '//*[@id=\"newbg_body\"]/div[3]/ul/li'\n",
    "    )[1:-1]\n",
    "    page.click()\n",
    "    print(page.text)   # 진행상황 파악하기\n",
    "    time.sleep(2)"
   ]
  },
  {
   "cell_type": "code",
   "execution_count": 118,
   "id": "c5d38d56",
   "metadata": {
    "scrolled": true
   },
   "outputs": [
    {
     "name": "stdout",
     "output_type": "stream",
     "text": [
      "1위\n",
      "51위\n",
      "101위\n",
      "151위\n",
      "201위\n",
      "251위\n",
      "301위\n",
      "351위\n",
      "401위\n",
      "451위\n",
      "\n"
     ]
    },
    {
     "ename": "ElementNotInteractableException",
     "evalue": "Message: element not interactable\n  (Session info: chrome=125.0.6422.141)\nStacktrace:\n\tGetHandleVerifier [0x00007FF76BE61F52+60322]\n\t(No symbol) [0x00007FF76BDDCEC9]\n\t(No symbol) [0x00007FF76BC97CE9]\n\t(No symbol) [0x00007FF76BCE89C2]\n\t(No symbol) [0x00007FF76BCDB491]\n\t(No symbol) [0x00007FF76BD0C21A]\n\t(No symbol) [0x00007FF76BCDADB6]\n\t(No symbol) [0x00007FF76BD0C430]\n\t(No symbol) [0x00007FF76BD2BC80]\n\t(No symbol) [0x00007FF76BD0BFC3]\n\t(No symbol) [0x00007FF76BCD9617]\n\t(No symbol) [0x00007FF76BCDA211]\n\tGetHandleVerifier [0x00007FF76C1794AD+3301629]\n\tGetHandleVerifier [0x00007FF76C1C36D3+3605283]\n\tGetHandleVerifier [0x00007FF76C1B9450+3563680]\n\tGetHandleVerifier [0x00007FF76BF14326+790390]\n\t(No symbol) [0x00007FF76BDE750F]\n\t(No symbol) [0x00007FF76BDE3404]\n\t(No symbol) [0x00007FF76BDE3592]\n\t(No symbol) [0x00007FF76BDD2F9F]\n\tBaseThreadInitThunk [0x00007FF834A7257D+29]\n\tRtlUserThreadStart [0x00007FF8358CAA48+40]\n",
     "output_type": "error",
     "traceback": [
      "\u001b[1;31m---------------------------------------------------------------------------\u001b[0m",
      "\u001b[1;31mElementNotInteractableException\u001b[0m           Traceback (most recent call last)",
      "Cell \u001b[1;32mIn[118], line 6\u001b[0m\n\u001b[0;32m      2\u001b[0m page \u001b[38;5;241m=\u001b[39m driver\u001b[38;5;241m.\u001b[39mfind_element(\n\u001b[0;32m      3\u001b[0m By\u001b[38;5;241m.\u001b[39mXPATH, \u001b[38;5;124mf\u001b[39m\u001b[38;5;124m'\u001b[39m\u001b[38;5;124m//*[@id=\u001b[39m\u001b[38;5;124m\"\u001b[39m\u001b[38;5;124mnewbg_body\u001b[39m\u001b[38;5;124m\"\u001b[39m\u001b[38;5;124m]/div[3]/ul/li[\u001b[39m\u001b[38;5;132;01m{\u001b[39;00mp\u001b[38;5;132;01m}\u001b[39;00m\u001b[38;5;124m]\u001b[39m\u001b[38;5;124m'\u001b[39m\n\u001b[0;32m      4\u001b[0m )\n\u001b[0;32m      5\u001b[0m \u001b[38;5;28mprint\u001b[39m(page\u001b[38;5;241m.\u001b[39mtext)   \u001b[38;5;66;03m# 진행상황 파악하기\u001b[39;00m\n\u001b[1;32m----> 6\u001b[0m page\u001b[38;5;241m.\u001b[39mclick()\n",
      "File \u001b[1;32m~\\AppData\\Roaming\\Python\\Python311\\site-packages\\selenium\\webdriver\\remote\\webelement.py:94\u001b[0m, in \u001b[0;36mWebElement.click\u001b[1;34m(self)\u001b[0m\n\u001b[0;32m     92\u001b[0m \u001b[38;5;28;01mdef\u001b[39;00m \u001b[38;5;21mclick\u001b[39m(\u001b[38;5;28mself\u001b[39m) \u001b[38;5;241m-\u001b[39m\u001b[38;5;241m>\u001b[39m \u001b[38;5;28;01mNone\u001b[39;00m:\n\u001b[0;32m     93\u001b[0m \u001b[38;5;250m    \u001b[39m\u001b[38;5;124;03m\"\"\"Clicks the element.\"\"\"\u001b[39;00m\n\u001b[1;32m---> 94\u001b[0m     \u001b[38;5;28mself\u001b[39m\u001b[38;5;241m.\u001b[39m_execute(Command\u001b[38;5;241m.\u001b[39mCLICK_ELEMENT)\n",
      "File \u001b[1;32m~\\AppData\\Roaming\\Python\\Python311\\site-packages\\selenium\\webdriver\\remote\\webelement.py:395\u001b[0m, in \u001b[0;36mWebElement._execute\u001b[1;34m(self, command, params)\u001b[0m\n\u001b[0;32m    393\u001b[0m     params \u001b[38;5;241m=\u001b[39m {}\n\u001b[0;32m    394\u001b[0m params[\u001b[38;5;124m\"\u001b[39m\u001b[38;5;124mid\u001b[39m\u001b[38;5;124m\"\u001b[39m] \u001b[38;5;241m=\u001b[39m \u001b[38;5;28mself\u001b[39m\u001b[38;5;241m.\u001b[39m_id\n\u001b[1;32m--> 395\u001b[0m \u001b[38;5;28;01mreturn\u001b[39;00m \u001b[38;5;28mself\u001b[39m\u001b[38;5;241m.\u001b[39m_parent\u001b[38;5;241m.\u001b[39mexecute(command, params)\n",
      "File \u001b[1;32m~\\AppData\\Roaming\\Python\\Python311\\site-packages\\selenium\\webdriver\\remote\\webdriver.py:347\u001b[0m, in \u001b[0;36mWebDriver.execute\u001b[1;34m(self, driver_command, params)\u001b[0m\n\u001b[0;32m    345\u001b[0m response \u001b[38;5;241m=\u001b[39m \u001b[38;5;28mself\u001b[39m\u001b[38;5;241m.\u001b[39mcommand_executor\u001b[38;5;241m.\u001b[39mexecute(driver_command, params)\n\u001b[0;32m    346\u001b[0m \u001b[38;5;28;01mif\u001b[39;00m response:\n\u001b[1;32m--> 347\u001b[0m     \u001b[38;5;28mself\u001b[39m\u001b[38;5;241m.\u001b[39merror_handler\u001b[38;5;241m.\u001b[39mcheck_response(response)\n\u001b[0;32m    348\u001b[0m     response[\u001b[38;5;124m\"\u001b[39m\u001b[38;5;124mvalue\u001b[39m\u001b[38;5;124m\"\u001b[39m] \u001b[38;5;241m=\u001b[39m \u001b[38;5;28mself\u001b[39m\u001b[38;5;241m.\u001b[39m_unwrap_value(response\u001b[38;5;241m.\u001b[39mget(\u001b[38;5;124m\"\u001b[39m\u001b[38;5;124mvalue\u001b[39m\u001b[38;5;124m\"\u001b[39m, \u001b[38;5;28;01mNone\u001b[39;00m))\n\u001b[0;32m    349\u001b[0m     \u001b[38;5;28;01mreturn\u001b[39;00m response\n",
      "File \u001b[1;32m~\\AppData\\Roaming\\Python\\Python311\\site-packages\\selenium\\webdriver\\remote\\errorhandler.py:229\u001b[0m, in \u001b[0;36mErrorHandler.check_response\u001b[1;34m(self, response)\u001b[0m\n\u001b[0;32m    227\u001b[0m         alert_text \u001b[38;5;241m=\u001b[39m value[\u001b[38;5;124m\"\u001b[39m\u001b[38;5;124malert\u001b[39m\u001b[38;5;124m\"\u001b[39m]\u001b[38;5;241m.\u001b[39mget(\u001b[38;5;124m\"\u001b[39m\u001b[38;5;124mtext\u001b[39m\u001b[38;5;124m\"\u001b[39m)\n\u001b[0;32m    228\u001b[0m     \u001b[38;5;28;01mraise\u001b[39;00m exception_class(message, screen, stacktrace, alert_text)  \u001b[38;5;66;03m# type: ignore[call-arg]  # mypy is not smart enough here\u001b[39;00m\n\u001b[1;32m--> 229\u001b[0m \u001b[38;5;28;01mraise\u001b[39;00m exception_class(message, screen, stacktrace)\n",
      "\u001b[1;31mElementNotInteractableException\u001b[0m: Message: element not interactable\n  (Session info: chrome=125.0.6422.141)\nStacktrace:\n\tGetHandleVerifier [0x00007FF76BE61F52+60322]\n\t(No symbol) [0x00007FF76BDDCEC9]\n\t(No symbol) [0x00007FF76BC97CE9]\n\t(No symbol) [0x00007FF76BCE89C2]\n\t(No symbol) [0x00007FF76BCDB491]\n\t(No symbol) [0x00007FF76BD0C21A]\n\t(No symbol) [0x00007FF76BCDADB6]\n\t(No symbol) [0x00007FF76BD0C430]\n\t(No symbol) [0x00007FF76BD2BC80]\n\t(No symbol) [0x00007FF76BD0BFC3]\n\t(No symbol) [0x00007FF76BCD9617]\n\t(No symbol) [0x00007FF76BCDA211]\n\tGetHandleVerifier [0x00007FF76C1794AD+3301629]\n\tGetHandleVerifier [0x00007FF76C1C36D3+3605283]\n\tGetHandleVerifier [0x00007FF76C1B9450+3563680]\n\tGetHandleVerifier [0x00007FF76BF14326+790390]\n\t(No symbol) [0x00007FF76BDE750F]\n\t(No symbol) [0x00007FF76BDE3404]\n\t(No symbol) [0x00007FF76BDE3592]\n\t(No symbol) [0x00007FF76BDD2F9F]\n\tBaseThreadInitThunk [0x00007FF834A7257D+29]\n\tRtlUserThreadStart [0x00007FF8358CAA48+40]\n"
     ]
    }
   ],
   "source": [
    "# 451위에서 ~ 501위~로 페이지를 넘길때는 .click() 만으론 안되고 _button 부분을 추가해야 error가 나지 않는다.\n",
    "for p in range(2,22):\n",
    "    page = driver.find_element(\n",
    "        By.XPATH, f'//*[@id=\"newbg_body\"]/div[3]/ul/li[{p}]'\n",
    "    )\n",
    "    print(page.text)   # 진행상황 파악하기  1위 눌를때 1위 print\n",
    "    page.click() # 클릭후 해당페이지 넘어갈때까지 로딩."
   ]
  },
  {
   "cell_type": "code",
   "execution_count": 122,
   "id": "9f3676b7",
   "metadata": {},
   "outputs": [],
   "source": [
    "driver.switch_to.window(driver.window_handles[-1])"
   ]
  },
  {
   "cell_type": "code",
   "execution_count": 123,
   "id": "189ad89c",
   "metadata": {
    "scrolled": true
   },
   "outputs": [
    {
     "name": "stdout",
     "output_type": "stream",
     "text": [
      "1위\n",
      "51위\n",
      "101위\n",
      "151위\n",
      "201위\n",
      "251위\n",
      "301위\n",
      "351위\n",
      "401위\n",
      "451위\n",
      "501위\n",
      "551위\n",
      "601위\n",
      "651위\n",
      "701위\n",
      "751위\n",
      "801위\n",
      "851위\n",
      "901위\n",
      "951위\n"
     ]
    }
   ],
   "source": [
    "for p in range(2,22):\n",
    "    page = driver.find_element(\n",
    "        By.XPATH, f'//*[@id=\"newbg_body\"]/div[3]/ul/li[{p}]'\n",
    "    )\n",
    "    \n",
    "    # next_button 를 클릭하는 함수 \n",
    "    if not page.is_displayed():                     # 디스플레이 페이지가 없을때.\n",
    "        next_button = driver.find_element(                        # 페이지가 빈페이지 부분을 > 클릭 부분\n",
    "            By.XPATH, '//*[@id=\"newbg_body\"]/div[3]/ul/li[22]'\n",
    "        )\n",
    "        next_button.click()\n",
    "    \n",
    "    print(page.text)   # 진행상황 파악하기  1위 눌를때 1위 print\n",
    "    page.click() # 클릭후 해당페이지 넘어갈때까지 로딩.\n",
    "    # 여기부분에 크롤링 관련 코드 추가"
   ]
  },
  {
   "cell_type": "markdown",
   "id": "de31db48",
   "metadata": {},
   "source": [
    "### 위코드에서  \n",
    "여기부분에 크롤링 관련 코드 추가  \n",
    "1. for문 반복문 위에 코드 추가 page = 1~20까지 반복\n",
    "2. a페이지 보여주고 1위~ b페이지 51위~ c페이지 101위~ ~~~~~~~ 쭉 20까지 반복  \n",
    "위에 꺼 아님?  \n",
    ">> 3. 1위~ 전체 페이지랑 선재는~ 이거 같이 나오게?"
   ]
  },
  {
   "cell_type": "code",
   "execution_count": null,
   "id": "f25a46c1",
   "metadata": {},
   "outputs": [],
   "source": [
    "for p in range(2,22):\n",
    "    page = driver.find_element(\n",
    "        By.XPATH, f'//*[@id=\"newbg_body\"]/div[3]/ul/li[{p}]'\n",
    "    )\n",
    "    \n",
    "    # next_button 를 클릭하는 함수 \n",
    "    if not page.is_displayed():                     # 디스플레이 페이지가 없을때.\n",
    "        next_button = driver.find_element(                        # 페이지가 빈페이지 부분을 > 클릭 부분\n",
    "            By.XPATH, '//*[@id=\"newbg_body\"]/div[3]/ul/li[22]'\n",
    "        )\n",
    "        next_button.click()\n",
    "    \n",
    "    print(page.text)   # 진행상황 파악하기  1위 눌를때 1위 print\n",
    "    page.click() # 클릭후 해당페이지 넘어갈때까지 로딩.\n",
    "    # 여기부분에 크롤링 관련 코드 추가"
   ]
  }
 ],
 "metadata": {
  "kernelspec": {
   "display_name": "Python 3 (ipykernel)",
   "language": "python",
   "name": "python3"
  },
  "language_info": {
   "codemirror_mode": {
    "name": "ipython",
    "version": 3
   },
   "file_extension": ".py",
   "mimetype": "text/x-python",
   "name": "python",
   "nbconvert_exporter": "python",
   "pygments_lexer": "ipython3",
   "version": "3.11.7"
  }
 },
 "nbformat": 4,
 "nbformat_minor": 5
}
