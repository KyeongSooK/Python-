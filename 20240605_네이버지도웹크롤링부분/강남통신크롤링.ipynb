{
 "cells": [
  {
   "cell_type": "code",
   "execution_count": 6,
   "id": "5a880599",
   "metadata": {},
   "outputs": [],
   "source": [
    "from selenium import webdriver\n",
    "from selenium.webdriver.common.by import By\n",
    "\n",
    "driver = webdriver.Chrome()\n",
    "keyword = '서울 강남구 정보통신'\n",
    "driver.get(f'https://map.naver.com/p/search/{keyword}?c=12.00,0,0,0,dh')"
   ]
  },
  {
   "cell_type": "code",
   "execution_count": 7,
   "id": "3ffa6c9f",
   "metadata": {},
   "outputs": [],
   "source": [
    "driver.switch_to.frame('searchIframe')"
   ]
  },
  {
   "cell_type": "code",
   "execution_count": 8,
   "id": "abd3e422",
   "metadata": {},
   "outputs": [],
   "source": [
    "from selenium.webdriver import ActionChains\n",
    "\n",
    "li = 0\n",
    "x = 0\n",
    "chain = 0\n",
    "y = 0\n",
    "\n",
    "for x in range(1,5):\n",
    "    li = driver.find_elements(\n",
    "    By.XPATH,\n",
    "    '//*[@id=\"_pcmap_list_scroll_container\"]/ul/li/div[1]/div/a[1]/div/div/span[1]')\n",
    "    \n",
    "    x = [l.text for l in li]\n",
    "    \n",
    "    chain = ActionChains(driver) # ActionChains 초기화\n",
    "    \n",
    "    y = chain.scroll_to_element(li[-1]).perform()"
   ]
  },
  {
   "cell_type": "code",
   "execution_count": null,
   "id": "a7f6ad1b",
   "metadata": {},
   "outputs": [],
   "source": []
  },
  {
   "cell_type": "code",
   "execution_count": null,
   "id": "5833909a",
   "metadata": {},
   "outputs": [],
   "source": []
  },
  {
   "cell_type": "code",
   "execution_count": null,
   "id": "8c64e7aa",
   "metadata": {},
   "outputs": [],
   "source": []
  },
  {
   "cell_type": "code",
   "execution_count": null,
   "id": "c54814fd",
   "metadata": {},
   "outputs": [],
   "source": [
    "from selenium.webdriver.support import expected_conditions as EC\n",
    "from selenium.webdriver.support.ui import WebDriverWait\n",
    "import time\n",
    "from selenium import webdriver\n",
    "from selenium.webdriver.common.by import By\n",
    "from selenium.webdriver import ActionChains\n",
    "\n",
    "driver = webdriver.Chrome()\n",
    "keyword = '서울 강남구 정보통신'\n",
    "driver.get(f'https://map.naver.com/p/search/{keyword}?c=12.00,0,0,0,dh')"
   ]
  },
  {
   "cell_type": "code",
   "execution_count": null,
   "id": "6a35e750",
   "metadata": {},
   "outputs": [],
   "source": []
  }
 ],
 "metadata": {
  "kernelspec": {
   "display_name": "Python 3 (ipykernel)",
   "language": "python",
   "name": "python3"
  },
  "language_info": {
   "codemirror_mode": {
    "name": "ipython",
    "version": 3
   },
   "file_extension": ".py",
   "mimetype": "text/x-python",
   "name": "python",
   "nbconvert_exporter": "python",
   "pygments_lexer": "ipython3",
   "version": "3.11.7"
  }
 },
 "nbformat": 4,
 "nbformat_minor": 5
}
