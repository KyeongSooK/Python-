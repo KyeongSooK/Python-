{
 "cells": [
  {
   "cell_type": "markdown",
   "id": "3178c7b0",
   "metadata": {},
   "source": [
    "# 네이버 지도 맵 크롤링"
   ]
  },
  {
   "cell_type": "code",
   "execution_count": 3,
   "id": "802a8503",
   "metadata": {},
   "outputs": [],
   "source": [
    "from selenium import webdriver\n",
    "from selenium.webdriver.common.by import By\n",
    "# 익스플렉시트 & 웨잇이라는 패키지를 불러온다.\n",
    "from selenium.webdriver.support import expected_conditions as EC\n",
    "from selenium.webdriver.support.ui import WebDriverWait\n",
    "import time"
   ]
  },
  {
   "cell_type": "code",
   "execution_count": 4,
   "id": "67263d9b",
   "metadata": {},
   "outputs": [],
   "source": [
    "driver = webdriver.Chrome()"
   ]
  },
  {
   "cell_type": "code",
   "execution_count": 5,
   "id": "5252f6b7",
   "metadata": {},
   "outputs": [],
   "source": [
    "# 외부운영체제나 한글어를 쓸수 없을경우 url 린이라는 패키지에서 지원을 한다.\n",
    "keyword = '서울 강남구 정보통신'"
   ]
  },
  {
   "cell_type": "code",
   "execution_count": 6,
   "id": "10418f81",
   "metadata": {},
   "outputs": [],
   "source": [
    "#driver.get(f'https://map.naver.com/p/search/[{keyword}]%EC%84%9C%EC%9A%B8%20%EA%B0%95%EB%82%A8%EA%B5%AC%20%EC%A0%95%EB%B3%B4%ED%86%B5%EC%8B%A0?c=12.00,0,0,0,dh')\n",
    "driver.get(f'https://map.naver.com/p/search/{keyword}?c=12.00,0,0,0,dh')"
   ]
  },
  {
   "cell_type": "code",
   "execution_count": 7,
   "id": "1c606314",
   "metadata": {},
   "outputs": [
    {
     "data": {
      "text/plain": [
       "'길찾기'"
      ]
     },
     "execution_count": 7,
     "metadata": {},
     "output_type": "execute_result"
    }
   ],
   "source": [
    "driver.find_element(By.XPATH, '//*[@id=\"header\"]/nav/ul/li[2]/button').text"
   ]
  },
  {
   "cell_type": "code",
   "execution_count": 51,
   "id": "402f8951",
   "metadata": {},
   "outputs": [],
   "source": [
    "# iframe 에서 html 부분을 xpath하면 // << 절대경로 searchIframe \n",
    "driver.switch_to.frame('searchIframe')"
   ]
  },
  {
   "cell_type": "code",
   "execution_count": 21,
   "id": "24fcc34b",
   "metadata": {
    "scrolled": true
   },
   "outputs": [
    {
     "data": {
      "text/plain": [
       "[<selenium.webdriver.remote.webelement.WebElement (session=\"65cf293e0b3b39fd77c0f8d4ef4924f1\", element=\"f.3ED2E01E8A8149B9BAB0AC1751F98CB8.d.5965D05BC4D16FA7A83BDFDD576B3D82.e.128\")>,\n",
       " <selenium.webdriver.remote.webelement.WebElement (session=\"65cf293e0b3b39fd77c0f8d4ef4924f1\", element=\"f.3ED2E01E8A8149B9BAB0AC1751F98CB8.d.5965D05BC4D16FA7A83BDFDD576B3D82.e.129\")>,\n",
       " <selenium.webdriver.remote.webelement.WebElement (session=\"65cf293e0b3b39fd77c0f8d4ef4924f1\", element=\"f.3ED2E01E8A8149B9BAB0AC1751F98CB8.d.5965D05BC4D16FA7A83BDFDD576B3D82.e.130\")>,\n",
       " <selenium.webdriver.remote.webelement.WebElement (session=\"65cf293e0b3b39fd77c0f8d4ef4924f1\", element=\"f.3ED2E01E8A8149B9BAB0AC1751F98CB8.d.5965D05BC4D16FA7A83BDFDD576B3D82.e.131\")>,\n",
       " <selenium.webdriver.remote.webelement.WebElement (session=\"65cf293e0b3b39fd77c0f8d4ef4924f1\", element=\"f.3ED2E01E8A8149B9BAB0AC1751F98CB8.d.5965D05BC4D16FA7A83BDFDD576B3D82.e.132\")>,\n",
       " <selenium.webdriver.remote.webelement.WebElement (session=\"65cf293e0b3b39fd77c0f8d4ef4924f1\", element=\"f.3ED2E01E8A8149B9BAB0AC1751F98CB8.d.5965D05BC4D16FA7A83BDFDD576B3D82.e.133\")>,\n",
       " <selenium.webdriver.remote.webelement.WebElement (session=\"65cf293e0b3b39fd77c0f8d4ef4924f1\", element=\"f.3ED2E01E8A8149B9BAB0AC1751F98CB8.d.5965D05BC4D16FA7A83BDFDD576B3D82.e.134\")>,\n",
       " <selenium.webdriver.remote.webelement.WebElement (session=\"65cf293e0b3b39fd77c0f8d4ef4924f1\", element=\"f.3ED2E01E8A8149B9BAB0AC1751F98CB8.d.5965D05BC4D16FA7A83BDFDD576B3D82.e.135\")>,\n",
       " <selenium.webdriver.remote.webelement.WebElement (session=\"65cf293e0b3b39fd77c0f8d4ef4924f1\", element=\"f.3ED2E01E8A8149B9BAB0AC1751F98CB8.d.5965D05BC4D16FA7A83BDFDD576B3D82.e.136\")>,\n",
       " <selenium.webdriver.remote.webelement.WebElement (session=\"65cf293e0b3b39fd77c0f8d4ef4924f1\", element=\"f.3ED2E01E8A8149B9BAB0AC1751F98CB8.d.5965D05BC4D16FA7A83BDFDD576B3D82.e.137\")>]"
      ]
     },
     "execution_count": 21,
     "metadata": {},
     "output_type": "execute_result"
    }
   ],
   "source": [
    "driver.find_elements(\n",
    "    By.XPATH,\n",
    "    '//*[@id=\"_pcmap_list_scroll_container\"]/ul/li/div[1]/div/a[1]/div/div/span[1]'\n",
    ")\n"
   ]
  },
  {
   "cell_type": "code",
   "execution_count": 62,
   "id": "281139d1",
   "metadata": {},
   "outputs": [
    {
     "data": {
      "text/plain": [
       "[<selenium.webdriver.remote.webelement.WebElement (session=\"310b4aff50283d8f8b833019a0112c4b\", element=\"f.90EA40B483BD51201B903EEF05604FBB.d.3276FF171DE266FC7D548FDBF5F57572.e.248\")>,\n",
       " <selenium.webdriver.remote.webelement.WebElement (session=\"310b4aff50283d8f8b833019a0112c4b\", element=\"f.90EA40B483BD51201B903EEF05604FBB.d.3276FF171DE266FC7D548FDBF5F57572.e.249\")>,\n",
       " <selenium.webdriver.remote.webelement.WebElement (session=\"310b4aff50283d8f8b833019a0112c4b\", element=\"f.90EA40B483BD51201B903EEF05604FBB.d.3276FF171DE266FC7D548FDBF5F57572.e.250\")>,\n",
       " <selenium.webdriver.remote.webelement.WebElement (session=\"310b4aff50283d8f8b833019a0112c4b\", element=\"f.90EA40B483BD51201B903EEF05604FBB.d.3276FF171DE266FC7D548FDBF5F57572.e.251\")>,\n",
       " <selenium.webdriver.remote.webelement.WebElement (session=\"310b4aff50283d8f8b833019a0112c4b\", element=\"f.90EA40B483BD51201B903EEF05604FBB.d.3276FF171DE266FC7D548FDBF5F57572.e.252\")>,\n",
       " <selenium.webdriver.remote.webelement.WebElement (session=\"310b4aff50283d8f8b833019a0112c4b\", element=\"f.90EA40B483BD51201B903EEF05604FBB.d.3276FF171DE266FC7D548FDBF5F57572.e.253\")>,\n",
       " <selenium.webdriver.remote.webelement.WebElement (session=\"310b4aff50283d8f8b833019a0112c4b\", element=\"f.90EA40B483BD51201B903EEF05604FBB.d.3276FF171DE266FC7D548FDBF5F57572.e.254\")>,\n",
       " <selenium.webdriver.remote.webelement.WebElement (session=\"310b4aff50283d8f8b833019a0112c4b\", element=\"f.90EA40B483BD51201B903EEF05604FBB.d.3276FF171DE266FC7D548FDBF5F57572.e.255\")>,\n",
       " <selenium.webdriver.remote.webelement.WebElement (session=\"310b4aff50283d8f8b833019a0112c4b\", element=\"f.90EA40B483BD51201B903EEF05604FBB.d.3276FF171DE266FC7D548FDBF5F57572.e.256\")>,\n",
       " <selenium.webdriver.remote.webelement.WebElement (session=\"310b4aff50283d8f8b833019a0112c4b\", element=\"f.90EA40B483BD51201B903EEF05604FBB.d.3276FF171DE266FC7D548FDBF5F57572.e.257\")>,\n",
       " <selenium.webdriver.remote.webelement.WebElement (session=\"310b4aff50283d8f8b833019a0112c4b\", element=\"f.90EA40B483BD51201B903EEF05604FBB.d.3276FF171DE266FC7D548FDBF5F57572.e.261\")>,\n",
       " <selenium.webdriver.remote.webelement.WebElement (session=\"310b4aff50283d8f8b833019a0112c4b\", element=\"f.90EA40B483BD51201B903EEF05604FBB.d.3276FF171DE266FC7D548FDBF5F57572.e.262\")>,\n",
       " <selenium.webdriver.remote.webelement.WebElement (session=\"310b4aff50283d8f8b833019a0112c4b\", element=\"f.90EA40B483BD51201B903EEF05604FBB.d.3276FF171DE266FC7D548FDBF5F57572.e.263\")>,\n",
       " <selenium.webdriver.remote.webelement.WebElement (session=\"310b4aff50283d8f8b833019a0112c4b\", element=\"f.90EA40B483BD51201B903EEF05604FBB.d.3276FF171DE266FC7D548FDBF5F57572.e.264\")>,\n",
       " <selenium.webdriver.remote.webelement.WebElement (session=\"310b4aff50283d8f8b833019a0112c4b\", element=\"f.90EA40B483BD51201B903EEF05604FBB.d.3276FF171DE266FC7D548FDBF5F57572.e.265\")>,\n",
       " <selenium.webdriver.remote.webelement.WebElement (session=\"310b4aff50283d8f8b833019a0112c4b\", element=\"f.90EA40B483BD51201B903EEF05604FBB.d.3276FF171DE266FC7D548FDBF5F57572.e.266\")>,\n",
       " <selenium.webdriver.remote.webelement.WebElement (session=\"310b4aff50283d8f8b833019a0112c4b\", element=\"f.90EA40B483BD51201B903EEF05604FBB.d.3276FF171DE266FC7D548FDBF5F57572.e.267\")>,\n",
       " <selenium.webdriver.remote.webelement.WebElement (session=\"310b4aff50283d8f8b833019a0112c4b\", element=\"f.90EA40B483BD51201B903EEF05604FBB.d.3276FF171DE266FC7D548FDBF5F57572.e.268\")>,\n",
       " <selenium.webdriver.remote.webelement.WebElement (session=\"310b4aff50283d8f8b833019a0112c4b\", element=\"f.90EA40B483BD51201B903EEF05604FBB.d.3276FF171DE266FC7D548FDBF5F57572.e.269\")>,\n",
       " <selenium.webdriver.remote.webelement.WebElement (session=\"310b4aff50283d8f8b833019a0112c4b\", element=\"f.90EA40B483BD51201B903EEF05604FBB.d.3276FF171DE266FC7D548FDBF5F57572.e.270\")>,\n",
       " <selenium.webdriver.remote.webelement.WebElement (session=\"310b4aff50283d8f8b833019a0112c4b\", element=\"f.90EA40B483BD51201B903EEF05604FBB.d.3276FF171DE266FC7D548FDBF5F57572.e.271\")>,\n",
       " <selenium.webdriver.remote.webelement.WebElement (session=\"310b4aff50283d8f8b833019a0112c4b\", element=\"f.90EA40B483BD51201B903EEF05604FBB.d.3276FF171DE266FC7D548FDBF5F57572.e.272\")>,\n",
       " <selenium.webdriver.remote.webelement.WebElement (session=\"310b4aff50283d8f8b833019a0112c4b\", element=\"f.90EA40B483BD51201B903EEF05604FBB.d.3276FF171DE266FC7D548FDBF5F57572.e.273\")>,\n",
       " <selenium.webdriver.remote.webelement.WebElement (session=\"310b4aff50283d8f8b833019a0112c4b\", element=\"f.90EA40B483BD51201B903EEF05604FBB.d.3276FF171DE266FC7D548FDBF5F57572.e.274\")>,\n",
       " <selenium.webdriver.remote.webelement.WebElement (session=\"310b4aff50283d8f8b833019a0112c4b\", element=\"f.90EA40B483BD51201B903EEF05604FBB.d.3276FF171DE266FC7D548FDBF5F57572.e.275\")>,\n",
       " <selenium.webdriver.remote.webelement.WebElement (session=\"310b4aff50283d8f8b833019a0112c4b\", element=\"f.90EA40B483BD51201B903EEF05604FBB.d.3276FF171DE266FC7D548FDBF5F57572.e.276\")>,\n",
       " <selenium.webdriver.remote.webelement.WebElement (session=\"310b4aff50283d8f8b833019a0112c4b\", element=\"f.90EA40B483BD51201B903EEF05604FBB.d.3276FF171DE266FC7D548FDBF5F57572.e.277\")>,\n",
       " <selenium.webdriver.remote.webelement.WebElement (session=\"310b4aff50283d8f8b833019a0112c4b\", element=\"f.90EA40B483BD51201B903EEF05604FBB.d.3276FF171DE266FC7D548FDBF5F57572.e.278\")>,\n",
       " <selenium.webdriver.remote.webelement.WebElement (session=\"310b4aff50283d8f8b833019a0112c4b\", element=\"f.90EA40B483BD51201B903EEF05604FBB.d.3276FF171DE266FC7D548FDBF5F57572.e.279\")>,\n",
       " <selenium.webdriver.remote.webelement.WebElement (session=\"310b4aff50283d8f8b833019a0112c4b\", element=\"f.90EA40B483BD51201B903EEF05604FBB.d.3276FF171DE266FC7D548FDBF5F57572.e.280\")>,\n",
       " <selenium.webdriver.remote.webelement.WebElement (session=\"310b4aff50283d8f8b833019a0112c4b\", element=\"f.90EA40B483BD51201B903EEF05604FBB.d.3276FF171DE266FC7D548FDBF5F57572.e.281\")>,\n",
       " <selenium.webdriver.remote.webelement.WebElement (session=\"310b4aff50283d8f8b833019a0112c4b\", element=\"f.90EA40B483BD51201B903EEF05604FBB.d.3276FF171DE266FC7D548FDBF5F57572.e.282\")>,\n",
       " <selenium.webdriver.remote.webelement.WebElement (session=\"310b4aff50283d8f8b833019a0112c4b\", element=\"f.90EA40B483BD51201B903EEF05604FBB.d.3276FF171DE266FC7D548FDBF5F57572.e.283\")>,\n",
       " <selenium.webdriver.remote.webelement.WebElement (session=\"310b4aff50283d8f8b833019a0112c4b\", element=\"f.90EA40B483BD51201B903EEF05604FBB.d.3276FF171DE266FC7D548FDBF5F57572.e.284\")>,\n",
       " <selenium.webdriver.remote.webelement.WebElement (session=\"310b4aff50283d8f8b833019a0112c4b\", element=\"f.90EA40B483BD51201B903EEF05604FBB.d.3276FF171DE266FC7D548FDBF5F57572.e.285\")>,\n",
       " <selenium.webdriver.remote.webelement.WebElement (session=\"310b4aff50283d8f8b833019a0112c4b\", element=\"f.90EA40B483BD51201B903EEF05604FBB.d.3276FF171DE266FC7D548FDBF5F57572.e.286\")>,\n",
       " <selenium.webdriver.remote.webelement.WebElement (session=\"310b4aff50283d8f8b833019a0112c4b\", element=\"f.90EA40B483BD51201B903EEF05604FBB.d.3276FF171DE266FC7D548FDBF5F57572.e.287\")>,\n",
       " <selenium.webdriver.remote.webelement.WebElement (session=\"310b4aff50283d8f8b833019a0112c4b\", element=\"f.90EA40B483BD51201B903EEF05604FBB.d.3276FF171DE266FC7D548FDBF5F57572.e.288\")>,\n",
       " <selenium.webdriver.remote.webelement.WebElement (session=\"310b4aff50283d8f8b833019a0112c4b\", element=\"f.90EA40B483BD51201B903EEF05604FBB.d.3276FF171DE266FC7D548FDBF5F57572.e.289\")>,\n",
       " <selenium.webdriver.remote.webelement.WebElement (session=\"310b4aff50283d8f8b833019a0112c4b\", element=\"f.90EA40B483BD51201B903EEF05604FBB.d.3276FF171DE266FC7D548FDBF5F57572.e.290\")>]"
      ]
     },
     "execution_count": 62,
     "metadata": {},
     "output_type": "execute_result"
    }
   ],
   "source": [
    "li = driver.find_elements(\n",
    "    By.XPATH,\n",
    "    '//*[@id=\"_pcmap_list_scroll_container\"]/ul/li/div[1]/div/a[1]/div/div/span[1]')\n",
    "\n",
    "li"
   ]
  },
  {
   "cell_type": "code",
   "execution_count": 63,
   "id": "47b84d6a",
   "metadata": {},
   "outputs": [
    {
     "data": {
      "text/plain": [
       "['피디정보통신',\n",
       " '한국정보통신기술인협회',\n",
       " '한국정보통신진흥협회',\n",
       " '한국통신사업자연합회',\n",
       " '개포디지털혁신파크',\n",
       " '휴먼웍스',\n",
       " '메타올',\n",
       " '헤르메스스탁',\n",
       " '한국정보통신진흥협회부설 정보통신인증센터',\n",
       " '인텔리콘연구소',\n",
       " '에이블게임즈',\n",
       " '뱅코',\n",
       " '체크포인트',\n",
       " '메이븐클라우드서비스',\n",
       " '캔버스타라',\n",
       " '사단법인 한국메타버스산업협회',\n",
       " '유엔넷',\n",
       " '필링크',\n",
       " '공고인포 신문공고',\n",
       " '플루토스',\n",
       " '사운드볼트',\n",
       " '제로타카',\n",
       " '원더빌',\n",
       " '호라이존테크놀로지',\n",
       " '이쿠얼키',\n",
       " '승은이엔티',\n",
       " '플루크 네트웍스',\n",
       " '캐셔레스트',\n",
       " '에이코엔터테인먼트',\n",
       " '컨프론티어',\n",
       " '시엔스',\n",
       " '유비즈',\n",
       " '한국디지털헬스산업협회',\n",
       " '사운드W',\n",
       " '씨에이치그룹',\n",
       " '나날에스엠아이',\n",
       " '인포인데이터',\n",
       " '얼라인업',\n",
       " '엘지유',\n",
       " '뉴타닉스']"
      ]
     },
     "execution_count": 63,
     "metadata": {},
     "output_type": "execute_result"
    }
   ],
   "source": [
    "[l.text for l in li]"
   ]
  },
  {
   "cell_type": "code",
   "execution_count": 54,
   "id": "3842c635",
   "metadata": {},
   "outputs": [],
   "source": [
    "# 우리가 받은 드라이버랑 상호작용을 한다.\n",
    "from selenium.webdriver import ActionChains"
   ]
  },
  {
   "cell_type": "code",
   "execution_count": 8,
   "id": "d5ea3599",
   "metadata": {},
   "outputs": [],
   "source": [
    "chain = ActionChains(driver) # ActionChains 초기화"
   ]
  },
  {
   "cell_type": "code",
   "execution_count": 9,
   "id": "09c03e9b",
   "metadata": {},
   "outputs": [],
   "source": [
    "# 네이버 웹페이지에서 스크롤하는기능 ## 추가로 10개씩 보여준다.\n",
    "chain.scroll_to_element(li[-1]).perform() # scroll_to_element : 확인한 list를 맨 마지막부분을 스크롤을해라"
   ]
  },
  {
   "cell_type": "markdown",
   "id": "113cbf8a",
   "metadata": {},
   "source": [
    "### 문제 \n",
    "1. 서울강남구 접속하고 ActionChains 스크롤 맨마지막으로 내리기  \n",
    "2. 자동화 하기"
   ]
  },
  {
   "cell_type": "code",
   "execution_count": 10,
   "id": "3a95b898",
   "metadata": {},
   "outputs": [],
   "source": [
    "from selenium import webdriver\n",
    "from selenium.webdriver.common.by import By\n",
    "from selenium.webdriver import ActionChains\n",
    "\n",
    "driver = webdriver.Chrome()\n",
    "keyword = '서울 강남구 정보통신'\n",
    "driver.get(f'https://map.naver.com/p/search/{keyword}?c=12.00,0,0,0,dh')"
   ]
  },
  {
   "cell_type": "code",
   "execution_count": 3,
   "id": "e12a71e7",
   "metadata": {},
   "outputs": [],
   "source": [
    "driver.switch_to.frame('searchIframe')"
   ]
  },
  {
   "cell_type": "code",
   "execution_count": 76,
   "id": "d720961d",
   "metadata": {},
   "outputs": [],
   "source": [
    "li = 0\n",
    "x = 0\n",
    "chain = 0\n",
    "y = 0\n",
    "\n",
    "for x in range(1,8):\n",
    "    li = driver.find_elements(\n",
    "    By.XPATH,\n",
    "    '//*[@id=\"_pcmap_list_scroll_container\"]/ul/li/div[1]/div/a[1]/div/div/span[1]')\n",
    "    \n",
    "    x = [l.text for l in li]\n",
    "    \n",
    "    chain = ActionChains(driver) # ActionChains 초기화\n",
    "    \n",
    "    y = chain.scroll_to_element(li[-1]).perform()\n",
    "    \n",
    "    x\n",
    "    \n",
    "    driver.quit()"
   ]
  },
  {
   "cell_type": "code",
   "execution_count": null,
   "id": "16d65b59",
   "metadata": {},
   "outputs": [],
   "source": [
    "len(x) # 확인시 80개 나옴."
   ]
  },
  {
   "cell_type": "markdown",
   "id": "c5745363",
   "metadata": {},
   "source": [
    "### or"
   ]
  },
  {
   "cell_type": "code",
   "execution_count": 80,
   "id": "554942d4",
   "metadata": {},
   "outputs": [
    {
     "ename": "ModuleNotFoundError",
     "evalue": "No module named 'webdriver_manager'",
     "output_type": "error",
     "traceback": [
      "\u001b[1;31m---------------------------------------------------------------------------\u001b[0m",
      "\u001b[1;31mModuleNotFoundError\u001b[0m                       Traceback (most recent call last)",
      "Cell \u001b[1;32mIn[80], line 4\u001b[0m\n\u001b[0;32m      2\u001b[0m \u001b[38;5;28;01mfrom\u001b[39;00m \u001b[38;5;21;01mselenium\u001b[39;00m\u001b[38;5;21;01m.\u001b[39;00m\u001b[38;5;21;01mwebdriver\u001b[39;00m\u001b[38;5;21;01m.\u001b[39;00m\u001b[38;5;21;01mcommon\u001b[39;00m\u001b[38;5;21;01m.\u001b[39;00m\u001b[38;5;21;01mby\u001b[39;00m \u001b[38;5;28;01mimport\u001b[39;00m By\n\u001b[0;32m      3\u001b[0m \u001b[38;5;28;01mfrom\u001b[39;00m \u001b[38;5;21;01mselenium\u001b[39;00m\u001b[38;5;21;01m.\u001b[39;00m\u001b[38;5;21;01mwebdriver\u001b[39;00m\u001b[38;5;21;01m.\u001b[39;00m\u001b[38;5;21;01mchrome\u001b[39;00m\u001b[38;5;21;01m.\u001b[39;00m\u001b[38;5;21;01mservice\u001b[39;00m \u001b[38;5;28;01mimport\u001b[39;00m Service\n\u001b[1;32m----> 4\u001b[0m \u001b[38;5;28;01mfrom\u001b[39;00m \u001b[38;5;21;01mwebdriver_manager\u001b[39;00m\u001b[38;5;21;01m.\u001b[39;00m\u001b[38;5;21;01mchrome\u001b[39;00m \u001b[38;5;28;01mimport\u001b[39;00m ChromeDriverManager\n\u001b[0;32m      5\u001b[0m \u001b[38;5;66;03m#import time\u001b[39;00m\n\u001b[0;32m      6\u001b[0m \n\u001b[0;32m      7\u001b[0m \u001b[38;5;66;03m# ChromeDriver를 설정\u001b[39;00m\n\u001b[0;32m      8\u001b[0m service \u001b[38;5;241m=\u001b[39m Service(ChromeDriverManager()\u001b[38;5;241m.\u001b[39minstall())\n",
      "\u001b[1;31mModuleNotFoundError\u001b[0m: No module named 'webdriver_manager'"
     ]
    }
   ],
   "source": [
    "from selenium import webdriver\n",
    "from selenium.webdriver.common.by import By\n",
    "from selenium.webdriver.chrome.service import Service\n",
    "from webdriver_manager.chrome import ChromeDriverManager # 배우지 않은 설치되지 않은 모듈\n",
    "#import time\n",
    "\n",
    "# ChromeDriver를 설정\n",
    "service = Service(ChromeDriverManager().install())\n",
    "driver = webdriver.Chrome(service=service)\n",
    "\n",
    "# 검색 키워드 정의\n",
    "keyword = '서울 강남구 정보통신'\n",
    "\n",
    "# 검색 페이지 열기\n",
    "url = f'https://map.naver.com/v5/search/{keyword}?c=12.00,0,0,0,dh'\n",
    "driver.get(url)\n",
    "\n",
    "# 페이지가 로드될 때까지 대기\n",
    "#time.sleep(5)"
   ]
  },
  {
   "cell_type": "code",
   "execution_count": null,
   "id": "89194ce2",
   "metadata": {},
   "outputs": [],
   "source": [
    "# 검색 결과가 포함된 iframe으로 전환\n",
    "driver.switch_to.frame('searchIframe')"
   ]
  },
  {
   "cell_type": "code",
   "execution_count": null,
   "id": "2ac3d0b3",
   "metadata": {},
   "outputs": [],
   "source": [
    "# 요소의 텍스트를 저장할 리스트 초기화\n",
    "elements_text = []\n",
    "\n",
    "# 페이지를 아래로 스크롤하는 함수 정의\n",
    "def scroll_down(driver):\n",
    "    driver.execute_script(\"document.querySelector('#_pcmap_list_scroll_container').scrollTop += 500\")\n",
    "\n",
    "# 초기 요소 개수\n",
    "previous_elements_count = 0\n",
    "\n",
    "while True:\n",
    "    # 원하는 텍스트를 포함하는 요소 찾기\n",
    "    li_elements = driver.find_elements(By.XPATH, '//*[@id=\"_pcmap_list_scroll_container\"]/ul/li/div[1]/div/a[1]/div/div/span[1]')\n",
    "    \n",
    "    # 각 요소의 텍스트를 추출하여 리스트에 추가 (중복되지 않게)\n",
    "    elements_text.extend([element.text for element in li_elements if element.text not in elements_text])\n",
    "    \n",
    "    # 새로운 요소가 더 이상 발견되지 않으면 루프 종료\n",
    "    if len(li_elements) == previous_elements_count:\n",
    "        break\n",
    "    \n",
    "    previous_elements_count = len(li_elements)\n",
    "    \n",
    "    # 페이지 아래로 스크롤\n",
    "    scroll_down(driver)\n",
    "    \n",
    "    # 새로운 요소가 로드될 시간을 대기\n",
    "    #time.sleep(2)\n",
    "\n",
    "# 수집한 텍스트 출력\n",
    "print(elements_text)"
   ]
  },
  {
   "cell_type": "code",
   "execution_count": null,
   "id": "c191e788",
   "metadata": {},
   "outputs": [],
   "source": []
  },
  {
   "cell_type": "code",
   "execution_count": null,
   "id": "28783e9f",
   "metadata": {},
   "outputs": [],
   "source": []
  },
  {
   "cell_type": "code",
   "execution_count": null,
   "id": "55a53fe8",
   "metadata": {},
   "outputs": [],
   "source": [
    "# 강사님 코드"
   ]
  },
  {
   "cell_type": "code",
   "execution_count": 5,
   "id": "834661a5",
   "metadata": {},
   "outputs": [],
   "source": [
    "from selenium import webdriver\n",
    "from selenium.webdriver.common.by import By\n",
    "from selenium.webdriver import ActionChains\n",
    "\n",
    "driver = webdriver.Chrome()\n",
    "keyword = '서울 강남구 정보통신'\n",
    "driver.get(f'https://map.naver.com/p/search/{keyword}?c=12.00,0,0,0,dh')"
   ]
  },
  {
   "cell_type": "code",
   "execution_count": null,
   "id": "0d205464",
   "metadata": {},
   "outputs": [],
   "source": []
  },
  {
   "cell_type": "code",
   "execution_count": null,
   "id": "5f0512d0",
   "metadata": {},
   "outputs": [],
   "source": []
  },
  {
   "cell_type": "code",
   "execution_count": null,
   "id": "e73dc873",
   "metadata": {},
   "outputs": [],
   "source": [
    "# switch 다음 부터~"
   ]
  },
  {
   "cell_type": "code",
   "execution_count": null,
   "id": "db5303d3",
   "metadata": {},
   "outputs": [],
   "source": [
    "# 돌리고 리스트로 update를 계속한다."
   ]
  },
  {
   "cell_type": "code",
   "execution_count": null,
   "id": "2a695e7f",
   "metadata": {},
   "outputs": [],
   "source": [
    "# 함수로 드라이버 엘리먼트 부분을 만든다 get_li"
   ]
  },
  {
   "cell_type": "code",
   "execution_count": 7,
   "id": "04cc64c2",
   "metadata": {},
   "outputs": [],
   "source": [
    "def get_li():\n",
    "    li = driver.find_elements(\n",
    "    By.XPATH,\n",
    "    '//*[@id=\"_pcmap_list_scroll_container\"]/ul/li/div[1]/div/a[1]/div/div/span[1]'\n",
    "    )\n",
    "    return li"
   ]
  },
  {
   "cell_type": "code",
   "execution_count": 12,
   "id": "81ce444a",
   "metadata": {},
   "outputs": [
    {
     "ename": "NoSuchElementException",
     "evalue": "Message: no such element: element not found\n  (Session info: chrome=125.0.6422.142); For documentation on this error, please visit: https://www.selenium.dev/documentation/webdriver/troubleshooting/errors#no-such-element-exception\nStacktrace:\n\tGetHandleVerifier [0x00007FF65E901F52+60322]\n\t(No symbol) [0x00007FF65E87CEC9]\n\t(No symbol) [0x00007FF65E737EBA]\n\t(No symbol) [0x00007FF65E74A2CD]\n\t(No symbol) [0x00007FF65E74AD5A]\n\t(No symbol) [0x00007FF65E73ED69]\n\t(No symbol) [0x00007FF65E73CAB6]\n\t(No symbol) [0x00007FF65E740641]\n\t(No symbol) [0x00007FF65E7406E0]\n\t(No symbol) [0x00007FF65E78E713]\n\t(No symbol) [0x00007FF65E78D976]\n\t(No symbol) [0x00007FF65E7D6027]\n\t(No symbol) [0x00007FF65E7AC21A]\n\t(No symbol) [0x00007FF65E7CBC80]\n\t(No symbol) [0x00007FF65E7ABFC3]\n\t(No symbol) [0x00007FF65E779617]\n\t(No symbol) [0x00007FF65E77A211]\n\tGetHandleVerifier [0x00007FF65EC194AD+3301629]\n\tGetHandleVerifier [0x00007FF65EC636D3+3605283]\n\tGetHandleVerifier [0x00007FF65EC59450+3563680]\n\tGetHandleVerifier [0x00007FF65E9B4326+790390]\n\t(No symbol) [0x00007FF65E88750F]\n\t(No symbol) [0x00007FF65E883404]\n\t(No symbol) [0x00007FF65E883592]\n\t(No symbol) [0x00007FF65E872F9F]\n\tBaseThreadInitThunk [0x00007FF834A7257D+29]\n\tRtlUserThreadStart [0x00007FF8358CAA48+40]\n",
     "output_type": "error",
     "traceback": [
      "\u001b[1;31m---------------------------------------------------------------------------\u001b[0m",
      "\u001b[1;31mNoSuchElementException\u001b[0m                    Traceback (most recent call last)",
      "Cell \u001b[1;32mIn[12], line 10\u001b[0m\n\u001b[0;32m      7\u001b[0m \u001b[38;5;28;01mwhile\u001b[39;00m li_last \u001b[38;5;241m!=\u001b[39m li[\u001b[38;5;241m-\u001b[39m\u001b[38;5;241m1\u001b[39m]:  \u001b[38;5;66;03m# li 마지막 값이 변동이 있으면 계속 반복\u001b[39;00m\n\u001b[0;32m      8\u001b[0m     li_last \u001b[38;5;241m=\u001b[39m li[\u001b[38;5;241m-\u001b[39m\u001b[38;5;241m1\u001b[39m] \u001b[38;5;66;03m# 업데이트  > li 마지막 값 업데이트\u001b[39;00m\n\u001b[1;32m---> 10\u001b[0m     chain\u001b[38;5;241m.\u001b[39mscroll_to_element(li[\u001b[38;5;241m-\u001b[39m\u001b[38;5;241m1\u001b[39m])\u001b[38;5;241m.\u001b[39mperform()\n\u001b[0;32m     11\u001b[0m     li \u001b[38;5;241m=\u001b[39m get_li()\n",
      "File \u001b[1;32m~\\AppData\\Roaming\\Python\\Python311\\site-packages\\selenium\\webdriver\\common\\action_chains.py:94\u001b[0m, in \u001b[0;36mActionChains.perform\u001b[1;34m(self)\u001b[0m\n\u001b[0;32m     92\u001b[0m \u001b[38;5;28;01mdef\u001b[39;00m \u001b[38;5;21mperform\u001b[39m(\u001b[38;5;28mself\u001b[39m) \u001b[38;5;241m-\u001b[39m\u001b[38;5;241m>\u001b[39m \u001b[38;5;28;01mNone\u001b[39;00m:\n\u001b[0;32m     93\u001b[0m \u001b[38;5;250m    \u001b[39m\u001b[38;5;124;03m\"\"\"Performs all stored actions.\"\"\"\u001b[39;00m\n\u001b[1;32m---> 94\u001b[0m     \u001b[38;5;28mself\u001b[39m\u001b[38;5;241m.\u001b[39mw3c_actions\u001b[38;5;241m.\u001b[39mperform()\n",
      "File \u001b[1;32m~\\AppData\\Roaming\\Python\\Python311\\site-packages\\selenium\\webdriver\\common\\actions\\action_builder.py:96\u001b[0m, in \u001b[0;36mActionBuilder.perform\u001b[1;34m(self)\u001b[0m\n\u001b[0;32m     94\u001b[0m         enc[\u001b[38;5;124m\"\u001b[39m\u001b[38;5;124mactions\u001b[39m\u001b[38;5;124m\"\u001b[39m]\u001b[38;5;241m.\u001b[39mappend(encoded)\n\u001b[0;32m     95\u001b[0m         device\u001b[38;5;241m.\u001b[39mactions \u001b[38;5;241m=\u001b[39m []\n\u001b[1;32m---> 96\u001b[0m \u001b[38;5;28mself\u001b[39m\u001b[38;5;241m.\u001b[39mdriver\u001b[38;5;241m.\u001b[39mexecute(Command\u001b[38;5;241m.\u001b[39mW3C_ACTIONS, enc)\n",
      "File \u001b[1;32m~\\AppData\\Roaming\\Python\\Python311\\site-packages\\selenium\\webdriver\\remote\\webdriver.py:347\u001b[0m, in \u001b[0;36mWebDriver.execute\u001b[1;34m(self, driver_command, params)\u001b[0m\n\u001b[0;32m    345\u001b[0m response \u001b[38;5;241m=\u001b[39m \u001b[38;5;28mself\u001b[39m\u001b[38;5;241m.\u001b[39mcommand_executor\u001b[38;5;241m.\u001b[39mexecute(driver_command, params)\n\u001b[0;32m    346\u001b[0m \u001b[38;5;28;01mif\u001b[39;00m response:\n\u001b[1;32m--> 347\u001b[0m     \u001b[38;5;28mself\u001b[39m\u001b[38;5;241m.\u001b[39merror_handler\u001b[38;5;241m.\u001b[39mcheck_response(response)\n\u001b[0;32m    348\u001b[0m     response[\u001b[38;5;124m\"\u001b[39m\u001b[38;5;124mvalue\u001b[39m\u001b[38;5;124m\"\u001b[39m] \u001b[38;5;241m=\u001b[39m \u001b[38;5;28mself\u001b[39m\u001b[38;5;241m.\u001b[39m_unwrap_value(response\u001b[38;5;241m.\u001b[39mget(\u001b[38;5;124m\"\u001b[39m\u001b[38;5;124mvalue\u001b[39m\u001b[38;5;124m\"\u001b[39m, \u001b[38;5;28;01mNone\u001b[39;00m))\n\u001b[0;32m    349\u001b[0m     \u001b[38;5;28;01mreturn\u001b[39;00m response\n",
      "File \u001b[1;32m~\\AppData\\Roaming\\Python\\Python311\\site-packages\\selenium\\webdriver\\remote\\errorhandler.py:229\u001b[0m, in \u001b[0;36mErrorHandler.check_response\u001b[1;34m(self, response)\u001b[0m\n\u001b[0;32m    227\u001b[0m         alert_text \u001b[38;5;241m=\u001b[39m value[\u001b[38;5;124m\"\u001b[39m\u001b[38;5;124malert\u001b[39m\u001b[38;5;124m\"\u001b[39m]\u001b[38;5;241m.\u001b[39mget(\u001b[38;5;124m\"\u001b[39m\u001b[38;5;124mtext\u001b[39m\u001b[38;5;124m\"\u001b[39m)\n\u001b[0;32m    228\u001b[0m     \u001b[38;5;28;01mraise\u001b[39;00m exception_class(message, screen, stacktrace, alert_text)  \u001b[38;5;66;03m# type: ignore[call-arg]  # mypy is not smart enough here\u001b[39;00m\n\u001b[1;32m--> 229\u001b[0m \u001b[38;5;28;01mraise\u001b[39;00m exception_class(message, screen, stacktrace)\n",
      "\u001b[1;31mNoSuchElementException\u001b[0m: Message: no such element: element not found\n  (Session info: chrome=125.0.6422.142); For documentation on this error, please visit: https://www.selenium.dev/documentation/webdriver/troubleshooting/errors#no-such-element-exception\nStacktrace:\n\tGetHandleVerifier [0x00007FF65E901F52+60322]\n\t(No symbol) [0x00007FF65E87CEC9]\n\t(No symbol) [0x00007FF65E737EBA]\n\t(No symbol) [0x00007FF65E74A2CD]\n\t(No symbol) [0x00007FF65E74AD5A]\n\t(No symbol) [0x00007FF65E73ED69]\n\t(No symbol) [0x00007FF65E73CAB6]\n\t(No symbol) [0x00007FF65E740641]\n\t(No symbol) [0x00007FF65E7406E0]\n\t(No symbol) [0x00007FF65E78E713]\n\t(No symbol) [0x00007FF65E78D976]\n\t(No symbol) [0x00007FF65E7D6027]\n\t(No symbol) [0x00007FF65E7AC21A]\n\t(No symbol) [0x00007FF65E7CBC80]\n\t(No symbol) [0x00007FF65E7ABFC3]\n\t(No symbol) [0x00007FF65E779617]\n\t(No symbol) [0x00007FF65E77A211]\n\tGetHandleVerifier [0x00007FF65EC194AD+3301629]\n\tGetHandleVerifier [0x00007FF65EC636D3+3605283]\n\tGetHandleVerifier [0x00007FF65EC59450+3563680]\n\tGetHandleVerifier [0x00007FF65E9B4326+790390]\n\t(No symbol) [0x00007FF65E88750F]\n\t(No symbol) [0x00007FF65E883404]\n\t(No symbol) [0x00007FF65E883592]\n\t(No symbol) [0x00007FF65E872F9F]\n\tBaseThreadInitThunk [0x00007FF834A7257D+29]\n\tRtlUserThreadStart [0x00007FF8358CAA48+40]\n"
     ]
    }
   ],
   "source": [
    "driver.switch_to.frame('searchIframe') # 위에랑 합치면 error 나는 이유 >웹페이지하기전에 정지를 하는데 로딩 기다리는 부분 웹페이지 로딩이 되기전에 \n",
    "\n",
    "li = get_li()  # li 리스트 구했을때  >> 초기 li값 : 10개\n",
    "li_last = ''                # 마지막값은 '' > 아무거나해도 됨 >> 임의의 값\n",
    "\n",
    "#while true 무한반복한다.\n",
    "while li_last != li[-1]:  # li 마지막 값이 변동이 있으면 계속 반복\n",
    "    li_last = li[-1] # 업데이트  > li 마지막 값 업데이트\n",
    "    \n",
    "    chain.scroll_to_element(li[-1]).perform()\n",
    "    li = get_li()\n",
    "    \n",
    "                                # 일치하면 돌리고\n",
    "        \n",
    "                                # 아니면 안돌리고\n",
    "            \n",
    "           "
   ]
  },
  {
   "cell_type": "markdown",
   "id": "8212e2c4",
   "metadata": {},
   "source": [
    "### 웹사이트 로딩 대기 방법"
   ]
  },
  {
   "cell_type": "code",
   "execution_count": 7,
   "id": "56e7b40b",
   "metadata": {},
   "outputs": [],
   "source": [
    "# 익스플렉시트 & 웨잇이라는 패키지를 불러온다.\n",
    "from selenium.webdriver.support import expected_conditions as EC\n",
    "from selenium.webdriver.support.ui import WebDriverWait\n",
    "import time"
   ]
  },
  {
   "cell_type": "code",
   "execution_count": 8,
   "id": "ab5bf5b3",
   "metadata": {},
   "outputs": [
    {
     "data": {
      "text/plain": [
       "[<selenium.webdriver.remote.webelement.WebElement (session=\"463b19787c195ae25c0972e80e637ff7\", element=\"f.6AEFFBAD56AD1CF859D6D3F06F2120D0.d.57CDFA8CE118E3BCB9431F3E7234E365.e.181\")>]"
      ]
     },
     "execution_count": 8,
     "metadata": {},
     "output_type": "execute_result"
    }
   ],
   "source": [
    "# 익스플레이시트 웨잇\n",
    "driver.get(f'https://map.naver.com/p/search/{keyword}?c=12.00,0,0,0,dh') \n",
    "WebDriverWait(driver,2).until(EC.presence_of_all_elements_located(        # 위치에 있는지 아닌지 check 하는 웹드라이버 웨잇 언틸이라는 함수\n",
    "    (By.XPATH, '//*[@id=\"searchIframe\"]')))  # 대기 상환시간은 2초 > 넉넉하게 하는게 부화가 안된다.\n",
    "#driver.switch_to.frame('searchIframe')\n",
    "#EC.presence_of_element_located\n",
    "# 서울강남구정보통신이 잇는지없는지 확인"
   ]
  },
  {
   "cell_type": "code",
   "execution_count": null,
   "id": "b0f29f99",
   "metadata": {},
   "outputs": [],
   "source": [
    "# iframe 에서 html 부분을 xpath하면 // << 절대경로 searchIframe \n",
    "#driver.switch_to.frame('searchIframe')"
   ]
  },
  {
   "cell_type": "code",
   "execution_count": 8,
   "id": "e753137b",
   "metadata": {},
   "outputs": [],
   "source": [
    "# 인플리시트 웨잇\n",
    "driver.get(f'https://map.naver.com/p/search/{keyword}?c=12.00,0,0,0,dh')\n",
    "time.sleep(2)\n",
    "# iframe 에서 html 부분을 xpath하면 // << 절대경로 searchIframe \n",
    "driver.switch_to.frame('searchIframe')"
   ]
  },
  {
   "cell_type": "code",
   "execution_count": null,
   "id": "1f2d55f4",
   "metadata": {},
   "outputs": [],
   "source": [
    " # 위위에 가 돌때까지 돈다."
   ]
  },
  {
   "cell_type": "code",
   "execution_count": null,
   "id": "d05d1744",
   "metadata": {},
   "outputs": [],
   "source": [
    "store = [l.text~] # 업체이름으로 저장"
   ]
  },
  {
   "cell_type": "code",
   "execution_count": null,
   "id": "471a5494",
   "metadata": {},
   "outputs": [],
   "source": []
  },
  {
   "cell_type": "code",
   "execution_count": null,
   "id": "c19c3faa",
   "metadata": {},
   "outputs": [],
   "source": [
    "# 카테고리 len가 70개 확인"
   ]
  },
  {
   "cell_type": "code",
   "execution_count": 83,
   "id": "ecbb5c11",
   "metadata": {},
   "outputs": [],
   "source": [
    "# li 마지막값이 스크롤 안내린 상태에서는\n",
    "li = get_li()"
   ]
  },
  {
   "cell_type": "code",
   "execution_count": 84,
   "id": "c1095e07",
   "metadata": {},
   "outputs": [
    {
     "data": {
      "text/plain": [
       "'플라톰 기업부설연구소'"
      ]
     },
     "execution_count": 84,
     "metadata": {},
     "output_type": "execute_result"
    }
   ],
   "source": [
    "li[-1].text # 스크롤 안한상태에서 플루토스?"
   ]
  },
  {
   "cell_type": "markdown",
   "id": "5c71cbf9",
   "metadata": {},
   "source": [
    " 1. 1에서 10이 ㅇㅆ을때 \n",
    " 2. 10 != 20 이면 \n",
    " result > 리스트가 많은데, 몇번 반복할지 모를때 사용한다."
   ]
  },
  {
   "cell_type": "code",
   "execution_count": null,
   "id": "f43dc1c6",
   "metadata": {},
   "outputs": [],
   "source": [
    "# 이름 옆에 정보"
   ]
  },
  {
   "cell_type": "code",
   "execution_count": 104,
   "id": "fabfa074",
   "metadata": {},
   "outputs": [],
   "source": [
    "driver.switch_to.frame('searchIframe')"
   ]
  },
  {
   "cell_type": "code",
   "execution_count": 14,
   "id": "ef2116fa",
   "metadata": {},
   "outputs": [],
   "source": [
    "category = driver.find_elements(\n",
    "    By.XPATH,\n",
    "    '//*[@id=\"_pcmap_list_scroll_container\"]/ul/li[1]/div[1]/div/a[1]/div/div/span'\n",
    "    )\n",
    "\n",
    "#category"
   ]
  },
  {
   "cell_type": "code",
   "execution_count": 16,
   "id": "33d83703",
   "metadata": {
    "scrolled": true
   },
   "outputs": [],
   "source": [
    "# 실제로 이렇케 안한다 셀레니움은 조작 순서 컨디션에 따라 다르다 (강사님 x)\n",
    "# category2 = []\n",
    "\n",
    "# for c in category:     # span 태그로 나오게\n",
    "#     c2 = c.find_elements(\n",
    "#     By.XPATH,\n",
    "#     './span'\n",
    "#     )\n",
    "    \n",
    "#     category2.append[c2[-1].text]"
   ]
  },
  {
   "cell_type": "code",
   "execution_count": null,
   "id": "81885e58",
   "metadata": {},
   "outputs": [],
   "source": []
  },
  {
   "cell_type": "markdown",
   "id": "4e5cf1a8",
   "metadata": {},
   "source": [
    "### 회사명 클릭 후 부분 entryIframe"
   ]
  },
  {
   "cell_type": "code",
   "execution_count": null,
   "id": "2e38b038",
   "metadata": {},
   "outputs": [],
   "source": [
    "## !!! 디폴트 iframe 안에 search프레임 entry 프레임이 있다."
   ]
  },
  {
   "cell_type": "code",
   "execution_count": null,
   "id": "114f9bfc",
   "metadata": {},
   "outputs": [],
   "source": []
  },
  {
   "cell_type": "code",
   "execution_count": 9,
   "id": "be770874",
   "metadata": {},
   "outputs": [
    {
     "ename": "NoSuchFrameException",
     "evalue": "Message: entryIframe\n",
     "output_type": "error",
     "traceback": [
      "\u001b[1;31m---------------------------------------------------------------------------\u001b[0m",
      "\u001b[1;31mNoSuchElementException\u001b[0m                    Traceback (most recent call last)",
      "File \u001b[1;32m~\\AppData\\Roaming\\Python\\Python311\\site-packages\\selenium\\webdriver\\remote\\switch_to.py:88\u001b[0m, in \u001b[0;36mSwitchTo.frame\u001b[1;34m(self, frame_reference)\u001b[0m\n\u001b[0;32m     87\u001b[0m \u001b[38;5;28;01mtry\u001b[39;00m:\n\u001b[1;32m---> 88\u001b[0m     frame_reference \u001b[38;5;241m=\u001b[39m \u001b[38;5;28mself\u001b[39m\u001b[38;5;241m.\u001b[39m_driver\u001b[38;5;241m.\u001b[39mfind_element(By\u001b[38;5;241m.\u001b[39mID, frame_reference)\n\u001b[0;32m     89\u001b[0m \u001b[38;5;28;01mexcept\u001b[39;00m NoSuchElementException:\n",
      "File \u001b[1;32m~\\AppData\\Roaming\\Python\\Python311\\site-packages\\selenium\\webdriver\\remote\\webdriver.py:741\u001b[0m, in \u001b[0;36mWebDriver.find_element\u001b[1;34m(self, by, value)\u001b[0m\n\u001b[0;32m    739\u001b[0m     value \u001b[38;5;241m=\u001b[39m \u001b[38;5;124mf\u001b[39m\u001b[38;5;124m'\u001b[39m\u001b[38;5;124m[name=\u001b[39m\u001b[38;5;124m\"\u001b[39m\u001b[38;5;132;01m{\u001b[39;00mvalue\u001b[38;5;132;01m}\u001b[39;00m\u001b[38;5;124m\"\u001b[39m\u001b[38;5;124m]\u001b[39m\u001b[38;5;124m'\u001b[39m\n\u001b[1;32m--> 741\u001b[0m \u001b[38;5;28;01mreturn\u001b[39;00m \u001b[38;5;28mself\u001b[39m\u001b[38;5;241m.\u001b[39mexecute(Command\u001b[38;5;241m.\u001b[39mFIND_ELEMENT, {\u001b[38;5;124m\"\u001b[39m\u001b[38;5;124musing\u001b[39m\u001b[38;5;124m\"\u001b[39m: by, \u001b[38;5;124m\"\u001b[39m\u001b[38;5;124mvalue\u001b[39m\u001b[38;5;124m\"\u001b[39m: value})[\u001b[38;5;124m\"\u001b[39m\u001b[38;5;124mvalue\u001b[39m\u001b[38;5;124m\"\u001b[39m]\n",
      "File \u001b[1;32m~\\AppData\\Roaming\\Python\\Python311\\site-packages\\selenium\\webdriver\\remote\\webdriver.py:347\u001b[0m, in \u001b[0;36mWebDriver.execute\u001b[1;34m(self, driver_command, params)\u001b[0m\n\u001b[0;32m    346\u001b[0m \u001b[38;5;28;01mif\u001b[39;00m response:\n\u001b[1;32m--> 347\u001b[0m     \u001b[38;5;28mself\u001b[39m\u001b[38;5;241m.\u001b[39merror_handler\u001b[38;5;241m.\u001b[39mcheck_response(response)\n\u001b[0;32m    348\u001b[0m     response[\u001b[38;5;124m\"\u001b[39m\u001b[38;5;124mvalue\u001b[39m\u001b[38;5;124m\"\u001b[39m] \u001b[38;5;241m=\u001b[39m \u001b[38;5;28mself\u001b[39m\u001b[38;5;241m.\u001b[39m_unwrap_value(response\u001b[38;5;241m.\u001b[39mget(\u001b[38;5;124m\"\u001b[39m\u001b[38;5;124mvalue\u001b[39m\u001b[38;5;124m\"\u001b[39m, \u001b[38;5;28;01mNone\u001b[39;00m))\n",
      "File \u001b[1;32m~\\AppData\\Roaming\\Python\\Python311\\site-packages\\selenium\\webdriver\\remote\\errorhandler.py:229\u001b[0m, in \u001b[0;36mErrorHandler.check_response\u001b[1;34m(self, response)\u001b[0m\n\u001b[0;32m    228\u001b[0m     \u001b[38;5;28;01mraise\u001b[39;00m exception_class(message, screen, stacktrace, alert_text)  \u001b[38;5;66;03m# type: ignore[call-arg]  # mypy is not smart enough here\u001b[39;00m\n\u001b[1;32m--> 229\u001b[0m \u001b[38;5;28;01mraise\u001b[39;00m exception_class(message, screen, stacktrace)\n",
      "\u001b[1;31mNoSuchElementException\u001b[0m: Message: no such element: Unable to locate element: {\"method\":\"css selector\",\"selector\":\"[id=\"entryIframe\"]\"}\n  (Session info: chrome=125.0.6422.142); For documentation on this error, please visit: https://www.selenium.dev/documentation/webdriver/troubleshooting/errors#no-such-element-exception\nStacktrace:\n\tGetHandleVerifier [0x00007FF65E901F52+60322]\n\t(No symbol) [0x00007FF65E87CEC9]\n\t(No symbol) [0x00007FF65E737EBA]\n\t(No symbol) [0x00007FF65E787676]\n\t(No symbol) [0x00007FF65E78773C]\n\t(No symbol) [0x00007FF65E7CE967]\n\t(No symbol) [0x00007FF65E7AC25F]\n\t(No symbol) [0x00007FF65E7CBC80]\n\t(No symbol) [0x00007FF65E7ABFC3]\n\t(No symbol) [0x00007FF65E779617]\n\t(No symbol) [0x00007FF65E77A211]\n\tGetHandleVerifier [0x00007FF65EC194AD+3301629]\n\tGetHandleVerifier [0x00007FF65EC636D3+3605283]\n\tGetHandleVerifier [0x00007FF65EC59450+3563680]\n\tGetHandleVerifier [0x00007FF65E9B4326+790390]\n\t(No symbol) [0x00007FF65E88750F]\n\t(No symbol) [0x00007FF65E883404]\n\t(No symbol) [0x00007FF65E883592]\n\t(No symbol) [0x00007FF65E872F9F]\n\tBaseThreadInitThunk [0x00007FF834A7257D+29]\n\tRtlUserThreadStart [0x00007FF8358CAA48+40]\n",
      "\nDuring handling of the above exception, another exception occurred:\n",
      "\u001b[1;31mNoSuchElementException\u001b[0m                    Traceback (most recent call last)",
      "File \u001b[1;32m~\\AppData\\Roaming\\Python\\Python311\\site-packages\\selenium\\webdriver\\remote\\switch_to.py:91\u001b[0m, in \u001b[0;36mSwitchTo.frame\u001b[1;34m(self, frame_reference)\u001b[0m\n\u001b[0;32m     90\u001b[0m \u001b[38;5;28;01mtry\u001b[39;00m:\n\u001b[1;32m---> 91\u001b[0m     frame_reference \u001b[38;5;241m=\u001b[39m \u001b[38;5;28mself\u001b[39m\u001b[38;5;241m.\u001b[39m_driver\u001b[38;5;241m.\u001b[39mfind_element(By\u001b[38;5;241m.\u001b[39mNAME, frame_reference)\n\u001b[0;32m     92\u001b[0m \u001b[38;5;28;01mexcept\u001b[39;00m NoSuchElementException \u001b[38;5;28;01mas\u001b[39;00m exc:\n",
      "File \u001b[1;32m~\\AppData\\Roaming\\Python\\Python311\\site-packages\\selenium\\webdriver\\remote\\webdriver.py:741\u001b[0m, in \u001b[0;36mWebDriver.find_element\u001b[1;34m(self, by, value)\u001b[0m\n\u001b[0;32m    739\u001b[0m     value \u001b[38;5;241m=\u001b[39m \u001b[38;5;124mf\u001b[39m\u001b[38;5;124m'\u001b[39m\u001b[38;5;124m[name=\u001b[39m\u001b[38;5;124m\"\u001b[39m\u001b[38;5;132;01m{\u001b[39;00mvalue\u001b[38;5;132;01m}\u001b[39;00m\u001b[38;5;124m\"\u001b[39m\u001b[38;5;124m]\u001b[39m\u001b[38;5;124m'\u001b[39m\n\u001b[1;32m--> 741\u001b[0m \u001b[38;5;28;01mreturn\u001b[39;00m \u001b[38;5;28mself\u001b[39m\u001b[38;5;241m.\u001b[39mexecute(Command\u001b[38;5;241m.\u001b[39mFIND_ELEMENT, {\u001b[38;5;124m\"\u001b[39m\u001b[38;5;124musing\u001b[39m\u001b[38;5;124m\"\u001b[39m: by, \u001b[38;5;124m\"\u001b[39m\u001b[38;5;124mvalue\u001b[39m\u001b[38;5;124m\"\u001b[39m: value})[\u001b[38;5;124m\"\u001b[39m\u001b[38;5;124mvalue\u001b[39m\u001b[38;5;124m\"\u001b[39m]\n",
      "File \u001b[1;32m~\\AppData\\Roaming\\Python\\Python311\\site-packages\\selenium\\webdriver\\remote\\webdriver.py:347\u001b[0m, in \u001b[0;36mWebDriver.execute\u001b[1;34m(self, driver_command, params)\u001b[0m\n\u001b[0;32m    346\u001b[0m \u001b[38;5;28;01mif\u001b[39;00m response:\n\u001b[1;32m--> 347\u001b[0m     \u001b[38;5;28mself\u001b[39m\u001b[38;5;241m.\u001b[39merror_handler\u001b[38;5;241m.\u001b[39mcheck_response(response)\n\u001b[0;32m    348\u001b[0m     response[\u001b[38;5;124m\"\u001b[39m\u001b[38;5;124mvalue\u001b[39m\u001b[38;5;124m\"\u001b[39m] \u001b[38;5;241m=\u001b[39m \u001b[38;5;28mself\u001b[39m\u001b[38;5;241m.\u001b[39m_unwrap_value(response\u001b[38;5;241m.\u001b[39mget(\u001b[38;5;124m\"\u001b[39m\u001b[38;5;124mvalue\u001b[39m\u001b[38;5;124m\"\u001b[39m, \u001b[38;5;28;01mNone\u001b[39;00m))\n",
      "File \u001b[1;32m~\\AppData\\Roaming\\Python\\Python311\\site-packages\\selenium\\webdriver\\remote\\errorhandler.py:229\u001b[0m, in \u001b[0;36mErrorHandler.check_response\u001b[1;34m(self, response)\u001b[0m\n\u001b[0;32m    228\u001b[0m     \u001b[38;5;28;01mraise\u001b[39;00m exception_class(message, screen, stacktrace, alert_text)  \u001b[38;5;66;03m# type: ignore[call-arg]  # mypy is not smart enough here\u001b[39;00m\n\u001b[1;32m--> 229\u001b[0m \u001b[38;5;28;01mraise\u001b[39;00m exception_class(message, screen, stacktrace)\n",
      "\u001b[1;31mNoSuchElementException\u001b[0m: Message: no such element: Unable to locate element: {\"method\":\"css selector\",\"selector\":\"[name=\"entryIframe\"]\"}\n  (Session info: chrome=125.0.6422.142); For documentation on this error, please visit: https://www.selenium.dev/documentation/webdriver/troubleshooting/errors#no-such-element-exception\nStacktrace:\n\tGetHandleVerifier [0x00007FF65E901F52+60322]\n\t(No symbol) [0x00007FF65E87CEC9]\n\t(No symbol) [0x00007FF65E737EBA]\n\t(No symbol) [0x00007FF65E787676]\n\t(No symbol) [0x00007FF65E78773C]\n\t(No symbol) [0x00007FF65E7CE967]\n\t(No symbol) [0x00007FF65E7AC25F]\n\t(No symbol) [0x00007FF65E7CBC80]\n\t(No symbol) [0x00007FF65E7ABFC3]\n\t(No symbol) [0x00007FF65E779617]\n\t(No symbol) [0x00007FF65E77A211]\n\tGetHandleVerifier [0x00007FF65EC194AD+3301629]\n\tGetHandleVerifier [0x00007FF65EC636D3+3605283]\n\tGetHandleVerifier [0x00007FF65EC59450+3563680]\n\tGetHandleVerifier [0x00007FF65E9B4326+790390]\n\t(No symbol) [0x00007FF65E88750F]\n\t(No symbol) [0x00007FF65E883404]\n\t(No symbol) [0x00007FF65E883592]\n\t(No symbol) [0x00007FF65E872F9F]\n\tBaseThreadInitThunk [0x00007FF834A7257D+29]\n\tRtlUserThreadStart [0x00007FF8358CAA48+40]\n",
      "\nThe above exception was the direct cause of the following exception:\n",
      "\u001b[1;31mNoSuchFrameException\u001b[0m                      Traceback (most recent call last)",
      "Cell \u001b[1;32mIn[9], line 3\u001b[0m\n\u001b[0;32m      1\u001b[0m \u001b[38;5;66;03m# 엔트리 다른 웹페이지로 이동 == 네이버 지도 에서 entryIframe\u001b[39;00m\n\u001b[0;32m      2\u001b[0m driver\u001b[38;5;241m.\u001b[39mswitch_to\u001b[38;5;241m.\u001b[39mdefault_content()  \u001b[38;5;66;03m# main(searchIframe) 영역으로 나오는부분\u001b[39;00m\n\u001b[1;32m----> 3\u001b[0m driver\u001b[38;5;241m.\u001b[39mswitch_to\u001b[38;5;241m.\u001b[39mframe(\u001b[38;5;124m'\u001b[39m\u001b[38;5;124mentryIframe\u001b[39m\u001b[38;5;124m'\u001b[39m)\n",
      "File \u001b[1;32m~\\AppData\\Roaming\\Python\\Python311\\site-packages\\selenium\\webdriver\\remote\\switch_to.py:93\u001b[0m, in \u001b[0;36mSwitchTo.frame\u001b[1;34m(self, frame_reference)\u001b[0m\n\u001b[0;32m     91\u001b[0m             frame_reference \u001b[38;5;241m=\u001b[39m \u001b[38;5;28mself\u001b[39m\u001b[38;5;241m.\u001b[39m_driver\u001b[38;5;241m.\u001b[39mfind_element(By\u001b[38;5;241m.\u001b[39mNAME, frame_reference)\n\u001b[0;32m     92\u001b[0m         \u001b[38;5;28;01mexcept\u001b[39;00m NoSuchElementException \u001b[38;5;28;01mas\u001b[39;00m exc:\n\u001b[1;32m---> 93\u001b[0m             \u001b[38;5;28;01mraise\u001b[39;00m NoSuchFrameException(frame_reference) \u001b[38;5;28;01mfrom\u001b[39;00m \u001b[38;5;21;01mexc\u001b[39;00m\n\u001b[0;32m     95\u001b[0m \u001b[38;5;28mself\u001b[39m\u001b[38;5;241m.\u001b[39m_driver\u001b[38;5;241m.\u001b[39mexecute(Command\u001b[38;5;241m.\u001b[39mSWITCH_TO_FRAME, {\u001b[38;5;124m\"\u001b[39m\u001b[38;5;124mid\u001b[39m\u001b[38;5;124m\"\u001b[39m: frame_reference})\n",
      "\u001b[1;31mNoSuchFrameException\u001b[0m: Message: entryIframe\n"
     ]
    }
   ],
   "source": [
    "# 엔트리 다른 웹페이지로 이동 == 네이버 지도 에서 entryIframe\n",
    "driver.switch_to.default_content()  # main(searchIframe) 영역으로 나오는부분\n",
    "driver.switch_to.frame('entryIframe') # entryIframe 로 넘어가는 드라이브"
   ]
  },
  {
   "cell_type": "code",
   "execution_count": 10,
   "id": "a9b70d47",
   "metadata": {},
   "outputs": [],
   "source": [
    "# 엔트리 다른 웹페이지로 이동 == 네이버 지도 에서 entryIframe\n",
    "driver.switch_to.default_content()  # main(searchIframe) 영역으로 나오는부분\n",
    "driver.switch_to.frame('searchIframe') # searchIframe 로 넘어가는 드라이브"
   ]
  },
  {
   "cell_type": "code",
   "execution_count": 12,
   "id": "dfa4eda6",
   "metadata": {
    "collapsed": true
   },
   "outputs": [
    {
     "ename": "NoSuchElementException",
     "evalue": "Message: no such element: Unable to locate element: {\"method\":\"xpath\",\"selector\":\"//*[@id=\"app-root\"]/div/div/div/div[5]/div/div[2]/div/div/div[1]/div/a/span[1]\"}\n  (Session info: chrome=125.0.6422.142); For documentation on this error, please visit: https://www.selenium.dev/documentation/webdriver/troubleshooting/errors#no-such-element-exception\nStacktrace:\n\tGetHandleVerifier [0x00007FF65E901F52+60322]\n\t(No symbol) [0x00007FF65E87CEC9]\n\t(No symbol) [0x00007FF65E737EBA]\n\t(No symbol) [0x00007FF65E787676]\n\t(No symbol) [0x00007FF65E78773C]\n\t(No symbol) [0x00007FF65E7CE967]\n\t(No symbol) [0x00007FF65E7AC25F]\n\t(No symbol) [0x00007FF65E7CBC80]\n\t(No symbol) [0x00007FF65E7ABFC3]\n\t(No symbol) [0x00007FF65E779617]\n\t(No symbol) [0x00007FF65E77A211]\n\tGetHandleVerifier [0x00007FF65EC194AD+3301629]\n\tGetHandleVerifier [0x00007FF65EC636D3+3605283]\n\tGetHandleVerifier [0x00007FF65EC59450+3563680]\n\tGetHandleVerifier [0x00007FF65E9B4326+790390]\n\t(No symbol) [0x00007FF65E88750F]\n\t(No symbol) [0x00007FF65E883404]\n\t(No symbol) [0x00007FF65E883592]\n\t(No symbol) [0x00007FF65E872F9F]\n\tBaseThreadInitThunk [0x00007FF834A7257D+29]\n\tRtlUserThreadStart [0x00007FF8358CAA48+40]\n",
     "output_type": "error",
     "traceback": [
      "\u001b[1;31m---------------------------------------------------------------------------\u001b[0m",
      "\u001b[1;31mNoSuchElementException\u001b[0m                    Traceback (most recent call last)",
      "Cell \u001b[1;32mIn[12], line 1\u001b[0m\n\u001b[1;32m----> 1\u001b[0m driver\u001b[38;5;241m.\u001b[39mfind_element(By\u001b[38;5;241m.\u001b[39mXPATH, \u001b[38;5;124m'\u001b[39m\u001b[38;5;124m//*[@id=\u001b[39m\u001b[38;5;124m\"\u001b[39m\u001b[38;5;124mapp-root\u001b[39m\u001b[38;5;124m\"\u001b[39m\u001b[38;5;124m]/div/div/div/div[5]/div/div[2]/div/div/div[1]/div/a/span[1]\u001b[39m\u001b[38;5;124m'\u001b[39m)\n",
      "File \u001b[1;32m~\\AppData\\Roaming\\Python\\Python311\\site-packages\\selenium\\webdriver\\remote\\webdriver.py:741\u001b[0m, in \u001b[0;36mWebDriver.find_element\u001b[1;34m(self, by, value)\u001b[0m\n\u001b[0;32m    738\u001b[0m     by \u001b[38;5;241m=\u001b[39m By\u001b[38;5;241m.\u001b[39mCSS_SELECTOR\n\u001b[0;32m    739\u001b[0m     value \u001b[38;5;241m=\u001b[39m \u001b[38;5;124mf\u001b[39m\u001b[38;5;124m'\u001b[39m\u001b[38;5;124m[name=\u001b[39m\u001b[38;5;124m\"\u001b[39m\u001b[38;5;132;01m{\u001b[39;00mvalue\u001b[38;5;132;01m}\u001b[39;00m\u001b[38;5;124m\"\u001b[39m\u001b[38;5;124m]\u001b[39m\u001b[38;5;124m'\u001b[39m\n\u001b[1;32m--> 741\u001b[0m \u001b[38;5;28;01mreturn\u001b[39;00m \u001b[38;5;28mself\u001b[39m\u001b[38;5;241m.\u001b[39mexecute(Command\u001b[38;5;241m.\u001b[39mFIND_ELEMENT, {\u001b[38;5;124m\"\u001b[39m\u001b[38;5;124musing\u001b[39m\u001b[38;5;124m\"\u001b[39m: by, \u001b[38;5;124m\"\u001b[39m\u001b[38;5;124mvalue\u001b[39m\u001b[38;5;124m\"\u001b[39m: value})[\u001b[38;5;124m\"\u001b[39m\u001b[38;5;124mvalue\u001b[39m\u001b[38;5;124m\"\u001b[39m]\n",
      "File \u001b[1;32m~\\AppData\\Roaming\\Python\\Python311\\site-packages\\selenium\\webdriver\\remote\\webdriver.py:347\u001b[0m, in \u001b[0;36mWebDriver.execute\u001b[1;34m(self, driver_command, params)\u001b[0m\n\u001b[0;32m    345\u001b[0m response \u001b[38;5;241m=\u001b[39m \u001b[38;5;28mself\u001b[39m\u001b[38;5;241m.\u001b[39mcommand_executor\u001b[38;5;241m.\u001b[39mexecute(driver_command, params)\n\u001b[0;32m    346\u001b[0m \u001b[38;5;28;01mif\u001b[39;00m response:\n\u001b[1;32m--> 347\u001b[0m     \u001b[38;5;28mself\u001b[39m\u001b[38;5;241m.\u001b[39merror_handler\u001b[38;5;241m.\u001b[39mcheck_response(response)\n\u001b[0;32m    348\u001b[0m     response[\u001b[38;5;124m\"\u001b[39m\u001b[38;5;124mvalue\u001b[39m\u001b[38;5;124m\"\u001b[39m] \u001b[38;5;241m=\u001b[39m \u001b[38;5;28mself\u001b[39m\u001b[38;5;241m.\u001b[39m_unwrap_value(response\u001b[38;5;241m.\u001b[39mget(\u001b[38;5;124m\"\u001b[39m\u001b[38;5;124mvalue\u001b[39m\u001b[38;5;124m\"\u001b[39m, \u001b[38;5;28;01mNone\u001b[39;00m))\n\u001b[0;32m    349\u001b[0m     \u001b[38;5;28;01mreturn\u001b[39;00m response\n",
      "File \u001b[1;32m~\\AppData\\Roaming\\Python\\Python311\\site-packages\\selenium\\webdriver\\remote\\errorhandler.py:229\u001b[0m, in \u001b[0;36mErrorHandler.check_response\u001b[1;34m(self, response)\u001b[0m\n\u001b[0;32m    227\u001b[0m         alert_text \u001b[38;5;241m=\u001b[39m value[\u001b[38;5;124m\"\u001b[39m\u001b[38;5;124malert\u001b[39m\u001b[38;5;124m\"\u001b[39m]\u001b[38;5;241m.\u001b[39mget(\u001b[38;5;124m\"\u001b[39m\u001b[38;5;124mtext\u001b[39m\u001b[38;5;124m\"\u001b[39m)\n\u001b[0;32m    228\u001b[0m     \u001b[38;5;28;01mraise\u001b[39;00m exception_class(message, screen, stacktrace, alert_text)  \u001b[38;5;66;03m# type: ignore[call-arg]  # mypy is not smart enough here\u001b[39;00m\n\u001b[1;32m--> 229\u001b[0m \u001b[38;5;28;01mraise\u001b[39;00m exception_class(message, screen, stacktrace)\n",
      "\u001b[1;31mNoSuchElementException\u001b[0m: Message: no such element: Unable to locate element: {\"method\":\"xpath\",\"selector\":\"//*[@id=\"app-root\"]/div/div/div/div[5]/div/div[2]/div/div/div[1]/div/a/span[1]\"}\n  (Session info: chrome=125.0.6422.142); For documentation on this error, please visit: https://www.selenium.dev/documentation/webdriver/troubleshooting/errors#no-such-element-exception\nStacktrace:\n\tGetHandleVerifier [0x00007FF65E901F52+60322]\n\t(No symbol) [0x00007FF65E87CEC9]\n\t(No symbol) [0x00007FF65E737EBA]\n\t(No symbol) [0x00007FF65E787676]\n\t(No symbol) [0x00007FF65E78773C]\n\t(No symbol) [0x00007FF65E7CE967]\n\t(No symbol) [0x00007FF65E7AC25F]\n\t(No symbol) [0x00007FF65E7CBC80]\n\t(No symbol) [0x00007FF65E7ABFC3]\n\t(No symbol) [0x00007FF65E779617]\n\t(No symbol) [0x00007FF65E77A211]\n\tGetHandleVerifier [0x00007FF65EC194AD+3301629]\n\tGetHandleVerifier [0x00007FF65EC636D3+3605283]\n\tGetHandleVerifier [0x00007FF65EC59450+3563680]\n\tGetHandleVerifier [0x00007FF65E9B4326+790390]\n\t(No symbol) [0x00007FF65E88750F]\n\t(No symbol) [0x00007FF65E883404]\n\t(No symbol) [0x00007FF65E883592]\n\t(No symbol) [0x00007FF65E872F9F]\n\tBaseThreadInitThunk [0x00007FF834A7257D+29]\n\tRtlUserThreadStart [0x00007FF8358CAA48+40]\n"
     ]
    }
   ],
   "source": [
    "#@!\n",
    "driver.find_element(By.XPATH, '//*[@id=\"app-root\"]/div/div/div/div[5]/div/div[2]/div/div/div[1]/div/a/span[1]')"
   ]
  },
  {
   "cell_type": "code",
   "execution_count": null,
   "id": "3ca5c5ba",
   "metadata": {},
   "outputs": [],
   "source": []
  },
  {
   "cell_type": "code",
   "execution_count": 11,
   "id": "cd0e0292",
   "metadata": {},
   "outputs": [
    {
     "ename": "NameError",
     "evalue": "name 'li' is not defined",
     "output_type": "error",
     "traceback": [
      "\u001b[1;31m---------------------------------------------------------------------------\u001b[0m",
      "\u001b[1;31mNameError\u001b[0m                                 Traceback (most recent call last)",
      "Cell \u001b[1;32mIn[11], line 1\u001b[0m\n\u001b[1;32m----> 1\u001b[0m li[\u001b[38;5;241m0\u001b[39m]\u001b[38;5;241m.\u001b[39mclick()\n",
      "\u001b[1;31mNameError\u001b[0m: name 'li' is not defined"
     ]
    }
   ],
   "source": [
    "li[0].click()"
   ]
  },
  {
   "cell_type": "code",
   "execution_count": null,
   "id": "17ffc08a",
   "metadata": {},
   "outputs": [],
   "source": []
  },
  {
   "cell_type": "code",
   "execution_count": null,
   "id": "29ecf0a8",
   "metadata": {},
   "outputs": [],
   "source": [
    "# 다된 상황으로 가정해서 지도 웹크롤링 순서\n",
    "# 접속\n",
    "# searchiframe\n",
    "# 가게명 크롤링"
   ]
  },
  {
   "cell_type": "code",
   "execution_count": null,
   "id": "a27598f9",
   "metadata": {},
   "outputs": [],
   "source": [
    "# \n",
    "# \n",
    "#"
   ]
  },
  {
   "cell_type": "code",
   "execution_count": null,
   "id": "592cedac",
   "metadata": {},
   "outputs": [],
   "source": []
  },
  {
   "cell_type": "markdown",
   "id": "6847384d",
   "metadata": {},
   "source": [
    "### 주소 , 전화번호"
   ]
  },
  {
   "cell_type": "code",
   "execution_count": 9,
   "id": "77e333af",
   "metadata": {},
   "outputs": [],
   "source": [
    "# soup\n",
    "from bs4 import BeautifulSoup"
   ]
  },
  {
   "cell_type": "code",
   "execution_count": 10,
   "id": "b5bbe16e",
   "metadata": {},
   "outputs": [
    {
     "data": {
      "text/plain": [
       "'<html lang=\"ko\"><head><meta charset=\"utf-8\"><meta name=\"viewport\" content=\"width=device-width,initial-scale=1\"><meta property=\"og:type\" content=\"website\"><meta name=\"referrer\" content=\"always\"><title>서울 강남구 정보통신 검색 - 네이버 지도</title><meta data-rh=\"true\" name=\"Description\" content=\"공간을 검색합니다. 생활을 연결합니다. 장소, 버스, 지하철, 도로 등 모든 공간의 정보를 하나의 검색으로 연결한 새로운 지도를 만나보세요.\"><meta data-rh=\"true\" property=\"og:description\" content=\"공간을 검색합니다. 생활을 연결합니다. 장소, 버스, 지하철, 도로 등 모든 공간의 정보를 하나의 검색으로 연결한 새로운 지도를 만나보세요.\"><meta data-rh=\"true\" property=\"twitter:description\" content=\"공간을 검색합니다. 생활을 연결합니다. 장소, 버스, 지하철, 도로 등 모든 공간의 정보를 하나의 검색으로 연결한 새로운 지도를 만나보세요.\"><meta data-rh=\"true\" property=\"og:image\" content=\"https://search.pstatic.net/common/?src=https%3A%2F%2Fssl.pstatic.net%2Fstatic%2Fmaps%2Fv5%2Fpc%2Fnaver-map.png&amp;type=f&amp;size=1200x630&amp;quality=80&amp;opt=2\"><meta data-rh=\"true\" property=\"twitter:image\" content=\"https://search.pstatic.net/common/?src=https%3A%2F%2Fssl.pstatic.net%2Fstatic%2Fmaps%2Fv5%2Fpc%2Fnaver-map.png&amp;type=f&amp;size=1200x600&amp;quality=80&amp;opt=2\"><meta data-rh=\"true\" property=\"twitter:card\" content=\"https://search.pstatic.net/common/?src=https%3A%2F%2Fssl.pstatic.net%2Fstatic%2Fmaps%2Fv5%2Fpc%2Fnaver-map.png&amp;type=f&amp;size=600x600&amp;quality=80&amp;opt=2\"><style data-styled=\"active\" data-styled-version=\"5.3.6\"></style><base href=\"/p/\"><link rel=\"search\" type=\"application/opensearchdescription+xml\" href=\"assets/opensearch.xml\" title=\"네이버지도\"><link rel=\"manifest\" href=\"assets/manifest.json\" crossorigin=\"use-credentials\"><link rel=\"shortcut icon\" type=\"image/x-icon\" href=\"assets/icons/favicon.ico\"><link rel=\"apple-touch-icon\" sizes=\"180x180\" href=\"assets/icons/apple-touch-icon.png\"><link rel=\"icon\" type=\"image/png\" sizes=\"32x32\" href=\"assets/icons/favicon-32x32.png\"><link rel=\"icon\" type=\"image/png\" sizes=\"16x16\" href=\"assets/icons/favicon-16x16.png\"><meta name=\"msapplication-TileColor\" content=\"#03c75b\"><meta name=\"theme-color\" content=\"#ffffff\"><style id=\"gnb_style\" type=\"text/css\">@charset \"UTF-8\";\\n/* NTS UIT Development Office YJH 140717 */\\na.gnb_my, .gnb_icon, #gnb .gnb_my_interface, .gnb_my_li .gnb_my_content .gnb_membership, #gnb .gnb_ico_num .gnb_ico_new, #gnb .gnb_ico_num .gnb_ico_new .gnb_count, .gnb_lst .ico_arrow, a.gnb_my .filter_mask, .gnb_my_lyr, .gnb_my_li .gnb_my_content .gnb_mask, .gnb_my_li .gnb_my_content .gnb_edit_lst li, .gnb_notice_li .gnb_notice_lyr, .gnb_notice_li .svc_list .gnb_ico_mail, .gnb_notice_li .svc_list .gnb_btn_remove span, .gnb_notice_li .svc_list .gnb_btn_remove i, .gnb_notice_li .gnb_error .gnb_ico_error, .gnb_ly_alert .gnb_btn_close i, .gnb_first_visit, .gnb_search_box, .gnb_search_box .gnb_del_txt, .gnb_svc_more .gnb_svc_lstwrp li.gnb_event em.ic_gnb_new, .gnb_svc_more .svc_btnwrp button { background: url(https://ssl.pstatic.net/static/common/gnb/one/sp_gnb_v16.png?v=202307) no-repeat -999px -999px;}\\n.gnb_favorite_area, .gnb_search_area, .gnb_banner, .gnb_linkwrp{background:url(https://ssl.pstatic.net/static/common/gnb/2014/bg_svclyr2_v2.png) no-repeat -999px -999px}\\n#gnb .gnb_my_li .gnb_my_community a, .gnb_notice_li .gnb_notice_all, a.gnb_service_all, .gnb_svc_more .svc_btns{display:block;height:38px;border-top:1px solid #ebebeb;background-color:#f8f8f8;text-align:center;font-weight:bold;text-decoration:none;letter-spacing:-1px;line-height:38px}\\n#gnb .gnb_my_li .gnb_my_community a:visited, .gnb_notice_li .gnb_notice_all:visited, a.gnb_service_all:visited, .gnb_svc_more .svc_btns:visited{color:#444}\\n.gnb_login_li, .gnb_my_li, .gnb_notice_li, .gnb_talk_li, .mail_li, .gnb_service_li{float:left;margin-right:2px;overflow:visible}\\n.gnb_login_li a, .gnb_my_li a, .gnb_notice_li a, .gnb_talk_li a, .mail_li a, .gnb_service_li a{position:relative;z-index:100;}\\na.gnb_my, .gnb_icon{position:relative}\\n#gnb{position:relative;z-index:2147483646;font-family:\\'나눔고딕\\',NanumGothic,\\'돋움\\',Dotum,\\'Apple SD Gothic Neo\\',Helvetica,Sans-serif !important;color:#444;font-size:12px;letter-spacing:0 !important;line-height:normal !important;text-align:left !important}\\n#gnb div, #gnb p, #gnb span, #gnb em, #gnb strong, #gnb h1, #gnb h2, #gnb h3, #gnb h4, #gnb h5, #gnb h6, #gnb ul, #gnb ol, #gnb li, #gnb dl, #gnb dt, #gnb dd, #gnb table, #gnb th, #gnb td, #gnb form, #gnb fieldset, #gnb legend, #gnb input, #gnb textarea, #gnb button, #gnb label{font-family:\\'나눔고딕\\',NanumGothic,\\'돋움\\',Dotum,\\'Apple SD Gothic Neo\\',Helvetica,Sans-serif !important}\\n#gnb a, #gnb label, #gnb button{cursor:pointer}\\n#gnb a, #gnb a:visited, #gnb a:active, #gnb a:focus{color:#444}\\n#gnb a:hover{color:#444;text-decoration:underline;vertical-align: baseline;}\\n#gnb input::-ms-clear{display:none}\\n#gnb em{font-style:normal}\\n#gnb ul{list-style:none}\\n#gnb .blind{display:block;overflow:hidden;position:absolute;top:-1000em;left:0;width:1px;height:1px;margin:0;padding:0;font-size:0;line-height:0}\\n#gnb .gnb_my_membership{padding: 0;display: block;width: 64px;height: 16px;background: url(https://ssl.pstatic.net/static/common/gnb/one/ico_gnb_membership.png) no-repeat; background-size: 64px 16px;margin: 0;}\\n#gnb .gnb_my_interface{padding:5px;position:absolute;top:12px;right:8px;display:block;width:17px;height:16px;background-position:-90px 5px}\\n#gnb .gnb_my_interface:hover{background-position:-90px -20px}\\n#gnb .gnb_my_interface:focus{background-position:-90px -20px}\\n#gnb .gnb_pad_lyr{position:absolute}\\n#gnb .gnb_ico_num{display:block;position:absolute;top:1px;width:40px;text-align:center}\\n#gnb .gnb_ico_num .gnb_ico_new{height:15px;display:inline-block;background-position: -331px 0;zoom:1}\\n#gnb .gnb_ico_num .gnb_ico_new .gnb_count{position:relative;top:0;right:-5px;height:15px;margin:0;padding:0 4px 0 1px;display:inline-block;*display:inline;vertical-align:top;background-position: 100% 0;text-indent:-2px;font-family:tahoma !important;font-weight:bold;color:#fff;zoom:1}\\n#gnb .gnb_ico_num .gnb_ico_new .plus{margin:1px -1px 0 2px;font-size:8px;display:inline-block;color:#fff;vertical-align:top}\\n:root #gnb .gnb_pad_lyr{opacity:1 !important;/* background:#fff */}\\n.gnb_lst{margin:0;padding:0;zoom:1}\\n.gnb_lst:after{display:block;clear:both;content:\\'\\'}\\n.gnb_lst ul{margin:0;padding:0}\\n.gnb_lst .ico_arrow{display:none;position:absolute;left:50%;top:27px;width:10px;height:8px;margin-left:-5px;background-position:-175px -10px}\\n.gnb_lyr_opened .gnb_my_lyr, .gnb_lyr_opened .gnb_service_lyr, .gnb_lyr_opened .gnb_notice_lyr, .gnb_lyr_opened .ico_arrow{display:block !important}\\n.gnb_login_li{height:23px;padding:5px 7px 0 0}\\n.gnb_btn_login, .gnb_bg, .gnb_bdr{display:inline-block;width:46px;height:20px;font-size:12px}\\n.gnb_btn_login{position:relative}\\n.gnb_bg{background-color: #fff;opacity: 0.05;filter: alpha(opacity=5);}\\n.gnb_bdr{position:absolute;top: -1px;left: -1px;width: 46px;height: 20px;border: 1px solid #000;opacity: 0.12;filter: alpha(opacity=12);}\\n.gnb_txt{position:absolute;top:0;left:0;width:45px;height:20px;padding-left:1px;line-height:21px;color:#666;text-align:center}\\n.gnb_btn_login:hover{text-decoration:none !important}\\n.gnb_account .gnb_btn_login{width:54px;margin:-1px 0 0 8px;vertical-align:top}\\n.gnb_account a.gnb_btn_login .gnb_txt {padding-left: 0;}\\n.gnb_account .gnb_bdr{width:52px}\\n.gnb_account .gnb_txt{width:53px}\\n.gnb_my_li{margin-right:7px}\\n.gnb_my_namebox{padding:2px 9px 0 0;background-repeat:no-repeat;background-position:100% 50%;zoom:1}\\n.gnb_my_namebox:after{display:block;clear:both;content:\\'\\'}\\na.gnb_my{float:left;display:block;font-size:12px;vertical-align:middle}\\na.gnb_my .filter_mask {position: absolute; top: -1px; left: -1px; z-index: 1; width: 28px; height: 28px; background-position: -260px -60px;}\\na.gnb_my img{vertical-align:top;border-radius:16px}\\na.gnb_my .gnb_name{margin-right:-1px;padding-left:5px;display:inline-block;height:28px;line-height:28px;vertical-align:top;font-size:11px;color:#444}\\na.gnb_my:visited{color:#444}\\na.gnb_my:hover, a.gnb_my:active, a.gnb_my:visited, a.gnb_my:focus{text-decoration:none !important}\\na.gnb_my:hover .gnb_name{text-decoration:underline}\\na.gnb_my .ico_arrow{top:25px;margin-left:8px}\\n.gnb_my_namebox a.gnb_emp{float:left;display:inline-block;height:28px;margin-left:3px;line-height:28px;font-size:11px;color:#777 !important}\\n.gnb_my_lyr{display:none;position:absolute;top:26px;right:-8px;padding:9px 5px 4px 4px;width:316px;height:155px;background-position:-2px -1310px;z-index:10}\\n.gnb_my_lyr.gnb_groupid{height:144px;background-position:-2px -1500px}\\n.gnb_my_lyr.gnb_groupid .gnb_my_content{height:80px}\\n.gnb_my_lyr.gnb_groupid.gnb_longid1{height:144px;/*background-position:-2px -1664px*/}\\n.gnb_my_lyr.gnb_groupid.gnb_longid2{height:144px;background-position:-2px -1828px}\\n.gnb_my_lyr.gnb_longid1{/*width:318px;*/ /*background-position:-2px -1118px;*/}\\n.gnb_my_lyr.gnb_longid2{width:348px;background-position:-2px -926px}\\n.gnb_my_li .gnb_my_content{zoom:1;height:91px;padding:15px 0 10px 15px}\\n.gnb_my_li .gnb_my_content:after{display:block;clear:both;content:\\'\\'}\\n.gnb_my_li .gnb_my_content .gnb_img_area{float:left;position:relative;display:block;width:80px;margin: 1px 0 0 1px;}\\n.gnb_my_li .gnb_my_content .gnb_img_area img{vertical-align:top}\\n.gnb_my_li .gnb_my_content .gnb_mask{position:absolute;top:0;left:0;display:block;width:80px;height:80px;background-position:-70px -60px}\\n.gnb_my_li .gnb_my_content .gnb_change{position:absolute;bottom:-2px;left:-2px;display:block;width:28px;height:28px;background: url(https://ssl.pstatic.net/static/common/gnb/one/ico_gnb_change.png) no-repeat !important; background-size: 28px 28px !important;}\\n.gnb_my_li .gnb_my_content .gnb_change:hover{background-image: url(https://ssl.pstatic.net/static/common/gnb/one/ico_gnb_change_hover.png) !important;}\\n.gnb_my_li .gnb_my_content .gnb_txt_area{float:left;width:210px;margin:0 0 0 10px}\\n.gnb_longid1 .gnb_my_content .gnb_txt_area{/* width:210px; */}\\n.gnb_longid2 .gnb_my_content .gnb_txt_area{width:235px}\\n.gnb_my_li .gnb_my_content .gnb_account{margin-bottom:3px 0 1px;font-size:0}\\n.gnb_my_li .gnb_my_content .gnb_name{color:#666;font-size:14px;vertical-align: top}\\n.gnb_my_li .gnb_my_content .gnb_name a{display:inline-block;vertical-align:top;font-weight:bold;color:#222 !important}\\n.gnb_my_li .gnb_my_content a.gnb_mail_address{margin-left:1px;font-family:tahoma;color:#666 !important;font-size:12px}\\n.gnb_my_li .gnb_my_content .gnb_edit_lst{zoom:1;margin-top:7px !important}\\n.gnb_my_li .gnb_my_content .gnb_edit_lst:after{display:block;clear:both;content:\\'\\'}\\n.gnb_my_li .gnb_my_content .gnb_edit_lst li{float:left;padding-left:6px;margin-left:5px;background-position:-290px -25px}\\n.gnb_my_li .gnb_my_content .gnb_edit_lst li.gnb_info{padding-left:0;margin-left:0;background:none}\\n.gnb_my_li .gnb_my_content .gnb_edit_lst a{color:#666 !important;letter-spacing:-1px}\\n.gnb_my_li .gnb_my_content .gnb_membership {display: inline-block;margin: 0 5px 0 1px !important; padding-right: 8px !important; background-position: -288px -403px;}\\n.gnb_my_li .gnb_my_content .gnb_pay_check{height:16px;margin:7px -4px 0 0 !important}\\n@media screen and (min-width: 0\\\\0) { .gnb_my_li .gnb_my_content .gnb_pay_check{margin-top:17px} }\\n.gnb_my_li .gnb_my_content .gnb_pay_check em{display:inline-block;width:16px;height:16px;background: url(https://ssl.pstatic.net/static/common/gnb/one/ico_gnb_pay_check.svg) no-repeat !important; background-size: 16px 16px !important;margin:0 4px 0 0;overflow:hidden;font-size:0;line-height:0;vertical-align:top}\\n.gnb_my_li .gnb_my_content .gnb_pay_check a{font-size:14px;letter-spacing:-1px;line-height:16px;vertical-align:top}\\n.gnb_my_li .gnb_my_content .gnb_pay_check span{font-weight: bold; vertical-align: top;}\\n.gnb_my_li .gnb_my_content .gnb_pay_check strong{font-family:tahoma;letter-spacing:0;vertical-align:top;}\\n.gnb_my_li .gnb_my_content .gnb_pay_check a, .gnb_my_li .gnb_my_content .gnb_pay_check span, .gnb_my_li .gnb_my_content .gnb_pay_check strong{font-size:12px;color:#222 !important}\\n#gnb .gnb_my_li .gnb_my_community{clear:both;zoom:1}\\n#gnb .gnb_my_li .gnb_my_community:after{display:block;clear:both;content:\\'\\'}\\n#gnb .gnb_my_li .gnb_my_community a{float:left;width:106px;margin-right: 0;border-right:1px solid #ebebeb}\\n#gnb .gnb_my_li .gnb_my_community a.gnb_pay{width:102px;border-right:0;line-height:0}\\n#gnb .gnb_my_li .gnb_my_community a.gnb_pay span{display:inline-block;width:41px;height:16px;background: url(https://ssl.pstatic.net/static/common/gnb/one/ico_gnb_pay.svg) no-repeat !important; background-size: 41px 16px !important;margin:11px auto 0;font-size:0;line-height:0}\\n#gnb .gnb_my_li .gnb_my_community a.gnb_pay i {display: inline-block;width: 61px;height: 20px;margin: 9px auto 0;background: url(https://ssl.pstatic.net/static/common/gnb/banner/promo_membership.png) no-repeat !important;background-size: 61px 20px !important;font-size: 0;line-height: 0;}\\n#gnb .gnb_my_li .gnb_my_community a:active, #gnb .gnb_my_li .gnb_my_community a:focus, #gnb .gnb_my_li .gnb_my_community a:visited{text-decoration:none !important}\\n#gnb .gnb_my_li .gnb_my_community a:hover{text-decoration:underline !important}\\n#gnb .gnb_my_lyr.gnb_longid1 .gnb_my_community a{/*width:105px;*/}\\n#gnb .gnb_my_lyr.gnb_longid1 .gnb_my_community a.gnb_pay{/* width:106px;*/}\\n#gnb .gnb_my_lyr.gnb_longid2 .gnb_my_community a{width:115px}\\n#gnb .gnb_my_lyr.gnb_longid2 .gnb_my_community a.gnb_pay{width:116px}\\n#gnb.gnb_one .gnb_my_community a, #gnb.gnb_one_small .gnb_my_community a{margin-right: 0 !important;}\\n.gnb_notice_li a.gnb_notice{display:block;width:15px;height:17px;padding:7px 9px 4px;text-decoration:none !important}\\n.gnb_notice_li a.gnb_notice .gnb_ico_num{left:1px;top:0}\\n.gnb_notice_li a.gnb_notice .gnb_icon{display:block;width:15px;height:17px;background-position:-3px -60px}\\n.gnb_notice_li a.gnb_notice:hover .gnb_icon{background-position:-38px -60px;text-decoration:none !important}\\n.gnb_notice_li .gnb_notice_lyr{display:none;position:absolute;top:26px;right:-7px;width:297px;height:330px;padding:9px 4px 4px;background-position:-2px -584px;z-index:10;overflow:hidden}\\n.gnb_notice_li .svc_scroll{height:291px;overflow:scroll;overflow-x:hidden;position:relative;zoom:1}\\n.gnb_notice_li .svc_panel{width:100%;height:330px;overflow:hidden}\\n.gnb_notice_li .svc_head{position:relative;height:36px;padding-left:15px;line-height:20px;border-bottom:1px solid #eaeaea;zoom:1}\\n.gnb_notice_li .svc_head .gnb_tit{color:#6b6d70;margin-right:1px;line-height:36px}\\n.gnb_notice_li .svc_head .task_right{position:absolute;right:8px;top:8px;font-size:0}\\n.gnb_notice_li .svc_head .task_right button{height:20px;padding:0 6px;margin-left:4px;border:1px solid #ddd;color:#888;background-color:#fff;font-family:\\'나눔고딕\\', NanumGothic;font-size:12px;letter-spacing:-1px;line-height:18px;*line-height:16px;overflow:visible}\\n.gnb_notice_li .svc_list .gnb_btn_remove i, .gnb_notice_li .svc_list .gnb_btn_remove span, .gnb_notice_li .svc_noti .gnb_ico_mail, .gnb_notice_li .svc_blank .svc_msg_box, .gnb_notice_li .svc_blank .gnb_v_guide{display:inline-block;*display:inline;*zoom:1}\\n.gnb_notice_li .svc_list{margin-top:-1px}\\n.gnb_notice_li .svc_list li{position:relative;padding:7px 34px 7px 15px;border-top:1px solid #eaeaea;line-height:18px}\\n.gnb_notice_li .svc_list .gnb_new{background:#ffffd8}\\n.gnb_notice_li .svc_list .gnb_unread .gnb_subject{color:#444}\\n.gnb_notice_li .svc_list .gnb_unread .d_cnt{color:#ff630e}\\n.gnb_notice_li .svc_list .gnb_unread a:hover .gnb_subject, .gnb_notice_li .svc_list .gnb_unread .gnb_unread a:hover .d_cnt{color:#390}\\n.gnb_notice_li .svc_list .gnb_unread .svc_name{color:#444}\\n.gnb_notice_li .svc_list a.gnb_list_cover{text-decoration:none !important;display:block;position:relative;zoom:1}\\n.gnb_notice_li .svc_list a:hover .gnb_subject{text-decoration:underline}\\n.gnb_notice_li .svc_list .gnb_subject{overflow:hidden;text-overflow:ellipsis;white-space:nowrap;width:100%;color:#adadad}\\n.gnb_notice_li .svc_list .d_cnt{font-family:tahoma;font-size:10px}\\n.gnb_notice_li .svc_list .gnb_info{color:#adadad}\\n.gnb_notice_li .svc_list .svc_name{margin-right:3px;color:#adadad}\\n.gnb_notice_li .svc_list .cchr{margin-right:3px}\\n.gnb_notice_li .svc_list .dona{position:absolute;top:8px;right:34px;text-decoration:underline}\\n.gnb_notice_li .svc_list .dona a{color:#adadad}\\n.gnb_notice_li .svc_list .dona a:hover{color:#390}\\n.gnb_notice_li .svc_list .gnb_ico_mail{width:14px;height:15px;font-size:0;line-height:0;color:#fff;vertical-align:top}\\n.gnb_notice_li .svc_list .gnb_ico_mail.gnb_yes{background-position:-245px -17px}\\n.gnb_notice_li .svc_list .gnb_ico_mail.gnb_no{background-position:-245px 4px}\\n.gnb_notice_li .svc_list .gnb_btn_remove{position:absolute;right:4px;top:50%;z-index:100;margin-top:-13px;padding:10px;line-height:6px;font-size:0;background:none !important;border:0 !important}\\n.gnb_notice_li .svc_list .gnb_btn_remove span, .gnb_notice_li .svc_list .gnb_btn_remove i{display:block !important;width:7px;height:7px;font-size:0;line-height:0;color:transparent;white-space:nowrap;overflow:hidden;vertical-align:top;background-position:-175px 0}\\n.gnb_notice_li .svc_blank{position:absolute;top:104px;left:0;width:100%;white-space:nowrap;height:100px;font-size:0;text-align:center}\\n.gnb_notice_li .svc_blank .svc_msg_box{white-space:normal;font-size:12px;width:100%}\\n.gnb_notice_li .svc_blank .gnb_tit{display:block;color:#2f3743;font-size:14px;margin:0 0 15px}\\n.gnb_notice_li .svc_blank .gnb_tit strong{font-weight:normal;color:#390}\\n.gnb_notice_li .svc_blank .gnb_desc{line-height:19px;color:#2f3743;margin-bottom:7px}\\n.gnb_notice_li .svc_blank .gnb_desc a, .gnb_notice_li .svc_blank .gnb_link{color:#390;text-decoration:underline}\\n.gnb_notice_li .svc_blank .gnb_v_guide{vertical-align:middle;height:100%;width:0}\\n.gnb_notice_li .svc_blank .gnb_link_wrap{text-align:center}\\n.gnb_notice_li .svc_blank .gnb_link_wrap .gnb_link{display:block;width:40px;margin:0 auto !important;text-align:center}\\n.gnb_notice_li .svc_loading{background:url(https://ssl.pstatic.net/static/www/2014/loading.gif) no-repeat #fff center center;position:absolute;top:33px;left:0;width:100%;height:245px}\\n.gnb_notice_li .gnb_error{position:absolute;top:81px;left:2px;width:100%;color:#444;text-align:center}\\n.gnb_notice_li .gnb_error .gnb_ico_error{display:inline-block;width:57px;height:57px;background-position:-280px -190px}\\n.gnb_notice_li .gnb_error .gnb_tit{font-size:14px;margin:15px 0 11px}\\n.gnb_notice_li .gnb_error .gnb_desc{margin-bottom:13px;line-height:18px}\\n.gnb_notice_li .gnb_error .gnb_link{text-decoration:underline}\\n.gnb_ly_alert{position:absolute;top:110px;left:13px;background-color:#fff;border:1px solid #b7b9bc;width:260px;padding:34px 0 20px;zoom:1;z-index:100}\\n.gnb_ly_alert .gnb_msg{text-align:center;line-height:17px;margin-bottom:14px;color:#2f3743}\\n.gnb_.ly_alert .gnb_btn_close{position:absolute;right:2px;top:0;*overflow:visible}\\n.gnb_ly_alert .gnb_btns{text-align:center}\\n.gnb_ly_alert .gnb_btns button{height:27px;line-height:27px;*line-height:22px;font-weight:bold;font-size:12px;padding:0 8px;color:#2f3743;border:1px solid #ddd;background-color:white}\\n.gnb_ly_alert .gnb_btns button:first-child{margin-right:4px}\\n.gnb_ly_alert .gnb_btn_close{position:absolute;right:2px;top:0;width:35px;border:0;background:none;cursor:pointer;border-radius:0;padding:10px}\\n.gnb_ly_alert .gnb_btn_close i{display:block;width:15px;height:15px;font:0/0 a;color:transparent;white-space:nowrap;overflow:hidden;vertical-align:top;background-position:-240px -60px}\\n.gnb_talk_li a.gnb_talk{display:block;width:20px;height:20px;padding: 6px 7px 3px;text-decoration: none !important;}\\n.gnb_talk_li a.gnb_talk .gnb_icon{display: block;width: 20px;height: 20px;background-position: -260px -160px;}\\n.gnb_talk_li a.gnb_talk:hover .gnb_icon{background-position: -280px -160px;text-decoration: none !important;}\\n.mail_li a.gnb_mail{display:block;width:20px;height:15px;padding:7px 9px 6px;text-decoration:none !important}\\n.mail_li a.gnb_mail .gnb_icon{display:block;width:20px;height:15px;background-position:0px -95px}\\n.mail_li a.gnb_mail:hover .gnb_icon{background-position:-35px -95px;text-decoration:none !important}\\n.mail_li .gnb_ico_num{left:6px;top:0}\\n.gnb_service_li{margin-right:0}\\n.gnb_service_li a.gnb_service{display:block;width:16px;height:16px;padding:7px 9px 5px}\\n.gnb_service_li a.gnb_service .gnb_icon{display:block;width:16px;height:16px;background-position:-2px -130px}\\n.gnb_service_li a.gnb_service:hover .gnb_icon{background-position:-37px -130px;text-decoration:none !important}\\n.gnb_service_li .gnb_service_lyr{display:none;position:absolute;top:27px;right:-7px;z-index:10}\\n.gnb_favorite_search{width:301px;letter-spacing:-1px}\\n.gnb_response .gnb_favorite_search{display:none}\\n.gnb_favorite_area{height:93px;padding:8px 4px 0;background-position:0 0}\\n.gnb_favorite_lstwrp{position:relative;padding:22px 1px 15px 15px;border-bottom:1px solid #ebebeb}\\n.gnb_favorite_lstwrp .gnb_my_interface{top:3px !important;right:3px !important}\\n.gnb_first_visit{position:absolute;top:0;left:0;width:293px;height:92px;background-position:0 -310px;z-index:200}\\n.gnb_first_visit .gnb_close{position:absolute;top:0;right:0;display:block;width:32px;height:32px}\\n.gnb_favorite_lst{zoom:1}\\n.gnb_favorite_lst:after{display:block;clear:both;content:\\'\\'}\\n.gnb_favorite_lst li{float:left;width:65px;text-align:center;white-space:nowrap}\\n.gnb_favorite_lst a{display:inline-block;text-align:center;font-weight:bold}\\n.gnb_favorite_lst .gnb_add a{display:block;test-align:center;}\\n.gnb_favorite_lst .gnb_add a span.ic_add{display:block;width:36px;height:36px;margin:0 auto 4px;background-image: url(https://ssl.pstatic.net/static/common/gnb/one/sp_gnb_4b16e6.png);background-position: 0px 0px;background-repeat: no-repeat;width: 36px;height: 36px;vertical-align: top;}\\n.gnb_favorite_lst .gnb_add a:hover span.ic_add{background-image: url(https://ssl.pstatic.net/static/common/gnb/one/sp_gnb_4b16e6.png);background-position: -42px 0px;background-repeat: no-repeat;width: 36px;height: 36px;vertical-align: top;}\\n.gnb_favorite_lst img{display:block;margin:0 auto 4px;vertical-align:top}\\n.gnb_search_area{position:relative;z-index:200;padding:18px 4px 17px;background-position:-301px 0;background-repeat:repeat-y}\\n.gnb_search_box{position:relative;z-index:101;margin:0 12px 16px 0;padding-left:10px;display:block;width:270px;height:35px;background-position:10px -190px}\\n.gnb_search_box.over{background-position:10px -230px}\\n.gnb_search_box.fcs{background-position:10px -270px}\\n.gnb_search_box.fcs input{width:200px;font-size:16px;font-weight:bold;color:#444;outline:0}\\n.gnb_search_box input{float:left;display:block;width:210px;height:22px;margin-top:6px;padding-left:10px;font-family:\\'나눔고딕\\',NamumGothic;letter-spacing:-1px;color:#adadad;font-size:13px;border:0;line-height:22px;background:transparent}\\n.gnb_search_box .gnb_del_txt{position:absolute;top:8px;right:32px;display:block;width:17px;height:17px;background-position:-190px 0px}\\n.gnb_search_box .gnb_del_txt:hover{background-position:-190px -20px}\\n.gnb_search_box .gnb_pop_input{position:absolute;top:34px;left:10px;width:268px;height:170px;*height:172px;border:1px solid #cbc5c5;border-top:0;background:#fff;overflow-x:hidden;overflow-y:scroll;z-index:110}\\n.gnb_search_box .gnb_pop_lst{padding:4px 0 2px}\\n.gnb_search_box .gnb_pop_lst a{display:block;padding:6px 0 6px 10px;font-weight:bold}\\n.gnb_search_box .gnb_pop_lst .on{background-color:#f5f5f5}\\n.gnb_search_lstwrp{zoom:1;height:118px;padding-left:12px}\\n.gnb_search_lstwrp:after{display:block;clear:both;content:\\'\\'}\\n.gnb_search_lstwrp .gnb_search_lst{float:left;width:69px;border-left:1px solid #eaeaea}\\n.gnb_search_lstwrp .gnb_search_lst.gnb_first{width:64px;border:0}\\n.gnb_search_lstwrp li{padding:12px 0 0 8px}\\n.gnb_search_lstwrp li.gnb_first{font-weight:bold;padding-top:0}\\n.gnb_search_lstwrp li a{display:inline-block;vertical-align:top}\\n.gnb_banner{height:47px;margin:0;padding:0 18px;background-position:-301px 0;background-repeat:repeat-y}\\n.gnb_banner .gnb_service_event{display:inline-block;border-top:1px solid #ebebeb}\\n.gnb_linkwrp{padding:0 4px 4px;background-position:-602px 0}\\na.gnb_service_all:hover, a.gnb_service_all:visited, a.gnb_service_all:active, a.gnb_service_all:focus{text-decoration:none}\\n.gnb_svc_more{display:none;position:absolute;top:4px;right:303px;width:589px;overflow:hidden;zoom:1;z-index:1000}\\n.gnb_svc_more:after{display:block;clear:both;content:\\'\\'}\\n.gnb_response .gnb_svc_more{right:2px}\\n.gnb_bg_top{height:6px;background:url(https://ssl.pstatic.net/static/common/gnb/2014/bg_svclyr1_v2.png) no-repeat}\\n.gnb_bg_btm{position:relative;height:6px;background:url(https://ssl.pstatic.net/static/common/gnb/2014/bg_svclyr1_v2.png) no-repeat -1282px 0}\\n.gnb_svc_more .gnb_svc_hd{position:relative;padding:0 18px 2px 23px;letter-spacing:-1px;background:url(https://ssl.pstatic.net/static/common/gnb/2014/bg_svclyr1_v2.png) repeat-y -641px 0}\\n.gnb_svc_more .gnb_svc_hd .gnb_svc_tit{display:block;padding:12px 0 13px;border-bottom:1px solid #ebebeb;font-size:14px;color:#222}\\n.gnb_svc_more .gnb_svc_hd .link{position:absolute;top:14px;right:19px;font-size:12px;color:#444}\\n.gnb_svc_more .gnb_svc_hd .link a{color:#444 !important;line-height:16px !important}\\n.gnb_svc_more .gnb_svc_lstwrp{position:relative;height:283px;overflow:hidden;padding:15px 15px 0 20px;letter-spacing:-1px;background:url(https://ssl.pstatic.net/static/common/gnb/2014/bg_svclyr1_v2.png) repeat-y -641px 0;zoom:1}\\n.gnb_svc_more .gnb_svc_lstwrp:after{display:block;clear:both;content:\\'\\'}\\n.gnb_svc_more .gnb_svc_lstwrp li{height:15px;margin-bottom:5px;color:#6b6d70;white-space:nowrap;line-height:15px}\\n.gnb_svc_more .gnb_svc_lstwrp li.gnb_event label{color:#444;font-weight:bold}\\n.gnb_svc_more .gnb_svc_lstwrp li.gnb_event em.ic_gnb_new{display:inline-block;width:11px;height:11px;background-position:-215px 0px;margin:2px 0 0 4px;font-size:0;line-height:0;vertical-align:top}\\n@media screen and (min-width: 0\\\\0) { .gnb_svc_more .gnb_svc_lstwrp li.gnb_event em.ic{margin-top:3px} }\\n.gnb_svc_more .gnb_svc_lstwrp .gnb_input_check{width:13px;height:13px;margin:2px 3px 0 3px;padding:0;vertical-align:top;-webkit-appearance:checkbox;}\\n.gnb_svc_more .gnb_svc_lstwrp label{vertical-align:0px}\\n.gnb_svc_more .gnb_svc_lstwrp .gnb_disabled strong{color:#a8acb0}\\n.gnb_svc_more .gnb_svc_lstwrp .gnb_disabled li{color:#cbcbcb}\\n.gnb_svc_more .gnb_svc_lst1{float:left;width:328px;height:280px}\\n.gnb_svc_more .gnb_svc_lst1 ul{float:left;width:102px;min-height:260px;padding:5px 0 0 10px;border-left:1px solid #eee}\\n.gnb_svc_more .gnb_svc_lst1 ul.gnb_first{padding-left:0;border:0}\\n.gnb_svc_more .svc_lst2{float:left;position:relative;width:221px;border:1px solid #eee;background:#fbfbfb;zoom:1}\\n.gnb_svc_more .svc_lst2:after{display:block;clear:both;content:\\'\\'}\\n.gnb_svc_more .svc_spc{float:left;position:relative;width:100px;min-height:254px;padding:9px 0 0 10px}\\n.gnb_svc_more .svc_spc.gnb_first{border-right:1px solid #eee}\\n.gnb_svc_more .svc_spc strong{height:20px;color:#2f3743;line-height:16px}\\n.gnb_svc_more .svc_spc a:visited{color:#2f3743}\\n.gnb_svc_more .svc_spc ul{padding:8px 0}\\n.gnb_svc_more .svc_spc li{margin-bottom:0;padding-bottom:5px;color:#848689}\\n.gnb_svc_more .svc_stroy{width:89px;margin-top:-5px;padding:12px 0 0;border-top:1px solid #eee}\\n.gnb_svc_more .svc_btns{position:relative;height:33px;overflow:hidden;padding-top:5px;line-height:normal}\\n.gnb_svc_more .svc_btnwrp{position:relative;*height:39px;background:url(https://ssl.pstatic.net/static/common/gnb/2014/bg_svclyr1_v2.png) repeat-y -641px 0;padding:0 2px 0 4px}\\n.gnb_svc_more .svc_btnwrp button{display:inline-block;width:60px;height:25px;border:0;vertical-align:top}\\n.gnb_svc_more .svc_btnwrp .gnb_save{background-position:0 -160px}\\n.gnb_svc_more .svc_btnwrp .gnb_close{margin-left:1px;background-position:-65px -160px}\\n.gnb_svc_more .svc_btnwrp .gnb_return{position:absolute;top:5px;left:15px;background-position:-130px -160px}\\n.gnb_type2 .gnb_notice_li a.gnb_notice .gnb_icon{background-position:-155px -120px}\\n.gnb_type2 .gnb_notice_li a.gnb_notice:hover .gnb_icon{background-position:-155px -140px}\\n.gnb_type2 .gnb_service_li .gnb_service .gnb_icon{background-position:-200px -120px}\\n.gnb_type2 .gnb_service_li .gnb_service:hover .gnb_icon{background-position:-200px -140px}\\n.gnb_type2 .mail_li a.gnb_mail .gnb_icon{background-position:-175px -120px}\\n.gnb_type2 .mail_li a.gnb_mail:hover .gnb_icon{background-position:-175px -140px}\\n.gnb_dark .gnb_my_li .gnb_my .gnb_name, .gnb_dark .gnb_login_li .gnb_btn_login .gnb_txt{color:#fff}\\n.gnb_dark .gnb_notice_li a.gnb_notice .gnb_icon{background-position:-220px -140px}\\n.gnb_dark .gnb_notice_li a.gnb_notice:hover .gnb_icon{background-position:-220px -120px}\\n.gnb_dark .gnb_talk_li a.gnb_talk .gnb_icon{background-position: -300px -160px;}\\n.gnb_dark .gnb_talk_li a.gnb_talk:hover .gnb_icon{background-position: -320px -160px;}\\n.gnb_dark .mail_li a.gnb_mail .gnb_icon{background-position:-238px -141px}\\n.gnb_dark .mail_li a.gnb_mail:hover .gnb_icon{background-position:-238px -121px}\\n.gnb_dark .gnb_service_li .gnb_service .gnb_icon{background-position:-261px -140px}\\n.gnb_dark .gnb_service_li .gnb_service:hover .gnb_icon{background-position:-261px -120px}\\n.gnb_dark_type2 .gnb_my_li .gnb_my .gnb_name, .gnb_dark_type2 .gnb_login_li .gnb_btn_login .gnb_txt{color:#fff}\\n.gnb_dark_type2 .gnb_notice_li a.gnb_notice .gnb_icon{background-position:-220px -120px}\\n.gnb_dark_type2 .gnb_notice_li a.gnb_notice:hover .gnb_icon{background-position:-220px -140px}\\n.gnb_dark_type2 .gnb_talk_li a.gnb_talk .gnb_icon{background-position: -320px -160px;}\\n.gnb_dark_type2 .gnb_talk_li a.gnb_talk:hover .gnb_icon{background-position: -300px -160px;}\\n.gnb_dark_type2 .mail_li a.gnb_mail .gnb_icon{background-position:-238px -121px}\\n.gnb_dark_type2 .mail_li a.gnb_mail:hover .gnb_icon{background-position:-238px -141px}\\n.gnb_dark_type2 .gnb_service_li .gnb_service .gnb_icon{background-position:-261px -120px}\\n.gnb_dark_type2 .gnb_service_li .gnb_service:hover .gnb_icon{background-position:-261px -140px;}\\n.gnb_dark .gnb_notice_li a.gnb_notice, .gnb_dark_type2 .gnb_notice_li a.gnb_notice {width: 17px;height: 19px;padding: 6px 8px 3px;}\\n.gnb_dark .gnb_notice_li a.gnb_notice .gnb_icon, .gnb_dark_type2 .gnb_notice_li a.gnb_notice .gnb_icon {width: 17px;height: 19px;}\\n.gnb_dark .mail_li a.gnb_mail, .gnb_dark_type2 .mail_li a.gnb_mail {width: 22px;height: 16px;padding: 7px 8px 4px;}\\n.gnb_dark .mail_li a.gnb_mail .gnb_icon, .gnb_dark_type2 .mail_li a.gnb_mail .gnb_icon {width: 22px;height: 16px;}\\n.gnb_dark .gnb_service_li a.gnb_service, .gnb_dark_type2 .gnb_service_li a.gnb_service {width: 18px;height: 18px;padding: 6px 8px 4px;}\\n.gnb_dark .gnb_service_li .gnb_service .gnb_icon, .gnb_dark_type2 .gnb_service_li .gnb_service .gnb_icon {width: 18px;height: 18px;}\\n#gnb.gnb_one .gnb_my_li .gnb_my .gnb_name, #gnb.gnb_one_small .gnb_my_li .gnb_my .gnb_name, #gnb.gnb_one .gnb_login_li .gnb_btn_login .gnb_txt, #gnb.gnb_one_small .gnb_login_li .gnb_btn_login .gnb_txt{color:#fff}\\n#gnb.gnb_one .gnb_login_li, #gnb.gnb_one_small .gnb_login_li {height: 28px;}\\n#gnb.gnb_one .gnb_login_li .gnb_btn_login, #gnb.gnb_one_small .gnb_login_li .gnb_btn_login, #gnb.gnb_one .gnb_login_li .gnb_bg, #gnb.gnb_one_small .gnb_login_li .gnb_bg, #gnb.gnb_one .gnb_login_li .gnb_bdr, #gnb.gnb_one_small .gnb_login_li .gnb_bdr, #gnb.gnb_one .gnb_login_li .gnb_txt, #gnb.gnb_one_small .gnb_login_li .gnb_txt {width: 53px;height: 23px;}\\n#gnb.gnb_one .gnb_login_li .gnb_btn_login .gnb_txt, #gnb.gnb_one_small .gnb_login_li .gnb_btn_login .gnb_txt {top: -1px;width: 53px;height: 23px;line-height: 28px;font-size: 11px;}\\n#gnb.gnb_one .gnb_login_li, #gnb.gnb_one_small .gnb_login_li, #gnb.gnb_one .gnb_my_li, #gnb.gnb_one_small .gnb_my_li, #gnb.gnb_one .gnb_notice_li, #gnb.gnb_one_small .gnb_notice_li,#gnb.gnb_one .gnb_talk_li, #gnb.gnb_one_small .gnb_talk_li, #gnb.gnb_one .mail_li, #gnb.gnb_one_small .mail_li, #gnb.gnb_one .gnb_service_li, #gnb.gnb_one_small .gnb_service_li{margin-right: 0;margin-left: 0; background: url(https://ssl.pstatic.net/static/common/gnb/bg_one_line.png) repeat-y right 0;}\\n#gnb.gnb_one .gnb_login_li a, #gnb.gnb_one_small .gnb_login_li a, #gnb.gnb_one .gnb_my_li a, #gnb.gnb_one_small .gnb_my_li a, #gnb.gnb_one .gnb_notice_li a, #gnb.gnb_one_small .gnb_notice_li a, #gnb.gnb_one .gnb_talk_li a, #gnb.gnb_one_small .gnb_talk_li a, #gnb.gnb_one .mail_li a, #gnb.gnb_one_small .mail_li a, #gnb.gnb_one .gnb_service_li a, #gnb.gnb_one_small .gnb_service_li a {margin-right: 1px;}\\n#gnb.gnb_one .gnb_login_li.hover .gnb_service, #gnb.gnb_one_small .gnb_login_li.hover .gnb_service, #gnb.gnb_one .gnb_login_li.hover .gnb_notice, #gnb.gnb_one_small .gnb_login_li.hover .gnb_notice, #gnb.gnb_one .gnb_login_li.hover .gnb_mail, #gnb.gnb_one_small .gnb_login_li.hover .gnb_mail, #gnb.gnb_one .gnb_login_li.hover .gnb_service, #gnb.gnb_one_small .gnb_login_li.hover .gnb_service, #gnb.gnb_one .gnb_my_li.hover .gnb_service, #gnb.gnb_one_small .gnb_my_li.hover .gnb_service, #gnb.gnb_one .gnb_my_li.hover .gnb_notice, #gnb.gnb_one_small .gnb_my_li.hover .gnb_notice, #gnb.gnb_one .gnb_my_li.hover .gnb_mail, #gnb.gnb_one_small .gnb_my_li.hover .gnb_mail, #gnb.gnb_one .gnb_my_li.hover .gnb_service, #gnb.gnb_one_small .gnb_my_li.hover .gnb_service, #gnb.gnb_one .gnb_notice_li.hover .gnb_service, #gnb.gnb_one_small .gnb_notice_li.hover .gnb_service, #gnb.gnb_one .gnb_notice_li.hover .gnb_notice, #gnb.gnb_one_small .gnb_notice_li.hover .gnb_notice,\\n#gnb.gnb_one .gnb_notice_li.hover .gnb_mail, #gnb.gnb_one_small .gnb_notice_li.hover .gnb_mail, #gnb.gnb_one .gnb_notice_li.hover .gnb_service, #gnb.gnb_one_small .gnb_notice_li.hover .gnb_service,\\n#gnb.gnb_one .gnb_talk_li.hover .gnb_talk,\\n#gnb.gnb_one_small .gnb_talk_li.hover .gnb_talk,\\n#gnb.gnb_one .mail_li.hover .gnb_service, #gnb.gnb_one_small .mail_li.hover .gnb_service, #gnb.gnb_one .mail_li.hover .gnb_notice, #gnb.gnb_one_small .mail_li.hover .gnb_notice, #gnb.gnb_one .mail_li.hover .gnb_mail, #gnb.gnb_one_small .mail_li.hover .gnb_mail, #gnb.gnb_one .mail_li.hover .gnb_service, #gnb.gnb_one_small .mail_li.hover .gnb_service, #gnb.gnb_one .gnb_service_li.hover .gnb_service, #gnb.gnb_one_small .gnb_service_li.hover .gnb_service, #gnb.gnb_one .gnb_service_li.hover .gnb_notice, #gnb.gnb_one_small .gnb_service_li.hover .gnb_notice, #gnb.gnb_one .gnb_service_li.hover .gnb_mail, #gnb.gnb_one_small .gnb_service_li.hover .gnb_mail, #gnb.gnb_one .gnb_service_li.hover .gnb_service, #gnb.gnb_one_small .gnb_service_li.hover .gnb_service {background: url(https://ssl.pstatic.net/static/common/gnb/bg_one_hover.png) repeat 0 0;}\\n#gnb.gnb_one .gnb_my_li .gnb_my .gnb_name, #gnb.gnb_one_small .gnb_my_li .gnb_my .gnb_name{margin:0 0 0 1px;}\\n#gnb.gnb_one .gnb_notice_li a.gnb_notice, #gnb.gnb_one_small .gnb_notice_li a.gnb_notice #gnb.gnb_one .gnb_talk_li a.gnb_talk, #gnb.gnb_one_small .gnb_talk_li a.gnb_talk{width:17px;height:19px}\\n#gnb.gnb_one .gnb_notice_li a.gnb_notice .gnb_icon, #gnb.gnb_one_small .gnb_notice_li a.gnb_notice .gnb_icon{width:17px;height:19px;background-position:-284px -119px}\\n#gnb.gnb_one .gnb_notice_li a.gnb_notice:hover .gnb_icon, #gnb.gnb_one_small .gnb_notice_li a.gnb_notice:hover .gnb_icon{background-position:-284px -119px}\\n#gnb.gnb_one .gnb_talk_li a.gnb_talk .gnb_icon, #gnb.gnb_one_small .gnb_talk_li a.gnb_talk .gnb_icon{background-position: -220px -160px;}\\n#gnb.gnb_one .gnb_talk_li a.gnb_talk:hover .gnb_icon, #gnb.gnb_one_small .gnb_talk_li a.gnb_talk:hover .gnb_icon{background-position: -220px -160px;}\\n#gnb.gnb_one_flat .gnb_talk_li a.gnb_talk .gnb_icon, #gnb.gnb_one_flat .gnb_talk_li a.gnb_talk:hover .gnb_icon{background-position: -240px -160px;}\\n#gnb.gnb_one .mail_li a.gnb_mail, #gnb.gnb_one_small .mail_li a.gnb_mail{width:21px;height:17px}\\n#gnb.gnb_one .mail_li a.gnb_mail .gnb_icon, #gnb.gnb_one_small .mail_li a.gnb_mail .gnb_icon{width:21px;height:17px;background-position:-302px -120px}\\n#gnb.gnb_one .mail_li a.gnb_mail:hover .gnb_icon, #gnb.gnb_one_small .mail_li a.gnb_mail:hover .gnb_icon{background-position:-302px -120px}\\n#gnb.gnb_one .gnb_service_li .gnb_service, #gnb.gnb_one_small .gnb_service_li .gnb_service{width:17px;height:17px}\\n#gnb.gnb_one .gnb_service_li .gnb_service .gnb_icon, #gnb.gnb_one_small .gnb_service_li .gnb_service .gnb_icon{width:17px;height:17px;background-position:-324px -120px}\\n#gnb.gnb_one .gnb_service_li .gnb_service:hover .gnb_icon, #gnb.gnb_one_small .gnb_service_li .gnb_service:hover .gnb_icon{background-position:-324px -120px}\\n#gnb.gnb_one .gnb_my_lyr, #gnb.gnb_one_small .gnb_my_lyr, #gnb.gnb_one .gnb_notice_lyr, #gnb.gnb_one_small .gnb_notice_lyr, #gnb.gnb_one .gnb_service_lyr, #gnb.gnb_one_small .gnb_service_lyr {right: 7px;}\\n#gnb.gnb_one .gnb_ico_num, #gnb.gnb_one_small .gnb_ico_num{width:34px;top:10px;right:3px;left:auto;vertical-align:top}\\n#gnb.gnb_one .gnb_ico_num .gnb_ico_new, #gnb.gnb_one_small .gnb_ico_num .gnb_ico_new{vertical-align:top;height:13px;background-position:-332px -60px;}\\n#gnb.gnb_one .gnb_ico_num .gnb_count, #gnb.gnb_one_small .gnb_ico_num .gnb_count {height: 13px;padding: 0 6px 0 2px;background-position: 100% -60px;font-size: 10px;font-weight: normal;}\\n#gnb.gnb_one .gnb_ico_num .plus, #gnb.gnb_one_small .gnb_ico_num .plus{margin:1px 0 0 2px}\\n#gnb.gnb_one .ico_arrow{top:48px}\\n#gnb.gnb_one .gnb_my_lyr, #gnb.gnb_one .gnb_notice_lyr{top:47px}\\n#gnb.gnb_one .gnb_service_lyr{top:48px;}\\n#gnb.gnb_one .gnb_login_li{padding:16px 21px 10px 1px;}\\n#gnb.gnb_one .gnb_my_li{padding:12px 20px 12px 2px}\\n#gnb.gnb_one .gnb_my_li .ico_arrow{top:34px}\\n#gnb.gnb_one .gnb_notice_li a.gnb_notice{padding:18px 19px 17px 19px}\\n#gnb.gnb_one .gnb_talk_li a.gnb_talk{width: 20px; height: 20px; padding: 17px 17px 17px 18px;}\\n#gnb.gnb_one .mail_li a.gnb_mail{padding:19px 17px 18px 17px}\\n#gnb.gnb_one .gnb_service_li .gnb_service{padding:19px 19px 18px 19px}\\n#gnb.gnb_one_small .ico_arrow{top:33px}\\n#gnb.gnb_one_small .gnb_my_lyr, #gnb.gnb_one_small .gnb_notice_lyr{top:32px}\\n#gnb.gnb_one_small .gnb_service_lyr{top:33px}\\n#gnb.gnb_one_small .gnb_login_li{padding:7px 12px 4px 2px}\\n#gnb.gnb_one_small .gnb_my_li{padding:5px 20px 4px 2px}\\n#gnb.gnb_one_small .gnb_my_li .ico_arrow{top:27px}\\n#gnb.gnb_one_small .gnb_notice_li a.gnb_notice{padding:10px 11px 10px 12px}\\n#gnb.gnb_one_small .gnb_talk_li a.gnb_talk{padding:10px 11px 10px 12px}\\n#gnb.gnb_one_small .mail_li a.gnb_mail{padding:11px 10px 11px 9px}\\n#gnb.gnb_one_small .gnb_service_li .gnb_service{padding:11px 12px 11px 11px}\\n#gnb.gnb_one_small .gnb_ico_num{top:5px;right:6px;width:24px}\\n#gnb.gnb_one_flat .gnb_login_li,\\n#gnb.gnb_one_flat .gnb_my_li,\\n#gnb.gnb_one_flat .gnb_notice_li,\\n#gnb.gnb_one_flat .mail_li,\\n#gnb.gnb_one_flat .gnb_service_li {border-color: #e0e0e0;}\\n#gnb.gnb_one_flat .gnb_notice_li.hover,\\n#gnb.gnb_one_flat .gnb_talk_li.hover,\\n#gnb.gnb_one_flat .mail_li.hover,\\n#gnb.gnb_one_flat .gnb_service_li.hover {background-color: rgba(0, 0, 0, 0.04);}\\n#gnb.gnb_one_flat .gnb_service_li .gnb_service .gnb_icon,\\n#gnb.gnb_one_flat .gnb_service_li .gnb_service:hover .gnb_icon {background-image: url(https://ssl.pstatic.net/static/common/gnb/one/sp_gnb_4b16e6.png);background-position: -84px -24px;background-repeat: no-repeat; width: 16px;height: 16px;vertical-align: top; margin: 0 1px;}\\n#gnb.gnb_one_flat .mail_li a.gnb_mail .gnb_icon,\\n#gnb.gnb_one_flat .mail_li a.gnb_mail:hover .gnb_icon {background-image: url(https://ssl.pstatic.net/static/common/gnb/one/sp_gnb_4b16e6.png);background-position: 0px -42px;background-repeat: no-repeat;width: 20px;height: 16px;vertical-align: top;margin: 0 1px;}\\n#gnb.gnb_one_flat .gnb_notice_li a.gnb_notice .gnb_icon,\\n#gnb.gnb_one_flat .gnb_notice_li a.gnb_notice:hover .gnb_icon {background-image: url(https://ssl.pstatic.net/static/common/gnb/one/sp_gnb_4b16e6.png);background-position: -84px 0px;background-repeat: no-repeat;width: 16px;height: 18px;vertical-align: top;margin: 0 1px;}\\n#gnb.gnb_one_flat .gnb_my_li .gnb_my .gnb_name,\\n#gnb.gnb_one_flat .gnb_login_li .gnb_btn_login .gnb_txt {color: #666;}\\n#gnb.gnb_one_pwe .gnb_my .filter_mask {box-sizing: border-box;background: none;border: 1px solid rgba(0,0,0,.1);border-radius: 100%;}\\n#gnb.gnb_one_pwe .gnb_my_namebox {background-image: url(https://ssl.pstatic.net/static/common/gnb/pwe/ico_arrow_wh.svg) !important;}\\n#gnb.gnb_one_pwe .gnb_notice_li a.gnb_notice .gnb_icon,\\n#gnb.gnb_one_pwe .gnb_notice_li a.gnb_notice:hover .gnb_icon {width: 17px;height: 19px;background: url(https://ssl.pstatic.net/static/common/gnb/pwe/gnb_notice.svg) no-repeat;}\\n#gnb.gnb_one_pwe .gnb_talk_li a.gnb_talk .gnb_icon,\\n#gnb.gnb_one_pwe .gnb_talk_li a.gnb_talk:hover .gnb_icon {width: 20px; height: 20px; background: url(https://ssl.pstatic.net/static/common/gnb/pwe/gnb_talk.svg) no-repeat; }\\n#gnb.gnb_one_pwe .gnb_service_li .gnb_service .gnb_icon,\\n#gnb.gnb_one_pwe .gnb_service_li .gnb_service:hover .gnb_icon {width: 17px;height: 17px;background: url(https://ssl.pstatic.net/static/common/gnb/pwe/gnb_service.svg) no-repeat;}\\n#gnb.gnb_one_pwe .gnb_ico_num .gnb_ico_new,\\n#gnb.gnb_one_pwe .gnb_ico_num .gnb_count {background: #e1523a;}\\n#gnb.gnb_one_pwe .gnb_ico_num .gnb_ico_new {border-radius: 13px 0 0 13px;}\\n#gnb.gnb_one_pwe .gnb_ico_num .gnb_count {border-radius: 0 13px 13px 0;}</style><script src=\"https://ssl.pstatic.net/static.gn/js/clickcrD.js\" id=\"gnb_clickcrD\" charset=\"utf-8\"></script><meta property=\"og:title\" content=\"서울 강남구 정보통신 검색 - 네이버 지도\" data-rh=\"true\"><meta property=\"twitter:title\" content=\"서울 강남구 정보통신 검색 - 네이버 지도\" data-rh=\"true\"></head><body><div id=\"root\"><!--$--><div class=\"sc-ibaz69 cZBFVy\"><div class=\"sc-13mbent kjghqO\"><a href=\"#section_content\"><span>본문 바로가기</span></a><a href=\"#header\"><span>주 메뉴 바로가기</span></a></div><header id=\"header\" class=\"sc-15dd2w gwCGCd\"><h1 class=\"logo_box\"><a class=\"link_logo\" href=\"https://www.naver.com\"><span class=\"blind\">네이버 지도</span></a></h1><nav class=\"sc-1d8u9oq htgAOx\"><ul class=\"list_navbar -fold\"><li class=\"sc-13bg05j fSXbGk\"><button type=\"button\" class=\"btn_navbar active\"><span class=\"navbar_text\">지도 홈</span><span class=\"blind\">선택됨</span></button></li><li class=\"sc-13bg05j giVRJo\"><button type=\"button\" class=\"btn_navbar\"><span class=\"navbar_text\">길찾기</span></button></li><li class=\"sc-13bg05j jlEirM\"><button type=\"button\" class=\"btn_navbar\"><span class=\"navbar_text\">버스</span></button></li><li class=\"sc-13bg05j jrThCA\"><button type=\"button\" class=\"btn_navbar\"><span class=\"navbar_text\">지하철</span></button></li><li class=\"sc-13bg05j hMCPzw\"><button type=\"button\" class=\"btn_navbar\"><span class=\"navbar_text\">기차</span></button></li><li class=\"sc-13bg05j iHYZUs\"><button type=\"button\" class=\"btn_navbar\"><span class=\"sc-cmjm8o kBmiGB\"><span class=\"blind\">new</span></span><span class=\"navbar_text\">저장</span></button></li><li class=\"sc-13bg05j cIPZjw\"><button type=\"button\" class=\"btn_navbar\"><span class=\"navbar_text\">더보기</span></button></li></ul></nav><div class=\"sc-rlx3or igXThX\"><div id=\"gnb\" class=\"\"><strong class=\"blind\">사용자 링크</strong><ul class=\"gnb_lst\" id=\"gnb_lst\" style=\"display: block;\"><li class=\"gnb_login_li\" id=\"gnb_login_layer\" style=\"display: inline-block;\"><a class=\"gnb_btn_login\" href=\"https://nid.naver.com/nidlogin.login\" id=\"gnb_login_button\"><span class=\"gnb_bg\"></span><span class=\"gnb_bdr\"></span><span class=\"gnb_txt\">로그인</span></a></li><li class=\"gnb_my_li\" id=\"gnb_my_layer\" style=\"display:none\"><div class=\"gnb_my_namebox\" id=\"gnb_my_namebox\" style=\"background-image: url(&quot;https://ssl.pstatic.net/static/common/gnb/2014/ico_arrow_bl1.gif&quot;);\"><a href=\"javascript:;\" id=\"gnb_my\" class=\"gnb_my\" onclick=\"gnbUserLayer.clickToggle(); return false;\"><img id=\"gnb_profile_img\" src=\"data:image/gif;base64,R0lGODlhAQABAAD/ACwAAAAAAQABAAACADs%3D\" onerror=\"this.src=\\'data:image/png;base64,iVBORw0KGgoAAAANSUhEUgAAAFAAAABQCAMAAAC5zwKfAAAAGXRFWHRTb2Z0d2FyZQBBZG9iZSBJbWFnZVJlYWR5ccllPAAAADNQTFRF8PDw5ubm+vr6+/v76enp+Pj47e3t5+fn9/f37Ozs9PT08vLy7+/v6urq9fX15OTk/f39pqwodgAAAQNJREFUeNrs11EOgyAMgOEWUAF19f6n3cMeplJHoSZbsv4H+DIWaCNsNwcGGmiggQZ+D/Q5reuasr8H9ID0CsHfALpA74JTgwPSPnRK0Ac6FrwOXOjcogIdlTkNuDDgogGRAVEBDsQ19IMzC879ILAgGNgAZhbMP3RttonxJs1Lgea/sDYcyreHXjW+oPUHVid2MWC1K+A0sqsDW7CksGmlCNZoFt9pIfjYgY8bwMMexUENQuOtqYCxfHtT7AddYodDcp0gIPEh9IBxous+nBuaTis4Nw/OSLVwloN+JEmjGJR5FyIDRpIWZeAoBkcZGMRgkIEkz0D7GjXQQAMN/GvwKcAAEGGHJh0mmaAAAAAASUVORK5CYII=\\'\" width=\"26\" height=\"26\" alt=\"내 프로필 이미지\"><span id=\"gnb_profile_filter_mask\" class=\"filter_mask\"></span> <span class=\"gnb_name\" id=\"gnb_name1\"></span><em class=\"blind\">내정보 보기</em><span class=\"ico_arrow\"></span></a><a href=\"#\" class=\"gnb_emp\" id=\"gnb_emp\">(임직원혜택)</a></div><div class=\"gnb_my_lyr\" id=\"gnb_my_lyr\"><div class=\"gnb_my_content\"><div class=\"gnb_img_area\"><span class=\"gnb_mask\"></span><img src=\"data:image/gif;base64,R0lGODlhAQABAAD/ACwAAAAAAQABAAACADs%3D\" onerror=\"this.src=\\'data:image/png;base64,iVBORw0KGgoAAAANSUhEUgAAAFAAAABQCAMAAAC5zwKfAAAAGXRFWHRTb2Z0d2FyZQBBZG9iZSBJbWFnZVJlYWR5ccllPAAAADNQTFRF8PDw5ubm+vr6+/v76enp+Pj47e3t5+fn9/f37Ozs9PT08vLy7+/v6urq9fX15OTk/f39pqwodgAAAQNJREFUeNrs11EOgyAMgOEWUAF19f6n3cMeplJHoSZbsv4H+DIWaCNsNwcGGmiggQZ+D/Q5reuasr8H9ID0CsHfALpA74JTgwPSPnRK0Ac6FrwOXOjcogIdlTkNuDDgogGRAVEBDsQ19IMzC879ILAgGNgAZhbMP3RttonxJs1Lgea/sDYcyreHXjW+oPUHVid2MWC1K+A0sqsDW7CksGmlCNZoFt9pIfjYgY8bwMMexUENQuOtqYCxfHtT7AddYodDcp0gIPEh9IBxous+nBuaTis4Nw/OSLVwloN+JEmjGJR5FyIDRpIWZeAoBkcZGMRgkIEkz0D7GjXQQAMN/GvwKcAAEGGHJh0mmaAAAAAASUVORK5CYII=\\'\" width=\"80\" height=\"80\" alt=\"프로필 이미지\"><a href=\"https://nid.naver.com/user2/api/naverProfile?m=checkIdType\" class=\"gnb_change\"><span class=\"blind\">프로필 사진 변경</span></a></div><div class=\"gnb_txt_area\"><p class=\"gnb_account\"><span class=\"gnb_name\" id=\"gnb_name2\"><a class=\"gnb_nick\" href=\"https://nid.naver.com/user2/api/naverProfile?m=checkIdType\">_</a>님</span><a class=\"gnb_btn_login\" href=\"https://nid.naver.com/nidlogin.logout?returl=/\" id=\"gnb_logout_button\"><span class=\"gnb_bg\"></span><span class=\"gnb_bdr\"></span><span class=\"gnb_txt\">로그아웃</span></a></p><a href=\"https://mail.naver.com\" class=\"gnb_mail_address\">@naver.com</a><ul class=\"gnb_edit_lst\"><li class=\"gnb_info\"><a href=\"https://nid.naver.com/user2/help/myInfo?menu=home\">네이버ID</a></li><li class=\"gnb_secure\" id=\"gnb_secure_lnk\"><a href=\"https://nid.naver.com/user2/help/myInfo?m=viewSecurity&amp;menu=security\">보안설정</a></li><li class=\"gnb_cert\" id=\"gnb_cert_lnk\"><a href=\"https://nid.naver.com/user2/eSign/v1/home/land\" id=\"gnb_cert_lnk_a\">내인증서</a></li></ul><div class=\"gnb_pay_check\" id=\"gnb_pay_check\"><p class=\"gnb_membership\" style=\"display: none;\" id=\"gnb_membership\"><a href=\"https://nid.naver.com/membership/my\" class=\"gnb_my_membership\" id=\"gnb_my_membership\"><i class=\"blind\">네이버 멤버쉽</i></a></p><em>N Pay</em><a href=\"https://pay.naver.com\" id=\"gnb_pay_point\"><span style=\"display: none\">내 페이포인트</span></a></div></div></div><div class=\"gnb_my_community\"><a href=\"https://blog.naver.com/MyBlog.naver\" class=\"gnb_blog\">내 블로그</a><a href=\"https://section.cafe.naver.com\" class=\"gnb_cafe\">가입한 카페</a><a href=\"https://pay.naver.com\" class=\"gnb_pay\" id=\"gnb_pay_banner_membership\" style=\"display: block;\"><span>N Pay</span></a><a href=\"https://nid.naver.com/membership/join\" class=\"gnb_pay\" id=\"gnb_pay_banner_newbie\" style=\"display: none;\"><i>네이버 멤버십 최대 5% 적립</i></a></div><a href=\"#\" class=\"gnb_my_interface\" style=\"display:none\"><span class=\"blind\">환경설정</span></a></div><iframe id=\"gnb_my_lyr_iframe\" title=\"빈 프레임\" class=\"gnb_pad_lyr\" name=\"padding\" width=\"0\" height=\"0\" scrolling=\"no\" frameborder=\"0\" style=\"top:34px;right:-4px;width:320px;height:158px;display:none;opacity:0;-ms-filter:alpha(opacity=0)\"></iframe></li><li class=\"gnb_talk_li\" id=\"gnb_talk_layer\" style=\"display:none\"><a id=\"gnb_talks_button\" class=\"gnb_talk\" target=\"_blank\" rel=\"noopener noreferrer\" href=\"https://talks.naver.com/?frm=pcgnb&amp;anchor=&amp;category=\"><span class=\"blind\">네이버톡</span><span class=\"gnb_icon\"></span><em class=\"gnb_ico_num\" id=\"gnb_talk_menu\" style=\"display:none\"><span class=\"gnb_ico_new\"><span class=\"gnb_count\" id=\"gnb_talk_count\"></span></span></em><span class=\"ico_arrow\"></span></a></li><li class=\"gnb_notice_li\" id=\"gnb_notice_layer\" style=\"display:none\"><a href=\"https://m.notify.naver.com/?from=pcmain\" class=\"gnb_notice\" target=\"_blank\" rel=\"noopener noreferrer\"><span class=\"blind\">알림</span><span class=\"gnb_icon\"></span><em class=\"gnb_ico_num\" id=\"gnb_me_menu\" style=\"display:none\"><span class=\"gnb_ico_new\"><span class=\"gnb_count\" id=\"gnb_me_count\"></span></span></em><span class=\"ico_arrow\"></span></a><div class=\"gnb_notice_lyr\" id=\"gnb_notice_lyr\"><div class=\"svc_noti svc_panel\"><div class=\"svc_scroll\"><div class=\"svc_head\"><strong class=\"gnb_tit\">전체 알림</strong><div class=\"task_right\"><button onclick=\"gnbNaverMeLayer.deleteReadList(this, event);\" id=\"gnb_btn_read_noti_del\">읽은 알림 삭제</button><button onclick=\"gnbNaverMeLayer.showDeleteAlert();\" id=\"gnb_btn_all_noti_del\">모두 삭제</button></div></div><div class=\"svc_body\" id=\"gnb_naverme_layer\"></div></div><div class=\"gnb_ly_alert\" id=\"gnb_ly_alert\" style=\"display: none;\"><p class=\"gnb_msg\"><strong>알림을 모두 삭제하시겠습니까?</strong></p><div class=\"gnb_btns\"><button id=\"ly_alert_confirm\" onclick=\"gnbNaverMeLayer.deleteAllList(this, event);\">확인</button><button onclick=\"gnbNaverMeLayer.hideDeleteAlert();\">취소</button></div><button class=\"gnb_btn_close\" onclick=\"gnbNaverMeLayer.hideDeleteAlert();\"><i>레이어 닫기</i></button></div><a href=\"https://m.notify.naver.com/?from=pcmain\" class=\"gnb_notice_all\">내 알림 전체보기</a></div></div><iframe id=\"gnb_notice_lyr_iframe\" title=\"빈 프레임\" class=\"gnb_pad_lyr\" name=\"padding\" width=\"0\" height=\"0\" scrolling=\"no\" frameborder=\"0\" style=\"top:34px;right:-4px;width:299px;height:332px;display:none;opacity:0;-ms-filter:alpha(opacity=0)\"></iframe></li><li class=\"mail_li\" id=\"gnb_mail_layer\" style=\"display:none\"><a href=\"https://mail.naver.com\" class=\"gnb_mail\"><span class=\"blind\">메일</span><span class=\"gnb_icon\"></span><em class=\"gnb_ico_num\" id=\"gnb_mail_menu\" style=\"display:none\"><span class=\"gnb_ico_new\"><span class=\"gnb_count\" id=\"gnb_mail_count\"></span></span></em></a></li><li class=\"gnb_service_li\" id=\"gnb_service_layer\" style=\"display: inline-block;\"><a href=\"javascript:;\" class=\"gnb_service\" onclick=\"gnbMoreLayer.clickToggle(); return false;\"><span class=\"blind\">서비스 더보기</span><span class=\"gnb_icon\"></span><span class=\"ico_arrow\"></span></a><div class=\"gnb_service_lyr\" id=\"gnb_service_lyr\"><div class=\"gnb_favorite_search\" id=\"gnb_favorite_search\"><div class=\"gnb_favorite_area\"><div class=\"gnb_favorite_lstwrp\"><div class=\"gnb_first_visit\" style=\"display:none\"><span class=\"blind\">나만의 즐겨찾기를 추가해 보세요!</span><a href=\"#\" class=\"gnb_close\"><span class=\"blind\">닫기</span></a></div><strong class=\"blind\">즐겨찾는 서비스</strong><ul class=\"gnb_favorite_lst\" id=\"gnb_favorite_lst\"><li class=\"gnb_add\"><a href=\"#\"><span class=\"ic_add\"></span>추가</a></li><li class=\"gnb_add\"><a href=\"#\"><span class=\"ic_add\"></span>추가</a></li><li class=\"gnb_add\"><a href=\"#\"><span class=\"ic_add\"></span>추가</a></li><li class=\"gnb_add\"><a href=\"#\"><span class=\"ic_add\"></span>추가</a></li></ul><a href=\"#\" class=\"gnb_my_interface\" onclick=\"gnbMoreLayer.clickToggleWhole(); return false;\"><span class=\"blind\">즐겨찾기 설정</span></a></div></div><div class=\"gnb_search_area\"><div class=\"gnb_search_box\" onmouseover=\"gnb_search.mouseOver(this);\" onmouseout=\"gnb_search.mouseOut(this);\"><input id=\"gnb_svc_search_input\" type=\"text\" title=\"서비스 검색\" value=\"더 많은 서비스를 간편하게 시작하세요!\" onfocus=\"gnb_search.clearInput(this);\" onblur=\"gnb_search.resetInput(this);\" onkeydown=\"gnb_search.keyDown(event);\" onkeyup=\"gnb_search.keyUp(event);\"><a href=\"#\" class=\"gnb_del_txt\" id=\"gnb_del_txt\" style=\"display:none\"><span class=\"blind\">삭제</span></a><div class=\"gnb_pop_input\" id=\"gnb_pop_input\" tabindex=\"0\" onfocus=\"gnb_search.searchPopOnMouse = true; return false;\" onfocusout=\"gnb_search.searchPopOnMouse = false; return false;\" onmouseover=\"gnb_search.searchPopOnMouse = true; return false;\" onmouseout=\"gnb_search.searchPopOnMouse = false; return false;\" style=\"display:none\"><ul class=\"gnb_pop_lst\"></ul></div></div><div id=\"gnb_search_lstwrp\" class=\"gnb_search_lstwrp\"><ul class=\"gnb_search_lst gnb_first\"><li class=\"gnb_first\"><a id=\"gnb_search_lst_first_item\" href=\"https://cafe.naver.com/\">카페</a></li><li><a href=\"https://news.naver.com/\">뉴스</a></li><li><a href=\"https://map.naver.com/\">지도</a></li><li><a href=\"https://sports.news.naver.com/\">스포츠</a></li><li><a href=\"https://game.naver.com/\">게임</a></li></ul><ul class=\"gnb_search_lst\"><li class=\"gnb_first\"><a href=\"https://section.blog.naver.com/\">블로그</a></li><li><a href=\"https://post.naver.com/main.nhn\">포스트</a></li><li><a href=\"https://dict.naver.com/\">사전</a></li><li><a href=\"https://kin.naver.com/\">지식iN</a></li><li><a href=\"https://weather.naver.com/\">날씨</a></li></ul><ul class=\"gnb_search_lst\"><li class=\"gnb_first\"><a href=\"https://mail.naver.com/\">메일</a></li><li><a href=\"https://stock.naver.com/\">증권</a></li><li><a href=\"https://land.naver.com/\">부동산</a></li><li><a href=\"https://vibe.naver.com/today/\">VIBE</a></li><li><a href=\"https://book.naver.com\">책</a></li></ul><ul class=\"gnb_search_lst\"><li class=\"gnb_first\"><a href=\"https://shopping.naver.com/\">쇼핑</a></li><li><a href=\"https://comic.naver.com/\">웹툰</a></li><li><a href=\"https://movie.naver.com/\">영화</a></li><li><a href=\"https://mybox.naver.com/\">MYBOX</a></li><li><a href=\"https://novel.naver.com/webnovel/weekday\">웹소설</a></li></ul></div></div><div class=\"gnb_banner\"><a href=\"https://campaign.naver.com/npay/rediret/index.nhn\" class=\"gnb_service_event\"><img id=\"gnb_promo\" alt=\"N페이, 이벤트 참여하면 포인트 적립!\" width=\"265\" height=\"47\" src=\"https://ssl.pstatic.net/static/common/gnb/banner/promo_npay_2309.png\"></a></div><div class=\"gnb_linkwrp\"><a href=\"https://www.naver.com/more.html\" class=\"gnb_service_all\" id=\"gnb_service_all\">전체 서비스 보기</a></div></div><div class=\"gnb_svc_more\" id=\"gnb_svc_more\" style=\"\"><strong class=\"blind\">네이버 주요 서비스</strong><div class=\"gnb_bg_top\"></div><div class=\"gnb_svc_hd\" id=\"gnb_svc_hd\" tabindex=\"0\"><strong class=\"gnb_svc_tit\">바로가기 설정</strong><span class=\"link\"><a href=\"https://www.naver.com/more.html\">전체 서비스 보기</a></span></div><div class=\"gnb_svc_lstwrp\"><div class=\"gnb_svc_lst1\"><ul class=\"gnb_first\"><li><input type=\"checkbox\" id=\"nsvc_game\" name=\"selmenu\" class=\"gnb_input_check\" value=\"\"> <label for=\"nsvc_game\">게임</label></li><li><input type=\"checkbox\" id=\"nsvc_weather\" name=\"selmenu\" class=\"gnb_input_check\" value=\"\"> <label for=\"nsvc_weather\">날씨</label></li><li><input type=\"checkbox\" id=\"nsvc_shopping\" name=\"selmenu\" class=\"gnb_input_check\" value=\"\"> <label for=\"nsvc_shopping\">네이버쇼핑</label></li><li><input type=\"checkbox\" id=\"nsvc_navercast\" name=\"selmenu\" class=\"gnb_input_check\" value=\"\"> <label for=\"nsvc_navercast\">네이버캐스트</label></li><li class=\"gnb_event\"><input type=\"checkbox\" id=\"nsvc_naverpay\" name=\"selmenu\" class=\"gnb_input_check\" value=\"\"> <label for=\"nsvc_naverpay\">네이버페이<em class=\"ic_gnb_new\">New</em></label></li><li><input type=\"checkbox\" id=\"nsvc_mybox\" name=\"selmenu\" class=\"gnb_input_check\" value=\"\"> <label for=\"nsvc_mybox\">네이버 MYBOX</label></li><li><input type=\"checkbox\" id=\"nsvc_news\" name=\"selmenu\" class=\"gnb_input_check\" value=\"\"> <label for=\"nsvc_news\">뉴스</label></li><li><input type=\"checkbox\" id=\"nsvc_comic\" name=\"selmenu\" class=\"gnb_input_check\" value=\"\"> <label for=\"nsvc_comic\">웹툰</label></li><li><input type=\"checkbox\" id=\"nsvc_memo\" name=\"selmenu\" class=\"gnb_input_check\" value=\"\"> <label for=\"nsvc_memo\">메모</label></li><li><input type=\"checkbox\" id=\"nsvc_mail\" name=\"selmenu\" class=\"gnb_input_check\" value=\"\"> <label for=\"nsvc_mail\">메일</label></li><li><input type=\"checkbox\" id=\"nsvc_land\" name=\"selmenu\" class=\"gnb_input_check\" value=\"\"> <label for=\"nsvc_land\">부동산</label></li><li><input type=\"checkbox\" id=\"nsvc_bookmark\" name=\"selmenu\" class=\"gnb_input_check\" value=\"\"> <label for=\"nsvc_bookmark\">북마크</label></li><li><input type=\"checkbox\" id=\"nsvc_blog\" name=\"selmenu\" class=\"gnb_input_check\" value=\"\"> <label for=\"nsvc_blog\">블로그</label></li></ul><ul class=\"\"><li><input type=\"checkbox\" id=\"nsvc_dic\" name=\"selmenu\" class=\"gnb_input_check\" value=\"\"> <label for=\"nsvc_dic\">사전</label></li><li><input type=\"checkbox\" id=\"nsvc_smartboard\" name=\"selmenu\" class=\"gnb_input_check\" value=\"\"> <label for=\"nsvc_smartboard\">스마트보드</label></li><li><input type=\"checkbox\" id=\"nsvc_sports\" name=\"selmenu\" class=\"gnb_input_check\" value=\"\"> <label for=\"nsvc_sports\">스포츠</label></li><li><input type=\"checkbox\" id=\"nsvc_series\" name=\"selmenu\" class=\"gnb_input_check\" value=\"\"> <label for=\"nsvc_series\">시리즈</label></li><li><input type=\"checkbox\" id=\"nsvc_serieson\" name=\"selmenu\" class=\"gnb_input_check\" value=\"\"> <label for=\"nsvc_serieson\">시리즈on</label></li><li><input type=\"checkbox\" id=\"nsvc_movie\" name=\"selmenu\" class=\"gnb_input_check\" value=\"\"> <label for=\"nsvc_movie\">영화</label></li><li><input type=\"checkbox\" id=\"nsvc_office\" name=\"selmenu\" class=\"gnb_input_check\" value=\"\"> <label for=\"nsvc_office\">오피스</label></li><li><input type=\"checkbox\" id=\"nsvc_novel\" name=\"selmenu\" class=\"gnb_input_check\" value=\"\"> <label for=\"nsvc_novel\">웹소설</label></li><li><input type=\"checkbox\" id=\"nsvc_contact\" name=\"selmenu\" class=\"gnb_input_check\" value=\"\"> <label for=\"nsvc_contact\">주소록</label></li><li><input type=\"checkbox\" id=\"nsvc_finance\" name=\"selmenu\" class=\"gnb_input_check\" value=\"\"> <label for=\"nsvc_finance\">증권(금융)</label></li><li><input type=\"checkbox\" id=\"nsvc_map\" name=\"selmenu\" class=\"gnb_input_check\" value=\"\"> <label for=\"nsvc_map\">지도</label></li><li><input type=\"checkbox\" id=\"nsvc_kin\" name=\"selmenu\" class=\"gnb_input_check\" value=\"\"> <label for=\"nsvc_kin\">지식iN</label></li><li><input type=\"checkbox\" id=\"nsvc_terms\" name=\"selmenu\" class=\"gnb_input_check\" value=\"\"> <label for=\"nsvc_terms\">지식백과</label></li></ul><ul class=\"\"><li><input type=\"checkbox\" id=\"nsvc_book\" name=\"selmenu\" class=\"gnb_input_check\" value=\"\"> <label for=\"nsvc_book\">책</label></li><li><input type=\"checkbox\" id=\"nsvc_cafe\" name=\"selmenu\" class=\"gnb_input_check\" value=\"\"> <label for=\"nsvc_cafe\">카페</label></li><li><input type=\"checkbox\" id=\"nsvc_calendar\" name=\"selmenu\" class=\"gnb_input_check\" value=\"\"> <label for=\"nsvc_calendar\">캘린더</label></li><li><input type=\"checkbox\" id=\"nsvc_navertv\" name=\"selmenu\" class=\"gnb_input_check\" value=\"\"> <label for=\"nsvc_navertv\">네이버TV</label></li></ul></div><div class=\"svc_lst2\"><div class=\"svc_spc gnb_first\"><strong><a href=\"https://dict.naver.com/\">어학사전</a></strong><ul class=\"\"><li><input type=\"checkbox\" id=\"nsvc_krdic\" name=\"selmenu\" class=\"gnb_input_check\" value=\"\"> <label for=\"nsvc_krdic\">국어사전</label></li><li><input type=\"checkbox\" id=\"nsvc_endic\" name=\"selmenu\" class=\"gnb_input_check\" value=\"\"> <label for=\"nsvc_endic\">영어/영영사전</label></li><li><input type=\"checkbox\" id=\"nsvc_hanja\" name=\"selmenu\" class=\"gnb_input_check\" value=\"\"> <label for=\"nsvc_hanja\">한자사전</label></li><li><input type=\"checkbox\" id=\"nsvc_jpdic\" name=\"selmenu\" class=\"gnb_input_check\" value=\"\"> <label for=\"nsvc_jpdic\">일어사전</label></li><li><input type=\"checkbox\" id=\"nsvc_cndic\" name=\"selmenu\" class=\"gnb_input_check\" value=\"\"> <label for=\"nsvc_cndic\">중국어사전</label></li><li><input type=\"checkbox\" id=\"nsvc_frdic\" name=\"selmenu\" class=\"gnb_input_check\" value=\"\"> <label for=\"nsvc_frdic\">프랑스어사전</label></li><li><input type=\"checkbox\" id=\"nsvc_dedic\" name=\"selmenu\" class=\"gnb_input_check\" value=\"\"> <label for=\"nsvc_dedic\">독일어사전</label></li><li><input type=\"checkbox\" id=\"nsvc_rudic\" name=\"selmenu\" class=\"gnb_input_check\" value=\"\"> <label for=\"nsvc_rudic\">러시아어사전</label></li><li><input type=\"checkbox\" id=\"nsvc_vndic\" name=\"selmenu\" class=\"gnb_input_check\" value=\"\"> <label for=\"nsvc_vndic\">베트남어사전</label></li><li><input type=\"checkbox\" id=\"nsvc_spdic\" name=\"selmenu\" class=\"gnb_input_check\" value=\"\"> <label for=\"nsvc_spdic\">스페인어사전</label></li><li><input type=\"checkbox\" id=\"nsvc_papago\" name=\"selmenu\" class=\"gnb_input_check\" value=\"\"> <label for=\"nsvc_papago\">파파고</label></li></ul></div><div class=\"svc_spc\"><strong>인기/신규서비스</strong><ul class=\"\"><li><input type=\"checkbox\" id=\"nsvc_grafolio\" name=\"selmenu\" class=\"gnb_input_check\" value=\"\"> <label for=\"nsvc_grafolio\">그라폴리오</label></li><li><input type=\"checkbox\" id=\"nsvc_post\" name=\"selmenu\" class=\"gnb_input_check\" value=\"\"> <label for=\"nsvc_post\">포스트</label></li><li><input type=\"checkbox\" id=\"nsvc_band\" name=\"selmenu\" class=\"gnb_input_check\" value=\"\"> <label for=\"nsvc_band\">밴드</label></li><li><input type=\"checkbox\" id=\"nsvc_line\" name=\"selmenu\" class=\"gnb_input_check\" value=\"\"> <label for=\"nsvc_line\">라인</label></li><li class=\"gnb_event\"><input type=\"checkbox\" id=\"nsvc_vibe\" name=\"selmenu\" class=\"gnb_input_check\" value=\"\"> <label for=\"nsvc_vibe\">VIBE<em class=\"ic_gnb_new\">New</em></label></li><li><input type=\"checkbox\" id=\"nsvc_pcontents\" name=\"selmenu\" class=\"gnb_input_check\" value=\"\"> <label for=\"nsvc_pcontents\">프리미엄콘텐츠</label></li></ul></div></div></div><div class=\"svc_btnwrp\"><div class=\"svc_btns\"><button class=\"gnb_save\" onclick=\"if(gnbFavorite.addService()){gnbMoreLayer.clickToggleWhole()} return false;\"><strong class=\"blind\">확인</strong></button><button class=\"gnb_close\" onclick=\"gnbFavorite.cancel(); return false;\"><span class=\"blind\">취소</span></button><button class=\"gnb_return\" onclick=\"gnbFavorite.resetService(); return false;\"><span class=\"blind\">초기 설정으로 변경</span></button></div></div><div class=\"gnb_bg_btm\"></div></div></div><iframe id=\"gnb_service_lyr_iframe\" title=\"빈 프레임\" class=\"gnb_pad_lyr\" name=\"padding\" width=\"0\" height=\"0\" scrolling=\"no\" frameborder=\"0\" style=\"display:none;top:34px;right:297px;width:585px;height:385px;opacity:0;-ms-filter:alpha(opacity=0)\"></iframe><iframe id=\"gnb_svc_more_iframe\" title=\"빈 프레임\" class=\"gnb_pad_lyr\" name=\"padding\" width=\"0\" height=\"0\" scrolling=\"no\" frameborder=\"0\" style=\"display:none;top:34px;right:-4px;width:295px;height:385px;opacity:0;-ms-filter:alpha(opacity=0)\"></iframe></li></ul></div></div></header><div class=\"sc-1i7ql2m kXacOC is_webkit\" id=\"app-layout\"><div style=\"transform:translateX(0%)\" class=\"sc-wli0gr ckiByK\"><div class=\"sc-fjy3z9 dAwFnA\"><!--$--><div class=\"sc-iwm9f4 jmTTir\"><div class=\"search_wrap \"><div class=\"search_box\"><button type=\"button\" class=\"button_search\">검색</button><button type=\"button\" class=\"btn_clear\"><span class=\"blind\">삭제</span></button><div class=\"input_box\"><input type=\"text\" id=\"input_search1717561311878\" class=\"input_search\" autocomplete=\"off\" maxlength=\"255\" role=\"combobox\" aria-controls=\"home-search-input\" aria-expanded=\"false\" aria-activedescendant=\"\" value=\"서울 강남구 정보통신\"></div></div></div></div><!--$--><div top=\"76\" class=\"sc-1wsjitl ffWHDj\"><div class=\"panel_content\" id=\"section_content\"><div class=\"sc-1uz1kl4 sc-eveks6 kagvMc bSVEeN\"><h2 class=\"blind\">검색</h2><div class=\"sc-1zazcp lga-dom\"></div><div class=\"sc-48msce bcmMFw\"><iframe id=\"searchIframe\" title=\"Naver Place Search\" src=\"https://pcmap.place.naver.com/place/list?query=%EC%84%9C%EC%9A%B8%20%EA%B0%95%EB%82%A8%EA%B5%AC%20%EC%A0%95%EB%B3%B4%ED%86%B5%EC%8B%A0&amp;x=126.891733&amp;y=37.476909&amp;clientX=126.891733&amp;clientY=37.476909&amp;display=70&amp;ts=1717561311935&amp;mapUrl=https%3A%2F%2Fmap.naver.com%2Fp%2Fsearch%2F%EC%84%9C%EC%9A%B8%20%EA%B0%95%EB%82%A8%EA%B5%AC%20%EC%A0%95%EB%B3%B4%ED%86%B5%EC%8B%A0\"></iframe></div></div></div><div class=\"panel_dialog\"></div><button aria-expanded=\"true\" class=\"sc-agadnx daUtWK\"><span class=\"blind\">패널 접기</span></button></div><!--/$--><!--/$--></div></div><div class=\"sc-1s2kvgn bxdLlF\"><div class=\"sc-nljxd hNZWUI\"><div class=\"item_carto\"><div class=\"sc-d0ncpj eJxOOA\"><div role=\"presentation\" class=\"wrap_btn_carto\"><button type=\"button\" aria-current=\"true\" class=\"sc-xgpg6k kQcOEJ\"><span class=\"carto_label\">일반지도</span></button></div><div role=\"presentation\" class=\"wrap_btn_carto\"><button type=\"button\" aria-current=\"false\" class=\"sc-xgpg6k jlAaHh\"><span class=\"carto_label\">위성지도</span></button><button type=\"button\" class=\"carto_hybrid_btn_more\" aria-pressed=\"false\"><span class=\"blind\">더보기</span></button></div><div role=\"presentation\" class=\"wrap_btn_carto\"><button type=\"button\" aria-current=\"false\" class=\"sc-xgpg6k ehyyuR\"><span class=\"carto_label\">지형지도</span></button></div></div></div><div class=\"item_toolbox\"><div class=\"sc-umqc40 sc-1ankuh7 fVJnqj gDkhRr\"><button class=\"sc-1f2xv2s ekpaqM widget_theme\" aria-pressed=\"false\"><span class=\"blind\">테마</span></button><button class=\"sc-1f2xv2s ekpaqM widget_favorite\" aria-pressed=\"false\"><span class=\"blind\">저장</span></button><button class=\"sc-1f2xv2s ekpaqM widget_land\" aria-pressed=\"false\"><span class=\"blind\">지적편집도</span></button><button class=\"sc-1f2xv2s ekpaqM widget_panorama\" aria-pressed=\"false\"><span class=\"blind\">거리뷰</span></button></div><div class=\"sc-umqc40 sc-1vbne3t fVJnqj fyKZeo\"><button class=\"sc-1f2xv2s ekpaqM widget_radius\" aria-pressed=\"false\"><span class=\"blind\">반경측정</span></button><button class=\"sc-1f2xv2s ekpaqM widget_area\" aria-pressed=\"false\"><span class=\"blind\">면적측정</span></button><button class=\"sc-1f2xv2s ekpaqM widget_distance\" aria-pressed=\"false\"><span class=\"blind\">거리측정</span></button></div><div class=\"sc-umqc40 sc-o2f90s fVJnqj Pipek\"><button class=\"sc-16xmmt4 jRHZKP widget_save\"><span class=\"blind\">다운로드</span></button><button class=\"sc-16xmmt4 jRHZKP widget_print\"><span class=\"blind\">인쇄</span></button><button id=\":R3s6eu:\" type=\"button\" class=\"naver-splugin btn sc-uhwwac dlmKsS\" data-title=\"네이버 지도\" data-option=\"{&quot;baseElement&quot;:&quot;:R3s6eu:&quot;,&quot;layerPosition&quot;:&quot;outside-top&quot;,&quot;align&quot;:&quot;right&quot;,&quot;top&quot;:-43,&quot;left&quot;:51}\" data-prevent-short-url=\"off\" data-use-short-url=\"on\" data-style=\"type_a\" data-bookmark-display=\"off\" data-memo-display=\"off\" data-mail-display=\"off\" data-keep-display=\"on\" data-layer=\"default\" aria-pressed=\"false\" data-url=\"https://map.naver.com/p/search/%EC%84%9C%EC%9A%B8%20%EA%B0%95%EB%82%A8%EA%B5%AC%20%EC%A0%95%EB%B3%B4%ED%86%B5%EC%8B%A0?c=14135410.6189394%2C4511459.8281494%2C11.00%2C0%2C0%2C0%2Cdh\"><span class=\"blind naver-splugin-c\">공유하기</span></button></div></div><div class=\"item_location\"><dialog class=\"sc-31p7nz dra-deJ sc-18s2984 fLKYdV\" open=\"\"><div class=\"location_nudge_toolip\"><span class=\"location_nudge_tooltip_text\">더 정확한 접속 위치를 확인해 보세요</span><button type=\"button\" class=\"location_nudge_btn_close\"><span class=\"blind\">닫기</span></button></div></dialog><div class=\"sc-1tvsfzn bQqwOC\"><div class=\"sc-umqc40 sc-fmxr5 fVJnqj jZPnoN\"><button type=\"button\" class=\"btn_location\" aria-pressed=\"false\"><span class=\"widget_location_icon\"><span class=\"blind\">접속위치</span></span></button></div></div><div class=\"sc-umqc40 sc-1rcdrji fVJnqj bdtbDe\"><button type=\"button\" class=\"btn_widget_zoom zoom_in\"><span class=\"blind\">확대</span></button><div class=\"sc-13f8od jrpYF\"><div class=\"wrapper-outer\"><div class=\"wrapper\"><div class=\"wrapper-inner\"><input type=\"range\" min=\"1\" max=\"100\" list=\"zoom-slider\" title=\"줌 슬라이더\" class=\"sc-hpt7w4 hmjbbi\" value=\"40\"></div></div></div><div class=\"sc-7uno6m hroGDn\"><button type=\"button\" style=\"transform: scale(0);\" class=\"range_tooltip tooltip1\">부동산</button><button type=\"button\" style=\"transform: scale(0);\" class=\"range_tooltip tooltip2\">거리</button><button type=\"button\" style=\"transform: scale(0);\" class=\"range_tooltip tooltip3\">동</button><button type=\"button\" style=\"transform: scale(0);\" class=\"range_tooltip tooltip4\">읍/면</button><button type=\"button\" style=\"transform: scale(0);\" class=\"range_tooltip tooltip5\">시/군/구</button><button type=\"button\" style=\"transform: scale(0);\" class=\"range_tooltip tooltip6\">시/도</button></div></div><button type=\"button\" class=\"btn_widget_zoom zoom_out\"><span class=\"blind\">축소</span></button></div></div></div>  <div class=\"sc-6t4syl fwqKrg\"><div class=\"mantle_map mapboxgl-map\" tabindex=\"0\" style=\"position: relative; overflow: hidden; background: url(&quot;data:image/png;base64,iVBORw0KGgoAAAANSUhEUgAAABAAAAAQCAIAAACQkWg2AAAAGXRFWHRTb2Z0d2FyZQBBZG9iZSBJbWFnZVJlYWR5ccllPAAAA3ZpVFh0WE1MOmNvbS5hZG9iZS54bXAAAAAAADw/eHBhY2tldCBiZWdpbj0i77u/IiBpZD0iVzVNME1wQ2VoaUh6cmVTek5UY3prYzlkIj8+IDx4OnhtcG1ldGEgeG1sbnM6eD0iYWRvYmU6bnM6bWV0YS8iIHg6eG1wdGs9IkFkb2JlIFhNUCBDb3JlIDUuNi1jMTQ1IDc5LjE2MzQ5OSwgMjAxOC8wOC8xMy0xNjo0MDoyMiAgICAgICAgIj4gPHJkZjpSREYgeG1sbnM6cmRmPSJodHRwOi8vd3d3LnczLm9yZy8xOTk5LzAyLzIyLXJkZi1zeW50YXgtbnMjIj4gPHJkZjpEZXNjcmlwdGlvbiByZGY6YWJvdXQ9IiIgeG1sbnM6eG1wTU09Imh0dHA6Ly9ucy5hZG9iZS5jb20veGFwLzEuMC9tbS8iIHhtbG5zOnN0UmVmPSJodHRwOi8vbnMuYWRvYmUuY29tL3hhcC8xLjAvc1R5cGUvUmVzb3VyY2VSZWYjIiB4bWxuczp4bXA9Imh0dHA6Ly9ucy5hZG9iZS5jb20veGFwLzEuMC8iIHhtcE1NOk9yaWdpbmFsRG9jdW1lbnRJRD0ieG1wLmRpZDo5NDZmMTM0My05NGZkLTRlMzktOThjZS0wZmUyMTNkN2RhZTgiIHhtcE1NOkRvY3VtZW50SUQ9InhtcC5kaWQ6MkU3Qzg4RkE1MUZEMTFFOUE5RjlEMkFBNjlFM0RGNkYiIHhtcE1NOkluc3RhbmNlSUQ9InhtcC5paWQ6MkU3Qzg4Rjk1MUZEMTFFOUE5RjlEMkFBNjlFM0RGNkYiIHhtcDpDcmVhdG9yVG9vbD0iQWRvYmUgUGhvdG9zaG9wIENDIDIwMTkgTWFjaW50b3NoIj4gPHhtcE1NOkRlcml2ZWRGcm9tIHN0UmVmOmluc3RhbmNlSUQ9InhtcC5paWQ6OTQ2ZjEzNDMtOTRmZC00ZTM5LTk4Y2UtMGZlMjEzZDdkYWU4IiBzdFJlZjpkb2N1bWVudElEPSJ4bXAuZGlkOjk0NmYxMzQzLTk0ZmQtNGUzOS05OGNlLTBmZTIxM2Q3ZGFlOCIvPiA8L3JkZjpEZXNjcmlwdGlvbj4gPC9yZGY6UkRGPiA8L3g6eG1wbWV0YT4gPD94cGFja2V0IGVuZD0iciI/Pmsmp7UAAAAzSURBVHjaYvz25R0D0eDXr99MDKSAL18+k6aBh4d31IZRG6hmAzDFvnv3jkgSaANAgAEA3PlIwE1zCY4AAAAASUVORK5CYII=&quot;) 0px 0px repeat transparent;\"><div style=\"position: absolute; display: block; margin: 0px; padding: 0px; border: 0px none; top: 0px; left: 0px; overflow: visible; width: 100%; height: 100%; -webkit-tap-highlight-color: rgba(0, 0, 0, 0); z-index: 0; cursor: url(&quot;https://ssl.pstatic.net/static/maps/mantle/1x/openhand.cur&quot;), default;\"><div class=\"\" style=\"position: absolute; display: block; margin: 0px; padding: 0px; border: 0px none; top: 0px; left: 0px; overflow: visible; width: 100%; height: 100%; -webkit-tap-highlight-color: rgba(0, 0, 0, 0); z-index: 0;\"><div style=\"position: absolute; display: none; margin: 0px; padding: 0px; border: 0px none; top: 0px; left: 0px; overflow: visible; width: 100%; height: 100%; -webkit-tap-highlight-color: rgba(0, 0, 0, 0); background-color: rgb(255, 255, 255); z-index: 10000; opacity: 0.5;\"></div><div class=\"mapboxgl-canvas-container mapboxgl-interactive\" style=\"position: relative; z-index: 10; visibility: visible;\"><canvas class=\"mapboxgl-canvas\" tabindex=\"0\" aria-label=\"Map\" role=\"region\" width=\"866\" height=\"865\" style=\"width: 866px; height: 865px; z-index: 0; display: block;\"></canvas><div style=\"overflow: visible; width: 100%; height: 0px; position: absolute; display: block; margin: 0px; padding: 0px; border: 0px none; top: 0px; left: 0px; z-index: 1;\"><div style=\"overflow: visible; width: 100%; height: 0px; position: absolute; display: none; margin: 0px; padding: 0px; border: 0px none; top: 0px; left: 0px; z-index: 0; user-select: none;\"></div><div style=\"overflow: visible; width: 100%; height: 0px; position: absolute; display: block; margin: 0px; padding: 0px; border: 0px none; top: 0px; left: 0px; z-index: 1; user-select: none;\"></div><div style=\"overflow: visible; width: 100%; height: 0px; position: absolute; display: block; margin: 0px; padding: 0px; border: 0px none; top: 0px; left: 0px; z-index: 100;\"><div style=\"overflow: visible; width: 100%; height: 0px; position: absolute; display: block; margin: 0px; padding: 0px; border: 0px none; top: 0px; left: 0px; z-index: 101;\"></div><div style=\"overflow: visible; width: 100%; height: 0px; position: absolute; display: block; margin: 0px; padding: 0px; border: 0px none; top: 0px; left: 0px; z-index: 103;\"><div title=\"\" style=\"position: absolute; overflow: visible; box-sizing: content-box !important; cursor: inherit; z-index: 170; transform: translate3d(681px, 452px, 0px);\"><div style=\"cursor: pointer;\"><div id=\"salt-search-marker-1168314103\" class=\"sc-q8es3i jwIltd\"><div class=\"marker_icon_area\"><div class=\"marker_icon_image_wrap\"><img src=\"https://map.pstatic.net/resource/api/v2/image/maps/search-marker/default.png?version=9\" width=\"34\" height=\"34\" alt=\"플레이스\" class=\"icon\"></div><div class=\"dot\"></div></div><div class=\"marker_text_area\"><strong class=\"marker_title\">피디정보통신</strong><span class=\"marker_text\"></span></div></div></div></div><div title=\"\" style=\"position: absolute; overflow: visible; box-sizing: content-box !important; cursor: inherit; z-index: 0; transform: translate3d(643px, 471px, 0px);\"><div style=\"cursor: pointer;\"><div id=\"salt-search-marker-38737177\" class=\"sc-q8es3i bbNICc\"><div class=\"marker_icon_area\"><div class=\"marker_icon_image_wrap\"><img src=\"https://map.pstatic.net/resource/api/v2/image/maps/search-marker/default.png?version=9\" width=\"34\" height=\"34\" alt=\"플레이스\" class=\"icon\"></div><div class=\"dot\"></div></div><div class=\"marker_text_area\"><strong class=\"marker_title\">한국정보통신기술인협회</strong><span class=\"marker_text\"></span></div></div></div></div><div title=\"\" style=\"position: absolute; overflow: visible; box-sizing: content-box !important; cursor: inherit; z-index: 168; transform: translate3d(581px, 519px, 0px);\"><div style=\"cursor: pointer;\"><div id=\"salt-search-marker-11643688\" class=\"sc-1vdy332 kcktrb\"><div class=\"clustered_icon\"><div class=\"clustering_count\">2</div></div></div></div></div><div title=\"\" style=\"position: absolute; overflow: visible; box-sizing: content-box !important; cursor: inherit; z-index: 167; transform: translate3d(628px, 454px, 0px);\"><div style=\"cursor: pointer;\"><div id=\"salt-search-marker-11643720\" class=\"sc-q8es3i cPrBms\"><div class=\"marker_icon_area\"><div class=\"marker_icon_image_wrap\"><img src=\"https://map.pstatic.net/resource/api/v2/image/maps/search-marker/default.png?version=9\" width=\"34\" height=\"34\" alt=\"플레이스\" class=\"icon\"></div><div class=\"dot\"></div></div><div class=\"marker_text_area\"><strong class=\"marker_title\">한국통신사업자연합회</strong><span class=\"marker_text\"></span></div></div></div></div><div title=\"\" style=\"position: absolute; overflow: visible; box-sizing: content-box !important; cursor: inherit; z-index: 166; transform: translate3d(679px, 539px, 0px);\"><div style=\"cursor: pointer;\"><div id=\"salt-search-marker-1741608368\" class=\"sc-q8es3i jwIltd\"><div class=\"marker_icon_area\"><div class=\"marker_icon_image_wrap\"><img src=\"https://map.pstatic.net/resource/api/v2/image/maps/search-marker/default.png?version=9\" width=\"34\" height=\"34\" alt=\"플레이스\" class=\"icon\"></div><div class=\"dot\"></div></div><div class=\"marker_text_area\"><strong class=\"marker_title\">개포디지털혁신파크</strong><span class=\"marker_text\"></span></div></div></div></div><div title=\"\" style=\"position: absolute; overflow: visible; box-sizing: content-box !important; cursor: inherit; z-index: 0; transform: translate3d(603px, 505px, 0px);\"><div style=\"cursor: pointer;\"><div id=\"salt-search-marker-38412466\" class=\"sc-q8es3i bbNICc\"><div class=\"marker_icon_area\"><div class=\"marker_icon_image_wrap\"><img src=\"https://map.pstatic.net/resource/api/v2/image/maps/search-marker/default.png?version=9\" width=\"34\" height=\"34\" alt=\"플레이스\" class=\"icon\"></div><div class=\"dot\"></div></div><div class=\"marker_text_area\"><strong class=\"marker_title\">휴먼웍스</strong><span class=\"marker_text\"></span></div></div></div></div><div title=\"\" style=\"position: absolute; overflow: visible; box-sizing: content-box !important; cursor: inherit; z-index: 0; transform: translate3d(677px, 444px, 0px);\"><div style=\"cursor: pointer;\"><div id=\"salt-search-marker-1548104987\" class=\"sc-q8es3i bbNICc\"><div class=\"marker_icon_area\"><div class=\"marker_icon_image_wrap\"><img src=\"https://map.pstatic.net/resource/api/v2/image/maps/search-marker/default.png?version=9\" width=\"34\" height=\"34\" alt=\"플레이스\" class=\"icon\"></div><div class=\"dot\"></div></div><div class=\"marker_text_area\"><strong class=\"marker_title\">메타올</strong><span class=\"marker_text\"></span></div></div></div></div><div title=\"\" style=\"position: absolute; overflow: visible; box-sizing: content-box !important; cursor: inherit; z-index: 0; transform: translate3d(577px, 498px, 0px);\"><div style=\"cursor: pointer;\"><div id=\"salt-search-marker-1698779622\" class=\"sc-q8es3i bbNICc\"><div class=\"marker_icon_area\"><div class=\"marker_icon_image_wrap\"><img src=\"https://map.pstatic.net/resource/api/v2/image/maps/search-marker/default.png?version=9\" width=\"34\" height=\"34\" alt=\"플레이스\" class=\"icon\"></div><div class=\"dot\"></div></div><div class=\"marker_text_area\"><strong class=\"marker_title\">헤르메스스탁</strong><span class=\"marker_text\"></span></div></div></div></div><div title=\"\" style=\"position: absolute; overflow: visible; box-sizing: content-box !important; cursor: inherit; z-index: 161; transform: translate3d(597px, 460px, 0px);\"><div style=\"cursor: pointer;\"><div id=\"salt-search-marker-162103750\" class=\"sc-q8es3i cPrBms\"><div class=\"marker_icon_area\"><div class=\"marker_icon_image_wrap\"><img src=\"https://map.pstatic.net/resource/api/v2/image/maps/search-marker/default.png?version=9\" width=\"34\" height=\"34\" alt=\"플레이스\" class=\"icon\"></div><div class=\"dot\"></div></div><div class=\"marker_text_area\"><strong class=\"marker_title\">메이븐클라우드서비스</strong><span class=\"marker_text\"></span></div></div></div></div><div title=\"\" style=\"position: absolute; overflow: visible; box-sizing: content-box !important; cursor: inherit; z-index: 0; transform: translate3d(592px, 476px, 0px);\"><div style=\"cursor: pointer;\"><div id=\"salt-search-marker-1907083123\" class=\"sc-q8es3i bbNICc\"><div class=\"marker_icon_area\"><div class=\"marker_icon_image_wrap\"><img src=\"https://map.pstatic.net/resource/api/v2/image/maps/search-marker/default.png?version=9\" width=\"34\" height=\"34\" alt=\"플레이스\" class=\"icon\"></div><div class=\"dot\"></div></div><div class=\"marker_text_area\"><strong class=\"marker_title\">인텔리콘연구소</strong><span class=\"marker_text\"></span></div></div></div></div><div title=\"\" style=\"position: absolute; overflow: visible; box-sizing: content-box !important; cursor: inherit; z-index: 0; transform: translate3d(651px, 477px, 0px);\"><div style=\"cursor: pointer;\"><div id=\"salt-search-marker-1779751427\" class=\"sc-q8es3i bbNICc\"><div class=\"marker_icon_area\"><div class=\"marker_icon_image_wrap\"><img src=\"https://map.pstatic.net/resource/api/v2/image/maps/search-marker/default.png?version=9\" width=\"34\" height=\"34\" alt=\"플레이스\" class=\"icon\"></div><div class=\"dot\"></div></div><div class=\"marker_text_area\"><strong class=\"marker_title\">에이블게임즈</strong><span class=\"marker_text\"></span></div></div></div></div><div title=\"\" style=\"position: absolute; overflow: visible; box-sizing: content-box !important; cursor: inherit; z-index: 0; transform: translate3d(616px, 480px, 0px);\"><div style=\"cursor: pointer;\"><div id=\"salt-search-marker-1576982720\" class=\"sc-q8es3i bbNICc\"><div class=\"marker_icon_area\"><div class=\"marker_icon_image_wrap\"><img src=\"https://map.pstatic.net/resource/api/v2/image/maps/search-marker/default.png?version=9\" width=\"34\" height=\"34\" alt=\"플레이스\" class=\"icon\"></div><div class=\"dot\"></div></div><div class=\"marker_text_area\"><strong class=\"marker_title\">뱅코</strong><span class=\"marker_text\"></span></div></div></div></div><div title=\"\" style=\"position: absolute; overflow: visible; box-sizing: content-box !important; cursor: inherit; z-index: 0; transform: translate3d(605px, 502px, 0px);\"><div style=\"cursor: pointer;\"><div id=\"salt-search-marker-1536797847\" class=\"sc-q8es3i bbNICc\"><div class=\"marker_icon_area\"><div class=\"marker_icon_image_wrap\"><img src=\"https://map.pstatic.net/resource/api/v2/image/maps/search-marker/default.png?version=9\" width=\"34\" height=\"34\" alt=\"플레이스\" class=\"icon\"></div><div class=\"dot\"></div></div><div class=\"marker_text_area\"><strong class=\"marker_title\">캔버스타라</strong><span class=\"marker_text\"></span></div></div></div></div><div title=\"\" style=\"position: absolute; overflow: visible; box-sizing: content-box !important; cursor: inherit; z-index: 0; transform: translate3d(667px, 458px, 0px);\"><div style=\"cursor: pointer;\"><div id=\"salt-search-marker-38233619\" class=\"sc-q8es3i bbNICc\"><div class=\"marker_icon_area\"><div class=\"marker_icon_image_wrap\"><img src=\"https://map.pstatic.net/resource/api/v2/image/maps/search-marker/default.png?version=9\" width=\"34\" height=\"34\" alt=\"플레이스\" class=\"icon\"></div><div class=\"dot\"></div></div><div class=\"marker_text_area\"><strong class=\"marker_title\">체크포인트</strong><span class=\"marker_text\"></span></div></div></div></div><div title=\"\" style=\"position: absolute; overflow: visible; box-sizing: content-box !important; cursor: inherit; z-index: 155; transform: translate3d(581px, 396px, 0px);\"><div style=\"cursor: pointer;\"><div id=\"salt-search-marker-1961536944\" class=\"sc-q8es3i jwIltd\"><div class=\"marker_icon_area\"><div class=\"marker_icon_image_wrap\"><img src=\"https://map.pstatic.net/resource/api/v2/image/maps/search-marker/default.png?version=9\" width=\"34\" height=\"34\" alt=\"플레이스\" class=\"icon\"></div><div class=\"dot\"></div></div><div class=\"marker_text_area\"><strong class=\"marker_title\">사단법인 한국메타버스산업협회</strong><span class=\"marker_text\"></span></div></div></div></div><div title=\"\" style=\"position: absolute; overflow: visible; box-sizing: content-box !important; cursor: inherit; z-index: 0; transform: translate3d(575px, 395px, 0px);\"><div style=\"cursor: pointer;\"><div id=\"salt-search-marker-1183509005\" class=\"sc-q8es3i bbNICc\"><div class=\"marker_icon_area\"><div class=\"marker_icon_image_wrap\"><img src=\"https://map.pstatic.net/resource/api/v2/image/maps/search-marker/default.png?version=9\" width=\"34\" height=\"34\" alt=\"플레이스\" class=\"icon\"></div><div class=\"dot\"></div></div><div class=\"marker_text_area\"><strong class=\"marker_title\">필링크</strong><span class=\"marker_text\"></span></div></div></div></div><div title=\"\" style=\"position: absolute; overflow: visible; box-sizing: content-box !important; cursor: inherit; z-index: 0; transform: translate3d(589px, 500px, 0px);\"><div style=\"cursor: pointer;\"><div id=\"salt-search-marker-37844868\" class=\"sc-q8es3i bbNICc\"><div class=\"marker_icon_area\"><div class=\"marker_icon_image_wrap\"><img src=\"https://map.pstatic.net/resource/api/v2/image/maps/search-marker/default.png?version=9\" width=\"34\" height=\"34\" alt=\"플레이스\" class=\"icon\"></div><div class=\"dot\"></div></div><div class=\"marker_text_area\"><strong class=\"marker_title\">유엔넷</strong><span class=\"marker_text\"></span></div></div></div></div><div title=\"\" style=\"position: absolute; overflow: visible; box-sizing: content-box !important; cursor: inherit; z-index: 152; transform: translate3d(562px, 459px, 0px);\"><div style=\"cursor: pointer;\"><div id=\"salt-search-marker-1001100354\" class=\"sc-q8es3i cPrBms\"><div class=\"marker_icon_area\"><div class=\"marker_icon_image_wrap\"><img src=\"https://map.pstatic.net/resource/api/v2/image/maps/search-marker/default.png?version=9\" width=\"34\" height=\"34\" alt=\"플레이스\" class=\"icon\"></div><div class=\"dot\"></div></div><div class=\"marker_text_area\"><strong class=\"marker_title\">사운드볼트</strong><span class=\"marker_text\"></span></div></div></div></div><div title=\"\" style=\"position: absolute; overflow: visible; box-sizing: content-box !important; cursor: inherit; z-index: 0; transform: translate3d(586px, 474px, 0px);\"><div style=\"cursor: pointer;\"><div id=\"salt-search-marker-1578400270\" class=\"sc-q8es3i bbNICc\"><div class=\"marker_icon_area\"><div class=\"marker_icon_image_wrap\"><img src=\"https://map.pstatic.net/resource/api/v2/image/maps/search-marker/default.png?version=9\" width=\"34\" height=\"34\" alt=\"플레이스\" class=\"icon\"></div><div class=\"dot\"></div></div><div class=\"marker_text_area\"><strong class=\"marker_title\">플루토스</strong><span class=\"marker_text\"></span></div></div></div></div><div title=\"\" style=\"position: absolute; overflow: visible; box-sizing: content-box !important; cursor: inherit; z-index: 150; transform: translate3d(631px, 485px, 0px);\"><div style=\"cursor: pointer;\"><div id=\"salt-search-marker-1774283403\" class=\"sc-q8es3i cPrBms\"><div class=\"marker_icon_area\"><div class=\"marker_icon_image_wrap\"><img src=\"https://map.pstatic.net/resource/api/v2/image/maps/search-marker/default.png?version=9\" width=\"34\" height=\"34\" alt=\"플레이스\" class=\"icon\"></div><div class=\"dot\"></div></div><div class=\"marker_text_area\"><strong class=\"marker_title\">공고인포 신문공고</strong><span class=\"marker_text\"></span></div></div></div></div><div title=\"\" style=\"position: absolute; overflow: visible; box-sizing: content-box !important; cursor: inherit; z-index: 0; transform: translate3d(600px, 482px, 0px);\"><div style=\"cursor: pointer;\"><div id=\"salt-search-marker-1157947591\" class=\"sc-q8es3i bbNICc\"><div class=\"marker_icon_area\"><div class=\"marker_icon_image_wrap\"><img src=\"https://map.pstatic.net/resource/api/v2/image/maps/search-marker/default.png?version=9\" width=\"34\" height=\"34\" alt=\"플레이스\" class=\"icon\"></div><div class=\"dot\"></div></div><div class=\"marker_text_area\"><strong class=\"marker_title\">제로타카</strong><span class=\"marker_text\"></span></div></div></div></div><div title=\"\" style=\"position: absolute; overflow: visible; box-sizing: content-box !important; cursor: inherit; z-index: 0; transform: translate3d(604px, 485px, 0px);\"><div style=\"cursor: pointer;\"><div id=\"salt-search-marker-1212546041\" class=\"sc-q8es3i bbNICc\"><div class=\"marker_icon_area\"><div class=\"marker_icon_image_wrap\"><img src=\"https://map.pstatic.net/resource/api/v2/image/maps/search-marker/default.png?version=9\" width=\"34\" height=\"34\" alt=\"플레이스\" class=\"icon\"></div><div class=\"dot\"></div></div><div class=\"marker_text_area\"><strong class=\"marker_title\">호라이존테크놀로지</strong><span class=\"marker_text\"></span></div></div></div></div><div title=\"\" style=\"position: absolute; overflow: visible; box-sizing: content-box !important; cursor: inherit; z-index: 0; transform: translate3d(619px, 559px, 0px);\"><div style=\"cursor: pointer;\"><div id=\"salt-search-marker-1244093206\" class=\"sc-q8es3i bbNICc\"><div class=\"marker_icon_area\"><div class=\"marker_icon_image_wrap\"><img src=\"https://map.pstatic.net/resource/api/v2/image/maps/search-marker/default.png?version=9\" width=\"34\" height=\"34\" alt=\"플레이스\" class=\"icon\"></div><div class=\"dot\"></div></div><div class=\"marker_text_area\"><strong class=\"marker_title\">컨프론티어</strong><span class=\"marker_text\"></span></div></div></div></div><div title=\"\" style=\"position: absolute; overflow: visible; box-sizing: content-box !important; cursor: inherit; z-index: 0; transform: translate3d(630px, 457px, 0px);\"><div style=\"cursor: pointer;\"><div id=\"salt-search-marker-63048546\" class=\"sc-q8es3i bbNICc\"><div class=\"marker_icon_area\"><div class=\"marker_icon_image_wrap\"><img src=\"https://map.pstatic.net/resource/api/v2/image/maps/search-marker/default.png?version=9\" width=\"34\" height=\"34\" alt=\"플레이스\" class=\"icon\"></div><div class=\"dot\"></div></div><div class=\"marker_text_area\"><strong class=\"marker_title\">이쿠얼키</strong><span class=\"marker_text\"></span></div></div></div></div><div title=\"\" style=\"position: absolute; overflow: visible; box-sizing: content-box !important; cursor: inherit; z-index: 0; transform: translate3d(659px, 474px, 0px);\"><div style=\"cursor: pointer;\"><div id=\"salt-search-marker-1532402340\" class=\"sc-q8es3i bbNICc\"><div class=\"marker_icon_area\"><div class=\"marker_icon_image_wrap\"><img src=\"https://map.pstatic.net/resource/api/v2/image/maps/search-marker/default.png?version=9\" width=\"34\" height=\"34\" alt=\"플레이스\" class=\"icon\"></div><div class=\"dot\"></div></div><div class=\"marker_text_area\"><strong class=\"marker_title\">원더빌</strong><span class=\"marker_text\"></span></div></div></div></div><div title=\"\" style=\"position: absolute; overflow: visible; box-sizing: content-box !important; cursor: inherit; z-index: 144; transform: translate3d(790px, 596px, 0px);\"><div style=\"cursor: pointer;\"><div id=\"salt-search-marker-1407159627\" class=\"sc-q8es3i jwIltd\"><div class=\"marker_icon_area\"><div class=\"marker_icon_image_wrap\"><img src=\"https://map.pstatic.net/resource/api/v2/image/maps/search-marker/default.png?version=9\" width=\"34\" height=\"34\" alt=\"플레이스\" class=\"icon\"></div><div class=\"dot\"></div></div><div class=\"marker_text_area\"><strong class=\"marker_title\">승은이엔티</strong><span class=\"marker_text\"></span></div></div></div></div><div title=\"\" style=\"position: absolute; overflow: visible; box-sizing: content-box !important; cursor: inherit; z-index: 0; transform: translate3d(583px, 439px, 0px);\"><div style=\"cursor: pointer;\"><div id=\"salt-search-marker-1390588714\" class=\"sc-q8es3i bbNICc\"><div class=\"marker_icon_area\"><div class=\"marker_icon_image_wrap\"><img src=\"https://map.pstatic.net/resource/api/v2/image/maps/search-marker/default.png?version=9\" width=\"34\" height=\"34\" alt=\"플레이스\" class=\"icon\"></div><div class=\"dot\"></div></div><div class=\"marker_text_area\"><strong class=\"marker_title\">캐셔레스트</strong><span class=\"marker_text\"></span></div></div></div></div><div title=\"\" style=\"position: absolute; overflow: visible; box-sizing: content-box !important; cursor: inherit; z-index: 0; transform: translate3d(653px, 470px, 0px);\"><div style=\"cursor: pointer;\"><div id=\"salt-search-marker-1122656646\" class=\"sc-q8es3i bbNICc\"><div class=\"marker_icon_area\"><div class=\"marker_icon_image_wrap\"><img src=\"https://map.pstatic.net/resource/api/v2/image/maps/search-marker/default.png?version=9\" width=\"34\" height=\"34\" alt=\"플레이스\" class=\"icon\"></div><div class=\"dot\"></div></div><div class=\"marker_text_area\"><strong class=\"marker_title\">에이코엔터테인먼트</strong><span class=\"marker_text\"></span></div></div></div></div><div title=\"\" style=\"position: absolute; overflow: visible; box-sizing: content-box !important; cursor: inherit; z-index: 0; transform: translate3d(619px, 487px, 0px);\"><div style=\"cursor: pointer;\"><div id=\"salt-search-marker-445985162\" class=\"sc-q8es3i bbNICc\"><div class=\"marker_icon_area\"><div class=\"marker_icon_image_wrap\"><img src=\"https://map.pstatic.net/resource/api/v2/image/maps/search-marker/default.png?version=9\" width=\"34\" height=\"34\" alt=\"플레이스\" class=\"icon\"></div><div class=\"dot\"></div></div><div class=\"marker_text_area\"><strong class=\"marker_title\">시엔스</strong><span class=\"marker_text\"></span></div></div></div></div><div title=\"\" style=\"position: absolute; overflow: visible; box-sizing: content-box !important; cursor: inherit; z-index: 0; transform: translate3d(600px, 515px, 0px);\"><div style=\"cursor: pointer;\"><div id=\"salt-search-marker-1446209836\" class=\"sc-q8es3i bbNICc\"><div class=\"marker_icon_area\"><div class=\"marker_icon_image_wrap\"><img src=\"https://map.pstatic.net/resource/api/v2/image/maps/search-marker/default.png?version=9\" width=\"34\" height=\"34\" alt=\"플레이스\" class=\"icon\"></div><div class=\"dot\"></div></div><div class=\"marker_text_area\"><strong class=\"marker_title\">유비즈</strong><span class=\"marker_text\"></span></div></div></div></div><div title=\"\" style=\"position: absolute; overflow: visible; box-sizing: content-box !important; cursor: inherit; z-index: 0; transform: translate3d(664px, 448px, 0px);\"><div style=\"cursor: pointer;\"><div id=\"salt-search-marker-702294932\" class=\"sc-1vdy332 kcktrb\"><div class=\"clustered_dot\"></div></div></div></div><div title=\"\" style=\"position: absolute; overflow: visible; box-sizing: content-box !important; cursor: inherit; z-index: 0; transform: translate3d(650px, 471px, 0px);\"><div style=\"cursor: pointer;\"><div id=\"salt-search-marker-1265783176\" class=\"sc-q8es3i bbNICc\"><div class=\"marker_icon_area\"><div class=\"marker_icon_image_wrap\"><img src=\"https://map.pstatic.net/resource/api/v2/image/maps/search-marker/default.png?version=9\" width=\"34\" height=\"34\" alt=\"플레이스\" class=\"icon\"></div><div class=\"dot\"></div></div><div class=\"marker_text_area\"><strong class=\"marker_title\">한국디지털헬스산업협회</strong><span class=\"marker_text\"></span></div></div></div></div><div title=\"\" style=\"position: absolute; overflow: visible; box-sizing: content-box !important; cursor: inherit; z-index: 137; transform: translate3d(635px, 590px, 0px);\"><div style=\"cursor: pointer;\"><div id=\"salt-search-marker-1573079528\" class=\"sc-q8es3i jwIltd\"><div class=\"marker_icon_area\"><div class=\"marker_icon_image_wrap\"><img src=\"https://map.pstatic.net/resource/api/v2/image/maps/search-marker/default.png?version=9\" width=\"34\" height=\"34\" alt=\"플레이스\" class=\"icon\"></div><div class=\"dot\"></div></div><div class=\"marker_text_area\"><strong class=\"marker_title\">사운드W</strong><span class=\"marker_text\"></span></div></div></div></div><div title=\"\" style=\"position: absolute; overflow: visible; box-sizing: content-box !important; cursor: inherit; z-index: 0; transform: translate3d(625px, 485px, 0px);\"><div style=\"cursor: pointer;\"><div id=\"salt-search-marker-1921241055\" class=\"sc-q8es3i bbNICc\"><div class=\"marker_icon_area\"><div class=\"marker_icon_image_wrap\"><img src=\"https://map.pstatic.net/resource/api/v2/image/maps/search-marker/default.png?version=9\" width=\"34\" height=\"34\" alt=\"플레이스\" class=\"icon\"></div><div class=\"dot\"></div></div><div class=\"marker_text_area\"><strong class=\"marker_title\">씨에이치그룹</strong><span class=\"marker_text\"></span></div></div></div></div><div title=\"\" style=\"position: absolute; overflow: visible; box-sizing: content-box !important; cursor: inherit; z-index: 0; transform: translate3d(652px, 469px, 0px);\"><div style=\"cursor: pointer;\"><div id=\"salt-search-marker-1828036446\" class=\"sc-1vdy332 kcktrb\"><div class=\"clustered_dot\"></div></div></div></div><div title=\"\" style=\"position: absolute; overflow: visible; box-sizing: content-box !important; cursor: inherit; z-index: 0; transform: translate3d(671px, 446px, 0px);\"><div style=\"cursor: pointer;\"><div id=\"salt-search-marker-1655861341\" class=\"sc-q8es3i bbNICc\"><div class=\"marker_icon_area\"><div class=\"marker_icon_image_wrap\"><img src=\"https://map.pstatic.net/resource/api/v2/image/maps/search-marker/default.png?version=9\" width=\"34\" height=\"34\" alt=\"플레이스\" class=\"icon\"></div><div class=\"dot\"></div></div><div class=\"marker_text_area\"><strong class=\"marker_title\">얼라인업</strong><span class=\"marker_text\"></span></div></div></div></div><div title=\"\" style=\"position: absolute; overflow: visible; box-sizing: content-box !important; cursor: inherit; z-index: 0; transform: translate3d(644px, 513px, 0px);\"><div style=\"cursor: pointer;\"><div id=\"salt-search-marker-13144964\" class=\"sc-q8es3i bbNICc\"><div class=\"marker_icon_area\"><div class=\"marker_icon_image_wrap\"><img src=\"https://map.pstatic.net/resource/api/v2/image/maps/search-marker/default.png?version=9\" width=\"34\" height=\"34\" alt=\"플레이스\" class=\"icon\"></div><div class=\"dot\"></div></div><div class=\"marker_text_area\"><strong class=\"marker_title\">엘지유</strong><span class=\"marker_text\"></span></div></div></div></div><div title=\"\" style=\"position: absolute; overflow: visible; box-sizing: content-box !important; cursor: inherit; z-index: 0; transform: translate3d(562px, 478px, 0px);\"><div style=\"cursor: pointer;\"><div id=\"salt-search-marker-626283383\" class=\"sc-q8es3i bbNICc\"><div class=\"marker_icon_area\"><div class=\"marker_icon_image_wrap\"><img src=\"https://map.pstatic.net/resource/api/v2/image/maps/search-marker/default.png?version=9\" width=\"34\" height=\"34\" alt=\"플레이스\" class=\"icon\"></div><div class=\"dot\"></div></div><div class=\"marker_text_area\"><strong class=\"marker_title\">팅스나인</strong><span class=\"marker_text\"></span></div></div></div></div><div title=\"\" style=\"position: absolute; overflow: visible; box-sizing: content-box !important; cursor: inherit; z-index: 130; transform: translate3d(615px, 551px, 0px);\"><div style=\"cursor: pointer;\"><div id=\"salt-search-marker-79372706\" class=\"sc-q8es3i cPrBms\"><div class=\"marker_icon_area\"><div class=\"marker_icon_image_wrap\"><img src=\"https://map.pstatic.net/resource/api/v2/image/maps/search-marker/default.png?version=9\" width=\"34\" height=\"34\" alt=\"플레이스\" class=\"icon\"></div><div class=\"dot\"></div></div><div class=\"marker_text_area\"><strong class=\"marker_title\">나날에스엠아이</strong><span class=\"marker_text\"></span></div></div></div></div><div title=\"\" style=\"position: absolute; overflow: visible; box-sizing: content-box !important; cursor: inherit; z-index: 0; transform: translate3d(790px, 593px, 0px);\"><div style=\"cursor: pointer;\"><div id=\"salt-search-marker-1050178095\" class=\"sc-q8es3i bbNICc\"><div class=\"marker_icon_area\"><div class=\"marker_icon_image_wrap\"><img src=\"https://map.pstatic.net/resource/api/v2/image/maps/search-marker/default.png?version=9\" width=\"34\" height=\"34\" alt=\"플레이스\" class=\"icon\"></div><div class=\"dot\"></div></div><div class=\"marker_text_area\"><strong class=\"marker_title\">우물</strong><span class=\"marker_text\"></span></div></div></div></div><div title=\"\" style=\"position: absolute; overflow: visible; box-sizing: content-box !important; cursor: inherit; z-index: 0; transform: translate3d(602px, 415px, 0px);\"><div style=\"cursor: pointer;\"><div id=\"salt-search-marker-1201191786\" class=\"sc-q8es3i bbNICc\"><div class=\"marker_icon_area\"><div class=\"marker_icon_image_wrap\"><img src=\"https://map.pstatic.net/resource/api/v2/image/maps/search-marker/default.png?version=9\" width=\"34\" height=\"34\" alt=\"플레이스\" class=\"icon\"></div><div class=\"dot\"></div></div><div class=\"marker_text_area\"><strong class=\"marker_title\">디지털에셋그룹</strong><span class=\"marker_text\"></span></div></div></div></div><div title=\"\" style=\"position: absolute; overflow: visible; box-sizing: content-box !important; cursor: inherit; z-index: 0; transform: translate3d(582px, 413px, 0px);\"><div style=\"cursor: pointer;\"><div id=\"salt-search-marker-1848199959\" class=\"sc-q8es3i bbNICc\"><div class=\"marker_icon_area\"><div class=\"marker_icon_image_wrap\"><img src=\"https://map.pstatic.net/resource/api/v2/image/maps/search-marker/default.png?version=9\" width=\"34\" height=\"34\" alt=\"플레이스\" class=\"icon\"></div><div class=\"dot\"></div></div><div class=\"marker_text_area\"><strong class=\"marker_title\">Cloud4C Korea</strong><span class=\"marker_text\"></span></div></div></div></div><div title=\"\" style=\"position: absolute; overflow: visible; box-sizing: content-box !important; cursor: inherit; z-index: 0; transform: translate3d(604px, 488px, 0px);\"><div style=\"cursor: pointer;\"><div id=\"salt-search-marker-1157493528\" class=\"sc-q8es3i bbNICc\"><div class=\"marker_icon_area\"><div class=\"marker_icon_image_wrap\"><img src=\"https://map.pstatic.net/resource/api/v2/image/maps/search-marker/default.png?version=9\" width=\"34\" height=\"34\" alt=\"플레이스\" class=\"icon\"></div><div class=\"dot\"></div></div><div class=\"marker_text_area\"><strong class=\"marker_title\">제이엘케이</strong><span class=\"marker_text\"></span></div></div></div></div><div title=\"\" style=\"position: absolute; overflow: visible; box-sizing: content-box !important; cursor: inherit; z-index: 0; transform: translate3d(681px, 462px, 0px);\"><div style=\"cursor: pointer;\"><div id=\"salt-search-marker-607653846\" class=\"sc-q8es3i bbNICc\"><div class=\"marker_icon_area\"><div class=\"marker_icon_image_wrap\"><img src=\"https://map.pstatic.net/resource/api/v2/image/maps/search-marker/default.png?version=9\" width=\"34\" height=\"34\" alt=\"플레이스\" class=\"icon\"></div><div class=\"dot\"></div></div><div class=\"marker_text_area\"><strong class=\"marker_title\">Microstrategy Korea</strong><span class=\"marker_text\"></span></div></div></div></div><div title=\"\" style=\"position: absolute; overflow: visible; box-sizing: content-box !important; cursor: inherit; z-index: 0; transform: translate3d(572px, 473px, 0px);\"><div style=\"cursor: pointer;\"><div id=\"salt-search-marker-1584216795\" class=\"sc-q8es3i bbNICc\"><div class=\"marker_icon_area\"><div class=\"marker_icon_image_wrap\"><img src=\"https://map.pstatic.net/resource/api/v2/image/maps/search-marker/default.png?version=9\" width=\"34\" height=\"34\" alt=\"플레이스\" class=\"icon\"></div><div class=\"dot\"></div></div><div class=\"marker_text_area\"><strong class=\"marker_title\">어웨어</strong><span class=\"marker_text\"></span></div></div></div></div><div title=\"\" style=\"position: absolute; overflow: visible; box-sizing: content-box !important; cursor: inherit; z-index: 0; transform: translate3d(591px, 437px, 0px);\"><div style=\"cursor: pointer;\"><div id=\"salt-search-marker-1609605833\" class=\"sc-q8es3i bbNICc\"><div class=\"marker_icon_area\"><div class=\"marker_icon_image_wrap\"><img src=\"https://map.pstatic.net/resource/api/v2/image/maps/search-marker/default.png?version=9\" width=\"34\" height=\"34\" alt=\"플레이스\" class=\"icon\"></div><div class=\"dot\"></div></div><div class=\"marker_text_area\"><strong class=\"marker_title\">더대시</strong><span class=\"marker_text\"></span></div></div></div></div><div title=\"\" style=\"position: absolute; overflow: visible; box-sizing: content-box !important; cursor: inherit; z-index: 122; transform: translate3d(726px, 530px, 0px);\"><div style=\"cursor: pointer;\"><div id=\"salt-search-marker-1865190941\" class=\"sc-q8es3i cPrBms\"><div class=\"marker_icon_area\"><div class=\"marker_icon_image_wrap\"><img src=\"https://map.pstatic.net/resource/api/v2/image/maps/search-marker/default.png?version=9\" width=\"34\" height=\"34\" alt=\"플레이스\" class=\"icon\"></div><div class=\"dot\"></div></div><div class=\"marker_text_area\"><strong class=\"marker_title\">트루에이드</strong><span class=\"marker_text\"></span></div></div></div></div><div title=\"\" style=\"position: absolute; overflow: visible; box-sizing: content-box !important; cursor: inherit; z-index: 0; transform: translate3d(592px, 422px, 0px);\"><div style=\"cursor: pointer;\"><div id=\"salt-search-marker-1837456419\" class=\"sc-q8es3i bbNICc\"><div class=\"marker_icon_area\"><div class=\"marker_icon_image_wrap\"><img src=\"https://map.pstatic.net/resource/api/v2/image/maps/search-marker/default.png?version=9\" width=\"34\" height=\"34\" alt=\"플레이스\" class=\"icon\"></div><div class=\"dot\"></div></div><div class=\"marker_text_area\"><strong class=\"marker_title\">썬더플렉스</strong><span class=\"marker_text\"></span></div></div></div></div><div title=\"\" style=\"position: absolute; overflow: visible; box-sizing: content-box !important; cursor: inherit; z-index: 0; transform: translate3d(628px, 571px, 0px);\"><div style=\"cursor: pointer;\"><div id=\"salt-search-marker-38322239\" class=\"sc-q8es3i bbNICc\"><div class=\"marker_icon_area\"><div class=\"marker_icon_image_wrap\"><img src=\"https://map.pstatic.net/resource/api/v2/image/maps/search-marker/default.png?version=9\" width=\"34\" height=\"34\" alt=\"플레이스\" class=\"icon\"></div><div class=\"dot\"></div></div><div class=\"marker_text_area\"><strong class=\"marker_title\">한국케이블기술인연합회</strong><span class=\"marker_text\"></span></div></div></div></div><div title=\"\" style=\"position: absolute; overflow: visible; box-sizing: content-box !important; cursor: inherit; z-index: 0; transform: translate3d(625px, 484px, 0px);\"><div style=\"cursor: pointer;\"><div id=\"salt-search-marker-37657942\" class=\"sc-q8es3i bbNICc\"><div class=\"marker_icon_area\"><div class=\"marker_icon_image_wrap\"><img src=\"https://map.pstatic.net/resource/api/v2/image/maps/search-marker/default.png?version=9\" width=\"34\" height=\"34\" alt=\"플레이스\" class=\"icon\"></div><div class=\"dot\"></div></div><div class=\"marker_text_area\"><strong class=\"marker_title\">정보경영연구원</strong><span class=\"marker_text\"></span></div></div></div></div><div title=\"\" style=\"position: absolute; overflow: visible; box-sizing: content-box !important; cursor: inherit; z-index: 0; transform: translate3d(590px, 498px, 0px);\"><div style=\"cursor: pointer;\"><div id=\"salt-search-marker-665362280\" class=\"sc-q8es3i bbNICc\"><div class=\"marker_icon_area\"><div class=\"marker_icon_image_wrap\"><img src=\"https://map.pstatic.net/resource/api/v2/image/maps/search-marker/default.png?version=9\" width=\"34\" height=\"34\" alt=\"플레이스\" class=\"icon\"></div><div class=\"dot\"></div></div><div class=\"marker_text_area\"><strong class=\"marker_title\">로플랫</strong><span class=\"marker_text\"></span></div></div></div></div><div title=\"\" style=\"position: absolute; overflow: visible; box-sizing: content-box !important; cursor: inherit; z-index: 0; transform: translate3d(605px, 464px, 0px);\"><div style=\"cursor: pointer;\"><div id=\"salt-search-marker-1183652101\" class=\"sc-q8es3i bbNICc\"><div class=\"marker_icon_area\"><div class=\"marker_icon_image_wrap\"><img src=\"https://map.pstatic.net/resource/api/v2/image/maps/search-marker/default.png?version=9\" width=\"34\" height=\"34\" alt=\"플레이스\" class=\"icon\"></div><div class=\"dot\"></div></div><div class=\"marker_text_area\"><strong class=\"marker_title\">와이지비에스</strong><span class=\"marker_text\"></span></div></div></div></div><div title=\"\" style=\"position: absolute; overflow: visible; box-sizing: content-box !important; cursor: inherit; z-index: 0; transform: translate3d(603px, 513px, 0px);\"><div style=\"cursor: pointer;\"><div id=\"salt-search-marker-1684062482\" class=\"sc-q8es3i bbNICc\"><div class=\"marker_icon_area\"><div class=\"marker_icon_image_wrap\"><img src=\"https://map.pstatic.net/resource/api/v2/image/maps/search-marker/default.png?version=9\" width=\"34\" height=\"34\" alt=\"플레이스\" class=\"icon\"></div><div class=\"dot\"></div></div><div class=\"marker_text_area\"><strong class=\"marker_title\">마켓공칠</strong><span class=\"marker_text\"></span></div></div></div></div><div title=\"\" style=\"position: absolute; overflow: visible; box-sizing: content-box !important; cursor: inherit; z-index: 0; transform: translate3d(628px, 452px, 0px);\"><div style=\"cursor: pointer;\"><div id=\"salt-search-marker-37700192\" class=\"sc-q8es3i bbNICc\"><div class=\"marker_icon_area\"><div class=\"marker_icon_image_wrap\"><img src=\"https://map.pstatic.net/resource/api/v2/image/maps/search-marker/default.png?version=9\" width=\"34\" height=\"34\" alt=\"플레이스\" class=\"icon\"></div><div class=\"dot\"></div></div><div class=\"marker_text_area\"><strong class=\"marker_title\">정보보안국제협력센터</strong><span class=\"marker_text\"></span></div></div></div></div><div title=\"\" style=\"position: absolute; overflow: visible; box-sizing: content-box !important; cursor: inherit; z-index: 0; transform: translate3d(619px, 559px, 0px);\"><div style=\"cursor: pointer;\"><div id=\"salt-search-marker-1263751496\" class=\"sc-q8es3i bbNICc\"><div class=\"marker_icon_area\"><div class=\"marker_icon_image_wrap\"><img src=\"https://map.pstatic.net/resource/api/v2/image/maps/search-marker/default.png?version=9\" width=\"34\" height=\"34\" alt=\"플레이스\" class=\"icon\"></div><div class=\"dot\"></div></div><div class=\"marker_text_area\"><strong class=\"marker_title\">쉬모스랩</strong><span class=\"marker_text\"></span></div></div></div></div><div title=\"\" style=\"position: absolute; overflow: visible; box-sizing: content-box !important; cursor: inherit; z-index: 0; transform: translate3d(635px, 407px, 0px);\"><div style=\"cursor: pointer;\"><div id=\"salt-search-marker-35965041\" class=\"sc-q8es3i bbNICc\"><div class=\"marker_icon_area\"><div class=\"marker_icon_image_wrap\"><img src=\"https://map.pstatic.net/resource/api/v2/image/maps/search-marker/default.png?version=9\" width=\"34\" height=\"34\" alt=\"플레이스\" class=\"icon\"></div><div class=\"dot\"></div></div><div class=\"marker_text_area\"><strong class=\"marker_title\">BLUGG</strong><span class=\"marker_text\"></span></div></div></div></div><div title=\"\" style=\"position: absolute; overflow: visible; box-sizing: content-box !important; cursor: inherit; z-index: 0; transform: translate3d(599px, 514px, 0px);\"><div style=\"cursor: pointer;\"><div id=\"salt-search-marker-1075490316\" class=\"sc-q8es3i bbNICc\"><div class=\"marker_icon_area\"><div class=\"marker_icon_image_wrap\"><img src=\"https://map.pstatic.net/resource/api/v2/image/maps/search-marker/default.png?version=9\" width=\"34\" height=\"34\" alt=\"플레이스\" class=\"icon\"></div><div class=\"dot\"></div></div><div class=\"marker_text_area\"><strong class=\"marker_title\">인에이트</strong><span class=\"marker_text\"></span></div></div></div></div><div title=\"\" style=\"position: absolute; overflow: visible; box-sizing: content-box !important; cursor: inherit; z-index: 0; transform: translate3d(653px, 449px, 0px);\"><div style=\"cursor: pointer;\"><div id=\"salt-search-marker-37286048\" class=\"sc-q8es3i bbNICc\"><div class=\"marker_icon_area\"><div class=\"marker_icon_image_wrap\"><img src=\"https://map.pstatic.net/resource/api/v2/image/maps/search-marker/default.png?version=9\" width=\"34\" height=\"34\" alt=\"플레이스\" class=\"icon\"></div><div class=\"dot\"></div></div><div class=\"marker_text_area\"><strong class=\"marker_title\">한국FIDO산업포럼</strong><span class=\"marker_text\"></span></div></div></div></div><div title=\"\" style=\"position: absolute; overflow: visible; box-sizing: content-box !important; cursor: inherit; z-index: 0; transform: translate3d(580px, 526px, 0px);\"><div style=\"cursor: pointer;\"><div id=\"salt-search-marker-36932608\" class=\"sc-q8es3i bbNICc\"><div class=\"marker_icon_area\"><div class=\"marker_icon_image_wrap\"><img src=\"https://map.pstatic.net/resource/api/v2/image/maps/search-marker/default.png?version=9\" width=\"34\" height=\"34\" alt=\"플레이스\" class=\"icon\"></div><div class=\"dot\"></div></div><div class=\"marker_text_area\"><strong class=\"marker_title\">사단법인 한국디지털혁신협회</strong><span class=\"marker_text\"></span></div></div></div></div><div title=\"\" style=\"position: absolute; overflow: visible; box-sizing: content-box !important; cursor: inherit; z-index: 0; transform: translate3d(607px, 491px, 0px);\"><div style=\"cursor: pointer;\"><div id=\"salt-search-marker-37638288\" class=\"sc-q8es3i bbNICc\"><div class=\"marker_icon_area\"><div class=\"marker_icon_image_wrap\"><img src=\"https://map.pstatic.net/resource/api/v2/image/maps/search-marker/default.png?version=9\" width=\"34\" height=\"34\" alt=\"플레이스\" class=\"icon\"></div><div class=\"dot\"></div></div><div class=\"marker_text_area\"><strong class=\"marker_title\">정보보호인정협회</strong><span class=\"marker_text\"></span></div></div></div></div><div title=\"\" style=\"position: absolute; overflow: visible; box-sizing: content-box !important; cursor: inherit; z-index: 0; transform: translate3d(608px, 490px, 0px);\"><div style=\"cursor: pointer;\"><div id=\"salt-search-marker-37654413\" class=\"sc-q8es3i bbNICc\"><div class=\"marker_icon_area\"><div class=\"marker_icon_image_wrap\"><img src=\"https://map.pstatic.net/resource/api/v2/image/maps/search-marker/default.png?version=9\" width=\"34\" height=\"34\" alt=\"플레이스\" class=\"icon\"></div><div class=\"dot\"></div></div><div class=\"marker_text_area\"><strong class=\"marker_title\">ICT학점연계 프로젝트 인턴십</strong><span class=\"marker_text\"></span></div></div></div></div><div title=\"\" style=\"position: absolute; overflow: visible; box-sizing: content-box !important; cursor: inherit; z-index: 0; transform: translate3d(590px, 499px, 0px);\"><div style=\"cursor: pointer;\"><div id=\"salt-search-marker-34581740\" class=\"sc-q8es3i bbNICc\"><div class=\"marker_icon_area\"><div class=\"marker_icon_image_wrap\"><img src=\"https://map.pstatic.net/resource/api/v2/image/maps/search-marker/default.png?version=9\" width=\"34\" height=\"34\" alt=\"플레이스\" class=\"icon\"></div><div class=\"dot\"></div></div><div class=\"marker_text_area\"><strong class=\"marker_title\">유젠</strong><span class=\"marker_text\"></span></div></div></div></div><div title=\"\" style=\"position: absolute; overflow: visible; box-sizing: content-box !important; cursor: inherit; z-index: 0; transform: translate3d(561px, 432px, 0px);\"><div style=\"cursor: pointer;\"><div id=\"salt-search-marker-36413695\" class=\"sc-q8es3i bbNICc\"><div class=\"marker_icon_area\"><div class=\"marker_icon_image_wrap\"><img src=\"https://map.pstatic.net/resource/api/v2/image/maps/search-marker/default.png?version=9\" width=\"34\" height=\"34\" alt=\"플레이스\" class=\"icon\"></div><div class=\"dot\"></div></div><div class=\"marker_text_area\"><strong class=\"marker_title\">에이티디솔루션코리아</strong><span class=\"marker_text\"></span></div></div></div></div><div title=\"\" style=\"position: absolute; overflow: visible; box-sizing: content-box !important; cursor: inherit; z-index: 0; transform: translate3d(617px, 460px, 0px);\"><div style=\"cursor: pointer;\"><div id=\"salt-search-marker-36609974\" class=\"sc-q8es3i bbNICc\"><div class=\"marker_icon_area\"><div class=\"marker_icon_image_wrap\"><img src=\"https://map.pstatic.net/resource/api/v2/image/maps/search-marker/default.png?version=9\" width=\"34\" height=\"34\" alt=\"플레이스\" class=\"icon\"></div><div class=\"dot\"></div></div><div class=\"marker_text_area\"><strong class=\"marker_title\">포겟미코리아</strong><span class=\"marker_text\"></span></div></div></div></div><div title=\"\" style=\"position: absolute; overflow: visible; box-sizing: content-box !important; cursor: inherit; z-index: 0; transform: translate3d(628px, 478px, 0px);\"><div style=\"cursor: pointer;\"><div id=\"salt-search-marker-38331987\" class=\"sc-q8es3i bbNICc\"><div class=\"marker_icon_area\"><div class=\"marker_icon_image_wrap\"><img src=\"https://map.pstatic.net/resource/api/v2/image/maps/search-marker/default.png?version=9\" width=\"34\" height=\"34\" alt=\"플레이스\" class=\"icon\"></div><div class=\"dot\"></div></div><div class=\"marker_text_area\"><strong class=\"marker_title\">다드림아이앤에스</strong><span class=\"marker_text\"></span></div></div></div></div><div title=\"\" style=\"position: absolute; overflow: visible; box-sizing: content-box !important; cursor: inherit; z-index: 0; transform: translate3d(660px, 486px, 0px);\"><div style=\"cursor: pointer;\"><div id=\"salt-search-marker-1073485706\" class=\"sc-q8es3i bbNICc\"><div class=\"marker_icon_area\"><div class=\"marker_icon_image_wrap\"><img src=\"https://map.pstatic.net/resource/api/v2/image/maps/search-marker/default.png?version=9\" width=\"34\" height=\"34\" alt=\"플레이스\" class=\"icon\"></div><div class=\"dot\"></div></div><div class=\"marker_text_area\"><strong class=\"marker_title\">플라톰 기업부설연구소</strong><span class=\"marker_text\"></span></div></div></div></div><div title=\"\" style=\"position: absolute; overflow: visible; box-sizing: content-box !important; cursor: inherit; z-index: 0; transform: translate3d(609px, 512px, 0px);\"><div style=\"cursor: pointer;\"><div id=\"salt-search-marker-35623510\" class=\"sc-q8es3i bbNICc\"><div class=\"marker_icon_area\"><div class=\"marker_icon_image_wrap\"><img src=\"https://map.pstatic.net/resource/api/v2/image/maps/search-marker/default.png?version=9\" width=\"34\" height=\"34\" alt=\"플레이스\" class=\"icon\"></div><div class=\"dot\"></div></div><div class=\"marker_text_area\"><strong class=\"marker_title\">마이트소프트</strong><span class=\"marker_text\"></span></div></div></div></div></div><div style=\"overflow: visible; width: 100%; height: 0px; position: absolute; display: block; margin: 0px; padding: 0px; border: 0px none; top: 0px; left: 0px; z-index: 106;\"></div></div></div></div></div></div><div style=\"position: absolute; z-index: 100; margin: 0px; padding: 0px; pointer-events: none; right: 0px; bottom: 0px;\"><div style=\"border: 0px none; margin: 0px; padding: 0px; pointer-events: none;\"><div style=\"position: relative; z-index: 1; padding: 1px 5px; height: 16px; line-height: normal; font-family: &quot;Apple SD Gothic Neo&quot;, &quot;Apple SD Gothic&quot;, sans-serif; border-radius: 2px 0px 0px; background: rgba(255, 255, 255, 0.5); user-select: none; box-sizing: content-box !important; pointer-events: auto;\"><div style=\"font-size: 0px; padding: 2px; float: right; display: block;\"><span style=\"font-size: 10px; line-height: 10px; margin-right: 3px; color: rgb(0, 0, 0); text-align: center;\">3km</span><span style=\"display: inline-block; margin: 2px 3px 0px 0px; width: 99px; height: 6px; border-width: 0px 2px 2px; border-right-style: solid; border-bottom-style: solid; border-left-style: solid; border-right-color: rgb(0, 0, 0); border-bottom-color: rgb(0, 0, 0); border-left-color: rgb(0, 0, 0); border-image: initial; border-top-style: initial; border-top-color: initial; box-sizing: border-box; vertical-align: top; transition: width 0.2s ease-in-out 0s;\"></span></div><div style=\"float: left; display: inline-block; font-size: 10px; padding: 1px 7px 1px 3px; color: rgb(0, 0, 0);\">©&nbsp;<span><a href=\"https://navercorp.com\" target=\"_blank\" style=\"color: inherit; text-decoration: none;\">NAVER</a></span></div></div></div></div></div></div><div class=\"sc-u9mjxe hsVsXR\" style=\"transform: translateX(0px);\"><div role=\"button\" tabindex=\"0\" class=\"weather_btn\" aria-expanded=\"false\" aria-haspopup=\"true\" aria-controls=\"weather_floating_popup\"><div class=\"weather_info_wrap\"><div class=\"weather_info_area\"><span class=\"weather_icon\"><span class=\"blind\">구름많음</span></span><span class=\"weather_info_temperature\">30°<span class=\"blind\">기온</span></span></div><div class=\"weather_dust_info_area\"><div class=\"weather_dust type_pm10\"><span class=\"weather_dust_line\"></span><span class=\"weather_dust_text\">미세<span class=\"blind\">보통</span></span></div><div class=\"weather_dust type_pm25\"><span class=\"weather_dust_line\"></span><span class=\"weather_dust_text\">초미세<span class=\"blind\">좋음</span></span></div></div></div></div><dialog id=\"weather_floating_popup\" class=\"sc-31p7nz jPTOAr sc-1ynykd5 dnFZLT\"><div class=\"weather_popup_header_area\"><strong class=\"weather_popup_header\">강남구 삼성2동</strong><button type=\"button\" class=\"weather_popup_btn_close\"><span class=\"blind\">닫기</span></button></div><div class=\"weather_popup_content_area\"><div class=\"weather_popup_content_inner\"><div class=\"sc-8ysrnh gqYJhq\"><span class=\"weather_current_icon\"></span><div class=\"weather_current_icon_info\"><span class=\"blind\">기온</span><em class=\"weather_current_temperature\">30°</em><em class=\"weather_current_icon_text\">구름많음</em></div><dl class=\"weather_current_info_list\"><div class=\"weather_current_row\"><dt class=\"weather_current_dt\">체감온도</dt><dd class=\"weather_current_dd\">27.4°</dd></div><div class=\"weather_current_row type_pm10\"><dt class=\"weather_current_dt\">미세</dt><dd class=\"weather_current_dd\">보통</dd></div><div class=\"weather_current_row type_pm25\"><dt class=\"weather_current_dt\">초미세</dt><dd class=\"weather_current_dd\">좋음</dd></div></dl></div><ul role=\"tablist\" class=\"sc-1dzb0y7 fnMprR\"><li role=\"presentation\" class=\"weather_popup_tab_item\"><button role=\"tab\" tabindex=\"0\" type=\"button\" class=\"weather_popup_tab\" aria-selected=\"true\">시간대별</button></li><li role=\"presentation\" class=\"weather_popup_tab_item\"><button role=\"tab\" tabindex=\"-1\" type=\"button\" class=\"weather_popup_tab\" aria-selected=\"false\">일별</button></li></ul><div role=\"tabpanel\" class=\"weather_popup_tabpanel\"><ul class=\"sc-4vme63 hPQeOg\"><li class=\"weather_list_item\"><span class=\"weather_item_time\">14시</span><span class=\"sc-f48ag7 buvitv\"><span class=\"blind\">구름많음</span></span><span class=\"weather_item_tempearature\"><span class=\"blind\">기온</span>31°</span></li><li class=\"weather_list_item\"><span class=\"weather_item_time\">15시</span><span class=\"sc-f48ag7 buvitv\"><span class=\"blind\">구름많음</span></span><span class=\"weather_item_tempearature\"><span class=\"blind\">기온</span>30°</span></li><li class=\"weather_list_item\"><span class=\"weather_item_time\">16시</span><span class=\"sc-f48ag7 kWhPlL\"><span class=\"blind\">흐림</span></span><span class=\"weather_item_tempearature\"><span class=\"blind\">기온</span>30°</span></li><li class=\"weather_list_item\"><span class=\"weather_item_time\">17시</span><span class=\"sc-f48ag7 buvitv\"><span class=\"blind\">구름많음</span></span><span class=\"weather_item_tempearature\"><span class=\"blind\">기온</span>29°</span></li><li class=\"weather_list_item\"><span class=\"weather_item_time\">18시</span><span class=\"sc-f48ag7 buvitv\"><span class=\"blind\">구름많음</span></span><span class=\"weather_item_tempearature\"><span class=\"blind\">기온</span>28°</span></li><li class=\"weather_list_item\"><span class=\"weather_item_time\">19시</span><span class=\"sc-f48ag7 cOTuTw\"><span class=\"blind\">맑음</span></span><span class=\"weather_item_tempearature\"><span class=\"blind\">기온</span>26°</span></li><li class=\"weather_list_item\"><span class=\"weather_item_time\">20시</span><span class=\"sc-f48ag7 gRxjhm\"><span class=\"blind\">맑음</span></span><span class=\"weather_item_tempearature\"><span class=\"blind\">기온</span>25°</span></li><li class=\"weather_list_item\"><span class=\"weather_item_time\">21시</span><span class=\"sc-f48ag7 gRxjhm\"><span class=\"blind\">맑음</span></span><span class=\"weather_item_tempearature\"><span class=\"blind\">기온</span>24°</span></li><li class=\"weather_list_item\"><span class=\"weather_item_time\">22시</span><span class=\"sc-f48ag7 gRxjhm\"><span class=\"blind\">맑음</span></span><span class=\"weather_item_tempearature\"><span class=\"blind\">기온</span>23°</span></li><li class=\"weather_list_item\"><span class=\"weather_item_time\">23시</span><span class=\"sc-f48ag7 bmrQeb\"><span class=\"blind\">구름많음</span></span><span class=\"weather_item_tempearature\"><span class=\"blind\">기온</span>22°</span></li><li class=\"weather_list_item type_tomorrow\"><span class=\"weather_item_time\">내일</span><span class=\"sc-f48ag7 bmrQeb\"><span class=\"blind\">구름많음</span></span><span class=\"weather_item_tempearature\"><span class=\"blind\">기온</span>22°</span></li><li class=\"weather_list_item\"><span class=\"weather_item_time\">1시</span><span class=\"sc-f48ag7 gRxjhm\"><span class=\"blind\">맑음</span></span><span class=\"weather_item_tempearature\"><span class=\"blind\">기온</span>21°</span></li></ul><div class=\"sc-advo8w hydWqg weather_popup_offer\"><div class=\"weather_offer_update_area\"><span class=\"weather_offer_update\">2024.06.05. 12:50 업데이트</span><span class=\"weather_offer_from\">제공<a href=\"https://www.weather.go.kr/w/index.do\" target=\"_blank\" rel=\"noreferrer\" class=\"weather_btn_offer\">기상청</a></span></div><div class=\"weather_offer_more_area\"><a href=\"https://weather.naver.com/today/09680590\" target=\"_blank\" rel=\"noreferrer\" class=\"weather_btn_more\">날씨 더보기</a></div></div></div></div></div></dialog></div></div><div class=\"sc-9we4qu cUEEQr\"><div class=\"subwayMap\"><div class=\"sc-tge8yo dewAER subway_overlay\"><span class=\"blind\">loading</span><div class=\"loader\"><div class=\"icon\"></div><div class=\"icon\"></div><div class=\"icon\"></div></div></div></div></div></div></div><!--/$--></div><div id=\"report-screen-shot\"></div><script async=\"\" src=\"https://ntm.pstatic.net/ex/nlog.js\"></script><script defer=\"defer\" src=\"runtime.a2177d9.js\"></script><script defer=\"defer\" src=\"vendor.a2177d9.js\"></script><script defer=\"defer\" src=\"browserChecker.js\"></script><script defer=\"defer\" src=\"main.a2177d9.js\"></script><script async=\"\" src=\"https://ntm.pstatic.net/scripts/ntm_036d5979ba7d.js\"></script><script src=\"https://ssl.pstatic.net/static.gn/templates/gnb_utf8.nhn\" type=\"text/javascript\" state=\"active\"></script><script src=\"https://ssl.pstatic.net/sstatic.map/openapi/maps3.js?ts=1717372665880\" type=\"text/javascript\" state=\"active\"></script><script src=\"https://ssl.pstatic.net/sstatic.map/openapi/maps3-gl.js?ts=1717372665880\" type=\"text/javascript\" state=\"active\"></script></body></html>'"
      ]
     },
     "execution_count": 10,
     "metadata": {},
     "output_type": "execute_result"
    }
   ],
   "source": [
    "# html 코드를 달라고 요청 할수 있다.\n",
    "driver.page_source"
   ]
  },
  {
   "cell_type": "code",
   "execution_count": null,
   "id": "6ab574b3",
   "metadata": {},
   "outputs": [],
   "source": [
    "soup = BeautifulSoup(driv)"
   ]
  },
  {
   "cell_type": "code",
   "execution_count": null,
   "id": "41b6279c",
   "metadata": {},
   "outputs": [],
   "source": [
    "soup.find"
   ]
  },
  {
   "cell_type": "code",
   "execution_count": null,
   "id": "d7258b2c",
   "metadata": {},
   "outputs": [],
   "source": [
    "a = soup.select_one('').text"
   ]
  },
  {
   "cell_type": "code",
   "execution_count": null,
   "id": "b10ddf1d",
   "metadata": {},
   "outputs": [],
   "source": [
    "# 웹사이트 주소 a태그  # 워크플로우(순서도) 기준"
   ]
  },
  {
   "cell_type": "code",
   "execution_count": 1,
   "id": "a2099f1d",
   "metadata": {},
   "outputs": [],
   "source": [
    "# 디폴트 화면\n",
    "from selenium import webdriver\n",
    "from selenium.webdriver.common.by import By\n",
    "from selenium.webdriver import ActionChains\n",
    "from selenium.webdriver.support import expected_conditions as EC\n",
    "from selenium.webdriver.support.ui import WebDriverWait\n",
    "from bs4 import BeautifulSoup\n",
    "import time # 정적 대기 패키지\n",
    "\n",
    "driver = webdriver.Chrome()\n",
    "chain = ActionChains(driver)\n",
    "keyword = '서울 강남구 정보통신'\n",
    "driver.get(f'https://map.naver.com/p/search/{keyword}?c=10.00,0,0,0,dh')\n",
    "def get_li():\n",
    "    li = driver.find_elements(\n",
    "        By.XPATH,\n",
    "        '//*[@id=\"_pcmap_list_scroll_container\"]/ul/li/div[1]/div/a[1]/div/div/span[1]'\n",
    "    )\n",
    "    return li     "
   ]
  },
  {
   "cell_type": "code",
   "execution_count": 6,
   "id": "eaae81c5",
   "metadata": {},
   "outputs": [
    {
     "data": {
      "text/plain": [
       "[<function __main__.get_li()>]"
      ]
     },
     "execution_count": 6,
     "metadata": {},
     "output_type": "execute_result"
    }
   ],
   "source": [
    "get_li"
   ]
  },
  {
   "cell_type": "code",
   "execution_count": 2,
   "id": "be1dd72a",
   "metadata": {},
   "outputs": [],
   "source": [
    "# 디폴트콘텐츠에서 >> 서치프레임\n",
    "#네이버지도 대기시간\n",
    "#사용한 드라이버를 넣어주고 2초까지 로딩\n",
    "WebDriverWait(driver,2).until(EC.presence_of_element_located((By.XPATH, '//*[@id=\"searchIframe\"]')))\n",
    "driver.switch_to.frame('searchIframe')\n",
    "\n",
    "li = get_li()     #초기 li 값 \n",
    "li_last = ''      #임의의 값\n",
    "\n",
    "while li_last != li[-1]:     #li 마지막 값이 변동이 있으면 계속반복\n",
    "    li_last = li[-1]         #li 마지막 값 업데이트\n",
    "    chain.scroll_to_element(li[-1]).perform()   #스크롤 내립니다\n",
    "    li = get_li()   #li업데이트\n",
    "    \n",
    "store = [l.text for l in li] # 회사명 추가"
   ]
  },
  {
   "cell_type": "code",
   "execution_count": 3,
   "id": "5a4d81e8",
   "metadata": {
    "scrolled": true
   },
   "outputs": [
    {
     "data": {
      "text/plain": [
       "70"
      ]
     },
     "execution_count": 3,
     "metadata": {},
     "output_type": "execute_result"
    }
   ],
   "source": [
    "len(li)"
   ]
  },
  {
   "cell_type": "code",
   "execution_count": null,
   "id": "291ecefe",
   "metadata": {},
   "outputs": [],
   "source": [
    "#@! #@! 여기부터 시작 저녁"
   ]
  },
  {
   "cell_type": "code",
   "execution_count": null,
   "id": "81c40fbb",
   "metadata": {},
   "outputs": [],
   "source": [
    "addr = []\n",
    "tel  = []\n",
    "urls = []\n",
    "category = []\n",
    "\n",
    "#li 부분 for문\n",
    "\n",
    "#for x in range(1,71):\n",
    "for button in li:\n",
    "\n",
    "    button.click()\n",
    "\n",
    "    #li[0].click()   # se취에서 클릭 == searchiframe 상태\n",
    "    driver.switch_to.default_content()\n",
    "    time.sleep(.5)     # 밑소스에서 빨라서 타임 5초 간격줌\n",
    "    WebDriverWait(driver,2).until(EC.presence_of_all_elements_located(        # 위치에 있는지 아닌지 check 하는 웹드라이버 웨잇 언틸이라는 함수\n",
    "        (By.XPATH, '//*[@id=\"entryIframe\"]')))  # 대기 상환시간은 2초 > 넉넉하게 하는게 부화가 안된다.\n",
    "    driver.switch_to.frame('entryIframe')   # 되면 entryIframe 보겠다.\n",
    "\n",
    "    soup = BeautifulSoup(driver.page_source, 'html.parser') # html 파싱\n",
    "\n",
    "\n",
    "    #for c in range(1,10):\n",
    "    try:\n",
    "        c = soup.select_one('span.lnJFt').text\n",
    "        \n",
    "        \n",
    "        category.append(c)\n",
    "    except:\n",
    "        category.append(float('nan'))\n",
    "\n",
    "    try:            \n",
    "        a = soup.select_one('span.LDgIH').text\n",
    "        addr.append(a)\n",
    "    except:\n",
    "        addr.append(float('nan'))\n",
    "\n",
    "    try:\n",
    "        t = soup.select_one('span.xlx7Q').text\n",
    "        tel.append(t)\n",
    "    except:\n",
    "        tel.append(float('nan'))\n",
    "\n",
    "    try:\n",
    "        u = soup.select_one('a.place_bluelink.CHmqa')['href']\n",
    "        urls.append(u)\n",
    "    except:\n",
    "        urls.append(float('nan'))\n",
    "\n",
    "    #driver.switch_to.default_content()\n",
    "    #driver.switch_to.frame('searchIframe')\n",
    "    driver.switch_to.default_content()\n",
    "    time.sleep(.5)\n",
    "    WebDriverWait(driver,2).until(EC.presence_of_element_located(\n",
    "        (By.XPATH, f'//*[@id=\"searchIframe\"]')))\n",
    "    driver.switch_to.frame('searchIframe')"
   ]
  },
  {
   "cell_type": "code",
   "execution_count": 14,
   "id": "2ac2ce5c",
   "metadata": {},
   "outputs": [
    {
     "data": {
      "text/html": [
       "<div>\n",
       "<style scoped>\n",
       "    .dataframe tbody tr th:only-of-type {\n",
       "        vertical-align: middle;\n",
       "    }\n",
       "\n",
       "    .dataframe tbody tr th {\n",
       "        vertical-align: top;\n",
       "    }\n",
       "\n",
       "    .dataframe thead th {\n",
       "        text-align: right;\n",
       "    }\n",
       "</style>\n",
       "<table border=\"1\" class=\"dataframe\">\n",
       "  <thead>\n",
       "    <tr style=\"text-align: right;\">\n",
       "      <th></th>\n",
       "      <th>0</th>\n",
       "      <th>1</th>\n",
       "      <th>2</th>\n",
       "      <th>3</th>\n",
       "      <th>4</th>\n",
       "    </tr>\n",
       "  </thead>\n",
       "  <tbody>\n",
       "    <tr>\n",
       "      <th>0</th>\n",
       "      <td>피디정보통신</td>\n",
       "      <td>정보통신,IT</td>\n",
       "      <td>서울 강남구 봉은사로114길 46 건호빌딩 3층</td>\n",
       "      <td>http://www.pdic.co.kr</td>\n",
       "      <td>070-8796-0393</td>\n",
       "    </tr>\n",
       "    <tr>\n",
       "      <th>1</th>\n",
       "      <td>한국정보통신기술인협회</td>\n",
       "      <td>정보통신,IT</td>\n",
       "      <td>서울 강남구 테헤란로69길 14 702호</td>\n",
       "      <td>http://www.engineers.or.kr/</td>\n",
       "      <td>02-393-2600</td>\n",
       "    </tr>\n",
       "    <tr>\n",
       "      <th>2</th>\n",
       "      <td>한국정보통신진흥협회</td>\n",
       "      <td>한국정보통신진흥협회</td>\n",
       "      <td>서울 강남구 역삼로 111</td>\n",
       "      <td>http://www.kait.or.kr/</td>\n",
       "      <td>02-580-0580</td>\n",
       "    </tr>\n",
       "    <tr>\n",
       "      <th>3</th>\n",
       "      <td>한국통신사업자연합회</td>\n",
       "      <td>정보통신,IT</td>\n",
       "      <td>서울 강남구 봉은사로 435</td>\n",
       "      <td>http://www.ktoa.or.kr/</td>\n",
       "      <td>02-2015-9114</td>\n",
       "    </tr>\n",
       "    <tr>\n",
       "      <th>4</th>\n",
       "      <td>개포디지털혁신파크</td>\n",
       "      <td>정보통신,IT</td>\n",
       "      <td>서울 강남구 개포로 416 개포디지털혁신파크</td>\n",
       "      <td>NaN</td>\n",
       "      <td>NaN</td>\n",
       "    </tr>\n",
       "    <tr>\n",
       "      <th>...</th>\n",
       "      <td>...</td>\n",
       "      <td>...</td>\n",
       "      <td>...</td>\n",
       "      <td>...</td>\n",
       "      <td>...</td>\n",
       "    </tr>\n",
       "    <tr>\n",
       "      <th>65</th>\n",
       "      <td>에이티디솔루션코리아</td>\n",
       "      <td>정보통신,IT</td>\n",
       "      <td>서울 강남구 논현로149길 50</td>\n",
       "      <td>http://www.atdsolution.co.kr/</td>\n",
       "      <td>02-512-8032</td>\n",
       "    </tr>\n",
       "    <tr>\n",
       "      <th>66</th>\n",
       "      <td>포겟미코리아</td>\n",
       "      <td>정보통신,IT</td>\n",
       "      <td>서울 강남구 선릉로 577 포스타워 6층</td>\n",
       "      <td>http://www.forgetmekorea.com/</td>\n",
       "      <td>070-8864-9595</td>\n",
       "    </tr>\n",
       "    <tr>\n",
       "      <th>67</th>\n",
       "      <td>다드림아이앤에스</td>\n",
       "      <td>정보통신,IT</td>\n",
       "      <td>서울 강남구 선릉로91길 14 선릉빌딩 203호</td>\n",
       "      <td>http://www.dadreamins.com/</td>\n",
       "      <td>02-563-8008</td>\n",
       "    </tr>\n",
       "    <tr>\n",
       "      <th>68</th>\n",
       "      <td>플라톰 기업부설연구소</td>\n",
       "      <td>정보통신,IT</td>\n",
       "      <td>서울 강남구 삼성로 349 4층</td>\n",
       "      <td>http://platom.co.kr</td>\n",
       "      <td>0507-1383-3088</td>\n",
       "    </tr>\n",
       "    <tr>\n",
       "      <th>69</th>\n",
       "      <td>마이트소프트</td>\n",
       "      <td>정보통신,IT</td>\n",
       "      <td>서울 강남구 논현로72길 16 초원빌딩</td>\n",
       "      <td>http://mightsoft.co.kr/</td>\n",
       "      <td>02-6243-8264</td>\n",
       "    </tr>\n",
       "  </tbody>\n",
       "</table>\n",
       "<p>70 rows × 5 columns</p>\n",
       "</div>"
      ],
      "text/plain": [
       "              0           1                           2  \\\n",
       "0        피디정보통신     정보통신,IT  서울 강남구 봉은사로114길 46 건호빌딩 3층   \n",
       "1   한국정보통신기술인협회     정보통신,IT      서울 강남구 테헤란로69길 14 702호   \n",
       "2    한국정보통신진흥협회  한국정보통신진흥협회              서울 강남구 역삼로 111   \n",
       "3    한국통신사업자연합회     정보통신,IT             서울 강남구 봉은사로 435   \n",
       "4     개포디지털혁신파크     정보통신,IT    서울 강남구 개포로 416 개포디지털혁신파크   \n",
       "..          ...         ...                         ...   \n",
       "65   에이티디솔루션코리아     정보통신,IT           서울 강남구 논현로149길 50   \n",
       "66       포겟미코리아     정보통신,IT      서울 강남구 선릉로 577 포스타워 6층   \n",
       "67     다드림아이앤에스     정보통신,IT  서울 강남구 선릉로91길 14 선릉빌딩 203호   \n",
       "68  플라톰 기업부설연구소     정보통신,IT           서울 강남구 삼성로 349 4층   \n",
       "69       마이트소프트     정보통신,IT       서울 강남구 논현로72길 16 초원빌딩   \n",
       "\n",
       "                                3               4  \n",
       "0           http://www.pdic.co.kr   070-8796-0393  \n",
       "1     http://www.engineers.or.kr/     02-393-2600  \n",
       "2          http://www.kait.or.kr/     02-580-0580  \n",
       "3          http://www.ktoa.or.kr/    02-2015-9114  \n",
       "4                             NaN             NaN  \n",
       "..                            ...             ...  \n",
       "65  http://www.atdsolution.co.kr/     02-512-8032  \n",
       "66  http://www.forgetmekorea.com/   070-8864-9595  \n",
       "67     http://www.dadreamins.com/     02-563-8008  \n",
       "68            http://platom.co.kr  0507-1383-3088  \n",
       "69        http://mightsoft.co.kr/    02-6243-8264  \n",
       "\n",
       "[70 rows x 5 columns]"
      ]
     },
     "execution_count": 14,
     "metadata": {},
     "output_type": "execute_result"
    }
   ],
   "source": [
    "pd.DataFrame([store, category, addr, urls, tel]).T#, index=['회사명'.'카테고리'.'주소'.'URL'.'전화번호'])"
   ]
  },
  {
   "cell_type": "code",
   "execution_count": null,
   "id": "f2992555",
   "metadata": {},
   "outputs": [],
   "source": []
  },
  {
   "cell_type": "code",
   "execution_count": 19,
   "id": "9a6e50ba",
   "metadata": {},
   "outputs": [
    {
     "data": {
      "text/plain": [
       "('정보통신,IT',\n",
       " '서울 강남구 봉은사로114길 46 건호빌딩 3층',\n",
       " '070-8796-0393',\n",
       " 'http://www.pdic.co.kr')"
      ]
     },
     "execution_count": 19,
     "metadata": {},
     "output_type": "execute_result"
    }
   ],
   "source": [
    "c,a,t,u"
   ]
  },
  {
   "cell_type": "code",
   "execution_count": null,
   "id": "2518c923",
   "metadata": {},
   "outputs": [],
   "source": [
    "# df 데이터 프레임 만들기."
   ]
  },
  {
   "cell_type": "code",
   "execution_count": 3,
   "id": "a3a8f3dd",
   "metadata": {},
   "outputs": [],
   "source": [
    "# #li 부분 for문\n",
    "\n",
    "\n",
    "# #for x in range(1,71):\n",
    "# for button in li:\n",
    "\n",
    "#     button.click()\n",
    "\n",
    "#     #li[0].click()   # se취에서 클릭 == searchiframe 상태\n",
    "#     driver.switch_to.default_content()\n",
    "#     time.sleep(.5)     # 밑소스에서 빨라서 타임 5초 간격줌\n",
    "#     WebDriverWait(driver,2).until(EC.presence_of_all_elements_located(        # 위치에 있는지 아닌지 check 하는 웹드라이버 웨잇 언틸이라는 함수\n",
    "#         (By.XPATH, '//*[@id=\"entryIframe\"]')))  # 대기 상환시간은 2초 > 넉넉하게 하는게 부화가 안된다.\n",
    "#     driver.switch_to.frame('entryIframe')   # 되면 entryIframe 보겠다.\n",
    "\n",
    "#     soup = BeautifulSoup(driver.page_source, 'html.parser') # html 파싱\n",
    "\n",
    "#     #x = 0\n",
    "    \n",
    "#     for c in range(1,10):\n",
    "#         try:\n",
    "#             c = soup.select_one('span.lnJFt').text\n",
    "#             category.append(c)\n",
    "#         except:\n",
    "#             category.append(float('nan'))\n",
    "\n",
    "#         try:            \n",
    "#             a = soup.select_one('span.LDgIH').text\n",
    "#             addr.append(a)\n",
    "#         except:\n",
    "#             addr.append(float('nan'))\n",
    "\n",
    "#         try:\n",
    "#             t = soup.select_one('span.xlx7Q').text\n",
    "#             tel.append(t)\n",
    "#         except:\n",
    "#             tel.append(float('nan'))\n",
    "\n",
    "#         try:\n",
    "#             u = soup.select_one('a.place_bluelink.CHmqa')['href']\n",
    "#             urls.append(u)\n",
    "#         except:\n",
    "#             urls.append(float('nan'))\n",
    "\n",
    "# driver.switch_to.default_content()\n",
    "# driver.switch_to.frame('searchIframe')"
   ]
  },
  {
   "cell_type": "code",
   "execution_count": 6,
   "id": "cadb46d5",
   "metadata": {},
   "outputs": [],
   "source": [
    "import pandas as pd"
   ]
  },
  {
   "cell_type": "code",
   "execution_count": 7,
   "id": "7ea52f23",
   "metadata": {},
   "outputs": [],
   "source": [
    "naver_m = pd.DataFrame([c,a,t,u], index=['카테고리','주소','전화번호','URL']) # naver_m = "
   ]
  },
  {
   "cell_type": "code",
   "execution_count": 8,
   "id": "83657054",
   "metadata": {},
   "outputs": [
    {
     "data": {
      "text/html": [
       "<div>\n",
       "<style scoped>\n",
       "    .dataframe tbody tr th:only-of-type {\n",
       "        vertical-align: middle;\n",
       "    }\n",
       "\n",
       "    .dataframe tbody tr th {\n",
       "        vertical-align: top;\n",
       "    }\n",
       "\n",
       "    .dataframe thead th {\n",
       "        text-align: right;\n",
       "    }\n",
       "</style>\n",
       "<table border=\"1\" class=\"dataframe\">\n",
       "  <thead>\n",
       "    <tr style=\"text-align: right;\">\n",
       "      <th></th>\n",
       "      <th>카테고리</th>\n",
       "      <th>주소</th>\n",
       "      <th>전화번호</th>\n",
       "      <th>URL</th>\n",
       "    </tr>\n",
       "  </thead>\n",
       "  <tbody>\n",
       "    <tr>\n",
       "      <th>0</th>\n",
       "      <td>정보통신,IT</td>\n",
       "      <td>서울 강남구 논현로72길 16 초원빌딩</td>\n",
       "      <td>02-6243-8264</td>\n",
       "      <td>http://mightsoft.co.kr/</td>\n",
       "    </tr>\n",
       "  </tbody>\n",
       "</table>\n",
       "</div>"
      ],
      "text/plain": [
       "      카테고리                     주소          전화번호                      URL\n",
       "0  정보통신,IT  서울 강남구 논현로72길 16 초원빌딩  02-6243-8264  http://mightsoft.co.kr/"
      ]
     },
     "execution_count": 8,
     "metadata": {},
     "output_type": "execute_result"
    }
   ],
   "source": [
    "naver_m.T"
   ]
  },
  {
   "cell_type": "code",
   "execution_count": null,
   "id": "99d4ac69",
   "metadata": {},
   "outputs": [],
   "source": [
    "def get_next_page_button():\n",
    "    try:\n",
    "        button = driver.find_element(By.XPATH, '//*[@id=\"_pcmap_list_scroll_container\"]/div[2]/a[contains(@class, \"next\")]')\n",
    "        return button\n",
    "    except:\n",
    "        return None"
   ]
  },
  {
   "cell_type": "code",
   "execution_count": 1,
   "id": "1dfe7661",
   "metadata": {
    "collapsed": true
   },
   "outputs": [
    {
     "name": "stdout",
     "output_type": "stream",
     "text": [
      "카테고리: ['정보통신,IT', '정보통신,IT', '한국정보통신진흥협회', '정보통신,IT', '정보통신,IT', '정보통신,IT', '정보통신,IT', '정보통신,IT', '한국정보통신진흥협회', '정보통신,IT', '정보통신,IT', '정보통신,IT', '정보통신,IT', '정보통신,IT', '정보통신,IT', '정보통신,IT', '정보통신,IT', '정보통신,IT', '정보통신,IT', '정보통신,IT', '정보통신,IT', '정보통신,IT', '정보통신,IT', '정보통신,IT', '정보통신,IT', '정보통신,IT', '정보통신,IT', '정보통신,IT', '정보통신,IT', '정보통신,IT', '정보통신,IT', '정보통신,IT', '정보통신,IT', '정보통신,IT', '정보통신,IT', '정보통신,IT', '정보통신,IT', '정보통신,IT', '정보통신,IT', '정보통신,IT', '정보통신,IT', '정보통신,IT', '정보통신,IT', '정보통신,IT', '정보통신,IT', '정보통신,IT', '정보통신,IT', '정보통신,IT', '정보통신,IT', '정보통신,IT', '정보통신,IT', '정보통신,IT', '정보통신,IT', '정보통신,IT', '정보통신,IT', '정보통신,IT', '정보통신,IT', '정보통신,IT', '정보통신,IT', '정보통신,IT', '정보통신,IT', '정보통신,IT', '정보통신,IT', '정보통신,IT', '정보통신,IT', '정보통신,IT', '정보통신,IT', '정보통신,IT', '정보통신,IT', '정보통신,IT']\n",
      "주소: ['서울 강남구 봉은사로114길 46 건호빌딩 3층', '서울 강남구 테헤란로69길 14 702호', '서울 강남구 역삼로 111', '서울 강남구 봉은사로 435', '서울 강남구 개포로 416 개포디지털혁신파크', '서울 강남구 논현로 418 휴먼빌딩', '서울 강남구 영동대로106길 41 3층(삼성동,동영빌딩)', '서울 강남구 강남대로92길 31 . 6층 6038호', '서울 강남구 역삼로 111 한국정보통신진흥협회빌딩 5층', '서울 강남구 언주로 609 B동 14층', '서울 강남구 논현로 554 삼성빌딩 5층', '서울 강남구 테헤란로78길 16 4층 에이블 게임즈', '서울 강남구 언주로94길 15', '서울 강남구 테헤란로28길 42 지하1층 (역삼동, 씨엘빌딩)', '서울 강남구 영동대로 511 1906호', '서울 강남구 압구정로36길 18 신구빌딩 4층', '서울 강남구 압구정로 204', '서울 강남구 테헤란로20길 12 양지빌딩 2층', '서울 강남구 학동로6길 30 5F Sound Vault', '서울 강남구 봉은사로26길 12 3층', '서울 강남구 테헤란로52길 21', '서울 강남구 논현로98길 26-4 단암빌딩 2층', '서울 강남구 테헤란로33길 18 서울철강빌딩 624호', '서울 강남구 논현로26길 23 3층', '서울 강남구 선릉로108길 51', '서울 강남구 테헤란로82길 15 디아이타워 5층', '서울 강남구 자곡로 174-10 강남에이스타워 825호', '서울 강남구 학동로31길 12 5층', '서울 강남구 테헤란로 447 KB우준타워 13층', '서울 강남구 테헤란로44길 8 7층', '서울 강남구 논현로71길 20', '서울 강남구 영동대로 517 아셈타워 10층 1002호', '서울 강남구 테헤란로 437 삼영빌딩 6층 1호', '서울 강남구 논현로10길 16 지하 스튜디오', '서울 강남구 테헤란로 322 한신인터밸리24빌딩 서관 1706호', '서울 강남구 테헤란로79길 6 브이416호', '서울 강남구 영동대로106길 11 B101', '서울 강남구 선릉로 221', '서울 강남구 영동대로 517', '서울 강남구 강남대로 476 urbanhive 14층', '서울 강남구 논현로36길 20 동운빌딩 1층', '서울 강남구 자곡로 180', '서울 강남구 도산대로54길 10 325빌딩 3층', '서울 강남구 도산대로37길 26 2층', '서울 강남구 테헤란로33길 5', '서울 강남구 테헤란로 620 미래에셋타워 10F', '서울 강남구 강남대로112길 47 2층', '서울 강남구 언주로 703 5층 더대시', '서울 강남구 일원로 35 4층(남경빌딩)', '서울 강남구 언주로148길 6 우미빌딩 3층 302호', '서울 강남구 개포로25길 9-6', '서울 강남구 테헤란로 322 한신인터밸리24빌딩', '서울 강남구 테헤란로20길 5 6층', '서울 강남구 봉은사로 302 2층', '서울 강남구 역삼로 180 3층', '서울 강남구 선릉로112길 46', '서울 강남구 논현로26길 21', '서울 강남구 도산대로 506 재정빌딩 504호', '서울 강남구 역삼로 168 401호', '서울 강남구 봉은사로86길 6 빌딩 레베쌍트', '서울 강남구 강남대로 320 황화빌딩 1312호', '서울 강남구 테헤란로 216 신웅타워 12층', '서울 강남구 테헤란로 222 도원빌딩 3층', '서울 강남구 테헤란로79길 6 4층413호', '서울 강남구 테헤란로20길 9 동궁빌딩', '서울 강남구 논현로149길 50', '서울 강남구 선릉로 577 포스타워 6층', '서울 강남구 선릉로91길 14 선릉빌딩 203호', '서울 강남구 삼성로 349 4층', '서울 강남구 논현로72길 16 초원빌딩']\n",
      "전화번호: ['070-8796-0393', '02-393-2600', '02-580-0580', '02-2015-9114', nan, '02-1544-5874', '0507-1356-4723', '0507-1402-4633', '1577-2666', '02-2139-9611', '02-6284-0195', '052-4247-5877', '02-1644-5369', '02-6216-3600', '02-786-3304', '02-539-8700', '0507-1450-5589', '02-565-7034', '0507-1350-7613', '0507-1441-1873', '1577-7791', '0507-1429-8256', '02-2632-1306', '0507-1379-1077', '02-562-0701', '1588-2523', '010-3249-5334', '1644-7931', '070-5038-2648', '02-513-5400', '02-1670-7670', '02-566-5688', '02-786-1177', '02-575-2054', '02-1544-1171', '0507-1382-7338', '02-3443-0410', '070-8255-8000', '02-6001-3363', '0507-1443-0199', '02-3462-4100', '010-3223-9529', '070-7893-3335', '0507-1348-5174', '02-6925-6189', '02-538-5567', '0507-1304-0859', '070-5014-5999', '0507-1390-5569', '070-8828-2800', '02-3442-0599', '0507-1401-1167', '02-508-1225', '0507-1321-2312', '070-4327-9792', '02-3446-5935', '02-558-3519', '070-4401-2011', '070-8848-8711', '02-508-3636', '070-4119-6601', '02-555-0816', '02-2132-0726', '0507-1333-1762', '010-2070-0545', '02-512-8032', '070-8864-9595', '02-563-8008', '0507-1383-3088', '02-6243-8264']\n",
      "URL: ['http://www.pdic.co.kr', 'http://www.engineers.or.kr/', 'http://www.kait.or.kr/', 'http://www.ktoa.or.kr/', nan, 'http://humanworks.com/', 'https://meta-all.co.kr', nan, 'http://www.bica.or.kr/', 'https://www.instagram.com/maven_cloud_service/', 'http://intellicon.co.kr/', nan, 'http://banco.id', nan, 'https://blog.naver.com/checkpointkorea', 'http://www.k-meta.or.kr', 'https://blog.naver.com/tastorykorea', 'http://www.unnet.co.kr/', 'https://www.soundvault.co.kr', 'https://play.google.com/store/apps/details?id=kr.co.plutos.PlutospartnersAPP', 'http://gonggoinfo.com/', 'https://cafe.naver.com/zerotacar', 'http://hoztec.com', 'https://http//rocknroaming.com/', 'https://www.quebon.tv/', nan, 'https://blog.naver.com/litlcs', nan, 'http://www.acoentertainment.co.kr/', nan, 'https://blog.naver.com/wind9820', 'https://ko.flukenetworks.com', 'http://kodhia.or.kr/', nan, 'http://ch-group.co.kr/', 'http://www.infoindata.co.kr', 'https://alignup.io', 'http://www.bizlg070.com/', 'http://www.nutanix.kr/', 'http://www.things9.com', nan, 'http://www.woomool.kr', 'https://smartstore.naver.com/daxdao', 'http://www.cloud4c.com/kr/ko', nan, 'https://www.microstrategy.com/ko', 'http://www.awarelab.io', nan, 'https://www.true-aid.com/', 'https://www.thundering.kr', 'http://ektec.or.kr/', 'http://www.imrc.or.kr/', 'https://loplat.com', 'http://ygbs.co.kr', 'http://market07.com', 'http://www.koics.or.kr/', 'http://www.schmosslab.com', 'http://www.light-up.co/', nan, 'http://www.fidoforum.org/', 'http://www.kicon.org/', 'http://cafe.naver.com/kisca15', 'http://internnet.hanium.or.kr/', 'https://weconec.co.kr/', 'http://www.uzen.net', 'http://www.atdsolution.co.kr/', 'http://www.forgetmekorea.com/', 'http://www.dadreamins.com/', 'http://platom.co.kr', 'http://mightsoft.co.kr/']\n"
     ]
    }
   ],
   "source": [
    "from selenium import webdriver\n",
    "from selenium.webdriver.common.by import By\n",
    "from selenium.webdriver import ActionChains\n",
    "from selenium.webdriver.support import expected_conditions as EC\n",
    "from selenium.webdriver.support.ui import WebDriverWait\n",
    "from bs4 import BeautifulSoup\n",
    "import time\n",
    "\n",
    "# 크롬 드라이버 초기화\n",
    "driver = webdriver.Chrome()\n",
    "chain = ActionChains(driver)\n",
    "keyword = '서울 강남구 정보통신'\n",
    "\n",
    "# Naver Map 검색 페이지 열기\n",
    "driver.get(f'https://map.naver.com/p/search/{keyword}?c=10.00,0,0,0,dh')\n",
    "\n",
    "# 특정 요소가 존재할 때까지 대기\n",
    "WebDriverWait(driver, 2).until(EC.presence_of_element_located((By.XPATH, '//*[@id=\"searchIframe\"]')))\n",
    "\n",
    "# 검색 결과가 포함된 iframe으로 전환\n",
    "driver.switch_to.frame('searchIframe')\n",
    "\n",
    "# 검색 결과 요소를 찾는 함수 정의\n",
    "def get_li():\n",
    "    li = driver.find_elements(\n",
    "        By.XPATH,\n",
    "        '//*[@id=\"_pcmap_list_scroll_container\"]/ul/li/div[1]/div/a[1]/div/div/span[1]'\n",
    "    )\n",
    "    return li\n",
    "\n",
    "# 페이지 네비게이션 버튼을 찾는 함수 정의\n",
    "def get_next_page_button():\n",
    "    try:\n",
    "        button = driver.find_element(By.XPATH, '//*[@id=\"_pcmap_list_scroll_container\"]/div[2]/a[contains(@class, \"next\")]')\n",
    "        return button\n",
    "    except:\n",
    "        return None\n",
    "\n",
    "# 저장할 리스트 초기화\n",
    "addr = []\n",
    "tel = []\n",
    "urls = []\n",
    "category = []\n",
    "\n",
    "# 페이지 네비게이션을 포함한 검색 결과 추출\n",
    "while True:\n",
    "    # 초기 검색 결과 요소 가져오기\n",
    "    li = get_li()\n",
    "    li_last = ''  # 임의의 초기 값 설정\n",
    "\n",
    "    # li 마지막 값이 변동이 있으면 계속 반복\n",
    "    while li_last != li[-1]:\n",
    "        li_last = li[-1]  # li 마지막 값 업데이트\n",
    "        chain.scroll_to_element(li[-1]).perform()  # 마지막 요소로 스크롤\n",
    "        time.sleep(1)  # 스크롤 후 요소가 로드될 시간을 기다림\n",
    "        li = get_li()  # li 업데이트\n",
    "\n",
    "    # 각 li 요소에 대해 반복\n",
    "    for button in li:\n",
    "        button.click()  # 검색 결과 항목 클릭\n",
    "\n",
    "        # 기본 콘텐츠로 전환\n",
    "        driver.switch_to.default_content()\n",
    "        time.sleep(0.5)  # 짧은 대기 시간\n",
    "\n",
    "        # entryIframe이 나타날 때까지 대기\n",
    "        WebDriverWait(driver, 2).until(EC.presence_of_all_elements_located((By.XPATH, '//*[@id=\"entryIframe\"]')))\n",
    "        driver.switch_to.frame('entryIframe')  # entryIframe으로 전환\n",
    "\n",
    "        # 페이지 소스를 BeautifulSoup으로 파싱\n",
    "        soup = BeautifulSoup(driver.page_source, 'html.parser')\n",
    "\n",
    "        # 카테고리 추출\n",
    "        try:\n",
    "            c = soup.select_one('span.lnJFt').text\n",
    "            category.append(c)\n",
    "        except:\n",
    "            category.append(float('nan'))\n",
    "\n",
    "        # 주소 추출\n",
    "        try:            \n",
    "            a = soup.select_one('span.LDgIH').text\n",
    "            addr.append(a)\n",
    "        except:\n",
    "            addr.append(float('nan'))\n",
    "\n",
    "        # 전화번호 추출\n",
    "        try:\n",
    "            t = soup.select_one('span.xlx7Q').text\n",
    "            tel.append(t)\n",
    "        except:\n",
    "            tel.append(float('nan'))\n",
    "\n",
    "        # URL 추출\n",
    "        try:\n",
    "            u = soup.select_one('a.place_bluelink.CHmqa')['href']\n",
    "            urls.append(u)\n",
    "        except:\n",
    "            urls.append(float('nan'))\n",
    "\n",
    "        # 기본 콘텐츠로 전환하고 다시 searchIframe으로 전환\n",
    "        driver.switch_to.default_content()\n",
    "        time.sleep(0.5)\n",
    "        WebDriverWait(driver, 2).until(EC.presence_of_element_located((By.XPATH, f'//*[@id=\"searchIframe\"]')))\n",
    "        driver.switch_to.frame('searchIframe')\n",
    "\n",
    "    # 다음 페이지 버튼 클릭\n",
    "    next_page_button = get_next_page_button()\n",
    "    if next_page_button:\n",
    "        next_page_button.click()\n",
    "        time.sleep(2)  # 페이지가 로드될 시간을 기다림\n",
    "    else:\n",
    "        break  # 다음 페이지 버튼이 없으면 루프 종료\n",
    "        \n",
    "    #page_button = f\n",
    "\n",
    "# 수집한 데이터 출력\n",
    "print(\"카테고리:\", category)\n",
    "print(\"주소:\", addr)\n",
    "print(\"전화번호:\", tel)\n",
    "print(\"URL:\", urls)\n",
    "\n",
    "# 드라이버 종료\n",
    "#driver.quit()"
   ]
  },
  {
   "cell_type": "code",
   "execution_count": 2,
   "id": "a13d3f0e",
   "metadata": {},
   "outputs": [
    {
     "name": "stdout",
     "output_type": "stream",
     "text": [
      "카테고리: ['정보통신,IT', '정보통신,IT', '한국정보통신진흥협회', '정보통신,IT', '정보통신,IT', '정보통신,IT', '정보통신,IT', '정보통신,IT', '한국정보통신진흥협회', '정보통신,IT', '정보통신,IT', '정보통신,IT', '정보통신,IT', '정보통신,IT', '정보통신,IT', '정보통신,IT', '정보통신,IT', '정보통신,IT', '정보통신,IT', '정보통신,IT', '정보통신,IT', '정보통신,IT', '정보통신,IT', '정보통신,IT', '정보통신,IT', '정보통신,IT', '정보통신,IT', '정보통신,IT', '정보통신,IT', '정보통신,IT', '정보통신,IT', '정보통신,IT', '정보통신,IT', '정보통신,IT', '정보통신,IT', '정보통신,IT', '정보통신,IT', '정보통신,IT', '정보통신,IT', '정보통신,IT', '정보통신,IT', '정보통신,IT', '정보통신,IT', '정보통신,IT', '정보통신,IT', '정보통신,IT', '정보통신,IT', '정보통신,IT', '정보통신,IT', '정보통신,IT', '정보통신,IT', '정보통신,IT', '정보통신,IT', '정보통신,IT', '정보통신,IT', '정보통신,IT', '정보통신,IT', '정보통신,IT', '정보통신,IT', '정보통신,IT', '정보통신,IT', '정보통신,IT', '정보통신,IT', '정보통신,IT', '정보통신,IT', '정보통신,IT', '정보통신,IT', '정보통신,IT', '정보통신,IT', '정보통신,IT', '정보통신,IT', '정보통신,IT', '한국정보통신진흥협회', '정보통신,IT', '정보통신,IT', '정보통신,IT', '정보통신,IT', '정보통신,IT', '한국정보통신진흥협회', '정보통신,IT', '정보통신,IT', '정보통신,IT', '정보통신,IT', '정보통신,IT', '정보통신,IT', '정보통신,IT', '정보통신,IT', '정보통신,IT', '정보통신,IT', '정보통신,IT', '정보통신,IT', '정보통신,IT', '정보통신,IT', '정보통신,IT', '정보통신,IT', '정보통신,IT', '정보통신,IT', '정보통신,IT', '정보통신,IT', '정보통신,IT', '정보통신,IT', '정보통신,IT', '정보통신,IT', '정보통신,IT', '정보통신,IT', '정보통신,IT', '정보통신,IT', '정보통신,IT', '정보통신,IT', '정보통신,IT', '정보통신,IT', '정보통신,IT', '정보통신,IT', '정보통신,IT', '정보통신,IT', '정보통신,IT', '정보통신,IT', '정보통신,IT', '정보통신,IT', '정보통신,IT', '정보통신,IT', '정보통신,IT', '정보통신,IT', '정보통신,IT', '정보통신,IT', '정보통신,IT', '정보통신,IT', '정보통신,IT', '정보통신,IT', '정보통신,IT', '정보통신,IT', '정보통신,IT', '정보통신,IT', '정보통신,IT', '정보통신,IT', '정보통신,IT', '정보통신,IT', '정보통신,IT', '정보통신,IT', '정보통신,IT', '정보통신,IT', '정보통신,IT', '정보통신,IT', '정보통신,IT', '정보통신,IT', '정보통신,IT', '정보통신,IT', '정보통신,IT', '정보통신,IT', '정보통신,IT', '정보통신,IT', '정보통신,IT', '과학기술정보통신부', '과학기술정보통신부', '과학기술정보통신부', '과학기술정보통신부', '한국정보통신진흥협회', '통신공학엔지니어링서비스', '소프트웨어개발', 'IT서비스', '시스템,네트워크', '시스템,네트워크', 'IT서비스', '시스템,네트워크', '솔루션개발', '기업', '인터넷홈페이지제작', '소프트웨어개발', '소프트웨어개발', '통신', 'IT서비스', '소프트웨어개발', '소프트웨어개발', '통신', '통신', '통신,방송장비제조', '통신', '통신', '통신,방송장비제조', '통신,방송장비제조', '통신,방송장비제조', '통신,방송장비제조', '통신,방송장비제조', '통신', '통신공사', '통신,방송장비제조', '통신,방송장비제조', '통신,방송장비제조', '유선통신장비제조', '통신', '통신,방송장비제조', '통신', '통신', '통신', '통신,방송장비제조', '통신', '통신', '컴퓨터프로그래밍,정보서비스업', '소프트웨어개발', '시스템,네트워크', '시스템,네트워크', '인터넷상거래', '인터넷상거래', '통신', '통신,방송장비제조', '통신,방송장비제조', '통신,방송장비제조', '통신,방송장비제조', '통신,방송장비제조', '통신', '통신', '통신,방송장비제조', '수리,AS', 'KT', '소프트웨어개발', '인터넷상거래', '건설업', '솔루션개발', '휴대폰', '소프트웨어개발', '물류,유통', '소프트웨어개발', '시스템,네트워크', '카드단말기', '컴퓨터수리', '협회,단체', '학회', '시험,자격증', '시스템,네트워크', '시스템,네트워크', '카드단말기', '솔루션개발', '기업', '컴퓨터수리', 'IT서비스', '소프트웨어개발', '지불,결제대행', '컴퓨터,모니터', '시스템,네트워크', '컴퓨터시스템통합자문,구축', '펄프,종이제조', '카드단말기', '기업,빌딩', '컴퓨터수리', '컴퓨터,모니터', '전자부품제조', '설계,엔지니어링', '카드단말기', '카드단말기', '정보,컨텐츠제작', '교육원,교육센터', '컴퓨터제조', '카드단말기', '애플리케이션개발', '기업', '정보,컨텐츠제작', 'IT서비스', 'IT서비스', '카드단말기', '카드단말기', '기업', '휴대폰', '기업', '기업', '기업', '전자,가전', '카드단말기', '기업', '통신', '소프트웨어개발', '협회,단체', 'KT', '전시관', '평생,사회교육원', '휴대폰', '무역', '경영컨설팅', '광고대행', '영상,오디오,방송', '정보통신,IT']\n",
      "주소: ['서울 강남구 봉은사로114길 46 건호빌딩 3층', '서울 강남구 테헤란로69길 14 702호', '서울 강남구 역삼로 111', '서울 강남구 봉은사로 435', '서울 강남구 개포로 416 개포디지털혁신파크', '서울 강남구 논현로 418 휴먼빌딩', '서울 강남구 영동대로106길 41 3층(삼성동,동영빌딩)', '서울 강남구 강남대로92길 31 . 6층 6038호', '서울 강남구 역삼로 111 한국정보통신진흥협회빌딩 5층', '서울 강남구 언주로 609 B동 14층', '서울 강남구 논현로 554 삼성빌딩 5층', '서울 강남구 테헤란로78길 16 4층 에이블 게임즈', '서울 강남구 언주로94길 15', '서울 강남구 테헤란로28길 42 지하1층 (역삼동, 씨엘빌딩)', '서울 강남구 영동대로 511 1906호', '서울 강남구 압구정로36길 18 신구빌딩 4층', '서울 강남구 압구정로 204', '서울 강남구 테헤란로20길 12 양지빌딩 2층', '서울 강남구 학동로6길 30 5F Sound Vault', '서울 강남구 봉은사로26길 12 3층', '서울 강남구 테헤란로52길 21', '서울 강남구 논현로98길 26-4 단암빌딩 2층', '서울 강남구 테헤란로33길 18 서울철강빌딩 624호', '서울 강남구 논현로26길 23 3층', '서울 강남구 선릉로108길 51', '서울 강남구 테헤란로82길 15 디아이타워 5층', '서울 강남구 자곡로 174-10 강남에이스타워 825호', '서울 강남구 학동로31길 12 5층', '서울 강남구 테헤란로 447 KB우준타워 13층', '서울 강남구 테헤란로44길 8 7층', '서울 강남구 논현로71길 20', '서울 강남구 영동대로 517 아셈타워 10층 1002호', '서울 강남구 테헤란로 437 삼영빌딩 6층 1호', '서울 강남구 논현로10길 16 지하 스튜디오', '서울 강남구 테헤란로 322 한신인터밸리24빌딩 서관 1706호', '서울 강남구 테헤란로79길 6 브이416호', '서울 강남구 영동대로106길 11 B101', '서울 강남구 선릉로 221', '서울 강남구 영동대로 517', '서울 강남구 강남대로 476 urbanhive 14층', '서울 강남구 논현로36길 20 동운빌딩 1층', '서울 강남구 자곡로 180', '서울 강남구 도산대로54길 10 325빌딩 3층', '서울 강남구 도산대로37길 26 2층', '서울 강남구 테헤란로33길 5', '서울 강남구 테헤란로 620 미래에셋타워 10F', '서울 강남구 강남대로112길 47 2층', '서울 강남구 언주로 703 5층 더대시', '서울 강남구 일원로 35 4층(남경빌딩)', '서울 강남구 언주로148길 6 우미빌딩 3층 302호', '서울 강남구 개포로25길 9-6', '서울 강남구 테헤란로 322 한신인터밸리24빌딩', '서울 강남구 테헤란로20길 5 6층', '서울 강남구 봉은사로 302 2층', '서울 강남구 역삼로 180 3층', '서울 강남구 선릉로112길 46', '서울 강남구 논현로26길 21', '서울 강남구 도산대로 506 재정빌딩 504호', '서울 강남구 역삼로 168 401호', '서울 강남구 봉은사로86길 6 빌딩 레베쌍트', '서울 강남구 강남대로 320 황화빌딩 1312호', '서울 강남구 테헤란로 216 신웅타워 12층', '서울 강남구 테헤란로 222 도원빌딩 3층', '서울 강남구 테헤란로79길 6 4층413호', '서울 강남구 테헤란로20길 9 동궁빌딩', '서울 강남구 논현로149길 50', '서울 강남구 선릉로 577 포스타워 6층', '서울 강남구 선릉로91길 14 선릉빌딩 203호', '서울 강남구 삼성로 349 4층', '서울 강남구 논현로72길 16 초원빌딩', '서울 강남구 봉은사로114길 46 건호빌딩 3층', '서울 강남구 테헤란로69길 14 702호', '서울 강남구 역삼로 111', '서울 강남구 봉은사로 435', '서울 강남구 개포로 416 개포디지털혁신파크', '서울 강남구 논현로 418 휴먼빌딩', '서울 강남구 영동대로106길 41 3층(삼성동,동영빌딩)', '서울 강남구 강남대로92길 31 . 6층 6038호', '서울 강남구 역삼로 111 한국정보통신진흥협회빌딩 5층', '서울 강남구 언주로 609 B동 14층', '서울 강남구 논현로 554 삼성빌딩 5층', '서울 강남구 테헤란로78길 16 4층 에이블 게임즈', '서울 강남구 언주로94길 15', '서울 강남구 테헤란로28길 42 지하1층 (역삼동, 씨엘빌딩)', '서울 강남구 영동대로 511 1906호', '서울 강남구 압구정로36길 18 신구빌딩 4층', '서울 강남구 압구정로 204', '서울 강남구 테헤란로20길 12 양지빌딩 2층', '서울 강남구 학동로6길 30 5F Sound Vault', '서울 강남구 봉은사로26길 12 3층', '서울 강남구 테헤란로52길 21', '서울 강남구 논현로98길 26-4 단암빌딩 2층', '서울 강남구 테헤란로33길 18 서울철강빌딩 624호', '서울 강남구 논현로26길 23 3층', '서울 강남구 선릉로108길 51', '서울 강남구 테헤란로82길 15 디아이타워 5층', '서울 강남구 자곡로 174-10 강남에이스타워 825호', '서울 강남구 학동로31길 12 5층', '서울 강남구 테헤란로 447 KB우준타워 13층', '서울 강남구 테헤란로44길 8 7층', '서울 강남구 논현로71길 20', '서울 강남구 영동대로 517 아셈타워 10층 1002호', '서울 강남구 테헤란로 437 삼영빌딩 6층 1호', '서울 강남구 논현로10길 16 지하 스튜디오', '서울 강남구 테헤란로 322 한신인터밸리24빌딩 서관 1706호', '서울 강남구 테헤란로79길 6 브이416호', '서울 강남구 영동대로106길 11 B101', '서울 강남구 선릉로 221', '서울 강남구 영동대로 517', '서울 강남구 강남대로 476 urbanhive 14층', '서울 강남구 논현로36길 20 동운빌딩 1층', '서울 강남구 자곡로 180', '서울 강남구 도산대로54길 10 325빌딩 3층', '서울 강남구 도산대로37길 26 2층', '서울 강남구 테헤란로33길 5', '서울 강남구 테헤란로 620 미래에셋타워 10F', '서울 강남구 강남대로112길 47 2층', '서울 강남구 언주로 703 5층 더대시', '서울 강남구 일원로 35 4층(남경빌딩)', '서울 강남구 언주로148길 6 우미빌딩 3층 302호', '서울 강남구 개포로25길 9-6', '서울 강남구 테헤란로 322 한신인터밸리24빌딩', '서울 강남구 테헤란로20길 5 6층', '서울 강남구 봉은사로 302 2층', '서울 강남구 역삼로 180 3층', '서울 강남구 선릉로112길 46', '서울 강남구 논현로26길 21', '서울 강남구 도산대로 506 재정빌딩 504호', '서울 강남구 역삼로 168 401호', '서울 강남구 봉은사로86길 6 빌딩 레베쌍트', '서울 강남구 강남대로 320 황화빌딩 1312호', '서울 강남구 테헤란로 216 신웅타워 12층', '서울 강남구 테헤란로 222 도원빌딩 3층', '서울 강남구 테헤란로79길 6 4층413호', '서울 강남구 테헤란로20길 9 동궁빌딩', '서울 강남구 논현로149길 50', '서울 강남구 선릉로 577 포스타워 6층', '서울 강남구 선릉로91길 14 선릉빌딩 203호', '서울 강남구 삼성로 349 4층', '서울 강남구 논현로72길 16 초원빌딩', '서울 강남구 압구정로75길 19', '서울 강남구 선릉로86길 38 7308호', '서울 강남구 언주로75길 20 207호', '서울 강남구 봉은사로 117 이건빌딩 3층', '서울 강남구 테헤란로86길 12 2F', '서울 강남구 선릉로93길 27', '서울 강남구 봉은사로 476 한일빌딩 203호', '서울 강남구 논현로71길 20 현덕빌딩 4층', '서울 강남구 역삼로 247 3층', '서울 강남구 선릉로127길 6', '서울 강남구 남부순환로355길 13 서원빌딩 401호', '서울 강남구 학동로18길 13 B1층 청석빌딩', '서울 강남구 테헤란로7길 22 과학기술회관', '서울 강남구 논현로 430 아세아타워', '서울 강남구 테헤란로7길 22 한국과학기술회관 2관 6층', '서울 강남구 테헤란로 305 한국기술센터', '서울 강남구 역삼동', '서울 강남구 영동대로 602 미켈란 107 2F', '서울 강남구 논현로 6 혜정빌딩 6층', '서울 강남구 영동대로 511 트레이드타워 4F', '서울 강남구 테헤란로 145 우신빌딩 16층 1640호', '서울 강남구 영동대로 741 은성빌딩 9층', '서울 강남구 영동대로 602 , 6층', '서울 강남구 삼성로91길 28 케이엘타워 6, 7, 8층', '서울 강남구 삼성로82길 9 대하빌딩', '서울 강남구 강남대로 262 캠코양재타워 18층', '서울 강남구 역삼로 234 뉴튼플라자', '서울 강남구 논현로131길 20', '서울 강남구 논현로 26 퍼시픽빌딩 202호', '서울 강남구 논현로153길 24', '서울 강남구 봉은사로 502 삼하빌딩 704호', '서울 강남구 언주로 726', '서울 강남구 선릉로 524', '서울 강남구 역삼로 114', '서울 강남구 논현로34길 16', '서울 강남구 봉은사로30길 48', '서울 강남구 논현로 842 압구정 빌딩 9층', '서울 강남구 도산대로13길 15', '서울 강남구 삼성로75길 41', '서울 강남구 영동대로 638', '서울 강남구 수서동 산1', '서울 강남구 강남대로 310 유니온오피스텔', '서울 강남구 선릉로118길 9', '서울 강남구 학동로101길 33 102호', '서울 강남구 테헤란로 116 동경빌딩10층 L1066호', '서울 강남구 선릉로93길 18 신성프라자 4, 5층', '서울 강남구 논현로76길 14 대진빌딩 1층', '서울 강남구 삼성로75길 41', '서울 강남구 삼성로99길 24 정해빌딩', '서울 강남구 봉은사로24길 9', '서울 강남구 역삼로67길 11', '서울 강남구 역삼로69길 27', '서울 강남구 학동로38길 45', '서울 강남구 도곡로1길 14 삼일프라자 1206호', '서울 강남구 역삼로4길 16 성우스타우스오피스텔', '서울 강남구 선릉로90길 42', '서울 강남구 논현로38길 34', '서울 강남구 테헤란로 201 아주빌딩 10층', '서울 강남구 봉은사로18길 84 4층', '서울 강남구 논현로12길 17', '서울 강남구 삼성로119길 37-13', '서울 강남구 삼성로9길 6', '서울 강남구 광평로51길 6-5', '서울 강남구 논현로132길 24', '서울 강남구 강남대로126길 63', '서울 강남구 광평로56길 8-13', '서울 강남구 봉은사로69길 11', '서울 강남구 테헤란로19길 27', '서울 강남구 테헤란로38길 45 가동', '서울 강남구 언주로 118', '서울 강남구 광평로56길 8-13 수서타워 1401호', '서울 강남구 선릉로112길 64', '서울 강남구 선릉로132길 5', '서울 강남구 학동로 331 강남빌딩 1층 예당', '서울 강남구 강남대로146길 25', '서울 강남구 논현로151길 41 3층 3006호', '서울 강남구 선릉로89길 7 4층 402호', '서울 강남구 학동로 107 더퍼스트 빌딩 4층', '서울 강남구 개포로 245 건우빌딩 101호 폰카페', '서울 강남구 봉은사로114길 43', '서울 강남구 역삼로 153 케이엘넷 빌딩', '서울 강남구 테헤란로 313 1501호', '서울 강남구 역삼로70길 21', '서울 강남구 논현로71길 12 . 2층', '서울 강남구 개포로 303', '서울 강남구 역삼로 156', '서울 강남구 언주로86길 11', '서울 강남구 역삼로 111', '서울 강남구 개포로25길 9-6 3층 301호', '서울 강남구 도곡로1길 14 삼일프라자오피스텔 1207호', '서울 강남구 테헤란로25길 6-9 석암빌딩', '서울 강남구 강남대로42길 11 3층', '서울 강남구 삼성로86길 6', '서울 강남구 강남대로 320 황화빌딩 1108호', '서울 강남구 언주로121길 11 조이빌딩 2층', '서울 강남구 테헤란로 339 선릉빌딩 14층', '서울 강남구 테헤란로 508 해성2빌딩', '서울 강남구 논현로28길 33 경빈빌딩 4,5층', '서울 강남구 자곡로 174-10 강남에이스타워 1012호', '서울 강남구 도곡로7길 8 디에스빌딩 본관 5층', '서울 강남구 논현로28길 40', '서울 강남구 논현로 98 문화빌딩', '서울 강남구 역삼로 111 한국정보통신진흥협회 빌딩', '서울 강남구 개포로31길 19', '서울 강남구 도곡로1길 14 삼일프라자오피스텔 1122호', '서울 강남구 테헤란로53길 21 2층', '서울 강남구 영동대로 644', '서울 강남구 테헤란로 412 삼성생명대치2빌딩', '서울 강남구 밤고개로1길 10 수서현대벤쳐빌', '서울 강남구 강남대로94길 34 4층 패리에트', '서울 강남구 테헤란로7길 22 과학기술회관', '서울 강남구 광평로47길 28', '서울 강남구 밤고개로34길 4', '서울 강남구 강남대로118길 59 202호', '서울 강남구 언주로93길 29', '서울 강남구 테헤란로 328 106호', '서울 강남구 강남대로136길 11 507호', '서울 강남구 압구정로46길 5-12', '서울 강남구 도곡로 184 신호빌딩', '서울 강남구 논현로113길 36 501호', '서울 강남구 일원동', '서울 강남구 선릉로 524 선릉대림아크로텔', '서울 강남구 선릉로 431', '서울 강남구 테헤란로82길 15', '서울 강남구 테헤란로33길 11', '서울 강남구 삼성로 212-2', '서울 강남구 학동로 158 율암빌딩', '서울 강남구 도곡로 194', '서울 강남구 광평로 280 2033호', '서울 강남구 언주로 725 보전빌딩 7층', '서울 강남구 논현로38길 32-3', '서울 강남구 개포로 238 동우빌딩 1층 104호 kt', '서울 강남구 영동대로 513', '서울 강남구 논현로85길 46 12층 메가존 아이티평생교육원', '서울 강남구 언주로 604 아크로힐스 논현상가 125호 휴대폰아울렛', '서울 강남구 테헤란로77길 17 승광빌딩 5층', '서울 강남구 봉은사로 524 B2층 B249호', '서울 강남구 영동대로 602 6층 D128호', '서울 강남구 언주로149길 9', '서울 서초구 서초대로46길 3 2층 2호 케이포렌식']\n",
      "전화번호: ['070-8796-0393', '02-393-2600', '02-580-0580', '02-2015-9114', nan, '02-1544-5874', '0507-1356-4723', '0507-1402-4633', '1577-2666', '02-2139-9611', '02-6284-0195', '052-4247-5877', '02-1644-5369', '02-6216-3600', '02-786-3304', '02-539-8700', '0507-1450-5589', '02-565-7034', '0507-1350-7613', '0507-1441-1873', '1577-7791', '0507-1429-8256', '02-2632-1306', '0507-1379-1077', '02-562-0701', '1588-2523', '010-3249-5334', '1644-7931', '070-5038-2648', '02-513-5400', '02-1670-7670', '02-566-5688', '02-786-1177', '02-575-2054', '02-1544-1171', '0507-1382-7338', '02-3443-0410', '070-8255-8000', '02-6001-3363', '0507-1443-0199', '02-3462-4100', '010-3223-9529', '070-7893-3335', '0507-1348-5174', '02-6925-6189', '02-538-5567', '0507-1304-0859', '070-5014-5999', '0507-1390-5569', '070-8828-2800', '02-3442-0599', '0507-1401-1167', '02-508-1225', '0507-1321-2312', '070-4327-9792', '02-3446-5935', '02-558-3519', '070-4401-2011', '070-8848-8711', '02-508-3636', '070-4119-6601', '02-555-0816', '02-2132-0726', '0507-1333-1762', '010-2070-0545', '02-512-8032', '070-8864-9595', '02-563-8008', '0507-1383-3088', '02-6243-8264', '070-8796-0393', '02-393-2600', '02-580-0580', '02-2015-9114', nan, '02-1544-5874', '0507-1356-4723', '0507-1402-4633', '1577-2666', '02-2139-9611', '02-6284-0195', '052-4247-5877', '02-1644-5369', '02-6216-3600', '02-786-3304', '02-539-8700', '0507-1450-5589', '02-565-7034', '0507-1350-7613', '0507-1441-1873', '1577-7791', '0507-1429-8256', '02-2632-1306', '0507-1379-1077', '02-562-0701', '1588-2523', '010-3249-5334', '1644-7931', '070-5038-2648', '02-513-5400', '02-1670-7670', '02-566-5688', '02-786-1177', '02-575-2054', '02-1544-1171', '0507-1382-7338', '02-3443-0410', '070-8255-8000', '02-6001-3363', '0507-1443-0199', '02-3462-4100', '010-3223-9529', '070-7893-3335', '0507-1348-5174', '02-6925-6189', '02-538-5567', '0507-1304-0859', '070-5014-5999', '0507-1390-5569', '070-8828-2800', '02-3442-0599', '0507-1401-1167', '02-508-1225', '0507-1321-2312', '070-4327-9792', '02-3446-5935', '02-558-3519', '070-4401-2011', '070-8848-8711', '02-508-3636', '070-4119-6601', '02-555-0816', '02-2132-0726', '0507-1333-1762', '010-2070-0545', '02-512-8032', '070-8864-9595', '02-563-8008', '0507-1383-3088', '02-6243-8264', '010-2456-3181', '1644-7192', '02-0114-0114', '070-7863-4932', '070-8892-1755', '02-6953-0330', '02-555-4605', '02-465-2085', '02-6428-0103', '02-3666-0000', '070-8766-0929', '02-6435-9000', nan, '1577-0789', '02-6411-1000', '02-6009-3981', '02-580-0574', '0507-1412-9118', '0507-1427-7896', '02-6000-2098', '02-558-8875', '02-517-5174', nan, '02-2057-2077', '02-508-5740', '02-3459-0500', '070-7438-3344', '02-3460-8065', '031-609-4521', '02-549-5460', '02-558-5775', '02-3218-0781', '02-556-2442', nan, '02-3461-6200', '02-508-0234', '02-3445-5432', '0507-1328-9116', '02-557-7471', '02-581-7241', '02-445-8090', '02-552-1111', '02-547-0600', '0507-1318-3606', '1800-9423', '02-3468-6716', '02-554-0126', '02-511-2236', '02-562-5656', '02-501-2525', '02-555-4200', nan, '010-6390-2111', '02-525-4567', '02-564-4200', nan, nan, '0507-1333-6139', '02-3444-9773', '02-575-5377', '070-4592-8399', '070-7019-1111', '02-3412-1112', '02-545-8400', '070-7163-0000', '02-3413-2009', '02-543-1800', '02-563-0009', '02-555-4609', '02-539-5611', '02-3411-0031', '0505-686-1500', '02-541-7119', '0507-1386-4019', '0507-1324-8239', '0507-1377-3190', '0507-1433-2503', '02-581-1171', '0507-1486-8254', '050-5919-1369', '02-538-0236', '1800-7595', '010-9656-4575', '0507-1424-2289', '02-599-4119', '02-3471-4093', '02-909-0566', '1899-0628', '0507-1372-9781', '02-565-0982', '1833-7167', '02-564-5434', '02-508-0211', '02-597-3566', '0507-1333-6529', '02-3288-3100', '1566-5767', '02-552-2553', '0507-1395-5018', '02-508-6570', '02-3460-8081', '070-8071-1449', nan, '02-1566-8870', '02-565-4695', '02-539-9300', '02-3444-3288', '070-8046-5139', '070-8071-7921', '070-4680-0954', nan, '02-3412-6564', '070-8042-7773', '070-8221-4254', nan, '0507-1332-3047', '0507-1306-7017', '02-511-6770', '070-8046-0648', '0507-1389-9980', nan, '070-4148-5625', nan, nan, nan, nan, '070-8071-3326', nan, '02-574-0000', '02-3474-2225', '02-3453-5555', '0507-1435-1906', nan, '1811-9680', '02-489-3288', '02-3452-7001', '010-5085-4151', '0507-1325-6943', '02-3448-1701', '02-1661-0207']\n",
      "URL: ['http://www.pdic.co.kr', 'http://www.engineers.or.kr/', 'http://www.kait.or.kr/', 'http://www.ktoa.or.kr/', nan, 'http://humanworks.com/', 'https://meta-all.co.kr', nan, 'http://www.bica.or.kr/', 'https://www.instagram.com/maven_cloud_service/', 'http://intellicon.co.kr/', nan, 'http://banco.id', nan, 'https://blog.naver.com/checkpointkorea', 'http://www.k-meta.or.kr', 'https://blog.naver.com/tastorykorea', 'http://www.unnet.co.kr/', 'https://www.soundvault.co.kr', 'https://play.google.com/store/apps/details?id=kr.co.plutos.PlutospartnersAPP', 'http://gonggoinfo.com/', 'https://cafe.naver.com/zerotacar', 'http://hoztec.com', 'https://http//rocknroaming.com/', 'https://www.quebon.tv/', nan, 'https://blog.naver.com/litlcs', nan, 'http://www.acoentertainment.co.kr/', nan, 'https://blog.naver.com/wind9820', 'https://ko.flukenetworks.com', 'http://kodhia.or.kr/', nan, 'http://ch-group.co.kr/', 'http://www.infoindata.co.kr', 'https://alignup.io', 'http://www.bizlg070.com/', 'http://www.nutanix.kr/', 'http://www.things9.com', nan, 'http://www.woomool.kr', 'https://smartstore.naver.com/daxdao', 'http://www.cloud4c.com/kr/ko', nan, 'https://www.microstrategy.com/ko', 'http://www.awarelab.io', nan, 'https://www.true-aid.com/', 'https://www.thundering.kr', 'http://ektec.or.kr/', 'http://www.imrc.or.kr/', 'https://loplat.com', 'http://ygbs.co.kr', 'http://market07.com', 'http://www.koics.or.kr/', 'http://www.schmosslab.com', 'http://www.light-up.co/', nan, 'http://www.fidoforum.org/', 'http://www.kicon.org/', 'http://cafe.naver.com/kisca15', 'http://internnet.hanium.or.kr/', 'https://weconec.co.kr/', 'http://www.uzen.net', 'http://www.atdsolution.co.kr/', 'http://www.forgetmekorea.com/', 'http://www.dadreamins.com/', 'http://platom.co.kr', 'http://mightsoft.co.kr/', 'http://www.pdic.co.kr', 'http://www.engineers.or.kr/', 'http://www.kait.or.kr/', 'http://www.ktoa.or.kr/', nan, 'http://humanworks.com/', 'https://meta-all.co.kr', nan, 'http://www.bica.or.kr/', 'https://www.instagram.com/maven_cloud_service/', 'http://intellicon.co.kr/', nan, 'http://banco.id', nan, 'https://blog.naver.com/checkpointkorea', 'http://www.k-meta.or.kr', 'https://blog.naver.com/tastorykorea', 'http://www.unnet.co.kr/', 'https://www.soundvault.co.kr', 'https://play.google.com/store/apps/details?id=kr.co.plutos.PlutospartnersAPP', 'http://gonggoinfo.com/', 'https://cafe.naver.com/zerotacar', 'http://hoztec.com', 'https://http//rocknroaming.com/', 'https://www.quebon.tv/', nan, 'https://blog.naver.com/litlcs', nan, 'http://www.acoentertainment.co.kr/', nan, 'https://blog.naver.com/wind9820', 'https://ko.flukenetworks.com', 'http://kodhia.or.kr/', nan, 'http://ch-group.co.kr/', 'http://www.infoindata.co.kr', 'https://alignup.io', 'http://www.bizlg070.com/', 'http://www.nutanix.kr/', 'http://www.things9.com', nan, 'http://www.woomool.kr', 'https://smartstore.naver.com/daxdao', 'http://www.cloud4c.com/kr/ko', nan, 'https://www.microstrategy.com/ko', 'http://www.awarelab.io', nan, 'https://www.true-aid.com/', 'https://www.thundering.kr', 'http://ektec.or.kr/', 'http://www.imrc.or.kr/', 'https://loplat.com', 'http://ygbs.co.kr', 'http://market07.com', 'http://www.koics.or.kr/', 'http://www.schmosslab.com', 'http://www.light-up.co/', nan, 'http://www.fidoforum.org/', 'http://www.kicon.org/', 'http://cafe.naver.com/kisca15', 'http://internnet.hanium.or.kr/', 'https://weconec.co.kr/', 'http://www.uzen.net', 'http://www.atdsolution.co.kr/', 'http://www.forgetmekorea.com/', 'http://www.dadreamins.com/', 'http://platom.co.kr', 'http://mightsoft.co.kr/', nan, nan, 'http://xn--114-9j6n70m.com', 'http://www.gaze-lab.com/', 'http://www.e2p.vip', 'http://blaibe.com', 'https://www.biz-cowork.com/', 'http://www.finger-plus.com/', 'http://kitchenable.co.kr', 'http://www.hud-on.com/', 'https://emobility.kr', nan, nan, 'http://www.sema.or.kr/', nan, 'http://www.greencertif.or.kr/', 'http://www.prepaidcall.or.kr/', 'http://www.edutact.co.kr', nan, 'https://www.tradesign.net', nan, 'http://www.leneco.com/', nan, 'http://www.klic.co.kr/', 'http://www.rootinc.co.kr/', 'http://www.kdccorp.co.kr/', nan, nan, nan, 'http://www.hansungkp.co.kr/', 'http://www.sigmainfo.co.kr', nan, nan, nan, nan, 'http://www.unitels.co.kr/', 'https://blog.naver.com/sminfotech', 'https://blog.naver.com/yyhhss0459', nan, nan, nan, 'http://kyit.co.kr/kyinfo/inc_html/', 'http://www.xn--ob0bx78alb73a215dyqe.kr/', nan, 'http://www.xn--on3b1xg5hkugtf025c.com', 'http://handan.co.kr/', nan, nan, nan, nan, nan, nan, nan, nan, nan, nan, nan, nan, 'http://my015.co.kr', nan, nan, 'http://www.wonbio.co.kr/', nan, 'http://www.haewoois.com/', nan, nan, nan, 'http://www.garamkp.co.kr/', nan, nan, 'http://www.smsdidim.com', nan, 'http://support.hp.com/kr-ko/', 'http://blog.kbmyshop.com/ollehKT%EC%98%88%EB%8B%B9%EB%85%BC%ED%98%84%EC%A0%90', 'https://www.echoict.co.kr', nan, 'http://icon070.com/', nan, nan, 'http://www.fingertips.co.kr/', 'http://www.klnet.co.kr/', 'https://play.google.com/store/apps/details?id=com.dncholdings.nodazi', 'https://blog.naver.com/lanpeople', 'https://blog.naver.com/karetanis2022', nan, nan, nan, 'http://exam.ihd.or.kr/', nan, 'http://www.twinsystem.co.kr/', nan, nan, nan, nan, 'http://www.uni-ta.co.kr', 'http://datagrab.co.kr', 'http://www.sinit.co.kr', 'http://www.bsintel.com/', 'http://www.cqnet.kr', 'http://www.itofrom.com', nan, 'http://card8585.modoo.at/', nan, 'http://211.234.100.234/cnit/muse/', nan, 'http://ankook.co.kr/', 'http://www.jcinfo.co.kr/', nan, 'http://card8585.modoo.at/', 'http://pariete.inc', nan, nan, 'http://card8585.modoo.at/', 'https://blog.naver.com/joytune', nan, nan, 'http://twinweb.co.kr', 'http://wellu.co.kr', 'http://card8585.modoo.at/', nan, nan, nan, nan, nan, nan, nan, nan, nan, 'http://www.e-sec.net/', nan, 'https://www.kics.or.kr/', nan, nan, 'http://it.livestudy.com/index', nan, 'http://www.kmggroup.co.kr/', 'http://www.hnventures.co.kr', 'http://www.dreamdrim.com', 'http://dongjaso.com', 'http://kforensic.com']\n"
     ]
    }
   ],
   "source": [
    "from selenium import webdriver\n",
    "from selenium.webdriver.common.by import By\n",
    "from selenium.webdriver import ActionChains\n",
    "from selenium.webdriver.support import expected_conditions as EC\n",
    "from selenium.webdriver.support.ui import WebDriverWait\n",
    "from bs4 import BeautifulSoup\n",
    "import time\n",
    "\n",
    "# 크롬 드라이버 초기화\n",
    "driver = webdriver.Chrome()\n",
    "chain = ActionChains(driver)\n",
    "keyword = '서울 강남구 정보통신'\n",
    "\n",
    "# Naver Map 검색 페이지 열기\n",
    "driver.get(f'https://map.naver.com/p/search/{keyword}?c=10.00,0,0,0,dh')\n",
    "\n",
    "# 특정 요소가 존재할 때까지 대기\n",
    "WebDriverWait(driver, 2).until(EC.presence_of_element_located((By.XPATH, '//*[@id=\"searchIframe\"]')))\n",
    "\n",
    "# 검색 결과가 포함된 iframe으로 전환\n",
    "driver.switch_to.frame('searchIframe')\n",
    "\n",
    "# 검색 결과 요소를 찾는 함수 정의\n",
    "def get_li():\n",
    "    li = driver.find_elements(\n",
    "        By.XPATH,\n",
    "        '//*[@id=\"_pcmap_list_scroll_container\"]/ul/li/div[1]/div/a[1]/div/div/span[1]'\n",
    "    )\n",
    "    return li\n",
    "\n",
    "# 저장할 리스트 초기화\n",
    "addr = []\n",
    "tel = []\n",
    "urls = []\n",
    "category = []\n",
    "\n",
    "# 페이지별 XPATH 값 리스트\n",
    "page_xpath = [\n",
    "    #f'//*[@id=\"app-root\"]/div/div[2]/div[2]/a[2]',\n",
    "    f'//*[@id=\"app-root\"]/div/div[2]/div[2]/a[3]',\n",
    "    f'//*[@id=\"app-root\"]/div/div[2]/div[2]/a[4]',\n",
    "    f'//*[@id=\"app-root\"]/div/div[2]/div[2]/a[5]'\n",
    "]\n",
    "\n",
    "# 페이지 네비게이션을 포함한 검색 결과 추출\n",
    "for page_xpath in page_xpaths:\n",
    "    # 초기 검색 결과 요소 가져오기\n",
    "    li = get_li()\n",
    "    li_last = ''  # 임의의 초기 값 설정\n",
    "\n",
    "    # li 마지막 값이 변동이 있으면 계속 반복\n",
    "    while li_last != li[-1]:\n",
    "        li_last = li[-1]  # li 마지막 값 업데이트\n",
    "        chain.scroll_to_element(li[-1]).perform()  # 마지막 요소로 스크롤\n",
    "        time.sleep(1)  # 스크롤 후 요소가 로드될 시간을 기다림\n",
    "        li = get_li()  # li 업데이트\n",
    "\n",
    "    # 각 li 요소에 대해 반복\n",
    "    for button in li:\n",
    "        button.click()  # 검색 결과 항목 클릭\n",
    "\n",
    "        # 기본 콘텐츠로 전환\n",
    "        driver.switch_to.default_content()\n",
    "        time.sleep(0.5)  # 짧은 대기 시간\n",
    "\n",
    "        # entryIframe이 나타날 때까지 대기\n",
    "        WebDriverWait(driver, 2).until(EC.presence_of_all_elements_located((By.XPATH, '//*[@id=\"entryIframe\"]')))\n",
    "        driver.switch_to.frame('entryIframe')  # entryIframe으로 전환\n",
    "\n",
    "        # 페이지 소스를 BeautifulSoup으로 파싱\n",
    "        soup = BeautifulSoup(driver.page_source, 'html.parser')\n",
    "\n",
    "        # 카테고리 추출\n",
    "        try:\n",
    "            c = soup.select_one('span.lnJFt').text\n",
    "            category.append(c)\n",
    "        except:\n",
    "            category.append(float('nan'))\n",
    "\n",
    "        # 주소 추출\n",
    "        try:            \n",
    "            a = soup.select_one('span.LDgIH').text\n",
    "            addr.append(a)\n",
    "        except:\n",
    "            addr.append(float('nan'))\n",
    "\n",
    "        # 전화번호 추출\n",
    "        try:\n",
    "            t = soup.select_one('span.xlx7Q').text\n",
    "            tel.append(t)\n",
    "        except:\n",
    "            tel.append(float('nan'))\n",
    "\n",
    "        # URL 추출\n",
    "        try:\n",
    "            u = soup.select_one('a.place_bluelink.CHmqa')['href']\n",
    "            urls.append(u)\n",
    "        except:\n",
    "            urls.append(float('nan'))\n",
    "\n",
    "        # 기본 콘텐츠로 전환하고 다시 searchIframe으로 전환\n",
    "        driver.switch_to.default_content()\n",
    "        time.sleep(0.5)\n",
    "        WebDriverWait(driver, 2).until(EC.presence_of_element_located((By.XPATH, f'//*[@id=\"searchIframe\"]')))\n",
    "        driver.switch_to.frame('searchIframe')\n",
    "\n",
    "    # 다음 페이지 버튼 클릭\n",
    "    next_page_button = driver.find_element(By.XPATH, page_xpath)\n",
    "    next_page_button.click()\n",
    "    time.sleep(2)  # 페이지가 로드될 시간을 기다림\n",
    "\n",
    "# 수집한 데이터 출력\n",
    "print(\"카테고리:\", category)\n",
    "print(\"주소:\", addr)\n",
    "print(\"전화번호:\", tel)\n",
    "print(\"URL:\", urls)"
   ]
  },
  {
   "cell_type": "code",
   "execution_count": 3,
   "id": "37943858",
   "metadata": {},
   "outputs": [
    {
     "data": {
      "text/plain": [
       "280"
      ]
     },
     "execution_count": 3,
     "metadata": {},
     "output_type": "execute_result"
    }
   ],
   "source": [
    "len(category)"
   ]
  },
  {
   "cell_type": "code",
   "execution_count": null,
   "id": "a980dbb6",
   "metadata": {},
   "outputs": [],
   "source": []
  }
 ],
 "metadata": {
  "kernelspec": {
   "display_name": "Python 3 (ipykernel)",
   "language": "python",
   "name": "python3"
  },
  "language_info": {
   "codemirror_mode": {
    "name": "ipython",
    "version": 3
   },
   "file_extension": ".py",
   "mimetype": "text/x-python",
   "name": "python",
   "nbconvert_exporter": "python",
   "pygments_lexer": "ipython3",
   "version": "3.11.7"
  }
 },
 "nbformat": 4,
 "nbformat_minor": 5
}
