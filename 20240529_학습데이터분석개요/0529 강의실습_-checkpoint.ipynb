{
 "cells": [
  {
   "cell_type": "markdown",
   "id": "fb1acc0b",
   "metadata": {},
   "source": [
    "## LMS 사용자 로그기록 데이터_20240529"
   ]
  },
  {
   "cell_type": "code",
   "execution_count": 1,
   "id": "61841b44",
   "metadata": {},
   "outputs": [],
   "source": [
    "import pandas as pd"
   ]
  },
  {
   "cell_type": "code",
   "execution_count": 11,
   "id": "54d0734a",
   "metadata": {},
   "outputs": [],
   "source": [
    "df = pd.read_csv(\"../Downloads/logs_20240529-1642.csv\")"
   ]
  },
  {
   "cell_type": "code",
   "execution_count": 12,
   "id": "53e73345",
   "metadata": {},
   "outputs": [
    {
     "data": {
      "text/html": [
       "<div>\n",
       "<style scoped>\n",
       "    .dataframe tbody tr th:only-of-type {\n",
       "        vertical-align: middle;\n",
       "    }\n",
       "\n",
       "    .dataframe tbody tr th {\n",
       "        vertical-align: top;\n",
       "    }\n",
       "\n",
       "    .dataframe thead th {\n",
       "        text-align: right;\n",
       "    }\n",
       "</style>\n",
       "<table border=\"1\" class=\"dataframe\">\n",
       "  <thead>\n",
       "    <tr style=\"text-align: right;\">\n",
       "      <th></th>\n",
       "      <th>시</th>\n",
       "      <th>사용자 성명</th>\n",
       "      <th>영향받는 사용자</th>\n",
       "      <th>이벤트 문맥</th>\n",
       "      <th>구성요소</th>\n",
       "      <th>이벤트 이름</th>\n",
       "      <th>설명</th>\n",
       "      <th>오리진</th>\n",
       "      <th>ip 주소</th>\n",
       "    </tr>\n",
       "  </thead>\n",
       "  <tbody>\n",
       "    <tr>\n",
       "      <th>0</th>\n",
       "      <td>29/05/24, 16:42:54</td>\n",
       "      <td>kim kyeongsoo</td>\n",
       "      <td>-</td>\n",
       "      <td>시스템</td>\n",
       "      <td>로그</td>\n",
       "      <td>로그 보고서 봄</td>\n",
       "      <td>The user with id &amp;#039;2&amp;#039; viewed the log ...</td>\n",
       "      <td>web</td>\n",
       "      <td>0:0:0:0:0:0:0:1</td>\n",
       "    </tr>\n",
       "    <tr>\n",
       "      <th>1</th>\n",
       "      <td>29/05/24, 16:41:59</td>\n",
       "      <td>kim kyeongsoo</td>\n",
       "      <td>-</td>\n",
       "      <td>시스템</td>\n",
       "      <td>로그</td>\n",
       "      <td>로그 보고서 봄</td>\n",
       "      <td>The user with id &amp;#039;2&amp;#039; viewed the log ...</td>\n",
       "      <td>web</td>\n",
       "      <td>0:0:0:0:0:0:0:1</td>\n",
       "    </tr>\n",
       "    <tr>\n",
       "      <th>2</th>\n",
       "      <td>29/05/24, 16:39:54</td>\n",
       "      <td>kim kyeongsoo</td>\n",
       "      <td>-</td>\n",
       "      <td>시스템</td>\n",
       "      <td>현재 기록</td>\n",
       "      <td>라이브 로그 리더 봄</td>\n",
       "      <td>The user with id &amp;#039;2&amp;#039; viewed the live...</td>\n",
       "      <td>web</td>\n",
       "      <td>0:0:0:0:0:0:0:1</td>\n",
       "    </tr>\n",
       "    <tr>\n",
       "      <th>3</th>\n",
       "      <td>29/05/24, 16:39:15</td>\n",
       "      <td>kim kyeongsoo</td>\n",
       "      <td>-</td>\n",
       "      <td>시작 페이지</td>\n",
       "      <td>시스템</td>\n",
       "      <td>강좌 봄</td>\n",
       "      <td>The user with id &amp;#039;2&amp;#039; viewed the cour...</td>\n",
       "      <td>web</td>\n",
       "      <td>0:0:0:0:0:0:0:1</td>\n",
       "    </tr>\n",
       "    <tr>\n",
       "      <th>4</th>\n",
       "      <td>29/05/24, 16:39:11</td>\n",
       "      <td>-</td>\n",
       "      <td>-</td>\n",
       "      <td>시작 페이지</td>\n",
       "      <td>시스템</td>\n",
       "      <td>강좌 봄</td>\n",
       "      <td>The user with id &amp;#039;0&amp;#039; viewed the cour...</td>\n",
       "      <td>web</td>\n",
       "      <td>0:0:0:0:0:0:0:1</td>\n",
       "    </tr>\n",
       "  </tbody>\n",
       "</table>\n",
       "</div>"
      ],
      "text/plain": [
       "                    시         사용자 성명 영향받는 사용자  이벤트 문맥   구성요소       이벤트 이름  \\\n",
       "0  29/05/24, 16:42:54  kim kyeongsoo        -     시스템     로그     로그 보고서 봄   \n",
       "1  29/05/24, 16:41:59  kim kyeongsoo        -     시스템     로그     로그 보고서 봄   \n",
       "2  29/05/24, 16:39:54  kim kyeongsoo        -     시스템  현재 기록  라이브 로그 리더 봄   \n",
       "3  29/05/24, 16:39:15  kim kyeongsoo        -  시작 페이지    시스템         강좌 봄   \n",
       "4  29/05/24, 16:39:11              -        -  시작 페이지    시스템         강좌 봄   \n",
       "\n",
       "                                                  설명  오리진            ip 주소  \n",
       "0  The user with id &#039;2&#039; viewed the log ...  web  0:0:0:0:0:0:0:1  \n",
       "1  The user with id &#039;2&#039; viewed the log ...  web  0:0:0:0:0:0:0:1  \n",
       "2  The user with id &#039;2&#039; viewed the live...  web  0:0:0:0:0:0:0:1  \n",
       "3  The user with id &#039;2&#039; viewed the cour...  web  0:0:0:0:0:0:0:1  \n",
       "4  The user with id &#039;0&#039; viewed the cour...  web  0:0:0:0:0:0:0:1  "
      ]
     },
     "execution_count": 12,
     "metadata": {},
     "output_type": "execute_result"
    }
   ],
   "source": [
    "df.head()"
   ]
  },
  {
   "cell_type": "code",
   "execution_count": 16,
   "id": "9c4f04b8",
   "metadata": {},
   "outputs": [
    {
     "data": {
      "text/plain": [
       "9"
      ]
     },
     "execution_count": 16,
     "metadata": {},
     "output_type": "execute_result"
    }
   ],
   "source": [
    "len(df.columns)"
   ]
  },
  {
   "cell_type": "code",
   "execution_count": 17,
   "id": "2da94723",
   "metadata": {},
   "outputs": [
    {
     "name": "stdout",
     "output_type": "stream",
     "text": [
      "Index(['시', '사용자 성명', '영향받는 사용자', '이벤트 문맥', '구성요소', '이벤트 이름', '설명', '오리진',\n",
      "       'ip 주소'],\n",
      "      dtype='object') 총 9 개의 컬럼\n"
     ]
    }
   ],
   "source": [
    "print(df.columns, \"총\", len(df.columns),\"개의 컬럼\")"
   ]
  },
  {
   "cell_type": "code",
   "execution_count": 19,
   "id": "9bca785d",
   "metadata": {},
   "outputs": [
    {
     "data": {
      "text/plain": [
       "1479"
      ]
     },
     "execution_count": 19,
     "metadata": {},
     "output_type": "execute_result"
    }
   ],
   "source": [
    "len(df)"
   ]
  },
  {
   "cell_type": "code",
   "execution_count": 20,
   "id": "b7f03d01",
   "metadata": {},
   "outputs": [
    {
     "data": {
      "text/plain": [
       "array(['kim kyeongsoo', '-', 'kim jenny', 'Van daik', '손 흥민'],\n",
       "      dtype=object)"
      ]
     },
     "execution_count": 20,
     "metadata": {},
     "output_type": "execute_result"
    }
   ],
   "source": [
    "df['사용자 성명'].unique()"
   ]
  },
  {
   "cell_type": "code",
   "execution_count": 38,
   "id": "fed1cfdf",
   "metadata": {},
   "outputs": [
    {
     "data": {
      "text/html": [
       "<div>\n",
       "<style scoped>\n",
       "    .dataframe tbody tr th:only-of-type {\n",
       "        vertical-align: middle;\n",
       "    }\n",
       "\n",
       "    .dataframe tbody tr th {\n",
       "        vertical-align: top;\n",
       "    }\n",
       "\n",
       "    .dataframe thead th {\n",
       "        text-align: right;\n",
       "    }\n",
       "</style>\n",
       "<table border=\"1\" class=\"dataframe\">\n",
       "  <thead>\n",
       "    <tr style=\"text-align: right;\">\n",
       "      <th></th>\n",
       "      <th>시</th>\n",
       "      <th>사용자 성명</th>\n",
       "      <th>영향받는 사용자</th>\n",
       "      <th>이벤트 문맥</th>\n",
       "      <th>구성요소</th>\n",
       "      <th>이벤트 이름</th>\n",
       "      <th>설명</th>\n",
       "      <th>오리진</th>\n",
       "      <th>ip 주소</th>\n",
       "    </tr>\n",
       "  </thead>\n",
       "  <tbody>\n",
       "    <tr>\n",
       "      <th>5</th>\n",
       "      <td>29/05/24, 16:39:11</td>\n",
       "      <td>kim jenny</td>\n",
       "      <td>-</td>\n",
       "      <td>시스템</td>\n",
       "      <td>시스템</td>\n",
       "      <td>사용자가 로그아웃 했습니다.</td>\n",
       "      <td>The user with id &amp;#039;5&amp;#039; has logged out.</td>\n",
       "      <td>web</td>\n",
       "      <td>0:0:0:0:0:0:0:1</td>\n",
       "    </tr>\n",
       "    <tr>\n",
       "      <th>6</th>\n",
       "      <td>29/05/24, 16:21:53</td>\n",
       "      <td>kim jenny</td>\n",
       "      <td>-</td>\n",
       "      <td>강좌: 파이썬필수</td>\n",
       "      <td>시스템</td>\n",
       "      <td>사용자 목록 봄</td>\n",
       "      <td>The user with id &amp;#039;5&amp;#039; viewed the list...</td>\n",
       "      <td>web</td>\n",
       "      <td>0:0:0:0:0:0:0:1</td>\n",
       "    </tr>\n",
       "    <tr>\n",
       "      <th>8</th>\n",
       "      <td>29/05/24, 16:21:35</td>\n",
       "      <td>Van daik</td>\n",
       "      <td>-</td>\n",
       "      <td>시스템</td>\n",
       "      <td>시스템</td>\n",
       "      <td>사용자가 로그아웃 했습니다.</td>\n",
       "      <td>The user with id &amp;#039;4&amp;#039; has logged out.</td>\n",
       "      <td>web</td>\n",
       "      <td>0:0:0:0:0:0:0:1</td>\n",
       "    </tr>\n",
       "    <tr>\n",
       "      <th>9</th>\n",
       "      <td>29/05/24, 16:21:32</td>\n",
       "      <td>Van daik</td>\n",
       "      <td>-</td>\n",
       "      <td>URL: 귀도반로섬의 인터뷰</td>\n",
       "      <td>URL</td>\n",
       "      <td>감좌 모듈 봄</td>\n",
       "      <td>The user with id &amp;#039;4&amp;#039; viewed the &amp;#03...</td>\n",
       "      <td>web</td>\n",
       "      <td>0:0:0:0:0:0:0:1</td>\n",
       "    </tr>\n",
       "    <tr>\n",
       "      <th>10</th>\n",
       "      <td>29/05/24, 16:21:30</td>\n",
       "      <td>Van daik</td>\n",
       "      <td>-</td>\n",
       "      <td>강좌: 파이썬필수</td>\n",
       "      <td>User tours</td>\n",
       "      <td>Tour started</td>\n",
       "      <td>The user with id &amp;#039;4&amp;#039; has started the...</td>\n",
       "      <td>web</td>\n",
       "      <td>0:0:0:0:0:0:0:1</td>\n",
       "    </tr>\n",
       "  </tbody>\n",
       "</table>\n",
       "</div>"
      ],
      "text/plain": [
       "                     시     사용자 성명 영향받는 사용자           이벤트 문맥        구성요소  \\\n",
       "5   29/05/24, 16:39:11  kim jenny        -              시스템         시스템   \n",
       "6   29/05/24, 16:21:53  kim jenny        -        강좌: 파이썬필수         시스템   \n",
       "8   29/05/24, 16:21:35   Van daik        -              시스템         시스템   \n",
       "9   29/05/24, 16:21:32   Van daik        -  URL: 귀도반로섬의 인터뷰         URL   \n",
       "10  29/05/24, 16:21:30   Van daik        -        강좌: 파이썬필수  User tours   \n",
       "\n",
       "             이벤트 이름                                                 설명  오리진  \\\n",
       "5   사용자가 로그아웃 했습니다.     The user with id &#039;5&#039; has logged out.  web   \n",
       "6          사용자 목록 봄  The user with id &#039;5&#039; viewed the list...  web   \n",
       "8   사용자가 로그아웃 했습니다.     The user with id &#039;4&#039; has logged out.  web   \n",
       "9           감좌 모듈 봄  The user with id &#039;4&#039; viewed the &#03...  web   \n",
       "10     Tour started  The user with id &#039;4&#039; has started the...  web   \n",
       "\n",
       "              ip 주소  \n",
       "5   0:0:0:0:0:0:0:1  \n",
       "6   0:0:0:0:0:0:0:1  \n",
       "8   0:0:0:0:0:0:0:1  \n",
       "9   0:0:0:0:0:0:0:1  \n",
       "10  0:0:0:0:0:0:0:1  "
      ]
     },
     "execution_count": 38,
     "metadata": {},
     "output_type": "execute_result"
    }
   ],
   "source": [
    "system_ids = ['kim kyeongsoo', '-']\n",
    "\n",
    "df_subset = df.loc[(df['사용자 성명'] != 'kim kyeongsoo') & (df['사용자 성명'] != '-')]\n",
    "\n",
    "#df_subset = df.loc[df['사용자 성명'] not in 'kim kyeongsoo']\n",
    "\n",
    "df_subset.head()"
   ]
  },
  {
   "cell_type": "code",
   "execution_count": 23,
   "id": "63929c19",
   "metadata": {},
   "outputs": [
    {
     "data": {
      "text/plain": [
       "0       kim kyeongsoo\n",
       "1       kim kyeongsoo\n",
       "2       kim kyeongsoo\n",
       "3       kim kyeongsoo\n",
       "4                   -\n",
       "            ...      \n",
       "1474    kim kyeongsoo\n",
       "1475    kim kyeongsoo\n",
       "1476    kim kyeongsoo\n",
       "1477    kim kyeongsoo\n",
       "1478    kim kyeongsoo\n",
       "Name: 사용자 성명, Length: 1479, dtype: object"
      ]
     },
     "execution_count": 23,
     "metadata": {},
     "output_type": "execute_result"
    }
   ],
   "source": [
    "df['사용자 성명']"
   ]
  },
  {
   "cell_type": "code",
   "execution_count": 33,
   "id": "0e09fec3",
   "metadata": {},
   "outputs": [
    {
     "data": {
      "text/plain": [
       "113"
      ]
     },
     "execution_count": 33,
     "metadata": {},
     "output_type": "execute_result"
    }
   ],
   "source": [
    "len(df_subset)"
   ]
  },
  {
   "cell_type": "code",
   "execution_count": 42,
   "id": "c6d1e869",
   "metadata": {},
   "outputs": [
    {
     "data": {
      "text/plain": [
       "사용자 성명\n",
       "Van daik     52\n",
       "kim jenny    33\n",
       "손 흥민         28\n",
       "dtype: int64"
      ]
     },
     "execution_count": 42,
     "metadata": {},
     "output_type": "execute_result"
    }
   ],
   "source": [
    "df_subset.groupby('사용자 성명').size() #.plot()"
   ]
  },
  {
   "cell_type": "code",
   "execution_count": 43,
   "id": "e8bb65eb",
   "metadata": {},
   "outputs": [
    {
     "data": {
      "text/plain": [
       "Index(['시', '사용자 성명', '영향받는 사용자', '이벤트 문맥', '구성요소', '이벤트 이름', '설명', '오리진',\n",
       "       'ip 주소'],\n",
       "      dtype='object')"
      ]
     },
     "execution_count": 43,
     "metadata": {},
     "output_type": "execute_result"
    }
   ],
   "source": [
    "df_subset.columns"
   ]
  },
  {
   "cell_type": "code",
   "execution_count": 49,
   "id": "972b5d38",
   "metadata": {},
   "outputs": [
    {
     "data": {
      "text/plain": [
       "이벤트 이름\n",
       "Course activity completion updated    14\n",
       "My courses viewed                      6\n",
       "Tour ended                             5\n",
       "Tour started                          23\n",
       "감좌 모듈 봄                               20\n",
       "강의 현황                                 11\n",
       "강좌 봄                                  18\n",
       "메시지 읽음                                 2\n",
       "메시지가 전송되었습니다.                          2\n",
       "사용자 목록 봄                               2\n",
       "사용자 프로파일 봄                             1\n",
       "사용자가 로그아웃 했습니다.                        2\n",
       "사용자가 로그인 하였습니다.                        3\n",
       "선택됨                                    2\n",
       "이메일 보내기 실패                             2\n",
       "dtype: int64"
      ]
     },
     "execution_count": 49,
     "metadata": {},
     "output_type": "execute_result"
    }
   ],
   "source": [
    "df_subset.groupby('이벤트 이름').size()"
   ]
  },
  {
   "cell_type": "code",
   "execution_count": 55,
   "id": "2be0e007",
   "metadata": {},
   "outputs": [
    {
     "data": {
      "text/plain": [
       "이벤트 이름\n",
       "Tour started                          23\n",
       "감좌 모듈 봄                               20\n",
       "강좌 봄                                  18\n",
       "Course activity completion updated    14\n",
       "강의 현황                                 11\n",
       "My courses viewed                      6\n",
       "Tour ended                             5\n",
       "사용자가 로그인 하였습니다.                        3\n",
       "메시지 읽음                                 2\n",
       "메시지가 전송되었습니다.                          2\n",
       "dtype: int64"
      ]
     },
     "execution_count": 55,
     "metadata": {},
     "output_type": "execute_result"
    }
   ],
   "source": [
    "df_subset.groupby('이벤트 이름').size().nlargest(10)"
   ]
  },
  {
   "cell_type": "code",
   "execution_count": 60,
   "id": "aba19192",
   "metadata": {},
   "outputs": [
    {
     "data": {
      "text/plain": [
       "사용자 성명\n",
       "Van daik     52\n",
       "kim jenny    33\n",
       "손 흥민         28\n",
       "Name: 이벤트 이름, dtype: int64"
      ]
     },
     "execution_count": 60,
     "metadata": {},
     "output_type": "execute_result"
    }
   ],
   "source": [
    "df_subset.groupby('사용자 성명')['이벤트 이름'].size()"
   ]
  },
  {
   "cell_type": "code",
   "execution_count": 63,
   "id": "7fe45dca",
   "metadata": {},
   "outputs": [],
   "source": [
    "#df_subset.groupby['사용자 성명','이벤트 이름'] # method error"
   ]
  },
  {
   "cell_type": "markdown",
   "id": "4d59ff31",
   "metadata": {},
   "source": [
    "### 사용자 행동 유형 : 활동 속도, 혹은, 인지 처리 속도 or ADHD 특성일수도...\n",
    "\n",
    "     행동 로그 간 속도 차이가 의미있는 지표일 수 있음.\n",
    "     \n",
    "     문제 timestemp 데이터 형식 처리가 까다로움...."
   ]
  },
  {
   "cell_type": "code",
   "execution_count": 89,
   "id": "5923108c",
   "metadata": {},
   "outputs": [
    {
     "data": {
      "text/plain": [
       "5     2024-05-29 16:39:11\n",
       "6     2024-05-29 16:21:53\n",
       "8     2024-05-29 16:21:35\n",
       "9     2024-05-29 16:21:32\n",
       "10    2024-05-29 16:21:30\n",
       "              ...        \n",
       "142   2024-05-29 15:48:48\n",
       "143   2024-05-29 15:48:44\n",
       "144   2024-05-29 15:48:44\n",
       "145   2024-05-29 15:48:24\n",
       "146   2024-05-29 15:48:24\n",
       "Name: 시, Length: 113, dtype: datetime64[ns]"
      ]
     },
     "execution_count": 89,
     "metadata": {},
     "output_type": "execute_result"
    }
   ],
   "source": [
    "df_subset.시"
   ]
  },
  {
   "cell_type": "code",
   "execution_count": 70,
   "id": "3a24cd5f",
   "metadata": {},
   "outputs": [
    {
     "data": {
      "text/plain": [
       "str"
      ]
     },
     "execution_count": 70,
     "metadata": {},
     "output_type": "execute_result"
    }
   ],
   "source": [
    "type(df_subset.시[5])              # 위에 index 567910~ 이런식으로 있고 0~4가 없다\n",
    "                                   # 문자열은 시간화 할수 없다."
   ]
  },
  {
   "cell_type": "code",
   "execution_count": 86,
   "id": "1db5e12b",
   "metadata": {},
   "outputs": [
    {
     "name": "stderr",
     "output_type": "stream",
     "text": [
      "C:\\Users\\user\\AppData\\Local\\Temp\\ipykernel_10640\\1507936384.py:3: SettingWithCopyWarning: \n",
      "A value is trying to be set on a copy of a slice from a DataFrame.\n",
      "Try using .loc[row_indexer,col_indexer] = value instead\n",
      "\n",
      "See the caveats in the documentation: https://pandas.pydata.org/pandas-docs/stable/user_guide/indexing.html#returning-a-view-versus-a-copy\n",
      "  df_subset['시'] = pd.to_datetime(df_subset['시'])\n"
     ]
    },
    {
     "data": {
      "text/plain": [
       "pandas._libs.tslibs.timestamps.Timestamp"
      ]
     },
     "execution_count": 86,
     "metadata": {},
     "output_type": "execute_result"
    }
   ],
   "source": [
    "# str을 timestamp로 바꿔준다\n",
    "\n",
    "df_subset['시'] = pd.to_datetime(df_subset['시'])\n",
    "type(df_subset.시[5])"
   ]
  },
  {
   "cell_type": "code",
   "execution_count": 97,
   "id": "7d94a6e3",
   "metadata": {
    "scrolled": true
   },
   "outputs": [
    {
     "ename": "TypeError",
     "evalue": "strptime() argument 1 must be str, not Timestamp",
     "output_type": "error",
     "traceback": [
      "\u001b[1;31m---------------------------------------------------------------------------\u001b[0m",
      "\u001b[1;31mTypeError\u001b[0m                                 Traceback (most recent call last)",
      "Cell \u001b[1;32mIn[97], line 5\u001b[0m\n\u001b[0;32m      1\u001b[0m \u001b[38;5;66;03m# 29/05/24, 16:39:11 --> string spcifier 포맷으로 표현 후 전환\u001b[39;00m\n\u001b[0;32m      3\u001b[0m \u001b[38;5;28;01mfrom\u001b[39;00m \u001b[38;5;21;01mdatetime\u001b[39;00m \u001b[38;5;28;01mimport\u001b[39;00m datetime\n\u001b[1;32m----> 5\u001b[0m tem_timestemp \u001b[38;5;241m=\u001b[39m datetime\u001b[38;5;241m.\u001b[39mstrptime(df_subset\u001b[38;5;241m.\u001b[39m시[\u001b[38;5;241m6\u001b[39m], \u001b[38;5;124m'\u001b[39m\u001b[38;5;124m%\u001b[39m\u001b[38;5;124mY-\u001b[39m\u001b[38;5;124m%\u001b[39m\u001b[38;5;124mm-\u001b[39m\u001b[38;5;132;01m%d\u001b[39;00m\u001b[38;5;124m \u001b[39m\u001b[38;5;124m%\u001b[39m\u001b[38;5;124mH:\u001b[39m\u001b[38;5;124m%\u001b[39m\u001b[38;5;124mM:\u001b[39m\u001b[38;5;124m%\u001b[39m\u001b[38;5;124mS\u001b[39m\u001b[38;5;124m'\u001b[39m) \u001b[38;5;66;03m# strftime() 면 str\u001b[39;00m\n\u001b[0;32m      6\u001b[0m \u001b[38;5;28mtype\u001b[39m(tem_timestemp)\n",
      "\u001b[1;31mTypeError\u001b[0m: strptime() argument 1 must be str, not Timestamp"
     ]
    }
   ],
   "source": [
    "# 29/05/24, 16:39:11 --> string spcifier 포맷으로 표현 후 전환\n",
    "\n",
    "from datetime import datetime\n",
    "\n",
    "tem_timestemp = datetime.strptime(df_subset.시[6], '%Y-%m-%d %H:%M:%S') # strftime() 면 str\n",
    "type(tem_timestemp)"
   ]
  },
  {
   "cell_type": "code",
   "execution_count": 99,
   "id": "e9278d95",
   "metadata": {},
   "outputs": [
    {
     "name": "stdout",
     "output_type": "stream",
     "text": [
      "                      시     사용자 성명       영향받는 사용자              이벤트 문맥  \\\n",
      "5    29/05/24, 16:39:11  kim jenny              -                 시스템   \n",
      "6    29/05/24, 16:21:53  kim jenny              -           강좌: 파이썬필수   \n",
      "8    29/05/24, 16:21:35   Van daik              -                 시스템   \n",
      "9    29/05/24, 16:21:32   Van daik              -     URL: 귀도반로섬의 인터뷰   \n",
      "10   29/05/24, 16:21:30   Van daik              -           강좌: 파이썬필수   \n",
      "..                  ...        ...            ...                 ...   \n",
      "142  29/05/24, 15:48:48       손 흥민              -                 시스템   \n",
      "143  29/05/24, 15:48:44       손 흥민           손 흥민           사용자: 손 흥민   \n",
      "144  29/05/24, 15:48:44       손 흥민           손 흥민           사용자: 손 흥민   \n",
      "145  29/05/24, 15:48:24       손 흥민  kim kyeongsoo  사용자: kim kyeongsoo   \n",
      "146  29/05/24, 15:48:24       손 흥민              -                 시스템   \n",
      "\n",
      "           구성요소             이벤트 이름  \\\n",
      "5           시스템    사용자가 로그아웃 했습니다.   \n",
      "6           시스템           사용자 목록 봄   \n",
      "8           시스템    사용자가 로그아웃 했습니다.   \n",
      "9           URL            감좌 모듈 봄   \n",
      "10   User tours       Tour started   \n",
      "..          ...                ...   \n",
      "142         시스템  My courses viewed   \n",
      "143  User tours       Tour started   \n",
      "144         시스템              강의 현황   \n",
      "145         시스템         사용자 프로파일 봄   \n",
      "146         시스템    사용자가 로그인 하였습니다.   \n",
      "\n",
      "                                                    설명  오리진            ip 주소  \n",
      "5       The user with id &#039;5&#039; has logged out.  web  0:0:0:0:0:0:0:1  \n",
      "6    The user with id &#039;5&#039; viewed the list...  web  0:0:0:0:0:0:0:1  \n",
      "8       The user with id &#039;4&#039; has logged out.  web  0:0:0:0:0:0:0:1  \n",
      "9    The user with id &#039;4&#039; viewed the &#03...  web  0:0:0:0:0:0:0:1  \n",
      "10   The user with id &#039;4&#039; has started the...  web  0:0:0:0:0:0:0:1  \n",
      "..                                                 ...  ...              ...  \n",
      "142  The user with id &#039;3&#039; has viewed thei...  web  0:0:0:0:0:0:0:1  \n",
      "143  The user with id &#039;3&#039; has started the...  web  0:0:0:0:0:0:0:1  \n",
      "144  The user with id &#039;3&#039; has viewed thei...  web  0:0:0:0:0:0:0:1  \n",
      "145  The user with id &#039;3&#039; viewed the prof...  web  0:0:0:0:0:0:0:1  \n",
      "146      The user with id &#039;3&#039; has logged in.  web  0:0:0:0:0:0:0:1  \n",
      "\n",
      "[113 rows x 9 columns]\n",
      "<class 'str'>\n",
      "29/05/24, 16:21:53\n"
     ]
    },
    {
     "name": "stderr",
     "output_type": "stream",
     "text": [
      "C:\\Users\\user\\AppData\\Local\\Temp\\ipykernel_10640\\2042237838.py:2: SettingWithCopyWarning: \n",
      "A value is trying to be set on a copy of a slice from a DataFrame.\n",
      "Try using .loc[row_indexer,col_indexer] = value instead\n",
      "\n",
      "See the caveats in the documentation: https://pandas.pydata.org/pandas-docs/stable/user_guide/indexing.html#returning-a-view-versus-a-copy\n",
      "  df_subset['시'] = pd.to_datetime(df_subset['시'])\n",
      "C:\\Users\\user\\AppData\\Local\\Temp\\ipykernel_10640\\2042237838.py:5: SettingWithCopyWarning: \n",
      "A value is trying to be set on a copy of a slice from a DataFrame.\n",
      "Try using .loc[row_indexer,col_indexer] = value instead\n",
      "\n",
      "See the caveats in the documentation: https://pandas.pydata.org/pandas-docs/stable/user_guide/indexing.html#returning-a-view-versus-a-copy\n",
      "  df_subset['시'] = df_subset['시'].dt.strftime('%d/%m/%y, %H:%M:%S')\n"
     ]
    }
   ],
   "source": [
    "# 재변환\n",
    "\n",
    "# '시' 열을 datetime 형식으로 변환\n",
    "df_subset['시'] = pd.to_datetime(df_subset['시'])\n",
    "\n",
    "# '시' 열의 값을 원하는 형식의 문자열로 변환\n",
    "df_subset['시'] = df_subset['시'].dt.strftime('%d/%m/%y, %H:%M:%S')\n",
    "\n",
    "# 변환된 데이터프레임 출력\n",
    "print(df_subset)\n",
    "\n",
    "# 특정 인덱스의 타입과 값을 확인\n",
    "tem_timestemp = df_subset.시[6]\n",
    "print(type(tem_timestemp))  # 출력: <class 'str'>\n",
    "print(tem_timestemp)        # 변환된 문자열 값 출력"
   ]
  },
  {
   "cell_type": "code",
   "execution_count": 96,
   "id": "5e82b2a5",
   "metadata": {},
   "outputs": [
    {
     "ename": "TypeError",
     "evalue": "strptime() argument 1 must be str, not Timestamp",
     "output_type": "error",
     "traceback": [
      "\u001b[1;31m---------------------------------------------------------------------------\u001b[0m",
      "\u001b[1;31mTypeError\u001b[0m                                 Traceback (most recent call last)",
      "Cell \u001b[1;32mIn[96], line 3\u001b[0m\n\u001b[0;32m      1\u001b[0m \u001b[38;5;66;03m# '시' 열에서 문자열을 datetime 객체로 변환 (6번째 인덱스 값 사용)\u001b[39;00m\n\u001b[0;32m      2\u001b[0m \u001b[38;5;28;01mfrom\u001b[39;00m \u001b[38;5;21;01mdatetime\u001b[39;00m \u001b[38;5;28;01mimport\u001b[39;00m datetime\n\u001b[1;32m----> 3\u001b[0m tem_timestemp \u001b[38;5;241m=\u001b[39m datetime\u001b[38;5;241m.\u001b[39mstrptime(df_subset\u001b[38;5;241m.\u001b[39m시[\u001b[38;5;241m6\u001b[39m], \u001b[38;5;124m'\u001b[39m\u001b[38;5;124m%\u001b[39m\u001b[38;5;124mY-\u001b[39m\u001b[38;5;124m%\u001b[39m\u001b[38;5;124mm-\u001b[39m\u001b[38;5;132;01m%d\u001b[39;00m\u001b[38;5;124m \u001b[39m\u001b[38;5;124m%\u001b[39m\u001b[38;5;124mH:\u001b[39m\u001b[38;5;124m%\u001b[39m\u001b[38;5;124mM:\u001b[39m\u001b[38;5;124m%\u001b[39m\u001b[38;5;124mS\u001b[39m\u001b[38;5;124m'\u001b[39m)\n\u001b[0;32m      5\u001b[0m \u001b[38;5;28mprint\u001b[39m(\u001b[38;5;28mtype\u001b[39m(tem_timestemp))  \u001b[38;5;66;03m# 출력: <class 'datetime.datetime'>\u001b[39;00m\n\u001b[0;32m      6\u001b[0m \u001b[38;5;28mprint\u001b[39m(tem_timestemp)\n",
      "\u001b[1;31mTypeError\u001b[0m: strptime() argument 1 must be str, not Timestamp"
     ]
    }
   ],
   "source": [
    "# '시' 열에서 문자열을 datetime 객체로 변환 (6번째 인덱스 값 사용)\n",
    "from datetime import datetime\n",
    "tem_timestemp = datetime.strptime(df_subset.시[6], '%Y-%m-%d %H:%M:%S')\n",
    "\n",
    "print(type(tem_timestemp))  # 출력: <class 'datetime.datetime'>\n",
    "print(tem_timestemp)        # 변환된 datetime 객체 출력"
   ]
  },
  {
   "cell_type": "code",
   "execution_count": 83,
   "id": "4e8649eb",
   "metadata": {},
   "outputs": [
    {
     "ename": "TypeError",
     "evalue": "strptime() argument 1 must be str, not Timestamp",
     "output_type": "error",
     "traceback": [
      "\u001b[1;31m---------------------------------------------------------------------------\u001b[0m",
      "\u001b[1;31mTypeError\u001b[0m                                 Traceback (most recent call last)",
      "Cell \u001b[1;32mIn[83], line 1\u001b[0m\n\u001b[1;32m----> 1\u001b[0m datetime\u001b[38;5;241m.\u001b[39mstrptime(df_subset\u001b[38;5;241m.\u001b[39m시[\u001b[38;5;241m5\u001b[39m], \u001b[38;5;124m'\u001b[39m\u001b[38;5;132;01m%d\u001b[39;00m\u001b[38;5;124m/\u001b[39m\u001b[38;5;124m%\u001b[39m\u001b[38;5;124mm/\u001b[39m\u001b[38;5;124m%\u001b[39m\u001b[38;5;124my, \u001b[39m\u001b[38;5;124m%\u001b[39m\u001b[38;5;124mH:\u001b[39m\u001b[38;5;124m%\u001b[39m\u001b[38;5;124mM:\u001b[39m\u001b[38;5;124m%\u001b[39m\u001b[38;5;124mS\u001b[39m\u001b[38;5;124m'\u001b[39m)\n",
      "\u001b[1;31mTypeError\u001b[0m: strptime() argument 1 must be str, not Timestamp"
     ]
    }
   ],
   "source": [
    "datetime.strptime(df_subset.시[5], '%d/%m/%y, %H:%M:%S')"
   ]
  },
  {
   "cell_type": "code",
   "execution_count": null,
   "id": "7c8f5ae5",
   "metadata": {},
   "outputs": [],
   "source": [
    "# timedata를 integer로 바꾸는 방식\n",
    "\n",
    "tmp_1 = datetime.strptime(df_subset.시[9], '%d/%m/%y, %H:%M:%S')\n",
    "tmp_2 = datetime.strptime(df_subset.시[10], '%d/%m/%y, %H:%M:%S')\n",
    "\n",
    "type((tmp_1 - tmp_2).second)"
   ]
  },
  {
   "cell_type": "code",
   "execution_count": null,
   "id": "2baee344",
   "metadata": {},
   "outputs": [],
   "source": []
  }
 ],
 "metadata": {
  "kernelspec": {
   "display_name": "Python 3 (ipykernel)",
   "language": "python",
   "name": "python3"
  },
  "language_info": {
   "codemirror_mode": {
    "name": "ipython",
    "version": 3
   },
   "file_extension": ".py",
   "mimetype": "text/x-python",
   "name": "python",
   "nbconvert_exporter": "python",
   "pygments_lexer": "ipython3",
   "version": "3.11.7"
  }
 },
 "nbformat": 4,
 "nbformat_minor": 5
}
