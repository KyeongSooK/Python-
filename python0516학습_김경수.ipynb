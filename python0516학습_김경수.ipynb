{
 "cells": [
  {
   "cell_type": "markdown",
   "id": "4b3e0262",
   "metadata": {},
   "source": [
    "## 실습"
   ]
  },
  {
   "cell_type": "code",
   "execution_count": 2,
   "id": "aaea36ef",
   "metadata": {},
   "outputs": [],
   "source": [
    "def cat():\n",
    "    print('야옹')"
   ]
  },
  {
   "cell_type": "code",
   "execution_count": 3,
   "id": "c41310f9",
   "metadata": {},
   "outputs": [
    {
     "name": "stdout",
     "output_type": "stream",
     "text": [
      "야옹\n"
     ]
    }
   ],
   "source": [
    "cat()"
   ]
  },
  {
   "cell_type": "code",
   "execution_count": 4,
   "id": "5fa10bb9",
   "metadata": {},
   "outputs": [],
   "source": [
    "def func1():\n",
    "    return '안녕'"
   ]
  },
  {
   "cell_type": "code",
   "execution_count": 5,
   "id": "6a798a09",
   "metadata": {},
   "outputs": [
    {
     "data": {
      "text/plain": [
       "'안녕'"
      ]
     },
     "execution_count": 5,
     "metadata": {},
     "output_type": "execute_result"
    }
   ],
   "source": [
    "func1()"
   ]
  },
  {
   "cell_type": "code",
   "execution_count": 6,
   "id": "1a243e84",
   "metadata": {},
   "outputs": [
    {
     "name": "stdout",
     "output_type": "stream",
     "text": [
      "야옹\n"
     ]
    }
   ],
   "source": [
    "x = cat()"
   ]
  },
  {
   "cell_type": "code",
   "execution_count": 7,
   "id": "5fced2f7",
   "metadata": {},
   "outputs": [],
   "source": [
    "y = func1()"
   ]
  },
  {
   "cell_type": "code",
   "execution_count": 8,
   "id": "4a33eb18",
   "metadata": {},
   "outputs": [
    {
     "data": {
      "text/plain": [
       "(None, '안녕')"
      ]
     },
     "execution_count": 8,
     "metadata": {},
     "output_type": "execute_result"
    }
   ],
   "source": [
    "x,y"
   ]
  },
  {
   "cell_type": "code",
   "execution_count": 12,
   "id": "ea38eead",
   "metadata": {},
   "outputs": [],
   "source": [
    "def func1():\n",
    "    return '아아아아안녕'\n",
    "    return '안녕'\n",
    "    return '아아아아안녕'"
   ]
  },
  {
   "cell_type": "code",
   "execution_count": 13,
   "id": "8da164cb",
   "metadata": {
    "scrolled": true
   },
   "outputs": [
    {
     "data": {
      "text/plain": [
       "'아아아아안녕'"
      ]
     },
     "execution_count": 13,
     "metadata": {},
     "output_type": "execute_result"
    }
   ],
   "source": [
    "func1()"
   ]
  },
  {
   "cell_type": "code",
   "execution_count": 16,
   "id": "393555b3",
   "metadata": {},
   "outputs": [
    {
     "data": {
      "text/plain": [
       "str"
      ]
     },
     "execution_count": 16,
     "metadata": {},
     "output_type": "execute_result"
    }
   ],
   "source": [
    "type(func1())"
   ]
  },
  {
   "cell_type": "code",
   "execution_count": 14,
   "id": "3a8ac9e5",
   "metadata": {},
   "outputs": [],
   "source": [
    "def func2():\n",
    "    return '아아아아안녕','안녕'"
   ]
  },
  {
   "cell_type": "code",
   "execution_count": 15,
   "id": "69d1c638",
   "metadata": {},
   "outputs": [
    {
     "data": {
      "text/plain": [
       "('아아아아안녕', '안녕')"
      ]
     },
     "execution_count": 15,
     "metadata": {},
     "output_type": "execute_result"
    }
   ],
   "source": [
    "func2()"
   ]
  },
  {
   "cell_type": "code",
   "execution_count": 17,
   "id": "0fba121f",
   "metadata": {},
   "outputs": [
    {
     "data": {
      "text/plain": [
       "tuple"
      ]
     },
     "execution_count": 17,
     "metadata": {},
     "output_type": "execute_result"
    }
   ],
   "source": [
    "type(func2())"
   ]
  },
  {
   "cell_type": "code",
   "execution_count": 18,
   "id": "fb870262",
   "metadata": {},
   "outputs": [],
   "source": [
    "x,y = func2()"
   ]
  },
  {
   "cell_type": "code",
   "execution_count": 19,
   "id": "1e8627c4",
   "metadata": {},
   "outputs": [
    {
     "data": {
      "text/plain": [
       "'아아아아안녕'"
      ]
     },
     "execution_count": 19,
     "metadata": {},
     "output_type": "execute_result"
    }
   ],
   "source": [
    "x"
   ]
  },
  {
   "cell_type": "code",
   "execution_count": 20,
   "id": "9a1ee4b0",
   "metadata": {},
   "outputs": [
    {
     "data": {
      "text/plain": [
       "'안녕'"
      ]
     },
     "execution_count": 20,
     "metadata": {},
     "output_type": "execute_result"
    }
   ],
   "source": [
    "y"
   ]
  },
  {
   "cell_type": "code",
   "execution_count": 23,
   "id": "c4ef1f3b",
   "metadata": {},
   "outputs": [
    {
     "data": {
      "text/plain": [
       "('아아아아안녕', '안녕')"
      ]
     },
     "execution_count": 23,
     "metadata": {},
     "output_type": "execute_result"
    }
   ],
   "source": [
    "x,y"
   ]
  },
  {
   "cell_type": "code",
   "execution_count": 35,
   "id": "121eb2c6",
   "metadata": {},
   "outputs": [],
   "source": [
    "def func4():\n",
    "    return x + 10                # 지역변수 (로컬벨리어블)"
   ]
  },
  {
   "cell_type": "code",
   "execution_count": 36,
   "id": "0e6636ea",
   "metadata": {},
   "outputs": [],
   "source": [
    "x = 50                           # 전역변수 (글로벌벨리어블)"
   ]
  },
  {
   "cell_type": "code",
   "execution_count": 37,
   "id": "7c3f8a9b",
   "metadata": {},
   "outputs": [
    {
     "data": {
      "text/plain": [
       "60"
      ]
     },
     "execution_count": 37,
     "metadata": {},
     "output_type": "execute_result"
    }
   ],
   "source": [
    "func4()"
   ]
  },
  {
   "cell_type": "code",
   "execution_count": 45,
   "id": "118819ce",
   "metadata": {},
   "outputs": [],
   "source": [
    "def func4(x):\n",
    "    x = x + 10 \n",
    "    return x"
   ]
  },
  {
   "cell_type": "code",
   "execution_count": 46,
   "id": "9019f64d",
   "metadata": {},
   "outputs": [],
   "source": [
    "x = 50 # 전역변수"
   ]
  },
  {
   "cell_type": "code",
   "execution_count": 48,
   "id": "b4f3e3af",
   "metadata": {},
   "outputs": [
    {
     "data": {
      "text/plain": [
       "15"
      ]
     },
     "execution_count": 48,
     "metadata": {},
     "output_type": "execute_result"
    }
   ],
   "source": [
    "func4(5)"
   ]
  },
  {
   "cell_type": "code",
   "execution_count": 49,
   "id": "475fedd4",
   "metadata": {},
   "outputs": [
    {
     "data": {
      "text/plain": [
       "50"
      ]
     },
     "execution_count": 49,
     "metadata": {},
     "output_type": "execute_result"
    }
   ],
   "source": [
    "x"
   ]
  },
  {
   "cell_type": "code",
   "execution_count": 55,
   "id": "9d35d6ac",
   "metadata": {},
   "outputs": [],
   "source": [
    "# 전역변수 편집\n",
    "def func4():\n",
    "    global x                # 지금부터 해당 전역변수를 편집을 하겠다.\n",
    "    x = x + 10 \n",
    "    return x"
   ]
  },
  {
   "cell_type": "code",
   "execution_count": 56,
   "id": "9a31f453",
   "metadata": {},
   "outputs": [],
   "source": [
    "x = 50"
   ]
  },
  {
   "cell_type": "code",
   "execution_count": 57,
   "id": "ce4d5388",
   "metadata": {},
   "outputs": [
    {
     "data": {
      "text/plain": [
       "60"
      ]
     },
     "execution_count": 57,
     "metadata": {},
     "output_type": "execute_result"
    }
   ],
   "source": [
    "func4()"
   ]
  },
  {
   "cell_type": "code",
   "execution_count": 53,
   "id": "7dbb25ec",
   "metadata": {},
   "outputs": [
    {
     "data": {
      "text/plain": [
       "60"
      ]
     },
     "execution_count": 53,
     "metadata": {},
     "output_type": "execute_result"
    }
   ],
   "source": [
    "x"
   ]
  },
  {
   "cell_type": "code",
   "execution_count": 66,
   "id": "e857f028",
   "metadata": {},
   "outputs": [],
   "source": [
    "def func4():\n",
    "    global x                # 지금부터 해당 전역변수를 편집을 하겠다.\n",
    "    x = x + 10 \n",
    "    return x\n",
    "    x = 30\n",
    "    func4()"
   ]
  },
  {
   "cell_type": "code",
   "execution_count": null,
   "id": "1e8140ce",
   "metadata": {},
   "outputs": [],
   "source": []
  },
  {
   "cell_type": "code",
   "execution_count": null,
   "id": "3829c21b",
   "metadata": {},
   "outputs": [],
   "source": []
  },
  {
   "cell_type": "code",
   "execution_count": 67,
   "id": "8b338838",
   "metadata": {},
   "outputs": [],
   "source": [
    "def func5(o):\n",
    "    if o == 10:\n",
    "        print('ten')\n",
    "    else:\n",
    "        print('-')"
   ]
  },
  {
   "cell_type": "code",
   "execution_count": 68,
   "id": "cb86d2b7",
   "metadata": {},
   "outputs": [
    {
     "name": "stdout",
     "output_type": "stream",
     "text": [
      "ten\n"
     ]
    }
   ],
   "source": [
    "func5(10)"
   ]
  },
  {
   "cell_type": "code",
   "execution_count": 70,
   "id": "14899adc",
   "metadata": {},
   "outputs": [
    {
     "name": "stdout",
     "output_type": "stream",
     "text": [
      "-\n"
     ]
    }
   ],
   "source": [
    "func5(27)"
   ]
  },
  {
   "cell_type": "code",
   "execution_count": 77,
   "id": "4671a18d",
   "metadata": {},
   "outputs": [],
   "source": [
    "def func5(o):\n",
    "    if o == 10:\n",
    "        return 'ten'        # 펄스라서 리턴\n",
    "    #else:\n",
    "        return '-'"
   ]
  },
  {
   "cell_type": "code",
   "execution_count": 78,
   "id": "11bb3153",
   "metadata": {},
   "outputs": [
    {
     "data": {
      "text/plain": [
       "('ten', None)"
      ]
     },
     "execution_count": 78,
     "metadata": {},
     "output_type": "execute_result"
    }
   ],
   "source": [
    "func5(10), func5(27)"
   ]
  },
  {
   "cell_type": "code",
   "execution_count": 73,
   "id": "406937d7",
   "metadata": {},
   "outputs": [],
   "source": [
    "def func5(o):\n",
    "    if o == 10:\n",
    "        return 'ten'        \n",
    "\n",
    "        return '-'"
   ]
  },
  {
   "cell_type": "code",
   "execution_count": 76,
   "id": "6f813669",
   "metadata": {},
   "outputs": [
    {
     "data": {
      "text/plain": [
       "'ten'"
      ]
     },
     "execution_count": 76,
     "metadata": {},
     "output_type": "execute_result"
    }
   ],
   "source": [
    "func5(10)"
   ]
  },
  {
   "cell_type": "code",
   "execution_count": null,
   "id": "d96978c9",
   "metadata": {},
   "outputs": [],
   "source": []
  },
  {
   "cell_type": "raw",
   "id": "aa4644b2",
   "metadata": {},
   "source": [
    "## 함수 실습\n",
    "\n",
    "연산을 하는 함수 만들기\n",
    "\n",
    "[조건]\n",
    " 함수 이름 : func1\n",
    " 입력받는 값: 임의의 숫자 둘(x,y)\n",
    " 반환값:x/y의 나머지와 x-y를 비교해\n",
    " 전자가 크면 Type1\n",
    " 둘이 같거나 후자가 크면 Type2라고 반환\n"
   ]
  },
  {
   "cell_type": "code",
   "execution_count": 86,
   "id": "26497616",
   "metadata": {},
   "outputs": [],
   "source": [
    "def func1(x,y):\n",
    "    if x%y > x-y:\n",
    "        return 'Type1'\n",
    "    elif x%y < x-y:\n",
    "        return 'Type2'\n",
    "    else:\n",
    "        return 'x,y 값이 같다'"
   ]
  },
  {
   "cell_type": "code",
   "execution_count": 87,
   "id": "139e9e67",
   "metadata": {},
   "outputs": [
    {
     "data": {
      "text/plain": [
       "'Type1'"
      ]
     },
     "execution_count": 87,
     "metadata": {},
     "output_type": "execute_result"
    }
   ],
   "source": [
    "func1(3,6)"
   ]
  },
  {
   "cell_type": "code",
   "execution_count": 108,
   "id": "f787ea4a",
   "metadata": {},
   "outputs": [
    {
     "data": {
      "text/plain": [
       "\"def func1(x,y):\\n    \\n    x = input('X의 값을 적으시오 : ')\\n    y = input('Y의 값을 적으시오 : ')\\n    \\n    if x/y > x-y:\\n        return 'Type1'\\n    elif x/y < x-y:\\n        return 'Type2'\\n    else:\\n        return 'x,y 값이 같다'\\n\\nx,y\""
      ]
     },
     "execution_count": 108,
     "metadata": {},
     "output_type": "execute_result"
    }
   ],
   "source": [
    "'''def func1(x,y):\n",
    "    \n",
    "    x = input('X의 값을 적으시오 : ')\n",
    "    y = input('Y의 값을 적으시오 : ')\n",
    "    \n",
    "    if x/y > x-y:\n",
    "        return 'Type1'\n",
    "    elif x/y < x-y:\n",
    "        return 'Type2'\n",
    "    else:\n",
    "        return 'x,y 값이 같다'\n",
    "\n",
    "x,y'''"
   ]
  },
  {
   "cell_type": "code",
   "execution_count": 93,
   "id": "72bd689d",
   "metadata": {},
   "outputs": [],
   "source": [
    "def func1(x,y):\n",
    "    a = x%y\n",
    "    b = x-y\n",
    "    \n",
    "    if a > b:\n",
    "        return 'Type1'\n",
    "    else:\n",
    "        return 'Type2'"
   ]
  },
  {
   "cell_type": "code",
   "execution_count": 94,
   "id": "3660d3e3",
   "metadata": {
    "scrolled": true
   },
   "outputs": [
    {
     "data": {
      "text/plain": [
       "'Type1'"
      ]
     },
     "execution_count": 94,
     "metadata": {},
     "output_type": "execute_result"
    }
   ],
   "source": [
    "func1(3,6)"
   ]
  },
  {
   "cell_type": "code",
   "execution_count": 103,
   "id": "9746b083",
   "metadata": {},
   "outputs": [
    {
     "name": "stdout",
     "output_type": "stream",
     "text": [
      "원하는 변수 이름을 골라주세요: ABC\n"
     ]
    }
   ],
   "source": [
    "var_name = input('원하는 변수 이름을 골라주세요: ')"
   ]
  },
  {
   "cell_type": "code",
   "execution_count": 104,
   "id": "0b90e5ef",
   "metadata": {},
   "outputs": [],
   "source": [
    "globals()[var_name] = 999"
   ]
  },
  {
   "cell_type": "code",
   "execution_count": 105,
   "id": "1364c590",
   "metadata": {},
   "outputs": [
    {
     "data": {
      "text/plain": [
       "999"
      ]
     },
     "execution_count": 105,
     "metadata": {},
     "output_type": "execute_result"
    }
   ],
   "source": [
    "abc"
   ]
  },
  {
   "cell_type": "code",
   "execution_count": 106,
   "id": "a65f5678",
   "metadata": {},
   "outputs": [
    {
     "data": {
      "text/plain": [
       "'3'"
      ]
     },
     "execution_count": 106,
     "metadata": {},
     "output_type": "execute_result"
    }
   ],
   "source": [
    "x"
   ]
  },
  {
   "cell_type": "code",
   "execution_count": 102,
   "id": "76acae7a",
   "metadata": {},
   "outputs": [
    {
     "data": {
      "text/plain": [
       "'3'"
      ]
     },
     "execution_count": 102,
     "metadata": {},
     "output_type": "execute_result"
    }
   ],
   "source": [
    "globals()['x']"
   ]
  },
  {
   "cell_type": "code",
   "execution_count": null,
   "id": "9e528275",
   "metadata": {},
   "outputs": [],
   "source": []
  },
  {
   "cell_type": "code",
   "execution_count": 114,
   "id": "05fe537a",
   "metadata": {},
   "outputs": [],
   "source": [
    "def calc(x, y):\n",
    "    w = x**2\n",
    "    w = w + 10\n",
    "    w = w + 2 * y\n",
    "    return w"
   ]
  },
  {
   "cell_type": "code",
   "execution_count": 112,
   "id": "33653234",
   "metadata": {},
   "outputs": [],
   "source": [
    "x = 10\n",
    "y = 6"
   ]
  },
  {
   "cell_type": "code",
   "execution_count": 113,
   "id": "92ed9eef",
   "metadata": {},
   "outputs": [
    {
     "name": "stdout",
     "output_type": "stream",
     "text": [
      "122\n"
     ]
    }
   ],
   "source": [
    "if x % 2 == 0:\n",
    "    w = x**2                # 100\n",
    "    w = w + 10              # 110\n",
    "    w = w + 2 * y           # 110+(2*6)\n",
    "    print(w)\n",
    "else:\n",
    "    print(0)"
   ]
  },
  {
   "cell_type": "code",
   "execution_count": 115,
   "id": "90adc34d",
   "metadata": {},
   "outputs": [
    {
     "name": "stdout",
     "output_type": "stream",
     "text": [
      "122\n"
     ]
    }
   ],
   "source": [
    "if x % 2 == 0:\n",
    "    print(calc(x,y))\n",
    "else:\n",
    "    print(0)"
   ]
  },
  {
   "cell_type": "code",
   "execution_count": null,
   "id": "f37be11e",
   "metadata": {},
   "outputs": [],
   "source": []
  },
  {
   "cell_type": "code",
   "execution_count": null,
   "id": "742b63aa",
   "metadata": {},
   "outputs": [],
   "source": []
  },
  {
   "cell_type": "code",
   "execution_count": null,
   "id": "a2a8e15b",
   "metadata": {},
   "outputs": [],
   "source": []
  },
  {
   "cell_type": "code",
   "execution_count": 117,
   "id": "b7e50919",
   "metadata": {},
   "outputs": [],
   "source": [
    "ll = [1,2,3,4,5,6,7,8,9]"
   ]
  },
  {
   "cell_type": "code",
   "execution_count": 121,
   "id": "1cb53c19",
   "metadata": {
    "scrolled": true
   },
   "outputs": [
    {
     "name": "stdout",
     "output_type": "stream",
     "text": [
      "홀수\n",
      "짝수\n",
      "홀수\n",
      "짝수\n",
      "홀수\n",
      "짝수\n",
      "홀수\n",
      "짝수\n",
      "홀수\n"
     ]
    }
   ],
   "source": [
    "for i in ll:\n",
    "    if i % 2 == 0:\n",
    "        print('짝수')\n",
    "    else:\n",
    "        print('홀수')"
   ]
  },
  {
   "cell_type": "code",
   "execution_count": 122,
   "id": "ef92d3ff",
   "metadata": {},
   "outputs": [],
   "source": [
    "def even_check(x):\n",
    "    if x % 2 == 0:\n",
    "        return '짝수'\n",
    "    else:\n",
    "        return '홀수'"
   ]
  },
  {
   "cell_type": "code",
   "execution_count": 123,
   "id": "3912ab8a",
   "metadata": {},
   "outputs": [
    {
     "data": {
      "text/plain": [
       "['홀수', '짝수', '홀수', '짝수', '홀수', '짝수', '홀수', '짝수', '홀수']"
      ]
     },
     "execution_count": 123,
     "metadata": {},
     "output_type": "execute_result"
    }
   ],
   "source": [
    "['짝수' if i % 2 == 0 else '홀수' for i in ll]     # 리스트컴플레이션으로 1줄로 가능하다."
   ]
  },
  {
   "cell_type": "code",
   "execution_count": 124,
   "id": "2b19edf0",
   "metadata": {},
   "outputs": [
    {
     "data": {
      "text/plain": [
       "['홀수', '짝수', '홀수', '짝수', '홀수', '짝수', '홀수', '짝수', '홀수']"
      ]
     },
     "execution_count": 124,
     "metadata": {},
     "output_type": "execute_result"
    }
   ],
   "source": [
    "[even_check(i) for i in ll]          # 함수를 사용하면 위에보다 가독성이 좋아진다."
   ]
  },
  {
   "cell_type": "code",
   "execution_count": 125,
   "id": "05d8320e",
   "metadata": {},
   "outputs": [],
   "source": [
    "import pandas as pd"
   ]
  },
  {
   "cell_type": "code",
   "execution_count": 126,
   "id": "c1126b35",
   "metadata": {},
   "outputs": [],
   "source": [
    "df = pd.DataFrame(ll)"
   ]
  },
  {
   "cell_type": "code",
   "execution_count": 129,
   "id": "7618e20a",
   "metadata": {},
   "outputs": [
    {
     "data": {
      "text/plain": [
       "0    홀수\n",
       "1    홀수\n",
       "2    홀수\n",
       "3    홀수\n",
       "4    홀수\n",
       "5    홀수\n",
       "6    홀수\n",
       "7    홀수\n",
       "8    홀수\n",
       "Name: 0, dtype: object"
      ]
     },
     "execution_count": 129,
     "metadata": {},
     "output_type": "execute_result"
    }
   ],
   "source": [
    "df[0].apply(lambda x: '짝수' if i % 2 == 0 else '홀수')"
   ]
  },
  {
   "cell_type": "code",
   "execution_count": 130,
   "id": "9cd73ac6",
   "metadata": {},
   "outputs": [
    {
     "data": {
      "text/plain": [
       "0    홀수\n",
       "1    짝수\n",
       "2    홀수\n",
       "3    짝수\n",
       "4    홀수\n",
       "5    짝수\n",
       "6    홀수\n",
       "7    짝수\n",
       "8    홀수\n",
       "Name: 0, dtype: object"
      ]
     },
     "execution_count": 130,
     "metadata": {},
     "output_type": "execute_result"
    }
   ],
   "source": [
    "df[0].apply(even_check)             # def even_check(x)를 사용해서 위에보다 가독성이 좋아진다."
   ]
  },
  {
   "cell_type": "code",
   "execution_count": 134,
   "id": "d8577a6e",
   "metadata": {},
   "outputs": [],
   "source": [
    "import time"
   ]
  },
  {
   "cell_type": "code",
   "execution_count": 136,
   "id": "25523814",
   "metadata": {},
   "outputs": [
    {
     "name": "stdout",
     "output_type": "stream",
     "text": [
      "안녕\n"
     ]
    }
   ],
   "source": [
    "time.sleep(3)         # 주어진 함수만큼 대기한다. ex)퀴즈, 시간타이머, 무한루프온도체크(주기적으로)\n",
    "print('안녕')"
   ]
  },
  {
   "cell_type": "code",
   "execution_count": 133,
   "id": "f4f7038c",
   "metadata": {},
   "outputs": [
    {
     "data": {
      "text/plain": [
       "'lello'"
      ]
     },
     "execution_count": 133,
     "metadata": {},
     "output_type": "execute_result"
    }
   ],
   "source": [
    "'hello'.replace('h','l')"
   ]
  },
  {
   "cell_type": "code",
   "execution_count": 139,
   "id": "9f7e51a1",
   "metadata": {},
   "outputs": [],
   "source": []
  },
  {
   "cell_type": "code",
   "execution_count": null,
   "id": "c3464813",
   "metadata": {},
   "outputs": [],
   "source": []
  },
  {
   "cell_type": "code",
   "execution_count": 1,
   "id": "a014fafc",
   "metadata": {},
   "outputs": [],
   "source": [
    "import 아무파이썬 # 해당패키지를 불러오기"
   ]
  },
  {
   "cell_type": "code",
   "execution_count": 2,
   "id": "dc6153b4",
   "metadata": {},
   "outputs": [
    {
     "name": "stdout",
     "output_type": "stream",
     "text": [
      "안녕 나는 나야\n"
     ]
    }
   ],
   "source": [
    "아무파이썬.hello()"
   ]
  },
  {
   "cell_type": "code",
   "execution_count": 3,
   "id": "09641c78",
   "metadata": {},
   "outputs": [],
   "source": [
    "import 아무파이썬.module1                 # import 패키지이름."
   ]
  },
  {
   "cell_type": "code",
   "execution_count": 4,
   "id": "8af6aedc",
   "metadata": {},
   "outputs": [
    {
     "name": "stdout",
     "output_type": "stream",
     "text": [
      "날라 다녀서 좋겠다\n"
     ]
    }
   ],
   "source": [
    "아무파이썬.module1.bird()"
   ]
  },
  {
   "cell_type": "code",
   "execution_count": 5,
   "id": "4bc0ab7d",
   "metadata": {},
   "outputs": [],
   "source": [
    "from 아무파이썬 import module1           # 해당패키지 하나의 모듈하나를 불러옵니다. py파일이름 말고 * 을사용하면 전체파일 import가능\n",
    "                                            #경로가 주로 패키지 이름으로 되어있다. 위에보다 빠르다."
   ]
  },
  {
   "cell_type": "code",
   "execution_count": 6,
   "id": "2ab80cd3",
   "metadata": {},
   "outputs": [
    {
     "name": "stdout",
     "output_type": "stream",
     "text": [
      "계란 하루에 한개씩\n"
     ]
    }
   ],
   "source": [
    "module1.egg()"
   ]
  },
  {
   "cell_type": "code",
   "execution_count": 9,
   "id": "9b7b7396",
   "metadata": {},
   "outputs": [
    {
     "ename": "ModuleNotFoundError",
     "evalue": "No module named 'module1'",
     "output_type": "error",
     "traceback": [
      "\u001b[1;31m---------------------------------------------------------------------------\u001b[0m",
      "\u001b[1;31mModuleNotFoundError\u001b[0m                       Traceback (most recent call last)",
      "Cell \u001b[1;32mIn[9], line 1\u001b[0m\n\u001b[1;32m----> 1\u001b[0m \u001b[38;5;28;01mimport\u001b[39;00m \u001b[38;5;21;01mmodule1\u001b[39;00m\n",
      "\u001b[1;31mModuleNotFoundError\u001b[0m: No module named 'module1'"
     ]
    }
   ],
   "source": [
    "import module1"
   ]
  },
  {
   "cell_type": "code",
   "execution_count": 8,
   "id": "dfab0592",
   "metadata": {},
   "outputs": [
    {
     "ename": "AttributeError",
     "evalue": "module '아무파이썬.module1' has no attribute 'math'",
     "output_type": "error",
     "traceback": [
      "\u001b[1;31m---------------------------------------------------------------------------\u001b[0m",
      "\u001b[1;31mAttributeError\u001b[0m                            Traceback (most recent call last)",
      "Cell \u001b[1;32mIn[8], line 1\u001b[0m\n\u001b[1;32m----> 1\u001b[0m module1\u001b[38;5;241m.\u001b[39mmath\u001b[38;5;241m.\u001b[39macos(\u001b[38;5;241m1\u001b[39m)\n",
      "\u001b[1;31mAttributeError\u001b[0m: module '아무파이썬.module1' has no attribute 'math'"
     ]
    }
   ],
   "source": [
    "module1.math.acos(1)"
   ]
  },
  {
   "cell_type": "code",
   "execution_count": 10,
   "id": "0f451fdc",
   "metadata": {},
   "outputs": [
    {
     "ename": "AttributeError",
     "evalue": "module '아무파이썬.module1' has no attribute 'pi'",
     "output_type": "error",
     "traceback": [
      "\u001b[1;31m---------------------------------------------------------------------------\u001b[0m",
      "\u001b[1;31mAttributeError\u001b[0m                            Traceback (most recent call last)",
      "Cell \u001b[1;32mIn[10], line 1\u001b[0m\n\u001b[1;32m----> 1\u001b[0m module1\u001b[38;5;241m.\u001b[39mpi\n",
      "\u001b[1;31mAttributeError\u001b[0m: module '아무파이썬.module1' has no attribute 'pi'"
     ]
    }
   ],
   "source": [
    "module1.pi"
   ]
  },
  {
   "cell_type": "code",
   "execution_count": null,
   "id": "e2f9055b",
   "metadata": {},
   "outputs": [],
   "source": []
  },
  {
   "cell_type": "code",
   "execution_count": 15,
   "id": "a6fbbead",
   "metadata": {},
   "outputs": [],
   "source": [
    "def f1(x):\n",
    "    return x + 10                 # f1(4)가 def(x)파라미터로 들어가서 리턴값을 받아준다."
   ]
  },
  {
   "cell_type": "code",
   "execution_count": 16,
   "id": "f083dd26",
   "metadata": {},
   "outputs": [],
   "source": [
    "def f2(x):                         \n",
    "    return f1(x + 2)"
   ]
  },
  {
   "cell_type": "code",
   "execution_count": 17,
   "id": "487aab75",
   "metadata": {},
   "outputs": [
    {
     "data": {
      "text/plain": [
       "14"
      ]
     },
     "execution_count": 17,
     "metadata": {},
     "output_type": "execute_result"
    }
   ],
   "source": [
    "f1(4)"
   ]
  },
  {
   "cell_type": "code",
   "execution_count": 18,
   "id": "9c367295",
   "metadata": {},
   "outputs": [
    {
     "data": {
      "text/plain": [
       "16"
      ]
     },
     "execution_count": 18,
     "metadata": {},
     "output_type": "execute_result"
    }
   ],
   "source": [
    "f2(4)"
   ]
  },
  {
   "cell_type": "code",
   "execution_count": null,
   "id": "a8e9e8b7",
   "metadata": {},
   "outputs": [],
   "source": []
  },
  {
   "cell_type": "code",
   "execution_count": 24,
   "id": "d3c3137b",
   "metadata": {},
   "outputs": [],
   "source": [
    "def fact(x):                        # 재귀함수\n",
    "    if x == 1:\n",
    "        return 1\n",
    "    else:\n",
    "        return x * fact(x-1)"
   ]
  },
  {
   "cell_type": "code",
   "execution_count": 26,
   "id": "2ff58eb8",
   "metadata": {},
   "outputs": [
    {
     "data": {
      "text/plain": [
       "120"
      ]
     },
     "execution_count": 26,
     "metadata": {},
     "output_type": "execute_result"
    }
   ],
   "source": [
    "fact(5)"
   ]
  },
  {
   "cell_type": "code",
   "execution_count": 27,
   "id": "98938a8c",
   "metadata": {},
   "outputs": [
    {
     "data": {
      "text/plain": [
       "123"
      ]
     },
     "execution_count": 27,
     "metadata": {},
     "output_type": "execute_result"
    }
   ],
   "source": [
    "123"
   ]
  },
  {
   "cell_type": "code",
   "execution_count": 28,
   "id": "21b86643",
   "metadata": {},
   "outputs": [
    {
     "data": {
      "text/plain": [
       "456"
      ]
     },
     "execution_count": 28,
     "metadata": {},
     "output_type": "execute_result"
    }
   ],
   "source": [
    "456"
   ]
  },
  {
   "cell_type": "code",
   "execution_count": null,
   "id": "7f7d78c4",
   "metadata": {},
   "outputs": [],
   "source": []
  },
  {
   "cell_type": "code",
   "execution_count": null,
   "id": "8ee4594c",
   "metadata": {},
   "outputs": [],
   "source": []
  },
  {
   "cell_type": "markdown",
   "id": "f44ee32d",
   "metadata": {},
   "source": [
    "#클래스"
   ]
  },
  {
   "cell_type": "code",
   "execution_count": 30,
   "id": "ed10cc7a",
   "metadata": {},
   "outputs": [],
   "source": [
    "class MyClass():                  # 클래스는 호출이됨 일반변수랑 똑같이 쓸수있다. 편집이 된다.\n",
    "    x = 987\n",
    "    \n",
    "    def f(self):\n",
    "        print('hello')"
   ]
  },
  {
   "cell_type": "code",
   "execution_count": 35,
   "id": "d3981198",
   "metadata": {},
   "outputs": [
    {
     "name": "stdout",
     "output_type": "stream",
     "text": [
      "hello\n"
     ]
    }
   ],
   "source": [
    "MyClass.f(123)                     # MyClass 라는 "
   ]
  },
  {
   "cell_type": "code",
   "execution_count": 37,
   "id": "0d302068",
   "metadata": {},
   "outputs": [
    {
     "data": {
      "text/plain": [
       "987"
      ]
     },
     "execution_count": 37,
     "metadata": {},
     "output_type": "execute_result"
    }
   ],
   "source": [
    "MyClass.x"
   ]
  },
  {
   "cell_type": "code",
   "execution_count": 38,
   "id": "ca907f18",
   "metadata": {},
   "outputs": [],
   "source": [
    "def my_func():                       # 함수는 호출이 안됨.\n",
    "    x = 987"
   ]
  },
  {
   "cell_type": "code",
   "execution_count": 39,
   "id": "256fba20",
   "metadata": {},
   "outputs": [
    {
     "ename": "AttributeError",
     "evalue": "'function' object has no attribute 'x'",
     "output_type": "error",
     "traceback": [
      "\u001b[1;31m---------------------------------------------------------------------------\u001b[0m",
      "\u001b[1;31mAttributeError\u001b[0m                            Traceback (most recent call last)",
      "Cell \u001b[1;32mIn[39], line 1\u001b[0m\n\u001b[1;32m----> 1\u001b[0m my_func\u001b[38;5;241m.\u001b[39mx\n",
      "\u001b[1;31mAttributeError\u001b[0m: 'function' object has no attribute 'x'"
     ]
    }
   ],
   "source": [
    "my_func.x"
   ]
  },
  {
   "cell_type": "code",
   "execution_count": 40,
   "id": "fa52a052",
   "metadata": {},
   "outputs": [],
   "source": [
    "MyClass.x = 999"
   ]
  },
  {
   "cell_type": "code",
   "execution_count": 41,
   "id": "814119f6",
   "metadata": {},
   "outputs": [
    {
     "data": {
      "text/plain": [
       "999"
      ]
     },
     "execution_count": 41,
     "metadata": {},
     "output_type": "execute_result"
    }
   ],
   "source": [
    "MyClass.x"
   ]
  },
  {
   "cell_type": "code",
   "execution_count": 42,
   "id": "00cc2b39",
   "metadata": {},
   "outputs": [],
   "source": [
    "del MyClass.x"
   ]
  },
  {
   "cell_type": "code",
   "execution_count": 43,
   "id": "e20411b5",
   "metadata": {},
   "outputs": [
    {
     "ename": "AttributeError",
     "evalue": "type object 'MyClass' has no attribute 'x'",
     "output_type": "error",
     "traceback": [
      "\u001b[1;31m---------------------------------------------------------------------------\u001b[0m",
      "\u001b[1;31mAttributeError\u001b[0m                            Traceback (most recent call last)",
      "Cell \u001b[1;32mIn[43], line 1\u001b[0m\n\u001b[1;32m----> 1\u001b[0m MyClass\u001b[38;5;241m.\u001b[39mx\n",
      "\u001b[1;31mAttributeError\u001b[0m: type object 'MyClass' has no attribute 'x'"
     ]
    }
   ],
   "source": [
    "MyClass.x"
   ]
  },
  {
   "cell_type": "code",
   "execution_count": null,
   "id": "ba72487b",
   "metadata": {},
   "outputs": [],
   "source": []
  },
  {
   "cell_type": "code",
   "execution_count": null,
   "id": "1035b83b",
   "metadata": {},
   "outputs": [],
   "source": []
  },
  {
   "cell_type": "code",
   "execution_count": null,
   "id": "8323ca29",
   "metadata": {},
   "outputs": [],
   "source": []
  },
  {
   "cell_type": "code",
   "execution_count": 50,
   "id": "310698cc",
   "metadata": {},
   "outputs": [],
   "source": [
    "class Complex():\n",
    "    def __init__(self, int1, int2):\n",
    "        self.r = int1\n",
    "        self.i = int2"
   ]
  },
  {
   "cell_type": "code",
   "execution_count": 51,
   "id": "4a580328",
   "metadata": {},
   "outputs": [],
   "source": [
    "x = Complex(12,32)"
   ]
  },
  {
   "cell_type": "code",
   "execution_count": 55,
   "id": "2d5ed818",
   "metadata": {},
   "outputs": [
    {
     "data": {
      "text/plain": [
       "(12, 32)"
      ]
     },
     "execution_count": 55,
     "metadata": {},
     "output_type": "execute_result"
    }
   ],
   "source": [
    "x.r, x.i"
   ]
  },
  {
   "cell_type": "code",
   "execution_count": 57,
   "id": "eb5d322b",
   "metadata": {},
   "outputs": [
    {
     "ename": "AttributeError",
     "evalue": "type object 'Complex' has no attribute 'x'",
     "output_type": "error",
     "traceback": [
      "\u001b[1;31m---------------------------------------------------------------------------\u001b[0m",
      "\u001b[1;31mAttributeError\u001b[0m                            Traceback (most recent call last)",
      "Cell \u001b[1;32mIn[57], line 1\u001b[0m\n\u001b[1;32m----> 1\u001b[0m \u001b[38;5;28mtype\u001b[39m(Complex\u001b[38;5;241m.\u001b[39mx)\n",
      "\u001b[1;31mAttributeError\u001b[0m: type object 'Complex' has no attribute 'x'"
     ]
    }
   ],
   "source": [
    "Complex.x"
   ]
  },
  {
   "cell_type": "code",
   "execution_count": 61,
   "id": "2a5e4df5",
   "metadata": {},
   "outputs": [],
   "source": [
    "# Super Class\n",
    "class Tree:\n",
    "    kingdom = 'plantae'\n",
    "    leaf = True\n",
    "    fruit = 'fruit_name'\n",
    "    \n",
    "    def flower(self):\n",
    "        print('나무에 꽃이 피었습니다.')\n",
    "        \n",
    "# Sub Class\n",
    "class FruitTree(Tree):\n",
    "    def __init__(self, fruit):\n",
    "        self.fruit = fruit\n",
    "        \n",
    "    def observe_the_fruit(self):\n",
    "        print(f'나무에 열린 열매는 {self.fruit}입니다')"
   ]
  },
  {
   "cell_type": "code",
   "execution_count": 62,
   "id": "54669108",
   "metadata": {},
   "outputs": [],
   "source": [
    "orange = FruitTree('orange')"
   ]
  },
  {
   "cell_type": "code",
   "execution_count": 63,
   "id": "6e9be051",
   "metadata": {},
   "outputs": [
    {
     "name": "stdout",
     "output_type": "stream",
     "text": [
      "나무에 열린 열매는 orange입니다\n"
     ]
    }
   ],
   "source": [
    "orange.observe_the_fruit()"
   ]
  },
  {
   "cell_type": "code",
   "execution_count": null,
   "id": "89b9a4b3",
   "metadata": {},
   "outputs": [],
   "source": []
  },
  {
   "cell_type": "code",
   "execution_count": null,
   "id": "6d2bd879",
   "metadata": {},
   "outputs": [],
   "source": []
  },
  {
   "cell_type": "code",
   "execution_count": null,
   "id": "898c8fdd",
   "metadata": {},
   "outputs": [],
   "source": []
  },
  {
   "cell_type": "code",
   "execution_count": 64,
   "id": "ef9612dd",
   "metadata": {},
   "outputs": [],
   "source": [
    "import pandas as pd"
   ]
  },
  {
   "cell_type": "code",
   "execution_count": 65,
   "id": "8285fa64",
   "metadata": {},
   "outputs": [
    {
     "data": {
      "text/plain": [
       "<function pandas.core.frame.DataFrame.sum(self, axis: 'Axis | None' = 0, skipna: 'bool' = True, numeric_only: 'bool' = False, min_count: 'int' = 0, **kwargs)>"
      ]
     },
     "execution_count": 65,
     "metadata": {},
     "output_type": "execute_result"
    }
   ],
   "source": [
    "pd.DataFrame.sum"
   ]
  },
  {
   "cell_type": "code",
   "execution_count": 66,
   "id": "914b10aa",
   "metadata": {},
   "outputs": [],
   "source": [
    "df = pd.DataFrame([1,2,3])                # 초기화된 데이터는 df로 간다"
   ]
  },
  {
   "cell_type": "code",
   "execution_count": 67,
   "id": "240570ff",
   "metadata": {},
   "outputs": [
    {
     "data": {
      "text/plain": [
       "0    6\n",
       "dtype: int64"
      ]
     },
     "execution_count": 67,
     "metadata": {},
     "output_type": "execute_result"
    }
   ],
   "source": [
    "df.sum()"
   ]
  },
  {
   "cell_type": "code",
   "execution_count": null,
   "id": "5f2436e5",
   "metadata": {},
   "outputs": [],
   "source": []
  }
 ],
 "metadata": {
  "kernelspec": {
   "display_name": "Python 3 (ipykernel)",
   "language": "python",
   "name": "python3"
  },
  "language_info": {
   "codemirror_mode": {
    "name": "ipython",
    "version": 3
   },
   "file_extension": ".py",
   "mimetype": "text/x-python",
   "name": "python",
   "nbconvert_exporter": "python",
   "pygments_lexer": "ipython3",
   "version": "3.11.7"
  }
 },
 "nbformat": 4,
 "nbformat_minor": 5
}
