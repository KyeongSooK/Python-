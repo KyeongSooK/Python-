{
 "cells": [
  {
   "cell_type": "code",
   "execution_count": 1,
   "id": "96c69d29",
   "metadata": {},
   "outputs": [],
   "source": [
    "x = 123\n",
    "y = [1,2,3]"
   ]
  },
  {
   "cell_type": "code",
   "execution_count": 2,
   "id": "210d3850",
   "metadata": {},
   "outputs": [],
   "source": [
    "x2 = x"
   ]
  },
  {
   "cell_type": "code",
   "execution_count": 3,
   "id": "9935743d",
   "metadata": {},
   "outputs": [
    {
     "data": {
      "text/plain": [
       "123"
      ]
     },
     "execution_count": 3,
     "metadata": {},
     "output_type": "execute_result"
    }
   ],
   "source": [
    "x2"
   ]
  },
  {
   "cell_type": "code",
   "execution_count": 4,
   "id": "4c608a0e",
   "metadata": {},
   "outputs": [],
   "source": [
    "x2 = 999"
   ]
  },
  {
   "cell_type": "code",
   "execution_count": 5,
   "id": "f3befcb0",
   "metadata": {},
   "outputs": [
    {
     "data": {
      "text/plain": [
       "(123, 999)"
      ]
     },
     "execution_count": 5,
     "metadata": {},
     "output_type": "execute_result"
    }
   ],
   "source": [
    "x, x2"
   ]
  },
  {
   "cell_type": "code",
   "execution_count": 6,
   "id": "6cf6614c",
   "metadata": {},
   "outputs": [],
   "source": [
    "y2 = y    # 얉은 복사 ex)"
   ]
  },
  {
   "cell_type": "code",
   "execution_count": 7,
   "id": "6b91da23",
   "metadata": {},
   "outputs": [],
   "source": [
    "y2[1] = 999"
   ]
  },
  {
   "cell_type": "code",
   "execution_count": 8,
   "id": "9adebf7f",
   "metadata": {},
   "outputs": [
    {
     "data": {
      "text/plain": [
       "[1, 999, 3]"
      ]
     },
     "execution_count": 8,
     "metadata": {},
     "output_type": "execute_result"
    }
   ],
   "source": [
    "y2"
   ]
  },
  {
   "cell_type": "code",
   "execution_count": 9,
   "id": "aa62ad86",
   "metadata": {},
   "outputs": [
    {
     "data": {
      "text/plain": [
       "[1, 999, 3]"
      ]
     },
     "execution_count": 9,
     "metadata": {},
     "output_type": "execute_result"
    }
   ],
   "source": [
    "y"
   ]
  },
  {
   "cell_type": "code",
   "execution_count": 10,
   "id": "c3fb2a3c",
   "metadata": {},
   "outputs": [],
   "source": [
    "y3 = y.copy()"
   ]
  },
  {
   "cell_type": "code",
   "execution_count": 11,
   "id": "c08d105c",
   "metadata": {},
   "outputs": [
    {
     "data": {
      "text/plain": [
       "[1, 999, 3]"
      ]
     },
     "execution_count": 11,
     "metadata": {},
     "output_type": "execute_result"
    }
   ],
   "source": [
    "y3"
   ]
  },
  {
   "cell_type": "code",
   "execution_count": 12,
   "id": "885b3026",
   "metadata": {},
   "outputs": [],
   "source": [
    "y3[1] = 0"
   ]
  },
  {
   "cell_type": "code",
   "execution_count": 13,
   "id": "c8a02d26",
   "metadata": {
    "scrolled": true
   },
   "outputs": [
    {
     "data": {
      "text/plain": [
       "[1, 999, 3]"
      ]
     },
     "execution_count": 13,
     "metadata": {},
     "output_type": "execute_result"
    }
   ],
   "source": [
    "y"
   ]
  },
  {
   "cell_type": "code",
   "execution_count": 14,
   "id": "efb58fe2",
   "metadata": {},
   "outputs": [
    {
     "data": {
      "text/plain": [
       "[1, 0, 3]"
      ]
     },
     "execution_count": 14,
     "metadata": {},
     "output_type": "execute_result"
    }
   ],
   "source": [
    "y3"
   ]
  },
  {
   "cell_type": "code",
   "execution_count": 15,
   "id": "5fdfab28",
   "metadata": {},
   "outputs": [
    {
     "ename": "AttributeError",
     "evalue": "'int' object has no attribute 'copy'",
     "output_type": "error",
     "traceback": [
      "\u001b[1;31m---------------------------------------------------------------------------\u001b[0m",
      "\u001b[1;31mAttributeError\u001b[0m                            Traceback (most recent call last)",
      "Cell \u001b[1;32mIn[15], line 1\u001b[0m\n\u001b[1;32m----> 1\u001b[0m x3 \u001b[38;5;241m=\u001b[39m x\u001b[38;5;241m.\u001b[39mcopy()\n",
      "\u001b[1;31mAttributeError\u001b[0m: 'int' object has no attribute 'copy'"
     ]
    }
   ],
   "source": [
    "x3 = x.copy()  # 깊은 복사는 copy()를 사용할수 없다! xxxxxx"
   ]
  },
  {
   "cell_type": "code",
   "execution_count": 16,
   "id": "d4b975b2",
   "metadata": {},
   "outputs": [
    {
     "name": "stdout",
     "output_type": "stream",
     "text": [
      "hello\n"
     ]
    }
   ],
   "source": [
    "print('hello')"
   ]
  },
  {
   "cell_type": "code",
   "execution_count": 17,
   "id": "cbf41393",
   "metadata": {},
   "outputs": [
    {
     "name": "stdout",
     "output_type": "stream",
     "text": [
      "hello\n",
      "helloAAAAhello\n"
     ]
    }
   ],
   "source": [
    "print('hello')\n",
    "print('hello', end='AAAA')\n",
    "print('hello')"
   ]
  },
  {
   "cell_type": "code",
   "execution_count": 28,
   "id": "4524d1fe",
   "metadata": {},
   "outputs": [
    {
     "name": "stdout",
     "output_type": "stream",
     "text": [
      "hellohellohello"
     ]
    }
   ],
   "source": [
    "print('hello', end='')\n",
    "print('hello', end='')\n",
    "print('hello', end='')"
   ]
  },
  {
   "cell_type": "code",
   "execution_count": 50,
   "id": "b4d3c2eb",
   "metadata": {},
   "outputs": [
    {
     "data": {
      "text/plain": [
       "'cbc'"
      ]
     },
     "execution_count": 50,
     "metadata": {},
     "output_type": "execute_result"
    }
   ],
   "source": [
    "'abc'.replace('a','c')"
   ]
  },
  {
   "cell_type": "code",
   "execution_count": 51,
   "id": "e4dd95f4",
   "metadata": {},
   "outputs": [
    {
     "name": "stdout",
     "output_type": "stream",
     "text": [
      "여기에 글자를 입력해 주세요: 하이\n"
     ]
    }
   ],
   "source": [
    "x = input('여기에 글자를 입력해 주세요: ')"
   ]
  },
  {
   "cell_type": "code",
   "execution_count": 52,
   "id": "b2b727c4",
   "metadata": {},
   "outputs": [
    {
     "data": {
      "text/plain": [
       "'하이'"
      ]
     },
     "execution_count": 52,
     "metadata": {},
     "output_type": "execute_result"
    }
   ],
   "source": [
    "x"
   ]
  },
  {
   "cell_type": "code",
   "execution_count": null,
   "id": "cc63de86",
   "metadata": {},
   "outputs": [],
   "source": []
  },
  {
   "cell_type": "code",
   "execution_count": 65,
   "id": "09467937",
   "metadata": {},
   "outputs": [],
   "source": [
    "import re # 패키지 사용"
   ]
  },
  {
   "cell_type": "code",
   "execution_count": 74,
   "id": "d9f9bccd",
   "metadata": {},
   "outputs": [],
   "source": [
    "s = '오늘은 2파이썬 수업 2번째 시간입니다. 두번2째 시간에는 re패키지를 이용한 함2수를 돌려보려고 해요.'"
   ]
  },
  {
   "cell_type": "code",
   "execution_count": 76,
   "id": "956d7edf",
   "metadata": {},
   "outputs": [
    {
     "data": {
      "text/plain": [
       "<re.Match object; span=(12, 15), match='2번째'>"
      ]
     },
     "execution_count": 76,
     "metadata": {},
     "output_type": "execute_result"
    }
   ],
   "source": [
    "re.search('\\d번째',s) # try ~ 활용"
   ]
  },
  {
   "cell_type": "code",
   "execution_count": 70,
   "id": "141629f8",
   "metadata": {},
   "outputs": [],
   "source": [
    "number = '010.1234.5678'"
   ]
  },
  {
   "cell_type": "code",
   "execution_count": 77,
   "id": "9243b178",
   "metadata": {},
   "outputs": [
    {
     "data": {
      "text/plain": [
       "'12345678'"
      ]
     },
     "execution_count": 77,
     "metadata": {},
     "output_type": "execute_result"
    }
   ],
   "source": [
    "re.sub('\\D','',number).replace('010','')"
   ]
  },
  {
   "cell_type": "code",
   "execution_count": null,
   "id": "3a392f32",
   "metadata": {},
   "outputs": [],
   "source": [
    "# 이스케이프 문자 (escape character)"
   ]
  },
  {
   "cell_type": "code",
   "execution_count": 81,
   "id": "9ada3ce2",
   "metadata": {},
   "outputs": [
    {
     "data": {
      "text/plain": [
       "\"'안녕'이라고 말했어\""
      ]
     },
     "execution_count": 81,
     "metadata": {},
     "output_type": "execute_result"
    }
   ],
   "source": [
    "'\\'안녕\\'이라고 말했어'  # 이스케이프 문자 ' ' > \\ \\"
   ]
  },
  {
   "cell_type": "code",
   "execution_count": 87,
   "id": "25efe327",
   "metadata": {},
   "outputs": [
    {
     "ename": "SyntaxError",
     "evalue": "unterminated string literal (detected at line 1) (3986999634.py, line 1)",
     "output_type": "error",
     "traceback": [
      "\u001b[1;36m  Cell \u001b[1;32mIn[87], line 1\u001b[1;36m\u001b[0m\n\u001b[1;33m    \"'안녕'이라고\u001b[0m\n\u001b[1;37m    ^\u001b[0m\n\u001b[1;31mSyntaxError\u001b[0m\u001b[1;31m:\u001b[0m unterminated string literal (detected at line 1)\n"
     ]
    }
   ],
   "source": [
    "\"'안녕'이라고 \n",
    "말했어\"  # 위에랑 같다. 문자열은 한줄로 다 적어야한다."
   ]
  },
  {
   "cell_type": "code",
   "execution_count": 89,
   "id": "a8e9beb3",
   "metadata": {},
   "outputs": [
    {
     "data": {
      "text/plain": [
       "\"'안녕'이라고 \\n말했어\""
      ]
     },
     "execution_count": 89,
     "metadata": {},
     "output_type": "execute_result"
    }
   ],
   "source": [
    "''''안녕'이라고 \n",
    "말했어'''"
   ]
  },
  {
   "cell_type": "code",
   "execution_count": 90,
   "id": "6e702ad3",
   "metadata": {},
   "outputs": [
    {
     "data": {
      "text/plain": [
       "\"'안녕'이라고 \\n말했어\""
      ]
     },
     "execution_count": 90,
     "metadata": {},
     "output_type": "execute_result"
    }
   ],
   "source": [
    "'\\'안녕\\'이라고 \\n말했어'  # \\n 아무것도 아닌 일반문자"
   ]
  },
  {
   "cell_type": "code",
   "execution_count": 91,
   "id": "31faf73e",
   "metadata": {},
   "outputs": [
    {
     "name": "stdout",
     "output_type": "stream",
     "text": [
      "'안녕'이라고 \n",
      "말했어\n"
     ]
    }
   ],
   "source": [
    "print('\\'안녕\\'이라고 \\n말했어')"
   ]
  },
  {
   "cell_type": "code",
   "execution_count": 97,
   "id": "e8a1c375",
   "metadata": {},
   "outputs": [
    {
     "name": "stdout",
     "output_type": "stream",
     "text": [
      "안녕\r",
      "하세요\n"
     ]
    }
   ],
   "source": [
    "print('안녕\\r하세요') # 캐리지리턴"
   ]
  },
  {
   "cell_type": "code",
   "execution_count": 98,
   "id": "d4ed3bcd",
   "metadata": {},
   "outputs": [],
   "source": [
    "# 이스케이프 문자 실습"
   ]
  },
  {
   "cell_type": "code",
   "execution_count": 102,
   "id": "9e07e5d8",
   "metadata": {},
   "outputs": [
    {
     "name": "stdout",
     "output_type": "stream",
     "text": [
      "파이썬\t→이스케이프\t→문자\t→실습\n"
     ]
    }
   ],
   "source": [
    "print('파이썬\\t→이스케이프\\t→문자\\t→실습') # \\t 는 한문자열 << 보기에 3번째"
   ]
  },
  {
   "cell_type": "code",
   "execution_count": 100,
   "id": "f9062f27",
   "metadata": {},
   "outputs": [
    {
     "name": "stdout",
     "output_type": "stream",
     "text": [
      "파이썬\n",
      "이케프\n",
      "이프문\n",
      "자실습\n"
     ]
    }
   ],
   "source": [
    "print('파이썬\\n이케프\\n이프문\\n자실습')"
   ]
  },
  {
   "cell_type": "code",
   "execution_count": 103,
   "id": "36e58e34",
   "metadata": {},
   "outputs": [
    {
     "data": {
      "text/plain": [
       "'\\t'"
      ]
     },
     "execution_count": 103,
     "metadata": {},
     "output_type": "execute_result"
    }
   ],
   "source": [
    "'파이썬\\t이스케이프\\t문자\\t실습'[3]"
   ]
  },
  {
   "cell_type": "code",
   "execution_count": 104,
   "id": "7c2db763",
   "metadata": {},
   "outputs": [],
   "source": [
    "# 4장"
   ]
  },
  {
   "cell_type": "code",
   "execution_count": 105,
   "id": "1e243c90",
   "metadata": {},
   "outputs": [],
   "source": [
    "# for 반복문의 구조 "
   ]
  },
  {
   "cell_type": "code",
   "execution_count": 108,
   "id": "9d278a15",
   "metadata": {},
   "outputs": [
    {
     "name": "stdout",
     "output_type": "stream",
     "text": [
      "0\n",
      "1\n",
      "1\n",
      "2\n",
      "2\n",
      "3\n",
      "3\n",
      "4\n",
      "4\n",
      "5\n",
      "5\n",
      "6\n",
      "6\n",
      "7\n",
      "7\n",
      "8\n",
      "8\n",
      "9\n",
      "9\n",
      "10\n"
     ]
    }
   ],
   "source": [
    "for i in range(10):  # for 변수 in 범위\n",
    "    print(i)\n",
    "    print(i+1)"
   ]
  },
  {
   "cell_type": "code",
   "execution_count": 109,
   "id": "28f0da82",
   "metadata": {},
   "outputs": [
    {
     "name": "stdout",
     "output_type": "stream",
     "text": [
      "9\n",
      "8\n",
      "7\n"
     ]
    }
   ],
   "source": [
    "for i in [9,8,7]:\n",
    "    print(i)"
   ]
  },
  {
   "cell_type": "code",
   "execution_count": 110,
   "id": "faac203e",
   "metadata": {},
   "outputs": [
    {
     "name": "stdout",
     "output_type": "stream",
     "text": [
      "안녕\n",
      "안녕\n",
      "안녕\n",
      "안녕\n",
      "안녕\n",
      "안녕\n"
     ]
    }
   ],
   "source": [
    "for i in range(6):\n",
    "    print('안녕')"
   ]
  },
  {
   "cell_type": "markdown",
   "id": "d48761d8",
   "metadata": {},
   "source": [
    "## 실습\n",
    "* 프로그램 만들기\n",
    "* 입력: 문자열을 3개 입력받습니다\n",
    "* 출력: 입력한 문자열이 모두 저장된 리스트\n",
    "* 출력 예시: 예를 들어, 'A','B','C'를 입력받았다면,['A','B','C']"
   ]
  },
  {
   "cell_type": "code",
   "execution_count": null,
   "id": "39a3297c",
   "metadata": {},
   "outputs": [],
   "source": [
    "A = input(\"1문자열을 입력하세요\")\n",
    "B = input(\"2문자열을 입력하세요\")\n",
    "C = input(\"3문자열을 입력하세요\")\n",
    "print([A,B,C])"
   ]
  },
  {
   "cell_type": "code",
   "execution_count": 15,
   "id": "62487654",
   "metadata": {},
   "outputs": [
    {
     "name": "stdout",
     "output_type": "stream",
     "text": [
      "문자열을 입력(현재 {i}번 째) : A\n",
      "['A']\n",
      "문자열을 입력(현재 {i}번 째) : B\n",
      "['A', 'B']\n",
      "문자열을 입력(현재 {i}번 째) : C\n",
      "['A', 'B', 'C']\n"
     ]
    }
   ],
   "source": [
    "x_list = []\n",
    "for i in range(1,4):\n",
    "    y = input('문자열을 입력(현재 {i}번 째) : ')\n",
    "    x_list.append(y)\n",
    "    print(x_list)"
   ]
  },
  {
   "cell_type": "code",
   "execution_count": 4,
   "id": "48622f7c",
   "metadata": {},
   "outputs": [],
   "source": [
    "l = []"
   ]
  },
  {
   "cell_type": "code",
   "execution_count": 5,
   "id": "fa65daea",
   "metadata": {},
   "outputs": [
    {
     "data": {
      "text/plain": [
       "['a']"
      ]
     },
     "execution_count": 5,
     "metadata": {},
     "output_type": "execute_result"
    }
   ],
   "source": [
    "l + ['a']"
   ]
  },
  {
   "cell_type": "code",
   "execution_count": 6,
   "id": "9ab49280",
   "metadata": {},
   "outputs": [],
   "source": [
    "l = l + ['a']"
   ]
  },
  {
   "cell_type": "code",
   "execution_count": 7,
   "id": "c0939ce8",
   "metadata": {},
   "outputs": [
    {
     "data": {
      "text/plain": [
       "['a']"
      ]
     },
     "execution_count": 7,
     "metadata": {},
     "output_type": "execute_result"
    }
   ],
   "source": [
    "l"
   ]
  },
  {
   "cell_type": "code",
   "execution_count": null,
   "id": "cd49a3ec",
   "metadata": {},
   "outputs": [],
   "source": [
    "#a = []\n",
    "for i in range(1,4):\n",
    "    i = input('1번째 문자열을 입력:')\n",
    "    B = input('2번째 문자열을 입력:')\n",
    "    C = input('3번째 문자열을 입력:')\n",
    "    SUM = '['+ i + ',' + B + ',' + C + ']'\n",
    "    print(SUM)\n",
    "    break"
   ]
  },
  {
   "cell_type": "code",
   "execution_count": null,
   "id": "88ddd83a",
   "metadata": {},
   "outputs": [],
   "source": [
    "a = []\n",
    "for x in range(3)\n",
    "    a += [input('1번째 문자열을 입력:')]\n",
    "    print(a)"
   ]
  },
  {
   "cell_type": "code",
   "execution_count": 4,
   "id": "5e1662cc",
   "metadata": {},
   "outputs": [
    {
     "name": "stdout",
     "output_type": "stream",
     "text": [
      "1번째 문자를 입력:1\n",
      "2번째 문자를 입력:2\n",
      "3번째 문자를 입력:3\n",
      "['1', '2', '3']\n"
     ]
    }
   ],
   "source": [
    "l = []\n",
    "\n",
    "for i in range(3):   # == 'abc'  range(3) == 0,1,2\n",
    "    x = [input(str(i+1) + '번째 문자를 입력:')]\n",
    "    l = l + x\n",
    "\n",
    "print(l)"
   ]
  },
  {
   "cell_type": "code",
   "execution_count": 8,
   "id": "e2548c6d",
   "metadata": {},
   "outputs": [
    {
     "name": "stdout",
     "output_type": "stream",
     "text": [
      "1문자 45\n",
      "2문자 4\n",
      "3문자 56\n",
      "['45', '4', '56']\n"
     ]
    }
   ],
   "source": [
    "l = []\n",
    "\n",
    "for i in ['1문자 ','2문자 ','3문자 ']:\n",
    "    x = [input(i)]\n",
    "    l = l + x\n",
    "\n",
    "print(l)"
   ]
  },
  {
   "cell_type": "code",
   "execution_count": 39,
   "id": "4251d0f4",
   "metadata": {},
   "outputs": [
    {
     "ename": "TypeError",
     "evalue": "can only concatenate list (not \"int\") to list",
     "output_type": "error",
     "traceback": [
      "\u001b[1;31m---------------------------------------------------------------------------\u001b[0m",
      "\u001b[1;31mTypeError\u001b[0m                                 Traceback (most recent call last)",
      "Cell \u001b[1;32mIn[39], line 5\u001b[0m\n\u001b[0;32m      3\u001b[0m \u001b[38;5;28;01mfor\u001b[39;00m i \u001b[38;5;129;01min\u001b[39;00m \u001b[38;5;28mrange\u001b[39m(\u001b[38;5;241m0\u001b[39m,\u001b[38;5;241m15\u001b[39m,\u001b[38;5;241m2\u001b[39m):\n\u001b[0;32m      4\u001b[0m     i \u001b[38;5;241m=\u001b[39m \u001b[38;5;241m0\u001b[39m\n\u001b[1;32m----> 5\u001b[0m     l \u001b[38;5;241m=\u001b[39m l \u001b[38;5;241m+\u001b[39m i\n\u001b[0;32m      7\u001b[0m l\n",
      "\u001b[1;31mTypeError\u001b[0m: can only concatenate list (not \"int\") to list"
     ]
    }
   ],
   "source": [
    "l = []\n",
    "\n",
    "for i in range(0,15,2):\n",
    "    i = 0\n",
    "    l = l + i\n",
    "    \n",
    "print(l)"
   ]
  },
  {
   "cell_type": "code",
   "execution_count": 17,
   "id": "167383b8",
   "metadata": {},
   "outputs": [
    {
     "data": {
      "text/plain": [
       "[0, 2, 4, 6, 8, 10, 12, 14]"
      ]
     },
     "execution_count": 17,
     "metadata": {},
     "output_type": "execute_result"
    }
   ],
   "source": [
    "list(range(0,15,2))"
   ]
  },
  {
   "cell_type": "code",
   "execution_count": 33,
   "id": "70016d80",
   "metadata": {},
   "outputs": [
    {
     "data": {
      "text/plain": [
       "[40, 36, 32, 28, 24, 20, 16, 12, 8, 4]"
      ]
     },
     "execution_count": 33,
     "metadata": {},
     "output_type": "execute_result"
    }
   ],
   "source": [
    "[i*4 for i in range(10,0,-1)] # {} 반대 []"
   ]
  },
  {
   "cell_type": "code",
   "execution_count": 28,
   "id": "d550457c",
   "metadata": {},
   "outputs": [
    {
     "data": {
      "text/plain": [
       "[40, 36, 32, 28, 24, 20, 16, 12, 8, 4]"
      ]
     },
     "execution_count": 28,
     "metadata": {},
     "output_type": "execute_result"
    }
   ],
   "source": [
    "list(range(40,3,-4))"
   ]
  },
  {
   "cell_type": "code",
   "execution_count": 49,
   "id": "b076e243",
   "metadata": {},
   "outputs": [
    {
     "data": {
      "text/plain": [
       "[40, 36, 32, 28, 24, 20, 16, 12, 8, 4]"
      ]
     },
     "execution_count": 49,
     "metadata": {},
     "output_type": "execute_result"
    }
   ],
   "source": [
    "l = []\n",
    "for i in range(10,0,-1):\n",
    "    l += [i*4]\n",
    "l"
   ]
  },
  {
   "cell_type": "markdown",
   "id": "7baa0675",
   "metadata": {},
   "source": [
    "프로그램 제작 조건\n",
    "a.숫자 하나를 입력받는다\n",
    "b.1부터 입력받은 숫자까지의 범위에서 짝수를 출력\n",
    "\n",
    "[출력예시]\n",
    "(숫자 6을 입력한 경우)\n",
    "2 4 6"
   ]
  },
  {
   "cell_type": "code",
   "execution_count": 20,
   "id": "2a20d609",
   "metadata": {},
   "outputs": [
    {
     "name": "stdout",
     "output_type": "stream",
     "text": [
      "숫자를 입력하세요 : 6\n"
     ]
    }
   ],
   "source": [
    "#A = []\n",
    "A = input('숫자를 입력하세요 : ')\n",
    "A = int(A)\n",
    "\n",
    "    #A += [i]"
   ]
  },
  {
   "cell_type": "code",
   "execution_count": 25,
   "id": "aa538c73",
   "metadata": {},
   "outputs": [
    {
     "name": "stdout",
     "output_type": "stream",
     "text": [
      "2\n",
      "4\n",
      "6\n"
     ]
    }
   ],
   "source": [
    "for i in range(2,A+1,2):\n",
    "    print(i)"
   ]
  },
  {
   "cell_type": "code",
   "execution_count": 32,
   "id": "3111ad7b",
   "metadata": {},
   "outputs": [
    {
     "name": "stdout",
     "output_type": "stream",
     "text": [
      "2\n",
      "4\n",
      "6\n"
     ]
    }
   ],
   "source": [
    "for i in range(1,A+1,1):\n",
    "    if i % 2 == 0:\n",
    "        print(i)"
   ]
  },
  {
   "cell_type": "markdown",
   "id": "31144690",
   "metadata": {},
   "source": [
    "while 반복문"
   ]
  },
  {
   "cell_type": "code",
   "execution_count": 33,
   "id": "5ab3dc7d",
   "metadata": {},
   "outputs": [
    {
     "name": "stdout",
     "output_type": "stream",
     "text": [
      "1\n",
      "2\n",
      "3\n",
      "4\n",
      "5\n",
      "6\n",
      "7\n",
      "8\n",
      "9\n",
      "10\n"
     ]
    }
   ],
   "source": [
    "ind = 0\n",
    "while ind < 10:\n",
    "    ind += 1\n",
    "    print(ind)"
   ]
  },
  {
   "cell_type": "code",
   "execution_count": 34,
   "id": "8141c490",
   "metadata": {},
   "outputs": [
    {
     "name": "stdout",
     "output_type": "stream",
     "text": [
      "2\n",
      "4\n",
      "6\n",
      "8\n",
      "10\n",
      "12\n",
      "14\n",
      "16\n",
      "18\n"
     ]
    }
   ],
   "source": [
    "for i in range(2,20,2):\n",
    "    print(i)"
   ]
  },
  {
   "cell_type": "code",
   "execution_count": 36,
   "id": "7eb8b825",
   "metadata": {},
   "outputs": [
    {
     "name": "stdout",
     "output_type": "stream",
     "text": [
      "2\n",
      "4\n",
      "6\n",
      "8\n",
      "10\n",
      "12\n",
      "14\n",
      "16\n",
      "18\n"
     ]
    }
   ],
   "source": [
    "x = 2\n",
    "\n",
    "while x < 20:\n",
    "    print(x)\n",
    "    x += 2"
   ]
  },
  {
   "cell_type": "raw",
   "id": "514767f1",
   "metadata": {},
   "source": [
    "5!\n",
    "\n",
    "5*4*3*2*1 = 120"
   ]
  },
  {
   "cell_type": "code",
   "execution_count": 7,
   "id": "04109aad",
   "metadata": {},
   "outputs": [
    {
     "name": "stdout",
     "output_type": "stream",
     "text": [
      "숫자를 적으시오 : 5\n"
     ]
    }
   ],
   "source": [
    "x = int(input('숫자를 적으시오 : '))\n",
    "re = 1\n",
    "#x = int(x)"
   ]
  },
  {
   "cell_type": "code",
   "execution_count": 8,
   "id": "d5bc8ace",
   "metadata": {},
   "outputs": [
    {
     "name": "stdout",
     "output_type": "stream",
     "text": [
      "120\n"
     ]
    }
   ],
   "source": [
    "while 1 <= x:\n",
    "    re *= x\n",
    "    x -= 1\n",
    "  \n",
    "print(re)"
   ]
  },
  {
   "cell_type": "code",
   "execution_count": 3,
   "id": "5db58577",
   "metadata": {},
   "outputs": [
    {
     "name": "stdout",
     "output_type": "stream",
     "text": [
      "숫자 하나 입력 : 5\n",
      "120\n"
     ]
    }
   ],
   "source": [
    "x = int(input('숫자 하나 입력 : '))\n",
    "\n",
    "re = 1\n",
    "\n",
    "for i in range(x,0,-1):\n",
    "    re *= i\n",
    "\n",
    "print(re)"
   ]
  },
  {
   "cell_type": "code",
   "execution_count": 1,
   "id": "8d2c865d",
   "metadata": {},
   "outputs": [],
   "source": [
    "import math"
   ]
  },
  {
   "cell_type": "code",
   "execution_count": 2,
   "id": "1f97ae61",
   "metadata": {},
   "outputs": [
    {
     "data": {
      "text/plain": [
       "120"
      ]
     },
     "execution_count": 2,
     "metadata": {},
     "output_type": "execute_result"
    }
   ],
   "source": [
    "math.factorial(5)"
   ]
  },
  {
   "cell_type": "code",
   "execution_count": 5,
   "id": "74f5044e",
   "metadata": {},
   "outputs": [],
   "source": [
    "def factorial(x):   # 재귀함수\n",
    "    if x == 1:\n",
    "        return x\n",
    "    else:\n",
    "        return x * factorial(x-1)"
   ]
  },
  {
   "cell_type": "code",
   "execution_count": 9,
   "id": "4412c718",
   "metadata": {},
   "outputs": [
    {
     "data": {
      "text/plain": [
       "5040"
      ]
     },
     "execution_count": 9,
     "metadata": {},
     "output_type": "execute_result"
    }
   ],
   "source": [
    "factorial(7)"
   ]
  },
  {
   "cell_type": "code",
   "execution_count": null,
   "id": "91b9a046",
   "metadata": {},
   "outputs": [],
   "source": []
  },
  {
   "cell_type": "code",
   "execution_count": null,
   "id": "9b7a4838",
   "metadata": {},
   "outputs": [],
   "source": [
    "\n"
   ]
  },
  {
   "cell_type": "code",
   "execution_count": 21,
   "id": "67d9a759",
   "metadata": {},
   "outputs": [],
   "source": [
    "for i in range(10):\n",
    "    #print(i)\n",
    "    pass #break #continue\n",
    "    #print('안녕')"
   ]
  },
  {
   "cell_type": "code",
   "execution_count": 13,
   "id": "78f95106",
   "metadata": {},
   "outputs": [
    {
     "name": "stdout",
     "output_type": "stream",
     "text": [
      "안녕\n",
      "안녕\n",
      "안녕\n",
      "안녕\n",
      "안녕\n",
      "안녕\n",
      "안녕\n",
      "안녕\n",
      "안녕\n",
      "안녕\n"
     ]
    }
   ],
   "source": [
    "for i in range(10):\n",
    "    print('안녕')"
   ]
  },
  {
   "cell_type": "code",
   "execution_count": null,
   "id": "9cfc8153",
   "metadata": {},
   "outputs": [],
   "source": []
  },
  {
   "cell_type": "markdown",
   "id": "ca838ee9",
   "metadata": {},
   "source": [
    "For문 다중 루프"
   ]
  },
  {
   "cell_type": "code",
   "execution_count": 29,
   "id": "29b0c2f6",
   "metadata": {},
   "outputs": [
    {
     "name": "stdout",
     "output_type": "stream",
     "text": [
      "0 번째 A 변수가 바뀌는 반복문입니다\n",
      "0 번째 B 변수가 바뀌는 반복문입니다\n",
      "1 번째 B 변수가 바뀌는 반복문입니다\n",
      "2 번째 B 변수가 바뀌는 반복문입니다\n",
      "1 번째 A 변수가 바뀌는 반복문입니다\n",
      "0 번째 B 변수가 바뀌는 반복문입니다\n",
      "1 번째 B 변수가 바뀌는 반복문입니다\n",
      "2 번째 B 변수가 바뀌는 반복문입니다\n",
      "2 번째 A 변수가 바뀌는 반복문입니다\n",
      "0 번째 B 변수가 바뀌는 반복문입니다\n",
      "1 번째 B 변수가 바뀌는 반복문입니다\n",
      "2 번째 B 변수가 바뀌는 반복문입니다\n",
      "3 번째 A 변수가 바뀌는 반복문입니다\n",
      "0 번째 B 변수가 바뀌는 반복문입니다\n",
      "1 번째 B 변수가 바뀌는 반복문입니다\n",
      "2 번째 B 변수가 바뀌는 반복문입니다\n",
      "4 번째 A 변수가 바뀌는 반복문입니다\n",
      "0 번째 B 변수가 바뀌는 반복문입니다\n",
      "1 번째 B 변수가 바뀌는 반복문입니다\n",
      "2 번째 B 변수가 바뀌는 반복문입니다\n",
      "5 번째 A 변수가 바뀌는 반복문입니다\n",
      "0 번째 B 변수가 바뀌는 반복문입니다\n",
      "1 번째 B 변수가 바뀌는 반복문입니다\n",
      "2 번째 B 변수가 바뀌는 반복문입니다\n",
      "6 번째 A 변수가 바뀌는 반복문입니다\n",
      "0 번째 B 변수가 바뀌는 반복문입니다\n",
      "1 번째 B 변수가 바뀌는 반복문입니다\n",
      "2 번째 B 변수가 바뀌는 반복문입니다\n",
      "7 번째 A 변수가 바뀌는 반복문입니다\n",
      "0 번째 B 변수가 바뀌는 반복문입니다\n",
      "1 번째 B 변수가 바뀌는 반복문입니다\n",
      "2 번째 B 변수가 바뀌는 반복문입니다\n",
      "8 번째 A 변수가 바뀌는 반복문입니다\n",
      "0 번째 B 변수가 바뀌는 반복문입니다\n",
      "1 번째 B 변수가 바뀌는 반복문입니다\n",
      "2 번째 B 변수가 바뀌는 반복문입니다\n",
      "9 번째 A 변수가 바뀌는 반복문입니다\n",
      "0 번째 B 변수가 바뀌는 반복문입니다\n",
      "1 번째 B 변수가 바뀌는 반복문입니다\n",
      "2 번째 B 변수가 바뀌는 반복문입니다\n"
     ]
    }
   ],
   "source": [
    "for A in range(10):\n",
    "    print(A, '번째 A 변수가 바뀌는 반복문입니다')\n",
    "    \n",
    "    for B in range(3):\n",
    "        print(B, '번째 B 변수가 바뀌는 반복문입니다')"
   ]
  },
  {
   "cell_type": "markdown",
   "id": "611c4164",
   "metadata": {},
   "source": [
    "실습\n",
    "* sq 변수의 각 값을 아래와 같이 출력하라\n",
    "---\n",
    "* 출력 예시 1</br>\n",
    "1 2 3</br>\n",
    "4 5 6</br>\n",
    "7 8 9</br>\n",
    "\n",
    "* 출력 예시 2</br>\n",
    "1 2 3 4 5 6 7 8 9"
   ]
  },
  {
   "cell_type": "code",
   "execution_count": 56,
   "id": "eb291d20",
   "metadata": {},
   "outputs": [],
   "source": [
    "sq = [[1,2,3],[4,5,6],[7,8,9]]"
   ]
  },
  {
   "cell_type": "code",
   "execution_count": 101,
   "id": "7d32663e",
   "metadata": {},
   "outputs": [
    {
     "name": "stdout",
     "output_type": "stream",
     "text": [
      "3\n",
      "[[1, 2, 3], [4, 5, 6], [7, 8, 9]]\n",
      "range(0, 3)\n"
     ]
    }
   ],
   "source": [
    "print(sq[0][2])\n",
    "print(sq)\n",
    "print(range(3))"
   ]
  },
  {
   "cell_type": "code",
   "execution_count": 63,
   "id": "5f31b5d6",
   "metadata": {},
   "outputs": [
    {
     "name": "stdout",
     "output_type": "stream",
     "text": [
      "[1, 2, 3]\n",
      "[4, 5, 6]\n",
      "[7, 8, 9]\n"
     ]
    }
   ],
   "source": [
    "for i in range(3):\n",
    "    #print(sq)\n",
    "    for b in range(1):\n",
    "        print(sq[i])"
   ]
  },
  {
   "cell_type": "code",
   "execution_count": 64,
   "id": "b72c1eb6",
   "metadata": {},
   "outputs": [
    {
     "name": "stdout",
     "output_type": "stream",
     "text": [
      "[1, 2, 3]\n",
      "[4, 5, 6]\n",
      "[7, 8, 9]\n"
     ]
    }
   ],
   "source": [
    "for i in sq:\n",
    "    print(i)"
   ]
  },
  {
   "cell_type": "code",
   "execution_count": 99,
   "id": "3777536b",
   "metadata": {},
   "outputs": [
    {
     "name": "stdout",
     "output_type": "stream",
     "text": [
      "1 2 3 4 5 6 7 8 9 "
     ]
    }
   ],
   "source": [
    "for i in range(3):\n",
    "    for b in range(3):\n",
    "        print(sq[i][b], end=' ')\n",
    "    "
   ]
  },
  {
   "cell_type": "code",
   "execution_count": 128,
   "id": "e0b5582b",
   "metadata": {},
   "outputs": [
    {
     "name": "stdout",
     "output_type": "stream",
     "text": [
      "1 2 3 \n",
      "4 5 6 \n",
      "7 8 9 \n"
     ]
    }
   ],
   "source": [
    "for i in sq:\n",
    "    for j in i :\n",
    "        print(j, end=' ')\n",
    "        \n",
    "    print()"
   ]
  },
  {
   "cell_type": "code",
   "execution_count": 125,
   "id": "aeaaccd3",
   "metadata": {
    "scrolled": true
   },
   "outputs": [
    {
     "name": "stdout",
     "output_type": "stream",
     "text": [
      "1\n",
      " 2\n",
      " 3\n",
      " 4\n",
      " 5\n",
      " 6\n",
      " 7\n",
      " 8\n",
      " 9\n",
      " "
     ]
    }
   ],
   "source": [
    "jump = ' '\n",
    "for i in sq:\n",
    "    for j in i:\n",
    "        print(j, end='\\n'+jump)\n",
    "            #print(j, end=' ')\n",
    "                "
   ]
  },
  {
   "cell_type": "code",
   "execution_count": 115,
   "id": "dc787a9e",
   "metadata": {},
   "outputs": [
    {
     "ename": "IndentationError",
     "evalue": "unexpected indent (4039217750.py, line 4)",
     "output_type": "error",
     "traceback": [
      "\u001b[1;36m  Cell \u001b[1;32mIn[115], line 4\u001b[1;36m\u001b[0m\n\u001b[1;33m    print(sq[i][b], end=' ')\u001b[0m\n\u001b[1;37m    ^\u001b[0m\n\u001b[1;31mIndentationError\u001b[0m\u001b[1;31m:\u001b[0m unexpected indent\n"
     ]
    }
   ],
   "source": [
    "for i in range(3):\n",
    "    for b in range(3):\n",
    "        print(sq[i][b], end='\\n')\n",
    "            print(sq[i][b], end=' ')"
   ]
  },
  {
   "cell_type": "markdown",
   "id": "39f394ce",
   "metadata": {},
   "source": [
    "while문 다중 루프"
   ]
  },
  {
   "cell_type": "code",
   "execution_count": 1,
   "id": "85d8a1e4",
   "metadata": {},
   "outputs": [],
   "source": [
    "sq = [[1,2,3],[4,5,6],[7,8,9]]"
   ]
  },
  {
   "cell_type": "code",
   "execution_count": 1,
   "id": "afea16ac",
   "metadata": {},
   "outputs": [
    {
     "name": "stdout",
     "output_type": "stream",
     "text": [
      "0\n",
      "1\n",
      "2\n"
     ]
    }
   ],
   "source": [
    "i = 0\n",
    "\n",
    "while i < 3:\n",
    "    print(i)\n",
    "    i += 1"
   ]
  },
  {
   "cell_type": "code",
   "execution_count": 7,
   "id": "d5dffb73",
   "metadata": {},
   "outputs": [
    {
     "name": "stdout",
     "output_type": "stream",
     "text": [
      "1 2 3 \n",
      "4 5 6 \n",
      "7 8 9 \n"
     ]
    }
   ],
   "source": [
    "i = 0\n",
    "\n",
    "while i < 3:\n",
    "    j = 0\n",
    "    \n",
    "    while j < 3:\n",
    "        print(sq[i][j], end=' ')\n",
    "        j += 1\n",
    "    i += 1\n",
    "    print()"
   ]
  },
  {
   "cell_type": "code",
   "execution_count": 4,
   "id": "ed878294",
   "metadata": {},
   "outputs": [
    {
     "name": "stdout",
     "output_type": "stream",
     "text": [
      "[1, 2, 3] [4, 5, 6] [7, 8, 9] "
     ]
    }
   ],
   "source": [
    "i = 0\n",
    "\n",
    "while i < 3:\n",
    "    print(sq[i], end=' ')\n",
    "    i += 1"
   ]
  },
  {
   "cell_type": "markdown",
   "id": "1b016855",
   "metadata": {},
   "source": []
  },
  {
   "cell_type": "code",
   "execution_count": null,
   "id": "fa632acb",
   "metadata": {},
   "outputs": [],
   "source": []
  },
  {
   "cell_type": "markdown",
   "id": "f6e13213",
   "metadata": {},
   "source": [
    "조건문 if elif else"
   ]
  },
  {
   "cell_type": "code",
   "execution_count": 12,
   "id": "84ca4ba7",
   "metadata": {},
   "outputs": [
    {
     "data": {
      "text/plain": [
       "False"
      ]
     },
     "execution_count": 12,
     "metadata": {},
     "output_type": "execute_result"
    }
   ],
   "source": [
    "4 > 5"
   ]
  },
  {
   "cell_type": "code",
   "execution_count": 20,
   "id": "11feb5dc",
   "metadata": {},
   "outputs": [
    {
     "name": "stdout",
     "output_type": "stream",
     "text": [
      "equal\n"
     ]
    }
   ],
   "source": [
    "if 4 > 5:\n",
    "    print('T')\n",
    "elif 5 == 5:\n",
    "    print('equal')\n",
    "else:\n",
    "    print('F')"
   ]
  },
  {
   "cell_type": "markdown",
   "id": "1e91e869",
   "metadata": {},
   "source": [
    "## 실습\n",
    "* 1부터 입력받은 숫자까지이 범위 (step=1) 에서, 짝수만 출력하는 프로그램 만들기"
   ]
  },
  {
   "cell_type": "code",
   "execution_count": 44,
   "id": "238d3d87",
   "metadata": {},
   "outputs": [
    {
     "name": "stdout",
     "output_type": "stream",
     "text": [
      "입력한 숫자 : 12\n"
     ]
    }
   ],
   "source": [
    "i = int(input('입력한 숫자 : '))  # 숫자 입력 창\n",
    "#x = 0"
   ]
  },
  {
   "cell_type": "code",
   "execution_count": 33,
   "id": "3b728ff8",
   "metadata": {},
   "outputs": [
    {
     "name": "stdout",
     "output_type": "stream",
     "text": [
      "0\n"
     ]
    }
   ],
   "source": [
    "for i in range(0,x+1,1):\n",
    "    print(x*2)"
   ]
  },
  {
   "cell_type": "code",
   "execution_count": 45,
   "id": "b13b8e91",
   "metadata": {},
   "outputs": [
    {
     "name": "stdout",
     "output_type": "stream",
     "text": [
      "2\n",
      "4\n",
      "6\n",
      "8\n",
      "10\n",
      "12\n"
     ]
    }
   ],
   "source": [
    "for x in range(1, i+1 ,1):   # 1~입력받은 수까지 반복\n",
    "    if x % 2 == 0:   # 짝수인 경우\n",
    "        print(x)\n",
    "    else:   # 홀수인 경우\n",
    "        pass"
   ]
  },
  {
   "cell_type": "code",
   "execution_count": 63,
   "id": "747db523",
   "metadata": {},
   "outputs": [
    {
     "name": "stdout",
     "output_type": "stream",
     "text": [
      " 1\n",
      "  2\n",
      "   3\n",
      "    4\n",
      "     5\n",
      "      6\n",
      "       7\n",
      "        8\n",
      "         9\n"
     ]
    }
   ],
   "source": [
    "sq = [[1,2,3],[4,5,6],[7,8,9]]\n",
    "x = 0\n",
    "for i in range(3):\n",
    "    for j in range(3):\n",
    "        print(' '*x,sq[i][j])\n",
    "        x += 1"
   ]
  },
  {
   "cell_type": "code",
   "execution_count": 47,
   "id": "276857f3",
   "metadata": {},
   "outputs": [
    {
     "name": "stdout",
     "output_type": "stream",
     "text": [
      " 1        9\n",
      "  2      8\n",
      "   3    7\n",
      "    4  6\n",
      "     5\n"
     ]
    }
   ],
   "source": [
    "sq = [[1,2,3], [4,5,6], [7,8,9]]\n",
    "a = 0\n",
    "for i in range(2):\n",
    "    for j in range(3):\n",
    "        if i == 1 and j == 1:\n",
    "            print(' '*a, sq[i][j])\n",
    "            break\n",
    "        print(' '*a, sq[i][j], ' '*(6-2*a), sq[2-i][2-j])\n",
    "        a += 1"
   ]
  },
  {
   "cell_type": "code",
   "execution_count": null,
   "id": "6dc2a012",
   "metadata": {},
   "outputs": [],
   "source": []
  }
 ],
 "metadata": {
  "kernelspec": {
   "display_name": "Python 3 (ipykernel)",
   "language": "python",
   "name": "python3"
  },
  "language_info": {
   "codemirror_mode": {
    "name": "ipython",
    "version": 3
   },
   "file_extension": ".py",
   "mimetype": "text/x-python",
   "name": "python",
   "nbconvert_exporter": "python",
   "pygments_lexer": "ipython3",
   "version": "3.11.7"
  }
 },
 "nbformat": 4,
 "nbformat_minor": 5
}
