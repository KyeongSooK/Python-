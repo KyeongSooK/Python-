{
 "cells": [
  {
   "cell_type": "code",
   "execution_count": 89,
   "id": "3b64cbe8",
   "metadata": {},
   "outputs": [],
   "source": [
    "# 크롤러 5/31일 불가능 6/1일부터 가능"
   ]
  },
  {
   "cell_type": "code",
   "execution_count": 79,
   "id": "d55c1085",
   "metadata": {},
   "outputs": [],
   "source": [
    "from datetime import datetime    # datetime. 한단어 줄일수 있다.\n",
    "from bs4 import BeautifulSoup\n",
    "import requests\n",
    "import pandas as pd"
   ]
  },
  {
   "cell_type": "code",
   "execution_count": 80,
   "id": "5bf5dd53",
   "metadata": {},
   "outputs": [],
   "source": [
    "yyyy = datetime.today().year            "
   ]
  },
  {
   "cell_type": "code",
   "execution_count": 81,
   "id": "eeb247df",
   "metadata": {},
   "outputs": [],
   "source": [
    "# 구글 학술논문 페이지에서 'education' 검색한 결과값\n",
    "keyword = 'education'\n",
    "\n",
    "ylo = yyyy - 2   # as_ylo  \n",
    "yhi = yyyy   # as_yhi   \n",
    "\n",
    "# 현재 연도를 구하는 방법\n",
    "\n",
    "#url의 페이지시작 start url의 페이지시작 end\n",
    "#start = (page - 1) * 10\n",
    "start = 0\n",
    "\n",
    "url = f'https://scholar.google.co.kr/scholar?start={start}&q=education&hl=ko&as_sdt=0,5&as_ylo={ylo}&as_yhi={yhi}'"
   ]
  },
  {
   "cell_type": "code",
   "execution_count": 82,
   "id": "7375cacf",
   "metadata": {},
   "outputs": [
    {
     "data": {
      "text/plain": [
       "'https://scholar.google.co.kr/scholar?start=0&q=education&hl=ko&as_sdt=0,5&as_ylo=2022&as_yhi=2024'"
      ]
     },
     "execution_count": 82,
     "metadata": {},
     "output_type": "execute_result"
    }
   ],
   "source": [
    "url"
   ]
  },
  {
   "cell_type": "code",
   "execution_count": 83,
   "id": "1d3a529c",
   "metadata": {},
   "outputs": [],
   "source": [
    "content = requests.get(url).content # url를 받아서 content 만들고 # 자주돌리지말기 구글에서 막음\n",
    "soup = BeautifulSoup(content, 'html.parser') # "
   ]
  },
  {
   "cell_type": "code",
   "execution_count": 84,
   "id": "48c8d1d7",
   "metadata": {
    "scrolled": true
   },
   "outputs": [],
   "source": [
    "title = [s.text for s in soup.select('h3.gs_rt')]   # title"
   ]
  },
  {
   "cell_type": "code",
   "execution_count": 85,
   "id": "82050e21",
   "metadata": {},
   "outputs": [
    {
     "data": {
      "text/plain": [
       "[]"
      ]
     },
     "execution_count": 85,
     "metadata": {},
     "output_type": "execute_result"
    }
   ],
   "source": [
    "[s.text for s in soup.select('h3.gs_rt')]"
   ]
  },
  {
   "cell_type": "code",
   "execution_count": 87,
   "id": "3bdb2b89",
   "metadata": {},
   "outputs": [],
   "source": [
    "title_url = [[s.text, s.select('a')[0]['href']] for s in soup.select('h3.gs_rt')]   # url 정보"
   ]
  },
  {
   "cell_type": "code",
   "execution_count": 88,
   "id": "faa7d1fb",
   "metadata": {},
   "outputs": [
    {
     "data": {
      "text/plain": [
       "[]"
      ]
     },
     "execution_count": 88,
     "metadata": {},
     "output_type": "execute_result"
    }
   ],
   "source": [
    "[s.text.replace('\\xa0',' ').split(' - ')[0] for s in soup.select('div.gs_a')]  # 저자o 저자명o 출판사x"
   ]
  },
  {
   "cell_type": "code",
   "execution_count": 43,
   "id": "99a38257",
   "metadata": {},
   "outputs": [],
   "source": [
    "author = [s.text.replace('\\xa0',' ').split(' - ')[0] for s in soup.select('div.gs_a')] # author"
   ]
  },
  {
   "cell_type": "code",
   "execution_count": 19,
   "id": "3edb233a",
   "metadata": {},
   "outputs": [
    {
     "data": {
      "text/plain": [
       "['Interactive Learning Environments, 2023',\n",
       " 'European Journal of Education, 2022',\n",
       " 'Principles and pedagogies in Jewish Education, 2022',\n",
       " '2022 IEEE International …, 2022',\n",
       " '2022',\n",
       " '2023',\n",
       " '2022',\n",
       " '… in Education, 2023',\n",
       " '2024',\n",
       " '2023']"
      ]
     },
     "execution_count": 19,
     "metadata": {},
     "output_type": "execute_result"
    }
   ],
   "source": [
    "[s.text.replace('\\xa0',' ').split(' - ')[1] for s in soup.select('div.gs_a')]"
   ]
  },
  {
   "cell_type": "code",
   "execution_count": 18,
   "id": "888d13f9",
   "metadata": {},
   "outputs": [
    {
     "data": {
      "text/plain": [
       "True"
      ]
     },
     "execution_count": 18,
     "metadata": {},
     "output_type": "execute_result"
    }
   ],
   "source": [
    "'2022'.isdigit() # 저문자형을 int 자료형 변환 할수 있는가 // 숫자인가 아닌가 확인하는 함수"
   ]
  },
  {
   "cell_type": "code",
   "execution_count": 33,
   "id": "fcf6d478",
   "metadata": {},
   "outputs": [],
   "source": [
    "# 가독성이   심해서져 함수 추가\n",
    "def is_year(x):\n",
    "    x = x.text.replace('\\xa0',' ').split(' - ')[1]\n",
    "    \n",
    "    if x.isdigit():                    # x가 숫자라면\n",
    "        return [float('nan'), x]  # nan 값이랑 숫자가 리턴\n",
    "    else:\n",
    "        return x.split(', ')       # 아니면 출간년도가 리턴"
   ]
  },
  {
   "cell_type": "code",
   "execution_count": 44,
   "id": "d0325f4d",
   "metadata": {},
   "outputs": [],
   "source": [
    "etc = [is_year(s) for s in soup.select('div.gs_a')]  # etc"
   ]
  },
  {
   "cell_type": "code",
   "execution_count": 45,
   "id": "c5b45b1d",
   "metadata": {},
   "outputs": [],
   "source": [
    "res_temp = pd.DataFrame(etc, columns=['journal','publsh_year'])\n",
    "res_temp['author'] = author\n",
    "res_temp2 = pd.DataFrame(title_url, columns=['title','url'])\n",
    "res_temp = pd.concat([res_temp, res_temp2], axis=1)"
   ]
  },
  {
   "cell_type": "code",
   "execution_count": 46,
   "id": "1bdb0a64",
   "metadata": {},
   "outputs": [
    {
     "data": {
      "text/html": [
       "<div>\n",
       "<style scoped>\n",
       "    .dataframe tbody tr th:only-of-type {\n",
       "        vertical-align: middle;\n",
       "    }\n",
       "\n",
       "    .dataframe tbody tr th {\n",
       "        vertical-align: top;\n",
       "    }\n",
       "\n",
       "    .dataframe thead th {\n",
       "        text-align: right;\n",
       "    }\n",
       "</style>\n",
       "<table border=\"1\" class=\"dataframe\">\n",
       "  <thead>\n",
       "    <tr style=\"text-align: right;\">\n",
       "      <th></th>\n",
       "      <th>journal</th>\n",
       "      <th>publsh_year</th>\n",
       "      <th>author</th>\n",
       "      <th>title</th>\n",
       "      <th>url</th>\n",
       "    </tr>\n",
       "  </thead>\n",
       "  <tbody>\n",
       "    <tr>\n",
       "      <th>0</th>\n",
       "      <td>Interactive Learning Environments</td>\n",
       "      <td>2023</td>\n",
       "      <td>I Adeshola, AP Adepoju</td>\n",
       "      <td>The opportunities and challenges of ChatGPT in...</td>\n",
       "      <td>https://www.tandfonline.com/doi/abs/10.1080/10...</td>\n",
       "    </tr>\n",
       "    <tr>\n",
       "      <th>1</th>\n",
       "      <td>European Journal of Education</td>\n",
       "      <td>2022</td>\n",
       "      <td>W Holmes, I Tuomi</td>\n",
       "      <td>State of the art and practice in AI in education</td>\n",
       "      <td>https://onlinelibrary.wiley.com/doi/abs/10.111...</td>\n",
       "    </tr>\n",
       "    <tr>\n",
       "      <th>2</th>\n",
       "      <td>Principles and pedagogies in Jewish Education</td>\n",
       "      <td>2022</td>\n",
       "      <td>B Chazan, B Chazan</td>\n",
       "      <td>[HTML][HTML] What Is “Education”?</td>\n",
       "      <td>https://link.springer.com/chapter/10.1007/978-...</td>\n",
       "    </tr>\n",
       "    <tr>\n",
       "      <th>3</th>\n",
       "      <td>2022 IEEE International …</td>\n",
       "      <td>2022</td>\n",
       "      <td>H Lin, S Wan, W Gan, J Chen…</td>\n",
       "      <td>Metaverse in education: Vision, opportunities,...</td>\n",
       "      <td>https://ieeexplore.ieee.org/abstract/document/...</td>\n",
       "    </tr>\n",
       "    <tr>\n",
       "      <th>4</th>\n",
       "      <td>NaN</td>\n",
       "      <td>2022</td>\n",
       "      <td>JH Pestalozzi</td>\n",
       "      <td>[책][B] The education of man: Aphorisms</td>\n",
       "      <td>https://books.google.co.kr/books?hl=ko&amp;lr=&amp;id=...</td>\n",
       "    </tr>\n",
       "    <tr>\n",
       "      <th>5</th>\n",
       "      <td>NaN</td>\n",
       "      <td>2023</td>\n",
       "      <td>D Glendenning</td>\n",
       "      <td>[책][B] Education and the Law</td>\n",
       "      <td>https://books.google.co.kr/books?hl=ko&amp;lr=&amp;id=...</td>\n",
       "    </tr>\n",
       "    <tr>\n",
       "      <th>6</th>\n",
       "      <td>NaN</td>\n",
       "      <td>2022</td>\n",
       "      <td>SS Ravi</td>\n",
       "      <td>[책][B] A comprehensive study of education</td>\n",
       "      <td>https://books.google.co.kr/books?hl=ko&amp;lr=&amp;id=...</td>\n",
       "    </tr>\n",
       "    <tr>\n",
       "      <th>7</th>\n",
       "      <td>… in Education</td>\n",
       "      <td>2023</td>\n",
       "      <td>J Dempere, K Modugu, A Hesham…</td>\n",
       "      <td>[HTML][HTML] The impact of ChatGPT on higher e...</td>\n",
       "      <td>https://www.frontiersin.org/articles/10.3389/f...</td>\n",
       "    </tr>\n",
       "    <tr>\n",
       "      <th>8</th>\n",
       "      <td>NaN</td>\n",
       "      <td>2024</td>\n",
       "      <td>S Bartlett, D Burton</td>\n",
       "      <td>[책][B] Introduction to education studies</td>\n",
       "      <td>https://books.google.co.kr/books?hl=ko&amp;lr=&amp;id=...</td>\n",
       "    </tr>\n",
       "    <tr>\n",
       "      <th>9</th>\n",
       "      <td>NaN</td>\n",
       "      <td>2023</td>\n",
       "      <td>EA Hanushek, L Woessmann, SJ Machin</td>\n",
       "      <td>[책][B] Handbook of the economics of education</td>\n",
       "      <td>https://books.google.co.kr/books?hl=ko&amp;lr=&amp;id=...</td>\n",
       "    </tr>\n",
       "  </tbody>\n",
       "</table>\n",
       "</div>"
      ],
      "text/plain": [
       "                                         journal publsh_year  \\\n",
       "0              Interactive Learning Environments        2023   \n",
       "1                  European Journal of Education        2022   \n",
       "2  Principles and pedagogies in Jewish Education        2022   \n",
       "3                      2022 IEEE International …        2022   \n",
       "4                                            NaN        2022   \n",
       "5                                            NaN        2023   \n",
       "6                                            NaN        2022   \n",
       "7                                 … in Education        2023   \n",
       "8                                            NaN        2024   \n",
       "9                                            NaN        2023   \n",
       "\n",
       "                                author  \\\n",
       "0               I Adeshola, AP Adepoju   \n",
       "1                    W Holmes, I Tuomi   \n",
       "2                   B Chazan, B Chazan   \n",
       "3         H Lin, S Wan, W Gan, J Chen…   \n",
       "4                        JH Pestalozzi   \n",
       "5                        D Glendenning   \n",
       "6                              SS Ravi   \n",
       "7       J Dempere, K Modugu, A Hesham…   \n",
       "8                 S Bartlett, D Burton   \n",
       "9  EA Hanushek, L Woessmann, SJ Machin   \n",
       "\n",
       "                                               title  \\\n",
       "0  The opportunities and challenges of ChatGPT in...   \n",
       "1   State of the art and practice in AI in education   \n",
       "2                  [HTML][HTML] What Is “Education”?   \n",
       "3  Metaverse in education: Vision, opportunities,...   \n",
       "4             [책][B] The education of man: Aphorisms   \n",
       "5                       [책][B] Education and the Law   \n",
       "6          [책][B] A comprehensive study of education   \n",
       "7  [HTML][HTML] The impact of ChatGPT on higher e...   \n",
       "8           [책][B] Introduction to education studies   \n",
       "9      [책][B] Handbook of the economics of education   \n",
       "\n",
       "                                                 url  \n",
       "0  https://www.tandfonline.com/doi/abs/10.1080/10...  \n",
       "1  https://onlinelibrary.wiley.com/doi/abs/10.111...  \n",
       "2  https://link.springer.com/chapter/10.1007/978-...  \n",
       "3  https://ieeexplore.ieee.org/abstract/document/...  \n",
       "4  https://books.google.co.kr/books?hl=ko&lr=&id=...  \n",
       "5  https://books.google.co.kr/books?hl=ko&lr=&id=...  \n",
       "6  https://books.google.co.kr/books?hl=ko&lr=&id=...  \n",
       "7  https://www.frontiersin.org/articles/10.3389/f...  \n",
       "8  https://books.google.co.kr/books?hl=ko&lr=&id=...  \n",
       "9  https://books.google.co.kr/books?hl=ko&lr=&id=...  "
      ]
     },
     "execution_count": 46,
     "metadata": {},
     "output_type": "execute_result"
    }
   ],
   "source": [
    "res_temp"
   ]
  },
  {
   "cell_type": "code",
   "execution_count": null,
   "id": "863debcb",
   "metadata": {},
   "outputs": [],
   "source": [
    "# 위에 CODING JOIN 결과"
   ]
  },
  {
   "cell_type": "code",
   "execution_count": 47,
   "id": "30d4450f",
   "metadata": {},
   "outputs": [],
   "source": [
    "from datetime import datetime    # datetime. 한단어 줄일수 있다.\n",
    "from bs4 import BeautifulSoup\n",
    "import requests\n",
    "import pandas as pd"
   ]
  },
  {
   "cell_type": "code",
   "execution_count": 48,
   "id": "15881789",
   "metadata": {},
   "outputs": [],
   "source": [
    "yyyy = datetime.today().year       "
   ]
  },
  {
   "cell_type": "code",
   "execution_count": 49,
   "id": "1fd7dbce",
   "metadata": {},
   "outputs": [],
   "source": [
    "# 구글 학술논문 페이지에서 'education' 검색한 결과값\n",
    "keyword = 'education'\n",
    "\n",
    "# 현재 연도를 구하는 방법\n",
    "ylo = yyyy - 2   # as_ylo  \n",
    "yhi = yyyy   # as_yhi   \n",
    "\n",
    "#url의 페이지시작 start url의 페이지시작 end\n",
    "#start = (page - 1) * 10\n",
    "start = 0"
   ]
  },
  {
   "cell_type": "markdown",
   "id": "64765b89",
   "metadata": {},
   "source": [
    "#### 1페이지 저널 만들기"
   ]
  },
  {
   "cell_type": "code",
   "execution_count": 76,
   "id": "e5acd9b1",
   "metadata": {},
   "outputs": [],
   "source": [
    "url = f'https://scholar.google.co.kr/scholar?start={start}&q={keyword}&hl=ko&as_sdt=0,5&as_ylo={ylo}&as_yhi={yhi}'\n",
    "\n",
    "content = requests.get(url).content # url를 받아서 content 만들고 # 자주돌리지말기 구글에서 막음\n",
    "soup = BeautifulSoup(content, 'html.parser') # \n",
    "\n",
    "title_url = [[s.text, s.select('a')[0]['href']] for s in soup.select('h3.gs_rt')]   # url 정보\n",
    "author = [s.text.replace('\\xa0',' ').split(' - ')[0] for s in soup.select('div.gs_a')] # author\n",
    "etc = [is_year(s) for s in soup.select('div.gs_a')]  # etc\n",
    "\n",
    "res_temp = pd.DataFrame(etc, columns=['journal','publsh_year'])\n",
    "res_temp['author'] = author\n",
    "res_temp2 = pd.DataFrame(title_url, columns=['title','url'])   # title , url\n",
    "res_temp = pd.concat([res_temp, res_temp2], axis=1)"
   ]
  },
  {
   "cell_type": "code",
   "execution_count": 77,
   "id": "d2b1d9c2",
   "metadata": {},
   "outputs": [
    {
     "data": {
      "text/html": [
       "<div>\n",
       "<style scoped>\n",
       "    .dataframe tbody tr th:only-of-type {\n",
       "        vertical-align: middle;\n",
       "    }\n",
       "\n",
       "    .dataframe tbody tr th {\n",
       "        vertical-align: top;\n",
       "    }\n",
       "\n",
       "    .dataframe thead th {\n",
       "        text-align: right;\n",
       "    }\n",
       "</style>\n",
       "<table border=\"1\" class=\"dataframe\">\n",
       "  <thead>\n",
       "    <tr style=\"text-align: right;\">\n",
       "      <th></th>\n",
       "      <th>journal</th>\n",
       "      <th>publsh_year</th>\n",
       "      <th>author</th>\n",
       "      <th>title</th>\n",
       "      <th>url</th>\n",
       "    </tr>\n",
       "  </thead>\n",
       "  <tbody>\n",
       "  </tbody>\n",
       "</table>\n",
       "</div>"
      ],
      "text/plain": [
       "Empty DataFrame\n",
       "Columns: [journal, publsh_year, author, title, url]\n",
       "Index: []"
      ]
     },
     "execution_count": 77,
     "metadata": {},
     "output_type": "execute_result"
    }
   ],
   "source": [
    "res_temp"
   ]
  },
  {
   "cell_type": "code",
   "execution_count": 52,
   "id": "10bcbc5a",
   "metadata": {},
   "outputs": [
    {
     "data": {
      "text/html": [
       "<div>\n",
       "<style scoped>\n",
       "    .dataframe tbody tr th:only-of-type {\n",
       "        vertical-align: middle;\n",
       "    }\n",
       "\n",
       "    .dataframe tbody tr th {\n",
       "        vertical-align: top;\n",
       "    }\n",
       "\n",
       "    .dataframe thead th {\n",
       "        text-align: right;\n",
       "    }\n",
       "</style>\n",
       "<table border=\"1\" class=\"dataframe\">\n",
       "  <thead>\n",
       "    <tr style=\"text-align: right;\">\n",
       "      <th></th>\n",
       "      <th>title</th>\n",
       "      <th>url</th>\n",
       "    </tr>\n",
       "  </thead>\n",
       "  <tbody>\n",
       "    <tr>\n",
       "      <th>0</th>\n",
       "      <td>The opportunities and challenges of ChatGPT in...</td>\n",
       "      <td>https://www.tandfonline.com/doi/abs/10.1080/10...</td>\n",
       "    </tr>\n",
       "    <tr>\n",
       "      <th>1</th>\n",
       "      <td>State of the art and practice in AI in education</td>\n",
       "      <td>https://onlinelibrary.wiley.com/doi/abs/10.111...</td>\n",
       "    </tr>\n",
       "    <tr>\n",
       "      <th>2</th>\n",
       "      <td>Metaverse in education: Vision, opportunities,...</td>\n",
       "      <td>https://ieeexplore.ieee.org/abstract/document/...</td>\n",
       "    </tr>\n",
       "    <tr>\n",
       "      <th>3</th>\n",
       "      <td>[책][B] The education of man: Aphorisms</td>\n",
       "      <td>https://books.google.co.kr/books?hl=ko&amp;lr=&amp;id=...</td>\n",
       "    </tr>\n",
       "    <tr>\n",
       "      <th>4</th>\n",
       "      <td>[책][B] Education and the Law</td>\n",
       "      <td>https://books.google.co.kr/books?hl=ko&amp;lr=&amp;id=...</td>\n",
       "    </tr>\n",
       "    <tr>\n",
       "      <th>5</th>\n",
       "      <td>Future of modern education system</td>\n",
       "      <td>https://conferencea.org/index.php/conferences/...</td>\n",
       "    </tr>\n",
       "    <tr>\n",
       "      <th>6</th>\n",
       "      <td>[책][B] A comprehensive study of education</td>\n",
       "      <td>https://books.google.co.kr/books?hl=ko&amp;lr=&amp;id=...</td>\n",
       "    </tr>\n",
       "    <tr>\n",
       "      <th>7</th>\n",
       "      <td>[HTML][HTML] The impact of ChatGPT on higher e...</td>\n",
       "      <td>https://www.frontiersin.org/articles/10.3389/f...</td>\n",
       "    </tr>\n",
       "    <tr>\n",
       "      <th>8</th>\n",
       "      <td>[책][B] Introduction to education studies</td>\n",
       "      <td>https://books.google.co.kr/books?hl=ko&amp;lr=&amp;id=...</td>\n",
       "    </tr>\n",
       "    <tr>\n",
       "      <th>9</th>\n",
       "      <td>[책][B] Handbook of the economics of education</td>\n",
       "      <td>https://books.google.co.kr/books?hl=ko&amp;lr=&amp;id=...</td>\n",
       "    </tr>\n",
       "  </tbody>\n",
       "</table>\n",
       "</div>"
      ],
      "text/plain": [
       "                                               title  \\\n",
       "0  The opportunities and challenges of ChatGPT in...   \n",
       "1   State of the art and practice in AI in education   \n",
       "2  Metaverse in education: Vision, opportunities,...   \n",
       "3             [책][B] The education of man: Aphorisms   \n",
       "4                       [책][B] Education and the Law   \n",
       "5                  Future of modern education system   \n",
       "6          [책][B] A comprehensive study of education   \n",
       "7  [HTML][HTML] The impact of ChatGPT on higher e...   \n",
       "8           [책][B] Introduction to education studies   \n",
       "9      [책][B] Handbook of the economics of education   \n",
       "\n",
       "                                                 url  \n",
       "0  https://www.tandfonline.com/doi/abs/10.1080/10...  \n",
       "1  https://onlinelibrary.wiley.com/doi/abs/10.111...  \n",
       "2  https://ieeexplore.ieee.org/abstract/document/...  \n",
       "3  https://books.google.co.kr/books?hl=ko&lr=&id=...  \n",
       "4  https://books.google.co.kr/books?hl=ko&lr=&id=...  \n",
       "5  https://conferencea.org/index.php/conferences/...  \n",
       "6  https://books.google.co.kr/books?hl=ko&lr=&id=...  \n",
       "7  https://www.frontiersin.org/articles/10.3389/f...  \n",
       "8  https://books.google.co.kr/books?hl=ko&lr=&id=...  \n",
       "9  https://books.google.co.kr/books?hl=ko&lr=&id=...  "
      ]
     },
     "execution_count": 52,
     "metadata": {},
     "output_type": "execute_result"
    }
   ],
   "source": [
    "res_temp2"
   ]
  },
  {
   "cell_type": "code",
   "execution_count": null,
   "id": "c87efa71",
   "metadata": {},
   "outputs": [],
   "source": [
    "# 5페이지 저널 만들기"
   ]
  },
  {
   "cell_type": "code",
   "execution_count": 66,
   "id": "758f5fad",
   "metadata": {},
   "outputs": [],
   "source": [
    "from datetime import datetime    # datetime. 한단어 줄일수 있다.\n",
    "from bs4 import BeautifulSoup\n",
    "import requests\n",
    "import pandas as pd\n",
    "import time\n",
    "import random"
   ]
  },
  {
   "cell_type": "code",
   "execution_count": 67,
   "id": "f20c32f2",
   "metadata": {},
   "outputs": [],
   "source": [
    "yyyy = datetime.today().year  "
   ]
  },
  {
   "cell_type": "code",
   "execution_count": 68,
   "id": "b27eec06",
   "metadata": {},
   "outputs": [],
   "source": [
    "# 구글 학술논문 페이지에서 'education' 검색한 결과값\n",
    "keyword = 'education'\n",
    "\n",
    "ylo = yyyy - 2   # as_ylo  \n",
    "yhi = yyyy   # as_yhi   \n",
    "\n",
    "# 현재 연도를 구하는 방법\n",
    "\n",
    "#url의 페이지시작 start url의 페이지시작 end\n",
    "#start = (page - 1) * 10\n",
    "start = 0"
   ]
  },
  {
   "cell_type": "code",
   "execution_count": 72,
   "id": "66c7cfed",
   "metadata": {},
   "outputs": [],
   "source": [
    "result = pd.DataFrame(columns=['journal','publsh_year','author','title','url'])\n",
    "\n",
    "for start in range(0,5):                                 # 6은 60개 크롤링 5로 변환\n",
    "    time.sleep(random.randint(1,5))                      # 접속을 덜 빠르게 함 // 랜덤하게 쉬게 해주는\n",
    "    url = f'https://scholar.google.co.kr/scholar?start={start}&q={keyword}&hl=ko&as_sdt=0,5&as_ylo={ylo}&as_yhi={yhi}'\n",
    "\n",
    "    content = requests.get(url).content # url를 받아서 content 만들고 # 자주돌리지말기 구글에서 막음\n",
    "    soup = BeautifulSoup(content, 'html.parser') # \n",
    "\n",
    "    title_url = [[s.text, s.select('a')[0]['href']] for s in soup.select('h3.gs_rt')]   # url 정보\n",
    "    author = [s.text.replace('\\xa0',' ').split(' - ')[0] for s in soup.select('div.gs_a')] # author\n",
    "    etc = [is_year(s) for s in soup.select('div.gs_a')]  # etc\n",
    "\n",
    "    res_temp = pd.DataFrame(etc, columns=['journal','publsh_year'])\n",
    "    res_temp['author'] = author\n",
    "    res_temp2 = pd.DataFrame(title_url, columns=['title','url'])   # title , url\n",
    "    res_temp = pd.concat([res_temp, res_temp2], axis=1)\n",
    "    result = pd.concat([result, res_temp], axis=0)            # "
   ]
  },
  {
   "cell_type": "code",
   "execution_count": 73,
   "id": "f9716806",
   "metadata": {},
   "outputs": [
    {
     "data": {
      "text/html": [
       "<div>\n",
       "<style scoped>\n",
       "    .dataframe tbody tr th:only-of-type {\n",
       "        vertical-align: middle;\n",
       "    }\n",
       "\n",
       "    .dataframe tbody tr th {\n",
       "        vertical-align: top;\n",
       "    }\n",
       "\n",
       "    .dataframe thead th {\n",
       "        text-align: right;\n",
       "    }\n",
       "</style>\n",
       "<table border=\"1\" class=\"dataframe\">\n",
       "  <thead>\n",
       "    <tr style=\"text-align: right;\">\n",
       "      <th></th>\n",
       "      <th>journal</th>\n",
       "      <th>publsh_year</th>\n",
       "      <th>author</th>\n",
       "      <th>title</th>\n",
       "      <th>url</th>\n",
       "    </tr>\n",
       "  </thead>\n",
       "  <tbody>\n",
       "  </tbody>\n",
       "</table>\n",
       "</div>"
      ],
      "text/plain": [
       "Empty DataFrame\n",
       "Columns: [journal, publsh_year, author, title, url]\n",
       "Index: []"
      ]
     },
     "execution_count": 73,
     "metadata": {},
     "output_type": "execute_result"
    }
   ],
   "source": [
    "result"
   ]
  },
  {
   "cell_type": "code",
   "execution_count": 74,
   "id": "9f818778",
   "metadata": {},
   "outputs": [
    {
     "data": {
      "text/html": [
       "<div>\n",
       "<style scoped>\n",
       "    .dataframe tbody tr th:only-of-type {\n",
       "        vertical-align: middle;\n",
       "    }\n",
       "\n",
       "    .dataframe tbody tr th {\n",
       "        vertical-align: top;\n",
       "    }\n",
       "\n",
       "    .dataframe thead th {\n",
       "        text-align: right;\n",
       "    }\n",
       "</style>\n",
       "<table border=\"1\" class=\"dataframe\">\n",
       "  <thead>\n",
       "    <tr style=\"text-align: right;\">\n",
       "      <th></th>\n",
       "      <th>journal</th>\n",
       "      <th>publsh_year</th>\n",
       "      <th>author</th>\n",
       "      <th>title</th>\n",
       "      <th>url</th>\n",
       "    </tr>\n",
       "  </thead>\n",
       "  <tbody>\n",
       "  </tbody>\n",
       "</table>\n",
       "</div>"
      ],
      "text/plain": [
       "Empty DataFrame\n",
       "Columns: [journal, publsh_year, author, title, url]\n",
       "Index: []"
      ]
     },
     "execution_count": 74,
     "metadata": {},
     "output_type": "execute_result"
    }
   ],
   "source": [
    "res_temp"
   ]
  },
  {
   "cell_type": "code",
   "execution_count": 75,
   "id": "90d2e77e",
   "metadata": {},
   "outputs": [
    {
     "data": {
      "text/plain": [
       "<!DOCTYPE html PUBLIC \"-//W3C//DTD HTML 4.01 Transitional//EN\">\n",
       "\n",
       "<html dir=\"LTR\">\n",
       "<head><meta content=\"text/html; charset=utf-8\" http-equiv=\"content-type\"/><meta content=\"initial-scale=1\" name=\"viewport\"/><title>https://scholar.google.co.kr/scholar?start=4&amp;q=education&amp;hl=ko&amp;as_sdt=0,5&amp;as_ylo=2022&amp;as_yhi=2024</title></head>\n",
       "<body onload=\"e=document.getElementById('captcha');if(e){e.focus();} if(solveSimpleChallenge) {solveSimpleChallenge(,);}\" style=\"font-family: arial, sans-serif; background-color: #fff; color: #000; padding:20px; font-size:18px; overscroll-behavior:contain;\">\n",
       "<div style=\"max-width:400px;\">\n",
       "<hr noshade=\"\" size=\"1\" style=\"color:#ccc; background-color:#ccc;\"/><br/>\n",
       "<form action=\"index\" id=\"captcha-form\" method=\"post\">\n",
       "<noscript>\n",
       "<div style=\"font-size:13px;\">\n",
       "계속하려면 웹브라우저에서 자바스크립트를 사용 설정해 주세요.\n",
       "</div>\n",
       "</noscript>\n",
       "<script async=\"\" defer=\"\" src=\"https://www.google.com/recaptcha/api.js\"></script>\n",
       "<script>var submitCallback = function(response) {document.getElementById('captcha-form').submit();};</script>\n",
       "<div class=\"g-recaptcha\" data-callback=\"submitCallback\" data-s=\"CtAyejeT1Z0-z1CHWXISk8162YnRQvSdzdOcK57cvvby2oSfKsKlLdjTFlHz83p4piTsgnG7POCKYfU0xNvM7TaL8HzSeW14g5Sj5YeNMYc3ZPkY4lnoOzSggrzBaKPvifuw22UswARR-KRoJPBa_DUs3gsvACaJ6JOWnmsYQongZ_60SyIjM4X34y64lNMYFGel6zC_irxpFpQLMV2mv3X1L32NqIjLje57ZWkqZ0csXSplzGXfCuUTQbw84_aapkzM5_c5THgrQElQUFRlemS7\" data-sitekey=\"6LfwuyUTAAAAAOAmoS0fdqijC2PbbdH4kjq62Y1b\" id=\"recaptcha\"></div>\n",
       "<input name=\"q\" type=\"hidden\" value=\"EgR5jKzDGKTH5LIGIiw4Ajw951jkJkqiOjZaS3LhLvdcavSjQN6T7hTrWMHbOFoYP5RsbGLoJab-sjIBcloBQw\"/><input name=\"continue\" type=\"hidden\" value=\"https://scholar.google.co.kr/scholar?start=4&amp;q=education&amp;hl=ko&amp;as_sdt=0,5&amp;as_ylo=2022&amp;as_yhi=2024\"/>\n",
       "</form>\n",
       "<hr noshade=\"\" size=\"1\" style=\"color:#ccc; background-color:#ccc;\"/>\n",
       "<div style=\"font-size:13px;\">\n",
       "<b>페이지 정보</b><br/><br/>\n",
       "\n",
       "Google의 시스템이 컴퓨터 네트워크에서 비정상적인 트래픽을 감지했습니다. 이 페이지는 로봇이 아니라 실제 사용자가 요청을 보내고 있는지를 확인하는 페이지입니다. <a href=\"#\" onclick=\"document.getElementById('infoDiv').style.display='block';\">왜 이런 현상이 발생하는 거죠?</a><br/><br/>\n",
       "<div id=\"infoDiv\" style=\"display:none; background-color:#eee; padding:10px; margin:0 0 15px 0; line-height:1.4em;\">\n",
       "해당 페이지는 Google이 자동으로 사용자의 컴퓨터 네트워크에서 <a href=\"//www.google.com/policies/terms/\">서비스 약관</a>을 위배하는 것으로 보이는 요청을 감지했을 때 표시됩니다. 요청이 중지되면 곧 차단이 해제됩니다. 그 전에 위의 보안문자를 입력하면 Google 서비스를 계속 사용할 수 있습니다. <br/><br/>비정상적인 트래픽은 자동으로 요청을 전송하는 악성 소프트웨어, 브라우저 플러그인 또는 스크립트에 의해 전송될 수 있습니다. 네트워크 연결을 공유하고 있다면 관리자에게 문의하여 동일한 IP주소를 사용하는 다른 컴퓨터에 문제가 있는지 확인하세요. <a href=\"//support.google.com/websearch/answer/86640\">자세히 알아보기</a><br/><br/>로봇이 사용한다고 알려진 고급 검색어를 사용하거나 요청을 매우 빠르게 전송하면  보안문자를 입력하도록 요청받을 수 있습니다.\n",
       "\n",
       "</div><br/>\n",
       "IP주소: 121.140.172.195<br/>시간: 2024-05-31T01:11:01Z<br/>URL: https://scholar.google.co.kr/scholar?start=4&amp;q=education&amp;hl=ko&amp;as_sdt=0,5&amp;as_ylo=2022&amp;as_yhi=2024<br/>\n",
       "</div></div>\n",
       "</body>\n",
       "</html>"
      ]
     },
     "execution_count": 75,
     "metadata": {},
     "output_type": "execute_result"
    }
   ],
   "source": [
    "soup # 과대한 트래픽은 자제하기 > 비정상적인 트래픽을 감지 구글확인 할수 있다"
   ]
  },
  {
   "cell_type": "code",
   "execution_count": null,
   "id": "cc0ee4f9",
   "metadata": {},
   "outputs": [],
   "source": []
  },
  {
   "cell_type": "code",
   "execution_count": null,
   "id": "4b0dd1f7",
   "metadata": {},
   "outputs": [],
   "source": []
  },
  {
   "cell_type": "code",
   "execution_count": null,
   "id": "b7554b2c",
   "metadata": {},
   "outputs": [],
   "source": []
  },
  {
   "cell_type": "code",
   "execution_count": null,
   "id": "bd9fa844",
   "metadata": {},
   "outputs": [],
   "source": []
  },
  {
   "cell_type": "code",
   "execution_count": null,
   "id": "d3136b73",
   "metadata": {},
   "outputs": [],
   "source": []
  }
 ],
 "metadata": {
  "kernelspec": {
   "display_name": "Python 3 (ipykernel)",
   "language": "python",
   "name": "python3"
  },
  "language_info": {
   "codemirror_mode": {
    "name": "ipython",
    "version": 3
   },
   "file_extension": ".py",
   "mimetype": "text/x-python",
   "name": "python",
   "nbconvert_exporter": "python",
   "pygments_lexer": "ipython3",
   "version": "3.11.7"
  }
 },
 "nbformat": 4,
 "nbformat_minor": 5
}
