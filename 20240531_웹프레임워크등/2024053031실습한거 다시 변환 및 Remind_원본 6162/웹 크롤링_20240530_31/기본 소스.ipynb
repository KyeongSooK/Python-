{
 "cells": [
  {
   "cell_type": "code",
   "execution_count": null,
   "id": "7c2eecc3",
   "metadata": {},
   "outputs": [],
   "source": [
    "# 소스 비교 확인"
   ]
  },
  {
   "cell_type": "code",
   "execution_count": null,
   "id": "9873891d",
   "metadata": {},
   "outputs": [],
   "source": [
    "li = []\n",
    "\n",
    "for s in spup.select('div.'):\n",
    "    s2 = s.select('a')\n",
    "    li.append(s2[0]['href'])"
   ]
  },
  {
   "cell_type": "code",
   "execution_count": null,
   "id": "bcc4329b",
   "metadata": {},
   "outputs": [],
   "source": [
    "[s['href'] for s in spup.select('div.')]"
   ]
  }
 ],
 "metadata": {
  "kernelspec": {
   "display_name": "Python 3 (ipykernel)",
   "language": "python",
   "name": "python3"
  },
  "language_info": {
   "codemirror_mode": {
    "name": "ipython",
    "version": 3
   },
   "file_extension": ".py",
   "mimetype": "text/x-python",
   "name": "python",
   "nbconvert_exporter": "python",
   "pygments_lexer": "ipython3",
   "version": "3.11.7"
  }
 },
 "nbformat": 4,
 "nbformat_minor": 5
}
