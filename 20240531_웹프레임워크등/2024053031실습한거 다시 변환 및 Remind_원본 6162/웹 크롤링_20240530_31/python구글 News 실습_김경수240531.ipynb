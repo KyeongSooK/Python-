{
 "cells": [
  {
   "cell_type": "markdown",
   "id": "fe0854c8",
   "metadata": {},
   "source": [
    "## 구글 아마존 뉴스 1페이지 크롤링 해보기"
   ]
  },
  {
   "cell_type": "code",
   "execution_count": 141,
   "id": "695ace90",
   "metadata": {},
   "outputs": [],
   "source": [
    "from datetime import datetime    # datetime. 한단어 줄일수 있다.\n",
    "from bs4 import BeautifulSoup\n",
    "import requests\n",
    "import pandas as pd"
   ]
  },
  {
   "cell_type": "code",
   "execution_count": 142,
   "id": "1ac03070",
   "metadata": {},
   "outputs": [],
   "source": [
    "# 연도 기준 필요없이"
   ]
  },
  {
   "cell_type": "code",
   "execution_count": 143,
   "id": "6a208e7a",
   "metadata": {},
   "outputs": [],
   "source": [
    "#keyword = '아마존닷컴' '구글뉴스'\n",
    "\n",
    "start = 0"
   ]
  },
  {
   "cell_type": "code",
   "execution_count": 144,
   "id": "69f46210",
   "metadata": {},
   "outputs": [],
   "source": [
    "url = f'https://www.google.com/search?q=%EC%95%84%EB%A7%88%EC%A1%B4%EB%8B%B7%EC%BB%B4&sca_esv=986cfd32cb66a37f&sca_upv=1&tbm=nws&prmd=sinvmbz&sxsrf=ADLYWIKlohgWLHxbMncuEQ_zPfNhGPFD6Q:1717118864076&ei=kCdZZsKXBO-Vvr0Pgbu62AM&start={start}&sa=N&ved=2ahUKEwjCn7if3raGAxXviq8BHYGdDjsQ8tMDegQIBBAE&biw=1041&bih=886&dpr=1'"
   ]
  },
  {
   "cell_type": "code",
   "execution_count": 145,
   "id": "22923a2e",
   "metadata": {},
   "outputs": [
    {
     "data": {
      "text/plain": [
       "'https://www.google.com/search?q=%EC%95%84%EB%A7%88%EC%A1%B4%EB%8B%B7%EC%BB%B4&sca_esv=986cfd32cb66a37f&sca_upv=1&tbm=nws&prmd=sinvmbz&sxsrf=ADLYWIKlohgWLHxbMncuEQ_zPfNhGPFD6Q:1717118864076&ei=kCdZZsKXBO-Vvr0Pgbu62AM&start=0&sa=N&ved=2ahUKEwjCn7if3raGAxXviq8BHYGdDjsQ8tMDegQIBBAE&biw=1041&bih=886&dpr=1'"
      ]
     },
     "execution_count": 145,
     "metadata": {},
     "output_type": "execute_result"
    }
   ],
   "source": [
    "url"
   ]
  },
  {
   "cell_type": "code",
   "execution_count": 146,
   "id": "efae5f4a",
   "metadata": {},
   "outputs": [],
   "source": [
    "content = requests.get(url).content # url를 받아서 content 만들고 # 자주돌리지말기 구글에서 막음\n",
    "soup = BeautifulSoup(content, 'html.parser')"
   ]
  },
  {
   "cell_type": "code",
   "execution_count": 147,
   "id": "49098b2c",
   "metadata": {
    "scrolled": true
   },
   "outputs": [
    {
     "data": {
      "text/plain": [
       "<!DOCTYPE html PUBLIC \"-//W3C//DTD HTML 4.01 Transitional//EN\">\n",
       "\n",
       "<html>\n",
       "<head><meta content=\"text/html; charset=utf-8\" http-equiv=\"content-type\"/><meta content=\"initial-scale=1\" name=\"viewport\"/><title>https://www.google.com/search?q=%EC%95%84%EB%A7%88%EC%A1%B4%EB%8B%B7%EC%BB%B4&amp;sca_esv=986cfd32cb66a37f&amp;sca_upv=1&amp;tbm=nws&amp;prmd=sinvmbz&amp;sxsrf=ADLYWIKlohgWLHxbMncuEQ_zPfNhGPFD6Q:1717118864076&amp;ei=kCdZZsKXBO-Vvr0Pgbu62AM&amp;start=0&amp;sa=N&amp;ved=2ahUKEwjCn7if3raGAxXviq8BHYGdDjsQ8tMDegQIBBAE&amp;biw=1041&amp;bih=886&amp;dpr=1</title></head>\n",
       "<body onload=\"e=document.getElementById('captcha');if(e){e.focus();} if(solveSimpleChallenge) {solveSimpleChallenge(211503,629072);}\" style=\"font-family: arial, sans-serif; background-color: #fff; color: #000; padding:20px; font-size:18px; overscroll-behavior:contain;\">\n",
       "<div style=\"max-width:400px;\">\n",
       "<hr noshade=\"\" size=\"1\" style=\"color:#ccc; background-color:#ccc;\"/><br/>\n",
       "<form action=\"index\" id=\"js-form\" method=\"post\">\n",
       "<noscript>\n",
       "<div style=\"font-size:13px;\">\n",
       "In order to continue, please enable javascript on your web browser.\n",
       "</div>\n",
       "</noscript>\n",
       "<input name=\"q\" type=\"hidden\" value=\"EgR5jKzDGMin5bIGIjDDq2ZtFSue6rQDmtYJC4mb1aOzvXDIk4jNTAduspgzabstsbmnqOriDzWssa-2zgcyBWpjbmRyWgFD\"/><input id=\"p1\" name=\"p1\" type=\"hidden\"/>\n",
       "<input id=\"p2\" name=\"p2\" type=\"hidden\"/>\n",
       "<input id=\"js-solution\" name=\"js-solution\" type=\"hidden\" value=\"\"/>\n",
       "<input id=\"s\" name=\"s\" type=\"hidden\" value=\"AbGH2qaKZ-XrPbTno7NjVw\"/>\n",
       "<script>\n",
       "  /*\n",
       "\n",
       " Copyright The Closure Library Authors.\n",
       " SPDX-License-Identifier: Apache-2.0\n",
       "*/\n",
       "var e=this||self,f=function(a,d){a=a.split(\".\");var b=e;a[0]in b||\"undefined\"==typeof b.execScript||b.execScript(\"var \"+a[0]);for(var c;a.length&&(c=a.shift());)a.length||void 0===d?b=b[c]&&b[c]!==Object.prototype[c]?b[c]:b[c]={}:b[c]=d};function g(a,d){var b=document.getElementById(\"js-solution\"),c=document.getElementById(\"p1\"),h=document.getElementById(\"p2\");c.value=a;h.value=d;b.value=a+d}f(\"solveSimpleChallenge\",function(a,d){g(a,d);document.getElementById(\"js-form\").submit()});f(\"compute\",g);\n",
       "\n",
       "</script>\n",
       "<input name=\"continue\" type=\"hidden\" value=\"https://www.google.com/search?q=%EC%95%84%EB%A7%88%EC%A1%B4%EB%8B%B7%EC%BB%B4&amp;sca_esv=986cfd32cb66a37f&amp;sca_upv=1&amp;tbm=nws&amp;prmd=sinvmbz&amp;sxsrf=ADLYWIKlohgWLHxbMncuEQ_zPfNhGPFD6Q:1717118864076&amp;ei=kCdZZsKXBO-Vvr0Pgbu62AM&amp;start=0&amp;sa=N&amp;ved=2ahUKEwjCn7if3raGAxXviq8BHYGdDjsQ8tMDegQIBBAE&amp;biw=1041&amp;bih=886&amp;dpr=1\"/>\n",
       "</form>\n",
       "<hr noshade=\"\" size=\"1\" style=\"color:#ccc; background-color:#ccc;\"/>\n",
       "<div style=\"font-size:13px;\">\n",
       "<b>About this page</b><br/><br/>\n",
       "\n",
       "Our systems have detected unusual traffic from your computer network.  This page checks to see if it's really you sending the requests, and not a robot.  <a href=\"#\" onclick=\"document.getElementById('infoDiv').style.display='block';\">Why did this happen?</a><br/><br/>\n",
       "<div id=\"infoDiv\" style=\"display:none; background-color:#eee; padding:10px; margin:0 0 15px 0; line-height:1.4em;\">\n",
       "This page appears when Google automatically detects requests coming from your computer network which appear to be in violation of the <a href=\"//www.google.com/policies/terms/\">Terms of Service</a>. The block will expire shortly after those requests stop.  In the meantime, solving the above CAPTCHA will let you continue to use our services.<br/><br/>This traffic may have been sent by malicious software, a browser plug-in, or a script that sends automated requests.  If you share your network connection, ask your administrator for help — a different computer using the same IP address may be responsible.  <a href=\"//support.google.com/websearch/answer/86640\">Learn more</a><br/><br/>Sometimes you may be asked to solve the CAPTCHA if you are using advanced terms that robots are known to use, or sending requests very quickly.\n",
       "</div>\n",
       "\n",
       "IP address: 121.140.172.195<br/>Time: 2024-05-31T04:36:25Z<br/>URL: https://www.google.com/search?q=%EC%95%84%EB%A7%88%EC%A1%B4%EB%8B%B7%EC%BB%B4&amp;sca_esv=986cfd32cb66a37f&amp;sca_upv=1&amp;tbm=nws&amp;prmd=sinvmbz&amp;sxsrf=ADLYWIKlohgWLHxbMncuEQ_zPfNhGPFD6Q:1717118864076&amp;ei=kCdZZsKXBO-Vvr0Pgbu62AM&amp;start=0&amp;sa=N&amp;ved=2ahUKEwjCn7if3raGAxXviq8BHYGdDjsQ8tMDegQIBBAE&amp;biw=1041&amp;bih=886&amp;dpr=1<br/>\n",
       "</div>\n",
       "</div>\n",
       "</body>\n",
       "</html>"
      ]
     },
     "execution_count": 147,
     "metadata": {},
     "output_type": "execute_result"
    }
   ],
   "source": [
    "soup # url"
   ]
  },
  {
   "cell_type": "code",
   "execution_count": 148,
   "id": "3abf253a",
   "metadata": {},
   "outputs": [],
   "source": [
    "title = [s.text for s in soup.select('div.BNeawe.vvjwJb.AP7Wnd')]   # title"
   ]
  },
  {
   "cell_type": "code",
   "execution_count": 149,
   "id": "0fb46b4a",
   "metadata": {},
   "outputs": [
    {
     "data": {
      "text/plain": [
       "[]"
      ]
     },
     "execution_count": 149,
     "metadata": {},
     "output_type": "execute_result"
    }
   ],
   "source": [
    "title"
   ]
  },
  {
   "cell_type": "code",
   "execution_count": 57,
   "id": "70c7ac14",
   "metadata": {},
   "outputs": [],
   "source": [
    "mediacp_nm = [s.text for s in soup.select('div.sCuL3')] # mediacp_nm =  # 언론사 이름"
   ]
  },
  {
   "cell_type": "code",
   "execution_count": 64,
   "id": "368273f6",
   "metadata": {},
   "outputs": [],
   "source": [
    "news_ct = [s.text for s in soup.select('div.BNeawe.s3v9rd.AP7Wnd')] # 뉴스 내용"
   ]
  },
  {
   "cell_type": "code",
   "execution_count": 128,
   "id": "bfdf56b0",
   "metadata": {},
   "outputs": [
    {
     "data": {
      "text/plain": [
       "['아마존이 드론 배송에 관한 연방정부의 추가 승인을 얻어 공중비행 배송서비스에 한걸음 더 다가섰다고 밝혔다. 30일(현지시간) 아마존은 기존 드론...6시간 전',\n",
       " '아마존이 드론 배송에 관한 연방정부의 추가 승인을 얻어 공중비행 배송서비스에 한걸음 더 다가섰다고 밝혔다. 30일(현지시간) 아마존은 기존 드론...6시간 전',\n",
       " '아마존닷컴(AMZN)가 24일(현지 시각) 수시보고서를 제출했다. [종목 정보 바로가기] 죄송합니다. 제공된 정보가 없으면 경제 뉴스 기사 요약을 작성할...6일 전',\n",
       " '아마존닷컴(AMZN)가 24일(현지 시각) 수시보고서를 제출했다. [종목 정보 바로가기] 죄송합니다. 제공된 정보가 없으면 경제 뉴스 기사 요약을 작성할...6일 전',\n",
       " '아마존닷컴(AMZN)은 14일(현지시간) 아마존웹서비스(AWS)의 최고경영자(CEO)인 아담 셀립스키가 사임한다고 밝혔다. 이로써, 현재 영업 및 마케팅...2주 전',\n",
       " '아마존닷컴(AMZN)은 14일(현지시간) 아마존웹서비스(AWS)의 최고경영자(CEO)인 아담 셀립스키가 사임한다고 밝혔다. 이로써, 현재 영업 및 마케팅...2주 전',\n",
       " '[인포스탁데일리=서동환] 유통 대기업 아마존닷컴(Amazon.com, Inc., NASDAQ:AMZN)이 파산한 스포츠 네트워크인 다이아몬드 스포츠 그룹(Diamond...4개월 전',\n",
       " '[인포스탁데일리=서동환] 유통 대기업 아마존닷컴(Amazon.com, Inc., NASDAQ:AMZN)이 파산한 스포츠 네트워크인 다이아몬드 스포츠 그룹(Diamond...4개월 전',\n",
       " '아마존닷컴 사장 겸 CEO(director, officer: President and CEO) 51억5484만원어치 지분 매수거래, 뉴스.1주 전',\n",
       " '아마존닷컴 사장 겸 CEO(director, officer: President and CEO) 51억5484만원어치 지분 매수거래, 뉴스.1주 전',\n",
       " '[인포스탁데일리=허준범 기자]아마존닷컴(AMZN)이 고마진 광고 사업의 고성장세와 온∙오프라인 리테일 본업의 견조한 수익성 개선 흐름 등 긍정적인...3개월 전',\n",
       " '[인포스탁데일리=허준범 기자]아마존닷컴(AMZN)이 고마진 광고 사업의 고성장세와 온∙오프라인 리테일 본업의 견조한 수익성 개선 흐름 등 긍정적인...3개월 전',\n",
       " '소매업 기업 아마존닷컴(AMZN)사의 CEO 아마존 웹 서비스(officer: CEO Amazon Web Services)인 셀립스키 아담(Selipsky Adam)가 지난 5월 21일...1주 전',\n",
       " '소매업 기업 아마존닷컴(AMZN)사의 CEO 아마존 웹 서비스(officer: CEO Amazon Web Services)인 셀립스키 아담(Selipsky Adam)가 지난 5월 21일...1주 전',\n",
       " '소매업 기업 아마존닷컴(AMZN)사의 CEO 아마존 웹 서비스(officer: CEO Amazon Web Services)인 셀립스키 아담(Selipsky Adam)가 지난 5월 15일...2주 전',\n",
       " '소매업 기업 아마존닷컴(AMZN)사의 CEO 아마존 웹 서비스(officer: CEO Amazon Web Services)인 셀립스키 아담(Selipsky Adam)가 지난 5월 15일...2주 전',\n",
       " '소매업 기업 아마존닷컴(AMZN)사의 전 세계 아마존 스토어 CEO(officer: CEO Worldwide Amazon Stores)인 헤링턴 더글러스 J(Herrington Douglas J)가...1주 전',\n",
       " '소매업 기업 아마존닷컴(AMZN)사의 전 세계 아마존 스토어 CEO(officer: CEO Worldwide Amazon Stores)인 헤링턴 더글러스 J(Herrington Douglas J)가...1주 전',\n",
       " '소매업 기업 아마존닷컴(AMZN)사의 이사(director)인 루빈스타인 조나단(RUBINSTEIN JONATHAN)가 지난 5월 9일 보통주, 액면가 주당 $.01 5264주,...2주 전',\n",
       " '소매업 기업 아마존닷컴(AMZN)사의 이사(director)인 루빈스타인 조나단(RUBINSTEIN JONATHAN)가 지난 5월 9일 보통주, 액면가 주당 $.01 5264주,...2주 전']"
      ]
     },
     "execution_count": 128,
     "metadata": {},
     "output_type": "execute_result"
    }
   ],
   "source": [
    "[s.text.replace('\\n', ' ') for s in soup.select('div.BNeawe.s3v9rd.AP7Wnd')]"
   ]
  },
  {
   "cell_type": "code",
   "execution_count": 121,
   "id": "d86f2f7f",
   "metadata": {},
   "outputs": [
    {
     "data": {
      "text/plain": [
       "['아마존이 드론 배송에 관한 연방정부의 추가 승인을 얻어 공중비행 배송서비스에 한걸음 더 다가섰다고 밝혔다. 30일(현지시간) 아마존은 기존 드론...6시간 전',\n",
       " '아마존이 드론 배송에 관한 연방정부의 추가 승인을 얻어 공중비행 배송서비스에 한걸음 더 다가섰다고 밝혔다. 30일(현지시간) 아마존은 기존 드론...6시간 전',\n",
       " '아마존닷컴(AMZN)가 24일(현지 시각) 수시보고서를 제출했다. [종목 정보 바로가기] 죄송합니다. 제공된 정보가 없으면 경제 뉴스 기사 요약을 작성할...6일 전',\n",
       " '아마존닷컴(AMZN)가 24일(현지 시각) 수시보고서를 제출했다. [종목 정보 바로가기] 죄송합니다. 제공된 정보가 없으면 경제 뉴스 기사 요약을 작성할...6일 전',\n",
       " '아마존닷컴(AMZN)은 14일(현지시간) 아마존웹서비스(AWS)의 최고경영자(CEO)인 아담 셀립스키가 사임한다고 밝혔다. 이로써, 현재 영업 및 마케팅...2주 전',\n",
       " '아마존닷컴(AMZN)은 14일(현지시간) 아마존웹서비스(AWS)의 최고경영자(CEO)인 아담 셀립스키가 사임한다고 밝혔다. 이로써, 현재 영업 및 마케팅...2주 전',\n",
       " '[인포스탁데일리=서동환] 유통 대기업 아마존닷컴(Amazon.com, Inc., NASDAQ:AMZN)이 파산한 스포츠 네트워크인 다이아몬드 스포츠 그룹(Diamond...4개월 전',\n",
       " '[인포스탁데일리=서동환] 유통 대기업 아마존닷컴(Amazon.com, Inc., NASDAQ:AMZN)이 파산한 스포츠 네트워크인 다이아몬드 스포츠 그룹(Diamond...4개월 전',\n",
       " '아마존닷컴 사장 겸 CEO(director, officer: President and CEO) 51억5484만원어치 지분 매수거래, 뉴스.1주 전',\n",
       " '아마존닷컴 사장 겸 CEO(director, officer: President and CEO) 51억5484만원어치 지분 매수거래, 뉴스.1주 전',\n",
       " '[인포스탁데일리=허준범 기자]아마존닷컴(AMZN)이 고마진 광고 사업의 고성장세와 온∙오프라인 리테일 본업의 견조한 수익성 개선 흐름 등 긍정적인...3개월 전',\n",
       " '[인포스탁데일리=허준범 기자]아마존닷컴(AMZN)이 고마진 광고 사업의 고성장세와 온∙오프라인 리테일 본업의 견조한 수익성 개선 흐름 등 긍정적인...3개월 전',\n",
       " '소매업 기업 아마존닷컴(AMZN)사의 CEO 아마존 웹 서비스(officer: CEO Amazon Web Services)인 셀립스키 아담(Selipsky Adam)가 지난 5월 21일...1주 전',\n",
       " '소매업 기업 아마존닷컴(AMZN)사의 CEO 아마존 웹 서비스(officer: CEO Amazon Web Services)인 셀립스키 아담(Selipsky Adam)가 지난 5월 21일...1주 전',\n",
       " '소매업 기업 아마존닷컴(AMZN)사의 CEO 아마존 웹 서비스(officer: CEO Amazon Web Services)인 셀립스키 아담(Selipsky Adam)가 지난 5월 15일...2주 전',\n",
       " '소매업 기업 아마존닷컴(AMZN)사의 CEO 아마존 웹 서비스(officer: CEO Amazon Web Services)인 셀립스키 아담(Selipsky Adam)가 지난 5월 15일...2주 전',\n",
       " '소매업 기업 아마존닷컴(AMZN)사의 전 세계 아마존 스토어 CEO(officer: CEO Worldwide Amazon Stores)인 헤링턴 더글러스 J(Herrington Douglas J)가...1주 전',\n",
       " '소매업 기업 아마존닷컴(AMZN)사의 전 세계 아마존 스토어 CEO(officer: CEO Worldwide Amazon Stores)인 헤링턴 더글러스 J(Herrington Douglas J)가...1주 전',\n",
       " '소매업 기업 아마존닷컴(AMZN)사의 이사(director)인 루빈스타인 조나단(RUBINSTEIN JONATHAN)가 지난 5월 9일 보통주, 액면가 주당 $.01 5264주,...2주 전',\n",
       " '소매업 기업 아마존닷컴(AMZN)사의 이사(director)인 루빈스타인 조나단(RUBINSTEIN JONATHAN)가 지난 5월 9일 보통주, 액면가 주당 $.01 5264주,...2주 전']"
      ]
     },
     "execution_count": 121,
     "metadata": {},
     "output_type": "execute_result"
    }
   ],
   "source": [
    "news_ct"
   ]
  },
  {
   "cell_type": "code",
   "execution_count": 95,
   "id": "3b8ae6c3",
   "metadata": {},
   "outputs": [],
   "source": [
    "# # 가독성이 심해서져 함수 추가\n",
    "# def is_year(x):\n",
    "#     x = x.text.replace('\\xa0',' ')[1]   # .split(' - ')\n",
    "    \n",
    "#     if x.isdigit():                    # x가 숫자라면\n",
    "#         return [float('nan'), x]  # nan 값이랑 숫자가 리턴\n",
    "#     else:\n",
    "#         return x.split(', ')       # 아니면 출간년도가 리턴"
   ]
  },
  {
   "cell_type": "code",
   "execution_count": 136,
   "id": "3b8e274b",
   "metadata": {},
   "outputs": [],
   "source": [
    "etc = [s.text for s in soup.select('div.Gx5Zad.fP1Qef.xpd.EtOod.pkphOe')]  # etc is_year(s)"
   ]
  },
  {
   "cell_type": "code",
   "execution_count": 137,
   "id": "76063d9d",
   "metadata": {
    "scrolled": true
   },
   "outputs": [
    {
     "data": {
      "text/plain": [
       "['아마존 드론배송, 조종사 시야너머로 연방승인머니투데이아마존이 드론 배송에 관한 연방정부의 추가 승인을 얻어 공중비행 배송서비스에 한걸음 더 다가섰다고 밝혔다. 30일(현지시간) 아마존은 기존 드론...6시간 전',\n",
       " '아마존닷컴(AMZN) 수시 보고한국경제아마존닷컴(AMZN)가 24일(현지 시각) 수시보고서를 제출했다. [종목 정보 바로가기] 죄송합니다. 제공된 정보가 없으면 경제 뉴스 기사 요약을 작성할...6일 전',\n",
       " '아마존닷컴 AWS CEO 사임…“가족과 시간 보내기 위해”이데일리아마존닷컴(AMZN)은 14일(현지시간) 아마존웹서비스(AWS)의 최고경영자(CEO)인 아담 셀립스키가 사임한다고 밝혔다. 이로써, 현재 영업 및 마케팅...2주 전',\n",
       " '아마존닷컴, 다이아몬드 스포츠 그룹에 투자…모회사 싱클레어 주가 17.84% 급등인포스탁데일리[인포스탁데일리=서동환] 유통 대기업 아마존닷컴(Amazon.com, Inc., NASDAQ:AMZN)이 파산한 스포츠 네트워크인 다이아몬드 스포츠 그룹(Diamond...4개월 전',\n",
       " '아마존닷컴 사장 겸 CEO(director, officer: President and CEO) 51억5484만원어치 지분 매수거래한국경제아마존닷컴 사장 겸 CEO(director, officer: President and CEO) 51억5484만원어치 지분 매수거래, 뉴스.1주 전',\n",
       " '아마존닷컴, 견조한 수익성 개선... 긍정적 이익 모멘텀 지속인포스탁데일리[인포스탁데일리=허준범 기자]아마존닷컴(AMZN)이 고마진 광고 사업의 고성장세와 온∙오프라인 리테일 본업의 견조한 수익성 개선 흐름 등 긍정적인...3개월 전',\n",
       " '아마존닷컴 CEO 아마존 웹 서비스(officer: CEO Amazon Web Services) 11억4278만원어치 지분 매수거래한국경제소매업 기업 아마존닷컴(AMZN)사의 CEO 아마존 웹 서비스(officer: CEO Amazon Web Services)인 셀립스키 아담(Selipsky Adam)가 지난 5월 21일...1주 전',\n",
       " '아마존닷컴 CEO 아마존 웹 서비스(officer: CEO Amazon Web Services) 22억5537만원어치 지분 매수거래한국경제소매업 기업 아마존닷컴(AMZN)사의 CEO 아마존 웹 서비스(officer: CEO Amazon Web Services)인 셀립스키 아담(Selipsky Adam)가 지난 5월 15일...2주 전',\n",
       " '아마존닷컴 전 세계 아마존 스토어 CEO(officer: CEO Worldwide Amazon Stores) 15억1202만원어치 지분 매수거래한국경제소매업 기업 아마존닷컴(AMZN)사의 전 세계 아마존 스토어 CEO(officer: CEO Worldwide Amazon Stores)인 헤링턴 더글러스 J(Herrington Douglas J)가...1주 전',\n",
       " '아마존닷컴 이사(director) 13억6788만원어치 지분 매도한국경제소매업 기업 아마존닷컴(AMZN)사의 이사(director)인 루빈스타인 조나단(RUBINSTEIN JONATHAN)가 지난 5월 9일 보통주, 액면가 주당 $.01 5264주,...2주 전']"
      ]
     },
     "execution_count": 137,
     "metadata": {},
     "output_type": "execute_result"
    }
   ],
   "source": [
    "etc"
   ]
  },
  {
   "cell_type": "code",
   "execution_count": 150,
   "id": "b645f276",
   "metadata": {},
   "outputs": [],
   "source": [
    "#res_temp = pd.DataFrame(etc, columns=['title','mediacp_nm','news_ct','url'])"
   ]
  },
  {
   "cell_type": "code",
   "execution_count": null,
   "id": "84e5e739",
   "metadata": {},
   "outputs": [],
   "source": [
    "res_temp"
   ]
  },
  {
   "cell_type": "code",
   "execution_count": null,
   "id": "e18210cc",
   "metadata": {},
   "outputs": [],
   "source": [
    "res_temp2 = pd.DataFrame(title_url, columns=['title','url'])   # title , url\n",
    "res_temp = pd.concat([res_temp, res_temp2], axis=1)"
   ]
  },
  {
   "cell_type": "code",
   "execution_count": null,
   "id": "e5e7e731",
   "metadata": {},
   "outputs": [],
   "source": [
    "[s['href'] for s in soup.select('div.')]"
   ]
  },
  {
   "cell_type": "code",
   "execution_count": null,
   "id": "3f235204",
   "metadata": {},
   "outputs": [],
   "source": []
  }
 ],
 "metadata": {
  "kernelspec": {
   "display_name": "Python 3 (ipykernel)",
   "language": "python",
   "name": "python3"
  },
  "language_info": {
   "codemirror_mode": {
    "name": "ipython",
    "version": 3
   },
   "file_extension": ".py",
   "mimetype": "text/x-python",
   "name": "python",
   "nbconvert_exporter": "python",
   "pygments_lexer": "ipython3",
   "version": "3.11.7"
  }
 },
 "nbformat": 4,
 "nbformat_minor": 5
}
