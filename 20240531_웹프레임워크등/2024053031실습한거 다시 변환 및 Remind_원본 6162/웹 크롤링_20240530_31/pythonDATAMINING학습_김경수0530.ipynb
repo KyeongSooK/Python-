{
 "cells": [
  {
   "cell_type": "code",
   "execution_count": 135,
   "id": "d8e1fad7",
   "metadata": {},
   "outputs": [],
   "source": [
    "from newspaper import Article"
   ]
  },
  {
   "cell_type": "code",
   "execution_count": 136,
   "id": "7bf9904c",
   "metadata": {},
   "outputs": [],
   "source": [
    "url = 'https://view.asiae.co.kr/article/2023032217473512545'"
   ]
  },
  {
   "cell_type": "code",
   "execution_count": 139,
   "id": "a006f685",
   "metadata": {},
   "outputs": [],
   "source": [
    "article = Article(url=url)        # 해당 url 아티클로 초기화"
   ]
  },
  {
   "cell_type": "code",
   "execution_count": 140,
   "id": "e8418070",
   "metadata": {},
   "outputs": [],
   "source": [
    "article.download()               # 해당 html 소스가 주르르 코딩됨"
   ]
  },
  {
   "cell_type": "code",
   "execution_count": 141,
   "id": "7947b1d0",
   "metadata": {},
   "outputs": [],
   "source": [
    "article.parse() # parse가 파싱이 된다"
   ]
  },
  {
   "cell_type": "code",
   "execution_count": 142,
   "id": "aa92298d",
   "metadata": {},
   "outputs": [
    {
     "data": {
      "text/plain": [
       "\"'반도체' 빠지니 드러난 韓기업 민낯…1분기 실적 '어닝 쇼크' 수준\""
      ]
     },
     "execution_count": 142,
     "metadata": {},
     "output_type": "execute_result"
    }
   ],
   "source": [
    "article.title                # 타이틀 제목"
   ]
  },
  {
   "cell_type": "code",
   "execution_count": 143,
   "id": "2439331a",
   "metadata": {},
   "outputs": [
    {
     "data": {
      "text/plain": [
       "[]"
      ]
     },
     "execution_count": 143,
     "metadata": {},
     "output_type": "execute_result"
    }
   ],
   "source": [
    "article.authors               # 기자이름"
   ]
  },
  {
   "cell_type": "code",
   "execution_count": 144,
   "id": "5b2ae20c",
   "metadata": {},
   "outputs": [
    {
     "data": {
      "text/plain": [
       "datetime.datetime(2023, 3, 24, 6, 40, tzinfo=tzoffset(None, 32400))"
      ]
     },
     "execution_count": 144,
     "metadata": {},
     "output_type": "execute_result"
    }
   ],
   "source": [
    "article.publish_date               # 날짜 파싱작업"
   ]
  },
  {
   "cell_type": "code",
   "execution_count": 145,
   "id": "edc044ac",
   "metadata": {
    "scrolled": true
   },
   "outputs": [
    {
     "data": {
      "text/plain": [
       "'삼성전자 반도체 부문-하이닉스, 3조~4조대 적자 전망\\n\\n매출 상위 10위권 중 6개 기업 영업이익 큰 폭 감소\\n\\n고강도 긴축과 경기 침체 등으로 올해 1분기 국내 주요 상장사가 \\'어닝 쇼크\\'를 기록할 전망이다. 특히 삼성전자, SK하이닉스 등 한국 경제를 이끄는 간판 대기업의 영업이익은 \\'빅쇼크\\' 수준의 부진에 빠졌다. 2분기 실적 전망도 밝지 않다. 미국의 금리 인상 행진이 막바지에 다다르긴 했지만, 실리콘밸리은행(SVB)·크레디스위스(CS) 사태에 따른 금융권발 불안과 여전히 높은 물가수준 등으로 경기 침체 우려가 쉽사리 가시지 않을 것으로 보인다.\\n\\n1분기 영업이익 26조로 지난해 같은 기간의 절반\\n\\n24일 금융정보업체 에프앤가이드에 따르면 실적 추정 기관 3곳 이상인 코스피·코스닥 상장사 199곳의 올해 1분기 영업이익(이하 전망치) 총액은 26조1033억원으로 집계됐다. 지난해 1분기(50조6590억원)의 반타작 수준이다. 실적 전망치가 취합된 199개 상장사 중 약 45%에 이르는 89개 기업의 영업이익이 줄어들 전망이다. 2분기 실적은 더욱 나쁠 것으로 보인다. 2분기 영업이익 전망치 총액은 21조3125억원에 불과하다. 지난해 같은 기간의 실적(44조4322억원)의 절반에도 미치지 못하는 수치다.\\n\\n삼성전자 서초사옥 전경. 사진=김현민 기자 kimhyun81@ AD 원본보기 아이콘\\n\\n상장사 영업이익 총액이 이처럼 급감한 데는 국내 매출 순위 최상위권에 속하는 주요 대기업의 부진 영향이 컸다. 상장사 199곳 중 1분기 매출 상위 10위권에서 6개 기업의 영업이익이 지난해 같은 기간 대비 큰 폭 감소할 전망이다. 삼성전자(-88.1%)·POSCO홀딩스(-66.6%)·SK이노베이션(-63.5%)·LG전자(-45.4%)·LG화학(-40.9%)·HD현대(-24.2%)가 큰 낙폭을 보였다. 적자폭을 줄이긴 했지만 한국전력은 여전히 5조원대 손실을 기록할 것으로 보인다.\\n\\n삼성전자 1분기 적자전환 분석도 나와\\n\\n지난해 1분기 14조원대였던 삼성전자의 영업이익은 올해 1분기엔 1조6850억원에 그칠 것으로 추정됐다. 1년새 10분의1 수준으로 쪼그라든 것이다. 삼성전자 분기 영업이익이 2조원 미만으로 떨어진 것은 글로벌 금융위기가 닥쳤던 2009년 1분기(5930억원) 이후 이번이 14년 만에 처음이다. 그마저도 기존에 나온 실적 추정치의 평균치다. 이달 말로 예정된 실적 발표일이 다가올수록 전망은 더욱 비관적으로 바뀌고 있다.\\n\\n일각에서는 삼성전자 영업이익이 1조원에도 못 미치거나 아예 적자로 돌아설 것이란 우울한 전망까지 나온다. 최근 3일새 추가된 증권가 리포트 중 신한투자증권은 삼성전자 1분기 영업이익이 7680억원, 신영증권은 3200억원, 이베스트투자증권은 1000억원일 것으로 각각 예상했다. 다올투자증권은 현재까지 나온 전망치 중 유일하게 적자(-680억원) 전환할 것으로 봤다. 반도체 부문이 3조원대 후반~4조원대 초반 수준의 대규모 적자에 빠질 것이란 데에는 이견이 없었다. 김양재 다올투자증권 연구원은 \"메모리 재고 평가손실 여파로 반도체 부문 영업적자가 4조1000조원에 이를 것으로 추정된다\"라며 \"2분기부터 영업적자가 다소 줄어들 것\"이라고 내다봤다.\\n\\nSK하이닉스의 상황은 더욱 심각하다. 1분기에만 3조4710억원 규모의 적자를 기록할 전망이다. 지난해 1분기에 벌어들인 이익(2조8596억원) 규모를 뛰어넘는 수치로, 1년새 분기 영업이익이 6조원 이상 증발한 셈이다. SK하이닉스를 다룬 최신 보고서에서는 시장 예상보다 악화한 4조원대 적자를 예상하기도 했다. 서승연 신영증권 연구원은 \"SK하이닉스의 1분기 영업손실은 4조2000억원으로 시장 컨센서스를 밑돌 전망\"이라며 \"계절적 비수기 속에서 고객사의 재고 조정이 이어지며 메모리 출하량이 예상보다 줄어들 것\"이라고 봤다.\\n\\n반도체 업황은 2분기에 최악으로 치달을 것으로 보인다. 에프앤가이드에 따르면 삼성전자의 2분기 영업이익 전망치는 1분기보다 더 낮은 1조4620억원이다. 신한투자증권은 삼성전자가 2분기에 1000억원대 영업이익을 내는 데 그쳐 사실상 적자 위기에 내몰릴 것으로 봤다. SK하이닉스는 연중 내내 적자를 이어가 연간 12조원 규모의 손실을 낼 것으로 추정했다.\\n\\n올해 3분기 이후에는 반도체 업황이 점차 회복기에 진입할 것으로 보인다. 핵심은 수요다. 현재 삼성전자를 비롯한 반도체 업체의 재고자산이 평년의 2~3배에 이른다는 분석이 나오고 있다. 그럼에도 \\'인위적 감산은 없다\\'는 게 삼성전자의 공식적인 정책 방향이다. 다만 시장에서는 불어난 재고를 줄이기 위해 삼성전자가 어떤 방식으로든 감산 효과를 낼 것으로 보고 있다. 도현우 NH투자증권 연구원은 \"일부 테스트와 부품 업체에 따르면 1분기 삼성전자에서 수주한 (반도체) 물량이 30% 이상 감소하는 등 이미 상당한 규모로 감산을 진행 중\"이라고 설명했다.\\n\\n반도체 절대수요도 3분기부터는 늘어날 것으로 기대된다. 고영민 신한투자증권 책임연구원은 \"반도체 절대수요 변곡점은 올해 3~4분기가 될 것\"이라며 \"코로나19 이후 이탈했던 IT 세트 수요가 다시 정상궤도에 근접하고 있고, 매크로(거시경제) 변곡점 부근에서 IT 세트·반도체의 수요 회복 속도는 생각보다 강하고 빠를 수 있다\"라고 내다봤다. 남대종 이베스트투자증권 연구원도 \"메모리 반도체 가격의 저점은 2분기 말~3분기 초에 형성될 것\"이라며 \"공급 과잉 상황은 1분기에 피크아웃(Peak out·정점 찍고 하락)할 것이며, 하반기에 수급 상황이 개선될 것으로 본다\"라고 말했다.\\n\\n자동차·2차전지 업종이 반도체 부진 메워\\n\\n삼성전자의 부진으로 올해 1분기 상장사 실적 순위는 그야말로 지각변동이 예상된다. 반도체가 고꾸라지는 사이 자동차 산업은 북미·유럽 시장을 누비며 호황을 기록했다. 산업통상자원부에 따르면 지난 1~2월 자동차 수출액은 105억8100만달러로, 지난해 같은 기간 대비 34%나 늘었다. 특히 2월 수출액(56억달러)은 월간 기준으로 역대 최대치다. 증권가는 현대차의 1분기 영업이익이 지난해 같은 기간 대비 32.1% 늘어난 2조5481억원을 기록할 것으로 전망했다. 같은 기간 기아도 26.2% 늘어난 2조278억원의 영업이익을 나타낼 것으로 봤다. 모두 삼성전자 실적을 훌쩍 뛰어넘는 수치다. 현대차의 핵심 부품 계열사인 현대모비스도 1분기 5600억원의 영업이익을 달성하면서 증가율이 44.6%에 이르렀다.\\n\\n대표적 성장 산업으로 꼽히는 2차전지 업종 전망도 밝다. LG에너지솔루션은 올해 1분기 4516억원의 영업이익을 올릴 것으로 추정된다. 지난해 같은 기간 대비 74.4% 늘어난 수치다. 실적 성장에 힘입어 LG에너지솔루션 주가는 57만5000원(3월23일 종가)을 기록했다. 연초 대비 약 40% 뛰었다. 삼성SDI의 1분기 영업이익도 지난해보다 22.7% 증가한 3956억원으로 전망됐다. 아울러 최근 주가가 천정부지로 치솟은 \\'코스닥 대장주\\' 에코프로비엠의 올해 1분기 영업이익은 지난해(411억원)의 세 배 수준인 1132억원을 기록할 전망이다. 이안나 유안타증권 연구원은 주가가 가파르게 뛴 2차전지 관련 종목과 관련해 \"가파른 주가 상승으로 단기 조정 가능성은 있지만, 수주 물량이 많고 성장성이 뛰어나 조정 기간이 길지 않고 폭도 크지 않을 것\"이라고 내다봤다.\\n\\n장기간 적자에 시달렸던 조선 업계도 올해 1분기에는 웃을 것으로 보인다. 현대중공업·삼성중공업은 올 1분기 흑자 전환이 유력하고, 현대미포조선과 대우조선해양도 지난해 1분기에 비해 적자 규모를 줄일 것으로 전망됐다. 아울러 고금리 상황이 이어지면서 예대마진 수익 등으로 신한지주(1조9378)·KB금융(1조8887)의 영업이익 성적도 상위권을 기록할 전망이다.\\n\\n\\n\\n\\n\\n\\n\\n\\n\\n손선희 기자 sheeson@asiae.co.kr\\n\\n\\n\\nAD\\n\\n\\n\\n<ⓒ투자가를 위한 경제콘텐츠 플랫폼, 아시아경제(www.asiae.co.kr) 무단전재 배포금지>'"
      ]
     },
     "execution_count": 145,
     "metadata": {},
     "output_type": "execute_result"
    }
   ],
   "source": [
    "article.text                      # 본문"
   ]
  },
  {
   "cell_type": "code",
   "execution_count": 146,
   "id": "a8c82a51",
   "metadata": {
    "scrolled": true
   },
   "outputs": [
    {
     "data": {
      "text/plain": [
       "{'https://cphoto.asiae.co.kr/listimglink/1/2023013110502098424_1675129821.jpg',\n",
       " 'https://cphoto.asiae.co.kr/listimglink/1/2023032216591763285_1679471958.jpg',\n",
       " 'https://cphoto.asiae.co.kr/listimglink/1/2023032316381764809_1679557097.jpg',\n",
       " 'https://cwcontent.asiae.co.kr/amgimagelink/98/2024050815041350801A.jpg',\n",
       " 'https://cwcontent.asiae.co.kr/amgimagelink/98/2024051317163820642A.jpg',\n",
       " 'https://cwcontent.asiae.co.kr/amgimagelink/98/2024052009115312362A.jpg',\n",
       " 'https://cwcontent.asiae.co.kr/asiaresize/113/2024052915593788994_1716965977.jpg',\n",
       " 'https://cwcontent.asiae.co.kr/asiaresize/113/2024052917032389151_1716969803.jpg',\n",
       " 'https://cwcontent.asiae.co.kr/asiaresize/113/2024053007511189425_1717023071.jpg',\n",
       " 'https://cwcontent.asiae.co.kr/asiaresize/113/2024053008491189543_1717026551.jpg',\n",
       " 'https://cwcontent.asiae.co.kr/asiaresize/113/2024053010483090012_1717033710.jpg',\n",
       " 'https://cwcontent.asiae.co.kr/asiaresize/210/2023041813454492572_1681793144.jpg',\n",
       " 'https://cwcontent.asiae.co.kr/asiaresize/210/2023051211082229110_1683857303.jpg',\n",
       " 'https://cwcontent.asiae.co.kr/asiaresize/210/2023070315231184534_1688365391.jpg',\n",
       " 'https://cwcontent.asiae.co.kr/asiaresize/210/2023121516474390633_1702626463.jpg',\n",
       " 'https://cwcontent.asiae.co.kr/asiaresize/210/2024010415181418981_1704349095.jpg',\n",
       " 'https://cwcontent.asiae.co.kr/asiaresize/210/2024011016330025322_1704871981.jpg',\n",
       " 'https://cwcontent.asiae.co.kr/asiaresize/269/2023122509482898923_1703465308.png',\n",
       " 'https://cwcontent.asiae.co.kr/asiaresize/269/2024041509460339082_1713141964.jpg',\n",
       " 'https://cwcontent.asiae.co.kr/asiaresize/269/2024052411322583454_1716517945.jpg',\n",
       " 'https://cwcontent.asiae.co.kr/asiaresize/269/2024052720003386084_1717043720.jpg',\n",
       " 'https://cwcontent.asiae.co.kr/asiaresize/269/2024052910461988410_1716947179.png',\n",
       " 'https://cwcontent.asiae.co.kr/asiaresize/269/2024052914235588742_1716960235.jpeg',\n",
       " 'https://cwcontent.asiae.co.kr/asiaresize/269/2024052916422889105_1716968548.png',\n",
       " 'https://cwcontent.asiae.co.kr/asiaresize/269/2024053006335589346_1717018436.jpg',\n",
       " 'https://cwcontent.asiae.co.kr/asiaresize/269/2024053007511189425_1717023071.jpg',\n",
       " 'https://cwcontent.asiae.co.kr/asiaresize/269/2024053008150489476_1717024503.png',\n",
       " 'https://cwcontent.asiae.co.kr/asiaresize/269/2024053008310189503_1717025461.jpg',\n",
       " 'https://cwcontent.asiae.co.kr/asiaresize/269/2024053008323041357A.jpg',\n",
       " 'https://cwcontent.asiae.co.kr/asiaresize/269/2024053009062479496A.jpg',\n",
       " 'https://cwcontent.asiae.co.kr/asiaresize/269/2024053009412689746_1717029686.jpg',\n",
       " 'https://cwcontent.asiae.co.kr/asiaresize/269/2024053010011189827_1717030871.png',\n",
       " 'https://cwcontent.asiae.co.kr/asiaresize/269/2024053010131689873_1717031596.jpg',\n",
       " 'https://cwcontent.asiae.co.kr/asiaresize/269/2024053010360641972A.jpg',\n",
       " 'https://cwcontent.asiae.co.kr/asiaresize/269/2024053010560862458A.jpg',\n",
       " 'https://cwcontent.asiae.co.kr/asiaresize/269/2024053011460290178_1717037162.jpg',\n",
       " 'https://cwcontent.asiae.co.kr/asiaresize/269/2024053013330290279_1717043582.jpg',\n",
       " 'https://cwcontent.asiae.co.kr/asiaresize/269/2024053013375033774A.jpg',\n",
       " 'https://cwcontent.asiae.co.kr/asiaresize/269/2024053013513790306_1717044696.jpg',\n",
       " 'https://cwcontent.asiae.co.kr/asiaresize/269/2024053014114890328_1717045908.png',\n",
       " 'https://cwcontent.asiae.co.kr/asiaresize/269/2024053015163890523_1717049798.png',\n",
       " 'https://cwcontent.asiae.co.kr/asiaresize/276/2022032415383891705_1648103918.jpg',\n",
       " 'https://cwcontent.asiae.co.kr/asiaresize/276/2024042208272146743_1713742041.jpg',\n",
       " 'https://cwcontent.asiae.co.kr/asiaresize/276/2024052315424082431_1716446560.jpg',\n",
       " 'https://cwcontent.asiae.co.kr/asiaresize/276/2024052619203884625_1716718839.jpg',\n",
       " 'https://cwcontent.asiae.co.kr/asiaresize/276/2024052808323486302_1716852755.png',\n",
       " 'https://cwcontent.asiae.co.kr/asiaresize/276/2024052808503586359_1716853835.png',\n",
       " 'https://cwcontent.asiae.co.kr/asiaresize/276/2024052814342187134_1716874461.jpg',\n",
       " 'https://cwcontent.asiae.co.kr/asiaresize/276/2024052908001887881_1716937219.jpg',\n",
       " 'https://cwcontent.asiae.co.kr/asiaresize/276/2024052908534288013_1716940421.jpg',\n",
       " 'https://cwcontent.asiae.co.kr/asiaresize/276/2024052913225588618_1716956574.jpg',\n",
       " 'https://cwcontent.asiae.co.kr/asiaresize/93/2024052411322583454_1716517945.jpg',\n",
       " 'https://cwstatic.asiae.co.kr/asiae_v2/aside/ico_many.png',\n",
       " 'https://cwstatic.asiae.co.kr/asiae_v2/realtime/real_ban.png'}"
      ]
     },
     "execution_count": 146,
     "metadata": {},
     "output_type": "execute_result"
    }
   ],
   "source": [
    "article.images             # 해당 기사 본문에 있는 images들이 잡힌다"
   ]
  },
  {
   "cell_type": "code",
   "execution_count": 25,
   "id": "59458b47",
   "metadata": {},
   "outputs": [],
   "source": [
    "url = 'https://www.edaily.co.kr/news/read?newsId=01164406638894168&mediaCodeNo=258'"
   ]
  },
  {
   "cell_type": "code",
   "execution_count": 71,
   "id": "226cd018",
   "metadata": {},
   "outputs": [
    {
     "data": {
      "text/plain": [
       "<newspaper.article.Article at 0x1414285d2d0>"
      ]
     },
     "execution_count": 71,
     "metadata": {},
     "output_type": "execute_result"
    }
   ],
   "source": [
    "article"
   ]
  },
  {
   "cell_type": "code",
   "execution_count": null,
   "id": "664bf32d",
   "metadata": {},
   "outputs": [],
   "source": [
    "## 실습\n",
    "* 크롤링 자동화 프로그램 만들기\n",
    "* input: 각종 뉴스기사의 url를 받습니다. 이 때, url은 여러개를 받을 수도 있습니다.\n",
    "* output: 아래 표 참조\n",
    "    "
   ]
  },
  {
   "cell_type": "code",
   "execution_count": 103,
   "id": "f9213900",
   "metadata": {},
   "outputs": [],
   "source": [
    "import pandas as pd"
   ]
  },
  {
   "cell_type": "code",
   "execution_count": 104,
   "id": "182a2540",
   "metadata": {},
   "outputs": [],
   "source": [
    "article_t = pd.DataFrame([['반도체 빠지니 드러난 韓기업 민낯…1분기 실적 어닝 쇼크 수준',\n",
    "                          'NaN',\n",
    "                          'datetime.datetime(2023, 3, 24, 6, 40, tzinfo=tzoffset(None, 32400))',\n",
    "                          '삼성전자 반도체 부문-하이닉스, 3조~4조대 적자 전망\\n\\n매출 상위 10위권 중 6개 기업 영업이익 큰 폭 감소',\n",
    "                          'https://view.asiae.co.kr/article/2023032217473512545',\n",
    "                          'https://cphoto.asiae.co.kr/listimglink/1/2023013110502098424_1675129821.jpg']],\n",
    "                         columns=['title', 'authors', 'publish_date','text', 'url', 'img_url'])"
   ]
  },
  {
   "cell_type": "code",
   "execution_count": 105,
   "id": "f494e1ed",
   "metadata": {
    "scrolled": true
   },
   "outputs": [
    {
     "data": {
      "text/html": [
       "<div>\n",
       "<style scoped>\n",
       "    .dataframe tbody tr th:only-of-type {\n",
       "        vertical-align: middle;\n",
       "    }\n",
       "\n",
       "    .dataframe tbody tr th {\n",
       "        vertical-align: top;\n",
       "    }\n",
       "\n",
       "    .dataframe thead th {\n",
       "        text-align: right;\n",
       "    }\n",
       "</style>\n",
       "<table border=\"1\" class=\"dataframe\">\n",
       "  <thead>\n",
       "    <tr style=\"text-align: right;\">\n",
       "      <th></th>\n",
       "      <th>title</th>\n",
       "      <th>authors</th>\n",
       "      <th>publish_date</th>\n",
       "      <th>text</th>\n",
       "      <th>url</th>\n",
       "      <th>img_url</th>\n",
       "    </tr>\n",
       "  </thead>\n",
       "  <tbody>\n",
       "    <tr>\n",
       "      <th>0</th>\n",
       "      <td>반도체 빠지니 드러난 韓기업 민낯…1분기 실적 어닝 쇼크 수준</td>\n",
       "      <td>NaN</td>\n",
       "      <td>datetime.datetime(2023, 3, 24, 6, 40, tzinfo=t...</td>\n",
       "      <td>삼성전자 반도체 부문-하이닉스, 3조~4조대 적자 전망\\n\\n매출 상위 10위권 중...</td>\n",
       "      <td>https://view.asiae.co.kr/article/2023032217473...</td>\n",
       "      <td>https://cphoto.asiae.co.kr/listimglink/1/20230...</td>\n",
       "    </tr>\n",
       "  </tbody>\n",
       "</table>\n",
       "</div>"
      ],
      "text/plain": [
       "                                title authors  \\\n",
       "0  반도체 빠지니 드러난 韓기업 민낯…1분기 실적 어닝 쇼크 수준     NaN   \n",
       "\n",
       "                                        publish_date  \\\n",
       "0  datetime.datetime(2023, 3, 24, 6, 40, tzinfo=t...   \n",
       "\n",
       "                                                text  \\\n",
       "0  삼성전자 반도체 부문-하이닉스, 3조~4조대 적자 전망\\n\\n매출 상위 10위권 중...   \n",
       "\n",
       "                                                 url  \\\n",
       "0  https://view.asiae.co.kr/article/2023032217473...   \n",
       "\n",
       "                                             img_url  \n",
       "0  https://cphoto.asiae.co.kr/listimglink/1/20230...  "
      ]
     },
     "execution_count": 105,
     "metadata": {},
     "output_type": "execute_result"
    }
   ],
   "source": [
    "article_t"
   ]
  },
  {
   "cell_type": "code",
   "execution_count": 73,
   "id": "ca9ea7e5",
   "metadata": {},
   "outputs": [
    {
     "data": {
      "text/plain": [
       "['https://view.asiae.co.kr/article/2023032217473512545']"
      ]
     },
     "execution_count": 73,
     "metadata": {},
     "output_type": "execute_result"
    }
   ],
   "source": [
    "# 각 기사의 URL을 리스트로 추출\n",
    "urls = article_t['url'].tolist()\n",
    "\n",
    "# URL 리스트 출력\n",
    "urls"
   ]
  },
  {
   "cell_type": "code",
   "execution_count": null,
   "id": "81a14b5c",
   "metadata": {},
   "outputs": [],
   "source": []
  },
  {
   "cell_type": "code",
   "execution_count": 83,
   "id": "959c1be5",
   "metadata": {},
   "outputs": [],
   "source": [
    "urls = ['https://view.asiae.co.kr/article/2023032217473512545',\n",
    "        'https://www.edaily.co.kr/news/read?newsId=01164406638894168&mediaCodeNo=258',\n",
    "        'https://www.msn.com/ko-kr/news/other/%EC%82%BC%EC%84%B1%EC%A0%84%EC%9E%90-%EB%85%B8%EC%A1%B0-%ED%8C%8C%EC%97%85-%EC%84%A0%EC%96%B8-%EC%B0%BD%EC%82%AC-55%EB%85%84-%EB%A7%8C%EC%97%90-%EC%B2%98%EC%9D%8C-ytn/vi-BB1ngjxF'] # urls = [a, b, c] 이런식"
   ]
  },
  {
   "cell_type": "code",
   "execution_count": 84,
   "id": "2ae005a2",
   "metadata": {},
   "outputs": [],
   "source": [
    "#res = pd.DataFrame(columns=['title', 'authors', 'publish_date','text', 'url', 'img_url'])"
   ]
  },
  {
   "cell_type": "code",
   "execution_count": 85,
   "id": "00a9677c",
   "metadata": {},
   "outputs": [],
   "source": [
    "#res"
   ]
  },
  {
   "cell_type": "code",
   "execution_count": 99,
   "id": "8430e6ed",
   "metadata": {},
   "outputs": [],
   "source": [
    "import pandas as pd\n",
    "\n",
    "res_list2 = []\n",
    "\n",
    "for url in urls:\n",
    "    article = Article(url=url) # Article(url)\n",
    "    article.download()\n",
    "    article.parse()\n",
    "    \n",
    "    res_list = [article.title, article.authors, article.publish_date, article.text, url, article.images]\n",
    "    res_list2.append(res_list)"
   ]
  },
  {
   "cell_type": "code",
   "execution_count": 100,
   "id": "ac50cdc2",
   "metadata": {},
   "outputs": [
    {
     "data": {
      "text/plain": [
       "[[\"'반도체' 빠지니 드러난 韓기업 민낯…1분기 실적 '어닝 쇼크' 수준\",\n",
       "  [],\n",
       "  datetime.datetime(2023, 3, 24, 6, 40, tzinfo=tzoffset(None, 32400)),\n",
       "  '삼성전자 반도체 부문-하이닉스, 3조~4조대 적자 전망\\n\\n매출 상위 10위권 중 6개 기업 영업이익 큰 폭 감소\\n\\n고강도 긴축과 경기 침체 등으로 올해 1분기 국내 주요 상장사가 \\'어닝 쇼크\\'를 기록할 전망이다. 특히 삼성전자, SK하이닉스 등 한국 경제를 이끄는 간판 대기업의 영업이익은 \\'빅쇼크\\' 수준의 부진에 빠졌다. 2분기 실적 전망도 밝지 않다. 미국의 금리 인상 행진이 막바지에 다다르긴 했지만, 실리콘밸리은행(SVB)·크레디스위스(CS) 사태에 따른 금융권발 불안과 여전히 높은 물가수준 등으로 경기 침체 우려가 쉽사리 가시지 않을 것으로 보인다.\\n\\n1분기 영업이익 26조로 지난해 같은 기간의 절반\\n\\n24일 금융정보업체 에프앤가이드에 따르면 실적 추정 기관 3곳 이상인 코스피·코스닥 상장사 199곳의 올해 1분기 영업이익(이하 전망치) 총액은 26조1033억원으로 집계됐다. 지난해 1분기(50조6590억원)의 반타작 수준이다. 실적 전망치가 취합된 199개 상장사 중 약 45%에 이르는 89개 기업의 영업이익이 줄어들 전망이다. 2분기 실적은 더욱 나쁠 것으로 보인다. 2분기 영업이익 전망치 총액은 21조3125억원에 불과하다. 지난해 같은 기간의 실적(44조4322억원)의 절반에도 미치지 못하는 수치다.\\n\\n삼성전자 서초사옥 전경. 사진=김현민 기자 kimhyun81@ AD 원본보기 아이콘\\n\\n상장사 영업이익 총액이 이처럼 급감한 데는 국내 매출 순위 최상위권에 속하는 주요 대기업의 부진 영향이 컸다. 상장사 199곳 중 1분기 매출 상위 10위권에서 6개 기업의 영업이익이 지난해 같은 기간 대비 큰 폭 감소할 전망이다. 삼성전자(-88.1%)·POSCO홀딩스(-66.6%)·SK이노베이션(-63.5%)·LG전자(-45.4%)·LG화학(-40.9%)·HD현대(-24.2%)가 큰 낙폭을 보였다. 적자폭을 줄이긴 했지만 한국전력은 여전히 5조원대 손실을 기록할 것으로 보인다.\\n\\n삼성전자 1분기 적자전환 분석도 나와\\n\\n지난해 1분기 14조원대였던 삼성전자의 영업이익은 올해 1분기엔 1조6850억원에 그칠 것으로 추정됐다. 1년새 10분의1 수준으로 쪼그라든 것이다. 삼성전자 분기 영업이익이 2조원 미만으로 떨어진 것은 글로벌 금융위기가 닥쳤던 2009년 1분기(5930억원) 이후 이번이 14년 만에 처음이다. 그마저도 기존에 나온 실적 추정치의 평균치다. 이달 말로 예정된 실적 발표일이 다가올수록 전망은 더욱 비관적으로 바뀌고 있다.\\n\\n일각에서는 삼성전자 영업이익이 1조원에도 못 미치거나 아예 적자로 돌아설 것이란 우울한 전망까지 나온다. 최근 3일새 추가된 증권가 리포트 중 신한투자증권은 삼성전자 1분기 영업이익이 7680억원, 신영증권은 3200억원, 이베스트투자증권은 1000억원일 것으로 각각 예상했다. 다올투자증권은 현재까지 나온 전망치 중 유일하게 적자(-680억원) 전환할 것으로 봤다. 반도체 부문이 3조원대 후반~4조원대 초반 수준의 대규모 적자에 빠질 것이란 데에는 이견이 없었다. 김양재 다올투자증권 연구원은 \"메모리 재고 평가손실 여파로 반도체 부문 영업적자가 4조1000조원에 이를 것으로 추정된다\"라며 \"2분기부터 영업적자가 다소 줄어들 것\"이라고 내다봤다.\\n\\nSK하이닉스의 상황은 더욱 심각하다. 1분기에만 3조4710억원 규모의 적자를 기록할 전망이다. 지난해 1분기에 벌어들인 이익(2조8596억원) 규모를 뛰어넘는 수치로, 1년새 분기 영업이익이 6조원 이상 증발한 셈이다. SK하이닉스를 다룬 최신 보고서에서는 시장 예상보다 악화한 4조원대 적자를 예상하기도 했다. 서승연 신영증권 연구원은 \"SK하이닉스의 1분기 영업손실은 4조2000억원으로 시장 컨센서스를 밑돌 전망\"이라며 \"계절적 비수기 속에서 고객사의 재고 조정이 이어지며 메모리 출하량이 예상보다 줄어들 것\"이라고 봤다.\\n\\n반도체 업황은 2분기에 최악으로 치달을 것으로 보인다. 에프앤가이드에 따르면 삼성전자의 2분기 영업이익 전망치는 1분기보다 더 낮은 1조4620억원이다. 신한투자증권은 삼성전자가 2분기에 1000억원대 영업이익을 내는 데 그쳐 사실상 적자 위기에 내몰릴 것으로 봤다. SK하이닉스는 연중 내내 적자를 이어가 연간 12조원 규모의 손실을 낼 것으로 추정했다.\\n\\n올해 3분기 이후에는 반도체 업황이 점차 회복기에 진입할 것으로 보인다. 핵심은 수요다. 현재 삼성전자를 비롯한 반도체 업체의 재고자산이 평년의 2~3배에 이른다는 분석이 나오고 있다. 그럼에도 \\'인위적 감산은 없다\\'는 게 삼성전자의 공식적인 정책 방향이다. 다만 시장에서는 불어난 재고를 줄이기 위해 삼성전자가 어떤 방식으로든 감산 효과를 낼 것으로 보고 있다. 도현우 NH투자증권 연구원은 \"일부 테스트와 부품 업체에 따르면 1분기 삼성전자에서 수주한 (반도체) 물량이 30% 이상 감소하는 등 이미 상당한 규모로 감산을 진행 중\"이라고 설명했다.\\n\\n반도체 절대수요도 3분기부터는 늘어날 것으로 기대된다. 고영민 신한투자증권 책임연구원은 \"반도체 절대수요 변곡점은 올해 3~4분기가 될 것\"이라며 \"코로나19 이후 이탈했던 IT 세트 수요가 다시 정상궤도에 근접하고 있고, 매크로(거시경제) 변곡점 부근에서 IT 세트·반도체의 수요 회복 속도는 생각보다 강하고 빠를 수 있다\"라고 내다봤다. 남대종 이베스트투자증권 연구원도 \"메모리 반도체 가격의 저점은 2분기 말~3분기 초에 형성될 것\"이라며 \"공급 과잉 상황은 1분기에 피크아웃(Peak out·정점 찍고 하락)할 것이며, 하반기에 수급 상황이 개선될 것으로 본다\"라고 말했다.\\n\\n자동차·2차전지 업종이 반도체 부진 메워\\n\\n삼성전자의 부진으로 올해 1분기 상장사 실적 순위는 그야말로 지각변동이 예상된다. 반도체가 고꾸라지는 사이 자동차 산업은 북미·유럽 시장을 누비며 호황을 기록했다. 산업통상자원부에 따르면 지난 1~2월 자동차 수출액은 105억8100만달러로, 지난해 같은 기간 대비 34%나 늘었다. 특히 2월 수출액(56억달러)은 월간 기준으로 역대 최대치다. 증권가는 현대차의 1분기 영업이익이 지난해 같은 기간 대비 32.1% 늘어난 2조5481억원을 기록할 것으로 전망했다. 같은 기간 기아도 26.2% 늘어난 2조278억원의 영업이익을 나타낼 것으로 봤다. 모두 삼성전자 실적을 훌쩍 뛰어넘는 수치다. 현대차의 핵심 부품 계열사인 현대모비스도 1분기 5600억원의 영업이익을 달성하면서 증가율이 44.6%에 이르렀다.\\n\\n대표적 성장 산업으로 꼽히는 2차전지 업종 전망도 밝다. LG에너지솔루션은 올해 1분기 4516억원의 영업이익을 올릴 것으로 추정된다. 지난해 같은 기간 대비 74.4% 늘어난 수치다. 실적 성장에 힘입어 LG에너지솔루션 주가는 57만5000원(3월23일 종가)을 기록했다. 연초 대비 약 40% 뛰었다. 삼성SDI의 1분기 영업이익도 지난해보다 22.7% 증가한 3956억원으로 전망됐다. 아울러 최근 주가가 천정부지로 치솟은 \\'코스닥 대장주\\' 에코프로비엠의 올해 1분기 영업이익은 지난해(411억원)의 세 배 수준인 1132억원을 기록할 전망이다. 이안나 유안타증권 연구원은 주가가 가파르게 뛴 2차전지 관련 종목과 관련해 \"가파른 주가 상승으로 단기 조정 가능성은 있지만, 수주 물량이 많고 성장성이 뛰어나 조정 기간이 길지 않고 폭도 크지 않을 것\"이라고 내다봤다.\\n\\n장기간 적자에 시달렸던 조선 업계도 올해 1분기에는 웃을 것으로 보인다. 현대중공업·삼성중공업은 올 1분기 흑자 전환이 유력하고, 현대미포조선과 대우조선해양도 지난해 1분기에 비해 적자 규모를 줄일 것으로 전망됐다. 아울러 고금리 상황이 이어지면서 예대마진 수익 등으로 신한지주(1조9378)·KB금융(1조8887)의 영업이익 성적도 상위권을 기록할 전망이다.\\n\\n\\n\\n\\n\\n\\n\\n\\n\\n손선희 기자 sheeson@asiae.co.kr\\n\\n\\n\\nAD\\n\\n\\n\\n<ⓒ투자가를 위한 경제콘텐츠 플랫폼, 아시아경제(www.asiae.co.kr) 무단전재 배포금지>',\n",
       "  'https://view.asiae.co.kr/article/2023032217473512545',\n",
       "  {'https://cphoto.asiae.co.kr/listimglink/1/2023013110502098424_1675129821.jpg',\n",
       "   'https://cphoto.asiae.co.kr/listimglink/1/2023032216591763285_1679471958.jpg',\n",
       "   'https://cphoto.asiae.co.kr/listimglink/1/2023032316381764809_1679557097.jpg',\n",
       "   'https://cwcontent.asiae.co.kr/amgimagelink/98/2024050815041350801A.jpg',\n",
       "   'https://cwcontent.asiae.co.kr/amgimagelink/98/2024051317163820642A.jpg',\n",
       "   'https://cwcontent.asiae.co.kr/amgimagelink/98/2024052009115312362A.jpg',\n",
       "   'https://cwcontent.asiae.co.kr/asiaresize/113/2024052913225588618_1716956574.jpg',\n",
       "   'https://cwcontent.asiae.co.kr/asiaresize/113/2024052915593788994_1716965977.jpg',\n",
       "   'https://cwcontent.asiae.co.kr/asiaresize/113/2024053007511189425_1717023071.jpg',\n",
       "   'https://cwcontent.asiae.co.kr/asiaresize/113/2024053008491189543_1717026551.jpg',\n",
       "   'https://cwcontent.asiae.co.kr/asiaresize/113/2024053010483090012_1717033710.jpg',\n",
       "   'https://cwcontent.asiae.co.kr/asiaresize/210/2023041813454492572_1681793144.jpg',\n",
       "   'https://cwcontent.asiae.co.kr/asiaresize/210/2023051211082229110_1683857303.jpg',\n",
       "   'https://cwcontent.asiae.co.kr/asiaresize/210/2023070315231184534_1688365391.jpg',\n",
       "   'https://cwcontent.asiae.co.kr/asiaresize/210/2023121516474390633_1702626463.jpg',\n",
       "   'https://cwcontent.asiae.co.kr/asiaresize/210/2024010415181418981_1704349095.jpg',\n",
       "   'https://cwcontent.asiae.co.kr/asiaresize/210/2024011016330025322_1704871981.jpg',\n",
       "   'https://cwcontent.asiae.co.kr/asiaresize/269/2023122509482898923_1703465308.png',\n",
       "   'https://cwcontent.asiae.co.kr/asiaresize/269/2024041509460339082_1713141964.jpg',\n",
       "   'https://cwcontent.asiae.co.kr/asiaresize/269/2024052815443887264_1716878678.jpg',\n",
       "   'https://cwcontent.asiae.co.kr/asiaresize/269/2024052817412487600_1716885683.png',\n",
       "   'https://cwcontent.asiae.co.kr/asiaresize/269/2024052908381487969_1716939495.png',\n",
       "   'https://cwcontent.asiae.co.kr/asiaresize/269/2024052908553188022_1716940532.jpg',\n",
       "   'https://cwcontent.asiae.co.kr/asiaresize/269/2024052910074388247_1716944863.png',\n",
       "   'https://cwcontent.asiae.co.kr/asiaresize/269/2024052910441946813A.jpg',\n",
       "   'https://cwcontent.asiae.co.kr/asiaresize/269/2024052910461988410_1716947179.png',\n",
       "   'https://cwcontent.asiae.co.kr/asiaresize/269/2024052911045188471_1716948290.jpg',\n",
       "   'https://cwcontent.asiae.co.kr/asiaresize/269/2024052914235588742_1716960235.jpeg',\n",
       "   'https://cwcontent.asiae.co.kr/asiaresize/269/2024052914461488792_1716961574.png',\n",
       "   'https://cwcontent.asiae.co.kr/asiaresize/269/2024052915490388979_1716965343.jpg',\n",
       "   'https://cwcontent.asiae.co.kr/asiaresize/269/2024052916422889105_1716968548.png',\n",
       "   'https://cwcontent.asiae.co.kr/asiaresize/269/2024053003225389331_1717006973.jpeg',\n",
       "   'https://cwcontent.asiae.co.kr/asiaresize/269/2024053006335589346_1717018436.jpg',\n",
       "   'https://cwcontent.asiae.co.kr/asiaresize/269/2024053007400689402_1717022407.png',\n",
       "   'https://cwcontent.asiae.co.kr/asiaresize/269/2024053008280817323A.jpg',\n",
       "   'https://cwcontent.asiae.co.kr/asiaresize/269/2024053008323041357A.jpg',\n",
       "   'https://cwcontent.asiae.co.kr/asiaresize/269/2024053009062479496A.jpg',\n",
       "   'https://cwcontent.asiae.co.kr/asiaresize/269/2024053009383589736_1717029515.png',\n",
       "   'https://cwcontent.asiae.co.kr/asiaresize/269/2024053010023789832_1717030957.jpg',\n",
       "   'https://cwcontent.asiae.co.kr/asiaresize/269/2024053010360641972A.jpg',\n",
       "   'https://cwcontent.asiae.co.kr/asiaresize/276/2022032415383891705_1648103918.jpg',\n",
       "   'https://cwcontent.asiae.co.kr/asiaresize/276/2024042208272146743_1713742041.jpg',\n",
       "   'https://cwcontent.asiae.co.kr/asiaresize/276/2024052315424082431_1716446560.jpg',\n",
       "   'https://cwcontent.asiae.co.kr/asiaresize/276/2024052619203884625_1716718839.jpg',\n",
       "   'https://cwcontent.asiae.co.kr/asiaresize/276/2024052701130884679_1716739989.jpg',\n",
       "   'https://cwcontent.asiae.co.kr/asiaresize/276/2024052808323486302_1716852755.png',\n",
       "   'https://cwcontent.asiae.co.kr/asiaresize/276/2024052808503586359_1716853835.png',\n",
       "   'https://cwcontent.asiae.co.kr/asiaresize/276/2024052814342187134_1716874461.jpg',\n",
       "   'https://cwcontent.asiae.co.kr/asiaresize/276/2024052908001887881_1716937219.jpg',\n",
       "   'https://cwcontent.asiae.co.kr/asiaresize/276/2024052908534288013_1716940421.jpg',\n",
       "   'https://cwcontent.asiae.co.kr/asiaresize/93/2024052916422889105_1716968548.png',\n",
       "   'https://cwstatic.asiae.co.kr/asiae_v2/aside/ico_many.png',\n",
       "   'https://cwstatic.asiae.co.kr/asiae_v2/realtime/real_ban.png'}],\n",
       " [\"안소희, 풋풋 대학생→유능한 국어강사…'대치동 스캔들' 6월 19일 개봉\",\n",
       "  [],\n",
       "  datetime.datetime(2024, 5, 30, 9, 41, 25, tzinfo=tzoffset(None, 32400)),\n",
       "  '[이데일리 스타in 김보영 기자] 배우 안소희의 색다른 연기 변신을 예고하는 영화 ‘대치동 스캔들’이 오는 6월 19일 극장 개봉을 확정하고 티저 예고편과 보도스틸을 29일 공개했다.안소희, 박상남, 타쿠야, 조은유 주연의 ‘대치동 스캔들’이 오는 6월 19일 개봉을 확정하며 티저 예고편과 보도스틸을 공개해 기대감을 증폭시킨다. ‘대치동 스캔들’은 사교육의 전쟁터이자 욕망의 집결지 ‘대치동’에서 일타 강사 윤임과 학교 교사인 기행의 만남이 목격되면서 시험 문제 유출에 대한 소문이 퍼지고, 윤임이 잊고 싶었던 대학 시절과 조우하게 되는 이야기다.공개된 티저 예고편은 대치동의 실력 있는 국어 강사 윤임과 대치동 여중 국어 교사 기행이 학생들에게 공부에 대해 대조되는 이야기를 하는 모습으로 시작된다. 사실 두 사람은 문예창작과 동기이자 과거 연인 관계로, 오랜 시간이 지나 마주하게 되어 펼쳐지는 이야기에 대한 호기심을 자극한다. 또한 불편하기도 하고 수상하기도 한 두 사람의 만남에 이어 과거 대학 시절 모습들을 엿볼 수 있다. 여기에 함께 있기에 행복했고 소중했던 순간들과 어떤 이유로 윤임은 친했던 친구들과 멀어지게 되었는지, 어떤 상처와 고뇌로 방황했을지에 대한 궁금증을 높인다.함께 공개된 보도스틸들은 도회적인 이미지의 국어 강사 윤임 역으로 변신한 배우 안소희의 모습이 눈길을 끈다. 배우 안소희는 30대 강사의 모습부터 풋풋한 대학 시절의 모습을 특유의 매력으로 소화해 실감 나는 열연을 펼쳤다. 그뿐만 아니라 냉철하게 보이면서도 학생을 따뜻하게 안아주는 다면적인 면모를 엿볼 수 있어 기대감을 높인다. 또한 기행과의 불편한 만남, 그리고 대학 시절 가장 찬란했던 시기를 함께 보낸 미치오와 나은의 모습까지 담겨 이들이 펼칠 흥미로운 이야기에 대한 궁금증을 고조시킨다. 영화 ‘대치동 스캔들’은 사교육의 전쟁터인 ‘대치동’이라는 특수한 공간을 배경으로 입시, 미숙했던 시절의 질투와 사랑, 그리고 꿈과 현실 등 청춘들의 공감을 자아내는 소재를 탄탄한 스토리로 그려낸 현실 공감 드라마다. 오는 6월 19일 개봉해 관객들에게 신선한 에너지를 불어넣을 전망이다.충무로의 신선한 바람을 일으킨 스토리텔러 김수인 감독과 배우 안소희가 그려내는 현실 공감 로맨스 드라마 ‘대치동 스캔들’은 2024년 6월 19일 전국 극장에서 만날 수 있다.',\n",
       "  'https://www.edaily.co.kr/news/read?newsId=01164406638894168&mediaCodeNo=258',\n",
       "  {'https://image.edaily.co.kr/images/Photo/files/NP/S/2023/08/PS23080100718t.jpg',\n",
       "   'https://image.edaily.co.kr/images/Photo/files/NP/S/2023/11/PS23110101466t.jpg',\n",
       "   'https://image.edaily.co.kr/images/Photo/files/NP/S/2023/11/PS23110500115t.jpg',\n",
       "   'https://image.edaily.co.kr/images/Photo/files/NP/S/2023/11/PS23112700241t.jpg',\n",
       "   'https://image.edaily.co.kr/images/Photo/files/NP/S/2024/05/PS24052900471t.jpg',\n",
       "   'https://image.edaily.co.kr/images/Photo/files/NP/S/2024/05/PS24052900476t.jpg',\n",
       "   'https://image.edaily.co.kr/images/Photo/files/NP/S/2024/05/PS24052900520t.jpg',\n",
       "   'https://image.edaily.co.kr/images/Photo/files/NP/S/2024/05/PS24052900581t.jpg',\n",
       "   'https://image.edaily.co.kr/images/Photo/files/NP/S/2024/05/PS24052900754t.jpg',\n",
       "   'https://image.edaily.co.kr/images/Photo/files/NP/S/2024/05/PS24052900928t.jpg',\n",
       "   'https://image.edaily.co.kr/images/Photo/files/NP/S/2024/05/PS24052900932t.jpg',\n",
       "   'https://image.edaily.co.kr/images/Photo/files/NP/S/2024/05/PS24052901210t.jpg',\n",
       "   'https://image.edaily.co.kr/images/Photo/files/NP/S/2024/05/PS24052901221t.jpg',\n",
       "   'https://image.edaily.co.kr/images/Photo/files/NP/S/2024/05/PS24053000085t.jpg',\n",
       "   'https://image.edaily.co.kr/images/Photo/files/NP/S/2024/05/PS24053000256t.jpg',\n",
       "   'https://image.edaily.co.kr/images/Photo/files/NP/S/2024/05/PS24053000305t.jpg',\n",
       "   'https://image.edaily.co.kr/images/Photo/files/NP/S/2024/05/PS24053000391t.jpg',\n",
       "   'https://image.edaily.co.kr/images/content/naver_channel2_620x100.jpg',\n",
       "   'https://image.edaily.co.kr/images/content/전략포럼2_1080x128.jpg',\n",
       "   'https://image.edaily.co.kr/images/etc/btn_detailview.png',\n",
       "   'https://image.edaily.co.kr/news/column/kby5848.jpg?v=1',\n",
       "   'https://image.edaily.co.kr/snaptime/snt202405245004.jpg',\n",
       "   'https://spnimage.edaily.co.kr/images/Photo/files/NP/S/2024/05/PS24052900095t.jpg',\n",
       "   'https://spnimage.edaily.co.kr/images/Photo/files/NP/S/2024/05/PS24053000053.jpg',\n",
       "   'https://spnimage.edaily.co.kr/images/photo/files/NP/S/2024/05/PS24053000053.jpg',\n",
       "   'https://spnimage.edaily.co.kr/images/photo/files/NP/S/2024/05/PS24053000054.jpg',\n",
       "   'https://spnimage.edaily.co.kr/images/photo/files/NP/S/2024/05/PS24053000055.jpg',\n",
       "   'https://www.edaily.co.kr/news/이슈',\n",
       "   'https://www.edaily.co.kr/news/포토'}],\n",
       " ['MSN',\n",
       "  [],\n",
       "  None,\n",
       "  '',\n",
       "  'https://www.msn.com/ko-kr/news/other/%EC%82%BC%EC%84%B1%EC%A0%84%EC%9E%90-%EB%85%B8%EC%A1%B0-%ED%8C%8C%EC%97%85-%EC%84%A0%EC%96%B8-%EC%B0%BD%EC%82%AC-55%EB%85%84-%EB%A7%8C%EC%97%90-%EC%B2%98%EC%9D%8C-ytn/vi-BB1ngjxF',\n",
       "  set()]]"
      ]
     },
     "execution_count": 100,
     "metadata": {},
     "output_type": "execute_result"
    }
   ],
   "source": [
    "res_list2"
   ]
  },
  {
   "cell_type": "code",
   "execution_count": 101,
   "id": "05cf877c",
   "metadata": {},
   "outputs": [],
   "source": [
    "news = pd.DataFrame(res_list2, columns=['title', 'authors', 'publish_date','text', 'url', 'article.images'])"
   ]
  },
  {
   "cell_type": "code",
   "execution_count": 102,
   "id": "acbe9268",
   "metadata": {},
   "outputs": [
    {
     "data": {
      "text/html": [
       "<div>\n",
       "<style scoped>\n",
       "    .dataframe tbody tr th:only-of-type {\n",
       "        vertical-align: middle;\n",
       "    }\n",
       "\n",
       "    .dataframe tbody tr th {\n",
       "        vertical-align: top;\n",
       "    }\n",
       "\n",
       "    .dataframe thead th {\n",
       "        text-align: right;\n",
       "    }\n",
       "</style>\n",
       "<table border=\"1\" class=\"dataframe\">\n",
       "  <thead>\n",
       "    <tr style=\"text-align: right;\">\n",
       "      <th></th>\n",
       "      <th>title</th>\n",
       "      <th>authors</th>\n",
       "      <th>publish_date</th>\n",
       "      <th>text</th>\n",
       "      <th>url</th>\n",
       "      <th>article.images</th>\n",
       "    </tr>\n",
       "  </thead>\n",
       "  <tbody>\n",
       "    <tr>\n",
       "      <th>0</th>\n",
       "      <td>'반도체' 빠지니 드러난 韓기업 민낯…1분기 실적 '어닝 쇼크' 수준</td>\n",
       "      <td>[]</td>\n",
       "      <td>2023-03-24 06:40:00+09:00</td>\n",
       "      <td>삼성전자 반도체 부문-하이닉스, 3조~4조대 적자 전망\\n\\n매출 상위 10위권 중...</td>\n",
       "      <td>https://view.asiae.co.kr/article/2023032217473...</td>\n",
       "      <td>{https://cwcontent.asiae.co.kr/asiaresize/269/...</td>\n",
       "    </tr>\n",
       "    <tr>\n",
       "      <th>1</th>\n",
       "      <td>안소희, 풋풋 대학생→유능한 국어강사…'대치동 스캔들' 6월 19일 개봉</td>\n",
       "      <td>[]</td>\n",
       "      <td>2024-05-30 09:41:25+09:00</td>\n",
       "      <td>[이데일리 스타in 김보영 기자] 배우 안소희의 색다른 연기 변신을 예고하는 영화 ...</td>\n",
       "      <td>https://www.edaily.co.kr/news/read?newsId=0116...</td>\n",
       "      <td>{https://image.edaily.co.kr/images/Photo/files...</td>\n",
       "    </tr>\n",
       "    <tr>\n",
       "      <th>2</th>\n",
       "      <td>MSN</td>\n",
       "      <td>[]</td>\n",
       "      <td>NaT</td>\n",
       "      <td></td>\n",
       "      <td>https://www.msn.com/ko-kr/news/other/%EC%82%BC...</td>\n",
       "      <td>{}</td>\n",
       "    </tr>\n",
       "  </tbody>\n",
       "</table>\n",
       "</div>"
      ],
      "text/plain": [
       "                                      title authors              publish_date  \\\n",
       "0    '반도체' 빠지니 드러난 韓기업 민낯…1분기 실적 '어닝 쇼크' 수준      [] 2023-03-24 06:40:00+09:00   \n",
       "1  안소희, 풋풋 대학생→유능한 국어강사…'대치동 스캔들' 6월 19일 개봉      [] 2024-05-30 09:41:25+09:00   \n",
       "2                                       MSN      []                       NaT   \n",
       "\n",
       "                                                text  \\\n",
       "0  삼성전자 반도체 부문-하이닉스, 3조~4조대 적자 전망\\n\\n매출 상위 10위권 중...   \n",
       "1  [이데일리 스타in 김보영 기자] 배우 안소희의 색다른 연기 변신을 예고하는 영화 ...   \n",
       "2                                                      \n",
       "\n",
       "                                                 url  \\\n",
       "0  https://view.asiae.co.kr/article/2023032217473...   \n",
       "1  https://www.edaily.co.kr/news/read?newsId=0116...   \n",
       "2  https://www.msn.com/ko-kr/news/other/%EC%82%BC...   \n",
       "\n",
       "                                      article.images  \n",
       "0  {https://cwcontent.asiae.co.kr/asiaresize/269/...  \n",
       "1  {https://image.edaily.co.kr/images/Photo/files...  \n",
       "2                                                 {}  "
      ]
     },
     "execution_count": 102,
     "metadata": {},
     "output_type": "execute_result"
    }
   ],
   "source": [
    "news"
   ]
  },
  {
   "cell_type": "code",
   "execution_count": null,
   "id": "e4335d06",
   "metadata": {},
   "outputs": [],
   "source": []
  },
  {
   "cell_type": "markdown",
   "id": "c0d07624",
   "metadata": {},
   "source": [
    "### 정적 크롤링 하는 다른 패키지 방법"
   ]
  },
  {
   "cell_type": "code",
   "execution_count": 125,
   "id": "c9167132",
   "metadata": {},
   "outputs": [],
   "source": [
    "url = 'https://view.asiae.co.kr/article/2023032217473512545'"
   ]
  },
  {
   "cell_type": "code",
   "execution_count": 126,
   "id": "387f99db",
   "metadata": {},
   "outputs": [],
   "source": [
    "from bs4 import BeautifulSoup    # \n",
    "import requests                  # html 불러오는 용도로 사용"
   ]
  },
  {
   "cell_type": "code",
   "execution_count": 127,
   "id": "a32a285b",
   "metadata": {},
   "outputs": [],
   "source": [
    "content = requests.get(url).content         # 요청패키지로 url를 받아와서 content"
   ]
  },
  {
   "cell_type": "code",
   "execution_count": 128,
   "id": "577bb53e",
   "metadata": {},
   "outputs": [],
   "source": [
    "soup = BeautifulSoup(content, 'html.parser')      # html 문서를 parse 하겠습니다."
   ]
  },
  {
   "cell_type": "code",
   "execution_count": 129,
   "id": "4febd0ef",
   "metadata": {},
   "outputs": [
    {
     "data": {
      "text/plain": [
       "\"'반도체' 빠지니 드러난 韓기업 민낯…1분기 실적 '어닝 쇼크' 수준 - 아시아경제\""
      ]
     },
     "execution_count": 129,
     "metadata": {},
     "output_type": "execute_result"
    }
   ],
   "source": [
    "soup.select('title')[0].text           # soup에서 어떤 tag를 찾을 거야 title!"
   ]
  },
  {
   "cell_type": "code",
   "execution_count": 130,
   "id": "ec130151",
   "metadata": {},
   "outputs": [
    {
     "data": {
      "text/plain": [
       "[<h5>1분기 영업이익 26조로 지난해 같은 기간의 절반</h5>,\n",
       " <h5>삼성전자 1분기 적자전환 분석도 나와</h5>,\n",
       " <h5>자동차·2차전지 업종이 반도체 부진 메워</h5>]"
      ]
     },
     "execution_count": 130,
     "metadata": {},
     "output_type": "execute_result"
    }
   ],
   "source": [
    "soup.select('h5')     # 소제목부분  단, 웹사이트 확인하고 규격 마다 다를수 있다."
   ]
  },
  {
   "cell_type": "code",
   "execution_count": null,
   "id": "1dadd0f7",
   "metadata": {},
   "outputs": [],
   "source": [
    "soup.select('h4')  # 요약부분 "
   ]
  },
  {
   "cell_type": "code",
   "execution_count": 131,
   "id": "54add4af",
   "metadata": {},
   "outputs": [
    {
     "name": "stdout",
     "output_type": "stream",
     "text": [
      "'반도체' 빠지니 드러난 韓기업 민낯…1분기 실적 '어닝 쇼크' 수준\n",
      "2024년 05월 30일(목)\n",
      "\n",
      " \n",
      "손선희기자\n",
      "입력2023.03.24 06:40\n",
      "수정2023.07.24 23:04\n",
      "고강도 긴축과 경기 침체 등으로 올해 1분기 국내 주요 상장사가 '어닝 쇼크'를 기록할 전망이다. 특히 삼성전자, SK하이닉스 등 한국 경제를 이끄는 간판 대기업의 영업이익은 '빅쇼크' 수준의 부진에 빠졌다. 2분기 실적 전망도 밝지 않다. 미국의 금리 인상 행진이 막바지에 다다르긴 했지만, 실리콘밸리은행(SVB)·크레디스위스(CS) 사태에 따른 금융권발 불안과 여전히 높은 물가수준 등으로 경기 침체 우려가  쉽사리 가시지 않을 것으로 보인다.\n",
      "24일 금융정보업체 에프앤가이드에 따르면 실적 추정 기관 3곳 이상인 코스피·코스닥 상장사 199곳의 올해 1분기 영업이익(이하 전망치) 총액은 26조1033억원으로 집계됐다. 지난해 1분기(50조6590억원)의 반타작 수준이다. 실적 전망치가 취합된 199개 상장사 중 약 45%에 이르는 89개 기업의 영업이익이 줄어들 전망이다. 2분기 실적은 더욱 나쁠 것으로 보인다. 2분기 영업이익 전망치 총액은 21조3125억원에 불과하다. 지난해 같은 기간의 실적(44조4322억원)의 절반에도 미치지 못하는 수치다.\n",
      "삼성전자 서초사옥 전경. 사진=김현민 기자 kimhyun81@\n",
      "상장사 영업이익 총액이 이처럼 급감한 데는 국내 매출 순위 최상위권에 속하는 주요 대기업의 부진 영향이 컸다. 상장사 199곳 중 1분기 매출 상위 10위권에서 6개 기업의 영업이익이 지난해 같은 기간 대비 큰 폭 감소할 전망이다. 삼성전자(-88.1%)·POSCO홀딩스(-66.6%)·SK이노베이션(-63.5%)·LG전자(-45.4%)·LG화학(-40.9%)·HD현대(-24.2%)가 큰 낙폭을 보였다. 적자폭을 줄이긴 했지만 한국전력은 여전히 5조원대 손실을 기록할 것으로 보인다.\n",
      "지난해 1분기 14조원대였던 삼성전자의 영업이익은 올해 1분기엔 1조6850억원에 그칠 것으로 추정됐다. 1년새 10분의1 수준으로 쪼그라든 것이다. 삼성전자 분기 영업이익이 2조원 미만으로 떨어진 것은 글로벌 금융위기가 닥쳤던 2009년 1분기(5930억원) 이후 이번이 14년 만에 처음이다. 그마저도 기존에 나온 실적 추정치의 평균치다. 이달 말로 예정된 실적 발표일이 다가올수록 전망은 더욱 비관적으로 바뀌고 있다.\n",
      "일각에서는 삼성전자 영업이익이 1조원에도 못 미치거나 아예 적자로 돌아설 것이란 우울한 전망까지 나온다. 최근 3일새 추가된 증권가 리포트 중 신한투자증권은 삼성전자 1분기 영업이익이 7680억원, 신영증권은 3200억원, 이베스트투자증권은 1000억원일 것으로 각각 예상했다. 다올투자증권은 현재까지 나온 전망치 중 유일하게 적자(-680억원) 전환할 것으로 봤다. 반도체 부문이 3조원대 후반~4조원대 초반 수준의 대규모 적자에 빠질 것이란 데에는 이견이 없었다. 김양재 다올투자증권 연구원은 \"메모리 재고 평가손실 여파로 반도체 부문 영업적자가 4조1000조원에 이를 것으로 추정된다\"라며 \"2분기부터 영업적자가 다소 줄어들 것\"이라고 내다봤다.\n",
      "SK하이닉스의 상황은 더욱 심각하다. 1분기에만 3조4710억원 규모의 적자를 기록할 전망이다. 지난해 1분기에 벌어들인 이익(2조8596억원) 규모를 뛰어넘는 수치로, 1년새 분기 영업이익이 6조원 이상 증발한 셈이다. SK하이닉스를 다룬 최신 보고서에서는 시장 예상보다 악화한 4조원대 적자를 예상하기도 했다. 서승연 신영증권 연구원은 \"SK하이닉스의 1분기 영업손실은 4조2000억원으로 시장 컨센서스를 밑돌 전망\"이라며 \"계절적 비수기 속에서 고객사의 재고 조정이 이어지며 메모리 출하량이 예상보다 줄어들 것\"이라고 봤다.\n",
      "반도체 업황은 2분기에 최악으로 치달을 것으로 보인다. 에프앤가이드에 따르면 삼성전자의 2분기 영업이익 전망치는 1분기보다 더 낮은 1조4620억원이다. 신한투자증권은 삼성전자가 2분기에 1000억원대 영업이익을 내는 데 그쳐 사실상 적자 위기에 내몰릴 것으로 봤다. SK하이닉스는 연중 내내 적자를 이어가 연간 12조원 규모의 손실을 낼 것으로 추정했다.\n",
      "올해 3분기 이후에는 반도체 업황이 점차 회복기에 진입할 것으로 보인다. 핵심은 수요다. 현재 삼성전자를 비롯한 반도체 업체의 재고자산이 평년의 2~3배에 이른다는 분석이 나오고 있다. 그럼에도 '인위적 감산은 없다'는 게 삼성전자의 공식적인 정책 방향이다. 다만 시장에서는 불어난 재고를 줄이기 위해 삼성전자가 어떤 방식으로든 감산 효과를 낼 것으로 보고 있다. 도현우 NH투자증권 연구원은 \"일부 테스트와 부품 업체에 따르면 1분기 삼성전자에서 수주한 (반도체) 물량이 30% 이상 감소하는 등 이미 상당한 규모로 감산을 진행 중\"이라고 설명했다.\n",
      "반도체 절대수요도 3분기부터는 늘어날 것으로 기대된다. 고영민 신한투자증권 책임연구원은 \"반도체 절대수요 변곡점은 올해 3~4분기가 될 것\"이라며 \"코로나19 이후 이탈했던 IT 세트 수요가 다시 정상궤도에 근접하고 있고, 매크로(거시경제) 변곡점 부근에서 IT 세트·반도체의 수요 회복 속도는 생각보다 강하고 빠를 수 있다\"라고 내다봤다. 남대종 이베스트투자증권 연구원도 \"메모리 반도체 가격의 저점은 2분기 말~3분기 초에 형성될 것\"이라며 \"공급 과잉 상황은 1분기에 피크아웃(Peak out·정점 찍고 하락)할 것이며, 하반기에 수급 상황이 개선될 것으로 본다\"라고 말했다.\n",
      "삼성전자의 부진으로 올해 1분기 상장사 실적 순위는 그야말로 지각변동이 예상된다. 반도체가 고꾸라지는 사이 자동차 산업은 북미·유럽 시장을 누비며 호황을 기록했다. 산업통상자원부에 따르면 지난 1~2월 자동차 수출액은 105억8100만달러로, 지난해 같은 기간 대비 34%나 늘었다. 특히 2월 수출액(56억달러)은 월간 기준으로 역대 최대치다. 증권가는 현대차의 1분기 영업이익이 지난해 같은 기간 대비 32.1% 늘어난 2조5481억원을 기록할 것으로 전망했다. 같은 기간 기아도 26.2% 늘어난 2조278억원의 영업이익을 나타낼 것으로 봤다. 모두 삼성전자 실적을 훌쩍 뛰어넘는 수치다. 현대차의 핵심 부품 계열사인 현대모비스도 1분기 5600억원의 영업이익을 달성하면서 증가율이 44.6%에 이르렀다.\n",
      "대표적 성장 산업으로 꼽히는 2차전지 업종 전망도 밝다. LG에너지솔루션은 올해 1분기 4516억원의 영업이익을 올릴 것으로 추정된다. 지난해 같은 기간 대비 74.4% 늘어난 수치다. 실적 성장에 힘입어 LG에너지솔루션 주가는 57만5000원(3월23일 종가)을 기록했다. 연초 대비 약 40% 뛰었다. 삼성SDI의 1분기 영업이익도 지난해보다 22.7% 증가한 3956억원으로 전망됐다. 아울러 최근 주가가 천정부지로 치솟은 '코스닥 대장주' 에코프로비엠의 올해 1분기 영업이익은 지난해(411억원)의 세 배 수준인 1132억원을 기록할 전망이다. 이안나 유안타증권 연구원은 주가가 가파르게 뛴 2차전지 관련 종목과 관련해 \"가파른 주가 상승으로 단기 조정 가능성은 있지만, 수주 물량이 많고 성장성이 뛰어나 조정 기간이 길지 않고 폭도 크지 않을 것\"이라고 내다봤다.\n",
      "장기간 적자에 시달렸던 조선 업계도 올해 1분기에는 웃을 것으로 보인다. 현대중공업·삼성중공업은 올 1분기 흑자 전환이 유력하고, 현대미포조선과 대우조선해양도 지난해 1분기에 비해 적자 규모를 줄일 것으로 전망됐다. 아울러 고금리 상황이 이어지면서 예대마진 수익 등으로  신한지주(1조9378)·KB금융(1조8887)의 영업이익 성적도 상위권을 기록할 전망이다.\n",
      "<ⓒ투자가를 위한 경제콘텐츠 플랫폼, 아시아경제(www.asiae.co.kr) 무단전재 배포금지>\n",
      "\"돌잔치 가서 축의금 냈는데 돌잡이 돈까지…너무한 것 아닌가요...\n",
      "\"배달원 헬멧 벗고 출입하세요\"…아파트공지문 두고 갑론을박\n",
      "\"인상착의가 딱 저분이네\"…야쿠르트 판매원, 20분 만에 실종노...\n",
      "청소하러 들어간 남성 5명, 순식간에 의식 잃고 쓰러진 이유\n",
      "여친 권유로 처음 산 복권 1등 당첨…\"친동생은 로또 1등 당첨자...\n",
      "\"못 견디겠다\" 방송 중 오열한 인기 유튜버…경찰까지 출동\n",
      "여행사진 올렸을 뿐인데…가수 현아에 외국인들 '악플세례' 왜\n",
      "강남 한복판서 뒤통수 '팍팍' 까마귀 공격…전깃줄서 대기하며 ...\n",
      "\"인권보호 못 받았다\"…김호중, '이선균'까지 언급하며 경찰 맹...\n",
      "\"노인 보기 싫다\" 민원에 창문 가린 요양원…지금의 나는, 미래...\n",
      "\"저출산·고령화가 실질금리 하락시킨다\"\n",
      "스위스 중앙은행 총재 \"중립금리 상승 여부 판단 이르다\"\n",
      "유엔사령부 “북 오물풍선 공식 조사”\n",
      "머스크, 트럼프 재선 시 정책 자문역 맡나…대선 앞두고 밀착\n",
      "ILO \"올해 실업률 전망 4.9%로 하향…남녀 불평등은 여전\"\n",
      "\"소득불평등·역진세가 금리 낮춰 재정여력에 도움\"\n",
      "中전문가 \"올해 5% 성장 무난히 달성…수요 부족이 가장 큰 문제\"\n",
      "[시시비비]하이브·엔씨소프트 주목한 UAE 대통령  \n",
      "[최지혜의 트렌드2024]스토리는 맛있다…펀 다이닝의 세계\n",
      "[초동시각]인구 회복, '진짜 1등급' 가능하려면\n",
      "#국내이슈\n",
      "#해외이슈\n",
      "#포토PICK\n",
      "#CAR라이프\n",
      "#뉴스속OO\n",
      "압구정 현대 80억에 산 92년생 집주인…알고보니 '전액 대\n",
      "국내서 3000원 충주사과, 美선 1000원…충주맨 \"저도 국민\n",
      "\"노인 보기 싫다\" 민원에 창문 가린 요양원…지금의 나는, \n",
      "'청담동 술자리 의혹' 첼리스트 \"내 목소리 이용 그만\"…가\n",
      "\"인권보호 못 받았다\"…김호중, '이선균'까지 언급하며 경\n",
      "\n",
      "1\n",
      "\r\n",
      "\t\t\t\t\t\t\t에코프로그룹 올들어 시총 20조 증발…실적 부진에 매도 보고서까지\r\n",
      "\t\t\t\t\t\t\n",
      "\n",
      "\n",
      "2\n",
      "\r\n",
      "\t\t\t\t\t\t\t금융위, '횡령누락' 오스템임플란트에 15억 과징금  \r\n",
      "\t\t\t\t\t\t\n",
      "\n",
      "\n",
      "3\n",
      "\r\n",
      "\t\t\t\t\t\t\t[특징주]에이에스텍, UV 차단원료 세계적 '대세기업'…독점공급에 4배 증설 '바쁘다 바빠'\r\n",
      "\t\t\t\t\t\t\n",
      "\n",
      "\n",
      "4\n",
      "\r\n",
      "\t\t\t\t\t\t\t[기업탐방]PCB에 복합동박까지…올해 성장 자신하는 태성\r\n",
      "\t\t\t\t\t\t\n",
      "\n",
      "\n",
      "5\n",
      "\r\n",
      "\t\t\t\t\t\t\t신세계건설 살릴 6500억 자본확충 어떻게 이뤄졌나\r\n",
      "\t\t\t\t\t\t\n",
      "\n",
      "\n",
      "6\n",
      "\r\n",
      "\t\t\t\t\t\t\tVIG얼터너티브크레딧, 한국성장금융 출자 2호 펀드 청산 절차 돌입\r\n",
      "\t\t\t\t\t\t\n",
      "\n",
      "\n",
      "7\n",
      "\r\n",
      "\t\t\t\t\t\t\t[특징주]알츠하이머 조기진단 관련株‥피플바이오 상한가↑\r\n",
      "\t\t\t\t\t\t\n",
      "\n",
      "\n",
      "8\n",
      "\r\n",
      "\t\t\t\t\t\t\t호전실업, 자회사 대용무역에 81억 규모 채무보증 결정\r\n",
      "\t\t\t\t\t\t\n",
      "\n",
      "\n",
      "9\n",
      "\r\n",
      "\t\t\t\t\t\t\t미래·삼성 ETF 과열 경쟁에 난감한 금감원\r\n",
      "\t\t\t\t\t\t\n",
      "\n",
      "\n",
      "10\n",
      "\r\n",
      "\t\t\t\t\t\t\t한국공인회계사회, ‘제5회 가치평가 포럼’ 개최 \r\n",
      "\t\t\t\t\t\t\n",
      "\n",
      "블랙이글스가 하늘에수 놓은 UAE국기의 비밀\n",
      "\"버닝썬서 의식잃어…그날 DJ는 승리\" 홍콩 인플루언서 충격고백\n",
      "불가마에 갇힌 인도, 최고치 찍은 다음날 52.3도 '사상 최고'\n",
      "\"존윅이 오징어 굽는다\"…자고 일어나니 스타된 독일 남성\n",
      "1년 넘게 사귄 신부가 알고보니…인니판 전청조 터졌다\n",
      "\"저출산·고령화가 실질금리 하락시킨다\"\n",
      "스위스 중앙은행 총재 \"중립금리 상승 여부 판단 이르다\"\n",
      "을지로 신상 정복\n",
      " 피코크 냉동식품전격 리뷰\n",
      "또간집 ver.1\n",
      "책 펼쳤는데 왜 군침이 돌지 \n",
      "젤리 먹는 맛에 살어리랏다 \n",
      "연말→연초에 보기 좋은 영화 \n",
      "기획 시리즈❤\n",
      "구정에 도란도란 마시기 좋은 술 3\n",
      "점심 해장, 여기에서 했어요(feat. 충무로)\n",
      "\"이 조합 가능?\" 의외의 안주와 한 잔\n",
      "12월에는 ‘이거’ 꼭 먹자고요 \n",
      "‘이냉치냉’으로 즐기는 먹거리\n",
      "비건·단백질? 내가 사랑한 든든한 음료\n",
      "[인터뷰] 힙지로 숨은 독립서점 ‘보위옥’\n",
      "\n",
      "\n",
      "\t\t\t\t\t\t\t\t\t서울특별시 중구 충무로 29 아시아미디어타워 10-11F\n",
      "\t\t\t\t\t\t\t\t\n",
      "\n",
      "\t\t\t\t\t\t\t\t\t인터넷신문등록번호 : 서울 아00058\n",
      "\t\t\t\t\t\t\t\t\n",
      "\n",
      "\t\t\t\t\t\t\t\t\t등록일 : 2005.09.13\n",
      "\t\t\t\t\t\t\t\t\n",
      "\n",
      "\t\t\t\t\t\t\t\t\t발행·편집인 : 우병현\n",
      "\t\t\t\t\t\t\t\t\n",
      "\n",
      "\n",
      "대표 전화번호 : 02) 2200-2114\n",
      "통신판매업번호 : 2010-서울중구-0172\n",
      "사업자등록번호 : 101-86-15912\n",
      "\n",
      "\n",
      "\t\t\t\t\t\t\t\t아시아경제의 모든 콘텐츠(기사)는 저작권법의 보호를 받는 바, 무단 전재. 복사. 배포 등을 금합니다.\n",
      "\t\t\t\t\t\t\t\n",
      "\n",
      "ⓒ 아시아경제 All rights reserved.\n",
      "\n"
     ]
    }
   ],
   "source": [
    "# p는 문자열이 아니기 때문에 문자열로 맞춰야 된다.  // 각각의p태그를 .text로 바꾸고 list를 받고 문자열로 만든다.\n",
    "print('\\n'.join([s.text for s in soup.select('p')]))                  # 본문 부분 정리 // 문단끼리는 f 치는게 기본? // \\n 문단나누는거"
   ]
  },
  {
   "cell_type": "code",
   "execution_count": 132,
   "id": "3d13aba2",
   "metadata": {
    "scrolled": true
   },
   "outputs": [
    {
     "data": {
      "text/plain": [
       "[<img alt=\"걷기챌린지 4 하만하천 골프장 걷기  \" loading=\"lazy\" src=\"https://cwcontent.asiae.co.kr/amgimagelink/98/2024052009115312362A.jpg\"/>,\n",
       " <img alt=\"아시아경제 교육센터 K-MOVE 스쿨\" loading=\"lazy\" src=\"https://cwcontent.asiae.co.kr/amgimagelink/98/2024051317163820642A.jpg\"/>,\n",
       " <img alt=\"2024 NH농협은행·아시아경제 올원 루키 테니스 페스티벌\" loading=\"lazy\" src=\"https://cwcontent.asiae.co.kr/amgimagelink/98/2024050815041350801A.jpg\"/>,\n",
       " <img alt=\"삼성전자 서초사옥 전경. 사진=김현민 기자 kimhyun81@\" src=\"https://cphoto.asiae.co.kr/listimglink/1/2023013110502098424_1675129821.jpg\"/>,\n",
       " <img alt=\"'반도체' 빠지니 드러난 韓기업 민낯…1분기 실적 '어닝 쇼크' 수준\" src=\"https://cphoto.asiae.co.kr/listimglink/1/2023032216591763285_1679471958.jpg\"/>,\n",
       " <img alt=\"'반도체' 빠지니 드러난 韓기업 민낯…1분기 실적 '어닝 쇼크' 수준\" src=\"https://cphoto.asiae.co.kr/listimglink/1/2023032316381764809_1679557097.jpg\"/>,\n",
       " <img alt=\"냉면 먹고 1명 사망·30명 식중독…업주는 집행유예 2년에 사회봉사 처벌\" src=\"https://cwcontent.asiae.co.kr/asiaresize/93/2024053009542689803_1717030467.jpg\">\n",
       " <span class=\"t_txt\">냉면 먹고 1명 사망·30명 식중독…업주는 집행유...</span>\n",
       " <span class=\"mask\">마스크영역</span>\n",
       " </img>,\n",
       " <img alt='\"돌잔치 가서 축의금 냈는데 돌잡이 돈까지…너무한 것 아닌가요?\"' src=\"https://cwcontent.asiae.co.kr/asiaresize/269/2024052910461988410_1716947179.png\"/>,\n",
       " <img alt='\"배달원 헬멧 벗고 출입하세요\"…아파트공지문 두고 갑론을박' src=\"https://cwcontent.asiae.co.kr/asiaresize/269/2024052908381487969_1716939495.png\"/>,\n",
       " <img alt='\"인상착의가 딱 저분이네\"…야쿠르트 판매원, 20분 만에 실종노인 찾아내' src=\"https://cwcontent.asiae.co.kr/asiaresize/269/2024052915490388979_1716965343.jpg\"/>,\n",
       " <img alt=\"청소하러 들어간 남성 5명, 순식간에 의식 잃고 쓰러진 이유\" src=\"https://cwcontent.asiae.co.kr/asiaresize/269/2024041509460339082_1713141964.jpg\"/>,\n",
       " <img alt='여친 권유로 처음 산 복권 1등 당첨…\"친동생은 로또 1등 당첨자였어요\"' src=\"https://cwcontent.asiae.co.kr/asiaresize/269/2024052914235588742_1716960235.jpeg\"/>,\n",
       " <img alt='\"못 견디겠다\" 방송 중 오열한 인기 유튜버…경찰까지 출동' src=\"https://cwcontent.asiae.co.kr/asiaresize/269/2024052817412487600_1716885683.png\"/>,\n",
       " <img alt=\"여행사진 올렸을 뿐인데…가수 현아에 외국인들 '악플세례' 왜\" src=\"https://cwcontent.asiae.co.kr/asiaresize/269/2024052908553188022_1716940532.jpg\"/>,\n",
       " <img alt=\"강남 한복판서 뒤통수 '팍팍' 까마귀 공격…전깃줄서 대기하며 계속 노려\" src=\"https://cwcontent.asiae.co.kr/asiaresize/269/2024052910074388247_1716944863.png\"/>,\n",
       " <img alt=\"&quot;인권보호 못 받았다&quot;…김호중, '이선균'까지 언급하며 경찰 맹비난\" src=\"https://cwcontent.asiae.co.kr/asiaresize/269/2024052911045188471_1716948290.jpg\"/>,\n",
       " <img alt='\"노인 보기 싫다\" 민원에 창문 가린 요양원…지금의 나는, 미래의 너다[시니어하우스] ' src=\"https://cwcontent.asiae.co.kr/asiaresize/269/2024052815443887264_1716878678.jpg\"/>,\n",
       " <img alt=\"\" src=\"https://cwcontent.asiae.co.kr/asiaresize/269/2024053009062479496A.jpg\" 실질금리=\"\" 저출산·고령화가=\"\" 하락시킨다\"\"=\"\"/>,\n",
       " <img alt=\"스위스 중앙은행 총재 \" src=\"https://cwcontent.asiae.co.kr/asiaresize/269/2024053007400689402_1717022407.png\" 상승=\"\" 여부=\"\" 이르다\"\"=\"\" 중립금리=\"\" 판단=\"\"/>,\n",
       " <img alt=\"유엔사령부 “북 오물풍선 공식 조사”\" src=\"https://cwcontent.asiae.co.kr/asiaresize/269/2024053008280817323A.jpg\"/>,\n",
       " <img alt=\"머스크, 트럼프 재선 시 정책 자문역 맡나…대선 앞두고 밀착\" src=\"https://cwcontent.asiae.co.kr/asiaresize/269/2024053003225389331_1717006973.jpeg\"/>,\n",
       " <img 4.9%로=\"\" alt=\"ILO \" src=\"https://cwcontent.asiae.co.kr/asiaresize/269/2024053006335589346_1717018436.jpg\" 불평등은=\"\" 실업률=\"\" 여전\"\"=\"\" 올해=\"\" 전망=\"\" 하향…남녀=\"\"/>,\n",
       " <img alt=\"\" src=\"https://cwcontent.asiae.co.kr/asiaresize/269/2024053009383589736_1717029515.png\" 금리=\"\" 낮춰=\"\" 도움\"\"=\"\" 소득불평등·역진세가=\"\" 재정여력에=\"\"/>,\n",
       " <img 5%=\"\" alt=\"中전문가 \" src=\"https://cwcontent.asiae.co.kr/asiaresize/269/2024053010023789832_1717030957.jpg\" 가장=\"\" 달성…수요=\"\" 무난히=\"\" 문제\"\"=\"\" 부족이=\"\" 성장=\"\" 올해=\"\" 큰=\"\"/>,\n",
       " <img alt=\"[시시비비]하이브·엔씨소프트 주목한 UAE 대통령  \" src=\"https://cwcontent.asiae.co.kr/asiaresize/269/2024053008323041357A.jpg\"/>,\n",
       " <img alt=\"[최지혜의 트렌드2024]스토리는 맛있다…펀 다이닝의 세계\" src=\"https://cwcontent.asiae.co.kr/asiaresize/269/2024053010560862458A.jpg\"/>,\n",
       " <img alt=\"[초동시각]인구 회복, '진짜 1등급' 가능하려면\" src=\"https://cwcontent.asiae.co.kr/asiaresize/269/2024053010360641972A.jpg\"/>,\n",
       " <img alt=\"[포토] 북한탄도미사일 발사\" src=\"https://cwcontent.asiae.co.kr/asiaresize/113/2024053008491189543_1717026551.jpg\"/>,\n",
       " <img alt=\"&quot;곰도 놀라고 우리도 놀랐어요&quot;…지리산서 반달가슴곰 '불쑥'\" src=\"https://cwcontent.asiae.co.kr/asiaresize/276/2024052908001887881_1716937219.jpg\"/>,\n",
       " <img alt=\"지역비하에 성희롱 논란까지…피식대학 구독자 300만 붕괴\" src=\"https://cwcontent.asiae.co.kr/asiaresize/276/2024052808323486302_1716852755.png\"/>,\n",
       " <img alt='\"버닝썬서 의식잃어…그날 DJ는 승리\" 홍콩 인플루언서 충격고백' src=\"https://cwcontent.asiae.co.kr/asiaresize/113/2024053007511189425_1717023071.jpg\"/>,\n",
       " <img alt=\"안개 때문에 열차-신호등 헷갈려…미국 테슬라차주 목숨 잃을 뻔\" src=\"https://cwcontent.asiae.co.kr/asiaresize/276/2024052908534288013_1716940421.jpg\"/>,\n",
       " <img alt='\"5년 뒤에도 뛰어내릴 것\"…95살 한국전 참전용사, 스카이다이빙 도전기' src=\"https://cwcontent.asiae.co.kr/asiaresize/276/2024052808503586359_1716853835.png\"/>,\n",
       " <img alt=\"[포토] 시트지로 가린 창문 속 노인의 외침 '지금의 나는 미래의 너다'\" src=\"https://cwcontent.asiae.co.kr/asiaresize/113/2024052913225588618_1716956574.jpg\"/>,\n",
       " <img alt=\"[포토] 수채화 같은 맑은 하늘\" src=\"https://cwcontent.asiae.co.kr/asiaresize/276/2024052814342187134_1716874461.jpg\"/>,\n",
       " <img alt=\"[이미지 다이어리] 딱따구리와 나무의 공생\" src=\"https://cwcontent.asiae.co.kr/asiaresize/276/2024052701130884679_1716739989.jpg\"/>,\n",
       " <img alt='3년간 팔린 택시 10대 중 3대 전기차…현대차 \"전용 플랫폼 효과\"' src=\"https://cwcontent.asiae.co.kr/asiaresize/113/2024053010483090012_1717033710.jpg\"/>,\n",
       " <img alt=\"현대차, 中·인도·인니 배터리 전략 다르게…UAM은 수소전지로\" src=\"https://cwcontent.asiae.co.kr/asiaresize/276/2024052315424082431_1716446560.jpg\"/>,\n",
       " <img alt=\"&quot;없어서 못 팔아&quot; 출시 2개월 만에 완판…예상 밖 '전기차 강자' 된 아우디\" src=\"https://cwcontent.asiae.co.kr/asiaresize/276/2024052619203884625_1716718839.jpg\"/>,\n",
       " <img alt=\"[뉴스속 용어]한-UAE 'CEPA' 체결, FTA와 차이점은?\" src=\"https://cwcontent.asiae.co.kr/asiaresize/113/2024052915593788994_1716965977.jpg\"/>,\n",
       " <img alt=\"[뉴스속 용어]'거대언어모델(LLM)' 개발에 속도내는 엔씨소프트\" src=\"https://cwcontent.asiae.co.kr/asiaresize/276/2022032415383891705_1648103918.jpg\"/>,\n",
       " <img alt=\"[뉴스속 용어]급발진 재연 시험 결과 '사고기록장치' 신뢰성 의문?\" src=\"https://cwcontent.asiae.co.kr/asiaresize/276/2024042208272146743_1713742041.jpg\"/>,\n",
       " <img alt=\"!\" src=\"https://cwstatic.asiae.co.kr/asiae_v2/aside/ico_many.png\"/>,\n",
       " <img alt=\"압구정 현대 80억에 산 92년생 집주인…알고보니 '전액 대출'\" src=\"https://cwcontent.asiae.co.kr/asiaresize/269/2024052916422889105_1716968548.png\"/>,\n",
       " <img alt='국내서 3000원 충주사과, 美선 1000원…충주맨 \"저도 국민도 속았다\"' src=\"https://cwcontent.asiae.co.kr/asiaresize/269/2024052914461488792_1716961574.png\"/>,\n",
       " <img alt='\"노인 보기 싫다\" 민원에 창문 가린 요양원…지금의 나는, 미래의 너다[시니어하우스] ' src=\"https://cwcontent.asiae.co.kr/asiaresize/269/2024052815443887264_1716878678.jpg\"/>,\n",
       " <img alt=\"'청담동 술자리 의혹' 첼리스트 &quot;내 목소리 이용 그만&quot;…가처분 신청\" src=\"https://cwcontent.asiae.co.kr/asiaresize/269/2023122509482898923_1703465308.png\"/>,\n",
       " <img alt=\"&quot;인권보호 못 받았다&quot;…김호중, '이선균'까지 언급하며 경찰 맹비난\" src=\"https://cwcontent.asiae.co.kr/asiaresize/269/2024052911045188471_1716948290.jpg\"/>,\n",
       " <img alt=\"실시간뉴스 배너\" src=\"https://cwstatic.asiae.co.kr/asiae_v2/realtime/real_ban.png\">\n",
       " </img>,\n",
       " <img alt=\"을지로 신상 정복\" src=\"https://cwcontent.asiae.co.kr/asiaresize/210/2023070315231184534_1688365391.jpg\"/>,\n",
       " <img alt=\" 피코크 냉동식품전격 리뷰\" src=\"https://cwcontent.asiae.co.kr/asiaresize/210/2023051211082229110_1683857303.jpg\"/>,\n",
       " <img alt=\"또간집 ver.1\" src=\"https://cwcontent.asiae.co.kr/asiaresize/210/2023041813454492572_1681793144.jpg\"/>,\n",
       " <img alt=\"책 펼쳤는데 왜 군침이 돌지 \" src=\"https://cwcontent.asiae.co.kr/asiaresize/210/2024011016330025322_1704871981.jpg\"/>,\n",
       " <img alt=\"젤리 먹는 맛에 살어리랏다 \" src=\"https://cwcontent.asiae.co.kr/asiaresize/210/2024010415181418981_1704349095.jpg\"/>,\n",
       " <img alt=\"연말→연초에 보기 좋은 영화 \" src=\"https://cwcontent.asiae.co.kr/asiaresize/210/2023121516474390633_1702626463.jpg\"/>]"
      ]
     },
     "execution_count": 132,
     "metadata": {},
     "output_type": "execute_result"
    }
   ],
   "source": [
    "# 이미지 태그 찾기\n",
    "soup.select('img')    \n",
    "\n",
    "# 이미지 소스"
   ]
  },
  {
   "cell_type": "code",
   "execution_count": null,
   "id": "b3619f0e",
   "metadata": {},
   "outputs": [],
   "source": []
  },
  {
   "cell_type": "code",
   "execution_count": null,
   "id": "1133ee29",
   "metadata": {},
   "outputs": [],
   "source": []
  },
  {
   "cell_type": "code",
   "execution_count": null,
   "id": "8c0e30a7",
   "metadata": {},
   "outputs": [],
   "source": []
  }
 ],
 "metadata": {
  "kernelspec": {
   "display_name": "Python 3 (ipykernel)",
   "language": "python",
   "name": "python3"
  },
  "language_info": {
   "codemirror_mode": {
    "name": "ipython",
    "version": 3
   },
   "file_extension": ".py",
   "mimetype": "text/x-python",
   "name": "python",
   "nbconvert_exporter": "python",
   "pygments_lexer": "ipython3",
   "version": "3.11.7"
  }
 },
 "nbformat": 4,
 "nbformat_minor": 5
}
