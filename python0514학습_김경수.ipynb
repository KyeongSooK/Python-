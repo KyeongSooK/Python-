{
 "cells": [
  {
   "cell_type": "markdown",
   "id": "2d86ce6d",
   "metadata": {},
   "source": [
    "[대상 문자열]\n",
    "txt = ‘파이썬오늘은\\t문자열을\\t배웠고,\\t그\\t지식을\\t이용해서\\t문자열\\t수정을\\t해\\t봅시다.\\n파이썬’\n",
    "\n",
    "1. 모든 한글만 추출한다\n",
    "2. 콤마(,)를 기준으로 줄바꿈을 해 문자열을 출력한다\n",
    "3. ‘파이썬’ 이라는 글자를 지워 txt3 변수에 저장한다\n",
    "4. 출력 예시와 같이 출력한다\n",
    "\n",
    "[출력 예시]\n",
    " 오늘은% 문자열을% 배웠고,% \n",
    " 그% 지식을% 이용해서% 문자열% 수정을% 해% 봅시다.\n",
    " \n",
    " ppt 3장 끝 과제\n"
   ]
  },
  {
   "cell_type": "code",
   "execution_count": 1,
   "id": "6d525211",
   "metadata": {},
   "outputs": [],
   "source": [
    "txt = '파이썬오늘은\\t문자열을\\t배웠고,\\t그\\t지식을\\t이용해서\\t문자열\\t수정을\\t해\\t봅시다.\\n파이썬'"
   ]
  },
  {
   "cell_type": "code",
   "execution_count": 2,
   "id": "b2674aa0",
   "metadata": {},
   "outputs": [],
   "source": [
    "import re"
   ]
  },
  {
   "cell_type": "code",
   "execution_count": 3,
   "id": "605a79a8",
   "metadata": {},
   "outputs": [
    {
     "data": {
      "text/plain": [
       "'파이썬오늘은문자열을배웠고그지식을이용해서문자열수정을해봅시다파이썬'"
      ]
     },
     "execution_count": 3,
     "metadata": {},
     "output_type": "execute_result"
    }
   ],
   "source": [
    "re.sub('[^가-힣]','',txt)"
   ]
  },
  {
   "cell_type": "code",
   "execution_count": 4,
   "id": "9a61048f",
   "metadata": {},
   "outputs": [
    {
     "name": "stdout",
     "output_type": "stream",
     "text": [
      "파이썬오늘은\t문자열을\t배웠고,\t그\t지식을\t이용해서\t문자열\t수정을\t해\t봅시다\n",
      "\n",
      "파이썬\n"
     ]
    }
   ],
   "source": [
    "print(txt.replace('.','\\n'))"
   ]
  },
  {
   "cell_type": "code",
   "execution_count": 5,
   "id": "fe7eabe5",
   "metadata": {},
   "outputs": [],
   "source": [
    "txt3 = txt.replace('파이썬','')"
   ]
  },
  {
   "cell_type": "code",
   "execution_count": 6,
   "id": "8cab7144",
   "metadata": {},
   "outputs": [
    {
     "data": {
      "text/plain": [
       "'오늘은\\t문자열을\\t배웠고,\\t그\\t지식을\\t이용해서\\t문자열\\t수정을\\t해\\t봅시다.\\n'"
      ]
     },
     "execution_count": 6,
     "metadata": {},
     "output_type": "execute_result"
    }
   ],
   "source": [
    "txt3"
   ]
  },
  {
   "cell_type": "code",
   "execution_count": 7,
   "id": "9cba5e15",
   "metadata": {},
   "outputs": [
    {
     "name": "stdout",
     "output_type": "stream",
     "text": [
      "오늘은% 문자열을% 배웠고,% \n",
      "그% 지식을% 이용해서% 문자열% 수정을% 해% 봅시다.\n",
      "\n"
     ]
    }
   ],
   "source": [
    "print(txt3.replace('그','\\n그').replace('\\t','% '))"
   ]
  },
  {
   "cell_type": "markdown",
   "id": "cd7585b1",
   "metadata": {},
   "source": [
    "복습 0513일"
   ]
  },
  {
   "cell_type": "markdown",
   "id": "4fb70252",
   "metadata": {},
   "source": [
    "0.1 0.2 0.3 0.4 0.5"
   ]
  },
  {
   "cell_type": "code",
   "execution_count": 8,
   "id": "e37998d7",
   "metadata": {},
   "outputs": [
    {
     "name": "stdout",
     "output_type": "stream",
     "text": [
      "0.1\n",
      "0.2\n",
      "0.3\n",
      "0.4\n",
      "0.5\n"
     ]
    }
   ],
   "source": [
    "for i in range(1,6,1):\n",
    "    print(i/10)"
   ]
  },
  {
   "cell_type": "markdown",
   "id": "341c916f",
   "metadata": {},
   "source": [
    "넘파이의 연산"
   ]
  },
  {
   "cell_type": "code",
   "execution_count": 9,
   "id": "eb1f5b3d",
   "metadata": {},
   "outputs": [],
   "source": [
    "import numpy as np"
   ]
  },
  {
   "cell_type": "code",
   "execution_count": 10,
   "id": "595fecaf",
   "metadata": {},
   "outputs": [],
   "source": [
    "arr = np.array([1,2,3,4,5])"
   ]
  },
  {
   "cell_type": "code",
   "execution_count": 11,
   "id": "d02af0d5",
   "metadata": {},
   "outputs": [
    {
     "data": {
      "text/plain": [
       "array([1, 2, 3, 4, 5])"
      ]
     },
     "execution_count": 11,
     "metadata": {},
     "output_type": "execute_result"
    }
   ],
   "source": [
    "arr"
   ]
  },
  {
   "cell_type": "code",
   "execution_count": 12,
   "id": "b81f75b2",
   "metadata": {},
   "outputs": [
    {
     "data": {
      "text/plain": [
       "array([16, 17, 18, 19, 20])"
      ]
     },
     "execution_count": 12,
     "metadata": {},
     "output_type": "execute_result"
    }
   ],
   "source": [
    "arr + 15"
   ]
  },
  {
   "cell_type": "code",
   "execution_count": 13,
   "id": "e7e0baf4",
   "metadata": {},
   "outputs": [
    {
     "data": {
      "text/plain": [
       "array([ 2,  4,  6,  8, 10])"
      ]
     },
     "execution_count": 13,
     "metadata": {},
     "output_type": "execute_result"
    }
   ],
   "source": [
    "arr * 2"
   ]
  },
  {
   "cell_type": "code",
   "execution_count": 14,
   "id": "15363029",
   "metadata": {},
   "outputs": [],
   "source": [
    "#arr + np.array([1,2])"
   ]
  },
  {
   "cell_type": "code",
   "execution_count": 15,
   "id": "0b011757",
   "metadata": {},
   "outputs": [
    {
     "data": {
      "text/plain": [
       "array([1, 2, 3, 4, 5, 1, 2, 3])"
      ]
     },
     "execution_count": 15,
     "metadata": {},
     "output_type": "execute_result"
    }
   ],
   "source": [
    "np.append(arr, [1,2,3])   # "
   ]
  },
  {
   "cell_type": "code",
   "execution_count": 16,
   "id": "6ddf4ec8",
   "metadata": {},
   "outputs": [
    {
     "data": {
      "text/plain": [
       "array([1, 2, 3, 4, 5])"
      ]
     },
     "execution_count": 16,
     "metadata": {},
     "output_type": "execute_result"
    }
   ],
   "source": [
    "arr"
   ]
  },
  {
   "cell_type": "code",
   "execution_count": 17,
   "id": "9da9667a",
   "metadata": {},
   "outputs": [
    {
     "data": {
      "text/plain": [
       "5"
      ]
     },
     "execution_count": 17,
     "metadata": {},
     "output_type": "execute_result"
    }
   ],
   "source": [
    "arr[4]"
   ]
  },
  {
   "cell_type": "code",
   "execution_count": 18,
   "id": "ad15f5ff",
   "metadata": {},
   "outputs": [
    {
     "data": {
      "text/plain": [
       "3"
      ]
     },
     "execution_count": 18,
     "metadata": {},
     "output_type": "execute_result"
    }
   ],
   "source": [
    "arr[-3]"
   ]
  },
  {
   "cell_type": "code",
   "execution_count": 19,
   "id": "1405e790",
   "metadata": {},
   "outputs": [
    {
     "data": {
      "text/plain": [
       "array([2, 3, 4, 5])"
      ]
     },
     "execution_count": 19,
     "metadata": {},
     "output_type": "execute_result"
    }
   ],
   "source": [
    "arr[1:]   # 1빼고"
   ]
  },
  {
   "cell_type": "code",
   "execution_count": 20,
   "id": "72bc2131",
   "metadata": {},
   "outputs": [
    {
     "data": {
      "text/plain": [
       "array([3, 5])"
      ]
     },
     "execution_count": 20,
     "metadata": {},
     "output_type": "execute_result"
    }
   ],
   "source": [
    "arr[2::2]"
   ]
  },
  {
   "cell_type": "code",
   "execution_count": 21,
   "id": "50693c1e",
   "metadata": {},
   "outputs": [],
   "source": [
    "arr2d = np.array([[1,2,3],[4,5,6],[7,8,9]])"
   ]
  },
  {
   "cell_type": "code",
   "execution_count": 22,
   "id": "f3003a19",
   "metadata": {},
   "outputs": [
    {
     "data": {
      "text/plain": [
       "array([[1, 2, 3],\n",
       "       [4, 5, 6],\n",
       "       [7, 8, 9]])"
      ]
     },
     "execution_count": 22,
     "metadata": {},
     "output_type": "execute_result"
    }
   ],
   "source": [
    "arr2d"
   ]
  },
  {
   "cell_type": "code",
   "execution_count": 23,
   "id": "2728751c",
   "metadata": {},
   "outputs": [
    {
     "data": {
      "text/plain": [
       "array([[ 2,  3,  4],\n",
       "       [ 5,  6,  7],\n",
       "       [ 8,  9, 10]])"
      ]
     },
     "execution_count": 23,
     "metadata": {},
     "output_type": "execute_result"
    }
   ],
   "source": [
    "arr2d + 1        # 브로드캐스팅 가능"
   ]
  },
  {
   "cell_type": "code",
   "execution_count": 24,
   "id": "5c42638f",
   "metadata": {},
   "outputs": [
    {
     "data": {
      "text/plain": [
       "array([ 8, 10, 12])"
      ]
     },
     "execution_count": 24,
     "metadata": {},
     "output_type": "execute_result"
    }
   ],
   "source": [
    "arr2d[1] * 2"
   ]
  },
  {
   "cell_type": "code",
   "execution_count": 25,
   "id": "8cf115b2",
   "metadata": {},
   "outputs": [],
   "source": [
    "np.savez('./arr.npz', AAA=arr2d)"
   ]
  },
  {
   "cell_type": "code",
   "execution_count": 26,
   "id": "5f71b9ef",
   "metadata": {},
   "outputs": [
    {
     "data": {
      "text/plain": [
       "array([[1, 2, 3],\n",
       "       [4, 5, 6],\n",
       "       [7, 8, 9]])"
      ]
     },
     "execution_count": 26,
     "metadata": {},
     "output_type": "execute_result"
    }
   ],
   "source": [
    "np.load('./arr.npz')['AAA']     # 파일명 쓸때는 자동완성 TAP 키 쓰기."
   ]
  },
  {
   "cell_type": "markdown",
   "id": "07d0a014",
   "metadata": {},
   "source": [
    "판다스의 연산"
   ]
  },
  {
   "cell_type": "code",
   "execution_count": 27,
   "id": "a7ae6095",
   "metadata": {},
   "outputs": [],
   "source": [
    "import pandas as pd"
   ]
  },
  {
   "cell_type": "code",
   "execution_count": 28,
   "id": "6a68d6fb",
   "metadata": {
    "scrolled": true
   },
   "outputs": [
    {
     "data": {
      "text/plain": [
       "0    1\n",
       "1    2\n",
       "2    3\n",
       "dtype: int64"
      ]
     },
     "execution_count": 28,
     "metadata": {},
     "output_type": "execute_result"
    }
   ],
   "source": [
    "pd.Series([1,2,3])"
   ]
  },
  {
   "cell_type": "code",
   "execution_count": 29,
   "id": "e7fe2761",
   "metadata": {},
   "outputs": [
    {
     "data": {
      "text/plain": [
       "array([1, 2, 3])"
      ]
     },
     "execution_count": 29,
     "metadata": {},
     "output_type": "execute_result"
    }
   ],
   "source": [
    "np.array([1,2,3])"
   ]
  },
  {
   "cell_type": "code",
   "execution_count": 30,
   "id": "55af36f2",
   "metadata": {
    "scrolled": true
   },
   "outputs": [],
   "source": [
    "df = pd.DataFrame([[1,2,3],[4,5,6]], columns=['A','B','C'], index=['가','나'])#.T         # .T 추가시 = Transform 명령어 컬럼과 로우가 바뀐다. 축정보가 바뀐다."
   ]
  },
  {
   "cell_type": "code",
   "execution_count": 31,
   "id": "768b5116",
   "metadata": {},
   "outputs": [
    {
     "data": {
      "text/html": [
       "<div>\n",
       "<style scoped>\n",
       "    .dataframe tbody tr th:only-of-type {\n",
       "        vertical-align: middle;\n",
       "    }\n",
       "\n",
       "    .dataframe tbody tr th {\n",
       "        vertical-align: top;\n",
       "    }\n",
       "\n",
       "    .dataframe thead th {\n",
       "        text-align: right;\n",
       "    }\n",
       "</style>\n",
       "<table border=\"1\" class=\"dataframe\">\n",
       "  <thead>\n",
       "    <tr style=\"text-align: right;\">\n",
       "      <th></th>\n",
       "      <th>A</th>\n",
       "      <th>B</th>\n",
       "      <th>C</th>\n",
       "    </tr>\n",
       "  </thead>\n",
       "  <tbody>\n",
       "    <tr>\n",
       "      <th>가</th>\n",
       "      <td>1</td>\n",
       "      <td>2</td>\n",
       "      <td>3</td>\n",
       "    </tr>\n",
       "    <tr>\n",
       "      <th>나</th>\n",
       "      <td>4</td>\n",
       "      <td>5</td>\n",
       "      <td>6</td>\n",
       "    </tr>\n",
       "  </tbody>\n",
       "</table>\n",
       "</div>"
      ],
      "text/plain": [
       "   A  B  C\n",
       "가  1  2  3\n",
       "나  4  5  6"
      ]
     },
     "execution_count": 31,
     "metadata": {},
     "output_type": "execute_result"
    }
   ],
   "source": [
    "df"
   ]
  },
  {
   "cell_type": "code",
   "execution_count": 32,
   "id": "22e02e63",
   "metadata": {},
   "outputs": [
    {
     "data": {
      "text/plain": [
       "5"
      ]
     },
     "execution_count": 32,
     "metadata": {},
     "output_type": "execute_result"
    }
   ],
   "source": [
    "df['B']['나']      # 인덱싱 할때 [row] [colunm] 반대로 해야됨"
   ]
  },
  {
   "cell_type": "code",
   "execution_count": 33,
   "id": "8251cad2",
   "metadata": {},
   "outputs": [
    {
     "data": {
      "text/plain": [
       "5"
      ]
     },
     "execution_count": 33,
     "metadata": {},
     "output_type": "execute_result"
    }
   ],
   "source": [
    "df.loc['나','B']   # 인덱스이 값으로"
   ]
  },
  {
   "cell_type": "code",
   "execution_count": 34,
   "id": "15ef4ebd",
   "metadata": {},
   "outputs": [
    {
     "data": {
      "text/plain": [
       "5"
      ]
     },
     "execution_count": 34,
     "metadata": {},
     "output_type": "execute_result"
    }
   ],
   "source": [
    "df.iloc[1,1]   # 인덱스이 순서로"
   ]
  },
  {
   "cell_type": "code",
   "execution_count": 35,
   "id": "588b9e5b",
   "metadata": {},
   "outputs": [
    {
     "data": {
      "text/html": [
       "<div>\n",
       "<style scoped>\n",
       "    .dataframe tbody tr th:only-of-type {\n",
       "        vertical-align: middle;\n",
       "    }\n",
       "\n",
       "    .dataframe tbody tr th {\n",
       "        vertical-align: top;\n",
       "    }\n",
       "\n",
       "    .dataframe thead th {\n",
       "        text-align: right;\n",
       "    }\n",
       "</style>\n",
       "<table border=\"1\" class=\"dataframe\">\n",
       "  <thead>\n",
       "    <tr style=\"text-align: right;\">\n",
       "      <th></th>\n",
       "      <th>A</th>\n",
       "      <th>B</th>\n",
       "      <th>C</th>\n",
       "    </tr>\n",
       "  </thead>\n",
       "  <tbody>\n",
       "    <tr>\n",
       "      <th>가</th>\n",
       "      <td>2</td>\n",
       "      <td>3</td>\n",
       "      <td>4</td>\n",
       "    </tr>\n",
       "    <tr>\n",
       "      <th>나</th>\n",
       "      <td>5</td>\n",
       "      <td>6</td>\n",
       "      <td>7</td>\n",
       "    </tr>\n",
       "  </tbody>\n",
       "</table>\n",
       "</div>"
      ],
      "text/plain": [
       "   A  B  C\n",
       "가  2  3  4\n",
       "나  5  6  7"
      ]
     },
     "execution_count": 35,
     "metadata": {},
     "output_type": "execute_result"
    }
   ],
   "source": [
    "df + 1   # 브로드캐스팅 가능"
   ]
  },
  {
   "cell_type": "code",
   "execution_count": 36,
   "id": "8620a95f",
   "metadata": {},
   "outputs": [],
   "source": [
    "df['A'] = [[1,2],3.7]"
   ]
  },
  {
   "cell_type": "code",
   "execution_count": 37,
   "id": "cc8da000",
   "metadata": {},
   "outputs": [
    {
     "data": {
      "text/html": [
       "<div>\n",
       "<style scoped>\n",
       "    .dataframe tbody tr th:only-of-type {\n",
       "        vertical-align: middle;\n",
       "    }\n",
       "\n",
       "    .dataframe tbody tr th {\n",
       "        vertical-align: top;\n",
       "    }\n",
       "\n",
       "    .dataframe thead th {\n",
       "        text-align: right;\n",
       "    }\n",
       "</style>\n",
       "<table border=\"1\" class=\"dataframe\">\n",
       "  <thead>\n",
       "    <tr style=\"text-align: right;\">\n",
       "      <th></th>\n",
       "      <th>A</th>\n",
       "      <th>B</th>\n",
       "      <th>C</th>\n",
       "    </tr>\n",
       "  </thead>\n",
       "  <tbody>\n",
       "    <tr>\n",
       "      <th>가</th>\n",
       "      <td>[1, 2]</td>\n",
       "      <td>2</td>\n",
       "      <td>3</td>\n",
       "    </tr>\n",
       "    <tr>\n",
       "      <th>나</th>\n",
       "      <td>3.7</td>\n",
       "      <td>5</td>\n",
       "      <td>6</td>\n",
       "    </tr>\n",
       "  </tbody>\n",
       "</table>\n",
       "</div>"
      ],
      "text/plain": [
       "        A  B  C\n",
       "가  [1, 2]  2  3\n",
       "나     3.7  5  6"
      ]
     },
     "execution_count": 37,
     "metadata": {},
     "output_type": "execute_result"
    }
   ],
   "source": [
    "df"
   ]
  },
  {
   "cell_type": "code",
   "execution_count": 38,
   "id": "ce706f71",
   "metadata": {},
   "outputs": [
    {
     "data": {
      "text/html": [
       "<div>\n",
       "<style scoped>\n",
       "    .dataframe tbody tr th:only-of-type {\n",
       "        vertical-align: middle;\n",
       "    }\n",
       "\n",
       "    .dataframe tbody tr th {\n",
       "        vertical-align: top;\n",
       "    }\n",
       "\n",
       "    .dataframe thead th {\n",
       "        text-align: right;\n",
       "    }\n",
       "</style>\n",
       "<table border=\"1\" class=\"dataframe\">\n",
       "  <thead>\n",
       "    <tr style=\"text-align: right;\">\n",
       "      <th></th>\n",
       "      <th>A</th>\n",
       "      <th>B</th>\n",
       "      <th>C</th>\n",
       "    </tr>\n",
       "  </thead>\n",
       "  <tbody>\n",
       "    <tr>\n",
       "      <th>가</th>\n",
       "      <td>[1, 2, 1, 2, 1, 2, 1, 2]</td>\n",
       "      <td>8</td>\n",
       "      <td>12</td>\n",
       "    </tr>\n",
       "    <tr>\n",
       "      <th>나</th>\n",
       "      <td>14.8</td>\n",
       "      <td>20</td>\n",
       "      <td>24</td>\n",
       "    </tr>\n",
       "  </tbody>\n",
       "</table>\n",
       "</div>"
      ],
      "text/plain": [
       "                          A   B   C\n",
       "가  [1, 2, 1, 2, 1, 2, 1, 2]   8  12\n",
       "나                      14.8  20  24"
      ]
     },
     "execution_count": 38,
     "metadata": {},
     "output_type": "execute_result"
    }
   ],
   "source": [
    "df * 4"
   ]
  },
  {
   "cell_type": "code",
   "execution_count": 39,
   "id": "e03b88ad",
   "metadata": {},
   "outputs": [],
   "source": [
    "df.to_excel('./df.xlsx')   # ,index=False, header=None)"
   ]
  },
  {
   "cell_type": "code",
   "execution_count": 40,
   "id": "f34e4d15",
   "metadata": {},
   "outputs": [
    {
     "data": {
      "text/html": [
       "<div>\n",
       "<style scoped>\n",
       "    .dataframe tbody tr th:only-of-type {\n",
       "        vertical-align: middle;\n",
       "    }\n",
       "\n",
       "    .dataframe tbody tr th {\n",
       "        vertical-align: top;\n",
       "    }\n",
       "\n",
       "    .dataframe thead th {\n",
       "        text-align: right;\n",
       "    }\n",
       "</style>\n",
       "<table border=\"1\" class=\"dataframe\">\n",
       "  <thead>\n",
       "    <tr style=\"text-align: right;\">\n",
       "      <th></th>\n",
       "      <th>A</th>\n",
       "      <th>B</th>\n",
       "      <th>C</th>\n",
       "    </tr>\n",
       "  </thead>\n",
       "  <tbody>\n",
       "    <tr>\n",
       "      <th>가</th>\n",
       "      <td>[1, 2]</td>\n",
       "      <td>2</td>\n",
       "      <td>3</td>\n",
       "    </tr>\n",
       "    <tr>\n",
       "      <th>나</th>\n",
       "      <td>3.7</td>\n",
       "      <td>5</td>\n",
       "      <td>6</td>\n",
       "    </tr>\n",
       "  </tbody>\n",
       "</table>\n",
       "</div>"
      ],
      "text/plain": [
       "        A  B  C\n",
       "가  [1, 2]  2  3\n",
       "나     3.7  5  6"
      ]
     },
     "execution_count": 40,
     "metadata": {},
     "output_type": "execute_result"
    }
   ],
   "source": [
    "pd.read_excel('./df.xlsx', index_col=0, comment='#', thousands='.')#header=1)     # header = row 이름 , index = coulunm 이름"
   ]
  },
  {
   "cell_type": "code",
   "execution_count": 41,
   "id": "af3e6a7f",
   "metadata": {},
   "outputs": [],
   "source": [
    "df.to_csv('./df.csv', encoding='cp949')   # 한글 적어야되면 encoding='cp949' 추가한다."
   ]
  },
  {
   "cell_type": "code",
   "execution_count": 42,
   "id": "11cc7854",
   "metadata": {},
   "outputs": [],
   "source": [
    "try:\n",
    "    pd.read_csv('./df.csv', index_col=0)    # index_col=0 > 0,0배열에 none값으로 설정됨.\n",
    "except UnicodeDecodeError:\n",
    "    pd.read_csv('./df.csv', encoding='cp949', index_col=0)        # 에러의 예외처리 사용 방법 try ~ except"
   ]
  },
  {
   "cell_type": "code",
   "execution_count": 43,
   "id": "f0e5b8fb",
   "metadata": {},
   "outputs": [],
   "source": [
    "df['D'] = [1,2]     # Pandas는 없는것도 추가할수 있다."
   ]
  },
  {
   "cell_type": "code",
   "execution_count": 44,
   "id": "e8e05fbd",
   "metadata": {
    "scrolled": true
   },
   "outputs": [
    {
     "data": {
      "text/html": [
       "<div>\n",
       "<style scoped>\n",
       "    .dataframe tbody tr th:only-of-type {\n",
       "        vertical-align: middle;\n",
       "    }\n",
       "\n",
       "    .dataframe tbody tr th {\n",
       "        vertical-align: top;\n",
       "    }\n",
       "\n",
       "    .dataframe thead th {\n",
       "        text-align: right;\n",
       "    }\n",
       "</style>\n",
       "<table border=\"1\" class=\"dataframe\">\n",
       "  <thead>\n",
       "    <tr style=\"text-align: right;\">\n",
       "      <th></th>\n",
       "      <th>A</th>\n",
       "      <th>B</th>\n",
       "      <th>C</th>\n",
       "      <th>D</th>\n",
       "    </tr>\n",
       "  </thead>\n",
       "  <tbody>\n",
       "    <tr>\n",
       "      <th>가</th>\n",
       "      <td>[1, 2]</td>\n",
       "      <td>2</td>\n",
       "      <td>3</td>\n",
       "      <td>1</td>\n",
       "    </tr>\n",
       "    <tr>\n",
       "      <th>나</th>\n",
       "      <td>3.7</td>\n",
       "      <td>5</td>\n",
       "      <td>6</td>\n",
       "      <td>2</td>\n",
       "    </tr>\n",
       "  </tbody>\n",
       "</table>\n",
       "</div>"
      ],
      "text/plain": [
       "        A  B  C  D\n",
       "가  [1, 2]  2  3  1\n",
       "나     3.7  5  6  2"
      ]
     },
     "execution_count": 44,
     "metadata": {},
     "output_type": "execute_result"
    }
   ],
   "source": [
    "df"
   ]
  },
  {
   "cell_type": "code",
   "execution_count": 45,
   "id": "ab0901d5",
   "metadata": {
    "scrolled": false
   },
   "outputs": [
    {
     "data": {
      "text/html": [
       "<div>\n",
       "<style scoped>\n",
       "    .dataframe tbody tr th:only-of-type {\n",
       "        vertical-align: middle;\n",
       "    }\n",
       "\n",
       "    .dataframe tbody tr th {\n",
       "        vertical-align: top;\n",
       "    }\n",
       "\n",
       "    .dataframe thead th {\n",
       "        text-align: right;\n",
       "    }\n",
       "</style>\n",
       "<table border=\"1\" class=\"dataframe\">\n",
       "  <thead>\n",
       "    <tr style=\"text-align: right;\">\n",
       "      <th></th>\n",
       "      <th>A</th>\n",
       "      <th>B</th>\n",
       "      <th>C</th>\n",
       "      <th>D</th>\n",
       "    </tr>\n",
       "  </thead>\n",
       "  <tbody>\n",
       "    <tr>\n",
       "      <th>가</th>\n",
       "      <td>[1, 2]</td>\n",
       "      <td>2</td>\n",
       "      <td>3</td>\n",
       "      <td>1</td>\n",
       "    </tr>\n",
       "    <tr>\n",
       "      <th>나</th>\n",
       "      <td>3.7</td>\n",
       "      <td>5</td>\n",
       "      <td>6</td>\n",
       "      <td>2</td>\n",
       "    </tr>\n",
       "    <tr>\n",
       "      <th>다</th>\n",
       "      <td>1</td>\n",
       "      <td>2</td>\n",
       "      <td>3</td>\n",
       "      <td>4</td>\n",
       "    </tr>\n",
       "  </tbody>\n",
       "</table>\n",
       "</div>"
      ],
      "text/plain": [
       "        A  B  C  D\n",
       "가  [1, 2]  2  3  1\n",
       "나     3.7  5  6  2\n",
       "다       1  2  3  4"
      ]
     },
     "execution_count": 45,
     "metadata": {},
     "output_type": "execute_result"
    }
   ],
   "source": [
    "pd.concat([df,pd.DataFrame([[1,2,3,4]], columns=['A','B','C','D'], index=['다'])])"
   ]
  },
  {
   "cell_type": "code",
   "execution_count": 46,
   "id": "cb8b3a72",
   "metadata": {},
   "outputs": [
    {
     "data": {
      "text/html": [
       "<div>\n",
       "<style scoped>\n",
       "    .dataframe tbody tr th:only-of-type {\n",
       "        vertical-align: middle;\n",
       "    }\n",
       "\n",
       "    .dataframe tbody tr th {\n",
       "        vertical-align: top;\n",
       "    }\n",
       "\n",
       "    .dataframe thead th {\n",
       "        text-align: right;\n",
       "    }\n",
       "</style>\n",
       "<table border=\"1\" class=\"dataframe\">\n",
       "  <thead>\n",
       "    <tr style=\"text-align: right;\">\n",
       "      <th></th>\n",
       "      <th>A</th>\n",
       "      <th>B</th>\n",
       "      <th>C</th>\n",
       "      <th>D</th>\n",
       "    </tr>\n",
       "  </thead>\n",
       "  <tbody>\n",
       "    <tr>\n",
       "      <th>가</th>\n",
       "      <td>[1, 2]</td>\n",
       "      <td>2</td>\n",
       "      <td>3</td>\n",
       "      <td>1</td>\n",
       "    </tr>\n",
       "    <tr>\n",
       "      <th>나</th>\n",
       "      <td>3.7</td>\n",
       "      <td>5</td>\n",
       "      <td>6</td>\n",
       "      <td>2</td>\n",
       "    </tr>\n",
       "  </tbody>\n",
       "</table>\n",
       "</div>"
      ],
      "text/plain": [
       "        A  B  C  D\n",
       "가  [1, 2]  2  3  1\n",
       "나     3.7  5  6  2"
      ]
     },
     "execution_count": 46,
     "metadata": {},
     "output_type": "execute_result"
    }
   ],
   "source": [
    "df"
   ]
  },
  {
   "cell_type": "code",
   "execution_count": 47,
   "id": "2e863ba0",
   "metadata": {},
   "outputs": [
    {
     "data": {
      "text/html": [
       "<div>\n",
       "<style scoped>\n",
       "    .dataframe tbody tr th:only-of-type {\n",
       "        vertical-align: middle;\n",
       "    }\n",
       "\n",
       "    .dataframe tbody tr th {\n",
       "        vertical-align: top;\n",
       "    }\n",
       "\n",
       "    .dataframe thead th {\n",
       "        text-align: right;\n",
       "    }\n",
       "</style>\n",
       "<table border=\"1\" class=\"dataframe\">\n",
       "  <thead>\n",
       "    <tr style=\"text-align: right;\">\n",
       "      <th></th>\n",
       "      <th>A</th>\n",
       "      <th>B</th>\n",
       "      <th>C</th>\n",
       "      <th>D</th>\n",
       "      <th>X</th>\n",
       "    </tr>\n",
       "  </thead>\n",
       "  <tbody>\n",
       "    <tr>\n",
       "      <th>가</th>\n",
       "      <td>[1, 2]</td>\n",
       "      <td>2.0</td>\n",
       "      <td>3.0</td>\n",
       "      <td>1.0</td>\n",
       "      <td>3</td>\n",
       "    </tr>\n",
       "    <tr>\n",
       "      <th>나</th>\n",
       "      <td>3.7</td>\n",
       "      <td>5.0</td>\n",
       "      <td>6.0</td>\n",
       "      <td>2.0</td>\n",
       "      <td>4</td>\n",
       "    </tr>\n",
       "    <tr>\n",
       "      <th>다</th>\n",
       "      <td>NaN</td>\n",
       "      <td>NaN</td>\n",
       "      <td>NaN</td>\n",
       "      <td>NaN</td>\n",
       "      <td>5</td>\n",
       "    </tr>\n",
       "  </tbody>\n",
       "</table>\n",
       "</div>"
      ],
      "text/plain": [
       "        A    B    C    D  X\n",
       "가  [1, 2]  2.0  3.0  1.0  3\n",
       "나     3.7  5.0  6.0  2.0  4\n",
       "다     NaN  NaN  NaN  NaN  5"
      ]
     },
     "execution_count": 47,
     "metadata": {},
     "output_type": "execute_result"
    }
   ],
   "source": [
    "pd.concat([df,pd.DataFrame([3,4,5], columns=['X'], index=['가','나','다'])], axis=1)\n",
    "# 종속적으로 컬럼 추가하는 방법"
   ]
  },
  {
   "cell_type": "code",
   "execution_count": 48,
   "id": "f68ff178",
   "metadata": {},
   "outputs": [
    {
     "data": {
      "text/html": [
       "<div>\n",
       "<style scoped>\n",
       "    .dataframe tbody tr th:only-of-type {\n",
       "        vertical-align: middle;\n",
       "    }\n",
       "\n",
       "    .dataframe tbody tr th {\n",
       "        vertical-align: top;\n",
       "    }\n",
       "\n",
       "    .dataframe thead th {\n",
       "        text-align: right;\n",
       "    }\n",
       "</style>\n",
       "<table border=\"1\" class=\"dataframe\">\n",
       "  <thead>\n",
       "    <tr style=\"text-align: right;\">\n",
       "      <th></th>\n",
       "      <th>A</th>\n",
       "      <th>B</th>\n",
       "      <th>C</th>\n",
       "      <th>D</th>\n",
       "    </tr>\n",
       "  </thead>\n",
       "  <tbody>\n",
       "    <tr>\n",
       "      <th>가</th>\n",
       "      <td>[1, 2]</td>\n",
       "      <td>2</td>\n",
       "      <td>3</td>\n",
       "      <td>1</td>\n",
       "    </tr>\n",
       "    <tr>\n",
       "      <th>나</th>\n",
       "      <td>3.7</td>\n",
       "      <td>5</td>\n",
       "      <td>6</td>\n",
       "      <td>2</td>\n",
       "    </tr>\n",
       "  </tbody>\n",
       "</table>\n",
       "</div>"
      ],
      "text/plain": [
       "        A  B  C  D\n",
       "가  [1, 2]  2  3  1\n",
       "나     3.7  5  6  2"
      ]
     },
     "execution_count": 48,
     "metadata": {},
     "output_type": "execute_result"
    }
   ],
   "source": [
    "df"
   ]
  },
  {
   "cell_type": "code",
   "execution_count": 49,
   "id": "598dcd6b",
   "metadata": {},
   "outputs": [
    {
     "data": {
      "text/html": [
       "<div>\n",
       "<style scoped>\n",
       "    .dataframe tbody tr th:only-of-type {\n",
       "        vertical-align: middle;\n",
       "    }\n",
       "\n",
       "    .dataframe tbody tr th {\n",
       "        vertical-align: top;\n",
       "    }\n",
       "\n",
       "    .dataframe thead th {\n",
       "        text-align: right;\n",
       "    }\n",
       "</style>\n",
       "<table border=\"1\" class=\"dataframe\">\n",
       "  <thead>\n",
       "    <tr style=\"text-align: right;\">\n",
       "      <th></th>\n",
       "      <th>B</th>\n",
       "      <th>C</th>\n",
       "    </tr>\n",
       "  </thead>\n",
       "  <tbody>\n",
       "    <tr>\n",
       "      <th>가</th>\n",
       "      <td>2</td>\n",
       "      <td>3</td>\n",
       "    </tr>\n",
       "    <tr>\n",
       "      <th>나</th>\n",
       "      <td>5</td>\n",
       "      <td>6</td>\n",
       "    </tr>\n",
       "  </tbody>\n",
       "</table>\n",
       "</div>"
      ],
      "text/plain": [
       "   B  C\n",
       "가  2  3\n",
       "나  5  6"
      ]
     },
     "execution_count": 49,
     "metadata": {},
     "output_type": "execute_result"
    }
   ],
   "source": [
    "df.loc[['가','나'],['B','C']]      # 판다스에서 여러개 집어 넣는건 인덱싱으로 가능하다."
   ]
  },
  {
   "cell_type": "code",
   "execution_count": 50,
   "id": "181651bd",
   "metadata": {},
   "outputs": [
    {
     "data": {
      "text/html": [
       "<div>\n",
       "<style scoped>\n",
       "    .dataframe tbody tr th:only-of-type {\n",
       "        vertical-align: middle;\n",
       "    }\n",
       "\n",
       "    .dataframe tbody tr th {\n",
       "        vertical-align: top;\n",
       "    }\n",
       "\n",
       "    .dataframe thead th {\n",
       "        text-align: right;\n",
       "    }\n",
       "</style>\n",
       "<table border=\"1\" class=\"dataframe\">\n",
       "  <thead>\n",
       "    <tr style=\"text-align: right;\">\n",
       "      <th></th>\n",
       "      <th>B</th>\n",
       "      <th>C</th>\n",
       "      <th>D</th>\n",
       "    </tr>\n",
       "  </thead>\n",
       "  <tbody>\n",
       "    <tr>\n",
       "      <th>가</th>\n",
       "      <td>2</td>\n",
       "      <td>3</td>\n",
       "      <td>1</td>\n",
       "    </tr>\n",
       "    <tr>\n",
       "      <th>나</th>\n",
       "      <td>5</td>\n",
       "      <td>6</td>\n",
       "      <td>2</td>\n",
       "    </tr>\n",
       "  </tbody>\n",
       "</table>\n",
       "</div>"
      ],
      "text/plain": [
       "   B  C  D\n",
       "가  2  3  1\n",
       "나  5  6  2"
      ]
     },
     "execution_count": 50,
     "metadata": {},
     "output_type": "execute_result"
    }
   ],
   "source": [
    "df.loc[:,'B':'D']     # : (콜론만찍으면) 처음부터 끝까지 .. 인덱싱 -1까지 처리 안한다"
   ]
  },
  {
   "cell_type": "code",
   "execution_count": 51,
   "id": "32db8b48",
   "metadata": {
    "scrolled": true
   },
   "outputs": [
    {
     "data": {
      "text/html": [
       "<div>\n",
       "<style scoped>\n",
       "    .dataframe tbody tr th:only-of-type {\n",
       "        vertical-align: middle;\n",
       "    }\n",
       "\n",
       "    .dataframe tbody tr th {\n",
       "        vertical-align: top;\n",
       "    }\n",
       "\n",
       "    .dataframe thead th {\n",
       "        text-align: right;\n",
       "    }\n",
       "</style>\n",
       "<table border=\"1\" class=\"dataframe\">\n",
       "  <thead>\n",
       "    <tr style=\"text-align: right;\">\n",
       "      <th></th>\n",
       "      <th>B</th>\n",
       "      <th>C</th>\n",
       "    </tr>\n",
       "  </thead>\n",
       "  <tbody>\n",
       "    <tr>\n",
       "      <th>가</th>\n",
       "      <td>2</td>\n",
       "      <td>3</td>\n",
       "    </tr>\n",
       "    <tr>\n",
       "      <th>나</th>\n",
       "      <td>5</td>\n",
       "      <td>6</td>\n",
       "    </tr>\n",
       "  </tbody>\n",
       "</table>\n",
       "</div>"
      ],
      "text/plain": [
       "   B  C\n",
       "가  2  3\n",
       "나  5  6"
      ]
     },
     "execution_count": 51,
     "metadata": {},
     "output_type": "execute_result"
    }
   ],
   "source": [
    "df.iloc[:,1:3]        #  : 처음부터 끝까지 "
   ]
  },
  {
   "cell_type": "markdown",
   "id": "bb36002c",
   "metadata": {},
   "source": [
    "df.iloc[:,1:]"
   ]
  },
  {
   "cell_type": "code",
   "execution_count": null,
   "id": "ab66ba73",
   "metadata": {},
   "outputs": [],
   "source": []
  },
  {
   "cell_type": "code",
   "execution_count": null,
   "id": "bc11010f",
   "metadata": {},
   "outputs": [],
   "source": []
  },
  {
   "cell_type": "code",
   "execution_count": 52,
   "id": "13072f3b",
   "metadata": {},
   "outputs": [],
   "source": [
    "na = float('nan')     # 결측시 not available number"
   ]
  },
  {
   "cell_type": "code",
   "execution_count": 53,
   "id": "53962793",
   "metadata": {},
   "outputs": [
    {
     "data": {
      "text/plain": [
       "nan"
      ]
     },
     "execution_count": 53,
     "metadata": {},
     "output_type": "execute_result"
    }
   ],
   "source": [
    "na + 100"
   ]
  },
  {
   "cell_type": "code",
   "execution_count": 54,
   "id": "66b49922",
   "metadata": {},
   "outputs": [
    {
     "data": {
      "text/plain": [
       "nan"
      ]
     },
     "execution_count": 54,
     "metadata": {},
     "output_type": "execute_result"
    }
   ],
   "source": [
    "na - 90"
   ]
  },
  {
   "cell_type": "code",
   "execution_count": 55,
   "id": "adf3b674",
   "metadata": {},
   "outputs": [
    {
     "data": {
      "text/plain": [
       "nan"
      ]
     },
     "execution_count": 55,
     "metadata": {},
     "output_type": "execute_result"
    }
   ],
   "source": [
    "na * 7"
   ]
  },
  {
   "cell_type": "code",
   "execution_count": 56,
   "id": "f653d1d3",
   "metadata": {},
   "outputs": [
    {
     "data": {
      "text/plain": [
       "nan"
      ]
     },
     "execution_count": 56,
     "metadata": {},
     "output_type": "execute_result"
    }
   ],
   "source": [
    "na / 8               # 결측시는 어떤연산을 return 하더라도 nan 값이 나온다."
   ]
  },
  {
   "cell_type": "code",
   "execution_count": 57,
   "id": "16cb31ee",
   "metadata": {},
   "outputs": [
    {
     "data": {
      "text/plain": [
       "False"
      ]
     },
     "execution_count": 57,
     "metadata": {},
     "output_type": "execute_result"
    }
   ],
   "source": [
    "na > 7"
   ]
  },
  {
   "cell_type": "code",
   "execution_count": 58,
   "id": "e0a8b563",
   "metadata": {},
   "outputs": [
    {
     "data": {
      "text/plain": [
       "False"
      ]
     },
     "execution_count": 58,
     "metadata": {},
     "output_type": "execute_result"
    }
   ],
   "source": [
    "na < 7"
   ]
  },
  {
   "cell_type": "code",
   "execution_count": 59,
   "id": "aa775754",
   "metadata": {},
   "outputs": [
    {
     "data": {
      "text/plain": [
       "False"
      ]
     },
     "execution_count": 59,
     "metadata": {},
     "output_type": "execute_result"
    }
   ],
   "source": [
    "na == 7"
   ]
  },
  {
   "cell_type": "code",
   "execution_count": 60,
   "id": "585d58d0",
   "metadata": {},
   "outputs": [
    {
     "data": {
      "text/plain": [
       "True"
      ]
     },
     "execution_count": 60,
     "metadata": {},
     "output_type": "execute_result"
    }
   ],
   "source": [
    "na != 7               # nan값은 산술연산은 모두 nan 논리연산은 !=를 제외하고 모두 False가 나온다."
   ]
  },
  {
   "cell_type": "code",
   "execution_count": 61,
   "id": "89c9a1f5",
   "metadata": {},
   "outputs": [
    {
     "data": {
      "text/plain": [
       "True"
      ]
     },
     "execution_count": 61,
     "metadata": {},
     "output_type": "execute_result"
    }
   ],
   "source": [
    "7 == 7"
   ]
  },
  {
   "cell_type": "code",
   "execution_count": 62,
   "id": "43e8dfb7",
   "metadata": {},
   "outputs": [
    {
     "data": {
      "text/plain": [
       "False"
      ]
     },
     "execution_count": 62,
     "metadata": {},
     "output_type": "execute_result"
    }
   ],
   "source": [
    "7 != 7"
   ]
  },
  {
   "cell_type": "code",
   "execution_count": 63,
   "id": "90ab9e87",
   "metadata": {},
   "outputs": [
    {
     "data": {
      "text/plain": [
       "False"
      ]
     },
     "execution_count": 63,
     "metadata": {},
     "output_type": "execute_result"
    }
   ],
   "source": [
    "na == na"
   ]
  },
  {
   "cell_type": "code",
   "execution_count": 64,
   "id": "88df143b",
   "metadata": {},
   "outputs": [
    {
     "data": {
      "text/plain": [
       "True"
      ]
     },
     "execution_count": 64,
     "metadata": {},
     "output_type": "execute_result"
    }
   ],
   "source": [
    "na != na"
   ]
  },
  {
   "cell_type": "markdown",
   "id": "baa77fdf",
   "metadata": {},
   "source": [
    "ll = [1,2,3,4,na,5,6,7,na,8,9] \n",
    "\n",
    "nan값이 몇번째 나오는지 확인하는 프로그램을 만들어라."
   ]
  },
  {
   "cell_type": "code",
   "execution_count": 65,
   "id": "5fd422b9",
   "metadata": {},
   "outputs": [],
   "source": [
    "ll = [1,2,3,4,na,5,6,7,na,8,9]"
   ]
  },
  {
   "cell_type": "code",
   "execution_count": 66,
   "id": "454fc084",
   "metadata": {},
   "outputs": [
    {
     "data": {
      "text/plain": [
       "[1, 2, 3, 4, nan, 5, 6, 7, nan, 8, 9]"
      ]
     },
     "execution_count": 66,
     "metadata": {},
     "output_type": "execute_result"
    }
   ],
   "source": [
    "ll"
   ]
  },
  {
   "cell_type": "code",
   "execution_count": 67,
   "id": "a18561e0",
   "metadata": {},
   "outputs": [
    {
     "name": "stdout",
     "output_type": "stream",
     "text": [
      "0 1\n",
      "1 2\n",
      "2 3\n",
      "3 4\n",
      "4 nan\n",
      "5 5\n",
      "6 6\n",
      "7 7\n",
      "8 nan\n",
      "9 8\n",
      "10 9\n"
     ]
    }
   ],
   "source": [
    "for idx, val in enumerate(ll):\n",
    "    print(idx, val)"
   ]
  },
  {
   "cell_type": "code",
   "execution_count": 68,
   "id": "d1331447",
   "metadata": {},
   "outputs": [
    {
     "name": "stdout",
     "output_type": "stream",
     "text": [
      "4\n",
      "8\n"
     ]
    }
   ],
   "source": [
    "for idx, val in enumerate(ll):      # 7 == 7 True na == na False\n",
    "    if val != val:\n",
    "        print(idx)\n",
    "    #else:\n",
    "     #   print(idx)"
   ]
  },
  {
   "cell_type": "code",
   "execution_count": 69,
   "id": "434e37c0",
   "metadata": {
    "scrolled": true
   },
   "outputs": [
    {
     "ename": "TypeError",
     "evalue": "'int' object is not subscriptable",
     "output_type": "error",
     "traceback": [
      "\u001b[1;31m---------------------------------------------------------------------------\u001b[0m",
      "\u001b[1;31mTypeError\u001b[0m                                 Traceback (most recent call last)",
      "Cell \u001b[1;32mIn[69], line 1\u001b[0m\n\u001b[1;32m----> 1\u001b[0m \u001b[38;5;28mprint\u001b[39m(val[\u001b[38;5;241m4\u001b[39m])\n",
      "\u001b[1;31mTypeError\u001b[0m: 'int' object is not subscriptable"
     ]
    }
   ],
   "source": [
    "print(val[4])"
   ]
  },
  {
   "cell_type": "code",
   "execution_count": null,
   "id": "3c0055da",
   "metadata": {},
   "outputs": [],
   "source": [
    "df = pd.DataFrame(ll)"
   ]
  },
  {
   "cell_type": "code",
   "execution_count": null,
   "id": "2519c33e",
   "metadata": {},
   "outputs": [],
   "source": [
    "df != df"
   ]
  },
  {
   "cell_type": "code",
   "execution_count": null,
   "id": "58787b10",
   "metadata": {},
   "outputs": [],
   "source": [
    "df.isna()   # 열별 (컬럼별) NA 개수 확인 "
   ]
  },
  {
   "cell_type": "code",
   "execution_count": null,
   "id": "77bdaf8f",
   "metadata": {},
   "outputs": [],
   "source": [
    "m = df.isna().values"
   ]
  },
  {
   "cell_type": "code",
   "execution_count": null,
   "id": "e408cf1a",
   "metadata": {},
   "outputs": [],
   "source": [
    "df[m]"
   ]
  },
  {
   "cell_type": "markdown",
   "id": "3644cd9f",
   "metadata": {},
   "source": [
    "true false기반 인덱싱"
   ]
  },
  {
   "cell_type": "code",
   "execution_count": null,
   "id": "2925ffcb",
   "metadata": {},
   "outputs": [],
   "source": [
    "df_2d = pd.DataFrame([[1,2,3],[4,5,6],[7,8,9]])"
   ]
  },
  {
   "cell_type": "code",
   "execution_count": null,
   "id": "16f6a133",
   "metadata": {},
   "outputs": [],
   "source": [
    "m = df_2d[2] >= 6"
   ]
  },
  {
   "cell_type": "code",
   "execution_count": null,
   "id": "a36d60d7",
   "metadata": {},
   "outputs": [],
   "source": [
    "df_2d[2][m]             # m = masking -는 not 과 같다."
   ]
  },
  {
   "cell_type": "code",
   "execution_count": null,
   "id": "dad87a54",
   "metadata": {},
   "outputs": [],
   "source": [
    "m"
   ]
  },
  {
   "cell_type": "code",
   "execution_count": null,
   "id": "8078a266",
   "metadata": {},
   "outputs": [],
   "source": [
    "df_2d.drop(2, axis=1)# .drop(2, axis=1) 0번부터시작 2번째열 삭제\n",
    "                      #, inplace=True) or df_2d = 값에 저장 하면 저장이된다                     "
   ]
  },
  {
   "cell_type": "code",
   "execution_count": null,
   "id": "49027ad7",
   "metadata": {},
   "outputs": [],
   "source": [
    "df_2d                               # drop과같이 결과가 return이 되는 경우는 저장이 안된다"
   ]
  },
  {
   "cell_type": "code",
   "execution_count": null,
   "id": "9f2aae96",
   "metadata": {},
   "outputs": [],
   "source": [
    "arr = np.array([1,2,3,6,54,7,8,5,2,1,4])"
   ]
  },
  {
   "cell_type": "code",
   "execution_count": null,
   "id": "13d7f607",
   "metadata": {},
   "outputs": [],
   "source": [
    "arr"
   ]
  },
  {
   "cell_type": "code",
   "execution_count": null,
   "id": "40211e66",
   "metadata": {},
   "outputs": [],
   "source": [
    "m = arr > 5"
   ]
  },
  {
   "cell_type": "code",
   "execution_count": null,
   "id": "44bfe2ef",
   "metadata": {},
   "outputs": [],
   "source": [
    "arr[m]                # nan파일도 indexing이 된다.      # arr에 m를 인덱싱"
   ]
  },
  {
   "cell_type": "code",
   "execution_count": null,
   "id": "779b096d",
   "metadata": {},
   "outputs": [],
   "source": [
    "[1,2,3,6,54,7,8,5,2,1,4][m] # list는 masking이 안된다"
   ]
  },
  {
   "cell_type": "code",
   "execution_count": null,
   "id": "4d4771db",
   "metadata": {},
   "outputs": [],
   "source": []
  },
  {
   "cell_type": "code",
   "execution_count": null,
   "id": "7d32ad2b",
   "metadata": {},
   "outputs": [],
   "source": []
  },
  {
   "cell_type": "code",
   "execution_count": 70,
   "id": "430b89a1",
   "metadata": {},
   "outputs": [],
   "source": [
    "import pandas as pd"
   ]
  },
  {
   "cell_type": "code",
   "execution_count": 71,
   "id": "3b94281c",
   "metadata": {},
   "outputs": [],
   "source": [
    "loan = pd.read_excel('../../Downloads/BestLoanList.xlsx')"
   ]
  },
  {
   "cell_type": "code",
   "execution_count": 72,
   "id": "a81e17b5",
   "metadata": {},
   "outputs": [],
   "source": [
    "seller = pd.read_excel('../../Downloads/BestSellerList.xlsx')"
   ]
  },
  {
   "cell_type": "code",
   "execution_count": null,
   "id": "d0aab1f7",
   "metadata": {},
   "outputs": [],
   "source": [
    "seller.columns = ['월','순위','서명','저자','출판사','출판년도','정가','적립포인트','대분야','ISBN']"
   ]
  },
  {
   "cell_type": "code",
   "execution_count": null,
   "id": "c2af6c80",
   "metadata": {},
   "outputs": [],
   "source": [
    "seller.tail(1)"
   ]
  },
  {
   "cell_type": "code",
   "execution_count": null,
   "id": "4e0786a9",
   "metadata": {},
   "outputs": [],
   "source": [
    "loan.head(1)"
   ]
  },
  {
   "cell_type": "code",
   "execution_count": null,
   "id": "b14f3550",
   "metadata": {},
   "outputs": [],
   "source": [
    "pd.merge(seller, loan, left_on='ISBN', right_on='ISBN', how='inner')     # inner 양쪽에 같은 isbn이 있는경우만 select"
   ]
  },
  {
   "cell_type": "code",
   "execution_count": null,
   "id": "9d880889",
   "metadata": {},
   "outputs": [],
   "source": [
    "data = {'A': [1,2,3,4,5],'B': ['hello','python','hi','jupyter','py']}\n",
    "df = pd.DataFrame(data)"
   ]
  },
  {
   "cell_type": "code",
   "execution_count": null,
   "id": "a731017c",
   "metadata": {},
   "outputs": [],
   "source": [
    "df"
   ]
  },
  {
   "cell_type": "code",
   "execution_count": null,
   "id": "e16ec145",
   "metadata": {},
   "outputs": [],
   "source": [
    "df[df['A'] <= 3] # masking 사용한방법       slice 으로도 된다."
   ]
  },
  {
   "cell_type": "code",
   "execution_count": null,
   "id": "58d88801",
   "metadata": {},
   "outputs": [],
   "source": [
    "m1 = df['A'] <= 4            # masking 방법\n",
    "df2 = df[m1]"
   ]
  },
  {
   "cell_type": "code",
   "execution_count": null,
   "id": "91c5c7c8",
   "metadata": {},
   "outputs": [],
   "source": [
    "m2 = df2['A'] >= 3\n",
    "df2[m2]"
   ]
  },
  {
   "cell_type": "code",
   "execution_count": null,
   "id": "18fd1389",
   "metadata": {},
   "outputs": [],
   "source": [
    "df.query('3 <= A <= 4')          # query() 함수 사용 방법"
   ]
  },
  {
   "cell_type": "code",
   "execution_count": null,
   "id": "d327b101",
   "metadata": {},
   "outputs": [],
   "source": [
    "df[df['B'] == 'hi']"
   ]
  },
  {
   "cell_type": "code",
   "execution_count": null,
   "id": "81073183",
   "metadata": {},
   "outputs": [],
   "source": [
    "df.query('B == \"hi\"')"
   ]
  },
  {
   "cell_type": "code",
   "execution_count": null,
   "id": "bf4895e3",
   "metadata": {},
   "outputs": [],
   "source": [
    "s = 'hi'"
   ]
  },
  {
   "cell_type": "code",
   "execution_count": null,
   "id": "6485956c",
   "metadata": {},
   "outputs": [],
   "source": [
    "df[df['B'] == s]"
   ]
  },
  {
   "cell_type": "code",
   "execution_count": null,
   "id": "9e0337a9",
   "metadata": {},
   "outputs": [],
   "source": [
    "df.query('B == @s')                       # @s < 변수만 가능 문자열은 안됨."
   ]
  },
  {
   "cell_type": "code",
   "execution_count": null,
   "id": "f691066b",
   "metadata": {},
   "outputs": [],
   "source": []
  },
  {
   "cell_type": "code",
   "execution_count": null,
   "id": "5a8ff4aa",
   "metadata": {},
   "outputs": [],
   "source": []
  },
  {
   "cell_type": "markdown",
   "id": "d1ccfa46",
   "metadata": {},
   "source": [
    "format 방법 1 2 3"
   ]
  },
  {
   "cell_type": "code",
   "execution_count": null,
   "id": "da0ec9ee",
   "metadata": {},
   "outputs": [],
   "source": [
    "s = 'hi~'\n",
    "q = 123.789\n",
    "o = {123,456}"
   ]
  },
  {
   "cell_type": "code",
   "execution_count": null,
   "id": "af8d07f2",
   "metadata": {},
   "outputs": [],
   "source": [
    "f'변수의 할당된 값은 {s},{q},{o} 입니다'"
   ]
  },
  {
   "cell_type": "code",
   "execution_count": null,
   "id": "1d62b1a2",
   "metadata": {},
   "outputs": [],
   "source": [
    "'변수의 할당된 값은 각각 {},{},{} 입니다'.format(s, q, o)"
   ]
  },
  {
   "cell_type": "code",
   "execution_count": null,
   "id": "d471d3ee",
   "metadata": {},
   "outputs": [],
   "source": [
    "'변수의 할당된 값은 각각 %s,%10.2f,%s 입니다' %(s,q,o)               # %s가 문자기반으로 들어갑니다 / 문자기반의 문자열이 들어간 방법"
   ]
  },
  {
   "cell_type": "code",
   "execution_count": null,
   "id": "5fae4d33",
   "metadata": {
    "scrolled": true
   },
   "outputs": [],
   "source": [
    "'s의 값은', s ,'입니다'               # 한 문자열로 처리가 안된다"
   ]
  },
  {
   "cell_type": "code",
   "execution_count": null,
   "id": "d6a9fc08",
   "metadata": {},
   "outputs": [],
   "source": [
    "'s의 값은' + s + '입니다'            # 숫자랑 문자가 덧셈이 안된다. 띄어쓰기 안됨"
   ]
  },
  {
   "cell_type": "code",
   "execution_count": null,
   "id": "5ff8aa70",
   "metadata": {},
   "outputs": [],
   "source": [
    "'20'.zfill(5)            # zfill = zerofill"
   ]
  },
  {
   "cell_type": "code",
   "execution_count": null,
   "id": "e3cd158c",
   "metadata": {},
   "outputs": [],
   "source": []
  },
  {
   "cell_type": "code",
   "execution_count": null,
   "id": "fb6eeee3",
   "metadata": {},
   "outputs": [],
   "source": []
  },
  {
   "cell_type": "code",
   "execution_count": null,
   "id": "fe0d231e",
   "metadata": {},
   "outputs": [],
   "source": [
    "seller"
   ]
  },
  {
   "cell_type": "code",
   "execution_count": null,
   "id": "46cc5bc7",
   "metadata": {},
   "outputs": [],
   "source": [
    "seller['할인가'] = seller['정가'] * 0.9"
   ]
  },
  {
   "cell_type": "code",
   "execution_count": null,
   "id": "e67ec772",
   "metadata": {},
   "outputs": [],
   "source": [
    "seller"
   ]
  },
  {
   "cell_type": "code",
   "execution_count": null,
   "id": "3d8e85f0",
   "metadata": {},
   "outputs": [],
   "source": [
    "seller['정가'].apply(lambda x: x*0.9)        # lambda x : x값을 받는 함수입니다."
   ]
  },
  {
   "cell_type": "code",
   "execution_count": null,
   "id": "151399dd",
   "metadata": {},
   "outputs": [],
   "source": [
    "[s*0.9 for s in seller['정가']]"
   ]
  },
  {
   "cell_type": "code",
   "execution_count": null,
   "id": "6c4239c7",
   "metadata": {},
   "outputs": [],
   "source": [
    "for s in seller['정가']:\n",
    "    print(s*0.9)"
   ]
  },
  {
   "cell_type": "raw",
   "id": "1f7a43fc",
   "metadata": {},
   "source": [
    "seller 에서 정가가 정확히 18000원인 책이 몇 번째 인덱스에 있는지 알아보기"
   ]
  },
  {
   "cell_type": "code",
   "execution_count": null,
   "id": "6adb6efc",
   "metadata": {},
   "outputs": [],
   "source": [
    "seller[seller['정가'] == 18000].index                  # [마스킹]"
   ]
  },
  {
   "cell_type": "raw",
   "id": "55fd9f50",
   "metadata": {},
   "source": [
    "seller에서 '역사' 라는 단어를 포함한 책 제목들을 모두 찾아보기"
   ]
  },
  {
   "cell_type": "code",
   "execution_count": null,
   "id": "e8187b03",
   "metadata": {},
   "outputs": [],
   "source": [
    "m = seller['서명'].str.contains('역사')            # contains 포함하는함수 사용"
   ]
  },
  {
   "cell_type": "code",
   "execution_count": null,
   "id": "f25823c1",
   "metadata": {},
   "outputs": [],
   "source": [
    "seller.loc[m, '서명']"
   ]
  },
  {
   "cell_type": "raw",
   "id": "4fc0ea79",
   "metadata": {},
   "source": [
    "seller에서 주오진 조건에 맞는 책을 찾아보기\n",
    "\n",
    "1. 소설\n",
    "2. 책 분류가 소설 가격이 15000원 이하 \n",
    "3. 2020년 이후에 출간 \n",
    "4. 1~3번까지 조건으로 가장 많이 팔린 책 한권을 찾아보세요[제일 윗 순위]\n",
    "#seller[seller['정가'],seller['대분야'],seller['월'],seller['순위']]"
   ]
  },
  {
   "cell_type": "code",
   "execution_count": null,
   "id": "7262b4a7",
   "metadata": {},
   "outputs": [],
   "source": [
    "b = seller[seller['대분야'].str.contains('소설')] #총222"
   ]
  },
  {
   "cell_type": "code",
   "execution_count": null,
   "id": "d45b83c5",
   "metadata": {},
   "outputs": [],
   "source": [
    "p = seller[seller['정가'] <= 15000]  #총518"
   ]
  },
  {
   "cell_type": "code",
   "execution_count": null,
   "id": "bd7c7eb7",
   "metadata": {},
   "outputs": [],
   "source": [
    "y = seller[seller['출판년도'] >= 20200101] #총947\n",
    "#seller[seller['2010 >= '출판년도' >= 2018']\n",
    "#seller['출판년도'] > 2020"
   ]
  },
  {
   "cell_type": "code",
   "execution_count": null,
   "id": "05e61114",
   "metadata": {},
   "outputs": [],
   "source": [
    "result = pd.concat([b,p,y]) # 마스킹한 3개의 객체 각 3가지 조건 행을 더한다. 총1687열"
   ]
  },
  {
   "cell_type": "code",
   "execution_count": null,
   "id": "cb89534b",
   "metadata": {},
   "outputs": [],
   "source": [
    "result1 = result.loc[[0], :]            # 전체 중에 행이 제일 위쪽 순위가 높은 부분만 추출\n",
    "#result.iloc(min(result['순위']))"
   ]
  },
  {
   "cell_type": "code",
   "execution_count": null,
   "id": "8de0c125",
   "metadata": {
    "scrolled": true
   },
   "outputs": [],
   "source": [
    "result1.duplicated(subset=None,keep='first')"
   ]
  },
  {
   "cell_type": "code",
   "execution_count": null,
   "id": "fa2cd861",
   "metadata": {
    "scrolled": false
   },
   "outputs": [],
   "source": [
    "result1.drop_duplicates(subset=None, keep='first', inplace=False, ignore_index=False)"
   ]
  },
  {
   "cell_type": "code",
   "execution_count": null,
   "id": "ca8670a4",
   "metadata": {
    "scrolled": true
   },
   "outputs": [],
   "source": [
    "result1.d"
   ]
  },
  {
   "cell_type": "code",
   "execution_count": 73,
   "id": "159d066a",
   "metadata": {},
   "outputs": [
    {
     "data": {
      "text/html": [
       "<div>\n",
       "<style scoped>\n",
       "    .dataframe tbody tr th:only-of-type {\n",
       "        vertical-align: middle;\n",
       "    }\n",
       "\n",
       "    .dataframe tbody tr th {\n",
       "        vertical-align: top;\n",
       "    }\n",
       "\n",
       "    .dataframe thead th {\n",
       "        text-align: right;\n",
       "    }\n",
       "</style>\n",
       "<table border=\"1\" class=\"dataframe\">\n",
       "  <thead>\n",
       "    <tr style=\"text-align: right;\">\n",
       "      <th></th>\n",
       "      <th>월</th>\n",
       "      <th>순위</th>\n",
       "      <th>도서명</th>\n",
       "      <th>저자</th>\n",
       "      <th>출판사</th>\n",
       "      <th>출판 일자</th>\n",
       "      <th>정가</th>\n",
       "      <th>적립포인트</th>\n",
       "      <th>대분야</th>\n",
       "      <th>ISBN</th>\n",
       "    </tr>\n",
       "  </thead>\n",
       "  <tbody>\n",
       "    <tr>\n",
       "      <th>0</th>\n",
       "      <td>2021년</td>\n",
       "      <td>1</td>\n",
       "      <td>달러구트 꿈 백화점(레인보우 에디션)</td>\n",
       "      <td>이미예</td>\n",
       "      <td>팩토리나인</td>\n",
       "      <td>20200708</td>\n",
       "      <td>13800</td>\n",
       "      <td>690</td>\n",
       "      <td>판타지소설</td>\n",
       "      <td>9791165341909</td>\n",
       "    </tr>\n",
       "  </tbody>\n",
       "</table>\n",
       "</div>"
      ],
      "text/plain": [
       "       월  순위                   도서명   저자    출판사     출판 일자     정가  적립포인트    대분야  \\\n",
       "0  2021년   1  달러구트 꿈 백화점(레인보우 에디션)  이미예  팩토리나인  20200708  13800    690  판타지소설   \n",
       "\n",
       "            ISBN  \n",
       "0  9791165341909  "
      ]
     },
     "execution_count": 73,
     "metadata": {},
     "output_type": "execute_result"
    }
   ],
   "source": [
    "seller.head(1)"
   ]
  },
  {
   "cell_type": "code",
   "execution_count": 74,
   "id": "06dfc1b6",
   "metadata": {},
   "outputs": [],
   "source": [
    "temp = seller.query('대분야.str.contains(\"소설\") and 정가 <= 15000') # and 출판_일자 >= 20200101')"
   ]
  },
  {
   "cell_type": "code",
   "execution_count": 76,
   "id": "38fc85de",
   "metadata": {},
   "outputs": [
    {
     "data": {
      "text/html": [
       "<div>\n",
       "<style scoped>\n",
       "    .dataframe tbody tr th:only-of-type {\n",
       "        vertical-align: middle;\n",
       "    }\n",
       "\n",
       "    .dataframe tbody tr th {\n",
       "        vertical-align: top;\n",
       "    }\n",
       "\n",
       "    .dataframe thead th {\n",
       "        text-align: right;\n",
       "    }\n",
       "</style>\n",
       "<table border=\"1\" class=\"dataframe\">\n",
       "  <thead>\n",
       "    <tr style=\"text-align: right;\">\n",
       "      <th></th>\n",
       "      <th>월</th>\n",
       "      <th>순위</th>\n",
       "      <th>도서명</th>\n",
       "      <th>저자</th>\n",
       "      <th>출판사</th>\n",
       "      <th>출판 일자</th>\n",
       "      <th>정가</th>\n",
       "      <th>적립포인트</th>\n",
       "      <th>대분야</th>\n",
       "      <th>ISBN</th>\n",
       "    </tr>\n",
       "  </thead>\n",
       "  <tbody>\n",
       "    <tr>\n",
       "      <th>0</th>\n",
       "      <td>2021년</td>\n",
       "      <td>1</td>\n",
       "      <td>달러구트 꿈 백화점(레인보우 에디션)</td>\n",
       "      <td>이미예</td>\n",
       "      <td>팩토리나인</td>\n",
       "      <td>20200708</td>\n",
       "      <td>13800</td>\n",
       "      <td>690</td>\n",
       "      <td>판타지소설</td>\n",
       "      <td>9791165341909</td>\n",
       "    </tr>\n",
       "    <tr>\n",
       "      <th>500</th>\n",
       "      <td>5월</td>\n",
       "      <td>1</td>\n",
       "      <td>작별인사</td>\n",
       "      <td>김영하</td>\n",
       "      <td>복복서가</td>\n",
       "      <td>20220502</td>\n",
       "      <td>14000</td>\n",
       "      <td>700</td>\n",
       "      <td>한국소설일반</td>\n",
       "      <td>9791191114225</td>\n",
       "    </tr>\n",
       "    <tr>\n",
       "      <th>300</th>\n",
       "      <td>3월</td>\n",
       "      <td>1</td>\n",
       "      <td>불편한 편의점(40만부 기념 벚꽃 에디션)</td>\n",
       "      <td>김호연</td>\n",
       "      <td>나무옆의자</td>\n",
       "      <td>20210420</td>\n",
       "      <td>14000</td>\n",
       "      <td>700</td>\n",
       "      <td>한국소설일반</td>\n",
       "      <td>9791161571188</td>\n",
       "    </tr>\n",
       "    <tr>\n",
       "      <th>200</th>\n",
       "      <td>2월</td>\n",
       "      <td>1</td>\n",
       "      <td>불편한 편의점(40만부 기념 벚꽃 에디션)</td>\n",
       "      <td>김호연</td>\n",
       "      <td>나무옆의자</td>\n",
       "      <td>20210420</td>\n",
       "      <td>14000</td>\n",
       "      <td>700</td>\n",
       "      <td>한국소설일반</td>\n",
       "      <td>9791161571188</td>\n",
       "    </tr>\n",
       "    <tr>\n",
       "      <th>801</th>\n",
       "      <td>8월</td>\n",
       "      <td>2</td>\n",
       "      <td>불편한 편의점 2(단풍 에디션)</td>\n",
       "      <td>김호연</td>\n",
       "      <td>나무옆의자</td>\n",
       "      <td>20220810</td>\n",
       "      <td>14000</td>\n",
       "      <td>700</td>\n",
       "      <td>한국소설일반</td>\n",
       "      <td>9791161571379</td>\n",
       "    </tr>\n",
       "    <tr>\n",
       "      <th>...</th>\n",
       "      <td>...</td>\n",
       "      <td>...</td>\n",
       "      <td>...</td>\n",
       "      <td>...</td>\n",
       "      <td>...</td>\n",
       "      <td>...</td>\n",
       "      <td>...</td>\n",
       "      <td>...</td>\n",
       "      <td>...</td>\n",
       "      <td>...</td>\n",
       "    </tr>\n",
       "    <tr>\n",
       "      <th>594</th>\n",
       "      <td>5월</td>\n",
       "      <td>95</td>\n",
       "      <td>수상한 중고상점(눈꽃 에디션)</td>\n",
       "      <td>미치오 슈스케</td>\n",
       "      <td>놀</td>\n",
       "      <td>20220412</td>\n",
       "      <td>15000</td>\n",
       "      <td>750</td>\n",
       "      <td>일본소설일반</td>\n",
       "      <td>9791130689241</td>\n",
       "    </tr>\n",
       "    <tr>\n",
       "      <th>995</th>\n",
       "      <td>9월</td>\n",
       "      <td>96</td>\n",
       "      <td>칵테일, 러브, 좀비 (리커버)</td>\n",
       "      <td>조예은</td>\n",
       "      <td>안전가옥</td>\n",
       "      <td>20200413</td>\n",
       "      <td>10000</td>\n",
       "      <td>500</td>\n",
       "      <td>공포/호러소설</td>\n",
       "      <td>9791190174756</td>\n",
       "    </tr>\n",
       "    <tr>\n",
       "      <th>196</th>\n",
       "      <td>1월</td>\n",
       "      <td>97</td>\n",
       "      <td>소마(리커버 양장본)</td>\n",
       "      <td>채사장</td>\n",
       "      <td>웨일북(whalebooks)</td>\n",
       "      <td>20211224</td>\n",
       "      <td>15000</td>\n",
       "      <td>750</td>\n",
       "      <td>한국소설일반</td>\n",
       "      <td>9791192097060</td>\n",
       "    </tr>\n",
       "    <tr>\n",
       "      <th>798</th>\n",
       "      <td>7월</td>\n",
       "      <td>99</td>\n",
       "      <td>지구 끝의 온실</td>\n",
       "      <td>김초엽</td>\n",
       "      <td>자이언트북스</td>\n",
       "      <td>20210818</td>\n",
       "      <td>15000</td>\n",
       "      <td>750</td>\n",
       "      <td>한국소설일반</td>\n",
       "      <td>9791191824001</td>\n",
       "    </tr>\n",
       "    <tr>\n",
       "      <th>799</th>\n",
       "      <td>7월</td>\n",
       "      <td>100</td>\n",
       "      <td>여기는 커스터드, 특별한 도시락을 팝니다</td>\n",
       "      <td>가토 겐</td>\n",
       "      <td>필름(Feelm)</td>\n",
       "      <td>20220715</td>\n",
       "      <td>15000</td>\n",
       "      <td>750</td>\n",
       "      <td>일본소설일반</td>\n",
       "      <td>9791192403076</td>\n",
       "    </tr>\n",
       "  </tbody>\n",
       "</table>\n",
       "<p>136 rows × 10 columns</p>\n",
       "</div>"
      ],
      "text/plain": [
       "         월   순위                      도서명       저자              출판사     출판 일자  \\\n",
       "0    2021년    1     달러구트 꿈 백화점(레인보우 에디션)      이미예            팩토리나인  20200708   \n",
       "500     5월    1                     작별인사      김영하             복복서가  20220502   \n",
       "300     3월    1  불편한 편의점(40만부 기념 벚꽃 에디션)      김호연            나무옆의자  20210420   \n",
       "200     2월    1  불편한 편의점(40만부 기념 벚꽃 에디션)      김호연            나무옆의자  20210420   \n",
       "801     8월    2        불편한 편의점 2(단풍 에디션)      김호연            나무옆의자  20220810   \n",
       "..     ...  ...                      ...      ...              ...       ...   \n",
       "594     5월   95         수상한 중고상점(눈꽃 에디션)  미치오 슈스케                놀  20220412   \n",
       "995     9월   96        칵테일, 러브, 좀비 (리커버)      조예은             안전가옥  20200413   \n",
       "196     1월   97              소마(리커버 양장본)      채사장  웨일북(whalebooks)  20211224   \n",
       "798     7월   99                 지구 끝의 온실      김초엽           자이언트북스  20210818   \n",
       "799     7월  100   여기는 커스터드, 특별한 도시락을 팝니다     가토 겐        필름(Feelm)  20220715   \n",
       "\n",
       "        정가  적립포인트      대분야           ISBN  \n",
       "0    13800    690    판타지소설  9791165341909  \n",
       "500  14000    700   한국소설일반  9791191114225  \n",
       "300  14000    700   한국소설일반  9791161571188  \n",
       "200  14000    700   한국소설일반  9791161571188  \n",
       "801  14000    700   한국소설일반  9791161571379  \n",
       "..     ...    ...      ...            ...  \n",
       "594  15000    750   일본소설일반  9791130689241  \n",
       "995  10000    500  공포/호러소설  9791190174756  \n",
       "196  15000    750   한국소설일반  9791192097060  \n",
       "798  15000    750   한국소설일반  9791191824001  \n",
       "799  15000    750   일본소설일반  9791192403076  \n",
       "\n",
       "[136 rows x 10 columns]"
      ]
     },
     "execution_count": 76,
     "metadata": {},
     "output_type": "execute_result"
    }
   ],
   "source": [
    "temp[temp['출판 일자'] >= 20200101].sort_values('순위', ascending=True)                 # masking"
   ]
  },
  {
   "cell_type": "code",
   "execution_count": null,
   "id": "8daaa7ed",
   "metadata": {},
   "outputs": [],
   "source": [
    "seller"
   ]
  },
  {
   "cell_type": "code",
   "execution_count": null,
   "id": "4a471013",
   "metadata": {},
   "outputs": [],
   "source": [
    "loan"
   ]
  },
  {
   "cell_type": "code",
   "execution_count": null,
   "id": "cb35666b",
   "metadata": {},
   "outputs": [],
   "source": []
  }
 ],
 "metadata": {
  "kernelspec": {
   "display_name": "Python 3 (ipykernel)",
   "language": "python",
   "name": "python3"
  },
  "language_info": {
   "codemirror_mode": {
    "name": "ipython",
    "version": 3
   },
   "file_extension": ".py",
   "mimetype": "text/x-python",
   "name": "python",
   "nbconvert_exporter": "python",
   "pygments_lexer": "ipython3",
   "version": "3.11.7"
  }
 },
 "nbformat": 4,
 "nbformat_minor": 5
}
