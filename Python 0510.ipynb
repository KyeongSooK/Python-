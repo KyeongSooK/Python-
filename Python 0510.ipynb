{
 "cells": [
  {
   "cell_type": "code",
   "execution_count": 1,
   "id": "573ef0c0-c146-4011-859e-82c4b4f3e10d",
   "metadata": {},
   "outputs": [
    {
     "data": {
      "text/plain": [
       "123"
      ]
     },
     "execution_count": 1,
     "metadata": {},
     "output_type": "execute_result"
    }
   ],
   "source": [
    "123"
   ]
  },
  {
   "cell_type": "code",
   "execution_count": 2,
   "id": "addf4ad4-7e58-424a-b359-c222363ee027",
   "metadata": {},
   "outputs": [
    {
     "name": "stdout",
     "output_type": "stream",
     "text": [
      "123\n"
     ]
    }
   ],
   "source": [
    "print(123)"
   ]
  },
  {
   "cell_type": "code",
   "execution_count": 3,
   "id": "4a9453ce-8376-4ddf-b69b-4c99e7e1f44c",
   "metadata": {},
   "outputs": [
    {
     "data": {
      "text/plain": [
       "579"
      ]
     },
     "execution_count": 3,
     "metadata": {},
     "output_type": "execute_result"
    }
   ],
   "source": [
    "123+456"
   ]
  },
  {
   "cell_type": "code",
   "execution_count": 5,
   "id": "7d4d120f-7c24-4545-b4b6-be9a3a0e3893",
   "metadata": {},
   "outputs": [
    {
     "data": {
      "text/plain": [
       "'0123'"
      ]
     },
     "execution_count": 5,
     "metadata": {},
     "output_type": "execute_result"
    }
   ],
   "source": [
    "'0123'"
   ]
  },
  {
   "cell_type": "code",
   "execution_count": 6,
   "id": "c9f357f5-eb30-4dfc-b674-181af23a9a42",
   "metadata": {},
   "outputs": [
    {
     "name": "stdout",
     "output_type": "stream",
     "text": [
      "0123\n"
     ]
    }
   ],
   "source": [
    "print('0123')"
   ]
  },
  {
   "cell_type": "code",
   "execution_count": 7,
   "id": "21d5e2a2-5407-4563-8889-e787d94f2ef2",
   "metadata": {},
   "outputs": [
    {
     "data": {
      "text/plain": [
       "45.67"
      ]
     },
     "execution_count": 7,
     "metadata": {},
     "output_type": "execute_result"
    }
   ],
   "source": [
    "45.67"
   ]
  },
  {
   "cell_type": "code",
   "execution_count": 8,
   "id": "8b958caa-2f8b-48e6-b76f-6cc906f18958",
   "metadata": {},
   "outputs": [
    {
     "data": {
      "text/plain": [
       "10.0"
      ]
     },
     "execution_count": 8,
     "metadata": {},
     "output_type": "execute_result"
    }
   ],
   "source": [
    "10.0"
   ]
  },
  {
   "cell_type": "code",
   "execution_count": 9,
   "id": "fdfc79ce-45a8-47b5-b0ea-10e92cfd3032",
   "metadata": {},
   "outputs": [
    {
     "data": {
      "text/plain": [
       "float"
      ]
     },
     "execution_count": 9,
     "metadata": {},
     "output_type": "execute_result"
    }
   ],
   "source": [
    "type(10.0)"
   ]
  },
  {
   "cell_type": "code",
   "execution_count": 14,
   "id": "ef02e06c-b9e7-4f8d-a932-e3e85710e031",
   "metadata": {},
   "outputs": [
    {
     "data": {
      "text/plain": [
       "10"
      ]
     },
     "execution_count": 14,
     "metadata": {},
     "output_type": "execute_result"
    }
   ],
   "source": [
    "int(10.0)"
   ]
  },
  {
   "cell_type": "code",
   "execution_count": 15,
   "id": "b1651c4f-35b2-4d7c-b572-da580bd9c63a",
   "metadata": {},
   "outputs": [
    {
     "ename": "ValueError",
     "evalue": "invalid literal for int() with base 10: '가나다'",
     "output_type": "error",
     "traceback": [
      "\u001b[1;31m---------------------------------------------------------------------------\u001b[0m",
      "\u001b[1;31mValueError\u001b[0m                                Traceback (most recent call last)",
      "Cell \u001b[1;32mIn[15], line 1\u001b[0m\n\u001b[1;32m----> 1\u001b[0m \u001b[38;5;28mint\u001b[39m(\u001b[38;5;124m'\u001b[39m\u001b[38;5;124m가나다\u001b[39m\u001b[38;5;124m'\u001b[39m)\n",
      "\u001b[1;31mValueError\u001b[0m: invalid literal for int() with base 10: '가나다'"
     ]
    }
   ],
   "source": [
    "int('가나다')"
   ]
  },
  {
   "cell_type": "code",
   "execution_count": 19,
   "id": "a0c203bc-7ba3-467c-b830-0e2437d30b78",
   "metadata": {},
   "outputs": [],
   "source": [
    "x=[1,2,3,4,5,6,8,9]"
   ]
  },
  {
   "cell_type": "code",
   "execution_count": 20,
   "id": "2bde0ca9-b875-4cdc-831a-3a8672ec4c74",
   "metadata": {},
   "outputs": [
    {
     "data": {
      "text/plain": [
       "[1, 2, 3, 4, 5, 6, 8, 9]"
      ]
     },
     "execution_count": 20,
     "metadata": {},
     "output_type": "execute_result"
    }
   ],
   "source": [
    "x"
   ]
  },
  {
   "cell_type": "code",
   "execution_count": 22,
   "id": "c3c3dffc-8af4-4dd7-b18e-35b2b7fd4fcc",
   "metadata": {},
   "outputs": [
    {
     "data": {
      "text/plain": [
       "4"
      ]
     },
     "execution_count": 22,
     "metadata": {},
     "output_type": "execute_result"
    }
   ],
   "source": [
    "x[3] #indexing"
   ]
  },
  {
   "cell_type": "code",
   "execution_count": 24,
   "id": "ef619a31-cf9e-493c-8788-78dad9673c9f",
   "metadata": {},
   "outputs": [],
   "source": [
    "x[3] = 999"
   ]
  },
  {
   "cell_type": "code",
   "execution_count": 25,
   "id": "455ef9dd-5bd2-487f-a637-3f048f15792d",
   "metadata": {},
   "outputs": [
    {
     "data": {
      "text/plain": [
       "[1, 2, 3, 999, 5, 6, 8, 9]"
      ]
     },
     "execution_count": 25,
     "metadata": {},
     "output_type": "execute_result"
    }
   ],
   "source": [
    "x"
   ]
  },
  {
   "cell_type": "code",
   "execution_count": 27,
   "id": "c379d462-7f1d-401e-9dfd-5f46ba584bc5",
   "metadata": {},
   "outputs": [
    {
     "data": {
      "text/plain": [
       "[999, 5, 6]"
      ]
     },
     "execution_count": 27,
     "metadata": {},
     "output_type": "execute_result"
    }
   ],
   "source": [
    "x[3:6] #slicing->staer : end+1 "
   ]
  },
  {
   "cell_type": "code",
   "execution_count": 28,
   "id": "67178edd-403b-4829-a0d0-38d52c42b5ad",
   "metadata": {},
   "outputs": [
    {
     "data": {
      "text/plain": [
       "[999, 5, 6, 8, 9]"
      ]
     },
     "execution_count": 28,
     "metadata": {},
     "output_type": "execute_result"
    }
   ],
   "source": [
    "x[3:]"
   ]
  },
  {
   "cell_type": "code",
   "execution_count": 29,
   "id": "b905013c-6324-4cc5-86ed-005a64546180",
   "metadata": {},
   "outputs": [
    {
     "data": {
      "text/plain": [
       "[1, 2, 3, 999, 5, 6, 8]"
      ]
     },
     "execution_count": 29,
     "metadata": {},
     "output_type": "execute_result"
    }
   ],
   "source": [
    "x[:7]"
   ]
  },
  {
   "cell_type": "code",
   "execution_count": 30,
   "id": "86792814-3f7b-47f2-836b-2c0f67a0c209",
   "metadata": {},
   "outputs": [
    {
     "data": {
      "text/plain": [
       "[1, 2, 3, 999, 5, 6, 8, 9]"
      ]
     },
     "execution_count": 30,
     "metadata": {},
     "output_type": "execute_result"
    }
   ],
   "source": [
    "x[:]"
   ]
  },
  {
   "cell_type": "code",
   "execution_count": 31,
   "id": "369f2adb-58a6-45f6-bda5-bb1ae64942e8",
   "metadata": {},
   "outputs": [
    {
     "data": {
      "text/plain": [
       "6"
      ]
     },
     "execution_count": 31,
     "metadata": {},
     "output_type": "execute_result"
    }
   ],
   "source": [
    "x[-3]"
   ]
  },
  {
   "cell_type": "code",
   "execution_count": 32,
   "id": "06cccbe5-1302-4bee-a083-1167b1ada99f",
   "metadata": {},
   "outputs": [
    {
     "data": {
      "text/plain": [
       "[6, 8, 9]"
      ]
     },
     "execution_count": 32,
     "metadata": {},
     "output_type": "execute_result"
    }
   ],
   "source": [
    "x[-3:]"
   ]
  },
  {
   "cell_type": "code",
   "execution_count": 33,
   "id": "922bbe5c-a1b9-43e4-9161-93abbdea1f2c",
   "metadata": {},
   "outputs": [
    {
     "data": {
      "text/plain": [
       "[6, 5, 999, 3, 2, 1]"
      ]
     },
     "execution_count": 33,
     "metadata": {},
     "output_type": "execute_result"
    }
   ],
   "source": [
    "x[-3::-1]"
   ]
  },
  {
   "cell_type": "code",
   "execution_count": 34,
   "id": "2710434d-64c1-43c9-b068-12789513b6ed",
   "metadata": {},
   "outputs": [],
   "source": [
    "y= (1,2,3,4,5,6,7,8,9)"
   ]
  },
  {
   "cell_type": "code",
   "execution_count": 35,
   "id": "e07d49c0-9e43-47af-942c-54e6739ffd44",
   "metadata": {},
   "outputs": [
    {
     "data": {
      "text/plain": [
       "3"
      ]
     },
     "execution_count": 35,
     "metadata": {},
     "output_type": "execute_result"
    }
   ],
   "source": [
    "y[2]"
   ]
  },
  {
   "cell_type": "code",
   "execution_count": 36,
   "id": "49090ee1-6ff7-46ac-9778-509b1ea641e8",
   "metadata": {},
   "outputs": [
    {
     "data": {
      "text/plain": [
       "(5, 6, 7, 8)"
      ]
     },
     "execution_count": 36,
     "metadata": {},
     "output_type": "execute_result"
    }
   ],
   "source": [
    "y[4:8]"
   ]
  },
  {
   "cell_type": "code",
   "execution_count": 37,
   "id": "380b66ef-9708-4ce6-b453-8c14d8182c2c",
   "metadata": {},
   "outputs": [
    {
     "ename": "TypeError",
     "evalue": "'tuple' object does not support item assignment",
     "output_type": "error",
     "traceback": [
      "\u001b[1;31m---------------------------------------------------------------------------\u001b[0m",
      "\u001b[1;31mTypeError\u001b[0m                                 Traceback (most recent call last)",
      "Cell \u001b[1;32mIn[37], line 1\u001b[0m\n\u001b[1;32m----> 1\u001b[0m y[\u001b[38;5;241m2\u001b[39m] \u001b[38;5;241m=\u001b[39m \u001b[38;5;241m999\u001b[39m\n",
      "\u001b[1;31mTypeError\u001b[0m: 'tuple' object does not support item assignment"
     ]
    }
   ],
   "source": [
    "y[2] = 999"
   ]
  },
  {
   "cell_type": "code",
   "execution_count": 40,
   "id": "aa1a7f7b-6e29-4607-8a8b-8d3c832b028f",
   "metadata": {},
   "outputs": [],
   "source": [
    "s = 'hello'"
   ]
  },
  {
   "cell_type": "code",
   "execution_count": 41,
   "id": "f85d4e0b-88d4-45ad-aa28-12c2c1b9bdff",
   "metadata": {},
   "outputs": [
    {
     "data": {
      "text/plain": [
       "'l'"
      ]
     },
     "execution_count": 41,
     "metadata": {},
     "output_type": "execute_result"
    }
   ],
   "source": [
    "s[2]"
   ]
  },
  {
   "cell_type": "code",
   "execution_count": 42,
   "id": "5a5982ad-da0e-4543-a5f5-b9162219e0bf",
   "metadata": {},
   "outputs": [
    {
     "data": {
      "text/plain": [
       "'llo'"
      ]
     },
     "execution_count": 42,
     "metadata": {},
     "output_type": "execute_result"
    }
   ],
   "source": [
    "s[2:]"
   ]
  },
  {
   "cell_type": "code",
   "execution_count": 43,
   "id": "4fe01812-1536-464b-9dde-06045d77bc0b",
   "metadata": {},
   "outputs": [
    {
     "ename": "TypeError",
     "evalue": "'str' object does not support item assignment",
     "output_type": "error",
     "traceback": [
      "\u001b[1;31m---------------------------------------------------------------------------\u001b[0m",
      "\u001b[1;31mTypeError\u001b[0m                                 Traceback (most recent call last)",
      "Cell \u001b[1;32mIn[43], line 1\u001b[0m\n\u001b[1;32m----> 1\u001b[0m s[\u001b[38;5;241m2\u001b[39m] \u001b[38;5;241m=\u001b[39m \u001b[38;5;124m'\u001b[39m\u001b[38;5;124mQ\u001b[39m\u001b[38;5;124m'\u001b[39m\n",
      "\u001b[1;31mTypeError\u001b[0m: 'str' object does not support item assignment"
     ]
    }
   ],
   "source": [
    "s[2] = 'Q'"
   ]
  },
  {
   "cell_type": "code",
   "execution_count": 66,
   "id": "bd155071-9f6e-472e-a794-70c2f4539e1a",
   "metadata": {},
   "outputs": [],
   "source": [
    "e = {9,8,7,6,5,4,4,4,4}"
   ]
  },
  {
   "cell_type": "code",
   "execution_count": 67,
   "id": "8b6a5fc0-18ad-4d74-9177-53ee91721a1e",
   "metadata": {},
   "outputs": [
    {
     "data": {
      "text/plain": [
       "{4, 5, 6, 7, 8, 9}"
      ]
     },
     "execution_count": 67,
     "metadata": {},
     "output_type": "execute_result"
    }
   ],
   "source": [
    "e"
   ]
  },
  {
   "cell_type": "code",
   "execution_count": 68,
   "id": "c9018757-2dd2-42d8-9426-02aa2ced4ecf",
   "metadata": {},
   "outputs": [
    {
     "ename": "TypeError",
     "evalue": "'set' object is not subscriptable",
     "output_type": "error",
     "traceback": [
      "\u001b[1;31m---------------------------------------------------------------------------\u001b[0m",
      "\u001b[1;31mTypeError\u001b[0m                                 Traceback (most recent call last)",
      "Cell \u001b[1;32mIn[68], line 1\u001b[0m\n\u001b[1;32m----> 1\u001b[0m e[\u001b[38;5;241m3\u001b[39m]\n",
      "\u001b[1;31mTypeError\u001b[0m: 'set' object is not subscriptable"
     ]
    }
   ],
   "source": [
    "e[3]"
   ]
  },
  {
   "cell_type": "code",
   "execution_count": 69,
   "id": "a3d4362f-8d02-4f7a-a1b1-7c6e8897534a",
   "metadata": {},
   "outputs": [
    {
     "ename": "TypeError",
     "evalue": "'set' object does not support item assignment",
     "output_type": "error",
     "traceback": [
      "\u001b[1;31m---------------------------------------------------------------------------\u001b[0m",
      "\u001b[1;31mTypeError\u001b[0m                                 Traceback (most recent call last)",
      "Cell \u001b[1;32mIn[69], line 1\u001b[0m\n\u001b[1;32m----> 1\u001b[0m e[\u001b[38;5;241m3\u001b[39m] \u001b[38;5;241m=\u001b[39m \u001b[38;5;241m999\u001b[39m\n",
      "\u001b[1;31mTypeError\u001b[0m: 'set' object does not support item assignment"
     ]
    }
   ],
   "source": [
    "e[3] = 999"
   ]
  },
  {
   "cell_type": "code",
   "execution_count": 71,
   "id": "80455b8a-9d6b-43f8-adc3-52eb0c2317e0",
   "metadata": {},
   "outputs": [],
   "source": [
    "list1 = [1,1,1,9,9,9,5,4,5,4]"
   ]
  },
  {
   "cell_type": "markdown",
   "id": "36106e2e-9246-42a4-8eb5-66bf80a0218b",
   "metadata": {},
   "source": [
    "list1"
   ]
  },
  {
   "cell_type": "code",
   "execution_count": 72,
   "id": "6a3fd4c7-d737-4b81-ac77-d2c6dd85aa54",
   "metadata": {},
   "outputs": [
    {
     "data": {
      "text/plain": [
       "[1, 1, 1, 9, 9, 9, 5, 4, 5, 4]"
      ]
     },
     "execution_count": 72,
     "metadata": {},
     "output_type": "execute_result"
    }
   ],
   "source": [
    "list1"
   ]
  },
  {
   "cell_type": "code",
   "execution_count": 79,
   "id": "b18db7c5-402b-4257-84b9-57142a3cd392",
   "metadata": {},
   "outputs": [],
   "source": [
    "list2 = list(set(list1))"
   ]
  },
  {
   "cell_type": "code",
   "execution_count": 80,
   "id": "d49cf760-26c8-49cd-8d50-8f865eda4013",
   "metadata": {},
   "outputs": [],
   "source": [
    "list_a = set(list1)\n",
    "list2 = set(list_a)"
   ]
  },
  {
   "cell_type": "code",
   "execution_count": 81,
   "id": "84057070-26c7-4729-84ce-f5dbd3f79b1d",
   "metadata": {},
   "outputs": [
    {
     "data": {
      "text/plain": [
       "{1, 4, 5, 9}"
      ]
     },
     "execution_count": 81,
     "metadata": {},
     "output_type": "execute_result"
    }
   ],
   "source": [
    "list2"
   ]
  },
  {
   "cell_type": "code",
   "execution_count": 128,
   "id": "8f58d888-3103-490c-ab9d-0cb98e14a4a6",
   "metadata": {},
   "outputs": [],
   "source": [
    "d={'key1':123,999:456,'key3':789}"
   ]
  },
  {
   "cell_type": "code",
   "execution_count": 129,
   "id": "a4da3060-cfed-4470-a02c-8f59c4073f57",
   "metadata": {},
   "outputs": [],
   "source": [
    "d['key1'] = 987"
   ]
  },
  {
   "cell_type": "code",
   "execution_count": 130,
   "id": "5458178e-c8f6-4eec-87bb-39c34906e91f",
   "metadata": {},
   "outputs": [],
   "source": [
    "d = {'AAA':[12,32,65], 'BBB' : [98,54,21],'CCC' : [77,44,11]}"
   ]
  },
  {
   "cell_type": "code",
   "execution_count": 131,
   "id": "2826a368-51a7-46a8-991a-f800402e0d25",
   "metadata": {},
   "outputs": [
    {
     "data": {
      "text/plain": [
       "[{'AAA': [12, 32, 65]}, {'BBB': [98, 54, 21]}, {'CCC': [77, 44, 11]}]"
      ]
     },
     "execution_count": 131,
     "metadata": {},
     "output_type": "execute_result"
    }
   ],
   "source": [
    "[{'AAA':[12,32,65]} , {'BBB':[98,54,21]} , {'CCC':[77,44,11]}]"
   ]
  },
  {
   "cell_type": "code",
   "execution_count": 132,
   "id": "f46faa6a-c502-4157-905e-c2472cc7c50d",
   "metadata": {},
   "outputs": [
    {
     "data": {
      "text/plain": [
       "True"
      ]
     },
     "execution_count": 132,
     "metadata": {},
     "output_type": "execute_result"
    }
   ],
   "source": [
    "True"
   ]
  },
  {
   "cell_type": "code",
   "execution_count": 133,
   "id": "55303ff7-7a8d-4b31-a974-98e79a126659",
   "metadata": {},
   "outputs": [
    {
     "data": {
      "text/plain": [
       "False"
      ]
     },
     "execution_count": 133,
     "metadata": {},
     "output_type": "execute_result"
    }
   ],
   "source": [
    "False"
   ]
  },
  {
   "cell_type": "code",
   "execution_count": 134,
   "id": "2730d013-e3f3-4081-b501-66d23c55e4cf",
   "metadata": {},
   "outputs": [
    {
     "data": {
      "text/plain": [
       "True"
      ]
     },
     "execution_count": 134,
     "metadata": {},
     "output_type": "execute_result"
    }
   ],
   "source": [
    "1<3"
   ]
  },
  {
   "cell_type": "code",
   "execution_count": 135,
   "id": "cac11370-024e-4c85-a957-c15fd2cad841",
   "metadata": {},
   "outputs": [
    {
     "data": {
      "text/plain": [
       "True"
      ]
     },
     "execution_count": 135,
     "metadata": {},
     "output_type": "execute_result"
    }
   ],
   "source": [
    "3>1"
   ]
  },
  {
   "cell_type": "markdown",
   "id": "0a0925f5-a64e-452b-812d-cb7218c14a0d",
   "metadata": {},
   "source": [
    "1>3"
   ]
  },
  {
   "cell_type": "code",
   "execution_count": 109,
   "id": "6f816216-642e-4ec1-93f4-cf3503ca6d85",
   "metadata": {},
   "outputs": [
    {
     "data": {
      "text/plain": [
       "False"
      ]
     },
     "execution_count": 109,
     "metadata": {},
     "output_type": "execute_result"
    }
   ],
   "source": [
    "3<1"
   ]
  },
  {
   "cell_type": "code",
   "execution_count": 110,
   "id": "2c435072-edb8-4b75-8bde-4718425250f3",
   "metadata": {},
   "outputs": [
    {
     "data": {
      "text/plain": [
       "True"
      ]
     },
     "execution_count": 110,
     "metadata": {},
     "output_type": "execute_result"
    }
   ],
   "source": [
    "True == 1"
   ]
  },
  {
   "cell_type": "code",
   "execution_count": 111,
   "id": "be7508dc-5574-448c-867b-77f4b65a82eb",
   "metadata": {},
   "outputs": [
    {
     "data": {
      "text/plain": [
       "True"
      ]
     },
     "execution_count": 111,
     "metadata": {},
     "output_type": "execute_result"
    }
   ],
   "source": [
    "False == 0"
   ]
  },
  {
   "cell_type": "code",
   "execution_count": 112,
   "id": "d591fc40-4233-4a9f-8202-30831955f106",
   "metadata": {},
   "outputs": [
    {
     "data": {
      "text/plain": [
       "True"
      ]
     },
     "execution_count": 112,
     "metadata": {},
     "output_type": "execute_result"
    }
   ],
   "source": [
    "False == False"
   ]
  },
  {
   "cell_type": "code",
   "execution_count": 113,
   "id": "ae6dd0be-8ab9-4f82-834a-bd57b6d91a81",
   "metadata": {},
   "outputs": [
    {
     "data": {
      "text/plain": [
       "True"
      ]
     },
     "execution_count": 113,
     "metadata": {},
     "output_type": "execute_result"
    }
   ],
   "source": [
    "True == True"
   ]
  },
  {
   "cell_type": "code",
   "execution_count": 122,
   "id": "fb2fceed-9b8f-4ebd-be09-f554fba918f5",
   "metadata": {},
   "outputs": [
    {
     "name": "stdout",
     "output_type": "stream",
     "text": [
      "True!\n"
     ]
    }
   ],
   "source": [
    "if 1: \n",
    "    print ('True!')"
   ]
  },
  {
   "cell_type": "code",
   "execution_count": 120,
   "id": "eacafafc-902b-4192-83c2-5e6d9425ded2",
   "metadata": {},
   "outputs": [
    {
     "name": "stdout",
     "output_type": "stream",
     "text": [
      "hello!\n"
     ]
    },
    {
     "data": {
      "text/plain": [
       "NoneType"
      ]
     },
     "execution_count": 120,
     "metadata": {},
     "output_type": "execute_result"
    }
   ],
   "source": [
    "type(print('hello!'))"
   ]
  },
  {
   "cell_type": "code",
   "execution_count": 123,
   "id": "a1669a72-03c8-4a90-a86b-1879b593ccd6",
   "metadata": {},
   "outputs": [
    {
     "data": {
      "text/plain": [
       "builtin_function_or_method"
      ]
     },
     "execution_count": 123,
     "metadata": {},
     "output_type": "execute_result"
    }
   ],
   "source": [
    "type(print)"
   ]
  },
  {
   "cell_type": "code",
   "execution_count": null,
   "id": "6a11276e-a33a-46d1-9cb8-b3dea0295150",
   "metadata": {},
   "outputs": [],
   "source": []
  },
  {
   "cell_type": "code",
   "execution_count": null,
   "id": "37c312d8-70b0-4d93-9fe4-df9bfdad9f1a",
   "metadata": {},
   "outputs": [],
   "source": []
  },
  {
   "cell_type": "code",
   "execution_count": 136,
   "id": "0af36e95-09ee-484c-8528-bcbae06fa61a",
   "metadata": {},
   "outputs": [
    {
     "data": {
      "text/plain": [
       "57"
      ]
     },
     "execution_count": 136,
     "metadata": {},
     "output_type": "execute_result"
    }
   ],
   "source": [
    "12+45"
   ]
  },
  {
   "cell_type": "markdown",
   "id": "5cd6c544-22c2-48ff-b9fe-7b77235a3076",
   "metadata": {},
   "source": [
    "12-5.6"
   ]
  },
  {
   "cell_type": "code",
   "execution_count": 137,
   "id": "86136aa5-72b9-40c0-ad5e-7b829537e5df",
   "metadata": {},
   "outputs": [
    {
     "data": {
      "text/plain": [
       "-86.89"
      ]
     },
     "execution_count": 137,
     "metadata": {},
     "output_type": "execute_result"
    }
   ],
   "source": [
    "12.99-99.88"
   ]
  },
  {
   "cell_type": "code",
   "execution_count": 138,
   "id": "131d8e09-e04a-4ec3-a66b-f815d02f738b",
   "metadata": {},
   "outputs": [
    {
     "data": {
      "text/plain": [
       "'helloworld'"
      ]
     },
     "execution_count": 138,
     "metadata": {},
     "output_type": "execute_result"
    }
   ],
   "source": [
    "'hello' + 'world'"
   ]
  },
  {
   "cell_type": "code",
   "execution_count": 139,
   "id": "ef0bd889-2531-4f45-b12f-b2c33d02e9ba",
   "metadata": {},
   "outputs": [
    {
     "ename": "TypeError",
     "evalue": "unsupported operand type(s) for -: 'str' and 'str'",
     "output_type": "error",
     "traceback": [
      "\u001b[1;31m---------------------------------------------------------------------------\u001b[0m",
      "\u001b[1;31mTypeError\u001b[0m                                 Traceback (most recent call last)",
      "Cell \u001b[1;32mIn[139], line 1\u001b[0m\n\u001b[1;32m----> 1\u001b[0m \u001b[38;5;124m'\u001b[39m\u001b[38;5;124mhello\u001b[39m\u001b[38;5;124m'\u001b[39m \u001b[38;5;241m-\u001b[39m \u001b[38;5;124m'\u001b[39m\u001b[38;5;124mo\u001b[39m\u001b[38;5;124m'\u001b[39m\n",
      "\u001b[1;31mTypeError\u001b[0m: unsupported operand type(s) for -: 'str' and 'str'"
     ]
    }
   ],
   "source": [
    "'hello' - 'o'"
   ]
  },
  {
   "cell_type": "code",
   "execution_count": 140,
   "id": "09313c68-cbbd-4139-84d2-d07e66401984",
   "metadata": {},
   "outputs": [
    {
     "data": {
      "text/plain": [
       "[9, 8, 7, 9, 8, 7, 9, 8, 7, 9, 8, 7]"
      ]
     },
     "execution_count": 140,
     "metadata": {},
     "output_type": "execute_result"
    }
   ],
   "source": [
    "[9,8,7] *4"
   ]
  },
  {
   "cell_type": "code",
   "execution_count": 141,
   "id": "0659b0c7-e7e6-4af2-b570-a4db7177dd0d",
   "metadata": {},
   "outputs": [
    {
     "ename": "TypeError",
     "evalue": "unsupported operand type(s) for /: 'list' and 'int'",
     "output_type": "error",
     "traceback": [
      "\u001b[1;31m---------------------------------------------------------------------------\u001b[0m",
      "\u001b[1;31mTypeError\u001b[0m                                 Traceback (most recent call last)",
      "Cell \u001b[1;32mIn[141], line 1\u001b[0m\n\u001b[1;32m----> 1\u001b[0m [\u001b[38;5;241m9\u001b[39m,\u001b[38;5;241m9\u001b[39m,\u001b[38;5;241m9\u001b[39m] \u001b[38;5;241m/\u001b[39m\u001b[38;5;241m3\u001b[39m\n",
      "\u001b[1;31mTypeError\u001b[0m: unsupported operand type(s) for /: 'list' and 'int'"
     ]
    }
   ],
   "source": [
    "[9,9,9] /3"
   ]
  },
  {
   "cell_type": "code",
   "execution_count": 145,
   "id": "e9d10403-30a3-4b5b-b997-a16420a5ea5b",
   "metadata": {},
   "outputs": [
    {
     "ename": "TypeError",
     "evalue": "can't multiply sequence by non-int of type 'float'",
     "output_type": "error",
     "traceback": [
      "\u001b[1;31m---------------------------------------------------------------------------\u001b[0m",
      "\u001b[1;31mTypeError\u001b[0m                                 Traceback (most recent call last)",
      "Cell \u001b[1;32mIn[145], line 1\u001b[0m\n\u001b[1;32m----> 1\u001b[0m \u001b[38;5;124m'\u001b[39m\u001b[38;5;124mhi\u001b[39m\u001b[38;5;124m'\u001b[39m\u001b[38;5;241m*\u001b[39m\u001b[38;5;241m3.0\u001b[39m\n",
      "\u001b[1;31mTypeError\u001b[0m: can't multiply sequence by non-int of type 'float'"
     ]
    }
   ],
   "source": [
    "'hi'*3.0"
   ]
  },
  {
   "cell_type": "code",
   "execution_count": 146,
   "id": "f999982e-1d16-4df2-ae90-4ed8d4b6966f",
   "metadata": {},
   "outputs": [
    {
     "data": {
      "text/plain": [
       "0.6"
      ]
     },
     "execution_count": 146,
     "metadata": {},
     "output_type": "execute_result"
    }
   ],
   "source": [
    "3/5"
   ]
  },
  {
   "cell_type": "code",
   "execution_count": 147,
   "id": "c55ef13f-3cf1-456b-b427-2aed9aa25b35",
   "metadata": {},
   "outputs": [],
   "source": [
    "A = 'hello, world!'"
   ]
  },
  {
   "cell_type": "code",
   "execution_count": 148,
   "id": "af65a1d9-f9fb-46b3-bd28-12c07add7b6a",
   "metadata": {},
   "outputs": [
    {
     "data": {
      "text/plain": [
       "'hello, world!'"
      ]
     },
     "execution_count": 148,
     "metadata": {},
     "output_type": "execute_result"
    }
   ],
   "source": [
    "A"
   ]
  },
  {
   "cell_type": "code",
   "execution_count": 149,
   "id": "b625847f-33a3-410e-aa60-34c6c836c3c1",
   "metadata": {},
   "outputs": [
    {
     "data": {
      "text/plain": [
       "'hellO, wOrld!'"
      ]
     },
     "execution_count": 149,
     "metadata": {},
     "output_type": "execute_result"
    }
   ],
   "source": [
    "A.replace('o','O')"
   ]
  },
  {
   "cell_type": "code",
   "execution_count": 153,
   "id": "effcb979-a36b-4da8-b125-cfa149a8d66a",
   "metadata": {},
   "outputs": [],
   "source": [
    "B = ['hello', 'world','python']"
   ]
  },
  {
   "cell_type": "code",
   "execution_count": 155,
   "id": "57bb56d6-8956-4779-a344-efdbb8897f0e",
   "metadata": {},
   "outputs": [
    {
     "data": {
      "text/plain": [
       "'hello-world-python'"
      ]
     },
     "execution_count": 155,
     "metadata": {},
     "output_type": "execute_result"
    }
   ],
   "source": [
    "'-'.join(B)"
   ]
  },
  {
   "cell_type": "code",
   "execution_count": 156,
   "id": "ec0d1b8e-d01a-47a2-beab-829217e4f92a",
   "metadata": {},
   "outputs": [
    {
     "data": {
      "text/plain": [
       "['hello', 'word', 'python']"
      ]
     },
     "execution_count": 156,
     "metadata": {},
     "output_type": "execute_result"
    }
   ],
   "source": [
    "'hello-word-python'.split('-')"
   ]
  },
  {
   "cell_type": "code",
   "execution_count": 157,
   "id": "5fbf66ff-bd16-4d0a-8512-3412f17b5487",
   "metadata": {},
   "outputs": [],
   "source": [
    "C = 'xoxoxoxoHELLOxoxoxoxoxo'"
   ]
  },
  {
   "cell_type": "code",
   "execution_count": 159,
   "id": "ab93eaa4-1e34-4bae-bb09-0bf76f71c633",
   "metadata": {},
   "outputs": [
    {
     "data": {
      "text/plain": [
       "'HELLO'"
      ]
     },
     "execution_count": 159,
     "metadata": {},
     "output_type": "execute_result"
    }
   ],
   "source": [
    "C.strip('xo')"
   ]
  },
  {
   "cell_type": "code",
   "execution_count": 160,
   "id": "5d3870e2-1579-460b-a1cb-e75d1a03c2cf",
   "metadata": {},
   "outputs": [],
   "source": [
    "C = 'xoxoxoxoHExooxoxoxoxoxoLLOxoxoxoxoxo'"
   ]
  },
  {
   "cell_type": "code",
   "execution_count": 161,
   "id": "8be0b70e-8ca6-4630-af91-95dc2b8b3e06",
   "metadata": {},
   "outputs": [
    {
     "data": {
      "text/plain": [
       "'HExooxoxoxoxoxoLLO'"
      ]
     },
     "execution_count": 161,
     "metadata": {},
     "output_type": "execute_result"
    }
   ],
   "source": [
    "C.strip('xo')"
   ]
  },
  {
   "cell_type": "code",
   "execution_count": 162,
   "id": "6f5fb8b0-24c6-4846-ab78-34b88efc04da",
   "metadata": {},
   "outputs": [],
   "source": [
    "C = 'xoxoxoxoHExooxoxoxoxoxoLLOxoxoxoxoxo'"
   ]
  },
  {
   "cell_type": "code",
   "execution_count": 163,
   "id": "a2e495af-3989-4c34-ac57-5c4c28700d1e",
   "metadata": {},
   "outputs": [
    {
     "data": {
      "text/plain": [
       "'HExooxoxoxoxoxoLLO'"
      ]
     },
     "execution_count": 163,
     "metadata": {},
     "output_type": "execute_result"
    }
   ],
   "source": [
    "C.strip('x123o')"
   ]
  },
  {
   "cell_type": "code",
   "execution_count": 166,
   "id": "dd7d5c88-4354-4ecc-8f1e-9637e5f2e906",
   "metadata": {},
   "outputs": [
    {
     "name": "stdout",
     "output_type": "stream",
     "text": [
      "Help on built-in function print in module builtins:\n",
      "\n",
      "print(*args, sep=' ', end='\\n', file=None, flush=False)\n",
      "    Prints the values to a stream, or to sys.stdout by default.\n",
      "    \n",
      "    sep\n",
      "      string inserted between values, default a space.\n",
      "    end\n",
      "      string appended after the last value, default a newline.\n",
      "    file\n",
      "      a file-like object (stream); defaults to the current sys.stdout.\n",
      "    flush\n",
      "      whether to forcibly flush the stream.\n",
      "\n"
     ]
    }
   ],
   "source": [
    "help(print)"
   ]
  },
  {
   "cell_type": "code",
   "execution_count": 167,
   "id": "1137b8ec-4f1d-4469-9328-58be5c22b18e",
   "metadata": {},
   "outputs": [
    {
     "data": {
      "text/plain": [
       "'XOXOXOXOHEXOOXOXOXOXOXOLLOXOXOXOXOXO'"
      ]
     },
     "execution_count": 167,
     "metadata": {},
     "output_type": "execute_result"
    }
   ],
   "source": [
    "C.upper()"
   ]
  },
  {
   "cell_type": "code",
   "execution_count": 11,
   "id": "8edc867d-1537-42db-9c92-0f306f05e02c",
   "metadata": {},
   "outputs": [
    {
     "ename": "NameError",
     "evalue": "name 'hello' is not defined",
     "output_type": "error",
     "traceback": [
      "\u001b[1;31m---------------------------------------------------------------------------\u001b[0m",
      "\u001b[1;31mNameError\u001b[0m                                 Traceback (most recent call last)",
      "Cell \u001b[1;32mIn[11], line 1\u001b[0m\n\u001b[1;32m----> 1\u001b[0m \u001b[38;5;28mprint\u001b[39m(hello,python)\n",
      "\u001b[1;31mNameError\u001b[0m: name 'hello' is not defined"
     ]
    }
   ],
   "source": [
    "print(hello,python) # 정의 되지 않아 문자열 (이름) 지정 "
   ]
  },
  {
   "cell_type": "code",
   "execution_count": 13,
   "id": "af80c590-eb6b-43bb-8720-44fe6e2b5322",
   "metadata": {},
   "outputs": [
    {
     "ename": "SyntaxError",
     "evalue": "incomplete input (1698708866.py, line 1)",
     "output_type": "error",
     "traceback": [
      "\u001b[1;36m  Cell \u001b[1;32mIn[13], line 1\u001b[1;36m\u001b[0m\n\u001b[1;33m    print('hello,python'\u001b[0m\n\u001b[1;37m                        ^\u001b[0m\n\u001b[1;31mSyntaxError\u001b[0m\u001b[1;31m:\u001b[0m incomplete input\n"
     ]
    }
   ],
   "source": [
    "print('hello,python' # 괄호 닫기"
   ]
  },
  {
   "cell_type": "code",
   "execution_count": null,
   "id": "05fb46c7-62e5-48fe-8df9-4bf84bb797c2",
   "metadata": {},
   "outputs": [],
   "source": []
  },
  {
   "cell_type": "code",
   "execution_count": null,
   "id": "2454b3d1-213d-486b-b2ad-22fdcb6a5d42",
   "metadata": {},
   "outputs": [],
   "source": []
  },
  {
   "cell_type": "code",
   "execution_count": 14,
   "id": "aa710527-1378-472a-9a5b-84dfc5a01d1b",
   "metadata": {},
   "outputs": [],
   "source": [
    "x=23\n",
    "y=0"
   ]
  },
  {
   "cell_type": "code",
   "execution_count": 19,
   "id": "5fb960ff-3d4b-47cb-8e61-aad3533ff7eb",
   "metadata": {},
   "outputs": [
    {
     "name": "stdout",
     "output_type": "stream",
     "text": [
      "inf!\n"
     ]
    }
   ],
   "source": [
    "try:\n",
    "   print(x/y)\n",
    "except:\n",
    "    print('inf!')"
   ]
  },
  {
   "cell_type": "code",
   "execution_count": 21,
   "id": "01864828-1551-4922-96d1-8b67bd68e4e2",
   "metadata": {},
   "outputs": [],
   "source": [
    "x=23\n",
    "y='a'"
   ]
  },
  {
   "cell_type": "code",
   "execution_count": 22,
   "id": "660c9d9e-b6d9-404c-8fba-27a3d78c8f4a",
   "metadata": {},
   "outputs": [
    {
     "ename": "TypeError",
     "evalue": "unsupported operand type(s) for /: 'int' and 'str'",
     "output_type": "error",
     "traceback": [
      "\u001b[1;31m---------------------------------------------------------------------------\u001b[0m",
      "\u001b[1;31mTypeError\u001b[0m                                 Traceback (most recent call last)",
      "Cell \u001b[1;32mIn[22], line 2\u001b[0m\n\u001b[0;32m      1\u001b[0m \u001b[38;5;28;01mtry\u001b[39;00m:\n\u001b[1;32m----> 2\u001b[0m    \u001b[38;5;28mprint\u001b[39m(x\u001b[38;5;241m/\u001b[39my)\n\u001b[0;32m      3\u001b[0m \u001b[38;5;28;01mexcept\u001b[39;00m \u001b[38;5;167;01mZeroDivisionError\u001b[39;00m:\n\u001b[0;32m      4\u001b[0m     \u001b[38;5;28mprint\u001b[39m(\u001b[38;5;124m'\u001b[39m\u001b[38;5;124minf!\u001b[39m\u001b[38;5;124m'\u001b[39m)\n",
      "\u001b[1;31mTypeError\u001b[0m: unsupported operand type(s) for /: 'int' and 'str'"
     ]
    }
   ],
   "source": [
    "try:\n",
    "   print(x/y)\n",
    "except ZeroDivisionError:\n",
    "    print('inf!')"
   ]
  },
  {
   "cell_type": "code",
   "execution_count": null,
   "id": "718ad8a1-e869-479d-b5ad-7bf1ce1c2325",
   "metadata": {},
   "outputs": [],
   "source": []
  },
  {
   "cell_type": "code",
   "execution_count": 32,
   "id": "c721c2d3-cb9c-4b5a-850e-ff76735e0b10",
   "metadata": {},
   "outputs": [],
   "source": [
    "import re"
   ]
  },
  {
   "cell_type": "code",
   "execution_count": null,
   "id": "08536b35-ff54-429b-949e-d8359eba25e6",
   "metadata": {},
   "outputs": [],
   "source": []
  },
  {
   "cell_type": "code",
   "execution_count": null,
   "id": "50fcfc7e-c7ef-4ddb-9c2a-1a24dd905594",
   "metadata": {},
   "outputs": [],
   "source": []
  },
  {
   "cell_type": "code",
   "execution_count": null,
   "id": "456456c1-0480-4853-852a-bd34429d188e",
   "metadata": {},
   "outputs": [],
   "source": []
  },
  {
   "cell_type": "code",
   "execution_count": 24,
   "id": "0f462261-6870-401a-98c2-4e65bd661bc0",
   "metadata": {},
   "outputs": [],
   "source": [
    "tel = '01011234456'\n",
    "tel2 = '010-1123-4456'\n",
    "tel3 = '010.1123.4456'\n",
    "tel4 = '(010)1123-4456'"
   ]
  },
  {
   "cell_type": "code",
   "execution_count": 33,
   "id": "99f22791-e6ce-42c7-9198-7f4f1a04fc8c",
   "metadata": {},
   "outputs": [
    {
     "data": {
      "text/plain": [
       "'01011234456'"
      ]
     },
     "execution_count": 33,
     "metadata": {},
     "output_type": "execute_result"
    }
   ],
   "source": [
    "re.sub('\\D','',tel4)"
   ]
  },
  {
   "cell_type": "code",
   "execution_count": 37,
   "id": "5ec5ff03-618f-4fa8-a65f-be0ba46897e2",
   "metadata": {},
   "outputs": [
    {
     "data": {
      "text/plain": [
       "<re.Match object; span=(0, 3), match='010'>"
      ]
     },
     "execution_count": 37,
     "metadata": {},
     "output_type": "execute_result"
    }
   ],
   "source": [
    "re.match ('010',tel)"
   ]
  },
  {
   "cell_type": "code",
   "execution_count": 40,
   "id": "e172610c-f6e2-48a0-a5b1-febf417349fb",
   "metadata": {},
   "outputs": [
    {
     "data": {
      "text/plain": [
       "<re.Match object; span=(1, 2), match='1'>"
      ]
     },
     "execution_count": 40,
     "metadata": {},
     "output_type": "execute_result"
    }
   ],
   "source": [
    "re.search ('1',tel)"
   ]
  },
  {
   "cell_type": "code",
   "execution_count": 41,
   "id": "ee7ebd7f-0a55-49c0-919e-fd707927b1ff",
   "metadata": {},
   "outputs": [
    {
     "data": {
      "text/plain": [
       "['1', '1', '1']"
      ]
     },
     "execution_count": 41,
     "metadata": {},
     "output_type": "execute_result"
    }
   ],
   "source": [
    "re.findall ('1',tel)"
   ]
  },
  {
   "cell_type": "code",
   "execution_count": null,
   "id": "e6568f6b-44db-4141-81fb-f74845957883",
   "metadata": {},
   "outputs": [],
   "source": []
  }
 ],
 "metadata": {
  "kernelspec": {
   "display_name": "Python 3 (ipykernel)",
   "language": "python",
   "name": "python3"
  },
  "language_info": {
   "codemirror_mode": {
    "name": "ipython",
    "version": 3
   },
   "file_extension": ".py",
   "mimetype": "text/x-python",
   "name": "python",
   "nbconvert_exporter": "python",
   "pygments_lexer": "ipython3",
   "version": "3.11.7"
  }
 },
 "nbformat": 4,
 "nbformat_minor": 5
}
