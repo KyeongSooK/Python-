{
 "cells": [
  {
   "cell_type": "markdown",
   "id": "99569708",
   "metadata": {},
   "source": [
    "# 파이썬 셀레니움을 이용한  \n",
    "\n",
    "### 1.네이버 지도 크롤링 실습\n",
    "### 2. 알라딘 크롤링 실습 - 베스트셀러 전체순위 페이지순으로 21"
   ]
  },
  {
   "cell_type": "code",
   "execution_count": 53,
   "id": "3d96cace",
   "metadata": {},
   "outputs": [],
   "source": [
    "from selenium import webdriver\n",
    "from selenium.webdriver.common.by import By"
   ]
  },
  {
   "cell_type": "code",
   "execution_count": 54,
   "id": "70d8cda3",
   "metadata": {},
   "outputs": [],
   "source": [
    "driver = webdriver.Chrome()"
   ]
  },
  {
   "cell_type": "code",
   "execution_count": 55,
   "id": "5c9ac07d",
   "metadata": {},
   "outputs": [],
   "source": [
    "url = 'https://www.aladin.co.kr/shop/common/wbest.aspx?BranchType=1'"
   ]
  },
  {
   "cell_type": "code",
   "execution_count": 56,
   "id": "9c41377c",
   "metadata": {
    "scrolled": true
   },
   "outputs": [],
   "source": [
    "driver.get(url)"
   ]
  },
  {
   "cell_type": "code",
   "execution_count": null,
   "id": "c6af6ffd",
   "metadata": {},
   "outputs": [],
   "source": []
  },
  {
   "cell_type": "code",
   "execution_count": 28,
   "id": "000d7035",
   "metadata": {},
   "outputs": [],
   "source": [
    "# # 셀레니움을 통하여 text 를 찾는 방법 - 잘쓰이지 않는다.\n",
    "# driver.find_element(\n",
    "#     By.XPATH,\n",
    "#     '//*[@id=\"Myform\"]/div[3]/table/tbody/tr/td[3]/table/tbody/tr[1]/td[1]/div[1]/ul/li[1]/a[1]/b'\n",
    "# ).text"
   ]
  },
  {
   "cell_type": "code",
   "execution_count": 18,
   "id": "b51502ea",
   "metadata": {},
   "outputs": [],
   "source": [
    "# # 셀레니움을 통하여 text 를 찾는 방법 - 잘쓰이지 않는다.\n",
    "# driver.find_element(\n",
    "#     By.XPATH, \n",
    "#     '//*[@id=\"Myform\"]/div[4]/table/tbody/tr/td[3]/table/tbody/tr[1]/td[1]/div[1]/ul/li[1]/a[1]/b'\n",
    "# ).text"
   ]
  },
  {
   "cell_type": "code",
   "execution_count": 19,
   "id": "da3b82c0",
   "metadata": {},
   "outputs": [],
   "source": [
    "# # 셀레니움을 통하여 text 를 찾는 방법 - 잘쓰이지 않는다.\n",
    "# driver.find_element(\n",
    "#     By.XPATH, \n",
    "#     '//*[@id=\"Myform\"]/div[5]/table/tbody/tr/td[3]/table/tbody/tr[1]/td[1]/div[1]/ul/li[2]/a[1]/b'\n",
    "# ).text"
   ]
  },
  {
   "cell_type": "code",
   "execution_count": 29,
   "id": "a37fe4e1",
   "metadata": {},
   "outputs": [
    {
     "data": {
      "text/plain": [
       "'리틀 라이프 1'"
      ]
     },
     "execution_count": 29,
     "metadata": {},
     "output_type": "execute_result"
    }
   ],
   "source": [
    "# NO SEEACH ERROR 일 경우 try~except code 사용.\n",
    "try:\n",
    "    x = driver.find_element(\n",
    "        By.XPATH, \n",
    "        f'//*[@id=\"Myform\"]/div[4]/table/tbody/tr/td[3]/table/tbody/tr[1]/td[1]/div[1]/ul/li[1]/a[1]/'\n",
    "    ).text\n",
    "except:\n",
    "    x = driver.find_element(\n",
    "        By.XPATH, \n",
    "        f'//*[@id=\"Myform\"]/div[6]/table/tbody/tr/td[3]/table/tbody/tr[1]/td[1]/div[1]/ul/li[1]/a[1]/b'\n",
    "    ).text\n",
    "x"
   ]
  },
  {
   "cell_type": "code",
   "execution_count": 33,
   "id": "2d71de00",
   "metadata": {},
   "outputs": [],
   "source": [
    "# displayed 함수 확인 해봐야됨\n",
    "\n",
    "# driver.find_element(\n",
    "#     By.XPATH, \n",
    "#     '//*[@id=\"Myform\"]/div[6]/table/tbody/tr/td[3]/table/tbody/tr[1]/td[1]/div[1]/ul/li[1]/a[1]/b'\n",
    "# ).text.displayed()"
   ]
  },
  {
   "cell_type": "code",
   "execution_count": 34,
   "id": "9fcb4943",
   "metadata": {},
   "outputs": [],
   "source": [
    "# 3~5 try ~ except \n",
    "# 예외처리 2가지 방법인 경우만 가능하다.\n",
    "\n",
    "book_name = []\n",
    "\n",
    "for book_num in range(3,53):\n",
    "    try:\n",
    "        x = driver.find_element(\n",
    "            By.XPATH, \n",
    "            f'//*[@id=\"Myform\"]/div[{book_num}]/table/tbody/tr/td[3]/table/tbody/tr[1]/td[1]/div[1]/ul/li[1]/a[1]/b'\n",
    "        ).text\n",
    "    except:\n",
    "        x = driver.find_element(\n",
    "            By.XPATH, \n",
    "            f'//*[@id=\"Myform\"]/div[{book_num}]/table/tbody/tr/td[3]/table/tbody/tr[1]/td[1]/div[1]/ul/li[2]/a[1]/b'\n",
    "        ).text\n",
    "        \n",
    "    book_name.append(x)"
   ]
  },
  {
   "cell_type": "code",
   "execution_count": 35,
   "id": "f6d587ce",
   "metadata": {},
   "outputs": [
    {
     "data": {
      "text/plain": [
       "50"
      ]
     },
     "execution_count": 35,
     "metadata": {},
     "output_type": "execute_result"
    }
   ],
   "source": [
    "len(book_name)"
   ]
  },
  {
   "cell_type": "code",
   "execution_count": 36,
   "id": "f4ce584e",
   "metadata": {},
   "outputs": [
    {
     "data": {
      "text/plain": [
       "'20,000'"
      ]
     },
     "execution_count": 36,
     "metadata": {},
     "output_type": "execute_result"
    }
   ],
   "source": [
    "# 가격\n",
    "driver.find_element(\n",
    "    By.XPATH, \n",
    "    f'//*[@id=\"Myform\"]/div[4]/table/tbody/tr/td[3]/table/tbody/tr[1]/td[1]/div[1]/ul/li[3]/span[1]'\n",
    ").text"
   ]
  },
  {
   "cell_type": "code",
   "execution_count": 37,
   "id": "340171fc",
   "metadata": {},
   "outputs": [],
   "source": [
    "book_price = []\n",
    "\n",
    "for book_num in range(3,53):\n",
    "    try:\n",
    "        x = driver.find_element(\n",
    "            By.XPATH, \n",
    "            f'//*[@id=\"Myform\"]/div[{book_num}]/table/tbody/tr/td[3]/table/tbody/tr[1]/td[1]/div[1]/ul/li[4]/span[1]'\n",
    "        ).text\n",
    "    except:\n",
    "        x = driver.find_element(\n",
    "            By.XPATH, \n",
    "            f'//*[@id=\"Myform\"]/div[{book_num}]/table/tbody/tr/td[3]/table/tbody/tr[1]/td[1]/div[1]/ul/li[3]/span[1]'\n",
    "        ).text\n",
    "        \n",
    "    book_price.append(x)"
   ]
  },
  {
   "cell_type": "code",
   "execution_count": 38,
   "id": "71d11187",
   "metadata": {},
   "outputs": [
    {
     "data": {
      "text/plain": [
       "50"
      ]
     },
     "execution_count": 38,
     "metadata": {},
     "output_type": "execute_result"
    }
   ],
   "source": [
    "len(book_price)"
   ]
  },
  {
   "cell_type": "code",
   "execution_count": 39,
   "id": "e2bef6f1",
   "metadata": {},
   "outputs": [
    {
     "data": {
      "text/plain": [
       "'18,000'"
      ]
     },
     "execution_count": 39,
     "metadata": {},
     "output_type": "execute_result"
    }
   ],
   "source": [
    "# 할인가\n",
    "driver.find_element(\n",
    "    By.XPATH, \n",
    "    f'//*[@id=\"Myform\"]/div[4]/table/tbody/tr/td[3]/table/tbody/tr[1]/td[1]/div[1]/ul/li[3]/span[2]/b/span'\n",
    ").text"
   ]
  },
  {
   "cell_type": "code",
   "execution_count": 40,
   "id": "17ee8ca6",
   "metadata": {},
   "outputs": [],
   "source": [
    "book_sale = []\n",
    "\n",
    "for book_num in range(3,53):\n",
    "    try:\n",
    "        x = driver.find_element(\n",
    "            By.XPATH, \n",
    "            f'//*[@id=\"Myform\"]/div[{book_num}]/table/tbody/tr/td[3]/table/tbody/tr[1]/td[1]/div[1]/ul/li[4]/span[2]/b/span'\n",
    "        ).text\n",
    "    except:\n",
    "        x = driver.find_element(\n",
    "            By.XPATH, \n",
    "            f'//*[@id=\"Myform\"]/div[{book_num}]/table/tbody/tr/td[3]/table/tbody/tr[1]/td[1]/div[1]/ul/li[3]/span[2]/b/span'\n",
    "        ).text\n",
    "        \n",
    "    book_sale.append(x)"
   ]
  },
  {
   "cell_type": "code",
   "execution_count": 41,
   "id": "84d47f21",
   "metadata": {},
   "outputs": [
    {
     "data": {
      "text/plain": [
       "50"
      ]
     },
     "execution_count": 41,
     "metadata": {},
     "output_type": "execute_result"
    }
   ],
   "source": [
    "len(book_sale)"
   ]
  },
  {
   "cell_type": "markdown",
   "id": "286fb6fe",
   "metadata": {},
   "source": [
    "***\n",
    "### 강사님 소스"
   ]
  },
  {
   "cell_type": "code",
   "execution_count": 34,
   "id": "c44ddc54",
   "metadata": {},
   "outputs": [
    {
     "data": {
      "text/plain": [
       "<selenium.webdriver.remote.webelement.WebElement (session=\"89f91af7ed0389f6cb99678ceb73573a\", element=\"f.90B88A2D76F72640AF3C35C602DB6A9A.d.BCF2893A46145FC3E262C102DC7E37C4.e.265\")>"
      ]
     },
     "execution_count": 34,
     "metadata": {},
     "output_type": "execute_result"
    }
   ],
   "source": [
    "driver.find_element(\n",
    "    By.XPATH,\n",
    "    f'//*[@id=\"Myform\"]/div[3]/table/tbody/tr/td[3]/table/tbody/tr[1]/td[1]/div[1]/ul/li[4]/span[1]'\n",
    ")"
   ]
  },
  {
   "cell_type": "code",
   "execution_count": 44,
   "id": "c7420f35",
   "metadata": {},
   "outputs": [],
   "source": [
    "# 별점이 없는 경우 함수만들기\n",
    "def star_check(book_num, promo):\n",
    "    try:\n",
    "        x = driver.find_element(\n",
    "            By.XPATH,\n",
    "            f'//*[@id=\"Myform\"]/div[{book_num}]/table/tbody/tr/td[3]/table/tbody/tr[1]/td[1]/div[1]/ul/li[{promo}]/span'\n",
    "        ).text\n",
    "        \n",
    "        return x\n",
    "    \n",
    "    except:\n",
    "        return float('nan')"
   ]
  },
  {
   "cell_type": "code",
   "execution_count": 45,
   "id": "aee75b70",
   "metadata": {},
   "outputs": [],
   "source": [
    "# 3~5 try ~ except \n",
    "# 예외처리 2가지 방법인 경우만 가능하다.\n",
    "\n",
    "book_name = []\n",
    "book_price = []\n",
    "book_sale = []\n",
    "star_rate = []\n",
    "urls = []\n",
    "\n",
    "for book_num in range(3,53):\n",
    "    try:                       # 행사 정보가 있는 경우\n",
    "        x = driver.find_element(         # 책 제목 부분\n",
    "            By.XPATH, \n",
    "            f'//*[@id=\"Myform\"]/div[{book_num}]/table/tbody/tr/td[3]/table/tbody/tr[1]/td[1]/div[1]/ul/li[2]/a[1]/b'\n",
    "        ).text\n",
    "        \n",
    "        u = driver.find_element(         # url 부분 파싱 부분 확인\n",
    "            By.XPATH, \n",
    "            f'//*[@id=\"Myform\"]/div[{book_num}]/table/tbody/tr/td[3]/table/tbody/tr[1]/td[1]/div[1]/ul/li[2]/a[1]'\n",
    "        ).get_attribute('href')\n",
    "        \n",
    "        p = driver.find_element(\n",
    "            By.XPATH, \n",
    "            f'//*[@id=\"Myform\"]/div[{book_num}]/table/tbody/tr/td[3]/table/tbody/tr[1]/td[1]/div[1]/ul/li[4]/span[1]'\n",
    "        ).text\n",
    "        \n",
    "        s = driver.find_element(\n",
    "            By.XPATH, \n",
    "            f'//*[@id=\"Myform\"]/div[{book_num}]/table/tbody/tr/td[3]/table/tbody/tr[1]/td[1]/div[1]/ul/li[4]/span[2]/b/span'\n",
    "        ).text\n",
    "        \n",
    "        t = star_check(book_num, 5)\n",
    "        #t = driver.find_element(\n",
    "        #    By.XPATH,\n",
    "        #    f'//*[@id=\"Myform\"]/div[{book_num}]/table/tbody/tr/td[3]/table/tbody/tr[1]/td[1]/div[1]/ul/li[5]/span'\n",
    "        #).text\n",
    "    except:                    # 행사 정보가 없는 경우\n",
    "        x = driver.find_element(\n",
    "            By.XPATH, \n",
    "            f'//*[@id=\"Myform\"]/div[{book_num}]/table/tbody/tr/td[3]/table/tbody/tr[1]/td[1]/div[1]/ul/li[1]/a[1]/b'\n",
    "        ).text\n",
    "        \n",
    "        u = driver.find_element(         # url 부분\n",
    "            By.XPATH, \n",
    "            f'//*[@id=\"Myform\"]/div[{book_num}]/table/tbody/tr/td[3]/table/tbody/tr[1]/td[1]/div[1]/ul/li[1]/a[1]'\n",
    "        ).get_attribute('href')\n",
    "        \n",
    "        p = driver.find_element(\n",
    "            By.XPATH, \n",
    "            f'//*[@id=\"Myform\"]/div[{book_num}]/table/tbody/tr/td[3]/table/tbody/tr[1]/td[1]/div[1]/ul/li[3]/span[1]'\n",
    "        ).text\n",
    "        \n",
    "        s = driver.find_element(\n",
    "            By.XPATH, \n",
    "            f'//*[@id=\"Myform\"]/div[{book_num}]/table/tbody/tr/td[3]/table/tbody/tr[1]/td[1]/div[1]/ul/li[3]/span[2]/b/span'\n",
    "        ).text\n",
    "        \n",
    "        t = star_check(book_num, 4)\n",
    "        #t = driver.find_element(\n",
    "        #    By.XPATH,\n",
    "        #    f'//*[@id=\"Myform\"]/div[{book_num}]/table/tbody/tr/td[3]/table/tbody/tr[1]/td[1]/div[1]/ul/li[4]/span'\n",
    "        #).text\n",
    "    book_name.append(x)\n",
    "    book_price.append(p)\n",
    "    book_sale.append(s)\n",
    "    star_rate.append(t)\n",
    "    urls.append(u)"
   ]
  },
  {
   "cell_type": "code",
   "execution_count": 36,
   "id": "1a5f09ad",
   "metadata": {},
   "outputs": [],
   "source": [
    "#try:\n",
    "#    1 / 0\n",
    "#    print(1)\n",
    "#except:??\n",
    "    "
   ]
  },
  {
   "cell_type": "code",
   "execution_count": 46,
   "id": "72ba80b3",
   "metadata": {},
   "outputs": [
    {
     "data": {
      "text/plain": [
       "50"
      ]
     },
     "execution_count": 46,
     "metadata": {},
     "output_type": "execute_result"
    }
   ],
   "source": [
    "len(urls)"
   ]
  },
  {
   "cell_type": "code",
   "execution_count": 39,
   "id": "f8b815ad",
   "metadata": {},
   "outputs": [],
   "source": [
    "#print(join(book_name) + \"|\" + join(book_price) + \"|\" + join(book_sale))"
   ]
  },
  {
   "cell_type": "code",
   "execution_count": 40,
   "id": "deb25868",
   "metadata": {},
   "outputs": [
    {
     "data": {
      "text/plain": [
       "(['선재 업고 튀어 1~2 세트 - 전2권',\n",
       "  '쿠이 료코 낙서집 데이드림 아워',\n",
       "  '룬의 아이들 - 블러디드 7',\n",
       "  '리틀 라이프 1',\n",
       "  '리틀 라이프 2',\n",
       "  '나를 소모하지 않는 현명한 태도에 관하여',\n",
       "  '괴수 8호 12 (트리플 특장판)',\n",
       "  '원피스 108',\n",
       "  '나의 히어로 아카데미아 40 (트리플 특장판)',\n",
       "  '두 사람의 인터내셔널',\n",
       "  'THE MONEY BOOK 더 머니북',\n",
       "  '나는 다정한 관찰자가 되기로 했다',\n",
       "  '빨모쌤의 라이브 영어회화',\n",
       "  '키노 씨네필',\n",
       "  '하루 한 장 나의 어휘력을 위한 필사 노트',\n",
       "  '전지적 독자 시점 아트북에디션 2 세트 (하드커버 단행본 3권 + 굿즈키트)',\n",
       "  '꼬마셰프와 시작하는 첫 요리',\n",
       "  '말하지 않으면 인생은 바뀌지 않는다',\n",
       "  '불변의 법칙',\n",
       "  '신화의 숲',\n",
       "  '녹나무의 여신',\n",
       "  '흔한남매 과학 탐험대 10 : 생태계',\n",
       "  '세이노의 가르침 (화이트 에디션)',\n",
       "  '아주 작은 대화의 기술',\n",
       "  '별의 커비 푸푸푸 히어로 4',\n",
       "  '환영합니다 성령님',\n",
       "  'ETS 토익 정기시험 기출문제집 1000 Vol. 4 Reading (리딩)',\n",
       "  '일류의 조건',\n",
       "  '국어 잘하는 아이가 이깁니다',\n",
       "  '설민석의 한국사 대모험 29',\n",
       "  '돈의 심리학 (30만 부 기념 스페셜 에디션)',\n",
       "  '감정의 이해',\n",
       "  '나의 돈키호테',\n",
       "  'ETS 토익 정기시험 기출문제집 1000 Vol. 4 Listening (리스닝)',\n",
       "  '내일의 으뜸',\n",
       "  '어떻게 살 것인가',\n",
       "  '리버보이',\n",
       "  '내 몸 혁명',\n",
       "  '홀썸의 집밥 예찬',\n",
       "  '하이큐!! 매거진 2024 MAY',\n",
       "  '방과 후 소년 하나코 군 2 (더블특장판)',\n",
       "  '마흔에 읽는 쇼펜하우어',\n",
       "  '나는 읽고 쓰고 버린다',\n",
       "  '이처럼 사소한 것들',\n",
       "  '나는 나의 스무 살을 가장 존중한다',\n",
       "  '평범하여 찬란한 삶을 향한 찬사',\n",
       "  '백앤아 6 : 저주 걸린 장난감 가게',\n",
       "  '강인함의 힘',\n",
       "  '슬픔에 이름 붙이기',\n",
       "  '모순'],\n",
       " ['50,000',\n",
       "  '20,000',\n",
       "  '17,000',\n",
       "  '14,800',\n",
       "  '14,800',\n",
       "  '17,800',\n",
       "  '6,000',\n",
       "  '5,500',\n",
       "  '6,000',\n",
       "  '16,800',\n",
       "  '22,000',\n",
       "  '17,800',\n",
       "  '22,000',\n",
       "  '35,000',\n",
       "  '23,800',\n",
       "  '178,500',\n",
       "  '18,500',\n",
       "  '20,000',\n",
       "  '25,000',\n",
       "  '18,000',\n",
       "  '18,800',\n",
       "  '14,800',\n",
       "  '7,200',\n",
       "  '19,900',\n",
       "  '11,000',\n",
       "  '25,000',\n",
       "  '19,800',\n",
       "  '19,800',\n",
       "  '17,500',\n",
       "  '13,000',\n",
       "  '19,800',\n",
       "  '16,800',\n",
       "  '18,000',\n",
       "  '19,800',\n",
       "  '13,000',\n",
       "  '17,000',\n",
       "  '15,000',\n",
       "  '19,500',\n",
       "  '25,000',\n",
       "  '20,000',\n",
       "  '6,000',\n",
       "  '17,000',\n",
       "  '17,000',\n",
       "  '13,800',\n",
       "  '18,000',\n",
       "  '18,800',\n",
       "  '16,800',\n",
       "  '22,000',\n",
       "  '18,800',\n",
       "  '13,000'],\n",
       " ['45,000',\n",
       "  '18,000',\n",
       "  '15,300',\n",
       "  '13,320',\n",
       "  '13,320',\n",
       "  '16,020',\n",
       "  '5,400',\n",
       "  '4,950',\n",
       "  '5,400',\n",
       "  '15,120',\n",
       "  '19,800',\n",
       "  '16,020',\n",
       "  '19,800',\n",
       "  '35,000',\n",
       "  '21,420',\n",
       "  '160,650',\n",
       "  '16,650',\n",
       "  '18,000',\n",
       "  '22,500',\n",
       "  '16,200',\n",
       "  '16,920',\n",
       "  '13,320',\n",
       "  '6,480',\n",
       "  '17,910',\n",
       "  '9,900',\n",
       "  '22,500',\n",
       "  '17,820',\n",
       "  '17,820',\n",
       "  '15,750',\n",
       "  '11,700',\n",
       "  '17,820',\n",
       "  '15,120',\n",
       "  '16,200',\n",
       "  '17,820',\n",
       "  '11,700',\n",
       "  '15,300',\n",
       "  '13,500',\n",
       "  '17,550',\n",
       "  '22,500',\n",
       "  '18,000',\n",
       "  '5,400',\n",
       "  '15,300',\n",
       "  '15,300',\n",
       "  '12,420',\n",
       "  '16,200',\n",
       "  '16,920',\n",
       "  '15,120',\n",
       "  '19,800',\n",
       "  '16,920',\n",
       "  '11,700'])"
      ]
     },
     "execution_count": 40,
     "metadata": {},
     "output_type": "execute_result"
    }
   ],
   "source": [
    "book_name, book_price, book_sale"
   ]
  },
  {
   "cell_type": "code",
   "execution_count": 41,
   "id": "7bfd1068",
   "metadata": {},
   "outputs": [
    {
     "data": {
      "text/plain": [
       "50"
      ]
     },
     "execution_count": 41,
     "metadata": {},
     "output_type": "execute_result"
    }
   ],
   "source": [
    "len(star_rate)"
   ]
  },
  {
   "cell_type": "code",
   "execution_count": 42,
   "id": "3bb6f1d0",
   "metadata": {},
   "outputs": [],
   "source": [
    "book_name = []\n",
    "\n",
    "for book_num in range(3,53):\n",
    "    try:                     # 행사 없음\n",
    "        driver.find_element(\n",
    "            By.XPATH, \n",
    "            f'//*[@id=\"Myform\"]/div[{book_num}]/table/tbody/tr/td[3]/table/tbody/tr[1]/td[1]/div[1]/ul/li[1]/a[1]/b'\n",
    "        )\n",
    "        promo = 0\n",
    "    except:                 # 행사(핑크색글자) 있는경우\n",
    "        promo = 1\n",
    "        \n",
    "        name = driver.find_element(\n",
    "            By.XPATH, \n",
    "            f'//*[@id=\"Myform\"]/div[{book_num}]/table/tbody/tr/td[3]/table/tbody/tr[1]/td[1]/div[1]/ul/li[{1+promo}]/a[1]/b'\n",
    "        ).text    # .text 텍스트가 나오고 안치면 그 객체=외계어 가 나온다.\n",
    "        \n",
    "        book_name.append(name)"
   ]
  },
  {
   "cell_type": "code",
   "execution_count": 43,
   "id": "6424d8de",
   "metadata": {},
   "outputs": [
    {
     "data": {
      "text/plain": [
       "['선재 업고 튀어 1~2 세트 - 전2권',\n",
       " '룬의 아이들 - 블러디드 7',\n",
       " '나를 소모하지 않는 현명한 태도에 관하여',\n",
       " '괴수 8호 12 (트리플 특장판)',\n",
       " '원피스 108',\n",
       " '두 사람의 인터내셔널',\n",
       " '나는 다정한 관찰자가 되기로 했다',\n",
       " '빨모쌤의 라이브 영어회화',\n",
       " '전지적 독자 시점 아트북에디션 2 세트 (하드커버 단행본 3권 + 굿즈키트)',\n",
       " '꼬마셰프와 시작하는 첫 요리',\n",
       " '말하지 않으면 인생은 바뀌지 않는다',\n",
       " '불변의 법칙',\n",
       " '신화의 숲',\n",
       " '녹나무의 여신',\n",
       " '흔한남매 과학 탐험대 10 : 생태계',\n",
       " '세이노의 가르침 (화이트 에디션)',\n",
       " '아주 작은 대화의 기술',\n",
       " '별의 커비 푸푸푸 히어로 4',\n",
       " 'ETS 토익 정기시험 기출문제집 1000 Vol. 4 Reading (리딩)',\n",
       " '일류의 조건',\n",
       " '설민석의 한국사 대모험 29',\n",
       " '돈의 심리학 (30만 부 기념 스페셜 에디션)',\n",
       " '나의 돈키호테',\n",
       " 'ETS 토익 정기시험 기출문제집 1000 Vol. 4 Listening (리스닝)',\n",
       " '내일의 으뜸',\n",
       " '어떻게 살 것인가',\n",
       " '리버보이',\n",
       " '홀썸의 집밥 예찬',\n",
       " '방과 후 소년 하나코 군 2 (더블특장판)',\n",
       " '마흔에 읽는 쇼펜하우어',\n",
       " '나는 읽고 쓰고 버린다',\n",
       " '이처럼 사소한 것들',\n",
       " '나는 나의 스무 살을 가장 존중한다',\n",
       " '평범하여 찬란한 삶을 향한 찬사',\n",
       " '백앤아 6 : 저주 걸린 장난감 가게',\n",
       " '슬픔에 이름 붙이기',\n",
       " '모순']"
      ]
     },
     "execution_count": 43,
     "metadata": {},
     "output_type": "execute_result"
    }
   ],
   "source": [
    "book_name"
   ]
  },
  {
   "cell_type": "code",
   "execution_count": 46,
   "id": "2818738c",
   "metadata": {},
   "outputs": [],
   "source": [
    "ab = driver.find_element(By.XPATH, f'//*[@id=\"Myform\"]/div[3]/table/tbody/tr/td[3]/table/tbody/tr[1]/td[1]/div[1]/ul/li[2]/a')"
   ]
  },
  {
   "cell_type": "code",
   "execution_count": 47,
   "id": "87d69f9f",
   "metadata": {},
   "outputs": [
    {
     "data": {
      "text/plain": [
       "'https://www.aladin.co.kr/shop/wproduct.aspx?ItemId=340152805'"
      ]
     },
     "execution_count": 47,
     "metadata": {},
     "output_type": "execute_result"
    }
   ],
   "source": [
    "ab.get_attribute('href')"
   ]
  },
  {
   "cell_type": "code",
   "execution_count": null,
   "id": "42934945",
   "metadata": {},
   "outputs": [],
   "source": []
  },
  {
   "cell_type": "code",
   "execution_count": null,
   "id": "bb62d9a4",
   "metadata": {
    "scrolled": true
   },
   "outputs": [],
   "source": [
    "#urls 첫번째 부터 순차적으로"
   ]
  },
  {
   "cell_type": "code",
   "execution_count": 45,
   "id": "026eb22c",
   "metadata": {},
   "outputs": [],
   "source": [
    "driver.find_element(\n",
    "    By.XPATH,\n",
    "    f'//*[@id=\"Myform\"]/div[3]/table/tbody/tr/td[3]/table/tbody/tr[1]/td[1]/div[1]/ul/li[2]/a'\n",
    ").click()"
   ]
  },
  {
   "cell_type": "code",
   "execution_count": 47,
   "id": "f2909315",
   "metadata": {},
   "outputs": [],
   "source": [
    "# driver.find_element(\n",
    "#     By.XPATH,\n",
    "#     '//*[@id=\"ulCategory\"]'\n",
    "# ).text()"
   ]
  },
  {
   "cell_type": "code",
   "execution_count": 47,
   "id": "20b546c4",
   "metadata": {},
   "outputs": [],
   "source": [
    "# 다른 방법 = 자바스크립트 으로 활용  새탭 열기\n",
    "driver.execute_script(\n",
    "    f'''window.open(\"{urls[0]}\",\"_blank\")'''\n",
    ")"
   ]
  },
  {
   "cell_type": "code",
   "execution_count": 10,
   "id": "9156fde2",
   "metadata": {},
   "outputs": [
    {
     "data": {
      "text/plain": [
       "['5DB867D7176AE15E0CB0112117484E71', '42A2E2A3750BD1339A147AB24E1A35DA']"
      ]
     },
     "execution_count": 10,
     "metadata": {},
     "output_type": "execute_result"
    }
   ],
   "source": [
    "#driver.window_handles\n",
    "driver.window_handles # ['1페이지', '2페이지'] 확인"
   ]
  },
  {
   "cell_type": "code",
   "execution_count": 11,
   "id": "0444da6d",
   "metadata": {
    "scrolled": true
   },
   "outputs": [],
   "source": [
    "# 맨 마지막 열린 탭(TAP) 으로 이동   // 맨마지막에 열린 tab으로 간다 b탭\n",
    "driver.switch_to.window(driver.window_handles[-1])"
   ]
  },
  {
   "cell_type": "code",
   "execution_count": 12,
   "id": "78cb1aed",
   "metadata": {
    "scrolled": true
   },
   "outputs": [
    {
     "data": {
      "text/plain": [
       "'국내도서 > 예술/대중문화 > 영화/드라마 > 시나리오/시나리오작법'"
      ]
     },
     "execution_count": 12,
     "metadata": {},
     "output_type": "execute_result"
    }
   ],
   "source": [
    "driver.find_element(\n",
    "    By.XPATH,\n",
    "    '//*[@id=\"ulCategory\"]'\n",
    ").text"
   ]
  },
  {
   "cell_type": "code",
   "execution_count": 13,
   "id": "9417e9f2",
   "metadata": {},
   "outputs": [],
   "source": [
    "driver.get(urls[1]) # urls[1] 두번째 제목 url로 간다."
   ]
  },
  {
   "cell_type": "code",
   "execution_count": 14,
   "id": "e53325f5",
   "metadata": {},
   "outputs": [
    {
     "data": {
      "text/plain": [
       "['5DB867D7176AE15E0CB0112117484E71', '42A2E2A3750BD1339A147AB24E1A35DA']"
      ]
     },
     "execution_count": 14,
     "metadata": {},
     "output_type": "execute_result"
    }
   ],
   "source": [
    "driver.window_handles # "
   ]
  },
  {
   "cell_type": "code",
   "execution_count": 15,
   "id": "504dd2b6",
   "metadata": {},
   "outputs": [
    {
     "data": {
      "text/plain": [
       "'국내도서 > 만화 > 만화그리기와 읽기 > 만화작법/일러스트'"
      ]
     },
     "execution_count": 15,
     "metadata": {},
     "output_type": "execute_result"
    }
   ],
   "source": [
    "driver.find_element(\n",
    "    By.XPATH,\n",
    "    '//*[@id=\"ulCategory\"]'\n",
    ").text"
   ]
  },
  {
   "cell_type": "code",
   "execution_count": 16,
   "id": "15c8cc9a",
   "metadata": {},
   "outputs": [],
   "source": [
    "driver.get(urls[2])"
   ]
  },
  {
   "cell_type": "code",
   "execution_count": 17,
   "id": "ef7943e1",
   "metadata": {},
   "outputs": [
    {
     "data": {
      "text/plain": [
       "'국내도서 > 소설/시/희곡 > 판타지/환상문학 > 한국판타지/환상소설\\n국내도서 > 소설/시/희곡 > 한국소설 > 2000년대 이후 한국소설'"
      ]
     },
     "execution_count": 17,
     "metadata": {},
     "output_type": "execute_result"
    }
   ],
   "source": [
    "driver.find_element(\n",
    "    By.XPATH,\n",
    "    '//*[@id=\"ulCategory\"]'\n",
    ").text"
   ]
  },
  {
   "cell_type": "code",
   "execution_count": 63,
   "id": "b2f2d0db",
   "metadata": {},
   "outputs": [],
   "source": [
    "driver.close()         # quit 모드 닫기"
   ]
  },
  {
   "cell_type": "code",
   "execution_count": 50,
   "id": "eb02eea7",
   "metadata": {},
   "outputs": [],
   "source": [
    "#driver.switch_to.window(driver.window_handles[-1])  # 웹페이지 뒤로 가기"
   ]
  },
  {
   "cell_type": "code",
   "execution_count": null,
   "id": "9ab6a74f",
   "metadata": {},
   "outputs": [],
   "source": []
  },
  {
   "cell_type": "code",
   "execution_count": null,
   "id": "ca058482",
   "metadata": {},
   "outputs": [],
   "source": [
    "# 첫번째 책부터 마지막 책까지"
   ]
  },
  {
   "cell_type": "code",
   "execution_count": 60,
   "id": "cc510b62",
   "metadata": {},
   "outputs": [],
   "source": [
    "# x = 0\n",
    "\n",
    "# for x in range(1,50):\n",
    "#     driver.execute_script(\n",
    "#     f'''window.open(\"{urls[x]}\",\"_blank\")'''\n",
    "#     )\n",
    "    \n",
    "#     #driver.window_handles # ['1페이지', '2페이지'] 확인\n",
    "\n",
    "#     driver.switch_to.window(driver.window_handles[-1])\n",
    "    \n",
    "#     driver.find_element(\n",
    "#         By.XPATH,\n",
    "#         '//*[@id=\"ulCategory\"]'\n",
    "#     ).text\n",
    "\n",
    "# driver.get(urls[x]) # 안되는 이유는 +1 가 안맞아서 +1 넣기"
   ]
  },
  {
   "cell_type": "code",
   "execution_count": 62,
   "id": "9ef2eb5e",
   "metadata": {},
   "outputs": [
    {
     "ename": "IndexError",
     "evalue": "list index out of range",
     "output_type": "error",
     "traceback": [
      "\u001b[1;31m---------------------------------------------------------------------------\u001b[0m",
      "\u001b[1;31mIndexError\u001b[0m                                Traceback (most recent call last)",
      "Cell \u001b[1;32mIn[62], line 3\u001b[0m\n\u001b[0;32m      1\u001b[0m \u001b[38;5;66;03m# 다른 방법 = 자바스크립트 으로 활용  새탭 열기\u001b[39;00m\n\u001b[0;32m      2\u001b[0m driver\u001b[38;5;241m.\u001b[39mexecute_script(\n\u001b[1;32m----> 3\u001b[0m     \u001b[38;5;124mf\u001b[39m\u001b[38;5;124m'''\u001b[39m\u001b[38;5;124mwindow.open(\u001b[39m\u001b[38;5;124m\"\u001b[39m\u001b[38;5;132;01m{\u001b[39;00murls[\u001b[38;5;241m0\u001b[39m]\u001b[38;5;132;01m}\u001b[39;00m\u001b[38;5;124m\"\u001b[39m\u001b[38;5;124m,\u001b[39m\u001b[38;5;124m\"\u001b[39m\u001b[38;5;124m_blank\u001b[39m\u001b[38;5;124m\"\u001b[39m\u001b[38;5;124m)\u001b[39m\u001b[38;5;124m'''\u001b[39m\n\u001b[0;32m      4\u001b[0m )\n",
      "\u001b[1;31mIndexError\u001b[0m: list index out of range"
     ]
    }
   ],
   "source": [
    "# # 다른 방법 = 자바스크립트 으로 활용  새탭 열기\n",
    "# driver.execute_script(\n",
    "#     f'''window.open(\"{urls[0]}\",\"_blank\")'''\n",
    "# )"
   ]
  },
  {
   "cell_type": "code",
   "execution_count": 75,
   "id": "508f768f",
   "metadata": {},
   "outputs": [],
   "source": [
    "urls_list = []\n",
    "\n",
    "for x in range(0,50):\n",
    "    \n",
    "    driver.get(urls[x])\n",
    "    \n",
    "    urls1 = driver.find_element(\n",
    "            By.XPATH,\n",
    "            '//*[@id=\"ulCategory\"]'\n",
    "        ).text\n",
    "    \n",
    "    urls_list.append(urls1) # 저장한다."
   ]
  },
  {
   "cell_type": "code",
   "execution_count": 78,
   "id": "1764ec25",
   "metadata": {},
   "outputs": [
    {
     "data": {
      "text/plain": [
       "49"
      ]
     },
     "execution_count": 78,
     "metadata": {},
     "output_type": "execute_result"
    }
   ],
   "source": [
    "len(urls_list) # 위에를 49개를 돌려서."
   ]
  },
  {
   "cell_type": "code",
   "execution_count": null,
   "id": "6beecbe1",
   "metadata": {},
   "outputs": [],
   "source": [
    "# 강사님 소스 코드\n",
    "\n",
    "genre = []\n",
    "\n",
    "for u in urls:\n",
    "    # 스크립트 u 가 0번부터 urls 50개 까지 화면에 보여준다.\n",
    "    driver.execute_script(                 \n",
    "    f'''window.open(\"{u}\",\"_blank\")'''\n",
    "    )\n",
    "        \n",
    "    # 맨 마지막 열린 탭(TAP) 으로 이동   // 맨마지막에 열린 tab으로 간다 b탭\n",
    "    driver.switch_to.window(driver.window_handles[-1])\n",
    "    g = driver.find_element(\n",
    "        By.XPATH,\n",
    "        '//*[@id=\"ulCategory\"]'\n",
    "    ).text\n",
    "    genre.append(g)\n",
    "        \n",
    "    driver.close()\n",
    "        \n",
    "    # 맨 마지막 열린 탭(TAP) 으로 이동   // 맨마지막에 열린 tab으로 간다 b탭\n",
    "    driver.switch_to.window(driver.window_handles[-1])\n"
   ]
  },
  {
   "cell_type": "code",
   "execution_count": null,
   "id": "6604cdcd",
   "metadata": {},
   "outputs": [],
   "source": [
    "# 위에 다시 한번 확인하기"
   ]
  },
  {
   "cell_type": "code",
   "execution_count": null,
   "id": "a9535779",
   "metadata": {},
   "outputs": [],
   "source": []
  },
  {
   "cell_type": "code",
   "execution_count": null,
   "id": "844f41fa",
   "metadata": {},
   "outputs": [],
   "source": []
  },
  {
   "cell_type": "code",
   "execution_count": null,
   "id": "54492b17",
   "metadata": {},
   "outputs": [],
   "source": []
  },
  {
   "cell_type": "markdown",
   "id": "27e325d7",
   "metadata": {},
   "source": [
    "### 다음쪽 넘어가는 방법  \n",
    "1. 다음쪽 다음쪽 클릭으로 넘어가기"
   ]
  },
  {
   "cell_type": "code",
   "execution_count": 103,
   "id": "a759881a",
   "metadata": {},
   "outputs": [],
   "source": [
    "# 뒤쪽으로 넘어가는 요소들\n",
    "# 51페이지 로 ~ 1\n",
    "disp = driver.find_element(\n",
    "    By.XPATH,\n",
    "    '//*[@id=\"newbg_body\"]/div[3]/ul/li[3]'\n",
    ").is_displayed()\n",
    "\n",
    "if disp:\n",
    "    driver.find_element(\n",
    "        By.XPATH,\n",
    "        '//*[@id=\"newbg_body\"]/div[3]/ul/li[3]'\n",
    "    ).click()\n",
    "else:\n",
    "    print('not displayed!')"
   ]
  },
  {
   "cell_type": "code",
   "execution_count": 86,
   "id": "8438912c",
   "metadata": {
    "collapsed": true
   },
   "outputs": [
    {
     "ename": "ElementNotInteractableException",
     "evalue": "Message: element not interactable\n  (Session info: chrome=125.0.6422.141)\nStacktrace:\n\tGetHandleVerifier [0x00007FF76BE61F52+60322]\n\t(No symbol) [0x00007FF76BDDCEC9]\n\t(No symbol) [0x00007FF76BC97CE9]\n\t(No symbol) [0x00007FF76BCE89C2]\n\t(No symbol) [0x00007FF76BCDB491]\n\t(No symbol) [0x00007FF76BD0C21A]\n\t(No symbol) [0x00007FF76BCDADB6]\n\t(No symbol) [0x00007FF76BD0C430]\n\t(No symbol) [0x00007FF76BD2BC80]\n\t(No symbol) [0x00007FF76BD0BFC3]\n\t(No symbol) [0x00007FF76BCD9617]\n\t(No symbol) [0x00007FF76BCDA211]\n\tGetHandleVerifier [0x00007FF76C1794AD+3301629]\n\tGetHandleVerifier [0x00007FF76C1C36D3+3605283]\n\tGetHandleVerifier [0x00007FF76C1B9450+3563680]\n\tGetHandleVerifier [0x00007FF76BF14326+790390]\n\t(No symbol) [0x00007FF76BDE750F]\n\t(No symbol) [0x00007FF76BDE3404]\n\t(No symbol) [0x00007FF76BDE3592]\n\t(No symbol) [0x00007FF76BDD2F9F]\n\tBaseThreadInitThunk [0x00007FF834A7257D+29]\n\tRtlUserThreadStart [0x00007FF8358CAA48+40]\n",
     "output_type": "error",
     "traceback": [
      "\u001b[1;31m---------------------------------------------------------------------------\u001b[0m",
      "\u001b[1;31mElementNotInteractableException\u001b[0m           Traceback (most recent call last)",
      "Cell \u001b[1;32mIn[86], line 9\u001b[0m\n\u001b[0;32m      3\u001b[0m disp \u001b[38;5;241m=\u001b[39m driver\u001b[38;5;241m.\u001b[39mfind_element(\n\u001b[0;32m      4\u001b[0m     By\u001b[38;5;241m.\u001b[39mXPATH,\n\u001b[0;32m      5\u001b[0m     \u001b[38;5;124m'\u001b[39m\u001b[38;5;124m//*[@id=\u001b[39m\u001b[38;5;124m\"\u001b[39m\u001b[38;5;124mnewbg_body\u001b[39m\u001b[38;5;124m\"\u001b[39m\u001b[38;5;124m]/div[3]/ul/li[3]\u001b[39m\u001b[38;5;124m'\u001b[39m\n\u001b[0;32m      6\u001b[0m )\n\u001b[0;32m      8\u001b[0m \u001b[38;5;28;01mif\u001b[39;00m disp:\n\u001b[1;32m----> 9\u001b[0m     disp\u001b[38;5;241m.\u001b[39mclick()\n\u001b[0;32m     10\u001b[0m \u001b[38;5;28;01melse\u001b[39;00m:\n\u001b[0;32m     11\u001b[0m     \u001b[38;5;28mprint\u001b[39m(\u001b[38;5;124m'\u001b[39m\u001b[38;5;124mnot displayed!\u001b[39m\u001b[38;5;124m'\u001b[39m)\n",
      "File \u001b[1;32m~\\AppData\\Roaming\\Python\\Python311\\site-packages\\selenium\\webdriver\\remote\\webelement.py:94\u001b[0m, in \u001b[0;36mWebElement.click\u001b[1;34m(self)\u001b[0m\n\u001b[0;32m     92\u001b[0m \u001b[38;5;28;01mdef\u001b[39;00m \u001b[38;5;21mclick\u001b[39m(\u001b[38;5;28mself\u001b[39m) \u001b[38;5;241m-\u001b[39m\u001b[38;5;241m>\u001b[39m \u001b[38;5;28;01mNone\u001b[39;00m:\n\u001b[0;32m     93\u001b[0m \u001b[38;5;250m    \u001b[39m\u001b[38;5;124;03m\"\"\"Clicks the element.\"\"\"\u001b[39;00m\n\u001b[1;32m---> 94\u001b[0m     \u001b[38;5;28mself\u001b[39m\u001b[38;5;241m.\u001b[39m_execute(Command\u001b[38;5;241m.\u001b[39mCLICK_ELEMENT)\n",
      "File \u001b[1;32m~\\AppData\\Roaming\\Python\\Python311\\site-packages\\selenium\\webdriver\\remote\\webelement.py:395\u001b[0m, in \u001b[0;36mWebElement._execute\u001b[1;34m(self, command, params)\u001b[0m\n\u001b[0;32m    393\u001b[0m     params \u001b[38;5;241m=\u001b[39m {}\n\u001b[0;32m    394\u001b[0m params[\u001b[38;5;124m\"\u001b[39m\u001b[38;5;124mid\u001b[39m\u001b[38;5;124m\"\u001b[39m] \u001b[38;5;241m=\u001b[39m \u001b[38;5;28mself\u001b[39m\u001b[38;5;241m.\u001b[39m_id\n\u001b[1;32m--> 395\u001b[0m \u001b[38;5;28;01mreturn\u001b[39;00m \u001b[38;5;28mself\u001b[39m\u001b[38;5;241m.\u001b[39m_parent\u001b[38;5;241m.\u001b[39mexecute(command, params)\n",
      "File \u001b[1;32m~\\AppData\\Roaming\\Python\\Python311\\site-packages\\selenium\\webdriver\\remote\\webdriver.py:347\u001b[0m, in \u001b[0;36mWebDriver.execute\u001b[1;34m(self, driver_command, params)\u001b[0m\n\u001b[0;32m    345\u001b[0m response \u001b[38;5;241m=\u001b[39m \u001b[38;5;28mself\u001b[39m\u001b[38;5;241m.\u001b[39mcommand_executor\u001b[38;5;241m.\u001b[39mexecute(driver_command, params)\n\u001b[0;32m    346\u001b[0m \u001b[38;5;28;01mif\u001b[39;00m response:\n\u001b[1;32m--> 347\u001b[0m     \u001b[38;5;28mself\u001b[39m\u001b[38;5;241m.\u001b[39merror_handler\u001b[38;5;241m.\u001b[39mcheck_response(response)\n\u001b[0;32m    348\u001b[0m     response[\u001b[38;5;124m\"\u001b[39m\u001b[38;5;124mvalue\u001b[39m\u001b[38;5;124m\"\u001b[39m] \u001b[38;5;241m=\u001b[39m \u001b[38;5;28mself\u001b[39m\u001b[38;5;241m.\u001b[39m_unwrap_value(response\u001b[38;5;241m.\u001b[39mget(\u001b[38;5;124m\"\u001b[39m\u001b[38;5;124mvalue\u001b[39m\u001b[38;5;124m\"\u001b[39m, \u001b[38;5;28;01mNone\u001b[39;00m))\n\u001b[0;32m    349\u001b[0m     \u001b[38;5;28;01mreturn\u001b[39;00m response\n",
      "File \u001b[1;32m~\\AppData\\Roaming\\Python\\Python311\\site-packages\\selenium\\webdriver\\remote\\errorhandler.py:229\u001b[0m, in \u001b[0;36mErrorHandler.check_response\u001b[1;34m(self, response)\u001b[0m\n\u001b[0;32m    227\u001b[0m         alert_text \u001b[38;5;241m=\u001b[39m value[\u001b[38;5;124m\"\u001b[39m\u001b[38;5;124malert\u001b[39m\u001b[38;5;124m\"\u001b[39m]\u001b[38;5;241m.\u001b[39mget(\u001b[38;5;124m\"\u001b[39m\u001b[38;5;124mtext\u001b[39m\u001b[38;5;124m\"\u001b[39m)\n\u001b[0;32m    228\u001b[0m     \u001b[38;5;28;01mraise\u001b[39;00m exception_class(message, screen, stacktrace, alert_text)  \u001b[38;5;66;03m# type: ignore[call-arg]  # mypy is not smart enough here\u001b[39;00m\n\u001b[1;32m--> 229\u001b[0m \u001b[38;5;28;01mraise\u001b[39;00m exception_class(message, screen, stacktrace)\n",
      "\u001b[1;31mElementNotInteractableException\u001b[0m: Message: element not interactable\n  (Session info: chrome=125.0.6422.141)\nStacktrace:\n\tGetHandleVerifier [0x00007FF76BE61F52+60322]\n\t(No symbol) [0x00007FF76BDDCEC9]\n\t(No symbol) [0x00007FF76BC97CE9]\n\t(No symbol) [0x00007FF76BCE89C2]\n\t(No symbol) [0x00007FF76BCDB491]\n\t(No symbol) [0x00007FF76BD0C21A]\n\t(No symbol) [0x00007FF76BCDADB6]\n\t(No symbol) [0x00007FF76BD0C430]\n\t(No symbol) [0x00007FF76BD2BC80]\n\t(No symbol) [0x00007FF76BD0BFC3]\n\t(No symbol) [0x00007FF76BCD9617]\n\t(No symbol) [0x00007FF76BCDA211]\n\tGetHandleVerifier [0x00007FF76C1794AD+3301629]\n\tGetHandleVerifier [0x00007FF76C1C36D3+3605283]\n\tGetHandleVerifier [0x00007FF76C1B9450+3563680]\n\tGetHandleVerifier [0x00007FF76BF14326+790390]\n\t(No symbol) [0x00007FF76BDE750F]\n\t(No symbol) [0x00007FF76BDE3404]\n\t(No symbol) [0x00007FF76BDE3592]\n\t(No symbol) [0x00007FF76BDD2F9F]\n\tBaseThreadInitThunk [0x00007FF834A7257D+29]\n\tRtlUserThreadStart [0x00007FF8358CAA48+40]\n"
     ]
    }
   ],
   "source": [
    "# 뒤쪽으로 넘어가는 요소들\n",
    "# 51페이지 로 ~ 2\n",
    "disp = driver.find_element(\n",
    "    By.XPATH,\n",
    "    '//*[@id=\"newbg_body\"]/div[3]/ul/li[3]'\n",
    ")\n",
    "\n",
    "if disp:\n",
    "    disp.click()\n",
    "else:\n",
    "    print('not displayed!')"
   ]
  },
  {
   "cell_type": "code",
   "execution_count": null,
   "id": "6d52b990",
   "metadata": {},
   "outputs": [],
   "source": [
    "# ul 부분을 전부 찾기"
   ]
  },
  {
   "cell_type": "code",
   "execution_count": 112,
   "id": "f01ede40",
   "metadata": {},
   "outputs": [],
   "source": [
    "rank = driver.find_element(\n",
    "    By.XPATH,'//*[@id=\"newbg_body\"]/div[3]/ul/li'\n",
    ") # list가 다 나온다."
   ]
  },
  {
   "cell_type": "code",
   "execution_count": 113,
   "id": "bba2f099",
   "metadata": {},
   "outputs": [
    {
     "data": {
      "text/plain": [
       "<selenium.webdriver.remote.webelement.WebElement (session=\"132d28221070da1314ab52a497604efa\", element=\"f.54CE2225DA9C87B1ADF6F04BD2D64BBD.d.63E7F3800FABF4B7F8E909B9C2BE28A3.e.328\")>"
      ]
     },
     "execution_count": 113,
     "metadata": {},
     "output_type": "execute_result"
    }
   ],
   "source": [
    "rank"
   ]
  },
  {
   "cell_type": "code",
   "execution_count": 115,
   "id": "0bbad146",
   "metadata": {
    "scrolled": true
   },
   "outputs": [
    {
     "ename": "TypeError",
     "evalue": "'WebElement' object is not subscriptable",
     "output_type": "error",
     "traceback": [
      "\u001b[1;31m---------------------------------------------------------------------------\u001b[0m",
      "\u001b[1;31mTypeError\u001b[0m                                 Traceback (most recent call last)",
      "Cell \u001b[1;32mIn[115], line 1\u001b[0m\n\u001b[1;32m----> 1\u001b[0m rank \u001b[38;5;241m=\u001b[39m driver\u001b[38;5;241m.\u001b[39mfind_element(\n\u001b[0;32m      2\u001b[0m     By\u001b[38;5;241m.\u001b[39mXPATH, \u001b[38;5;124m'\u001b[39m\u001b[38;5;124m//*[@id=\u001b[39m\u001b[38;5;124m\"\u001b[39m\u001b[38;5;124mnewbg_body\u001b[39m\u001b[38;5;124m\"\u001b[39m\u001b[38;5;124m]/div[3]/ul/li\u001b[39m\u001b[38;5;124m'\u001b[39m\n\u001b[0;32m      3\u001b[0m )[\u001b[38;5;241m1\u001b[39m:\u001b[38;5;241m-\u001b[39m\u001b[38;5;241m1\u001b[39m]\n",
      "\u001b[1;31mTypeError\u001b[0m: 'WebElement' object is not subscriptable"
     ]
    }
   ],
   "source": [
    "rank = driver.find_element(\n",
    "    By.XPATH, '//*[@id=\"newbg_body\"]/div[3]/ul/li'\n",
    ")[1:-1]"
   ]
  },
  {
   "cell_type": "code",
   "execution_count": 114,
   "id": "811fe6d3",
   "metadata": {},
   "outputs": [],
   "source": [
    "next_button = driver.find_element(\n",
    "    By.XPATH, '//*[@id=\"newbg_body\"]/div[3]/ul/li[22]'\n",
    ")"
   ]
  },
  {
   "cell_type": "code",
   "execution_count": null,
   "id": "7e1f1fbe",
   "metadata": {},
   "outputs": [],
   "source": [
    "# 페이지 클릭 후 코드을 실행시키지말기"
   ]
  },
  {
   "cell_type": "code",
   "execution_count": 107,
   "id": "e658d5a2",
   "metadata": {},
   "outputs": [],
   "source": [
    "import time"
   ]
  },
  {
   "cell_type": "code",
   "execution_count": 111,
   "id": "e69890b9",
   "metadata": {},
   "outputs": [
    {
     "ename": "TypeError",
     "evalue": "'WebElement' object is not iterable",
     "output_type": "error",
     "traceback": [
      "\u001b[1;31m---------------------------------------------------------------------------\u001b[0m",
      "\u001b[1;31mTypeError\u001b[0m                                 Traceback (most recent call last)",
      "Cell \u001b[1;32mIn[111], line 1\u001b[0m\n\u001b[1;32m----> 1\u001b[0m \u001b[38;5;28;01mfor\u001b[39;00m page \u001b[38;5;129;01min\u001b[39;00m rank:\n\u001b[0;32m      2\u001b[0m     page\u001b[38;5;241m.\u001b[39mclick()\n\u001b[0;32m      3\u001b[0m     \u001b[38;5;28mprint\u001b[39m(page\u001b[38;5;241m.\u001b[39mtext)   \u001b[38;5;66;03m# 진행상황 파악하기\u001b[39;00m\n",
      "\u001b[1;31mTypeError\u001b[0m: 'WebElement' object is not iterable"
     ]
    }
   ],
   "source": [
    "for page in rank:\n",
    "    page.click()\n",
    "    print(page.text)   # 진행상황 파악하기\n",
    "    time.sleep(2)"
   ]
  },
  {
   "cell_type": "code",
   "execution_count": null,
   "id": "3b1af198",
   "metadata": {},
   "outputs": [],
   "source": [
    "for p in range(2,22):\n",
    "    rank = driver.find_element(\n",
    "    By.XPATH, '//*[@id=\"newbg_body\"]/div[3]/ul/li'\n",
    "    )[1:-1]\n",
    "    page.click()\n",
    "    print(page.text)   # 진행상황 파악하기\n",
    "    time.sleep(2)"
   ]
  },
  {
   "cell_type": "code",
   "execution_count": 118,
   "id": "8760b82c",
   "metadata": {
    "scrolled": true
   },
   "outputs": [
    {
     "name": "stdout",
     "output_type": "stream",
     "text": [
      "1위\n",
      "51위\n",
      "101위\n",
      "151위\n",
      "201위\n",
      "251위\n",
      "301위\n",
      "351위\n",
      "401위\n",
      "451위\n",
      "\n"
     ]
    },
    {
     "ename": "ElementNotInteractableException",
     "evalue": "Message: element not interactable\n  (Session info: chrome=125.0.6422.141)\nStacktrace:\n\tGetHandleVerifier [0x00007FF76BE61F52+60322]\n\t(No symbol) [0x00007FF76BDDCEC9]\n\t(No symbol) [0x00007FF76BC97CE9]\n\t(No symbol) [0x00007FF76BCE89C2]\n\t(No symbol) [0x00007FF76BCDB491]\n\t(No symbol) [0x00007FF76BD0C21A]\n\t(No symbol) [0x00007FF76BCDADB6]\n\t(No symbol) [0x00007FF76BD0C430]\n\t(No symbol) [0x00007FF76BD2BC80]\n\t(No symbol) [0x00007FF76BD0BFC3]\n\t(No symbol) [0x00007FF76BCD9617]\n\t(No symbol) [0x00007FF76BCDA211]\n\tGetHandleVerifier [0x00007FF76C1794AD+3301629]\n\tGetHandleVerifier [0x00007FF76C1C36D3+3605283]\n\tGetHandleVerifier [0x00007FF76C1B9450+3563680]\n\tGetHandleVerifier [0x00007FF76BF14326+790390]\n\t(No symbol) [0x00007FF76BDE750F]\n\t(No symbol) [0x00007FF76BDE3404]\n\t(No symbol) [0x00007FF76BDE3592]\n\t(No symbol) [0x00007FF76BDD2F9F]\n\tBaseThreadInitThunk [0x00007FF834A7257D+29]\n\tRtlUserThreadStart [0x00007FF8358CAA48+40]\n",
     "output_type": "error",
     "traceback": [
      "\u001b[1;31m---------------------------------------------------------------------------\u001b[0m",
      "\u001b[1;31mElementNotInteractableException\u001b[0m           Traceback (most recent call last)",
      "Cell \u001b[1;32mIn[118], line 6\u001b[0m\n\u001b[0;32m      2\u001b[0m page \u001b[38;5;241m=\u001b[39m driver\u001b[38;5;241m.\u001b[39mfind_element(\n\u001b[0;32m      3\u001b[0m By\u001b[38;5;241m.\u001b[39mXPATH, \u001b[38;5;124mf\u001b[39m\u001b[38;5;124m'\u001b[39m\u001b[38;5;124m//*[@id=\u001b[39m\u001b[38;5;124m\"\u001b[39m\u001b[38;5;124mnewbg_body\u001b[39m\u001b[38;5;124m\"\u001b[39m\u001b[38;5;124m]/div[3]/ul/li[\u001b[39m\u001b[38;5;132;01m{\u001b[39;00mp\u001b[38;5;132;01m}\u001b[39;00m\u001b[38;5;124m]\u001b[39m\u001b[38;5;124m'\u001b[39m\n\u001b[0;32m      4\u001b[0m )\n\u001b[0;32m      5\u001b[0m \u001b[38;5;28mprint\u001b[39m(page\u001b[38;5;241m.\u001b[39mtext)   \u001b[38;5;66;03m# 진행상황 파악하기\u001b[39;00m\n\u001b[1;32m----> 6\u001b[0m page\u001b[38;5;241m.\u001b[39mclick()\n",
      "File \u001b[1;32m~\\AppData\\Roaming\\Python\\Python311\\site-packages\\selenium\\webdriver\\remote\\webelement.py:94\u001b[0m, in \u001b[0;36mWebElement.click\u001b[1;34m(self)\u001b[0m\n\u001b[0;32m     92\u001b[0m \u001b[38;5;28;01mdef\u001b[39;00m \u001b[38;5;21mclick\u001b[39m(\u001b[38;5;28mself\u001b[39m) \u001b[38;5;241m-\u001b[39m\u001b[38;5;241m>\u001b[39m \u001b[38;5;28;01mNone\u001b[39;00m:\n\u001b[0;32m     93\u001b[0m \u001b[38;5;250m    \u001b[39m\u001b[38;5;124;03m\"\"\"Clicks the element.\"\"\"\u001b[39;00m\n\u001b[1;32m---> 94\u001b[0m     \u001b[38;5;28mself\u001b[39m\u001b[38;5;241m.\u001b[39m_execute(Command\u001b[38;5;241m.\u001b[39mCLICK_ELEMENT)\n",
      "File \u001b[1;32m~\\AppData\\Roaming\\Python\\Python311\\site-packages\\selenium\\webdriver\\remote\\webelement.py:395\u001b[0m, in \u001b[0;36mWebElement._execute\u001b[1;34m(self, command, params)\u001b[0m\n\u001b[0;32m    393\u001b[0m     params \u001b[38;5;241m=\u001b[39m {}\n\u001b[0;32m    394\u001b[0m params[\u001b[38;5;124m\"\u001b[39m\u001b[38;5;124mid\u001b[39m\u001b[38;5;124m\"\u001b[39m] \u001b[38;5;241m=\u001b[39m \u001b[38;5;28mself\u001b[39m\u001b[38;5;241m.\u001b[39m_id\n\u001b[1;32m--> 395\u001b[0m \u001b[38;5;28;01mreturn\u001b[39;00m \u001b[38;5;28mself\u001b[39m\u001b[38;5;241m.\u001b[39m_parent\u001b[38;5;241m.\u001b[39mexecute(command, params)\n",
      "File \u001b[1;32m~\\AppData\\Roaming\\Python\\Python311\\site-packages\\selenium\\webdriver\\remote\\webdriver.py:347\u001b[0m, in \u001b[0;36mWebDriver.execute\u001b[1;34m(self, driver_command, params)\u001b[0m\n\u001b[0;32m    345\u001b[0m response \u001b[38;5;241m=\u001b[39m \u001b[38;5;28mself\u001b[39m\u001b[38;5;241m.\u001b[39mcommand_executor\u001b[38;5;241m.\u001b[39mexecute(driver_command, params)\n\u001b[0;32m    346\u001b[0m \u001b[38;5;28;01mif\u001b[39;00m response:\n\u001b[1;32m--> 347\u001b[0m     \u001b[38;5;28mself\u001b[39m\u001b[38;5;241m.\u001b[39merror_handler\u001b[38;5;241m.\u001b[39mcheck_response(response)\n\u001b[0;32m    348\u001b[0m     response[\u001b[38;5;124m\"\u001b[39m\u001b[38;5;124mvalue\u001b[39m\u001b[38;5;124m\"\u001b[39m] \u001b[38;5;241m=\u001b[39m \u001b[38;5;28mself\u001b[39m\u001b[38;5;241m.\u001b[39m_unwrap_value(response\u001b[38;5;241m.\u001b[39mget(\u001b[38;5;124m\"\u001b[39m\u001b[38;5;124mvalue\u001b[39m\u001b[38;5;124m\"\u001b[39m, \u001b[38;5;28;01mNone\u001b[39;00m))\n\u001b[0;32m    349\u001b[0m     \u001b[38;5;28;01mreturn\u001b[39;00m response\n",
      "File \u001b[1;32m~\\AppData\\Roaming\\Python\\Python311\\site-packages\\selenium\\webdriver\\remote\\errorhandler.py:229\u001b[0m, in \u001b[0;36mErrorHandler.check_response\u001b[1;34m(self, response)\u001b[0m\n\u001b[0;32m    227\u001b[0m         alert_text \u001b[38;5;241m=\u001b[39m value[\u001b[38;5;124m\"\u001b[39m\u001b[38;5;124malert\u001b[39m\u001b[38;5;124m\"\u001b[39m]\u001b[38;5;241m.\u001b[39mget(\u001b[38;5;124m\"\u001b[39m\u001b[38;5;124mtext\u001b[39m\u001b[38;5;124m\"\u001b[39m)\n\u001b[0;32m    228\u001b[0m     \u001b[38;5;28;01mraise\u001b[39;00m exception_class(message, screen, stacktrace, alert_text)  \u001b[38;5;66;03m# type: ignore[call-arg]  # mypy is not smart enough here\u001b[39;00m\n\u001b[1;32m--> 229\u001b[0m \u001b[38;5;28;01mraise\u001b[39;00m exception_class(message, screen, stacktrace)\n",
      "\u001b[1;31mElementNotInteractableException\u001b[0m: Message: element not interactable\n  (Session info: chrome=125.0.6422.141)\nStacktrace:\n\tGetHandleVerifier [0x00007FF76BE61F52+60322]\n\t(No symbol) [0x00007FF76BDDCEC9]\n\t(No symbol) [0x00007FF76BC97CE9]\n\t(No symbol) [0x00007FF76BCE89C2]\n\t(No symbol) [0x00007FF76BCDB491]\n\t(No symbol) [0x00007FF76BD0C21A]\n\t(No symbol) [0x00007FF76BCDADB6]\n\t(No symbol) [0x00007FF76BD0C430]\n\t(No symbol) [0x00007FF76BD2BC80]\n\t(No symbol) [0x00007FF76BD0BFC3]\n\t(No symbol) [0x00007FF76BCD9617]\n\t(No symbol) [0x00007FF76BCDA211]\n\tGetHandleVerifier [0x00007FF76C1794AD+3301629]\n\tGetHandleVerifier [0x00007FF76C1C36D3+3605283]\n\tGetHandleVerifier [0x00007FF76C1B9450+3563680]\n\tGetHandleVerifier [0x00007FF76BF14326+790390]\n\t(No symbol) [0x00007FF76BDE750F]\n\t(No symbol) [0x00007FF76BDE3404]\n\t(No symbol) [0x00007FF76BDE3592]\n\t(No symbol) [0x00007FF76BDD2F9F]\n\tBaseThreadInitThunk [0x00007FF834A7257D+29]\n\tRtlUserThreadStart [0x00007FF8358CAA48+40]\n"
     ]
    }
   ],
   "source": [
    "# 451위에서 ~ 501위~로 페이지를 넘길때는 .click() 만으론 안되고 _button 부분을 추가해야 error가 나지 않는다.\n",
    "for p in range(2,22):\n",
    "    page = driver.find_element(\n",
    "        By.XPATH, f'//*[@id=\"newbg_body\"]/div[3]/ul/li[{p}]'\n",
    "    )\n",
    "    print(page.text)   # 진행상황 파악하기  1위 눌를때 1위 print\n",
    "    page.click() # 클릭후 해당페이지 넘어갈때까지 로딩."
   ]
  },
  {
   "cell_type": "code",
   "execution_count": 122,
   "id": "2b064a91",
   "metadata": {},
   "outputs": [],
   "source": [
    "driver.switch_to.window(driver.window_handles[-1])"
   ]
  },
  {
   "cell_type": "code",
   "execution_count": 123,
   "id": "3d738944",
   "metadata": {
    "scrolled": true
   },
   "outputs": [
    {
     "name": "stdout",
     "output_type": "stream",
     "text": [
      "1위\n",
      "51위\n",
      "101위\n",
      "151위\n",
      "201위\n",
      "251위\n",
      "301위\n",
      "351위\n",
      "401위\n",
      "451위\n",
      "501위\n",
      "551위\n",
      "601위\n",
      "651위\n",
      "701위\n",
      "751위\n",
      "801위\n",
      "851위\n",
      "901위\n",
      "951위\n"
     ]
    }
   ],
   "source": [
    "for p in range(2,22):\n",
    "    page = driver.find_element(\n",
    "        By.XPATH, f'//*[@id=\"newbg_body\"]/div[3]/ul/li[{p}]'\n",
    "    )\n",
    "    \n",
    "    # next_button 를 클릭하는 함수 \n",
    "    if not page.is_displayed():                     # 디스플레이 페이지가 없을때.\n",
    "        next_button = driver.find_element(                        # 페이지가 빈페이지 부분을 > 클릭 부분\n",
    "            By.XPATH, '//*[@id=\"newbg_body\"]/div[3]/ul/li[22]'\n",
    "        )\n",
    "        next_button.click()\n",
    "    \n",
    "    print(page.text)   # 진행상황 파악하기  1위 눌를때 1위 print\n",
    "    page.click() # 클릭후 해당페이지 넘어갈때까지 로딩.\n",
    "    # 여기부분에 크롤링 관련 코드 추가"
   ]
  },
  {
   "cell_type": "markdown",
   "id": "39f2da24",
   "metadata": {},
   "source": [
    "### 위코드에서  \n",
    "여기부분에 크롤링 관련 코드 추가  \n",
    "1. for문 반복문 위에 코드 추가 page = 1~20까지 반복\n",
    "2. a페이지 보여주고 1위~ b페이지 51위~ c페이지 101위~ ~~~~~~~ 쭉 20까지 반복  \n",
    "위에 꺼 아님?  \n",
    ">> 3. 1위~ 전체 페이지랑 선재는~ 이거 같이 나오게?"
   ]
  },
  {
   "cell_type": "code",
   "execution_count": null,
   "id": "26535dad",
   "metadata": {},
   "outputs": [],
   "source": [
    "# #@! 내가 해보기"
   ]
  },
  {
   "cell_type": "code",
   "execution_count": 16,
   "id": "784c13e1",
   "metadata": {},
   "outputs": [
    {
     "name": "stdout",
     "output_type": "stream",
     "text": [
      "1위\n",
      "51위\n",
      "101위\n",
      "151위\n",
      "201위\n",
      "251위\n",
      "301위\n",
      "351위\n",
      "401위\n",
      "451위\n",
      "501위\n",
      "551위\n",
      "601위\n",
      "651위\n",
      "701위\n",
      "751위\n",
      "801위\n",
      "851위\n",
      "901위\n",
      "951위\n"
     ]
    }
   ],
   "source": [
    "urls = []\n",
    "\n",
    "for p in range(2,22):\n",
    "    page = driver.find_element(\n",
    "        By.XPATH, f'//*[@id=\"newbg_body\"]/div[3]/ul/li[{p}]'\n",
    "    )\n",
    "    \n",
    "    # next_button 를 클릭하는 함수 \n",
    "    if not page.is_displayed():                     # 디스플레이 페이지가 없을때.\n",
    "        next_button = driver.find_element(                        # 페이지가 빈페이지 부분을 > 클릭 부분\n",
    "            By.XPATH, '//*[@id=\"newbg_body\"]/div[3]/ul/li[22]'\n",
    "        )\n",
    "        next_button.click()\n",
    "    \n",
    "    print(page.text)   # 진행상황 파악하기  1위 눌를때 1위 print\n",
    "    page.click() # 클릭후 해당페이지 넘어갈때까지 로딩.\n",
    "    # 여기부분에 크롤링 관련 코드 추가\n",
    "    for book_num in range(3,53):\n",
    "        try:                       # 행사 정보가 있는 경우\n",
    "            u = driver.find_element(         # url 부분 파싱 부분 확인\n",
    "                By.XPATH, \n",
    "                f'//*[@id=\"Myform\"]/div[{book_num}]/table/tbody/tr/td[3]/table/tbody/tr[1]/td[1]/div[1]/ul/li[2]/a[1]'\n",
    "            ).get_attribute('href')\n",
    "        except:\n",
    "            pass"
   ]
  },
  {
   "cell_type": "code",
   "execution_count": null,
   "id": "ef7e07ff",
   "metadata": {},
   "outputs": [],
   "source": []
  },
  {
   "cell_type": "markdown",
   "id": "e3613e99",
   "metadata": {},
   "source": [
    "## 강사님 코드 주석 추가"
   ]
  },
  {
   "cell_type": "code",
   "execution_count": null,
   "id": "4665e032",
   "metadata": {},
   "outputs": [],
   "source": [
    "# #@! 코드 강사님이 준다함.\n",
    "from selenium import webdriver # 셀레니움 패키지 부르고\n",
    "from selenium.webdriver.common.by import By\n",
    "import pandas as pd            # 판다스 패키지 부르고\n",
    "\n",
    "# 드라이버 get url 해서 접속한다\n",
    "driver = webdriver.Chrome()\n",
    "url = 'https://www.aladin.co.kr/shop/common/wbest.aspx?BranchType=1'\n",
    "driver.get(url)\n",
    "\n",
    "# star_check 함수 부분\n",
    "def star_check(book_num, promo):\n",
    "    try:\n",
    "        x = driver.find_element(\n",
    "            By.XPATH,\n",
    "            f'//*[@id=\"Myform\"]/div[{book_num}]/table/tbody/tr/td[3]/table/tbody/tr[1]/td[1]/div[1]/ul/li[{promo}]/span'\n",
    "        ).text\n",
    "        \n",
    "        return x\n",
    "    \n",
    "    except:\n",
    "        return float('nan')\n",
    "\n",
    "# get_genre 함수 : 장르 구하는 코드랑 같다\n",
    "def get_genre(urls):  \n",
    "    genre = []   # 장르 리스트\n",
    "    \n",
    "    for u in urls:         # 받는것은 urls 정보만 받으면 된다\n",
    "        driver.execute_script(f'''window.open(\"{u}\",\"_blank\");''') # input url 리스트       \n",
    "\n",
    "        # 맨 마지막에 열린 탭으로 이동\n",
    "        driver.switch_to.window(driver.window_handles[-1])\n",
    "\n",
    "        g = driver.find_element(By.XPATH, '//*[@id=\"ulCategory\"]').text # output 장르 리스트 text화 해준다\n",
    "        genre.append(g)\n",
    "\n",
    "        driver.close() \n",
    "\n",
    "        # 맨 마지막에 열린 탭으로 이동\n",
    "        driver.switch_to.window(driver.window_handles[-1])\n",
    "        \n",
    "    return genre # return 장르 리스트 만든다\n",
    "\n",
    "# get_genre 함수 : 장르 구하는 코드랑 같다\n",
    "# 받는것은 urls 정보만 받으면 된다\n",
    "# return 장르 리스트 만들고 input url리스트 output 장르 리스트\n",
    "\n",
    "# next_page(p) 함수\n",
    "def next_page(p):  # 2~22\n",
    "    xpath = '//*[@id=\"newbg_body\"]/div[3]/ul' \n",
    "    page = driver.find_element(\n",
    "        By.XPATH, xpath + f'/li[{p}]') # input 페이지 넘버 # 2~22\n",
    "    \n",
    "    # output 없는대신 해당 페이지를 click 한다.\n",
    "    if not page.is_displayed(): \n",
    "        next_button = driver.find_element(By.XPATH, xpath + f'/li[22]')\n",
    "        next_button.click()\n",
    "        \n",
    "    print(page.text) # test 확인\n",
    "    page.click()\n",
    "\n",
    "\n",
    "# next_page(p) 함수\n",
    "# input 페이지 넘버 # 2~22\n",
    "# output 없는대신 해당 페이지를 click 한다.\n",
    "\n",
    "# 3~52\n",
    "result = pd.DataFrame()\n",
    "\n",
    "#page_num 3~22 페이지 넘버\n",
    "for page_num in range(3,22):\n",
    "    book_name = []\n",
    "    book_price = []\n",
    "    discount_price = []\n",
    "    star_rate = []\n",
    "    urls = []\n",
    "\n",
    "# 안에 다시 for book_num (3,53): 페이지안에 도서목록 부분\n",
    "    for book_num in range(3,53):\n",
    "        xpath = f'//*[@id=\"Myform\"]/div[{book_num}]/table/tbody/tr/td[3]/table/tbody/tr[1]/td[1]/div[1]/ul/'\n",
    "        \n",
    "# try 행사정보가 있는 경우\n",
    "        try:  # 행사 정보가 있는 경우        \n",
    "            driver.find_element(By.XPATH, xpath + 'li[2]/a[1]/b')\n",
    "            promo = 1                      # 해당 element를 찾으(find)면 promo 1\n",
    "        except: promo = 0                # 해당 element를 못 찾으(find)면 promo 0\n",
    "        \n",
    "        # x : name(title(이름)), u : url(경로) p : price(가격) d : discount_price(할인가격), s : star(별점)\n",
    "        x = driver.find_element(By.XPATH, xpath + f'li[{1+promo}]/a[1]/b').text        \n",
    "        u = driver.find_element(By.XPATH, xpath + f'li[{1+promo}]/a[1]').get_attribute('href')\n",
    "        p = driver.find_element(By.XPATH, xpath + f'li[{3+promo}]/span[1]').text\n",
    "        d = driver.find_element(By.XPATH, xpath + f'li[{3+promo}]/span[2]/b/span').text\n",
    "        s = star_check(book_num, 4+promo)            \n",
    "            \n",
    "        # 다 append (= 통째로 append 도 가능 하다.)    \n",
    "        book_name.append(x)\n",
    "        book_price.append(p)\n",
    "        discount_price.append(d)\n",
    "        star_rate.append(s)\n",
    "        urls.append(u)\n",
    "        \n",
    "    genre = get_genre(urls)    # genre : genre(장르) = 겟장르 urls     \n",
    "    # 데이터프레임에 적재할 변수를 만든다\n",
    "    temp = pd.DataFrame([book_name, book_price, discount_price, star_rate, urls, genre])\n",
    "    # result에 콘캣을 해준다 그냥 만들면 한줄이 나온다 \n",
    "    result = pd.concat([result, temp], axis=0)\n",
    "    next_page(page_num)          # num가 50개 차면 다음 페이지 넘기기\n",
    "\n",
    "# result df(DataFrame)의 컬럼명을 지정한다. (단, 열column기준이아니고 행row 기준)\n",
    "result.index = ['name', 'price', 'discount_price', 'star', 'url', 'genre']\n",
    "result = result.T  # df의 열을 행으로 돌린다 .T  \n",
    "\n",
    "# 해당 element를 find 면 promo 1 아니면 0\n",
    "# x : u p d s : 별점\n",
    "# 다 append = 통째로 append 해도 된다.\n",
    "# 장르정보 겟장르 urls \n",
    "# 데이터프레임에 적재할 변수를 만든다\n",
    "\n",
    "# result에 콘캣을 해준다 그냥 만들면 한줄이 나와서 다 붙이고 돌리면 된다. .T\n"
   ]
  },
  {
   "cell_type": "code",
   "execution_count": 1,
   "id": "bcfa57ad",
   "metadata": {
    "scrolled": true
   },
   "outputs": [
    {
     "name": "stdout",
     "output_type": "stream",
     "text": [
      "51위\n",
      "101위\n",
      "151위\n",
      "201위\n",
      "251위\n",
      "301위\n",
      "351위\n",
      "401위\n",
      "451위\n",
      "501위\n",
      "551위\n",
      "601위\n"
     ]
    },
    {
     "ename": "UnexpectedAlertPresentException",
     "evalue": "Alert Text: 19세 이상만 이용할 수 있는 상품입니다. 로그인해주세요.\nMessage: unexpected alert open: {Alert text : 19세 이상만 이용할 수 있는 상품입니다. 로그인해주세요.}\n  (Session info: chrome=125.0.6422.141)\nStacktrace:\n\tGetHandleVerifier [0x00007FF76BE61F52+60322]\n\t(No symbol) [0x00007FF76BDDCEC9]\n\t(No symbol) [0x00007FF76BC97EBA]\n\t(No symbol) [0x00007FF76BCA5E99]\n\t(No symbol) [0x00007FF76BCAB67A]\n\t(No symbol) [0x00007FF76BC7F33A]\n\t(No symbol) [0x00007FF76BCA584F]\n\t(No symbol) [0x00007FF76BD2BB5B]\n\t(No symbol) [0x00007FF76BD0BFC3]\n\t(No symbol) [0x00007FF76BCD9617]\n\t(No symbol) [0x00007FF76BCDA211]\n\tGetHandleVerifier [0x00007FF76C1794AD+3301629]\n\tGetHandleVerifier [0x00007FF76C1C36D3+3605283]\n\tGetHandleVerifier [0x00007FF76C1B9450+3563680]\n\tGetHandleVerifier [0x00007FF76BF14326+790390]\n\t(No symbol) [0x00007FF76BDE750F]\n\t(No symbol) [0x00007FF76BDE3404]\n\t(No symbol) [0x00007FF76BDE3592]\n\t(No symbol) [0x00007FF76BDD2F9F]\n\tBaseThreadInitThunk [0x00007FF834A7257D+29]\n\tRtlUserThreadStart [0x00007FF8358CAA48+40]\n",
     "output_type": "error",
     "traceback": [
      "\u001b[1;31m---------------------------------------------------------------------------\u001b[0m",
      "\u001b[1;31mUnexpectedAlertPresentException\u001b[0m           Traceback (most recent call last)",
      "Cell \u001b[1;32mIn[1], line 98\u001b[0m\n\u001b[0;32m     95\u001b[0m     urls\u001b[38;5;241m.\u001b[39mappend(u)\n\u001b[0;32m     97\u001b[0m \u001b[38;5;66;03m# #@!\u001b[39;00m\n\u001b[1;32m---> 98\u001b[0m genre \u001b[38;5;241m=\u001b[39m get_genre(urls)        \n\u001b[0;32m     99\u001b[0m temp \u001b[38;5;241m=\u001b[39m pd\u001b[38;5;241m.\u001b[39mDataFrame([book_name, book_price, discount_price, star_rate, urls, genre])\n\u001b[0;32m    100\u001b[0m result \u001b[38;5;241m=\u001b[39m pd\u001b[38;5;241m.\u001b[39mconcat([result, temp], axis\u001b[38;5;241m=\u001b[39m\u001b[38;5;241m0\u001b[39m)\n",
      "Cell \u001b[1;32mIn[1], line 40\u001b[0m, in \u001b[0;36mget_genre\u001b[1;34m(urls)\u001b[0m\n\u001b[0;32m     37\u001b[0m \u001b[38;5;66;03m# 맨 마지막에 열린 탭으로 이동\u001b[39;00m\n\u001b[0;32m     38\u001b[0m driver\u001b[38;5;241m.\u001b[39mswitch_to\u001b[38;5;241m.\u001b[39mwindow(driver\u001b[38;5;241m.\u001b[39mwindow_handles[\u001b[38;5;241m-\u001b[39m\u001b[38;5;241m1\u001b[39m])\n\u001b[1;32m---> 40\u001b[0m driver\u001b[38;5;241m.\u001b[39mfind_element(\n\u001b[0;32m     41\u001b[0m     By\u001b[38;5;241m.\u001b[39mXPATH,\n\u001b[0;32m     42\u001b[0m     \u001b[38;5;124mf\u001b[39m\u001b[38;5;124m'\u001b[39m\u001b[38;5;124m//*[@id=\u001b[39m\u001b[38;5;124m\"\u001b[39m\u001b[38;5;124mulCategory\u001b[39m\u001b[38;5;124m\"\u001b[39m\u001b[38;5;124m]/li\u001b[39m\u001b[38;5;124m'\u001b[39m\n\u001b[0;32m     43\u001b[0m )\n\u001b[0;32m     45\u001b[0m \u001b[38;5;66;03m# 겟어트리뷰트랑 src 하면 해당 이미지 뷰가 나온다.\u001b[39;00m\n\u001b[0;32m     46\u001b[0m \u001b[38;5;66;03m#img_d.get_attribute('src')\u001b[39;00m\n\u001b[0;32m     48\u001b[0m driver\u001b[38;5;241m.\u001b[39mclose()\n",
      "File \u001b[1;32m~\\AppData\\Roaming\\Python\\Python311\\site-packages\\selenium\\webdriver\\remote\\webdriver.py:741\u001b[0m, in \u001b[0;36mWebDriver.find_element\u001b[1;34m(self, by, value)\u001b[0m\n\u001b[0;32m    738\u001b[0m     by \u001b[38;5;241m=\u001b[39m By\u001b[38;5;241m.\u001b[39mCSS_SELECTOR\n\u001b[0;32m    739\u001b[0m     value \u001b[38;5;241m=\u001b[39m \u001b[38;5;124mf\u001b[39m\u001b[38;5;124m'\u001b[39m\u001b[38;5;124m[name=\u001b[39m\u001b[38;5;124m\"\u001b[39m\u001b[38;5;132;01m{\u001b[39;00mvalue\u001b[38;5;132;01m}\u001b[39;00m\u001b[38;5;124m\"\u001b[39m\u001b[38;5;124m]\u001b[39m\u001b[38;5;124m'\u001b[39m\n\u001b[1;32m--> 741\u001b[0m \u001b[38;5;28;01mreturn\u001b[39;00m \u001b[38;5;28mself\u001b[39m\u001b[38;5;241m.\u001b[39mexecute(Command\u001b[38;5;241m.\u001b[39mFIND_ELEMENT, {\u001b[38;5;124m\"\u001b[39m\u001b[38;5;124musing\u001b[39m\u001b[38;5;124m\"\u001b[39m: by, \u001b[38;5;124m\"\u001b[39m\u001b[38;5;124mvalue\u001b[39m\u001b[38;5;124m\"\u001b[39m: value})[\u001b[38;5;124m\"\u001b[39m\u001b[38;5;124mvalue\u001b[39m\u001b[38;5;124m\"\u001b[39m]\n",
      "File \u001b[1;32m~\\AppData\\Roaming\\Python\\Python311\\site-packages\\selenium\\webdriver\\remote\\webdriver.py:347\u001b[0m, in \u001b[0;36mWebDriver.execute\u001b[1;34m(self, driver_command, params)\u001b[0m\n\u001b[0;32m    345\u001b[0m response \u001b[38;5;241m=\u001b[39m \u001b[38;5;28mself\u001b[39m\u001b[38;5;241m.\u001b[39mcommand_executor\u001b[38;5;241m.\u001b[39mexecute(driver_command, params)\n\u001b[0;32m    346\u001b[0m \u001b[38;5;28;01mif\u001b[39;00m response:\n\u001b[1;32m--> 347\u001b[0m     \u001b[38;5;28mself\u001b[39m\u001b[38;5;241m.\u001b[39merror_handler\u001b[38;5;241m.\u001b[39mcheck_response(response)\n\u001b[0;32m    348\u001b[0m     response[\u001b[38;5;124m\"\u001b[39m\u001b[38;5;124mvalue\u001b[39m\u001b[38;5;124m\"\u001b[39m] \u001b[38;5;241m=\u001b[39m \u001b[38;5;28mself\u001b[39m\u001b[38;5;241m.\u001b[39m_unwrap_value(response\u001b[38;5;241m.\u001b[39mget(\u001b[38;5;124m\"\u001b[39m\u001b[38;5;124mvalue\u001b[39m\u001b[38;5;124m\"\u001b[39m, \u001b[38;5;28;01mNone\u001b[39;00m))\n\u001b[0;32m    349\u001b[0m     \u001b[38;5;28;01mreturn\u001b[39;00m response\n",
      "File \u001b[1;32m~\\AppData\\Roaming\\Python\\Python311\\site-packages\\selenium\\webdriver\\remote\\errorhandler.py:228\u001b[0m, in \u001b[0;36mErrorHandler.check_response\u001b[1;34m(self, response)\u001b[0m\n\u001b[0;32m    226\u001b[0m     \u001b[38;5;28;01melif\u001b[39;00m \u001b[38;5;124m\"\u001b[39m\u001b[38;5;124malert\u001b[39m\u001b[38;5;124m\"\u001b[39m \u001b[38;5;129;01min\u001b[39;00m value:\n\u001b[0;32m    227\u001b[0m         alert_text \u001b[38;5;241m=\u001b[39m value[\u001b[38;5;124m\"\u001b[39m\u001b[38;5;124malert\u001b[39m\u001b[38;5;124m\"\u001b[39m]\u001b[38;5;241m.\u001b[39mget(\u001b[38;5;124m\"\u001b[39m\u001b[38;5;124mtext\u001b[39m\u001b[38;5;124m\"\u001b[39m)\n\u001b[1;32m--> 228\u001b[0m     \u001b[38;5;28;01mraise\u001b[39;00m exception_class(message, screen, stacktrace, alert_text)  \u001b[38;5;66;03m# type: ignore[call-arg]  # mypy is not smart enough here\u001b[39;00m\n\u001b[0;32m    229\u001b[0m \u001b[38;5;28;01mraise\u001b[39;00m exception_class(message, screen, stacktrace)\n",
      "\u001b[1;31mUnexpectedAlertPresentException\u001b[0m: Alert Text: 19세 이상만 이용할 수 있는 상품입니다. 로그인해주세요.\nMessage: unexpected alert open: {Alert text : 19세 이상만 이용할 수 있는 상품입니다. 로그인해주세요.}\n  (Session info: chrome=125.0.6422.141)\nStacktrace:\n\tGetHandleVerifier [0x00007FF76BE61F52+60322]\n\t(No symbol) [0x00007FF76BDDCEC9]\n\t(No symbol) [0x00007FF76BC97EBA]\n\t(No symbol) [0x00007FF76BCA5E99]\n\t(No symbol) [0x00007FF76BCAB67A]\n\t(No symbol) [0x00007FF76BC7F33A]\n\t(No symbol) [0x00007FF76BCA584F]\n\t(No symbol) [0x00007FF76BD2BB5B]\n\t(No symbol) [0x00007FF76BD0BFC3]\n\t(No symbol) [0x00007FF76BCD9617]\n\t(No symbol) [0x00007FF76BCDA211]\n\tGetHandleVerifier [0x00007FF76C1794AD+3301629]\n\tGetHandleVerifier [0x00007FF76C1C36D3+3605283]\n\tGetHandleVerifier [0x00007FF76C1B9450+3563680]\n\tGetHandleVerifier [0x00007FF76BF14326+790390]\n\t(No symbol) [0x00007FF76BDE750F]\n\t(No symbol) [0x00007FF76BDE3404]\n\t(No symbol) [0x00007FF76BDE3592]\n\t(No symbol) [0x00007FF76BDD2F9F]\n\tBaseThreadInitThunk [0x00007FF834A7257D+29]\n\tRtlUserThreadStart [0x00007FF8358CAA48+40]\n"
     ]
    }
   ],
   "source": [
    "from selenium import webdriver   # 셀레니움 패키지\n",
    "from selenium.webdriver.common.by import By\n",
    "import pandas as pd              # 판다스 패키지 추가\n",
    "\n",
    "driver = webdriver.Chrome()\n",
    "url = 'https://www.aladin.co.kr/shop/common/wbest.aspx?BranchType=1'\n",
    "driver.get(url)\n",
    "\n",
    "def star_check(book_num, promo):\n",
    "    try:\n",
    "        x = driver.find_element(\n",
    "            By.XPATH,\n",
    "            f'//*[@id=\"Myform\"]/div[{book_num}]/table/tbody/tr/td[3]/table/tbody/tr[1]/td[1]/div[1]/ul/li[{promo}]/span'\n",
    "        ).text\n",
    "        \n",
    "        return x\n",
    "    \n",
    "    except:\n",
    "        return float('nan')\n",
    "\n",
    "def get_genre(urls):\n",
    "    genre = []\n",
    "    \n",
    "    for book_num in range(3,53):\n",
    "        u = urls[book_num - 3]\n",
    "\n",
    "        img = driver.find_elements(\n",
    "                By.XPATH,\n",
    "                f'//*[@id=\"Myform\"]/div[{book_num}]/table/tbody/tr/td[2]/table/tbody/tr[1]/td/div[2]/a/img'\n",
    "        )\n",
    "        \n",
    "        if img != []:\n",
    "            genre.append(float('nan'))\n",
    "        else:\n",
    "            driver.execute_script(f'''window.open(\"{u}\",\"_blank\");''')\n",
    "\n",
    "            # 맨 마지막에 열린 탭으로 이동\n",
    "            driver.switch_to.window(driver.window_handles[-1])\n",
    "            \n",
    "            driver.find_element(\n",
    "                By.XPATH,\n",
    "                f'//*[@id=\"ulCategory\"]/li'\n",
    "            )\n",
    "            \n",
    "            # 겟어트리뷰트랑 src 하면 해당 이미지 뷰가 나온다.\n",
    "            #img_d.get_attribute('src')\n",
    "\n",
    "            driver.close()\n",
    "\n",
    "        # 맨 마지막에 열린 탭으로 이동\n",
    "        driver.switch_to.window(driver.window_handles[-1])\n",
    "        \n",
    "    return genre\n",
    "\n",
    "def next_page(p):  # 2~22\n",
    "    xpath = '//*[@id=\"newbg_body\"]/div[3]/ul'\n",
    "    page = driver.find_element(\n",
    "        By.XPATH, xpath + f'/li[{p}]')\n",
    "    \n",
    "    if not page.is_displayed():\n",
    "        next_button = driver.find_element(By.XPATH, xpath + f'/li[22]')\n",
    "        next_button.click()\n",
    "        \n",
    "    print(page.text)\n",
    "    page.click()\n",
    "\n",
    "# 3~52\n",
    "result = pd.DataFrame()\n",
    "\n",
    "for page_num in range(3,22):\n",
    "    book_name = []\n",
    "    book_price = []\n",
    "    discount_price = []\n",
    "    star_rate = []\n",
    "    urls = []\n",
    "    \n",
    "    for book_num in range(3,53):\n",
    "        xpath = f'//*[@id=\"Myform\"]/div[{book_num}]/table/tbody/tr/td[3]/table/tbody/tr[1]/td[1]/div[1]/ul/'\n",
    "\n",
    "        try:  # 행사 정보가 있는 경우        \n",
    "            driver.find_element(By.XPATH, xpath + 'li[2]/a[1]/b')\n",
    "            promo = 1        \n",
    "        except: promo = 0\n",
    "\n",
    "        x = driver.find_element(By.XPATH, xpath + f'li[{1+promo}]/a[1]/b').text        \n",
    "        u = driver.find_element(By.XPATH, xpath + f'li[{1+promo}]/a[1]').get_attribute('href')\n",
    "        p = driver.find_element(By.XPATH, xpath + f'li[{3+promo}]/span[1]').text\n",
    "        d = driver.find_element(By.XPATH, xpath + f'li[{3+promo}]/span[2]/b/span').text\n",
    "        s = star_check(book_num, 4+promo)\n",
    "\n",
    "        book_name.append(x)\n",
    "        book_price.append(p)\n",
    "        discount_price.append(d)\n",
    "        star_rate.append(s)\n",
    "        urls.append(u)\n",
    "    \n",
    "    # #@!\n",
    "    genre = get_genre(urls)        \n",
    "    temp = pd.DataFrame([book_name, book_price, discount_price, star_rate, urls, genre])\n",
    "    result = pd.concat([result, temp], axis=0)\n",
    "    next_page(page_num)\n",
    "    \n",
    "result.index = ['name', 'price', 'discount_price', 'star', 'url', 'genre']\n",
    "result = result.T"
   ]
  },
  {
   "cell_type": "code",
   "execution_count": 15,
   "id": "312a53ee",
   "metadata": {},
   "outputs": [],
   "source": [
    "# 19세 이상만 이용할 수 있는 상품입니다. 로그인해주세요. 에서 문제 발생\n",
    "#\n",
    "# 자동 로그인 keydown() 클릭부분 등 이 있다."
   ]
  },
  {
   "cell_type": "code",
   "execution_count": 3,
   "id": "c6ce5bfb",
   "metadata": {},
   "outputs": [],
   "source": [
    "driver.switch_to.window(driver.window_handles[-1])"
   ]
  },
  {
   "cell_type": "code",
   "execution_count": 10,
   "id": "0990a9b1",
   "metadata": {
    "scrolled": true
   },
   "outputs": [
    {
     "name": "stdout",
     "output_type": "stream",
     "text": [
      "51위\n",
      "101위\n",
      "151위\n",
      "201위\n",
      "251위\n",
      "301위\n",
      "351위\n",
      "401위\n",
      "451위\n",
      "501위\n",
      "551위\n",
      "601위\n"
     ]
    },
    {
     "ename": "UnexpectedAlertPresentException",
     "evalue": "Alert Text: 19세 이상만 이용할 수 있는 상품입니다. 로그인해주세요.\nMessage: unexpected alert open: {Alert text : 19세 이상만 이용할 수 있는 상품입니다. 로그인해주세요.}\n  (Session info: chrome=125.0.6422.141)\nStacktrace:\n\tGetHandleVerifier [0x00007FF76BE61F52+60322]\n\t(No symbol) [0x00007FF76BDDCEC9]\n\t(No symbol) [0x00007FF76BC97EBA]\n\t(No symbol) [0x00007FF76BCA5E99]\n\t(No symbol) [0x00007FF76BCAB67A]\n\t(No symbol) [0x00007FF76BC7F33A]\n\t(No symbol) [0x00007FF76BCA584F]\n\t(No symbol) [0x00007FF76BD2BB5B]\n\t(No symbol) [0x00007FF76BD0BFC3]\n\t(No symbol) [0x00007FF76BCD9617]\n\t(No symbol) [0x00007FF76BCDA211]\n\tGetHandleVerifier [0x00007FF76C1794AD+3301629]\n\tGetHandleVerifier [0x00007FF76C1C36D3+3605283]\n\tGetHandleVerifier [0x00007FF76C1B9450+3563680]\n\tGetHandleVerifier [0x00007FF76BF14326+790390]\n\t(No symbol) [0x00007FF76BDE750F]\n\t(No symbol) [0x00007FF76BDE3404]\n\t(No symbol) [0x00007FF76BDE3592]\n\t(No symbol) [0x00007FF76BDD2F9F]\n\tBaseThreadInitThunk [0x00007FF834A7257D+29]\n\tRtlUserThreadStart [0x00007FF8358CAA48+40]\n",
     "output_type": "error",
     "traceback": [
      "\u001b[1;31m---------------------------------------------------------------------------\u001b[0m",
      "\u001b[1;31mUnexpectedAlertPresentException\u001b[0m           Traceback (most recent call last)",
      "Cell \u001b[1;32mIn[10], line 94\u001b[0m\n\u001b[0;32m     91\u001b[0m     star_rate\u001b[38;5;241m.\u001b[39mappend(s)\n\u001b[0;32m     92\u001b[0m     urls\u001b[38;5;241m.\u001b[39mappend(u)\n\u001b[1;32m---> 94\u001b[0m genre \u001b[38;5;241m=\u001b[39m get_genre(urls)        \n\u001b[0;32m     95\u001b[0m temp \u001b[38;5;241m=\u001b[39m pd\u001b[38;5;241m.\u001b[39mDataFrame([book_name, book_price, discount_price, star_rate, urls, genre])\n\u001b[0;32m     96\u001b[0m result \u001b[38;5;241m=\u001b[39m pd\u001b[38;5;241m.\u001b[39mconcat([result, temp], axis\u001b[38;5;241m=\u001b[39m\u001b[38;5;241m0\u001b[39m)\n",
      "Cell \u001b[1;32mIn[10], line 40\u001b[0m, in \u001b[0;36mget_genre\u001b[1;34m(urls)\u001b[0m\n\u001b[0;32m     37\u001b[0m     \u001b[38;5;66;03m# 맨 마지막에 열린 탭으로 이동\u001b[39;00m\n\u001b[0;32m     38\u001b[0m     driver\u001b[38;5;241m.\u001b[39mswitch_to\u001b[38;5;241m.\u001b[39mwindow(driver\u001b[38;5;241m.\u001b[39mwindow_handles[\u001b[38;5;241m-\u001b[39m\u001b[38;5;241m1\u001b[39m])\n\u001b[1;32m---> 40\u001b[0m     driver\u001b[38;5;241m.\u001b[39mfind_element(\n\u001b[0;32m     41\u001b[0m         By\u001b[38;5;241m.\u001b[39mXPATH,\n\u001b[0;32m     42\u001b[0m         \u001b[38;5;124mf\u001b[39m\u001b[38;5;124m'\u001b[39m\u001b[38;5;124m//*[@id=\u001b[39m\u001b[38;5;124m\"\u001b[39m\u001b[38;5;124mulCategory\u001b[39m\u001b[38;5;124m\"\u001b[39m\u001b[38;5;124m]/li\u001b[39m\u001b[38;5;124m'\u001b[39m\n\u001b[0;32m     43\u001b[0m     )\n\u001b[0;32m     45\u001b[0m     driver\u001b[38;5;241m.\u001b[39mclose()\n\u001b[0;32m     47\u001b[0m \u001b[38;5;66;03m# 맨 마지막에 열린 탭으로 이동\u001b[39;00m\n",
      "File \u001b[1;32m~\\AppData\\Roaming\\Python\\Python311\\site-packages\\selenium\\webdriver\\remote\\webdriver.py:741\u001b[0m, in \u001b[0;36mWebDriver.find_element\u001b[1;34m(self, by, value)\u001b[0m\n\u001b[0;32m    738\u001b[0m     by \u001b[38;5;241m=\u001b[39m By\u001b[38;5;241m.\u001b[39mCSS_SELECTOR\n\u001b[0;32m    739\u001b[0m     value \u001b[38;5;241m=\u001b[39m \u001b[38;5;124mf\u001b[39m\u001b[38;5;124m'\u001b[39m\u001b[38;5;124m[name=\u001b[39m\u001b[38;5;124m\"\u001b[39m\u001b[38;5;132;01m{\u001b[39;00mvalue\u001b[38;5;132;01m}\u001b[39;00m\u001b[38;5;124m\"\u001b[39m\u001b[38;5;124m]\u001b[39m\u001b[38;5;124m'\u001b[39m\n\u001b[1;32m--> 741\u001b[0m \u001b[38;5;28;01mreturn\u001b[39;00m \u001b[38;5;28mself\u001b[39m\u001b[38;5;241m.\u001b[39mexecute(Command\u001b[38;5;241m.\u001b[39mFIND_ELEMENT, {\u001b[38;5;124m\"\u001b[39m\u001b[38;5;124musing\u001b[39m\u001b[38;5;124m\"\u001b[39m: by, \u001b[38;5;124m\"\u001b[39m\u001b[38;5;124mvalue\u001b[39m\u001b[38;5;124m\"\u001b[39m: value})[\u001b[38;5;124m\"\u001b[39m\u001b[38;5;124mvalue\u001b[39m\u001b[38;5;124m\"\u001b[39m]\n",
      "File \u001b[1;32m~\\AppData\\Roaming\\Python\\Python311\\site-packages\\selenium\\webdriver\\remote\\webdriver.py:347\u001b[0m, in \u001b[0;36mWebDriver.execute\u001b[1;34m(self, driver_command, params)\u001b[0m\n\u001b[0;32m    345\u001b[0m response \u001b[38;5;241m=\u001b[39m \u001b[38;5;28mself\u001b[39m\u001b[38;5;241m.\u001b[39mcommand_executor\u001b[38;5;241m.\u001b[39mexecute(driver_command, params)\n\u001b[0;32m    346\u001b[0m \u001b[38;5;28;01mif\u001b[39;00m response:\n\u001b[1;32m--> 347\u001b[0m     \u001b[38;5;28mself\u001b[39m\u001b[38;5;241m.\u001b[39merror_handler\u001b[38;5;241m.\u001b[39mcheck_response(response)\n\u001b[0;32m    348\u001b[0m     response[\u001b[38;5;124m\"\u001b[39m\u001b[38;5;124mvalue\u001b[39m\u001b[38;5;124m\"\u001b[39m] \u001b[38;5;241m=\u001b[39m \u001b[38;5;28mself\u001b[39m\u001b[38;5;241m.\u001b[39m_unwrap_value(response\u001b[38;5;241m.\u001b[39mget(\u001b[38;5;124m\"\u001b[39m\u001b[38;5;124mvalue\u001b[39m\u001b[38;5;124m\"\u001b[39m, \u001b[38;5;28;01mNone\u001b[39;00m))\n\u001b[0;32m    349\u001b[0m     \u001b[38;5;28;01mreturn\u001b[39;00m response\n",
      "File \u001b[1;32m~\\AppData\\Roaming\\Python\\Python311\\site-packages\\selenium\\webdriver\\remote\\errorhandler.py:228\u001b[0m, in \u001b[0;36mErrorHandler.check_response\u001b[1;34m(self, response)\u001b[0m\n\u001b[0;32m    226\u001b[0m     \u001b[38;5;28;01melif\u001b[39;00m \u001b[38;5;124m\"\u001b[39m\u001b[38;5;124malert\u001b[39m\u001b[38;5;124m\"\u001b[39m \u001b[38;5;129;01min\u001b[39;00m value:\n\u001b[0;32m    227\u001b[0m         alert_text \u001b[38;5;241m=\u001b[39m value[\u001b[38;5;124m\"\u001b[39m\u001b[38;5;124malert\u001b[39m\u001b[38;5;124m\"\u001b[39m]\u001b[38;5;241m.\u001b[39mget(\u001b[38;5;124m\"\u001b[39m\u001b[38;5;124mtext\u001b[39m\u001b[38;5;124m\"\u001b[39m)\n\u001b[1;32m--> 228\u001b[0m     \u001b[38;5;28;01mraise\u001b[39;00m exception_class(message, screen, stacktrace, alert_text)  \u001b[38;5;66;03m# type: ignore[call-arg]  # mypy is not smart enough here\u001b[39;00m\n\u001b[0;32m    229\u001b[0m \u001b[38;5;28;01mraise\u001b[39;00m exception_class(message, screen, stacktrace)\n",
      "\u001b[1;31mUnexpectedAlertPresentException\u001b[0m: Alert Text: 19세 이상만 이용할 수 있는 상품입니다. 로그인해주세요.\nMessage: unexpected alert open: {Alert text : 19세 이상만 이용할 수 있는 상품입니다. 로그인해주세요.}\n  (Session info: chrome=125.0.6422.141)\nStacktrace:\n\tGetHandleVerifier [0x00007FF76BE61F52+60322]\n\t(No symbol) [0x00007FF76BDDCEC9]\n\t(No symbol) [0x00007FF76BC97EBA]\n\t(No symbol) [0x00007FF76BCA5E99]\n\t(No symbol) [0x00007FF76BCAB67A]\n\t(No symbol) [0x00007FF76BC7F33A]\n\t(No symbol) [0x00007FF76BCA584F]\n\t(No symbol) [0x00007FF76BD2BB5B]\n\t(No symbol) [0x00007FF76BD0BFC3]\n\t(No symbol) [0x00007FF76BCD9617]\n\t(No symbol) [0x00007FF76BCDA211]\n\tGetHandleVerifier [0x00007FF76C1794AD+3301629]\n\tGetHandleVerifier [0x00007FF76C1C36D3+3605283]\n\tGetHandleVerifier [0x00007FF76C1B9450+3563680]\n\tGetHandleVerifier [0x00007FF76BF14326+790390]\n\t(No symbol) [0x00007FF76BDE750F]\n\t(No symbol) [0x00007FF76BDE3404]\n\t(No symbol) [0x00007FF76BDE3592]\n\t(No symbol) [0x00007FF76BDD2F9F]\n\tBaseThreadInitThunk [0x00007FF834A7257D+29]\n\tRtlUserThreadStart [0x00007FF8358CAA48+40]\n"
     ]
    }
   ],
   "source": [
    "from selenium import webdriver  \n",
    "from selenium.webdriver.common.by import By\n",
    "import pandas as pd              \n",
    "\n",
    "driver = webdriver.Chrome()\n",
    "url = 'https://www.aladin.co.kr/shop/common/wbest.aspx?BranchType=1'\n",
    "driver.get(url)\n",
    "\n",
    "def star_check(book_num, promo):\n",
    "    try:\n",
    "        x = driver.find_element(\n",
    "            By.XPATH,\n",
    "            f'//*[@id=\"Myform\"]/div[{book_num}]/table/tbody/tr/td[3]/table/tbody/tr[1]/td[1]/div[1]/ul/li[{promo}]/span'\n",
    "        ).text\n",
    "        \n",
    "        return x\n",
    "    \n",
    "    except:\n",
    "        return float('nan')\n",
    "\n",
    "def get_genre(urls):\n",
    "    genre = []\n",
    "    \n",
    "    for book_num in range(3,53):\n",
    "        u = urls[book_num - 3]\n",
    "\n",
    "        img = driver.find_elements(\n",
    "                By.XPATH,\n",
    "                f'//*[@id=\"Myform\"]/div[{book_num}]/table/tbody/tr/td[2]/table/tbody/tr[1]/td/div[2]/a/img'\n",
    "        )\n",
    "        \n",
    "        if img != []:\n",
    "            genre.append(float('nan'))\n",
    "        else:\n",
    "            driver.execute_script(f'''window.open(\"{u}\",\"_blank\");''')\n",
    "\n",
    "            # 맨 마지막에 열린 탭으로 이동\n",
    "            driver.switch_to.window(driver.window_handles[-1])\n",
    "            \n",
    "            # #@!\n",
    "            driver.find_element(\n",
    "                By.XPATH,\n",
    "                f'//*[@id=\"ulCategory\"]/li'\n",
    "            )\n",
    "            \n",
    "            driver.close()\n",
    "\n",
    "        # 맨 마지막에 열린 탭으로 이동\n",
    "        driver.switch_to.window(driver.window_handles[-1])\n",
    "        \n",
    "    return genre\n",
    "\n",
    "def next_page(p):  # 2~22\n",
    "    xpath = '//*[@id=\"newbg_body\"]/div[3]/ul'\n",
    "    page = driver.find_element(\n",
    "        By.XPATH, xpath + f'/li[{p}]')\n",
    "    \n",
    "    if not page.is_displayed():\n",
    "        next_button = driver.find_element(By.XPATH, xpath + f'/li[22]')\n",
    "        next_button.click()\n",
    "        \n",
    "    print(page.text)\n",
    "    page.click()\n",
    "\n",
    "# 3~52\n",
    "result = pd.DataFrame()\n",
    "\n",
    "for page_num in range(3,22):\n",
    "    book_name = []\n",
    "    book_price = []\n",
    "    discount_price = []\n",
    "    star_rate = []\n",
    "    urls = []\n",
    "    \n",
    "    for book_num in range(3,53):\n",
    "        xpath = f'//*[@id=\"Myform\"]/div[{book_num}]/table/tbody/tr/td[3]/table/tbody/tr[1]/td[1]/div[1]/ul/'\n",
    "\n",
    "        try:  # 행사 정보가 있는 경우        \n",
    "            driver.find_element(By.XPATH, xpath + 'li[2]/a[1]/b')\n",
    "            promo = 1        \n",
    "        except: promo = 0\n",
    "\n",
    "        x = driver.find_element(By.XPATH, xpath + f'li[{1+promo}]/a[1]/b').text        \n",
    "        u = driver.find_element(By.XPATH, xpath + f'li[{1+promo}]/a[1]').get_attribute('href')\n",
    "        p = driver.find_element(By.XPATH, xpath + f'li[{3+promo}]/span[1]').text\n",
    "        d = driver.find_element(By.XPATH, xpath + f'li[{3+promo}]/span[2]/b/span').text\n",
    "        s = star_check(book_num, 4+promo)\n",
    "\n",
    "        book_name.append(x)\n",
    "        book_price.append(p)\n",
    "        discount_price.append(d)\n",
    "        star_rate.append(s)\n",
    "        urls.append(u)\n",
    "    \n",
    "    genre = get_genre(urls)        \n",
    "    temp = pd.DataFrame([book_name, book_price, discount_price, star_rate, urls, genre])\n",
    "    result = pd.concat([result, temp], axis=0)\n",
    "    next_page(page_num)\n",
    "    \n",
    "result.index = ['name', 'price', 'discount_price', 'star', 'url', 'genre']\n",
    "result = result.T"
   ]
  },
  {
   "cell_type": "markdown",
   "id": "7db8affd",
   "metadata": {},
   "source": [
    "#### 1. 해당 page url 에서 login 한다"
   ]
  },
  {
   "cell_type": "code",
   "execution_count": 13,
   "id": "47e3bb53",
   "metadata": {},
   "outputs": [],
   "source": [
    "from selenium import webdriver  \n",
    "from selenium.webdriver.common.by import By\n",
    "import pandas as pd              \n",
    "\n",
    "driver = webdriver.Chrome()\n",
    "url = 'https://www.aladin.co.kr/shop/common/wbest.aspx?BranchType=1'\n",
    "driver.get(url)"
   ]
  },
  {
   "cell_type": "markdown",
   "id": "864f036a",
   "metadata": {},
   "source": [
    "#### 2. 소스를 돌린다. ( 로그인을 하면 19금 인증이 자동으로 되서 19금 페이지가 넘어간다 )  \n",
    "\n",
    "79번줄 에서 에러나는데 DataFrame 문제인듯.. 따로 Index는 잘 돌아감 _ 240603"
   ]
  },
  {
   "cell_type": "code",
   "execution_count": null,
   "id": "67ac094b",
   "metadata": {},
   "outputs": [],
   "source": [
    "def star_check(book_num, promo):\n",
    "    try:\n",
    "        x = driver.find_element(\n",
    "            By.XPATH,\n",
    "            f'//*[@id=\"Myform\"]/div[{book_num}]/table/tbody/tr/td[3]/table/tbody/tr[1]/td[1]/div[1]/ul/li[{promo}]/span'\n",
    "        ).text\n",
    "        \n",
    "        return x\n",
    "    \n",
    "    except:\n",
    "        return float('nan')\n",
    "\n",
    "def get_genre(urls):\n",
    "    genre = []\n",
    "    \n",
    "    for u in urls:\n",
    "        driver.execute_script(f'''window.open(\"{u}\",\"_blank\");''')\n",
    "\n",
    "        # 맨 마지막에 열린 탭으로 이동\n",
    "        driver.switch_to.window(driver.window_handles[-1])\n",
    "\n",
    "        g = driver.find_element(By.XPATH, '//*[@id=\"ulCategory\"]').text\n",
    "        genre.append(g)\n",
    "\n",
    "        driver.close()\n",
    "\n",
    "        # 맨 마지막에 열린 탭으로 이동\n",
    "        driver.switch_to.window(driver.window_handles[-1])\n",
    "        \n",
    "    return genre\n",
    "\n",
    "def next_page(p):  # 2~22\n",
    "    xpath = '//*[@id=\"newbg_body\"]/div[3]/ul'\n",
    "    page = driver.find_element(\n",
    "        By.XPATH, xpath + f'/li[{p}]')\n",
    "    \n",
    "    if not page.is_displayed():\n",
    "        next_button = driver.find_element(By.XPATH, xpath + f'/li[22]')\n",
    "        next_button.click()\n",
    "        \n",
    "    print(page.text)\n",
    "    page.click()\n",
    "\n",
    "# 3~52\n",
    "result = pd.DataFrame()\n",
    "\n",
    "for page_num in range(3,22):\n",
    "    book_name = []\n",
    "    book_price = []\n",
    "    discount_price = []\n",
    "    star_rate = []\n",
    "    urls = []\n",
    "    \n",
    "    for book_num in range(3,53):\n",
    "        xpath = f'//*[@id=\"Myform\"]/div[{book_num}]/table/tbody/tr/td[3]/table/tbody/tr[1]/td[1]/div[1]/ul/'\n",
    "\n",
    "        try:  # 행사 정보가 있는 경우        \n",
    "            driver.find_element(By.XPATH, xpath + 'li[2]/a[1]/b')\n",
    "            promo = 1        \n",
    "        except: promo = 0\n",
    "\n",
    "        x = driver.find_element(By.XPATH, xpath + f'li[{1+promo}]/a[1]/b').text        \n",
    "        u = driver.find_element(By.XPATH, xpath + f'li[{1+promo}]/a[1]').get_attribute('href')\n",
    "        p = driver.find_element(By.XPATH, xpath + f'li[{3+promo}]/span[1]').text\n",
    "        d = driver.find_element(By.XPATH, xpath + f'li[{3+promo}]/span[2]/b/span').text\n",
    "        s = star_check(book_num, 4+promo)\n",
    "\n",
    "        book_name.append(x)\n",
    "        book_price.append(p)\n",
    "        discount_price.append(d)\n",
    "        star_rate.append(s)\n",
    "        urls.append(u)\n",
    "\n",
    "    genre = get_genre(urls)        \n",
    "    temp = pd.DataFrame([book_name, book_price, discount_price, star_rate, urls, genre])\n",
    "    result = pd.concat([result, temp], axis=0)\n",
    "    next_page(page_num)\n",
    "    \n",
    "result.index = ['name', 'price', 'discount_price', 'star', 'url', 'genre']\n",
    "result = result.T"
   ]
  },
  {
   "cell_type": "code",
   "execution_count": 14,
   "id": "62ada9a9",
   "metadata": {},
   "outputs": [
    {
     "name": "stdout",
     "output_type": "stream",
     "text": [
      "51위\n",
      "101위\n"
     ]
    },
    {
     "ename": "ElementClickInterceptedException",
     "evalue": "Message: element click intercepted: Element <li class=\"naviRank\" style=\"padding:0 12px;\">...</li> is not clickable at point (369, 458). Other element would receive the click: <a href=\"https://www.aladin.co.kr/shop/wbrowse.aspx?CID=90846\" class=\"cate1\">...</a>\n  (Session info: chrome=125.0.6422.141)\nStacktrace:\n\tGetHandleVerifier [0x00007FF76BE61F52+60322]\n\t(No symbol) [0x00007FF76BDDCEC9]\n\t(No symbol) [0x00007FF76BC97EBA]\n\t(No symbol) [0x00007FF76BCEF32E]\n\t(No symbol) [0x00007FF76BCECCF2]\n\t(No symbol) [0x00007FF76BCEA18B]\n\t(No symbol) [0x00007FF76BCE9356]\n\t(No symbol) [0x00007FF76BCDB491]\n\t(No symbol) [0x00007FF76BD0C21A]\n\t(No symbol) [0x00007FF76BCDADB6]\n\t(No symbol) [0x00007FF76BD0C430]\n\t(No symbol) [0x00007FF76BD2BC80]\n\t(No symbol) [0x00007FF76BD0BFC3]\n\t(No symbol) [0x00007FF76BCD9617]\n\t(No symbol) [0x00007FF76BCDA211]\n\tGetHandleVerifier [0x00007FF76C1794AD+3301629]\n\tGetHandleVerifier [0x00007FF76C1C36D3+3605283]\n\tGetHandleVerifier [0x00007FF76C1B9450+3563680]\n\tGetHandleVerifier [0x00007FF76BF14326+790390]\n\t(No symbol) [0x00007FF76BDE750F]\n\t(No symbol) [0x00007FF76BDE3404]\n\t(No symbol) [0x00007FF76BDE3592]\n\t(No symbol) [0x00007FF76BDD2F9F]\n\tBaseThreadInitThunk [0x00007FF834A7257D+29]\n\tRtlUserThreadStart [0x00007FF8358CAA48+40]\n",
     "output_type": "error",
     "traceback": [
      "\u001b[1;31m---------------------------------------------------------------------------\u001b[0m",
      "\u001b[1;31mElementClickInterceptedException\u001b[0m          Traceback (most recent call last)",
      "Cell \u001b[1;32mIn[14], line 34\u001b[0m\n\u001b[0;32m     32\u001b[0m     temp \u001b[38;5;241m=\u001b[39m pd\u001b[38;5;241m.\u001b[39mDataFrame([book_name, book_price, discount_price, star_rate, urls, genre])\n\u001b[0;32m     33\u001b[0m     result \u001b[38;5;241m=\u001b[39m pd\u001b[38;5;241m.\u001b[39mconcat([result, temp], axis\u001b[38;5;241m=\u001b[39m\u001b[38;5;241m0\u001b[39m)\n\u001b[1;32m---> 34\u001b[0m     next_page(page_num)\n\u001b[0;32m     36\u001b[0m result\u001b[38;5;241m.\u001b[39mindex \u001b[38;5;241m=\u001b[39m [\u001b[38;5;124m'\u001b[39m\u001b[38;5;124mname\u001b[39m\u001b[38;5;124m'\u001b[39m, \u001b[38;5;124m'\u001b[39m\u001b[38;5;124mprice\u001b[39m\u001b[38;5;124m'\u001b[39m, \u001b[38;5;124m'\u001b[39m\u001b[38;5;124mdiscount_price\u001b[39m\u001b[38;5;124m'\u001b[39m, \u001b[38;5;124m'\u001b[39m\u001b[38;5;124mstar\u001b[39m\u001b[38;5;124m'\u001b[39m, \u001b[38;5;124m'\u001b[39m\u001b[38;5;124murl\u001b[39m\u001b[38;5;124m'\u001b[39m, \u001b[38;5;124m'\u001b[39m\u001b[38;5;124mgenre\u001b[39m\u001b[38;5;124m'\u001b[39m]\n\u001b[0;32m     37\u001b[0m result \u001b[38;5;241m=\u001b[39m result\u001b[38;5;241m.\u001b[39mT\n",
      "Cell \u001b[1;32mIn[10], line 62\u001b[0m, in \u001b[0;36mnext_page\u001b[1;34m(p)\u001b[0m\n\u001b[0;32m     59\u001b[0m     next_button\u001b[38;5;241m.\u001b[39mclick()\n\u001b[0;32m     61\u001b[0m \u001b[38;5;28mprint\u001b[39m(page\u001b[38;5;241m.\u001b[39mtext)\n\u001b[1;32m---> 62\u001b[0m page\u001b[38;5;241m.\u001b[39mclick()\n",
      "File \u001b[1;32m~\\AppData\\Roaming\\Python\\Python311\\site-packages\\selenium\\webdriver\\remote\\webelement.py:94\u001b[0m, in \u001b[0;36mWebElement.click\u001b[1;34m(self)\u001b[0m\n\u001b[0;32m     92\u001b[0m \u001b[38;5;28;01mdef\u001b[39;00m \u001b[38;5;21mclick\u001b[39m(\u001b[38;5;28mself\u001b[39m) \u001b[38;5;241m-\u001b[39m\u001b[38;5;241m>\u001b[39m \u001b[38;5;28;01mNone\u001b[39;00m:\n\u001b[0;32m     93\u001b[0m \u001b[38;5;250m    \u001b[39m\u001b[38;5;124;03m\"\"\"Clicks the element.\"\"\"\u001b[39;00m\n\u001b[1;32m---> 94\u001b[0m     \u001b[38;5;28mself\u001b[39m\u001b[38;5;241m.\u001b[39m_execute(Command\u001b[38;5;241m.\u001b[39mCLICK_ELEMENT)\n",
      "File \u001b[1;32m~\\AppData\\Roaming\\Python\\Python311\\site-packages\\selenium\\webdriver\\remote\\webelement.py:395\u001b[0m, in \u001b[0;36mWebElement._execute\u001b[1;34m(self, command, params)\u001b[0m\n\u001b[0;32m    393\u001b[0m     params \u001b[38;5;241m=\u001b[39m {}\n\u001b[0;32m    394\u001b[0m params[\u001b[38;5;124m\"\u001b[39m\u001b[38;5;124mid\u001b[39m\u001b[38;5;124m\"\u001b[39m] \u001b[38;5;241m=\u001b[39m \u001b[38;5;28mself\u001b[39m\u001b[38;5;241m.\u001b[39m_id\n\u001b[1;32m--> 395\u001b[0m \u001b[38;5;28;01mreturn\u001b[39;00m \u001b[38;5;28mself\u001b[39m\u001b[38;5;241m.\u001b[39m_parent\u001b[38;5;241m.\u001b[39mexecute(command, params)\n",
      "File \u001b[1;32m~\\AppData\\Roaming\\Python\\Python311\\site-packages\\selenium\\webdriver\\remote\\webdriver.py:347\u001b[0m, in \u001b[0;36mWebDriver.execute\u001b[1;34m(self, driver_command, params)\u001b[0m\n\u001b[0;32m    345\u001b[0m response \u001b[38;5;241m=\u001b[39m \u001b[38;5;28mself\u001b[39m\u001b[38;5;241m.\u001b[39mcommand_executor\u001b[38;5;241m.\u001b[39mexecute(driver_command, params)\n\u001b[0;32m    346\u001b[0m \u001b[38;5;28;01mif\u001b[39;00m response:\n\u001b[1;32m--> 347\u001b[0m     \u001b[38;5;28mself\u001b[39m\u001b[38;5;241m.\u001b[39merror_handler\u001b[38;5;241m.\u001b[39mcheck_response(response)\n\u001b[0;32m    348\u001b[0m     response[\u001b[38;5;124m\"\u001b[39m\u001b[38;5;124mvalue\u001b[39m\u001b[38;5;124m\"\u001b[39m] \u001b[38;5;241m=\u001b[39m \u001b[38;5;28mself\u001b[39m\u001b[38;5;241m.\u001b[39m_unwrap_value(response\u001b[38;5;241m.\u001b[39mget(\u001b[38;5;124m\"\u001b[39m\u001b[38;5;124mvalue\u001b[39m\u001b[38;5;124m\"\u001b[39m, \u001b[38;5;28;01mNone\u001b[39;00m))\n\u001b[0;32m    349\u001b[0m     \u001b[38;5;28;01mreturn\u001b[39;00m response\n",
      "File \u001b[1;32m~\\AppData\\Roaming\\Python\\Python311\\site-packages\\selenium\\webdriver\\remote\\errorhandler.py:229\u001b[0m, in \u001b[0;36mErrorHandler.check_response\u001b[1;34m(self, response)\u001b[0m\n\u001b[0;32m    227\u001b[0m         alert_text \u001b[38;5;241m=\u001b[39m value[\u001b[38;5;124m\"\u001b[39m\u001b[38;5;124malert\u001b[39m\u001b[38;5;124m\"\u001b[39m]\u001b[38;5;241m.\u001b[39mget(\u001b[38;5;124m\"\u001b[39m\u001b[38;5;124mtext\u001b[39m\u001b[38;5;124m\"\u001b[39m)\n\u001b[0;32m    228\u001b[0m     \u001b[38;5;28;01mraise\u001b[39;00m exception_class(message, screen, stacktrace, alert_text)  \u001b[38;5;66;03m# type: ignore[call-arg]  # mypy is not smart enough here\u001b[39;00m\n\u001b[1;32m--> 229\u001b[0m \u001b[38;5;28;01mraise\u001b[39;00m exception_class(message, screen, stacktrace)\n",
      "\u001b[1;31mElementClickInterceptedException\u001b[0m: Message: element click intercepted: Element <li class=\"naviRank\" style=\"padding:0 12px;\">...</li> is not clickable at point (369, 458). Other element would receive the click: <a href=\"https://www.aladin.co.kr/shop/wbrowse.aspx?CID=90846\" class=\"cate1\">...</a>\n  (Session info: chrome=125.0.6422.141)\nStacktrace:\n\tGetHandleVerifier [0x00007FF76BE61F52+60322]\n\t(No symbol) [0x00007FF76BDDCEC9]\n\t(No symbol) [0x00007FF76BC97EBA]\n\t(No symbol) [0x00007FF76BCEF32E]\n\t(No symbol) [0x00007FF76BCECCF2]\n\t(No symbol) [0x00007FF76BCEA18B]\n\t(No symbol) [0x00007FF76BCE9356]\n\t(No symbol) [0x00007FF76BCDB491]\n\t(No symbol) [0x00007FF76BD0C21A]\n\t(No symbol) [0x00007FF76BCDADB6]\n\t(No symbol) [0x00007FF76BD0C430]\n\t(No symbol) [0x00007FF76BD2BC80]\n\t(No symbol) [0x00007FF76BD0BFC3]\n\t(No symbol) [0x00007FF76BCD9617]\n\t(No symbol) [0x00007FF76BCDA211]\n\tGetHandleVerifier [0x00007FF76C1794AD+3301629]\n\tGetHandleVerifier [0x00007FF76C1C36D3+3605283]\n\tGetHandleVerifier [0x00007FF76C1B9450+3563680]\n\tGetHandleVerifier [0x00007FF76BF14326+790390]\n\t(No symbol) [0x00007FF76BDE750F]\n\t(No symbol) [0x00007FF76BDE3404]\n\t(No symbol) [0x00007FF76BDE3592]\n\t(No symbol) [0x00007FF76BDD2F9F]\n\tBaseThreadInitThunk [0x00007FF834A7257D+29]\n\tRtlUserThreadStart [0x00007FF8358CAA48+40]\n"
     ]
    }
   ],
   "source": [
    "# 3~52 DF 부분만 돌리려는데 여기도 xpath 부분있어서 Fail\n",
    "result = pd.DataFrame()\n",
    "\n",
    "for page_num in range(3,22):\n",
    "    book_name = []\n",
    "    book_price = []\n",
    "    discount_price = []\n",
    "    star_rate = []\n",
    "    urls = []\n",
    "    \n",
    "    for book_num in range(3,53): # 페이지 넘어가는 부분\n",
    "        xpath = f'//*[@id=\"Myform\"]/div[{book_num}]/table/tbody/tr/td[3]/table/tbody/tr[1]/td[1]/div[1]/ul/'\n",
    "\n",
    "        try:  # 행사 정보가 있는 경우        \n",
    "            driver.find_element(By.XPATH, xpath + 'li[2]/a[1]/b')\n",
    "            promo = 1        \n",
    "        except: promo = 0\n",
    "\n",
    "        x = driver.find_element(By.XPATH, xpath + f'li[{1+promo}]/a[1]/b').text        \n",
    "        u = driver.find_element(By.XPATH, xpath + f'li[{1+promo}]/a[1]').get_attribute('href')\n",
    "        p = driver.find_element(By.XPATH, xpath + f'li[{3+promo}]/span[1]').text\n",
    "        d = driver.find_element(By.XPATH, xpath + f'li[{3+promo}]/span[2]/b/span').text\n",
    "        s = star_check(book_num, 4+promo)\n",
    "\n",
    "        book_name.append(x)\n",
    "        book_price.append(p)\n",
    "        discount_price.append(d)\n",
    "        star_rate.append(s)\n",
    "        urls.append(u)\n",
    "\n",
    "    genre = get_genre(urls)        \n",
    "    temp = pd.DataFrame([book_name, book_price, discount_price, star_rate, urls, genre])\n",
    "    result = pd.concat([result, temp], axis=0)\n",
    "    next_page(page_num)\n",
    "    \n",
    "result.index = ['name', 'price', 'discount_price', 'star', 'url', 'genre']\n",
    "result = result.T"
   ]
  },
  {
   "cell_type": "code",
   "execution_count": null,
   "id": "bf6411b2",
   "metadata": {},
   "outputs": [],
   "source": []
  }
 ],
 "metadata": {
  "kernelspec": {
   "display_name": "Python 3 (ipykernel)",
   "language": "python",
   "name": "python3"
  },
  "language_info": {
   "codemirror_mode": {
    "name": "ipython",
    "version": 3
   },
   "file_extension": ".py",
   "mimetype": "text/x-python",
   "name": "python",
   "nbconvert_exporter": "python",
   "pygments_lexer": "ipython3",
   "version": "3.11.7"
  }
 },
 "nbformat": 4,
 "nbformat_minor": 5
}
